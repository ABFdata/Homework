{
 "cells": [
  {
   "cell_type": "markdown",
   "metadata": {},
   "source": [
    "# Step 4 - Climate App"
   ]
  },
  {
   "cell_type": "code",
   "execution_count": null,
   "metadata": {
    "collapsed": true
   },
   "outputs": [],
   "source": [
    "import warnings\n",
    "warnings.filterwarnings('ignore')"
   ]
  },
  {
   "cell_type": "code",
   "execution_count": null,
   "metadata": {
    "collapsed": true
   },
   "outputs": [],
   "source": [
    "# read back measurement able to see if data was appended to hawaii.sqlite\n",
    "df = pd.read_sql(\"SELECT * FROM measurement\", conn)\n",
    "\n",
    "# drop column id in df. Note: axis=1 denotes that we are referring to a column, not a row\n",
    "measurement_df = df.drop('id', axis=1)\n",
    "\n",
    "# drop duplicates\n",
    "measurement_clean = measurement_drop_index.drop_duplicates()\n",
    "measurement_clean.head()\n",
    "measurement_clean.tail()\n",
    "measurement_clean.shape"
   ]
  }
 ],
 "metadata": {
  "kernelspec": {
   "display_name": "Python 3",
   "language": "python",
   "name": "python3"
  },
  "language_info": {
   "codemirror_mode": {
    "name": "ipython",
    "version": 3
   },
   "file_extension": ".py",
   "mimetype": "text/x-python",
   "name": "python",
   "nbconvert_exporter": "python",
   "pygments_lexer": "ipython3",
   "version": "3.6.4"
  }
 },
 "nbformat": 4,
 "nbformat_minor": 2
}
