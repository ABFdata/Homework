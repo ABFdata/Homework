{
 "cells": [
  {
   "cell_type": "markdown",
   "metadata": {},
   "source": [
    "# Step 3 - Climate Analysis and Exploration"
   ]
  },
  {
   "cell_type": "markdown",
   "metadata": {},
   "source": [
    "You are now ready to use Python and SQLAlchemy to do basic climate analysis and data exploration on your new weather station tables. All of the following analysis should be completed using SQLAlchemy ORM queries, Pandas, and Matplotlib.\n",
    "\n",
    "* Create a Jupyter Notebook file called climate_analysis.ipynb and use it to complete your climate analysis and data exporation.\n",
    "\n",
    "* Choose a start date and end date for your trip. Make sure that your vacation range is approximately 3-15 days total.\n",
    "\n",
    "* Use SQLAlchemy create_engine to connect to your sqlite database.\n",
    "\n",
    "* Use SQLAlchemy automap_base() to reflect your tables into classes and save a reference to those classes called Station and Measurement."
   ]
  },
  {
   "cell_type": "code",
   "execution_count": 1,
   "metadata": {},
   "outputs": [
    {
     "name": "stdout",
     "output_type": "stream",
     "text": [
      "height has been deprecated.\n",
      "\n"
     ]
    }
   ],
   "source": [
    "# import dependencies \n",
    "import pandas as pd\n",
    "import numpy as np\n",
    "import matplotlib.pyplot as plt\n",
    "%matplotlib inline\n",
    "import seaborn as sns\n",
    "import warnings\n",
    "warnings.filterwarnings('ignore')\n",
    "pd.set_option('display.height', 1000)\n",
    "pd.set_option('display.max_rows', 100)\n",
    "pd.set_option('display.max_columns', 100)\n",
    "pd.set_option('display.width', 1000)\n",
    "\n",
    "# display multiple print results on one line\n",
    "from IPython.core.interactiveshell import InteractiveShell\n",
    "InteractiveShell.ast_node_interactivity = \"all\"\n",
    "\n",
    "# expands .describe with more info about the data set\n",
    "import pandas_profiling\n",
    "\n",
    "# sqlalchemy dependencies\n",
    "import sqlalchemy\n",
    "from sqlalchemy.ext.automap import automap_base\n",
    "from sqlalchemy.orm import Session\n",
    "from sqlalchemy import create_engine\n",
    "from sqlalchemy import func\n",
    "\n",
    "from sqlalchemy.ext.declarative import declarative_base\n",
    "from sqlalchemy import Column, Integer, String, Float, Text\n",
    "\n",
    "# PyMySQL \n",
    "import pymysql\n",
    "pymysql.install_as_MySQLdb()\n",
    "\n",
    "# flask \n",
    "from flask import Flask, jsonify"
   ]
  },
  {
   "cell_type": "code",
   "execution_count": null,
   "metadata": {
    "collapsed": true
   },
   "outputs": [],
   "source": [
    "# choose start date and end date for my trip\n",
    "# Friday 2018-08-17 - Thu 2018-08-22"
   ]
  },
  {
   "cell_type": "code",
   "execution_count": 2,
   "metadata": {
    "collapsed": true
   },
   "outputs": [],
   "source": [
    "# Use SQLAlchemy create_engine to connect to my sqlite database\n",
    "\n",
    "engine = create_engine(\"sqlite:///hawaii.sqlite\", echo=False)\n",
    "conn = engine.connect()"
   ]
  },
  {
   "cell_type": "code",
   "execution_count": 3,
   "metadata": {
    "collapsed": true
   },
   "outputs": [],
   "source": [
    "# Use SQLAlchemy automap_base() to refelct tables into classes and save a reference to those classes\n",
    "# called Station and Measurement\n",
    "Base = automap_base()"
   ]
  },
  {
   "cell_type": "code",
   "execution_count": 4,
   "metadata": {
    "collapsed": true
   },
   "outputs": [],
   "source": [
    "# use the base class to reflect the database tables\n",
    "Base.prepare(engine, reflect=True)"
   ]
  },
  {
   "cell_type": "code",
   "execution_count": 5,
   "metadata": {},
   "outputs": [
    {
     "data": {
      "text/plain": [
       "['measurement', 'station']"
      ]
     },
     "execution_count": 5,
     "metadata": {},
     "output_type": "execute_result"
    }
   ],
   "source": [
    "# print all of the classes mapped to the Base\n",
    "Base.classes.keys()"
   ]
  },
  {
   "cell_type": "code",
   "execution_count": 6,
   "metadata": {
    "collapsed": true
   },
   "outputs": [],
   "source": [
    "# assign measurement and station classes to variables\n",
    "Measurement = Base.classes.measurement\n",
    "Station = Base.classes.station"
   ]
  },
  {
   "cell_type": "code",
   "execution_count": 7,
   "metadata": {
    "collapsed": true
   },
   "outputs": [],
   "source": [
    "# create a session\n",
    "# a session means that you want to do something to your data\n",
    "session = Session(engine)"
   ]
  },
  {
   "cell_type": "code",
   "execution_count": 8,
   "metadata": {},
   "outputs": [
    {
     "data": {
      "text/plain": [
       "{'_sa_instance_state': <sqlalchemy.orm.state.InstanceState at 0x113b49a58>,\n",
       " 'date': '2010-01-01',\n",
       " 'id': 1,\n",
       " 'prcp': 0.08,\n",
       " 'station': 'USC00519397',\n",
       " 'tobs': 65.0}"
      ]
     },
     "execution_count": 8,
     "metadata": {},
     "output_type": "execute_result"
    }
   ],
   "source": [
    "# Display the row's columns and data in dict format\n",
    "first_row = session.query(Measurement).first()\n",
    "first_row.__dict__"
   ]
  },
  {
   "cell_type": "code",
   "execution_count": 9,
   "metadata": {},
   "outputs": [
    {
     "data": {
      "text/plain": [
       "{'_sa_instance_state': <sqlalchemy.orm.state.InstanceState at 0x113b58320>,\n",
       " 'elevation': 3.0,\n",
       " 'id': 1,\n",
       " 'latitude': 21.2716,\n",
       " 'longitude': -157.8168,\n",
       " 'name': 'WAIKIKI 717.2, HI US',\n",
       " 'station': 'USC00519397'}"
      ]
     },
     "execution_count": 9,
     "metadata": {},
     "output_type": "execute_result"
    }
   ],
   "source": [
    "# Display the row's columns and data in dict format\n",
    "first_row = session.query(Station).first()\n",
    "first_row.__dict__"
   ]
  },
  {
   "cell_type": "markdown",
   "metadata": {},
   "source": [
    "# Precipitation Analysis\n",
    "\n",
    "* Design a query to retrieve the last 12 months of precipitation data.\n",
    "\n",
    "* Select only the date and prcp values.\n",
    "\n",
    "* Load the query results into a Pandas DataFrame and set the index to the date column.\n",
    "\n",
    "* Plot the results using the DataFrame plot method.\n",
    "\n"
   ]
  },
  {
   "cell_type": "code",
   "execution_count": 10,
   "metadata": {
    "scrolled": false
   },
   "outputs": [
    {
     "name": "stdout",
     "output_type": "stream",
     "text": [
      "('2016-08-23', 0.0, 'USC00519397', 'WAIKIKI 717.2, HI US')\n",
      "('2016-08-23', 0.0, 'USC00519397', 'KANEOHE 838.1, HI US')\n",
      "('2016-08-23', 0.0, 'USC00519397', 'KUALOA RANCH HEADQUARTERS 886.9, HI US')\n",
      "('2016-08-23', 0.0, 'USC00519397', 'PEARL CITY, HI US')\n",
      "('2016-08-23', 0.0, 'USC00519397', 'UPPER WAHIAWA 874.3, HI US')\n",
      "('2016-08-23', 0.0, 'USC00519397', 'WAIMANALO EXPERIMENTAL FARM, HI US')\n",
      "('2016-08-23', 0.0, 'USC00519397', 'WAIHEE 837.5, HI US')\n",
      "('2016-08-23', 0.0, 'USC00519397', 'HONOLULU OBSERVATORY 702.2, HI US')\n",
      "('2016-08-23', 0.0, 'USC00519397', 'MANOA LYON ARBO 785.2, HI US')\n",
      "('2016-08-24', 0.08, 'USC00519397', 'WAIKIKI 717.2, HI US')\n"
     ]
    }
   ],
   "source": [
    "# Design a query to retrieve the last 12 months of precipitation data\n",
    "# precipitation data is found in Measurement\n",
    "# select only the date and prcp values\n",
    "# last 12 months: 2017-08-23 - 2016-08-23\n",
    "\n",
    "for row in session.query(Measurement.date, Measurement.prcp, Measurement.station, Station.name).filter(Measurement.date <= '2017-08-23').\\\n",
    "filter(Measurement.date >= '2016-08-23').limit(10):\n",
    "    print (row)                                                                       "
   ]
  },
  {
   "cell_type": "code",
   "execution_count": 11,
   "metadata": {
    "collapsed": true
   },
   "outputs": [],
   "source": [
    "# store results into variable to load into a pandas dataframe\n",
    "\n",
    "results = session.query(Measurement.date, Measurement.prcp).filter(Measurement.date <= '2017-08-23').\\\n",
    "filter(Measurement.date >= '2016-08-23').\\\n",
    "order_by(Measurement.date.desc()).all()\n",
    "# results"
   ]
  },
  {
   "cell_type": "code",
   "execution_count": 12,
   "metadata": {
    "collapsed": true
   },
   "outputs": [],
   "source": [
    "# unpack date and prcp to plot in matplotlib using list comprehension [:] selects everything in the list\n",
    "date = [result[0] for result in results[:]]\n",
    "prcp = [result[1] for result in results[:]]\n",
    "# station = [result[2] for result in results[:]]\n",
    "# name = [result[3] for result in results[:]]"
   ]
  },
  {
   "cell_type": "code",
   "execution_count": 13,
   "metadata": {},
   "outputs": [
    {
     "data": {
      "text/plain": [
       "(2021, 2)"
      ]
     },
     "execution_count": 13,
     "metadata": {},
     "output_type": "execute_result"
    }
   ],
   "source": [
    "# load results into pandas df\n",
    "results_df = pd.DataFrame(results[:], columns =['date', 'prcp'])\n",
    "# results_df.set_index('date', inplace=True)\n",
    "results_df.shape\n",
    "\n",
    "# I changed the index to 'date', but could not convert date to a datetime for plotting"
   ]
  },
  {
   "cell_type": "code",
   "execution_count": null,
   "metadata": {
    "collapsed": true
   },
   "outputs": [],
   "source": [
    "# results_df.to_csv('results_check_dups2.csv', index=False)"
   ]
  },
  {
   "cell_type": "code",
   "execution_count": 14,
   "metadata": {},
   "outputs": [
    {
     "data": {
      "text/plain": [
       "date     object\n",
       "prcp    float64\n",
       "dtype: object"
      ]
     },
     "execution_count": 14,
     "metadata": {},
     "output_type": "execute_result"
    }
   ],
   "source": [
    "# checks data types for results_df\n",
    "results_df.dtypes"
   ]
  },
  {
   "cell_type": "code",
   "execution_count": 15,
   "metadata": {
    "collapsed": true
   },
   "outputs": [],
   "source": [
    "# convert 'date' to datetime\n",
    "results_df['date'] = pd.to_datetime(results_df.date)"
   ]
  },
  {
   "cell_type": "code",
   "execution_count": 16,
   "metadata": {},
   "outputs": [
    {
     "data": {
      "text/plain": [
       "date    datetime64[ns]\n",
       "prcp           float64\n",
       "dtype: object"
      ]
     },
     "execution_count": 16,
     "metadata": {},
     "output_type": "execute_result"
    }
   ],
   "source": [
    "# check data types for results_df again to make sure date changed to datetime\n",
    "results_df.dtypes"
   ]
  },
  {
   "cell_type": "markdown",
   "metadata": {},
   "source": [
    "# Plot with matplotlib"
   ]
  },
  {
   "cell_type": "code",
   "execution_count": 17,
   "metadata": {
    "collapsed": true
   },
   "outputs": [],
   "source": [
    "import datetime\n",
    "import matplotlib.dates as mdates"
   ]
  },
  {
   "cell_type": "code",
   "execution_count": null,
   "metadata": {
    "collapsed": true
   },
   "outputs": [],
   "source": [
    "# results_df.to_csv('results_df2.csv', index=False)"
   ]
  },
  {
   "cell_type": "code",
   "execution_count": 18,
   "metadata": {},
   "outputs": [
    {
     "data": {
      "text/html": [
       "<div>\n",
       "<style>\n",
       "    .dataframe thead tr:only-child th {\n",
       "        text-align: right;\n",
       "    }\n",
       "\n",
       "    .dataframe thead th {\n",
       "        text-align: left;\n",
       "    }\n",
       "\n",
       "    .dataframe tbody tr th {\n",
       "        vertical-align: top;\n",
       "    }\n",
       "</style>\n",
       "<table border=\"1\" class=\"dataframe\">\n",
       "  <thead>\n",
       "    <tr style=\"text-align: right;\">\n",
       "      <th></th>\n",
       "      <th>prcp</th>\n",
       "    </tr>\n",
       "    <tr>\n",
       "      <th>date</th>\n",
       "      <th></th>\n",
       "    </tr>\n",
       "  </thead>\n",
       "  <tbody>\n",
       "    <tr>\n",
       "      <th>2017-08-23</th>\n",
       "      <td>0.00</td>\n",
       "    </tr>\n",
       "    <tr>\n",
       "      <th>2017-08-23</th>\n",
       "      <td>0.00</td>\n",
       "    </tr>\n",
       "    <tr>\n",
       "      <th>2017-08-23</th>\n",
       "      <td>0.08</td>\n",
       "    </tr>\n",
       "    <tr>\n",
       "      <th>2017-08-23</th>\n",
       "      <td>0.45</td>\n",
       "    </tr>\n",
       "    <tr>\n",
       "      <th>2017-08-22</th>\n",
       "      <td>0.00</td>\n",
       "    </tr>\n",
       "  </tbody>\n",
       "</table>\n",
       "</div>"
      ],
      "text/plain": [
       "            prcp\n",
       "date            \n",
       "2017-08-23  0.00\n",
       "2017-08-23  0.00\n",
       "2017-08-23  0.08\n",
       "2017-08-23  0.45\n",
       "2017-08-22  0.00"
      ]
     },
     "execution_count": 18,
     "metadata": {},
     "output_type": "execute_result"
    },
    {
     "data": {
      "text/plain": [
       "(2021, 1)"
      ]
     },
     "execution_count": 18,
     "metadata": {},
     "output_type": "execute_result"
    }
   ],
   "source": [
    "# re-import the saved csv\n",
    "# syntax will set index to date which will place date on x axis\n",
    "results_plot_df = pd.read_csv('results_df2.csv', usecols=['date','prcp'], parse_dates=['date'])\n",
    "results_plot_df.set_index('date', inplace=True)\n",
    "results_plot_df.head()\n",
    "results_plot_df.shape"
   ]
  },
  {
   "cell_type": "code",
   "execution_count": 19,
   "metadata": {},
   "outputs": [
    {
     "data": {
      "text/plain": [
       "prcp    float64\n",
       "dtype: object"
      ]
     },
     "execution_count": 19,
     "metadata": {},
     "output_type": "execute_result"
    }
   ],
   "source": [
    "# check data type\n",
    "results_plot_df.dtypes"
   ]
  },
  {
   "cell_type": "code",
   "execution_count": 20,
   "metadata": {},
   "outputs": [
    {
     "data": {
      "text/plain": [
       "<matplotlib.axes._subplots.AxesSubplot at 0x113b67c88>"
      ]
     },
     "execution_count": 20,
     "metadata": {},
     "output_type": "execute_result"
    },
    {
     "data": {
      "text/plain": [
       "<matplotlib.legend.Legend at 0x113d5db00>"
      ]
     },
     "execution_count": 20,
     "metadata": {},
     "output_type": "execute_result"
    },
    {
     "data": {
      "image/png": "[encoded data removed]",
      "text/plain": [
       "<matplotlib.figure.Figure at 0x113b58b00>"
      ]
     },
     "metadata": {},
     "output_type": "display_data"
    }
   ],
   "source": [
    "# plot data\n",
    "sns.set()\n",
    "fig, ax = plt.subplots(figsize=(15,7))\n",
    "results_plot_df.plot(ax=ax)\n",
    "plt.legend(title=\"Precipitation\", fancybox=True)\n",
    "\n",
    "# set major ticks format\n",
    "ax.xaxis.set_major_formatter(mdates.DateFormatter('%Y-%m-%d'))"
   ]
  },
  {
   "cell_type": "code",
   "execution_count": 21,
   "metadata": {},
   "outputs": [
    {
     "data": {
      "text/html": [
       "<div>\n",
       "<style>\n",
       "    .dataframe thead tr:only-child th {\n",
       "        text-align: right;\n",
       "    }\n",
       "\n",
       "    .dataframe thead th {\n",
       "        text-align: left;\n",
       "    }\n",
       "\n",
       "    .dataframe tbody tr th {\n",
       "        vertical-align: top;\n",
       "    }\n",
       "</style>\n",
       "<table border=\"1\" class=\"dataframe\">\n",
       "  <thead>\n",
       "    <tr style=\"text-align: right;\">\n",
       "      <th></th>\n",
       "      <th>prcp</th>\n",
       "    </tr>\n",
       "  </thead>\n",
       "  <tbody>\n",
       "    <tr>\n",
       "      <th>count</th>\n",
       "      <td>2021.000000</td>\n",
       "    </tr>\n",
       "    <tr>\n",
       "      <th>mean</th>\n",
       "      <td>0.177279</td>\n",
       "    </tr>\n",
       "    <tr>\n",
       "      <th>std</th>\n",
       "      <td>0.461190</td>\n",
       "    </tr>\n",
       "    <tr>\n",
       "      <th>min</th>\n",
       "      <td>0.000000</td>\n",
       "    </tr>\n",
       "    <tr>\n",
       "      <th>25%</th>\n",
       "      <td>0.000000</td>\n",
       "    </tr>\n",
       "    <tr>\n",
       "      <th>50%</th>\n",
       "      <td>0.020000</td>\n",
       "    </tr>\n",
       "    <tr>\n",
       "      <th>75%</th>\n",
       "      <td>0.130000</td>\n",
       "    </tr>\n",
       "    <tr>\n",
       "      <th>max</th>\n",
       "      <td>6.700000</td>\n",
       "    </tr>\n",
       "  </tbody>\n",
       "</table>\n",
       "</div>"
      ],
      "text/plain": [
       "              prcp\n",
       "count  2021.000000\n",
       "mean      0.177279\n",
       "std       0.461190\n",
       "min       0.000000\n",
       "25%       0.000000\n",
       "50%       0.020000\n",
       "75%       0.130000\n",
       "max       6.700000"
      ]
     },
     "execution_count": 21,
     "metadata": {},
     "output_type": "execute_result"
    }
   ],
   "source": [
    "# use pandas to print the summary statistics for the precipitation data\n",
    "results_df.describe()"
   ]
  },
  {
   "cell_type": "code",
   "execution_count": 22,
   "metadata": {
    "scrolled": false
   },
   "outputs": [
    {
     "data": {
      "text/html": [
       "<div>\n",
       "<style>\n",
       "    .dataframe thead tr:only-child th {\n",
       "        text-align: right;\n",
       "    }\n",
       "\n",
       "    .dataframe thead th {\n",
       "        text-align: left;\n",
       "    }\n",
       "\n",
       "    .dataframe tbody tr th {\n",
       "        vertical-align: top;\n",
       "    }\n",
       "</style>\n",
       "<table border=\"1\" class=\"dataframe\">\n",
       "  <thead>\n",
       "    <tr style=\"text-align: right;\">\n",
       "      <th></th>\n",
       "      <th>date</th>\n",
       "      <th>prcp</th>\n",
       "    </tr>\n",
       "  </thead>\n",
       "  <tbody>\n",
       "    <tr>\n",
       "      <th>1899</th>\n",
       "      <td>2016-09-14</td>\n",
       "      <td>6.70</td>\n",
       "    </tr>\n",
       "    <tr>\n",
       "      <th>604</th>\n",
       "      <td>2017-04-29</td>\n",
       "      <td>6.25</td>\n",
       "    </tr>\n",
       "    <tr>\n",
       "      <th>1031</th>\n",
       "      <td>2017-02-11</td>\n",
       "      <td>5.04</td>\n",
       "    </tr>\n",
       "    <tr>\n",
       "      <th>138</th>\n",
       "      <td>2017-07-22</td>\n",
       "      <td>4.00</td>\n",
       "    </tr>\n",
       "    <tr>\n",
       "      <th>1776</th>\n",
       "      <td>2016-10-04</td>\n",
       "      <td>3.46</td>\n",
       "    </tr>\n",
       "  </tbody>\n",
       "</table>\n",
       "</div>"
      ],
      "text/plain": [
       "           date  prcp\n",
       "1899 2016-09-14  6.70\n",
       "604  2017-04-29  6.25\n",
       "1031 2017-02-11  5.04\n",
       "138  2017-07-22  4.00\n",
       "1776 2016-10-04  3.46"
      ]
     },
     "execution_count": 22,
     "metadata": {},
     "output_type": "execute_result"
    }
   ],
   "source": [
    "results_df.sort_values('prcp', ascending=False).head()"
   ]
  },
  {
   "cell_type": "code",
   "execution_count": 23,
   "metadata": {
    "scrolled": false
   },
   "outputs": [
    {
     "data": {
      "text/html": [
       "<meta charset=\"UTF-8\">\n",
       "\n",
       "<style>\n",
       "\n",
       "        .variablerow {\n",
       "            border: 1px solid #e1e1e8;\n",
       "            border-top: hidden;\n",
       "            padding-top: 2em;\n",
       "            padding-bottom: 2em;\n",
       "            padding-left: 1em;\n",
       "            padding-right: 1em;\n",
       "        }\n",
       "\n",
       "        .headerrow {\n",
       "            border: 1px solid #e1e1e8;\n",
       "            background-color: #f5f5f5;\n",
       "            padding: 2em;\n",
       "        }\n",
       "        .namecol {\n",
       "            margin-top: -1em;\n",
       "            overflow-x: auto;\n",
       "        }\n",
       "\n",
       "        .dl-horizontal dt {\n",
       "            text-align: left;\n",
       "            padding-right: 1em;\n",
       "            white-space: normal;\n",
       "        }\n",
       "\n",
       "        .dl-horizontal dd {\n",
       "            margin-left: 0;\n",
       "        }\n",
       "\n",
       "        .ignore {\n",
       "            opacity: 0.4;\n",
       "        }\n",
       "\n",
       "        .container.pandas-profiling {\n",
       "            max-width:975px;\n",
       "        }\n",
       "\n",
       "        .col-md-12 {\n",
       "            padding-left: 2em;\n",
       "        }\n",
       "\n",
       "        .indent {\n",
       "            margin-left: 1em;\n",
       "        }\n",
       "\n",
       "        .center-img {\n",
       "            margin-left: auto !important;\n",
       "            margin-right: auto !important;\n",
       "            display: block;\n",
       "        }\n",
       "\n",
       "        /* Table example_values */\n",
       "            table.example_values {\n",
       "                border: 0;\n",
       "            }\n",
       "\n",
       "            .example_values th {\n",
       "                border: 0;\n",
       "                padding: 0 ;\n",
       "                color: #555;\n",
       "                font-weight: 600;\n",
       "            }\n",
       "\n",
       "            .example_values tr, .example_values td{\n",
       "                border: 0;\n",
       "                padding: 0;\n",
       "                color: #555;\n",
       "            }\n",
       "\n",
       "        /* STATS */\n",
       "            table.stats {\n",
       "                border: 0;\n",
       "            }\n",
       "\n",
       "            .stats th {\n",
       "                border: 0;\n",
       "                padding: 0 2em 0 0;\n",
       "                color: #555;\n",
       "                font-weight: 600;\n",
       "            }\n",
       "\n",
       "            .stats tr {\n",
       "                border: 0;\n",
       "            }\n",
       "\n",
       "            .stats td{\n",
       "                color: #555;\n",
       "                padding: 1px;\n",
       "                border: 0;\n",
       "            }\n",
       "\n",
       "\n",
       "        /* Sample table */\n",
       "            table.sample {\n",
       "                border: 0;\n",
       "                margin-bottom: 2em;\n",
       "                margin-left:1em;\n",
       "            }\n",
       "            .sample tr {\n",
       "                border:0;\n",
       "            }\n",
       "            .sample td, .sample th{\n",
       "                padding: 0.5em;\n",
       "                white-space: nowrap;\n",
       "                border: none;\n",
       "\n",
       "            }\n",
       "\n",
       "            .sample thead {\n",
       "                border-top: 0;\n",
       "                border-bottom: 2px solid #ddd;\n",
       "            }\n",
       "\n",
       "            .sample td {\n",
       "                width:100%;\n",
       "            }\n",
       "\n",
       "\n",
       "        /* There is no good solution available to make the divs equal height and then center ... */\n",
       "            .histogram {\n",
       "                margin-top: 3em;\n",
       "            }\n",
       "        /* Freq table */\n",
       "\n",
       "            table.freq {\n",
       "                margin-bottom: 2em;\n",
       "                border: 0;\n",
       "            }\n",
       "            table.freq th, table.freq tr, table.freq td {\n",
       "                border: 0;\n",
       "                padding: 0;\n",
       "            }\n",
       "\n",
       "            .freq thead {\n",
       "                font-weight: 600;\n",
       "                white-space: nowrap;\n",
       "                overflow: hidden;\n",
       "                text-overflow: ellipsis;\n",
       "\n",
       "            }\n",
       "\n",
       "            td.fillremaining{\n",
       "                width:auto;\n",
       "                max-width: none;\n",
       "            }\n",
       "\n",
       "            td.number, th.number {\n",
       "                text-align:right ;\n",
       "            }\n",
       "\n",
       "        /* Freq mini */\n",
       "            .freq.mini td{\n",
       "                width: 50%;\n",
       "                padding: 1px;\n",
       "                font-size: 12px;\n",
       "\n",
       "            }\n",
       "            table.freq.mini {\n",
       "                 width:100%;\n",
       "            }\n",
       "            .freq.mini th {\n",
       "                overflow: hidden;\n",
       "                text-overflow: ellipsis;\n",
       "                white-space: nowrap;\n",
       "                max-width: 5em;\n",
       "                font-weight: 400;\n",
       "                text-align:right;\n",
       "                padding-right: 0.5em;\n",
       "            }\n",
       "\n",
       "            .missing {\n",
       "                color: #a94442;\n",
       "            }\n",
       "            .alert, .alert > th, .alert > td {\n",
       "                color: #a94442;\n",
       "            }\n",
       "\n",
       "\n",
       "        /* Bars in tables */\n",
       "            .freq .bar{\n",
       "                float: left;\n",
       "                width: 0;\n",
       "                height: 100%;\n",
       "                line-height: 20px;\n",
       "                color: #fff;\n",
       "                text-align: center;\n",
       "                background-color: #337ab7;\n",
       "                border-radius: 3px;\n",
       "                margin-right: 4px;\n",
       "            }\n",
       "            .other .bar {\n",
       "                background-color: #999;\n",
       "            }\n",
       "            .missing .bar{\n",
       "                background-color: #a94442;\n",
       "            }\n",
       "            .tooltip-inner {\n",
       "                width: 100%;\n",
       "                white-space: nowrap;\n",
       "                text-align:left;\n",
       "            }\n",
       "\n",
       "            .extrapadding{\n",
       "                padding: 2em;\n",
       "            }\n",
       "\n",
       "            .pp-anchor{\n",
       "\n",
       "            }\n",
       "\n",
       "</style>\n",
       "\n",
       "<div class=\"container pandas-profiling\">\n",
       "    <div class=\"row headerrow highlight\">\n",
       "        <h1>Overview</h1>\n",
       "    </div>\n",
       "    <div class=\"row variablerow\">\n",
       "    <div class=\"col-md-6 namecol\">\n",
       "        <p class=\"h4\">Dataset info</p>\n",
       "        <table class=\"stats\" style=\"margin-left: 1em;\">\n",
       "            <tbody>\n",
       "            <tr>\n",
       "                <th>Number of variables</th>\n",
       "                <td>2 </td>\n",
       "            </tr>\n",
       "            <tr>\n",
       "                <th>Number of observations</th>\n",
       "                <td>2021 </td>\n",
       "            </tr>\n",
       "            <tr>\n",
       "                <th>Total Missing (%)</th>\n",
       "                <td>0.0% </td>\n",
       "            </tr>\n",
       "            <tr>\n",
       "                <th>Total size in memory</th>\n",
       "                <td>31.7 KiB </td>\n",
       "            </tr>\n",
       "            <tr>\n",
       "                <th>Average record size in memory</th>\n",
       "                <td>16.0 B </td>\n",
       "            </tr>\n",
       "            </tbody>\n",
       "        </table>\n",
       "    </div>\n",
       "    <div class=\"col-md-6 namecol\">\n",
       "        <p class=\"h4\">Variables types</p>\n",
       "        <table class=\"stats\" style=\"margin-left: 1em;\">\n",
       "            <tbody>\n",
       "            <tr>\n",
       "                <th>Numeric</th>\n",
       "                <td>1 </td>\n",
       "            </tr>\n",
       "            <tr>\n",
       "                <th>Categorical</th>\n",
       "                <td>0 </td>\n",
       "            </tr>\n",
       "            <tr>\n",
       "                <th>Boolean</th>\n",
       "                <td>0 </td>\n",
       "            </tr>\n",
       "            <tr>\n",
       "                <th>Date</th>\n",
       "                <td>1 </td>\n",
       "            </tr>\n",
       "            <tr>\n",
       "                <th>Text (Unique)</th>\n",
       "                <td>0 </td>\n",
       "            </tr>\n",
       "            <tr>\n",
       "                <th>Rejected</th>\n",
       "                <td>0 </td>\n",
       "            </tr>\n",
       "            <tr>\n",
       "                <th>Unsupported</th>\n",
       "                <td>0 </td>\n",
       "            </tr>\n",
       "            </tbody>\n",
       "        </table>\n",
       "    </div>\n",
       "    <div class=\"col-md-12\" style=\"padding-left: 1em;\">\n",
       "        \n",
       "        <p class=\"h4\">Warnings</p>\n",
       "        <ul class=\"list-unstyled\"><li><a href=\"#pp_var_prcp\"><code>prcp</code></a> has 874 / 43.2% zeros <span class=\"label label-info\">Zeros</span></li><li>Dataset has 647 duplicate rows <span class=\"label label-warning\">Warning</span></li> </ul>\n",
       "    </div>\n",
       "</div>\n",
       "    <div class=\"row headerrow highlight\">\n",
       "        <h1>Variables</h1>\n",
       "    </div>\n",
       "    <div class=\"row variablerow\">\n",
       "    <div class=\"col-md-3 namecol\">\n",
       "        <p class=\"h4 pp-anchor\" id=\"pp_var_date\">date<br/>\n",
       "            <small>Date</small>\n",
       "        </p>\n",
       "    </div><div class=\"col-md-6\">\n",
       "    <div class=\"row\">\n",
       "        <div class=\"col-sm-6\">\n",
       "            <table class=\"stats \">\n",
       "                <tr>\n",
       "                    <th>Distinct count</th>\n",
       "                    <td>366</td>\n",
       "                </tr>\n",
       "                <tr>\n",
       "                    <th>Unique (%)</th>\n",
       "                    <td>18.1%</td>\n",
       "                </tr>\n",
       "                <tr class=\"ignore\">\n",
       "                    <th>Missing (%)</th>\n",
       "                    <td>0.0%</td>\n",
       "                </tr>\n",
       "                <tr class=\"ignore\">\n",
       "                    <th>Missing (n)</th>\n",
       "                    <td>0</td>\n",
       "                </tr>\n",
       "                <tr class=\"ignore\">\n",
       "                    <th>Infinite (%)</th>\n",
       "                    <td>0.0%</td>\n",
       "                </tr>\n",
       "                <tr class=\"ignore\">\n",
       "                    <th>Infinite (n)</th>\n",
       "                    <td>0</td>\n",
       "                </tr>\n",
       "            </table>\n",
       "        </div>\n",
       "        <div class=\"col-sm-6\">\n",
       "            <table class=\"stats \">\n",
       "                <tr>\n",
       "                    <th>Minimum</th>\n",
       "                    <td>2016-08-23 00:00:00</td>\n",
       "                </tr>\n",
       "                <tr>\n",
       "                    <th>Maximum</th>\n",
       "                    <td>2017-08-23 00:00:00</td>\n",
       "                </tr>\n",
       "            </table>\n",
       "        </div>\n",
       "    </div>\n",
       "</div>\n",
       "<div class=\"col-md-3 collapse in\" id=\"minihistogram2888345644737328466\">\n",
       "    <img src=\"data:image/png;base64,iVBORw0KGgoAAAANSUhEUgAAAMgAAABLCAYAAAA1fMjoAAAABHNCSVQICAgIfAhkiAAAAAlwSFlzAAAPYQAAD2EBqD%2BnaQAABlhJREFUeJzt219IU20Ax/GfousPEVFtc1KQN2EYFFHSInJaTWNDh2SZUK2IIogkyP4Qu%2Bu9yFQqHF2FVBRUDNwu2gvRjFJY8XYRxiovoqKLdjZjsRTbOnvei7dG/ntetc3l/H3AC892znMeH7%2BenclyhBACRDSm3EyfANGfLC/TJzDS%2BnN/T3qff/6qSsOZEP2BgUzFVKKaismGOF2xT3Yc/kGZuKwIhNJvtl7ZGcgkTMeVarquhjQxDGQWYoQTx3exiCQYCJEEAyGSYCBEEgyESIKBEEnwbV5Km2z45yKvIEQSDIRIgoEQSTAQIgkGQiTBQIgkGAiRBAMhkmAgRBIMhEiCgRBJMBAiCQZCJMFAiCQYCJEEAyGSYCBEEgyESIKBEEkwECIJBkIkwUCIJBgIkQQDIZJgIEQSDIRIgoEQSTAQIgkGQiTBQIgkGAiRBAMhkmAgRBIMhEiCgRBJ5AghRKZP4ncpioI7d%2B5g9%2B7d0Ol0mT4dGsdMXKesuIKEQiG0t7cjFApl%2BlRIYiauU1YEQpQuDIRIgoEQSWRFIFqtFseOHYNWq830qZDETFynrHgXiyhdsuIKQpQuDIRIgoEQSTAQIgkGQiTBQIgkGAiRREYD6ejogNVqhdVqxdmzZxGLxdDX14ddu3ahqqoKx48fx%2BDg4LB9XC4Xzpw5k/xeCAGn0wmbzYbKykp0dnZKx%2Bzr64PFYhm2zev1wmKxwGw2o729PXUTzBKpWKdz586hpqYm%2BVVSUoJ79%2B6NOV5bWxuqqqpQWVkJn8%2BX3O52u2GxWGCxWHDhwoX0THYkkSEvXrwQVqtVDAwMiEQiIU6ePCk6OjpEdXW1ePr0qRBCiEuXLomWlhYhhBBDQ0OiublZrF27Vpw%2BfTp5nM7OTtHQ0CC%2BffsmFEURRqNRRCKRMcd0uVxi8%2BbNory8PLlNURRhMplEf3%2B/iMViYv/%2B/eLx48dpnPnMkqp1%2BpXH4xENDQ0iHo%2BPeuzBgwfCbreLeDwugsGgqKioEJFIRAwODooNGzaIcDgs4vG42Llzp%2Bjp6UnfxH/I2BVk4cKFcDgcmD9/PnJyclBcXIw3b94gGo2itLQUAFBXV4f79%2B8DAPx%2BP4QQaGpqGnYcr9eLgwcPQqPRQKvV4vbt25g7d%2B6o8SKRCB49eoS2trZh23t6erBx40YsXrwY%2Bfn5sNlsyTEpdev0UzQaRUtLC86fP4%2B8vLxRj/t8PlRXVyMvLw86nQ6lpaXo6uqCqqpIJBIYGhqCqqpQVRVz5sxJ38R/yFggK1asSP6A%2B/v7cevWLRQVFUGv1yefo9PpEAwGAQBlZWU4derUqF/%2B9%2B/f4%2B3bt6ivr4fNZkMgEBjzB7do0SJcuXIFBoNh2HZFUYZ9eOfXMSl16/TTjRs3sG3bNhQVFY35eDAYHHXsT58%2BYcGCBWhsbMSOHTuwZcsWFBYWYt26dama5rgyfpP%2B8eNH7Nu3D3V1dVi/fv2ox3NycqT7q6qKQCCAmzdv4urVq2hubsa7d%2B8mPH4ikZj0mLPR764T8N/94t27d2G326XPGSk3NxevX7%2BGy%2BVCV1cXnjx5gtzcXFy7dm1Sc5iKjAby6tUr7NmzB/X19Th69CgKCgqGfdosFAqhoKBAeoylS5fCbDYjPz8fBoMBa9asQSAQwOXLl5M3hA8fPhx3/5FjKoryv2PONqlYJwDo7e2FwWDA8uXLk9tGrpNer4eiKMOOrdfr0d3dDaPRiCVLlkCj0aC2thbPnj1L7UTHkLFAPn/%2BjEOHDsHhcGDv3r0AgMLCQsybNy85cZfLhbKyMulxysvL4fV6IYTAly9f0Nvbi1WrVqGxsRFutxtutxtbt24dd3%2Bj0Qi/349wOIx4PA6PxwOTyZSyec50qVonAHj%2B/Hny5dpPI9fJZDLB4/Hg%2B/fvCIfD8Pv92LRpE4qLi9Hd3Y2BgQEIIeDz%2BVBSUpL6CY8w%2Bi5pmly/fh1fv36F0%2BmE0%2BkEAJhMJrS2tsLhcCAajWLZsmVobW2VHsdut%2BPixYuwWCxQVRVHjhwZ9/XtWPR6PZqamnDgwAHEYjFUVFRg%2B/btvzW3bJKqdQKADx8%2BYOXKldLnmM1mvHz5EjU1NVBVFSdOnIBWq4VWq0UgEEBtbS00Gg1Wr16Nw4cPp2SOMvw8CJFExm/Sif5kDIRIgoEQSfwLEXP71WucZ68AAAAASUVORK5CYII%3D\">\n",
       "</div>\n",
       "<div class=\"col-md-12 text-right\">\n",
       "    <a role=\"button\" data-toggle=\"collapse\" data-target=\"#descriptives2888345644737328466,#minihistogram2888345644737328466\"\n",
       "       aria-expanded=\"false\" aria-controls=\"collapseExample\">\n",
       "        Toggle details\n",
       "    </a>\n",
       "</div>\n",
       "<div class=\"row collapse col-md-12\" id=\"descriptives2888345644737328466\">\n",
       "    <img src=\"data:image/png;base64,iVBORw0KGgoAAAANSUhEUgAAAlgAAAGQCAYAAAByNR6YAAAABHNCSVQICAgIfAhkiAAAAAlwSFlzAAAPYQAAD2EBqD%2BnaQAAIABJREFUeJzt3XtYVXXe///X1h0niUAFR607byqPJSKkTh4uIUlTK49RczseO00od5OlqdlY0k3GeMAQD2lTg4VkljpONnNrzW2aJpFgZShijaYJ2wSPCCHr%2B0c/968dGhtcsA88H9e1L6/9WXt/1nu9L3G//KzF2hbDMAwBAADANE1cXQAAAIC3IWABAACYjIAFAABgMgIWAACAyQhYAAAAJiNgAQAAmIyABQAAYDICFgAAgMkIWAAAACYjYAEAAJiMgAUAAGAyAhYAAIDJCFgAAAAmI2ABAACYjIAFAABgMgIWAACAyQhYAAAAJiNgAQAAmIyABQAAYDICFgAAgMkIWAAAACYjYAEAAJiMgAUAAGAyAhYAAIDJCFgAAAAmI2ABAACYjIAFAABgMgIWAACAyQhYAAAAJiNgAQAAmIyABQAAYDICFgAAgMkIWAAAACYjYAEAAJiMgAUAAGAyAhYAAIDJCFgAAAAmI2ABAACYjIAFAABgMqurC2gsbLYzri7BbTRpYlHz5s108uQ5VVUZri7HLdEj59CnK6M3NaNHNfOGHoWGXuuS/bKChQbXpIlFFotFTZpYXF2K26JHzqFPV0ZvakaPakaP6o6ABQAAYDICFgAAgMkIWAAAACYjYAEAAJiMgAUAAGAyAhYAAIDJCFgAAAAmI2ABAACYjIAFAABgMgIWAACAyQhYAAAAJiNgAQAAmIyABQAAYDKrqwvA1bl70Q5Xl%2BC0zU/0dnUJAAA0CFawAAAATMYKFoAG50krrxKrrwBqjxUsAAAAkxGwAAAATMYpQjQYTzst5Gk4jYVLPOlnjb%2B38FasYAEAAJiMgAUAAGAyAhYAAIDJCFgAAAAm4yJ3AACc5Em/QCDxSwSuxAoWAACAyQhYAAAAJvPagFVUVKTExET16NFDffv2VXJyssrLyyVJR44c0fjx49WtWzcNHjxY27dvd3jvJ598oqFDhyoiIkJjx47VkSNHXHEIAADAQ3llwDIMQ4mJiSorK9Obb76phQsX6qOPPtKiRYtkGIYSEhLUsmVLrVu3Tvfdd58mT56sY8eOSZKOHTumhIQEjRgxQu%2B8846aN2%2Buxx9/XIZhuPioAACAp/DKi9wPHTqk3Nxc7dixQy1btpQkJSYmat68eerXr5%2BOHDmiNWvWKCAgQDfddJN27typdevWacqUKVq7dq1uvfVWTZw4UZKUnJys3r17a/fu3erZs6crDwsAAHgIr1zBCg0N1cqVK%2B3h6pKzZ88qLy9PnTt3VkBAgH08KipKubm5kqS8vDxFR0fbt/n7%2B6tLly727QAAADXxyoAVFBSkvn372p9XVVVp9erV6tWrl2w2m8LCwhxe36JFCx0/flySatwOAABQE688RfhLKSkp2rdvn9555x29/vrr8vHxcdju4%2BOjiooKSVJZWdmvbndGcXGxbDabw5jVGlAtuAFmslq98v9LboHe1h9X9rZp0yYOf3qjq%2B1vY%2BhRffH6gJWSkqI33nhDCxcuVPv27eXr66vS0lKH11RUVMjPz0%2BS5OvrWy1MVVRUKCgoyOl9ZmVlKS0tzWEsISFBiYmJdTwKoGZxf/7Y1SV4rZCQZq4uwWu5Q2%2BDgvxdXUK9Mau/3tyj%2BuLVAWvu3LnKzMxUSkqKBg4cKElq1aqVDh486PC6EydO2FeXWrVqpRMnTlTb3qlTJ6f3Gx8fr9jYWIcxqzVAJSXn6nIYAFwsetYHri7Ba7ny38WmTZsoKMhfp0%2BX6eLFKpfVUZ%2Butr/e0CNXhXivDVhpaWlas2aNFixYoEGDBtnHIyIitGLFCl24cMG%2BapWTk6OoqCj79pycHPvry8rKtG/fPk2ePNnpfYeFhVU7HWiznVFlpWf%2B5QSA%2BuIO/y5evFjlFnXUB7OOy5t7VF%2B88qRqYWGh0tPT9fDDDysqKko2m83%2B6NGjh1q3bq0ZM2aooKBAK1as0N69ezVq1ChJ0siRI/X5559rxYoVKigo0IwZM3T99ddziwYAAOA0rwxYW7du1cWLF7V06VL16dPH4dG0aVOlp6fLZrNpxIgR2rhxo5YsWaI2bdpIkq6//nq98sorWrdunUaNGqXS0lItWbJEFovFxUcFAAA8hcXgFuUNwmY7Uy/zeto3uwPAz21%2BorfL9m21NlFISDOVlJxz%2BvSXp/2be7X9rUuP3E1o6LUu2a9XrmABAAC4ktde5A4AcH%2BetiIEOIsVLAAAAJMRsAAAAExGwAIAADAZAQsAAMBkBCwAAACTEbAAAABMRsACAAAwGQELAADAZAQsAAAAkxGwAAAATEbAAgAAMBkBCwAAwGQELAAAAJMRsAAAAExGwAIAADAZAQsAAMBkBCwAAACTEbAAAABMRsACAAAwGQELAADAZAQsAAAAkxGwAAAATGZ1dQFme/fddzVjxoxq4xaLRfn5%2BZKkpKQkZWRkOGyfPXu2xowZ0yA1AgAA7%2BZ1AWvw4MHq27ev/XllZaXGjRun/v3728cKCws1depUDR8%2B3D4WGBjYkGUCAAAv5nUBy8/PT35%2Bfvbny5cvl2EYeuqpp%2BxjhYWFmjRpkkJDQ11RIgAA8HJefQ1WaWmpXn31VU2dOlU%2BPj6SpLNnz6qoqEjt2rVzbXEAAMBreXXAyszMVFhYmAYNGmQfKywslMVi0bJly9SvXz/de%2B%2B9eu%2B991xYJQAA8DZed4rwEsMwtHbtWj300EMO44cOHZLFYlF4eLjGjBmj7OxszZ49W4GBgYqLizNl38XFxbLZbA5jVmuAwsLCTJkfAABnWK1Xt47StGkThz/hPK8NWF988YWKioo0ZMgQh/Fhw4YpJiZGwcHBkqSOHTvq22%2B/VWZmpmkBKysrS2lpaQ5jCQkJSkxMNGV%2BAACcERLSzJR5goL8TZmnMfHagPXxxx8rOjpa1113ncO4xWKxh6tLwsPDtWvXLtP2HR8fr9jYWIcxqzVAJSXnTNsHAAA1udrPnaZNmygoyF%2BnT5fp4sUqk6pqWGaFzNry2oC1d%2B9ede/evdp4amqq9uzZo9dff90%2Blp%2Bfr/DwcNP2HRYWVu10oM12RpWVnvmXEwDgmcz63Ll4sYrPsFry2pOqBQUFuvnmm6uNx8TEKDs7W6tWrdLhw4f11ltvaf369Zo4caILqgQAAN7IawPWiRMnFBQUVG28a9euSk1N1YYNGzR06FBlZGRo/vz5ioyMdEGVAADAG3n1KcIrGTBggAYMGNCA1QAAgMbEa1ewAAAAXIWABQAAYDICFgAAgMkIWAAAACYjYAEAAJiMgAUAAGAyr71NAwAAjd3di3a4ugSnbX6it6tLMBUrWAAAACYjYAEAAJiMgAUAAGAyAhYAAIDJCFgAAAAmI2ABAACYjIAFAABgMgIWAACAyQhYAAAAJiNgAQAAmIyABQAAYDICFgAAgMkIWAAAACYjYAEAAJiMgAUAAGAyAhYAAIDJCFgAAAAm8/qAVVFRoaFDh%2BrTTz%2B1jyUlJalDhw4Oj9WrV9u3f/LJJxo6dKgiIiI0duxYHTlyxBWlAwAAD%2BXVAau8vFxPPvmkCgoKHMYLCws1depUbd%2B%2B3f4YOXKkJOnYsWNKSEjQiBEj9M4776h58%2BZ6/PHHZRiGKw4BAAB4IK8NWAcPHtT999%2Bvw4cPV9tWWFiozp07KzQ01P7w9/eXJK1du1a33nqrJk6cqFtuuUXJyck6evSodu/e3dCHAAAAPJTXBqzdu3erZ8%2BeysrKchg/e/asioqK1K5du8u%2BLy8vT9HR0fbn/v7%2B6tKli3Jzc%2BuzXAAA4EWsri6gvvzud7%2B77HhhYaEsFouWLVumbdu2KTg4WBMmTNDw4cMlSTabTWFhYQ7vadGihY4fP%2B70vouLi2Wz2RzGrNaAavMCAICfWK3etebjtQHrSg4dOiSLxaLw8HCNGTNG2dnZmj17tgIDAxUXF6eysjL5%2BPg4vMfHx0cVFRVO7yMrK0tpaWkOYwkJCUpMTDTlGAAA8DYhIc1cXYKpGl3AGjZsmGJiYhQcHCxJ6tixo7799ltlZmYqLi5Ovr6%2B1cJURUWFgoKCnN5HfHy8YmNjHcas1gCVlJy7%2BgMAAMAL1ddnpKuCW6MLWBaLxR6uLgkPD9euXbskSa1atdKJEycctp84cUKdOnVyeh9hYWHVTgfabGdUWVlVx6oBAPBu3vYZ6V0nPJ2Qmpqq8ePHO4zl5%2BcrPDxckhQREaGcnBz7trKyMu3bt08RERENWSYAAPBgjS5gxcTEKDs7W6tWrdLhw4f11ltvaf369Zo4caIkaeTIkfr888%2B1YsUKFRQUaMaMGbr%2B%2BuvVs2dPF1cOAAA8RaMLWF27dlVqaqo2bNigoUOHKiMjQ/Pnz1dkZKQk6frrr9crr7yidevWadSoUSotLdWSJUtksVhcXDkAAPAUFoNblDcIm%2B1Mvcx796Id9TIvAAANafMTvetl3tDQa%2Btl3po0uhUsAACA%2BkbAAgAAMBkBCwAAwGQELAAAAJMRsAAAAExGwAIAADAZAQsAAMBkBCwAAACTEbAAAABMRsACAAAwGQELAADAZAQsAAAAkxGwAAAATEbAAgAAMBkBCwAAwGQELAAAAJMRsAAAAEzmdgFr9OjRWrNmjc6cOePqUgAAAOrE7QJWr169tGzZMvXp00dPPvmktm/fLsMwXF0WAACA09wuYE2dOlUfffSR0tPT1bRpU02ZMkX9%2B/fXwoUL9c0337i6PAAAgBpZDDdfHiorK1NGRobS09NVXl6u7t27a9y4cbrrrrtcXVqt2Gz1c8rz7kU76mVeAAAa0uYnetfLvKGh19bLvDWxumSvTiguLtbGjRu1ceNGHThwQN27d9fw4cN1/PhxPfvss8rOztasWbNcXSYAAEA1bhewNmzYoA0bNujTTz9V8%2BbNNWzYMC1evFjt2rWzv6Z169Z68cUXCVgAAMAtuV3AmjVrlmJiYrRkyRL169dPTZpUv0wsPDxcY8aMcUF1AAAANXO7gLVt2zaFhISotLTUHq727t2rLl26qGnTppKk7t27q3v37leco6ioSC%2B%2B%2BKJ27dolX19fDR48WE8%2B%2BaR8fX0lSUlJScrIyHB4z%2BzZswltAADAFG4XsM6ePasHH3xQd955p6ZNmyZJeuSRR9SyZUu9%2Buqrat269a%2B%2B3zAMJSYmKigoSG%2B%2B%2BaZOnTqlmTNnqkmTJpo%2BfbokqbCwUFOnTtXw4cPt7wsMDKy/gwIAAI2K292m4X/%2B53904403asKECfax999/X61bt1ZycnKN7z906JByc3OVnJysW265RdHR0UpMTNSmTZvsryksLFTnzp0VGhpqf/j7%2B9fL8QAAgMbH7QLWZ599pmeeeUahoaH2sebNm2vatGnatWtXje8PDQ3VypUr1bJlS4fxs2fP2v8sKipyuGgeAADATG53itBqter06dPVxsvKypy6o3tQUJD69u1rf15VVaXVq1erV69ekn5avbJYLFq2bJm2bdum4OBgTZgwweF04dUqLi6WzWZzGLNaAxQWFmbaPgAA8CZWq9ut%2BVwVtwtY/fr1U1JSkhYsWKD/%2BI//kCQdOXJEycnJDsHJWSkpKdq3b5/eeecdST%2BdQrRYLPbfRMzOztbs2bMVGBiouLg4U44hKytLaWlpDmMJCQlKTEw0ZX4AALxNSEgzV5dgKre7k/sPP/ygCRMmqKCgQEFBQZKk06dPq0uXLlq6dKnDqcOapKSk6C9/%2BYsWLlyogQMHSvrpIvhTp04pODjY/rq5c%2Bfqm2%2B%2B0WuvvWbKMTTkClbcnz82fU4AABra/z5V%2B0UUZ7gquLndClaLFi303nvv6ZNPPlFBQYGsVqtuvvlm/fa3v5XFYnF6nrlz5yozM1MpKSn2cCVJFovFIVxJP91Xy5nru5wVFhZWLUzZbGdUWVll2j4AAPAm3vYZ6XYBS5KaNm2qvn371umUoCSlpaVpzZo1WrBggQYNGuSwLTU1VXv27NHrr79uH8vPz1d4ePjVlAwAAGDndgHLZrNp0aJF%2Bvzzz/Xjjz9Wu7B969atv/r%2BwsJCpaen65FHHlFUVJTDqbrQ0FDFxMRoxYoVWrVqleLi4rR9%2B3atX79ef/3rX%2BvleAAAQOPjdgFr9uzZ%2BvLLLzVkyBBde23tvwF769atunjxopYuXaqlS5c6bNu/f7%2B6du2q1NRULV68WKmpqWrbtq3mz5%2BvyMhIsw4BAAA0cm53kXu3bt20cuVKRUdHu7oUU9lsZ%2Bpl3rsX7aiXeQEAaEibn%2BhdL/OGhtZ%2BscYMbnfTiYCAALVo0cLVZQAAANSZ2wWs%2B%2B67TytXrtTFixddXQoAAECduN01WKWlpdq0aZP%2B9a9/6YYbbpCPj4/Ddi5GBwAA7s7tApYkDR061NUlAAAA1JnbBazk5GRXlwAAAHBV3O4aLOmnr5pJS0vT1KlT9cMPP%2BiDDz7QoUOHXF0WAACAU9wuYP373//WPffco/fee0//%2BMc/dP78eb3//vsaOXKk8vLyXF0eAABAjdwuYL300ksaMGCAtmzZomuuuUaStGDBAsXGxurPf/6zi6sDAAComdsFrM8//1wTJkxw%2BGJnq9Wqxx9/XPv27XNhZQAAAM5xu4BVVVWlqqrq36h97tw5NW3a1AUVAQAA1I7bBaw%2Bffpo%2BfLlDiGrtLRUKSkp6tWrlwsrAwAAcI7bfRdhUVGRxo4dqzNnzqi0tFTh4eE6evSogoODtXr1arVt29bVJdYJ30UIAMCVedt3EbrdfbBatWql9evXa9OmTfr6669VVVWlBx98UPfdd58CAwNdXR4AAECN3C5gSZK/v79Gjx7t6jIAAADqxO0C1tixY391O99FCAAA3J3bBaxfXmNVWVmpf//73zpw4IDGjRvnoqoAAACc53YB60rfRbhkyRIdP368gasBAACoPbe7TcOV3Hfffdq8ebOrywAAAKiRxwSsPXv2cKNRAADgEdzuFOHlLnI/e/as9u/fr9/97ncuqAgAAKB23C5gtWnTxuF7CCXpmmuu0ZgxY3Tvvfe6qCoAAADnuV3Aeumll1xdAgAAwFVxu4CVnZ3t9Gtvv/32eqwEAACgbtwuYP3%2B97%2B3nyL8%2Bdck/nLMYrHo66%2B/vuwc5eXlev755/XPf/5Tfn5%2BmjhxoiZOnGjffuTIEc2ePVu5ublq06aNZs6cqT59%2BtTXIQEAgEbG7QLWsmXLlJSUpKefflo9evSQj4%2BPvvjiC73wwgsaPny4Bg8eXOMcL7/8sr788ku98cYbOnbsmKZPn642bdpo0KBBMgxDCQkJat%2B%2BvdatW6ctW7Zo8uTJev/999WmTZsGOEIAAODtLMbPl4ncwMCBAzVr1iz169fPYfyzzz7TtGnT9OGHH/7q%2B8%2BfP69evXrp1VdfVc%2BePSVJ6enp2rlzpzIyMrRz5049/vjj2rFjhwICAiRJ48ePV1RUlKZMmVI/ByXJZjtTL/PevWhHvcwLAEBD2vxE73qZNzT02nqZtyZudx%2Bs4uLial%2BXI0mBgYEqKSmp8f35%2BfmqrKxUZGSkfSwqKkp5eXmqqqpSXl6eOnfubA9Xl7bn5uaacwAAAKDRc7uA1a1bNy1YsEBnz561j5WWliolJUW//e1va3y/zWZTSEiIfHx87GMtW7ZUeXm5SktLZbPZFBYW5vCeFi1a8DU8AADANG53Ddazzz6rsWPHql%2B/fmrXrp0Mw9C3336r0NBQ/fWvf63x/WVlZQ7hSpL9eUVFxRW3V1RUmHYMxcXFstlsDmNWa0C1YAcAAH5itbrdms9VcbuAddNNN%2Bn999/Xpk2bVFhYKEn6r//6Lw0ZMkT%2B/v41vt/X17daWLr03M/PT76%2BviotLa223c/Pz6QjkLKyspSWluYwlpCQoMTERNP2AQCANwkJaebqEkzldgFLkq677jqNHj1a3333nW644QZJP93N3RmtWrVSSUmJKisrZbX%2BdHg2m01%2Bfn4KCgpSq1atdPDgQYf3nDhxwtTVpfj4eMXGxjqMWa0BKik5Z9o%2BAADwJvX1Gemq4OZ2AcswDM2fP18ZGRn68ccf9Y9//EMLFy6Uv7%2B/5syZU2PQ6tSpk6xWq3JzcxUdHS1JysnJ0W233aYmTZooIiJCK1as0IULF%2ByrVjk5OYqKijLtGMLCwqoFNpvtjCorq0zbBwAA3sTbPiPd7oRnRkaGNmzYoD/96U/2a6UGDBigLVu2VDvtdjn%2B/v4aNmyY5syZo71792rLli167bXX7F8i3aNHD7Vu3VozZsxQQUGBVqxYob1792rUqFH1elwAAKDxcLuAlZWVpeeee04jRoyw37198ODBSkpK0t/%2B9jen5pgxY4a6dOmicePG6fnnn9eUKVN01113SZKaNm2q9PR02Ww2jRgxQhs3btSSJUu4ySgAADCN250i/O6779SpU6dq4x07dqz2m3lX4u/vr3nz5mnevHmX3X7jjTdq9erVV1UnAADAlbjdClbbtm31xRdfVBvftm2b/YJ3AAAAd%2BZ2K1iTJk3S888/L5vNJsMwtHPnTmVlZSkjI0PPPPOMq8sDAACokdsFrJEjR6qyslJLly7VhQsX9Nxzz6l58%2BZ64okn9OCDD7q6PAAAgBq5XcDatGmTBg0apPj4eJ08eVKGYahFixauLgsAAMBpbncN1gsvvGC/mL158%2BaEKwAA4HHcLmC1a9dOBw4ccHUZAAAAdeZ2pwg7duyop556SitXrlS7du3k6%2BvrsD05OdlFlQEAADjH7QLWN998Y//aGmfvewUAAOBO3CJgvfzyy5o8ebICAgKUkZHh6nIAAACuiltcg/WXv/xFZWVlDmOPPPKIiouLXVQRAABA3blFwDIMo9pYdna2ysvLXVANAADA1XGLgAUAAOBNCFgAAAAmc5uAZbFYXF0CAACAKdzitwglKSkpyeGeVz/%2B%2BKNSUlLUrFkzh9dxHywAAODu3CJg3X777dXueRUZGamSkhKVlJS4qCoAAIC6cYuAxb2vAACAN3Gba7AAAAC8BQELAADAZAQsAAAAkxGwAAAATEbAAgAAMBkBCwAAwGQELAAAAJO5xX2wGtq7776rGTNmVBu3WCzKz89XUlJStXtzzZ49W2PGjGmoEgEAgAdrlAFr8ODB6tu3r/15ZWWlxo0bp/79%2B0uSCgsLNXXqVA0fPtz%2BmsDAwIYuEwAAeKhGGbD8/Pzk5%2Bdnf758%2BXIZhqGnnnpK0k8Ba9KkSQoNDXVViQAAwIM1%2BmuwSktL9eqrr2rq1Kny8fHR2bNnVVRUpHbt2rm6NAAA4KEafcDKzMxUWFiYBg0aJOmn1SuLxaJly5apX79%2Buvfee/Xee%2B%2B5uEoAAOBJGuUpwksMw9DatWv10EMP2ccOHToki8Wi8PBwjRkzRtnZ2Zo9e7YCAwMVFxfn1LzFxcWy2WwOY1ZrgMLCwkytHwAAb2G1eteaT6MOWF988YWKioo0ZMgQ%2B9iwYcMUExOj4OBgSVLHjh317bffKjMz0%2BmAlZWVpbS0NIexhIQEJSYmmlc8AABeJCSkmatLMFWjDlgff/yxoqOjdd1119nHLBaLPVxdEh4erl27djk9b3x8vGJjYx3GrNYAlZScu7qCAQDwUvX1Gemq4NaoA9bevXvVvXt3h7HU1FTt2bNHr7/%2Bun0sPz9f4eHhTs8bFhZW7XSgzXZGlZVVV1UvAADeyts%2BI73rhGctFRQU6Oabb3YYi4mJUXZ2tlatWqXDhw/rrbfe0vr16zVx4kQXVQkAADxNow5YJ06cUFBQkMNY165dlZqaqg0bNmjo0KHKyMjQ/PnzFRkZ6aIqAQCAp2n0pwgvZ8CAARowYEADVwMAALxFo17BAgAAqA8ELAAAAJMRsAAAAExGwAIAADAZAQsAAMBkBCwAAACTEbAAAABMRsACAAAwGQELAADAZAQsAAAAkxGwAAAATEbAAgAAMBkBCwAAwGQELAAAAJMRsAAAAExGwAIAADAZAQsAAMBkBCwAAACTEbAAAABMRsACAAAwGQELAADAZAQsAAAAkxGwAAAATEbAAgAAMFmjDFj/%2B7//qw4dOjg8EhMTJUlHjhzR%2BPHj1a1bNw0ePFjbt293cbUAAMDTWF1dgCscPHhQMTExmjt3rn3M19dXhmEoISFB7du317p167RlyxZNnjxZ77//vtq0aePCigEAgCdplAGrsLBQ7du3V2hoqMP4zp07deTIEa1Zs0YBAQG66aabtHPnTq1bt05TpkxxUbUAAMDTNMpThIWFhWrXrl218by8PHXu3FkBAQH2saioKOXm5jZgdQAAwNM1uhUswzD0zTffaPv27Vq%2BfLkuXryoQYMGKTExUTabTWFhYQ6vb9GihY4fP16rfRQXF8tmszmMWa0B1eYGAAA/sVq9a82n0QWsY8eOqaysTD4%2BPlq0aJG%2B%2B%2B47JSUl6cKFC/bxn/Px8VFFRUWt9pGVlaW0tDSHsYSEBPuF9AAAwFFISDNXl2CqRhew2rZtq08//VTXXXedLBaLOnXqpKqqKj399NMaPny4ysrKHF5fUVEhPz%2B/Wu0jPj5esbGxDmNWa4BKSs5ddf0AAHij%2BvqMdFVwa3QBS5KCg4Mdnt90000qLy9XaGioDh065LDtxIkTtT61FxYWVu09NtsZVVZW1a1gAAC8nLd9RnrXCU8nfPzxx%2BrZs6fDStXXX3%2Bt4OBgRUVF6auvvtKFCxfs23JychQREeGKUgEAgIdqdAErMjJSvr6%2BevbZZ3Xo0CH93//9n15%2B%2BWU99NBD6tGjh1q3bq0ZM2aooKBAK1as0N69ezVq1ChXlw0AADxIowtYgYGBWrVqlU6ePKmRI0dq1qxZio%2BP10MPPaSmTZsqPT1dNptNI0aM0MaNG7VkyRJuMgoAAGrFYhiG4eoiGgOb7Uy9zHv3oh31Mi8AAA1p8xO962Xe0NBr62XemjS6FSwAAID6RsACAAAwGQELAADAZAQsAAAAkxGwAAAATEbAAgAAMBkBCwAAwGQELAAAAJMRsAAAAExGwAIAADAZAQsAAMDeg9I0AAAQhElEQVRkBCwAAACTEbAAAABMRsACAAAwGQELAADAZAQsAAAAkxGwAAAATEbAAgAAMBkBCwAAwGQELAAAAJMRsAAAAExGwAIAADAZAQsAAMBkBCwAAACTNcqAVVRUpMTERPXo0UN9%2B/ZVcnKyysvLJUlJSUnq0KGDw2P16tUurhgAAHgSq6sLaGiGYSgxMVFBQUF68803derUKc2cOVNNmjTR9OnTVVhYqKlTp2r48OH29wQGBrqwYgAA4Gka3QrWoUOHlJubq%2BTkZN1yyy2Kjo5WYmKiNm3aJEkqLCxU586dFRoaan/4%2B/u7uGoAAOBJGl3ACg0N1cqVK9WyZUuH8bNnz%2Brs2bMqKipSu3btXFMcAADwCo3uFGFQUJD69u1rf15VVaXVq1erV69eKiwslMVi0bJly7Rt2zYFBwdrwoQJDqcLnVFcXCybzeYwZrUGKCwszJRjAADA21it3rXm0%2BgC1i%2BlpKRo3759euedd/TVV1/JYrEoPDxcY8aMUXZ2tmbPnq3AwEDFxcU5PWdWVpbS0tIcxhISEpSYmGh2%2BQAAeIWQkGauLsFUjTpgpaSk6I033tDChQvVvn173XLLLYqJiVFwcLAkqWPHjvr222%2BVmZlZq4AVHx%2Bv2NhYhzGrNUAlJedMrR8AAG9RX5%2BRrgpujTZgzZ07V5mZmUpJSdHAgQMlSRaLxR6uLgkPD9euXbtqNXdYWFi104E22xlVVlZdXdEAAHgpb/uM9K4Tnk5KS0vTmjVrtGDBAg0ZMsQ%2BnpqaqvHjxzu8Nj8/X%2BHh4Q1cIQAA8GSNLmAVFhYqPT1dDz/8sKKiomSz2eyPmJgYZWdna9WqVTp8%2BLDeeustrV%2B/XhMnTnR12QAAwIM0ulOEW7du1cWLF7V06VItXbrUYdv%2B/fuVmpqqxYsXKzU1VW3bttX8%2BfMVGRnpomoBAIAnshiGYbi6iMbAZjtTL/PevWhHvcwLAEBD2vxE73qZNzT02nqZtyaN7hQhAABAfSNgAQAAmIyABQAAYDICFgAAgMkIWAAAACYjYAEAAJiMgAUAAGAyAhYAAIDJCFgAAAAmI2ABAACYjIAFAABgMgIWAACAyQhYAAAAJiNgAQAAmIyABQAAYDICFgAAgMkIWAAAACYjYAEAAJiMgAUAAGAyAhYAAIDJCFgAAAAmI2ABAACYjIAFAABgMgIWAACAyQhYl1FeXq6ZM2cqOjpaffr00WuvvebqkgAAgAexuroAd/Tyyy/ryy%2B/1BtvvKFjx45p%2BvTpatOmjQYNGuTq0gAAgAcgYP3C%2BfPntXbtWr366qvq0qWLunTpooKCAr355psELAAA4BROEf5Cfn6%2BKisrFRkZaR%2BLiopSXl6eqqqqXFgZAADwFKxg/YLNZlNISIh8fHzsYy1btlR5eblKS0vVvHnzGucoLi6WzWZzGLNaAxQWFmZ6vQAAeAOr1bvWfAhYv1BWVuYQriTZn1dUVDg1R1ZWltLS0hzGJk%2BerClTpphT5M989qLnnbYsLi5WVlaW4uPjCZ1XQI%2BcQ5%2BujN7UjB7VjB7VnXfFRRP4%2BvpWC1KXnvv5%2BTk1R3x8vN59912HR3x8vOm1eiqbzaa0tLRqq3z4/9Ej59CnK6M3NaNHNaNHdccK1i%2B0atVKJSUlqqyslNX6U3tsNpv8/PwUFBTk1BxhYWEkfQAAGjFWsH6hU6dOslqtys3NtY/l5OTotttuU5MmtAsAANSMxPAL/v7%2BGjZsmObMmaO9e/dqy5Yteu211zR27FhXlwYAADxE0zlz5sxxdRHuplevXtq3b5/mz5%2BvnTt36rHHHtPIkSNdXZZXadasmXr06KFmzZq5uhS3RY%2BcQ5%2BujN7UjB7VjB7VjcUwDMPVRQAAAHgTThECAACYjIAFAABgMgIWAACAyQhYAAAAJiNgAQAAmIyABQAAYDICFgAAgMkIWAAAACYjYOGyioqKlJiYqB49eqhv375KTk5WeXm5JOnIkSMaP368unXrpsGDB2v79u2XnWPjxo36/e9/X238zTffVP/%2B/dW9e3clJiaqtLTUqZo%2B%2B%2Bwz3XnnndXGN23apAEDBigiIkIJCQk6efJkLY607jylR4ZhaMWKFYqNjVX37t01btw4HTx4sJZHW3f10afvvvtOHTp0uOwjOzv7irXs27dPo0ePVkREhEaOHKkvv/zSvs0VffKU3vzc5s2b1aFDh6s46trxpB598MEHGjhwoLp166aJEyfq6NGjJnSgZp7SI8Mw9Morr6hfv366/fbb9cQTTzTYv9cuYQC/UFVVZdx///3GQw89ZBw4cMDIzs424uLijJdeesmoqqoy7rnnHmPq1KnGwYMHjWXLlhkRERHG0aNHHebYuXOnERERYYwZM8Zh/O9//7vRtWtX44MPPjD2799vjBo1yvjjH/9YY035%2BfnGHXfcYcTExDiM5%2BXlGV27djXee%2B894%2BuvvzbGjBljPPLII1ffhBp4Uo/eeusto2fPnsaHH35oHDp0yJg5c6bRv39/4/z581ffiBrUV58qKyuN4uJih8eTTz5pjBw50qioqLhsLefOnTN69%2B5tvPTSS8bBgweNuXPnGnfccYdx7tw5wzAavk%2Be1JtLTp06ZfTu3dto3769%2BQ25DE/qUU5OjtG5c2cjMzPTKCwsNB599FHj/vvvr7/m/H88qUeZmZlGv379jE8//dTYv3%2B/8eCDDxqPPfZY/TXHxQhYqObgwYNG%2B/btDZvNZh/729/%2BZvTp08f45JNPjG7dujn8wztu3Dhj8eLF9uevvPKKceuttxpDhw6tFh6GDRtmvPLKK/bnu3fvNoYMGWJUVlZesZ7MzEyjW7duxj333FMtPDz99NPG9OnT7c%2BPHTtmdOjQwTh8%2BHDtD7wWPKlHo0ePNpYvX25/XlFRYXTr1s3Yvn177Q%2B8luqzTz%2BXk5NjdOnSxTh48OAVX7N27VojNjbWqKqqMgzjpw%2BmuLg4Y926dYZhNHyfPKk3l8yaNct44IEHGixgeVKPEhISjGeeecb%2B%2BsOHDxsxMTHGDz/8UPsDrwVP6tFjjz1mvPTSS/bXb9261ejWrVvtD9pDcIoQ1YSGhmrlypVq2bKlw/jZs2eVl5enzp07KyAgwD4eFRWl3Nxc%2B/MdO3Zo1apVuuuuu6q9f9%2B%2BfYqLi7OP3X777dq0aZOaNm16xXq2bdumefPmafz48dW25eXlKTo62v68devWatOmjfLy8pw%2B3rrwpB5NmzZN9957r/25xWKRYRg6c%2BaM08dbV/XVp1%2BaP3%2B%2B7r//ft10001XfE1eXp6ioqJksVgk/dSH7t272/fX0H3ypN5I0u7du7V792499thjtTrOq%2BFJPdq9e7fDz%2B0NN9ygDz/8UM2bN3f%2BgOvAk3oUHBysf/3rXyoqKtKFCxf097//XZ06dar1MXsKAhaqCQoKUt%2B%2Bfe3Pq6qqtHr1avXq1Us2m01hYWEOr2/RooWOHz9uf56ZmakePXpUm/fIkSOSpJMnT%2BqBBx5Qnz59NH36dJ0%2BffpX60lPT7/iD39xcXGN9dQHT%2BpRdHS0fvOb39ifr127VpWVlYqKiqr5QK9SffXp53JycpSbm6tHH330V19X0/4auk%2Be1JuKigrNnj1bzz33nPz8/Jw6PjN4So9Onz6tU6dO6eLFi5o0aZJ69%2B6tP/zhDyoqKnL2UOvMU3okSQkJCbJarerXr5%2B6d%2B%2Buzz77TAsWLHDqOD0RAQs1SklJ0b59%2B/THP/5RZWVl8vHxcdju4%2BOjioqKGuc5d%2B6cJOmFF17Qww8/rNTUVBUUFGjatGl1ru3ChQt1rsdM7tyjn8vLy9O8efM0adIkhYaGmjJnbZjVp597%2B%2B23FRcXp1atWv3q62qzP1f0yZ17s2TJEnXp0kV9%2BvSp1f7N5q49On/%2BvCQpKSlJ99xzj5YuXaqKigo9%2BuijqqqqqlU9V8tdeyRJR48elZ%2Bfn5YtW6aMjAz95je/0cyZM2tViychYOFXpaSk6I033lBKSorat28vX1/faj%2BcFRUVTv2v1mq1SpIeeeQR3XnnnYqKitKLL76ojz76SEVFRVq2bJkiIyPtj88%2B%2B6zGOa9Uj7%2B/fy2O8uq4e48u2bNnjyZNmqR%2B/frpv//7v2t3kCYws0%2BXVFZWauvWrQ6n9iRdtk/O7s8VfXLn3hw4cEBvv/22yz8I3blHl07fjx49WsOGDVPXrl315z//WQcOHHA4HVff3LlHhmFo%2BvTpmjBhgmJiYhQVFaVFixbpk08%2BqfdLOlzF6uoC4L7mzp2rzMxMpaSkaODAgZKkVq1aVfvV9RMnTlRbFr6cSysB4eHh9rH//M//lCQdP35cDzzwgO6%2B%2B277tpr%2Bt3TpNSdOnKhWT0OtOnhCjyTp008/1WOPPabevXtr/vz5atKkYf9vZXafLsnNzVVlZaV69%2B7tMH65Pl3p78rP9%2BeKPrl7b/75z3/q1KlT9uuLLl68KEmKjIzU888/X%2B2Dtz64e49CQkJ0zTXXOPzchoSEKDg4uN4vV7jE3Xt08uRJff/99w63%2BGjdurVCQkJ09OhRRUREOF2Tp2AFC5eVlpamNWvWaMGCBRoyZIh9PCIiQl999ZUuXLhgH8vJyXHqh6NNmzYKCwtTfn6%2BfaywsFAWi0Vt2rRRcHCwbrzxRvvDmf9lRUREKCcnx/78%2B%2B%2B/1/fff98gP6ye0qMDBw7oD3/4g/r27atFixbpmmuuqeWRXp366NMleXl56tKli3x9fR3GL9eniIgI7dmzR4ZhSPrpnjyff/65fX%2Bu6JMn9GbMmDHavHmz1q9fr/Xr1yspKUmStH79esXGxl7N4TvFE3pktVrVpUsXh5/bkydPqqSkRG3btq3roTvNE3p03XXXycfHR4WFhfY5Tp48qdLSUl1//fV1PXS3RsBCNYWFhUpPT9fDDz%2BsqKgo2Ww2%2B6NHjx5q3bq1ZsyYoYKCAq1YsUJ79%2B7VqFGjapzXYrFo/PjxWrx4sXbs2KH8/HzNmTNHAwYMqPOK04MPPqgNGzZo7dq1ys/P17Rp09S/f3/dcMMNdZrPWZ7Uo%2Beee85eT0lJib3On/%2BjW1/qq0%2BXFBQU/OpvNf3coEGDdPr0ab344os6ePCgXnzxRZWVldn/F97QffKU3vzyg/TSqumNN96owMDAOh27szylR5I0YcIEZWRkaPPmzSosLNTMmTPVqVMnde3atU7H7ixP6ZHVatWIESM0b948ZWdn68CBA3r66acVERGh2267ra6H79Y4RYhqtm7dqosXL2rp0qVaunSpw7b9%2B/crPT1ds2bN0ogRI3TjjTdqyZIlatOmjVNzT5w4UeXl5Zo2bZrOnz%2Bv2NhYzZkzp861RkZG6oUXXtDixYt16tQp9e7dW3Pnzq3zfM7ylB7ZbDbt2bNHktS/f3%2BHbcnJyRoxYkSd5nVWffZJ%2Bun0g7O/5h0YGKjly5frT3/6k95%2B%2B2116NBBK1asUEBAgEv65Cm9cSVP6tGlcJGSkqIffvhBPXr0UHp6uv2WBfXFk3o0c%2BZMLVq0SFOnTlV5ebnuuOMOpaSk1HuPXMViXFrLAwAAgCk4RQgAAGAyAhYAAIDJCFgAAAAmI2ABAACYjIAFAABgMgIWAACAyQhYAAAAJiNgAQAAmIyABQAAYDICFgAAgMkIWAAAACYjYAEAAJiMgAUAAGCy/wddgOJ5XUfBwgAAAABJRU5ErkJggg%3D%3D\">\n",
       "</div>\n",
       "</div><div class=\"row variablerow\">\n",
       "    <div class=\"col-md-3 namecol\">\n",
       "        <p class=\"h4 pp-anchor\" id=\"pp_var_prcp\">prcp<br/>\n",
       "            <small>Numeric</small>\n",
       "        </p>\n",
       "    </div><div class=\"col-md-6\">\n",
       "    <div class=\"row\">\n",
       "        <div class=\"col-sm-6\">\n",
       "            <table class=\"stats \">\n",
       "                <tr>\n",
       "                    <th>Distinct count</th>\n",
       "                    <td>160</td>\n",
       "                </tr>\n",
       "                <tr>\n",
       "                    <th>Unique (%)</th>\n",
       "                    <td>7.9%</td>\n",
       "                </tr>\n",
       "                <tr class=\"ignore\">\n",
       "                    <th>Missing (%)</th>\n",
       "                    <td>0.0%</td>\n",
       "                </tr>\n",
       "                <tr class=\"ignore\">\n",
       "                    <th>Missing (n)</th>\n",
       "                    <td>0</td>\n",
       "                </tr>\n",
       "                <tr class=\"ignore\">\n",
       "                    <th>Infinite (%)</th>\n",
       "                    <td>0.0%</td>\n",
       "                </tr>\n",
       "                <tr class=\"ignore\">\n",
       "                    <th>Infinite (n)</th>\n",
       "                    <td>0</td>\n",
       "                </tr>\n",
       "            </table>\n",
       "\n",
       "        </div>\n",
       "        <div class=\"col-sm-6\">\n",
       "            <table class=\"stats \">\n",
       "\n",
       "                <tr>\n",
       "                    <th>Mean</th>\n",
       "                    <td>0.17728</td>\n",
       "                </tr>\n",
       "                <tr>\n",
       "                    <th>Minimum</th>\n",
       "                    <td>0</td>\n",
       "                </tr>\n",
       "                <tr>\n",
       "                    <th>Maximum</th>\n",
       "                    <td>6.7</td>\n",
       "                </tr>\n",
       "                <tr class=\"alert\">\n",
       "                    <th>Zeros (%)</th>\n",
       "                    <td>43.2%</td>\n",
       "                </tr>\n",
       "            </table>\n",
       "        </div>\n",
       "    </div>\n",
       "</div>\n",
       "<div class=\"col-md-3 collapse in\" id=\"minihistogram6677453448331528426\">\n",
       "    <img src=\"data:image/png;base64,iVBORw0KGgoAAAANSUhEUgAAAMgAAABLCAYAAAA1fMjoAAAABHNCSVQICAgIfAhkiAAAAAlwSFlzAAAPYQAAD2EBqD%2BnaQAAARVJREFUeJzt1sEJwkAURVEjKcki0pPr9GQR9jTuRS5EDFE5Zz/wNpc/0xhjnICXzkcPgG82Hz3g2eV62/zmvi47LAEXBJJAIAgEgkAgCASCQCAIBIJAIAgEgkAgCASCQCAIBIJAIAgEgkAgCASCQCAIBIJAIAgEgkAgCASCQCAIBIJAIAgEgkAgCASCQCAIBIJAIAgEgkAgCASCQCAIBIJAIAgEgkAgCASCQCAIBMJ89IBPuFxvm9/c12WHJfwbFwTCX1yQd7xzdbZypX7fNMYYR4%2BAb%2BWLBUEgEAQCQSAQBAJBIBAEAkEgEAQCQSAQBAJBIBAEAkEgEAQCQSAQBAJBIBAEAkEgEAQCQSAQBAJBIBAEAuEBzDoRk4s9MGQAAAAASUVORK5CYII%3D\">\n",
       "\n",
       "</div>\n",
       "<div class=\"col-md-12 text-right\">\n",
       "    <a role=\"button\" data-toggle=\"collapse\" data-target=\"#descriptives6677453448331528426,#minihistogram6677453448331528426\"\n",
       "       aria-expanded=\"false\" aria-controls=\"collapseExample\">\n",
       "        Toggle details\n",
       "    </a>\n",
       "</div>\n",
       "<div class=\"row collapse col-md-12\" id=\"descriptives6677453448331528426\">\n",
       "    <ul class=\"nav nav-tabs\" role=\"tablist\">\n",
       "        <li role=\"presentation\" class=\"active\"><a href=\"#quantiles6677453448331528426\"\n",
       "                                                  aria-controls=\"quantiles6677453448331528426\" role=\"tab\"\n",
       "                                                  data-toggle=\"tab\">Statistics</a></li>\n",
       "        <li role=\"presentation\"><a href=\"#histogram6677453448331528426\" aria-controls=\"histogram6677453448331528426\"\n",
       "                                   role=\"tab\" data-toggle=\"tab\">Histogram</a></li>\n",
       "        <li role=\"presentation\"><a href=\"#common6677453448331528426\" aria-controls=\"common6677453448331528426\"\n",
       "                                   role=\"tab\" data-toggle=\"tab\">Common Values</a></li>\n",
       "        <li role=\"presentation\"><a href=\"#extreme6677453448331528426\" aria-controls=\"extreme6677453448331528426\"\n",
       "                                   role=\"tab\" data-toggle=\"tab\">Extreme Values</a></li>\n",
       "\n",
       "    </ul>\n",
       "\n",
       "    <div class=\"tab-content\">\n",
       "        <div role=\"tabpanel\" class=\"tab-pane active row\" id=\"quantiles6677453448331528426\">\n",
       "            <div class=\"col-md-4 col-md-offset-1\">\n",
       "                <p class=\"h4\">Quantile statistics</p>\n",
       "                <table class=\"stats indent\">\n",
       "                    <tr>\n",
       "                        <th>Minimum</th>\n",
       "                        <td>0</td>\n",
       "                    </tr>\n",
       "                    <tr>\n",
       "                        <th>5-th percentile</th>\n",
       "                        <td>0</td>\n",
       "                    </tr>\n",
       "                    <tr>\n",
       "                        <th>Q1</th>\n",
       "                        <td>0</td>\n",
       "                    </tr>\n",
       "                    <tr>\n",
       "                        <th>Median</th>\n",
       "                        <td>0.02</td>\n",
       "                    </tr>\n",
       "                    <tr>\n",
       "                        <th>Q3</th>\n",
       "                        <td>0.13</td>\n",
       "                    </tr>\n",
       "                    <tr>\n",
       "                        <th>95-th percentile</th>\n",
       "                        <td>0.94</td>\n",
       "                    </tr>\n",
       "                    <tr>\n",
       "                        <th>Maximum</th>\n",
       "                        <td>6.7</td>\n",
       "                    </tr>\n",
       "                    <tr>\n",
       "                        <th>Range</th>\n",
       "                        <td>6.7</td>\n",
       "                    </tr>\n",
       "                    <tr>\n",
       "                        <th>Interquartile range</th>\n",
       "                        <td>0.13</td>\n",
       "                    </tr>\n",
       "                </table>\n",
       "            </div>\n",
       "            <div class=\"col-md-4 col-md-offset-2\">\n",
       "                <p class=\"h4\">Descriptive statistics</p>\n",
       "                <table class=\"stats indent\">\n",
       "                    <tr>\n",
       "                        <th>Standard deviation</th>\n",
       "                        <td>0.46119</td>\n",
       "                    </tr>\n",
       "                    <tr>\n",
       "                        <th>Coef of variation</th>\n",
       "                        <td>2.6015</td>\n",
       "                    </tr>\n",
       "                    <tr>\n",
       "                        <th>Kurtosis</th>\n",
       "                        <td>51.913</td>\n",
       "                    </tr>\n",
       "                    <tr>\n",
       "                        <th>Mean</th>\n",
       "                        <td>0.17728</td>\n",
       "                    </tr>\n",
       "                    <tr>\n",
       "                        <th>MAD</th>\n",
       "                        <td>0.23638</td>\n",
       "                    </tr>\n",
       "                    <tr class=\"\">\n",
       "                        <th>Skewness</th>\n",
       "                        <td>5.8556</td>\n",
       "                    </tr>\n",
       "                    <tr>\n",
       "                        <th>Sum</th>\n",
       "                        <td>358.28</td>\n",
       "                    </tr>\n",
       "                    <tr>\n",
       "                        <th>Variance</th>\n",
       "                        <td>0.2127</td>\n",
       "                    </tr>\n",
       "                    <tr>\n",
       "                        <th>Memory size</th>\n",
       "                        <td>15.9 KiB</td>\n",
       "                    </tr>\n",
       "                </table>\n",
       "            </div>\n",
       "        </div>\n",
       "        <div role=\"tabpanel\" class=\"tab-pane col-md-8 col-md-offset-2\" id=\"histogram6677453448331528426\">\n",
       "            <img src=\"data:image/png;base64,iVBORw0KGgoAAAANSUhEUgAAAlgAAAGQCAYAAAByNR6YAAAABHNCSVQICAgIfAhkiAAAAAlwSFlzAAAPYQAAD2EBqD%2BnaQAAIABJREFUeJzt3XtUVXX%2B//HXgROIEoEK/rzMijAvZIooaX2LEsbbT5nMLCmnvHWbryiriczQYjT5RiN2sUDNtPJSxpildvu6ptZ8S7/lZTC8ZBai5m2UQwMphhyB8/vDH2fNiZooP%2BztgedjrfPH%2BWzOPu/9imUvzt5sHB6PxyMAAAAYE2D3AAAAAM0NBQsAAMAwChYAAIBhFCwAAADDKFgAAACGUbAAAAAMo2ABAAAYRsECAAAwjIIFAABgGAULAADAMAoWAACAYRQsAAAAwyhYAAAAhlGwAAAADKNgAQAAGEbBAgAAMIyCBQAAYBgFCwAAwDAKFgAAgGEULAAAAMMoWAAAAIZRsAAAAAyjYAEAABhGwQIAADCMggUAAGAYBQsAAMAwChYAAIBhFCwAAADDKFgAAACGUbAAAAAMo2ABAAAYRsECAAAwjIIFAABgGAULAADAMAoWAACAYRQsAAAAwyhYAAAAhlGwAAAADKNgAQAAGOa0e4CWwuU6bXyfAQEOtW3bRv/85xnV1XmM798fkAEZSGQgkYFEBvXIwTeDdu1C7ZnBlneFEQEBDjkcDgUEOOwexTZkQAYSGUhkIJFBPXK4ODKgYAEAABhGwQIAADCMggUAAGAYBQsAAMAwChYAAIBhFCwAAADDKFgAAACGUbAAAAAMo2ABAAAYRsECAAAwjIIFAABgGAULAADAMAoWAACAYU67B8CFSZj133aP0GgfPHi93SMAAGAJPsECAAAwjIIFAABgGAULAADAMAoWAACAYRQsAAAAwyhYAAAAhlGwAAAADKNgAQAAGEbBAgAAMIyCBQAAYBgFCwAAwDAKFgAAgGEULAAAAMP8vmC53W6lpKRo69atkqRHH31UPXr0aPAYP3689zU333xzg%2B1ff/21d/urr76qxMRExcfHa%2BbMmaqqqrL8uAAAgP9y2j3AhaiurlZGRoaKi4u9a7NmzVJGRob3%2BbFjx3T33Xd7C1Ztba0OHTqkVatWKTo62vt1ERERkqSNGzcqLy9Pubm5ateunTIzM5Wbm6usrCxrDgoAAPg9vy1Y%2B/fvV0ZGhjwej8/6pZdeqksvvdT7/NFHH9Xw4cM1ePBgSdLRo0d17tw59enTR8HBwQ32u2LFCk2YMEFJSUmSpDlz5uiee%2B7R9OnTFRIS0oRHBAAAmgu/PUW4bds2DRw4UAUFBT/5NZ999pm2b9%2Buhx56yLu2f/9%2BdezY8UfLVW1trXbv3q2EhATvWt%2B%2BfXXu3Dnt27fP7AEAAIBmy28/wRo3btzPfs2SJUs0evRodezY0btWUlKiSy65RA888ID27NmjK664Qo888oj69OmjU6dOqbq6WlFRUd6vdzqdCg8P14kTJxo9W2lpqVwul8%2Ba09naZ78mBAb6Vz92Os3PW5%2BBv2VhEhmQgUQGEhnUI4eLIwO/LVg/58iRI9qyZYtmzZrls37w4EF99913uv3225Wenq6//OUvmjBhgt5//33v1wQFBfm8JigoSG63u9HvXVBQoLy8PJ%2B1tLQ0paen/4ojaT4iIto02b7Dwjh9SwZkIJGBRAb1yMHeDJptwdq4caNiY2N15ZVX%2BqzPnTtXZ8%2BeVWhoqCRp9uzZ2rFjh9avX6%2BxY8dKUoMy5Xa7f9H1V6mpqUpOTvZZczpbq7z8zK85lJ/kbz%2BdmD5%2B6XwGYWEhOnWqSrW1dcb37w/IgAwkMpDIoB45%2BGZgV8lqtgVr06ZN%2Bu1vf9tg3el0esuVJDkcDsXExOjkyZMKDw9XcHCwysrK1LVrV0lSTU2NKioqFBkZ2ej3joqKanA60OU6rZqalvmNXq8pj7%2B2tq7F50sGZCCRgUQG9chBthZM//oIpJE8Ho92796tfv36Ndh29913%2B5y%2Bq6ur01dffaWYmBgFBASod%2B/eKiws9G4vKiqS0%2BlUz549LZkdAAD4v2b5CdaxY8d05syZBqcHJSk5OVn5%2BfmKjY3VFVdcoRUrVuj06dMaPXq0pPMXz2dlZal79%2B6KiorS7NmzNXbsWG7RAAAAGq1ZFqxvv/1WknTZZZc12DZx4kRVV1crOztbZWVliouL0yuvvOI9bThy5EgdO3ZMWVlZcrvdGjp0qKZPn27p/AAAwL85PD%2B8UyeahMt12vg%2Bnc4ADZm/yfh%2Bm8oHD15vfJ9OZ4AiItqovPxMi73WgAzIQCIDiQzqkYNvBk35G%2Bz/TrO8BgsAAMBOFCwAAADDKFgAAACGUbAAAAAMo2ABAAAYRsECAAAwjIIFAABgGAULAADAMAoWAACAYRQsAAAAwyhYAAAAhlGwAAAADKNgAQAAGEbBAgAAMIyCBQAAYBgFCwAAwDAKFgAAgGEULAAAAMMoWAAAAIZRsAAAAAyjYAEAABhGwQIAADCMggUAAGAYBQsAAMAwChYAAIBhFCwAAADDKFgAAACGUbAAAAAMo2ABAAAY5vcFy%2B12KyUlRVu3bvWuZWdnq0ePHj6PVatWebd/%2BumnSklJUVxcnMaPH68jR4747PPVV19VYmKi4uPjNXPmTFVVVVl2PAAAwP/5dcGqrq7WQw89pOLiYp/1kpISZWRkaPPmzd7HmDFjJEnHjx9XWlqabr31Vr355ptq27atpkyZIo/HI0nauHGj8vLy9MQTT2j58uXauXOncnNzLT82AADgv/y2YO3fv19jx47V4cOHG2wrKSnRVVddpcjISO8jJCREkrRmzRpdffXVmjx5srp166acnBwdO3ZM27ZtkyStWLFCEyZMUFJSkvr06aM5c%2BZo7dq1fIoFAAAazW8L1rZt2zRw4EAVFBT4rFdWVurkyZOKjo7%2B0dft3LlTCQkJ3uchISHq1auXioqKVFtbq927d/ts79u3r86dO6d9%2B/Y1yXEAAIDmx2n3AL/WuHHjfnS9pKREDodDixcv1ieffKLw8HBNmjRJo0ePliS5XC5FRUX5vKZdu3Y6ceKETp06perqap/tTqdT4eHhOnHiRKNnKy0tlcvl8llzOls3eN8LFRjoX/3Y6TQ/b30G/paFSWRABhIZSGRQjxwujgz8tmD9lAMHDsjhcCgmJkZ33XWXtm/frscff1yhoaEaMmSIqqqqFBQU5POaoKAgud1unT171vv8x7Y3VkFBgfLy8nzW0tLSlJ6e/iuPqnmIiGjTZPsOCwtpsn37CzIgA4kMJDKoRw72ZtDsCtYtt9yipKQkhYeHS5J69uypQ4cOafXq1RoyZIiCg4MblCW3262wsDAFBwd7n/9we/01XI2Rmpqq5ORknzWns7XKy8/8mkP6Sf7204np45fOZxAWFqJTp6pUW1tnfP/%2BgAzIQCIDiQzqkYNvBnaVrGZXsBwOh7dc1YuJidGWLVskSR06dFBZWZnP9rKyMsXGxio8PFzBwcEqKytT165dJUk1NTWqqKhQZGRko2eIiopqcDrQ5TqtmpqW%2BY1erymPv7a2rsXnSwZkIJGBRAb1yEG2Fkz/%2BgikERYsWKCJEyf6rO3bt08xMTGSpLi4OBUWFnq3VVVVae/evYqLi1NAQIB69%2B7ts72oqEhOp1M9e/a0ZH4AAOD/ml3BSkpK0vbt27Vs2TIdPnxYr7/%2ButatW6fJkydLksaMGaMdO3ZoyZIlKi4uVmZmprp06aKBAwdKOn/x/LJly/Thhx9q165dmj17tsaOHfuLThECAICWrdmdIuzTp48WLFig559/XgsWLFDnzp319NNPKz4%2BXpLUpUsXvfDCC3ryySeVn5%2Bv%2BPh45efny%2BFwSJJGjhypY8eOKSsrS263W0OHDtX06dPtPCQAAOBnHJ76W5ijSblcp43v0%2BkM0JD5m4zvt6l88OD1xvfpdAYoIqKNysvPtNhrDciADCQykMigHjn4ZtCUv8H%2B7zS7U4QAAAB2o2ABAAAYRsECAAAwjIIFAABgGAULAADAMAoWAACAYRQsAAAAwyhYAAAAhlGwAAAADKNgAQAAGEbBAgAAMIyCBQAAYBgFCwAAwDAKFgAAgGEULAAAAMMoWAAAAIZRsAAAAAyjYAEAABhGwQIAADCMggUAAGAYBQsAAMAwChYAAIBhFCwAAADDKFgAAACGUbAAAAAMo2ABAAAYRsECAAAwjIIFAABgGAULAADAML8vWG63WykpKdq6dat3raioSHfccYfi4%2BM1bNgwrVmzxuc1N998s3r06OHz%2BPrrr73bX331VSUmJio%2BPl4zZ85UVVWVZccDAAD8n9PuAS5EdXW1MjIyVFxc7F1zuVy67777dOedd%2Bqpp57SF198oczMTEVGRmrQoEGqra3VoUOHtGrVKkVHR3tfFxERIUnauHGj8vLylJubq3bt2ikzM1O5ubnKysqy%2BvAAAICf8tuCtX//fmVkZMjj8fisf/jhh2rfvr0eeughSVJ0dLS2bt2qd955R4MGDdLRo0d17tw59enTR8HBwQ32u2LFCk2YMEFJSUmSpDlz5uiee%2B7R9OnTFRIS0vQHBgAA/J7fniLctm2bBg4cqIKCAp/1xMRE5eTkNPj6yspKSeeLWceOHX%2B0XNXW1mr37t1KSEjwrvXt21fnzp3Tvn37DB8BAABorvz2E6xx48b96HqXLl3UpUsX7/Nvv/1W7733nqZNmyZJKikp0SWXXKIHHnhAe/bs0RVXXKFHHnlEffr00alTp1RdXa2oqCjv651Op8LDw3XixIlGz1ZaWiqXy%2BWz5nS29tmvCYGB/tWPnU7z89Zn4G9ZmEQGZCCRgUQG9cjh4sjAbwtWY5w9e1bTpk1T%2B/btlZqaKkk6ePCgvvvuO91%2B%2B%2B1KT0/XX/7yF02YMEHvv/%2B%2B93VBQUE%2B%2BwkKCpLb7W70%2BxYUFCgvL89nLS0tTenp6RdwNP4vIqJNk%2B07LIzTt2RABhIZSGRQjxzszaDZFqwzZ85oypQpOnTokF5//XXv9VNz587V2bNnFRoaKkmaPXu2duzYofXr12vs2LGS1KBMud3uX3T9VWpqqpKTk33WnM7WKi8/cyGH1IC//XRi%2Bvil8xmEhYXo1Kkq1dbWGd%2B/PyADMpDIQCKDeuTgm4FdJatZFqzKykrde%2B%2B9Onz4sJYvX%2B7z24JOp9NbriTJ4XAoJiZGJ0%2BeVHh4uIKDg1VWVqauXbtKkmpqalRRUaHIyMhGv39UVFSD04Eu12nV1LTMb/R6TXn8tbV1LT5fMiADiQwkMqhHDrK1YPrXRyCNUFdXp6lTp%2Bro0aNauXKlunXr5rP97rvv9jl9V1dXp6%2B%2B%2BkoxMTEKCAhQ7969VVhY6N1eVFQkp9Opnj17WnYMAADAvzW7T7DefPNNbd26VYsWLVJYWJj3YvNLLrlE4eHhSk5OVn5%2BvmJjY3XFFVdoxYoVOn36tEaPHi3p/MXzWVlZ6t69u6KiojR79myNHTuWWzQAAIBGa3YFa%2BPGjaqrq9MDDzzgsz5gwACtXLlSEydOVHV1tbKzs1VWVqa4uDi98sor3tOGI0eO1LFjx5SVlSW3262hQ4dq%2BvTpdhwKAADwUw7PD%2B/UiSbhcp02vk%2BnM0BD5m8yvt%2Bm8sGD1xvfp9MZoIiINiovP9NirzUgAzKQyEAig3rk4JtBU/4G%2B7/T7K7BAgAAsBsFCwAAwDAKFgAAgGEULAAAAMMsL1i333673njjDZ0%2Bbf6ibwAAgIuB5QXr2muv1eLFi3XDDTfooYce0ubNm8UvMgIAgObE8oKVkZGhv/3tb1q4cKECAwM1bdo0DRo0SM8%2B%2B6wOHjxo9TgAAADG2XKjUYfDoeuvv17XX3%2B9qqqqtHLlSi1cuFBLlixRv379NGHCBA0dOtSO0QAAAC6YbXdyLy0t1YYNG7RhwwZ9/fXX6tevn0aPHq0TJ07oscce0/bt2zVr1iy7xgMAAPjVLC9Y69ev1/r167V161a1bdtWt9xyi55//nlFR0d7v6Zjx476r//6LwoWAADwS5YXrFmzZikpKUn5%2Bfm68cYbFRDQ8DKwmJgY3XXXXVaPBgAAYITlBeuTTz5RRESEKioqvOVq165d6tWrlwIDAyVJ/fr1U79%2B/aweDQAAwAjLf4uwsrJSw4cP10svveRdu//%2B%2BzVq1Cj94x//sHocAAAA4ywvWE8%2B%2BaQuv/xyTZo0ybv2/vvvq2PHjsrJybF6HAAAAOMsL1h///vf9eijjyoyMtK71rZtWz3yyCPasmWL1eMAAAAYZ3nBcjqdOnXqVIP1qqoq7ugOAACaBcsL1o033qjs7GwdPnzYu3bkyBHl5OQoMTHR6nEAAACMs/y3CGfMmKFJkyZp2LBhCgsLkySdOnVKvXr1UmZmptXjAAAAGGd5wWrXrp3efvttffrppyouLpbT6dSVV16p6667Tg6Hw%2BpxAAAAjLPlT%2BUEBgYqMTGRU4IAAKBZsrxguVwuPffcc9qxY4fOnTvX4ML2jz76yOqRAAAAjLK8YD3%2B%2BOPas2ePRo4cqUsvvdTqtwcAAGhylhesLVu2aOnSpUpISLD6rQEAACxh%2BW0aWrdurXbt2ln9tgAAAJaxvGCNGjVKS5cuVW1trdVvDQAAYAnLTxFWVFTo3Xff1f/8z//oN7/5jYKCgny2r1ixwuqRAAAAjLLlNg0pKSl2vC0AAIAlLC9YOTk5Vr8lAACApSy/BkuSSktLlZeXp4yMDH377bf67//%2Bbx04cOBX7cvtdislJUVbt271rh05ckQTJ05U3759NWLECG3evNnnNZ9%2B%2BqlSUlIUFxen8ePH68iRIz7bX331VSUmJio%2BPl4zZ85UVVXVr5oNAAC0TJYXrG%2B%2B%2BUa/%2B93v9Pbbb2vjxo36/vvv9f7772vMmDHauXPnL9pXdXW1HnroIRUXF3vXPB6P0tLS1L59e61du1ajRo3S1KlTdfz4cUnS8ePHlZaWpltvvVVvvvmm2rZtqylTpnhveLpx40bl5eXpiSee0PLly7Vz507l5uaaCwAAADR7lhesp556SoMHD9aHH36oSy65RJL0zDPPKDk5WfPnz2/0fvbv36%2BxY8fq8OHDPutbtmzRkSNH9MQTT6hr16564IEH1LdvX61du1aStGbNGl199dWaPHmyunXrppycHB07dkzbtm2TdP4i%2BwkTJigpKUl9%2BvTRnDlztHbtWj7FAgAAjWZ5wdqxY4cmTZrk84ednU6npkyZor179zZ6P9u2bdPAgQNVUFDgs75z505dddVVat26tXetf//%2BKioq8m7/15uchoSEqFevXioqKlJtba12797ts71v3746d%2B6c9u3b94uPFQAAtEyWX%2BReV1enurq6ButnzpxRYGBgo/czbty4H113uVyKioryWWvXrp1OnDjxs9tPnTql6upqn%2B1Op1Ph4eHe1wMAAPwcywvWDTfcoBdffNHnuqaKigrl5ubq2muvveD9V1VVNbi3VlBQkNxu989uP3v2rPf5T72%2BMUpLS%2BVyuXzWnM7WDYrdhQoMtOV3FH41p9P8vPUZ%2BFsWJpEBGUhkIJFBPXK4ODKwvGA9%2BuijGj9%2BvG644QZVV1frP//zP3Xs2DGFh4frqaeeuuD9BwcHq6KiwmfN7XarVatW3u0/LEtut1thYWEKDg72Pv/h9pCQkEbPUFBQoLy8PJ%2B1tLQ0paenN3ofzVFERJsm23dYWOP/%2BzRXZEAGEhlIZFCPHOzNwPKC1aFDB61bt07vvvuuvvzyS9XV1enOO%2B/UqFGjFBoaamT/%2B/fv91krKyvzfnrUoUMHlZWVNdgeGxur8PBwBQcHq6ysTF27dpUk1dTUqKKiQpGRkY2eITU1VcnJyT5rTmdrlZef%2BTWH9JP87acT08cvnc8gLCxEp05Vqba24annloAMyEAiA4kM6pGDbwZ2lSxb7uQeEhKi22%2B/vUn2HRcXpyVLlujs2bPeT60KCwvVv39/7/bCwkLv11dVVWnv3r2aOnWqAgIC1Lt3bxUWFmrgwIGSpKKiIjmdTvXs2bPRM0RFRTU4HehynVZNTcv8Rq/XlMdfW1vX4vMlAzKQyEAig3rkIFsLpuUFa/z48f92%2B4X%2BLcIBAwaoY8eOyszM1JQpU/S3v/1Nu3bt8t5BfsyYMVq2bJmWLFmipKQk5efnq0uXLt5CNW7cOGVlZal79%2B6KiorS7NmzNXbs2F90ihAAALRslheszp07%2BzyvqanRN998o6%2B//loTJky44P0HBgZq4cKFmjVrlm699VZdfvnlys/PV6dOnSRJXbp00QsvvKAnn3xS%2Bfn5io%2BPV35%2Bvve2ESNHjtSxY8eUlZUlt9utoUOHavr06Rc8FwAAaDkcnvpbmNssPz9fJ06c0Ny5c%2B0epUm4XKeN79PpDNCQ%2BZuM77epfPDg9cb36XQGKCKijcrLz7TYj8LJgAwkMpDIoB45%2BGbQlL9g9e9cNFdJjxo1Sh988IHdYwAAAFywi6Zgff7557/oRqMAAAAXq4viIvfKykp99dVXP3l3dgAAAH9iecHq1KmTz98hlKRLLrlEd911l26%2B%2BWarxwEAADDO8oJl4m7tAAAAFzPLC9b27dsb/bXXXHNNE04CAADQNCwvWHfffbf3FOG/3iHih2sOh0Nffvml1eMBAABcMMsL1uLFi5Wdna3p06drwIABCgoK0u7du/XEE09o9OjRGjFihNUjAQAAGGX5bRpycnKUlZWlYcOGKSIiQm3atNG1116rJ554QqtXr1bnzp29DwAAAH9kecEqLS390fIUGhqq8vJyq8cBAAAwzvKC1bdvXz3zzDOqrKz0rlVUVCg3N1fXXXed1eMAAAAYZ/k1WI899pjGjx%2BvG2%2B8UdHR0fJ4PDp06JAiIyO1YsUKq8cBAAAwzvKC1bVrV73//vt69913VVJSIkn6/e9/r5EjRyokJMTqcQAAAIyzvGBJ0mWXXabbb79dR48e1W9%2B8xtJ5%2B/mDgAA0BxYfg2Wx%2BPR/Pnzdc011yglJUUnTpzQjBkzNGvWLJ07d87qcQAAAIyzvGCtXLlS69ev15/%2B9CcFBQVJkgYPHqwPP/xQeXl5Vo8DAABgnOUFq6CgQFlZWbr11lu9d28fMWKEsrOz9c4771g9DgAAgHGWF6yjR48qNja2wXrPnj3lcrmsHgcAAMA4ywtW586dtXv37gbrn3zyifeCdwAAAH9m%2BW8R3nPPPZozZ45cLpc8Ho8%2B%2B%2BwzFRQUaOXKlXr00UetHgcAAMA4ywvWmDFjVFNTo0WLFuns2bPKyspS27Zt9eCDD%2BrOO%2B%2B0ehwAAADjLC9Y7777roYPH67U1FT985//lMfjUbt27aweAwAAoMlYfg3WE0884b2YvW3btpQrAADQ7FhesKKjo/X1119b/bYAAACWsfwUYc%2BePfXwww9r6dKlio6OVnBwsM/2nJwcq0cCAAAwyvKCdfDgQfXv31%2BSuO8VAABoliwpWPPmzdPUqVPVunVrrVy50oq3BAAAsI0l12C98sorqqqq8lm7//77VVpaasXbAwAAWMqSguXxeBqsbd%2B%2BXdXV1Va8PQAAgKUs/y1CK7z11lvq0aNHg0fPnj0lSdnZ2Q22rVq1yvv6Tz/9VCkpKYqLi9P48eN15MgRuw4FAAD4IcsvcrfCiBEjlJiY6H1eU1OjCRMmaNCgQZKkkpISZWRkaPTo0d6vCQ0NlSQdP35caWlpmjZtmhITE5Wfn68pU6Zow4YNcjgclh4HAADwT5Z9gmVlOWnVqpUiIyO9jw0bNsjj8ejhhx%2BWdL5gXXXVVT5fExISIklas2aNrr76ak2ePFndunVTTk6Ojh07pm3btlk2PwAA8G%2BWfYKVnZ3tc8%2Brc%2BfOKTc3V23atPH5OtP3waqoqNBLL72k7OxsBQUFqbKyUidPnlR0dPSPfv3OnTuVkJDgfR4SEqJevXqpqKhIAwcONDobAABoniwpWNdcc02De17Fx8ervLxc5eXlTfreq1evVlRUlIYPHy7p/KdXDodDixcv1ieffKLw8HBNmjTJe7rQ5XIpKirKZx/t2rXTiRMnmnROAADQfFhSsOy695XH49GaNWt07733etcOHDggh8OhmJgY3XXXXdq%2Bfbsef/xxhYaGasiQIaqqqlJQUJDPfoKCguR2uxv9vqWlpQ0KpdPZukFxu1CBgf71OwpOp/l56zPwtyxMIgMykMhAIoN65HBxZNAsL3Kvt3v3bp08eVIjR470rt1yyy1KSkpSeHi4pPN/uufQoUNavXq1hgwZouDg4AZlyu12KywsrNHvW1BQoLy8PJ%2B1tLQ0paenX8DR%2BL%2BIiDY//0W/UlhYSJPt21%2BQARlIZCCRQT1ysDeDZl2wNm3apISEBF122WXeNYfD4S1X9WJiYrRlyxZJUocOHVRWVuazvaysTLGxsY1%2B39TUVCUnJ/usOZ2tVV5%2B5pcewr/lbz%2BdmD5%2B6XwGYWEhOnWqSrW1dcb37w/IgAwkMpDIoB45%2BGZgV8lq1gVr165d6tevn8/aggUL9Pnnn%2BvVV1/1ru3bt08xMTGSpLi4OBUWFnq3VVVVae/evZo6dWqj3zcqKqrB6UCX67RqalrmN3q9pjz%2B2tq6Fp8vGZCBRAYSGdQjB9laMP3rI5BfqLi4WFdeeaXPWlJSkrZv365ly5bp8OHDev3117Vu3TpNnjxZkjRmzBjt2LFDS5YsUXFxsTIzM9WlSxd%2BgxAAADRasy5YZWVlDa6d6tOnjxYsWKD169crJSVFK1eu1NNPP634%2BHhJUpcuXfTCCy9o7dq1uu2221RRUaH8/HxuMgoAABqt2Z8i/DGDBw/W4MGDf/J1N910k2666aamGgsAADRzzfoTLAAAADtQsAAAAAyjYAEAABhGwQIAADCMggUAAGAYBQsAAMAwChYAAIBhFCwAAADDKFgAAACGUbAAAAAMo2ABAAAYRsECAAAwjIIFAABgGAULAADAMAoWAACAYRQsAAAAwyhYAAAAhlGwAAAADKNgAQAAGEbBAgAAMIyCBQAAYBgFCwAAwDAKFgAAgGEULAAAAMMoWAAAAIZRsAAAAAyjYAEAABhGwQIAADCMggUAAGBYsy1Yf/3rX9WjRw%2BfR3p6uiTpyJFhcQBqAAASoUlEQVQjmjhxovr27asRI0Zo8%2BbNPq/99NNPlZKSori4OI0fP15Hjhyx4xAAAICfarYFa//%2B/UpKStLmzZu9j%2BzsbHk8HqWlpal9%2B/Zau3atRo0apalTp%2Br48eOSpOPHjystLU233nqr3nzzTbVt21ZTpkyRx%2BOx%2BYgAAIC/cNo9QFMpKSlR9%2B7dFRkZ6bP%2B2Wef6ciRI3rjjTfUunVrde3aVZ999pnWrl2radOmac2aNbr66qs1efJkSVJOTo6uv/56bdu2TQMHDrTjUAAAgJ9ptp9glZSUKDo6usH6zp07ddVVV6l169betf79%2B6uoqMi7PSEhwbstJCREvXr18m4HAAD4Oc3yEyyPx6ODBw9q8%2BbNevHFF1VbW6vhw4crPT1dLpdLUVFRPl/frl07nThxQpJ%2BdntjlJaWyuVy%2Baw5na0b7PdCBQb6Vz92Os3PW5%2BBv2VhEhmQgUQGEhnUI4eLI4NmWbCOHz%2BuqqoqBQUF6bnnntPRo0eVnZ2ts2fPetf/VVBQkNxutyT97PbGKCgoUF5ens9aWlqa9yL7lioiok2T7TssLKTJ9u0vyIAMJDKQyKAeOdibQbMsWJ07d9bWrVt12WWXyeFwKDY2VnV1dZo%2BfbpGjx6tqqoqn693u91q1aqVJCk4OLhBmXK73QoLC2v0%2B6empio5OdlnzelsrfLyM7/yiH6cv/10Yvr4pfMZhIWF6NSpKtXW1hnfvz8gAzKQyEAig3rk4JuBXSWrWRYsSQoPD/d53rVrV1VXVysyMlIHDhzw2VZWVuY9fdehQweVlZU12B4bG9vo946KimpwOtDlOq2ampb5jV6vKY%2B/trauxedLBmQgkYFEBvXIQbYWTP/6CKSRNm3apIEDB/p8UvXll18qPDxc/fv31xdffKGzZ896txUWFiouLk6SFBcXp8LCQu%2B2qqoq7d2717sdAADg5zTLghUfH6/g4GA99thjOnDggD7%2B%2BGPNmzdP9957rwYMGKCOHTsqMzNTxcXFWrJkiXbt2qXbbrtNkjRmzBjt2LFDS5YsUXFxsTIzM9WlSxdu0QAAABqtWRas0NBQLVu2TP/85z81ZswYzZo1S6mpqbr33nsVGBiohQsXyuVy6dZbb9WGDRuUn5%2BvTp06SZK6dOmiF154QWvXrtVtt92miooK5efny%2BFw2HxUAADAXzTba7C6deumV1555Ue3XX755Vq1atVPvvamm27STTfd1FSjAQCAZq5ZfoIFAABgJwoWAACAYRQsAAAAwyhYAAAAhlGwAAAADKNgAQAAGEbBAgAAMIyCBQAAYBgFCwAAwDAKFgAAgGEULAAAAMMoWAAAAIZRsAAAAAyjYAEAABhGwQIAADCMggUAAGAYBQsAAMAwChYAAIBhFCwAAADDKFgAAACGUbAAAAAMo2ABAAAYRsECAAAwjIIFAABgGAULAADAMAoWAACAYRQsAAAAwyhYAAAAhlGwAAAADGu2BevkyZNKT0/XgAEDlJiYqJycHFVXV0uSsrOz1aNHD5/HqlWrvK/99NNPlZKSori4OI0fP15Hjhyx6zAAAIAfcto9QFPweDxKT09XWFiYXnvtNX333XeaOXOmAgICNGPGDJWUlCgjI0OjR4/2viY0NFSSdPz4caWlpWnatGlKTExUfn6%2BpkyZog0bNsjhcNh1SAAAwI80y0%2BwDhw4oKKiIuXk5Khbt25KSEhQenq63n33XUlSSUmJrrrqKkVGRnofISEhkqQ1a9bo6quv1uTJk9WtWzfl5OTo2LFj2rZtm52HBAAA/EizLFiRkZFaunSp2rdv77NeWVmpyspKnTx5UtHR0T/62p07dyohIcH7PCQkRL169VJRUVFTjgwAAJqRZnmKMCwsTImJid7ndXV1WrVqla699lqVlJTI4XBo8eLF%2BuSTTxQeHq5JkyZ5Txe6XC5FRUX57K9du3Y6ceJEo9%2B/tLRULpfLZ83pbN1gvxcqMNC/%2BrHTaX7e%2Bgz8LQuTyIAMJDKQyKAeOVwcGTTLgvVDubm52rt3r95880198cUXcjgciomJ0V133aXt27fr8ccfV2hoqIYMGaKqqioFBQX5vD4oKEhut7vR71dQUKC8vDyftbS0NKWnpxs5Hn8VEdGmyfYdFhbSZPv2F2RABhIZSGRQjxzszaDZF6zc3FwtX75czz77rLp3765u3bopKSlJ4eHhkqSePXvq0KFDWr16tYYMGaLg4OAGZcrtdissLKzR75mamqrk5GSfNaeztcrLz1z4Af0Lf/vpxPTxS%2BczCAsL0alTVaqtrTO%2Bf39ABmQgkYFEBvXIwTcDu0pWsy5Yc%2BfO1erVq5Wbm6thw4ZJkhwOh7dc1YuJidGWLVskSR06dFBZWZnP9rKyMsXGxjb6faOiohqcDnS5TqumpmV%2Bo9dryuOvra1r8fmSARlIZCCRQT1ykK0F078%2BAvkF8vLy9MYbb%2BiZZ57RyJEjvesLFizQxIkTfb523759iomJkSTFxcWpsLDQu62qqkp79%2B5VXFycJXMDAAD/1ywLVklJiRYuXKj77rtP/fv3l8vl8j6SkpK0fft2LVu2TIcPH9brr7%2BudevWafLkyZKkMWPGaMeOHVqyZImKi4uVmZmpLl26aODAgTYfFQAA8BfN8hThRx99pNraWi1atEiLFi3y2fbVV19pwYIFev7557VgwQJ17txZTz/9tOLj4yVJXbp00QsvvKAnn3xS%2Bfn5io%2BPV35%2BPjcZBQAAjebweDweu4doCVyu08b36XQGaMj8Tcb321Q%2BePB64/t0OgMUEdFG5eVnWuy1BmRABhIZSGRQjxx8M2jK32D/d5rlKUIAAAA7UbAAAAAMo2ABAAAYRsECAAAwjIIFAABgGAULAADAMAoWAACAYRQsAAAAwyhYAAAAhlGwAAAADKNgAQAAGEbBAgAAMIyCBQAAYBgFCwAAwDAKFgAAgGEULAAAAMMoWAAAAIZRsAAAAAyjYAEAABjmtHsAtBz/97n/tXuEX%2BSDB6%2B3ewQAgJ/iEywAAADDKFgAAACGUbAAAAAMo2ABAAAYRsECAAAwjIIFAABgGAULAADAMAoWAACAYRQsAAAAwyhYP6K6ulozZ85UQkKCbrjhBr388st2jwQAAPwIfyrnR8ybN0979uzR8uXLdfz4cc2YMUOdOnXS8OHD7R4NFvK3P%2B3z14cT7R4BAPD/UbB%2B4Pvvv9eaNWv00ksvqVevXurVq5eKi4v12muvUbBwURsyf5PdIzQaf%2BcRQHPHKcIf2Ldvn2pqahQfH%2B9d69%2B/v3bu3Km6ujobJwMAAP6CT7B%2BwOVyKSIiQkFBQd619u3bq7q6WhUVFWrbtu3P7qO0tFQul8tnzelsraioKKOzBgbSj%2BGfOP1qXv2/By353wUyOI8cLo4MKFg/UFVV5VOuJHmfu93uRu2joKBAeXl5PmtTp07VtGnTzAz5/5WWlmrC/ylWamqq8fLmL0pLS1VQUEAGZEAGpaVavnwpGbTwDCRykHwzCAsLsWWGlltvf0JwcHCDIlX/vFWrVo3aR2pqqt566y2fR2pqqvFZXS6X8vLyGnxa1pKQARlIZCCRgUQG9cjh4siAT7B%2BoEOHDiovL1dNTY2czvPxuFwutWrVSmFhYY3aR1RUVIv9qQEAAPAJVgOxsbFyOp0qKiryrhUWFqp3794KCCAuAADw82gMPxASEqJbbrlFs2fP1q5du/Thhx/q5Zdf1vjx4%2B0eDQAA%2BInA2bNnz7Z7iIvNtddeq7179%2Brpp5/WZ599pj/84Q8aM2aM3WP9qDZt2mjAgAFq06aN3aPYhgzIQCIDiQwkMqhHDvZn4PB4PB5b3hkAAKCZ4hQhAACAYRQsAAAAwyhYAAAAhlGwAAAADKNgAQAAGEbBAgAAMIyCBQAAYBgFCwAAwDAKlp%2Bqrq7WzJkzlZCQoBtuuEEvv/yy3SPZxu12KyUlRVu3brV7FMudPHlS6enpGjBggBITE5WTk6Pq6mq7x7LUN998o3vuuUfx8fEaNGiQli5davdItrr//vv16KOP2j2G5f7617%2BqR48ePo/09HS7x7KU2%2B3WnDlzdM011%2Bg//uM/9Mwzz6gl3Uv8rbfeavA90KNHD/Xs2dOWeZy2vCsu2Lx587Rnzx4tX75cx48f14wZM9SpUycNHz7c7tEsVV1drYyMDBUXF9s9iuU8Ho/S09MVFham1157Td99951mzpypgIAAzZgxw%2B7xLFFXV6f7779fvXv31ttvv61vvvlGDz30kDp06KDf/e53do9nuffee08ff/yxRo8ebfcoltu/f7%2BSkpI0d%2B5c71pwcLCNE1kvOztbW7du1bJly3TmzBn98Y9/VKdOnXTHHXfYPZolRowYocTERO/zmpoaTZgwQYMGDbJlHgqWH/r%2B%2B%2B%2B1Zs0avfTSS%2BrVq5d69eql4uJivfbaay2qYO3fv18ZGRkt6ie0f3XgwAEVFRXpf//3f9W%2BfXtJUnp6uv785z%2B3mIJVVlam2NhYzZ49W6GhoYqOjtZ1112nwsLCFlewKioqNG/ePPXu3dvuUWxRUlKi7t27KzIy0u5RbFFRUaG1a9fqlVdeUZ8%2BfSRJkydP1s6dO1tMwWrVqpVatWrlff7iiy/K4/Ho4YcftmUeThH6oX379qmmpkbx8fHetf79%2B2vnzp2qq6uzcTJrbdu2TQMHDlRBQYHdo9giMjJSS5cu9ZarepWVlTZNZL2oqCg999xzCg0NlcfjUWFhobZv364BAwbYPZrl/vznP2vUqFG68sor7R7FFiUlJYqOjrZ7DNsUFhYqNDTU53v//vvvV05Ojo1T2aeiokIvvfSSMjIyFBQUZMsMFCw/5HK5FBER4fNN0759e1VXV6uiosLGyaw1btw4zZw5UyEhIXaPYouwsDCfj8Pr6uq0atUqXXvttTZOZZ/k5GSNGzdO8fHxGjZsmN3jWOqzzz7T3//%2Bd02ZMsXuUWzh8Xh08OBBbd68WcOGDdPgwYM1f/58ud1uu0ezzJEjR9S5c2etW7dOw4cP129/%2B1vl5%2Be3qB%2B6/9Xq1asVFRVl61kdCpYfqqqqatDI65%2B3pH9Q4Cs3N1d79%2B7VH//4R7tHscXzzz%2BvxYsX68svv2xRP7VXV1frT3/6k7KysnxOj7Qkx48f9/67%2BNxzz2nGjBl65513NG/ePLtHs8z333%2Bvb775Rm%2B88YZycnI0Y8YMrVy5Uq%2B%2B%2Bqrdo1nO4/FozZo1uuuuu2ydg2uw/FBwcHCDIlX/vKX%2BA9vS5ebmavny5Xr22WfVvXt3u8exRf21R9XV1Xr44Yf1yCOP2HZqwEp5eXm6%2BuqrfT7NbGk6d%2B6srVu36rLLLpPD4VBsbKzq6uo0ffp0ZWZmKjAw0O4Rm5zT6VRlZaWefvppde7cWdL54rl69WpNnjzZ5umstXv3bp08eVIjR460dQ4Klh/q0KGDysvLVVNTI6fz/H9Cl8ulVq1aKSwszObpYLW5c%2Bdq9erVys3NbXGnxsrKylRUVKTBgwd716688kqdO3dOlZWVatu2rY3TWeO9995TWVmZ95rM%2Bh%2B2Nm7cqM8//9zO0SwVHh7u87xr166qrq7Wd9991yK%2BDyIjIxUcHOwtV5J0xRVX6B//%2BIeNU9lj06ZNSkhI0GWXXWbrHJwi9EOxsbFyOp0qKiryrhUWFqp3794KCOA/aUuSl5enN954Q88884ztP63Z4ejRo5o6dapOnjzpXduzZ4/atm3bIv6nKkkrV67UO%2B%2B8o3Xr1mndunVKTk5WcnKy1q1bZ/doltm0aZMGDhyoqqoq79qXX36p8PDwFvN9EBcXp%2Brqah08eNC7duDAAZ/C1VLs2rVL/fr1s3sMCpY/CgkJ0S233KLZs2dr165d%2BvDDD/Xyyy9r/Pjxdo8GC5WUlGjhwoW677771L9/f7lcLu%2Bjpejdu7d69eqlmTNnav/%2B/fr444%2BVm5urP/zhD3aPZpnOnTvr8ssv9z7atGmjNm3a6PLLL7d7NMvEx8crODhYjz32mA4cOKCPP/5Y8%2BbN07333mv3aJaJiYnRoEGDlJmZqX379mnTpk1asmSJ7rzzTrtHs1xxcfFF8du0nCL0U5mZmZo9e7YmTJig0NBQTZs2TUOHDrV7LFjoo48%2BUm1trRYtWqRFixb5bPvqq69smspagYGBWrhwoebOnavU1FSFhITo7rvv5oeNFiY0NFTLli3Tk08%2BqTFjxqhNmza64447WlTBkqT58%2Bdr7ty5uvPOOxUSEqLf//73uvvuu%2B0ey3JlZWUXxeUyDk9LvUsjAABAE%2BEUIQAAgGEULAAAAMMoWAAAAIZRsAAAAAyjYAEAABhGwQIAADCMggUAAGAYBQsAAMAwChYAAIBhFCwAAADDKFgAAACGUbAAAAAMo2ABAAAY9v8AfYv%2BJ8JBvZcAAAAASUVORK5CYII%3D\"/>\n",
       "        </div>\n",
       "        <div role=\"tabpanel\" class=\"tab-pane col-md-12\" id=\"common6677453448331528426\">\n",
       "            \n",
       "<table class=\"freq table table-hover\">\n",
       "    <thead>\n",
       "    <tr>\n",
       "        <td class=\"fillremaining\">Value</td>\n",
       "        <td class=\"number\">Count</td>\n",
       "        <td class=\"number\">Frequency (%)</td>\n",
       "        <td style=\"min-width:200px\">&nbsp;</td>\n",
       "    </tr>\n",
       "    </thead>\n",
       "    <tr class=\"\">\n",
       "        <td class=\"fillremaining\">0.0</td>\n",
       "        <td class=\"number\">874</td>\n",
       "        <td class=\"number\">43.2%</td>\n",
       "        <td>\n",
       "            <div class=\"bar\" style=\"width:100%\">&nbsp;</div>\n",
       "        </td>\n",
       "</tr><tr class=\"\">\n",
       "        <td class=\"fillremaining\">0.02</td>\n",
       "        <td class=\"number\">113</td>\n",
       "        <td class=\"number\">5.6%</td>\n",
       "        <td>\n",
       "            <div class=\"bar\" style=\"width:13%\">&nbsp;</div>\n",
       "        </td>\n",
       "</tr><tr class=\"\">\n",
       "        <td class=\"fillremaining\">0.01</td>\n",
       "        <td class=\"number\">100</td>\n",
       "        <td class=\"number\">4.9%</td>\n",
       "        <td>\n",
       "            <div class=\"bar\" style=\"width:12%\">&nbsp;</div>\n",
       "        </td>\n",
       "</tr><tr class=\"\">\n",
       "        <td class=\"fillremaining\">0.03</td>\n",
       "        <td class=\"number\">77</td>\n",
       "        <td class=\"number\">3.8%</td>\n",
       "        <td>\n",
       "            <div class=\"bar\" style=\"width:9%\">&nbsp;</div>\n",
       "        </td>\n",
       "</tr><tr class=\"\">\n",
       "        <td class=\"fillremaining\">0.05</td>\n",
       "        <td class=\"number\">58</td>\n",
       "        <td class=\"number\">2.9%</td>\n",
       "        <td>\n",
       "            <div class=\"bar\" style=\"width:7%\">&nbsp;</div>\n",
       "        </td>\n",
       "</tr><tr class=\"\">\n",
       "        <td class=\"fillremaining\">0.06</td>\n",
       "        <td class=\"number\">58</td>\n",
       "        <td class=\"number\">2.9%</td>\n",
       "        <td>\n",
       "            <div class=\"bar\" style=\"width:7%\">&nbsp;</div>\n",
       "        </td>\n",
       "</tr><tr class=\"\">\n",
       "        <td class=\"fillremaining\">0.04</td>\n",
       "        <td class=\"number\">43</td>\n",
       "        <td class=\"number\">2.1%</td>\n",
       "        <td>\n",
       "            <div class=\"bar\" style=\"width:5%\">&nbsp;</div>\n",
       "        </td>\n",
       "</tr><tr class=\"\">\n",
       "        <td class=\"fillremaining\">0.07</td>\n",
       "        <td class=\"number\">40</td>\n",
       "        <td class=\"number\">2.0%</td>\n",
       "        <td>\n",
       "            <div class=\"bar\" style=\"width:5%\">&nbsp;</div>\n",
       "        </td>\n",
       "</tr><tr class=\"\">\n",
       "        <td class=\"fillremaining\">0.1</td>\n",
       "        <td class=\"number\">32</td>\n",
       "        <td class=\"number\">1.6%</td>\n",
       "        <td>\n",
       "            <div class=\"bar\" style=\"width:4%\">&nbsp;</div>\n",
       "        </td>\n",
       "</tr><tr class=\"\">\n",
       "        <td class=\"fillremaining\">0.08</td>\n",
       "        <td class=\"number\">30</td>\n",
       "        <td class=\"number\">1.5%</td>\n",
       "        <td>\n",
       "            <div class=\"bar\" style=\"width:4%\">&nbsp;</div>\n",
       "        </td>\n",
       "</tr><tr class=\"other\">\n",
       "        <td class=\"fillremaining\">Other values (150)</td>\n",
       "        <td class=\"number\">596</td>\n",
       "        <td class=\"number\">29.5%</td>\n",
       "        <td>\n",
       "            <div class=\"bar\" style=\"width:68%\">&nbsp;</div>\n",
       "        </td>\n",
       "</tr>\n",
       "</table>\n",
       "        </div>\n",
       "        <div role=\"tabpanel\" class=\"tab-pane col-md-12\"  id=\"extreme6677453448331528426\">\n",
       "            <p class=\"h4\">Minimum 5 values</p>\n",
       "            \n",
       "<table class=\"freq table table-hover\">\n",
       "    <thead>\n",
       "    <tr>\n",
       "        <td class=\"fillremaining\">Value</td>\n",
       "        <td class=\"number\">Count</td>\n",
       "        <td class=\"number\">Frequency (%)</td>\n",
       "        <td style=\"min-width:200px\">&nbsp;</td>\n",
       "    </tr>\n",
       "    </thead>\n",
       "    <tr class=\"\">\n",
       "        <td class=\"fillremaining\">0.0</td>\n",
       "        <td class=\"number\">874</td>\n",
       "        <td class=\"number\">43.2%</td>\n",
       "        <td>\n",
       "            <div class=\"bar\" style=\"width:100%\">&nbsp;</div>\n",
       "        </td>\n",
       "</tr><tr class=\"\">\n",
       "        <td class=\"fillremaining\">0.01</td>\n",
       "        <td class=\"number\">100</td>\n",
       "        <td class=\"number\">4.9%</td>\n",
       "        <td>\n",
       "            <div class=\"bar\" style=\"width:12%\">&nbsp;</div>\n",
       "        </td>\n",
       "</tr><tr class=\"\">\n",
       "        <td class=\"fillremaining\">0.02</td>\n",
       "        <td class=\"number\">113</td>\n",
       "        <td class=\"number\">5.6%</td>\n",
       "        <td>\n",
       "            <div class=\"bar\" style=\"width:13%\">&nbsp;</div>\n",
       "        </td>\n",
       "</tr><tr class=\"\">\n",
       "        <td class=\"fillremaining\">0.03</td>\n",
       "        <td class=\"number\">77</td>\n",
       "        <td class=\"number\">3.8%</td>\n",
       "        <td>\n",
       "            <div class=\"bar\" style=\"width:9%\">&nbsp;</div>\n",
       "        </td>\n",
       "</tr><tr class=\"\">\n",
       "        <td class=\"fillremaining\">0.04</td>\n",
       "        <td class=\"number\">43</td>\n",
       "        <td class=\"number\">2.1%</td>\n",
       "        <td>\n",
       "            <div class=\"bar\" style=\"width:5%\">&nbsp;</div>\n",
       "        </td>\n",
       "</tr>\n",
       "</table>\n",
       "            <p class=\"h4\">Maximum 5 values</p>\n",
       "            \n",
       "<table class=\"freq table table-hover\">\n",
       "    <thead>\n",
       "    <tr>\n",
       "        <td class=\"fillremaining\">Value</td>\n",
       "        <td class=\"number\">Count</td>\n",
       "        <td class=\"number\">Frequency (%)</td>\n",
       "        <td style=\"min-width:200px\">&nbsp;</td>\n",
       "    </tr>\n",
       "    </thead>\n",
       "    <tr class=\"\">\n",
       "        <td class=\"fillremaining\">3.46</td>\n",
       "        <td class=\"number\">1</td>\n",
       "        <td class=\"number\">0.0%</td>\n",
       "        <td>\n",
       "            <div class=\"bar\" style=\"width:100%\">&nbsp;</div>\n",
       "        </td>\n",
       "</tr><tr class=\"\">\n",
       "        <td class=\"fillremaining\">4.0</td>\n",
       "        <td class=\"number\">1</td>\n",
       "        <td class=\"number\">0.0%</td>\n",
       "        <td>\n",
       "            <div class=\"bar\" style=\"width:100%\">&nbsp;</div>\n",
       "        </td>\n",
       "</tr><tr class=\"\">\n",
       "        <td class=\"fillremaining\">5.04</td>\n",
       "        <td class=\"number\">1</td>\n",
       "        <td class=\"number\">0.0%</td>\n",
       "        <td>\n",
       "            <div class=\"bar\" style=\"width:100%\">&nbsp;</div>\n",
       "        </td>\n",
       "</tr><tr class=\"\">\n",
       "        <td class=\"fillremaining\">6.25</td>\n",
       "        <td class=\"number\">1</td>\n",
       "        <td class=\"number\">0.0%</td>\n",
       "        <td>\n",
       "            <div class=\"bar\" style=\"width:100%\">&nbsp;</div>\n",
       "        </td>\n",
       "</tr><tr class=\"\">\n",
       "        <td class=\"fillremaining\">6.7</td>\n",
       "        <td class=\"number\">1</td>\n",
       "        <td class=\"number\">0.0%</td>\n",
       "        <td>\n",
       "            <div class=\"bar\" style=\"width:100%\">&nbsp;</div>\n",
       "        </td>\n",
       "</tr>\n",
       "</table>\n",
       "        </div>\n",
       "    </div>\n",
       "</div>\n",
       "</div>\n",
       "    <div class=\"row headerrow highlight\">\n",
       "        <h1>Correlations</h1>\n",
       "    </div>\n",
       "    <div class=\"row variablerow\">\n",
       "    <img src=\"data:image/png;base64,iVBORw0KGgoAAAANSUhEUgAAAkoAAAH/CAYAAACozPLCAAAABHNCSVQICAgIfAhkiAAAAAlwSFlzAAAPYQAAD2EBqD%2BnaQAAIABJREFUeJzt3XtUVWXi//HPUeSieOeiiI1SokSKCIlNNhpZaquLGupYio5mzijYd0otdSoszcZsNSrOlE463prIdLLMyZbWNDWVFijewq/iJbzBQbxzl/37w5/n6wm2ovsouOf9Wuus4NkXHp61ik%2BfZ3NwGIZhCAAAAJXUqekJAAAA1FYEJQAAABMEJQAAABMEJQAAABMEJQAAABMEJQAAABMEJQAAABMEJQAAABMEJQAAABNeNT0B4L/BoUOHdN9995ker1evnvz9/dWmTRv17NlTQ4cOlb%2B//w2cIQCgKg7%2BhAlw/V0alMLDwyuFoLKyMhUUFOjw4cOSpJCQEP3tb3/TL37xixs%2BVwDA/yEoATfApUFp6dKliouLq/K8TZs2aezYsTp79qyio6P13nvv3chpAgB%2BhmeUgFokLi5OzzzzjCRpy5Yt2rFjRw3PCAD%2BuxGUgFrm/vvvd32cmZlZgzMBAPAwN1DLNGzY0PXxuXPn3I59//33WrZsmTIyMnTy5Ek1atRInTt31rBhw3TXXXdVeb/Tp0/rvffe05dffqm9e/fq7Nmz8vPz0y233KJ7771XiYmJaty4sds17du3lyT95z//0WuvvaaNGzeqTp06ioyM1KJFi%2BTl5aXMzEwtXrxY6enpKigoUP369dW2bVv16tVLjz/%2BeJUPoxcXF%2Bu9997TunXrtHfvXpWVlSk4OFi//OUvNXLkSLVp08bt/E2bNikxMVFRUVFasWKFli1bpg8//FAHDx5UvXr1dPvttysxMVG9evW6lqUGgCsiKAG1zMGDB10ft2jRwvXx7NmztXDhQklS48aNFR4erry8PG3cuFEbN27U6NGjNWHCBLd7HThwQCNGjNDRo0fl5eWlW265Ra1atdLhw4e1c%2BdO7dy5U5988olWrVqlBg0aVJpLcnKytmzZovDwcBUUFCgwMFBeXl767LPP9Pvf/17l5eVq2rSp2rdvr3Pnzmnbtm3KzMzURx99pPfee88tLB07dky/%2Bc1vtG/fPklSmzZt1KBBA2VnZystLU0ffvihXnvtNT344IOV5lFWVqbRo0fr22%2B/VdOmTXXrrbdq//792rRpkzZt2qSUlBQNGTLE2sIDQFUMANddTk6OER4eboSHhxvffffdZc%2BdNGmSER4ebkRGRhpOp9MwDMP4%2B9//boSHhxuxsbHGmjVrXOdWVFQYn3zyidG5c2cjPDzceP/9993uNXToUCM8PNwYNGiQkZub63bdP/7xD6NDhw5GeHi4sXz5crfrLs71jjvuMDZv3mwYhmGcP3/eOHHihHH%2B/Hnj7rvvNsLDw42FCxca5eXlrut27NhhdOvWzQgPDzfefvtt13h5ebnx6KOPGuHh4Ubv3r2NH3/80XXszJkzxtSpU13f89atW13HvvvuO9dcOnfubHz00UeuY6dPnzaGDx9uhIeHG127djXKysouu64AcC14RgmoBYqLi7Vr1y699NJL%2BvDDDyVJI0aMUEBAgEpLSzVv3jxJ0quvvqpHHnnEdZ3D4dCDDz6oiRMnSpLmzZun8vJySVJ%2Bfr727NkjSXrllVcUFBTkdl2/fv3UtWtXSdLu3burnFffvn115513SpLq1KmjJk2aqKCgQE6nU5I0aNAg1a1b13V%2BZGSkfv/736tXr15q0qSJa/zTTz/Vjz/%2BKB8fHy1cuFAdOnRwHfP399f06dN1zz33qKysTG%2B%2B%2BWaVcxk/frwefvhh1%2BcNGzZ0fd8nT57U/v37TVYXAK4dW2/ADZaYmHjFcwYOHKinn35a0oXffsvPz1eDBg1M37TykUce0SuvvKLc3Fzt2rVLnTp1UkBAgL777jsVFxfL19e30jXnz593bY0VFxdXed%2BYmJhKY02bNlXjxo116tQpTZgwQb/73e8UFRWlOnUu/H/XoEGDNGjQILdrPv/8c0lSfHy8WrduXeXX%2Bs1vfqOvvvpKmzdv1pkzZ9ye1ZKke%2B%2B9t9I1t956q%2Bvj06dPV3lfALCCoATcYD9/w0mHwyEfHx81adJE7du3V69evXTbbbe5jl9shcrKyvTEE0%2BY3rdu3bqqqKjQvn371KlTJ9e4r6%2BvDh8%2BrO3bt%2Bunn35STk6OsrOz9eOPP6qwsFCSVFFRUeU9AwMDq/w6EyZM0AsvvKAvv/xSX375pRo3bqy4uDjdfffd6tmzp9uzVZJcbU9kZKTp/C8eO3/%2BvA4ePKg77rjD7XhwcHClay4NgOfPnze9NwBcK4IScIP94Q9/MH3DyaqcOXNGklRaWqqMjIwrnn9ps7Jv3z699NJL2rx5s9s5/v7%2Bio2NVV5enrKyskzvVVUTJV1ojX7xi19o8eLF%2Buabb3Tq1Cl99tln%2Buyzz%2BRwONSjRw9NmzbNFZjOnj0rSZVaop/P6aKf/7afdOHPvFyOwXvnArgOCEpALefn5yfpQuOyevXqal93/PhxDR06VMePH1dISIgGDRqk22%2B/XWFhYQoNDZXD4dCzzz572aB0OXFxcYqLi1NxcbF%2B%2BOEHff/99/rqq6%2B0c%2BdO/etf/9KYMWP04YcfyuFwuH6j7mLoq8qlAa%2Bq38ADgJpAUAJqubZt20q68Kv%2B5eXl8vKq/K%2BtYRjatGmTWrRooZCQEHl7e2vVqlU6fvy4mjRpolWrVqlZs2aVrsvNzb3q%2BZSWlionJ0dnz55VVFSUfH191b17d3Xv3l2///3v9cknn%2BiZZ55RVlaWdu/erQ4dOigsLEy7du3Szp07Te%2B7fft2SRe2Im%2B55ZarnhcAXA/81htQy915551q2LChzp07Z9ooffzxxxo%2BfLj69u2rY8eOSbrw9%2BWkC39gt6qQtHfvXm3dulXS1T3f8%2B9//1sPPvignnrqKZWWllY6/stf/tL18cX7XnwQ%2B/PPP1dOTk6V9126dKkkqXPnzmrUqFG15wMA1xNBCajl6tevr6eeekqSNGPGDK1atcrt4esNGzbopZdeknTh1/kvtjFhYWGSpKysLK1fv951vmEY%2Bve//60nn3xSZWVlkqSioqJqz%2BdXv/qVmjZtqpMnT%2Bq5557TyZMnXcfOnj2rP/7xj5Kkli1bql27dpKkPn36qH379iopKdHo0aPdtvvOnj2rF154QV9//bW8vLwqvWkmANQktt6Am8Do0aOVk5Oj999/X1OmTNHrr7%2Bu0NBQ5ebmKi8vT9KFX%2BWfMWOG65qEhAS9%2B%2B67OnjwoMaPH69WrVqpadOmOnr0qI4fP6569eqpa9eu2rx581VtwXl7e2vOnDkaNWqU1q1bp40bN%2BqWW25RnTp1lJOTo8LCQvn5%2Bem1116Tt7e3JMnLy0t//vOfNXr0aO3bt0%2BPPvqo2ztzX3wLg2nTpik2NtaziwcAFhCUgJuAw%2BHQK6%2B8ot69e%2Bu9997T1q1bXW/g2LlzZz300EMaPHiwK5hIF36L7IMPPtDChQv1xRdf6NChQ8rPz1eLFi3Us2dPDR8%2BXPXr11evXr2UlZWlI0eOKCQkpFrziYuL08qVK11/6%2B3AgQPy8vJSixYt1L17d40cObLSvUJDQ7Vq1Sr9/e9/16effqrs7GwdO3ZMLVu21D333KMnnnii0t96A4Ca5jD4nVoAAIAq8YwSAACACYISAACACYISAACoEaWlpXrooYe0adMm03N27dqlgQMHKioqSo899ph27Njhdnzt2rXq1auXoqKiNG7cOBUUFHh0jgQlAABww5WUlOiZZ55x/T3LqhQWFuqpp55SbGysVq9erejoaI0ZM8b1dyq3bdumqVOnKikpSWlpaTp9%2BrQmT57s0XkSlAAAwA21d%2B9eDRo0SD/99NNlz1u3bp18fHw0adIk3XrrrZo6daoaNGigTz/9VJK0fPly9e3bV/369VOHDh00a9Ysffnll6ZvbHstCEoAAOCG2rx5s%2BLi4pSWlnbZ8zIzMxUTEyOHwyHpwluldOnSxfVXBTIzM93ee61ly5YKCQlRZmamx%2BbK%2BygBAICrkpeXJ6fT6TYWGBiooKCgal3/%2BOOPV%2Bs8p9Op2267zW2sefPmru26vLy8Sl%2BzefPmrj/l5An2Ckr/P3ECsKhtW2nPHqldO2n//pqeDXDzq8m3LLwOPxvT5s5Vamqq21hSUpKSk5M9%2BnWKiorc3khXuvDXAS7%2Bncni4uLLHvcEewUlAJ7RpIlUt%2B6FfwLAzwwePFjx8fFuY4GBgR7/Oj4%2BPpVCT2lpqXx9fS973M/Pz2NzICgBAGBndTz/OHJQUFC1t9msCA4OVn5%2BvttYfn6%2B62ubHfdkaONhbgAAUCtFRUVpy5YtuvjX1gzDUEZGhqKiolzH09PTXecfPXpUR48edR33BIISAAB2VqeO51/XkdPpVHFxsSSpT58%2BOn36tGbMmKG9e/dqxowZKioqUt%2B%2BfSVJQ4YM0Zo1a7Ry5UplZWVp0qRJ6tmzp1q3bu2x%2BRCUAABArdG9e3etW7dOkuTv76%2B3335b6enpGjBggDIzM7VgwQLVr19fkhQdHa2XX35Z8%2BfP15AhQ9S4cWPNnDnTo/NxGEZNPorvYfzWG%2BAZ0dFSRobUpYu0ZUtNzwa4%2BdXkj1ofH8/fs6TE8/espXiYGwAAO7vOW2V2x%2BoBAACYoFECAMDOaJQsYfUAAABM0CgBAGBnNEqWEJQAALAzgpIlrB4AAIAJGiUAAOyMRskSVg8AAMAEjRIAAHZGo2QJQQkAADsjKFnC6gEAAJigUQIAwM5olCxh9QAAAEzQKAEAYGc0SpYQlAAAsDOCkiWsHgAAgAkaJQAA7IxGyRKCEgAAdkZQsoTVAwAAMEGjBACAndEoWcLqAQAAmKBRAgDAzmiULCEoAQBgZwQlS1g9AAAAEzRKAADYGY2SJaweAACACRolAADsjEbJEoISAAB2RlCyhNUDAAAwQaMEAICd0ShZwuoBAACYoFECAMDOaJQsISgBAGBnBCVLWD0AAAATNEoAANgZjZIlrB4AAIAJGiUAAOyMRskSghIAAHZGULKE1QMAADBBowQAgJ3RKFlCUAIAADdUSUmJpk2bps8%2B%2B0y%2Bvr4aOXKkRo4cWem8YcOGafPmzZXGBwwYoJkzZ0qSYmNjdebMGbfjGRkZatCggUfmSlACAMDOamGjNGvWLO3YsUNLlizRkSNH9NxzzykkJER9%2BvRxO2/evHkqKytzfZ6Zman/%2BZ//0eOPPy5Jys3N1ZkzZ7Rhwwb5%2Bvq6zqtfv77H5kpQAgDAzmpZUCosLNTKlSu1cOFCRUZGKjIyUnv27NGKFSsqBaUmTZq4Pj5//rzefPNNPfnkk%2BrYsaMkKTs7W4GBgWrduvV1m2/tWj0AAGBrWVlZKi8vV3R0tGssJiZGmZmZqqioML1u9erVOnXqlEaPHu0a27t3r9q2bXtd50ujBACAnV2HRikvL09Op9NtLDAwUEFBQVe81ul0qmnTpvL29naNBQQEqKSkRCdPnlSzZs0qXWMYhv76178qMTHR7dmj7OxsFRUVadiwYdq/f78iIiI0ZcoUj4YnghIAALgqaWlpSk1NdRtLSkpScnLyFa8tKipyC0mSXJ%2BXlpZWec2mTZt07NgxDRo0yG183759OnXqlJ555hn5%2B/tr4cKFGjFihD755BP5%2B/tfzbdkiqAEAICdXYdGafDgwYqPj3cbCwwMrNa1Pj4%2BlQLRxc8vfSD7UuvXr9evfvUrt2eWJOmdd95RWVmZq2WaPXu2evTooS%2B%2B%2BEIPP/xwteZzJQQlAADs7DoEpaCgoGpts1UlODhYJ06cUHl5uby8LsQQp9MpX19fNWrUqMprvvrqKyUlJVUa9/b2dmunfHx8FBoaqtzc3GuaW1V4mBsAANwwERER8vLy0tatW11j6enp6tixo%2BpUEeoKCgqUk5OjmJgYt3HDMNSrVy%2BtXr3aNVZYWKiDBw8qLCzMY/OlUQIAwM5q2dsD%2BPn5qV%2B/fkpJSdGrr76qvLw8LVq0yPUGkk6nUw0bNnRtw%2B3Zs8fVFF3K4XCoZ8%2Bemjdvnlq1aqVmzZppzpw5atGihXr06OGx%2Bdau1QMAALY3efJkRUZGavjw4Zo2bZqSk5P1wAMPSJK6d%2B%2BudevWuc49fvy4GjVqJIfDUek%2BEydOVO/evfXss89q4MCBKi8v14IFC1S3bl2PzdVhGIbhsbvVtCoWEcA1iI6WMjKkLl2kLVtqejbAza8mf9T27u35e65f7/l71lJsvQEAYGe1bOvtZsPqAQAAmKBRAgDAzmiULGH1AAAATNAoAQBgZzRKlhCUAACwM4KSJaweAACACRolAADsjEbJEoISAAB2RlCyhNUDAAAwQaMEAICd0ShZwuoBAACYoFECAMDOaJQsISgBAGBnBCVLWD0AAAATNEoAANgZjZIlrB4AAIAJGiUAAOyMRskSghIAAHZGULKE1QMAADBBowQAgJ3RKFnC6gEAAJigUQIAwM5olCwhKAEAYGcEJUtYPQAAABM0SgAA2BmNkiWsHgAAgAkaJQAA7IxGyRKCEgAAdkZQsoTVAwAAMEGjBACAndEoWcLqAQAAmKBRAgDAzmiULCEoAQBgZwQlS1g9AAAAEzRKAADYGY2SJaweAACACRolAADsjEbJEoISAAB2RlCyhNUDAAAwQaMEAICd0ShZwuoBAIAbqqSkRFOmTFFsbKy6d%2B%2BuRYsWmZ77u9/9Tu3bt3d7ffHFF67ja9euVa9evRQVFaVx48apoKDAo3OlUQIAwM5qYaM0a9Ys7dixQ0uWLNGRI0f03HPPKSQkRH369Kl0bnZ2tl5//XXdddddrrHGjRtLkrZt26apU6dq2rRp6tChg2bMmKHJkyfr7bff9thcCUoAANhZLQtKhYWFWrlypRYuXKjIyEhFRkZqz549WrFiRaWgVFpaqkOHDqljx44KDAysdK/ly5erb9%2B%2B6tevn6QLAezee%2B9VTk6OWrdu7ZH51q7VAwAAtpaVlaXy8nJFR0e7xmJiYpSZmamKigq3c/ft2yeHw2EaejIzMxUbG%2Bv6vGXLlgoJCVFmZqbH5kujBACAnV2HRikvL09Op9NtLDAwUEFBQVe81ul0qmnTpvL29naNBQQEqKSkRCdPnlSzZs1c4/v27ZO/v78mTZqkzZs3q0WLFkpOTlaPHj1c8/j512zevLmOHTtm5dtzQ6MEAACuSlpamgYMGOD2SktLq9a1RUVFbiFJkuvz0tJSt/F9%2B/apuLhY3bt311//%2Blf16NFDv/vd77R9%2B3ZJUnFxcZX3%2Bvl9rKBRAgDAzq5DozR48GDFx8e7jVX1DFFVfHx8KgWZi5/7%2Bvq6jY8dO1bDhg1zPbzdoUMH7dy5U%2B%2B//746duxoei8/P7%2Br%2Bn4uh6AEAICdXYegFBQUVK1ttqoEBwfrxIkTKi8vl5fXhRjidDrl6%2BurRo0auZ1bp04dV0i6KCwsTHv37nXdKz8/3%2B14fn5%2BtUNbdbD1BgAAbpiIiAh5eXlp69atrrH09HR17NhRdX4W6p5//nlNnjzZbSwrK0thYWGSpKioKKWnp7uOHT16VEePHlVUVJTH5ktQAgDAzurU8fzLAj8/P/Xr108pKSnatm2bNmzYoEWLFikxMVHShXapuLhYkhQfH6%2BPP/5YH374oQ4ePKjU1FSlp6dr6NChkqQhQ4ZozZo1WrlypbKysjRp0iT17NnTY28NILH1BgAAbrDJkycrJSVFw4cPl7%2B/v5KTk/XAAw9Ikrp3766ZM2dqwIABeuCBB/TSSy/pL3/5i44cOaJ27drpr3/9q0JDQyVJ0dHRevnllzV37lydOnVKd999t1555RWPztVhGIbh0TvWJIejpmcA2EN0tJSRIXXpIm3ZUtOzAW5%2BNfmjduZMz9/zZ9thdkajBACAndWyd%2Ba%2B2bB6AAAAJmiUAACwMxolSwhKAADYGUHJElYPAADABI0SAAB2RqNkCasHAABggkYJAAA7o1GyhKAEAICdEZQsYfUAAABM0CgBAGBnNEqWsHoAAAAmaJQAALAzGiVLCEoAANgZQckSVg8AAMAEjRIAAHZGo2QJqwcAAGCCRgkAADujUbKEoAQAgJ0RlCxh9QAAAEzQKAEAYGc0SpawegAAACZolAAAsDMaJUsISgAA2BlByRJWDwAAwASNEgAAdkajZAmrBwAAYIJGCQAAO6NRsoSgBACAnRGULGH1AAAATNAoAQBgZzRKlrB6AAAAJmiUAACwMxolSwhKAADYGUHJElYPAADABI0SAAB2RqNkCasHAABggkYJAAA7o1GyhKAEAICdEZQsYfUAAABM0CgBAGBnNEqWsHoAAOCGKikp0ZQpUxQbG6vu3btr0aJFpuf%2B61//0qOPPqro6Gg9/PDD2rhxo9vx2NhYtW/f3u117tw5j82VRgkAADurhY3SrFmztGPHDi1ZskRHjhzRc889p5CQEPXp08ftvKysLCUlJWnSpEnq0aOHvv76az399NP64IMP1KFDB%2BXm5urMmTPasGGDfH19XdfVr1/fY3MlKAEAYGe1LCgVFhZq5cqVWrhwoSIjIxUZGak9e/ZoxYoVlYLS2rVr1a1bNyUmJkqSfvGLX%2Bjzzz/XP//5T3Xo0EHZ2dkKDAxU69atr9t8CUoAAOCGycrKUnl5uaKjo11jMTExeuutt1RRUaE6lwS7/v37q6ysrNI9zpw5I0nau3ev2rZte13nS1ACAMDOrkOjlJeXJ6fT6TYWGBiooKCgK17rdDrVtGlTeXt7u8YCAgJUUlKikydPqlmzZq7xW2%2B91e3aPXv26Ntvv9Wvf/1rSVJ2draKioo0bNgw7d%2B/XxEREZoyZYpHwxNBCQAAO7sOQSktLU2pqaluY0lJSUpOTr7itUVFRW4hSZLr89LSUtPrCgoKlJycrC5duui%2B%2B%2B6TJO3bt0%2BnTp3SM888I39/fy1cuFAjRozQJ598In9//6v9tqpEUAIAAFdl8ODBio%2BPdxsLDAys1rU%2BPj6VAtHFzy99IPtS%2Bfn5%2Bs1vfiPDMDR37lzX9tw777yjsrIyNWjQQJI0e/Zs9ejRQ1988YUefvjhq/qezBCUAACws%2BvQKAUFBVVrm60qwcHBOnHihMrLy%2BXldSGGOJ1O%2Bfr6qlGjRpXOz83NdT3MvXTpUretOW9vb7d2ysfHR6GhocrNzb2muVWldj0KDwAAbC0iIkJeXl7aunWrayw9PV0dO3Z0e5BbuvAbck8%2B%2BaTq1Kmj5cuXKzg42HXMMAz16tVLq1evdjv/4MGDCgsL89h8aZQAALCzWvb2AH5%2BfurXr59SUlL06quvKi8vT4sWLdLMmTMlXWiXGjZsKF9fX7399tv66aeftGzZMtcx6cIWXcOGDdWzZ0/NmzdPrVq1UrNmzTRnzhy1aNFCPXr08Nh8CUoAANhZLQtKkjR58mSlpKRo%2BPDh8vf3V3Jysh544AFJUvfu3TVz5kwNGDBA69evV3FxsQYOHOh2ff/%2B/fXaa69p4sSJ8vLy0rPPPquzZ8%2BqW7duWrBggerWreuxuToMwzA8drea5nDU9AwAe4iOljIypC5dpC1bano2wM2vJn/Ufvut5%2B95112ev2ctRaMEAICd1cJG6WbC6gEAAJigUQIAwM5olCwhKAEAYGcEJUtYPQAAABM0SgAA2BmNkiWsHgAAgAkaJQAA7IxGyRKCEgAAdkZQsoTVAwAAMEGjBACAndEoWcLqAQAAmKBRAgDAzmiULCEoAQBgZwQlS1g9AAAAEzRKAADYGY2SJaweAACACRolAADsjEbJEoISAAB2RlCyhNUDAAAwQaMEAICd0ShZwuoBAACYoFECAMDOaJQsISgBAGBnBCVLWD0AAAATNEoAANgZjZIlrB4AAIAJGiUAAOyMRskSghIAAHZGULKE1QMAADBBowQAgJ3RKFnC6gEAAJigUQIAwM5olCwhKAEAYGcEJUtYPQAAABM0SgAA2BmNkiUEJQAA7IygZAmrBwAAYIJGCQAAO6NRsoTVAwAAMEGjBACAndEoWcLqAQBgZ3XqeP5lUUlJiaZMmaLY2Fh1795dixYtMj13165dGjhwoKKiovTYY49px44dbsfXrl2rXr16KSoqSuPGjVNBQYHl%2BV2KoAQAAG6oWbNmaceOHVqyZIleeuklpaam6tNPP610XmFhoZ566inFxsZq9erVio6O1pgxY1RYWChJ2rZtm6ZOnaqkpCSlpaXp9OnTmjx5skfnSlACAMDOalmjVFhYqJUrV2rq1KmKjIzU/fffryeffFIrVqyodO66devk4%2BOjSZMm6dZbb9XUqVPVoEEDV6havny5%2Bvbtq379%2BqlDhw6aNWuWvvzyS%2BXk5Fia46Wu6rs9dOiQ2rdvr48//lj33HOPYmNjNX36dJWXl2vevHkaO3asnnjiCXXt2lWbN29WYWGhXnzxRcXFxSkuLk4vvPCCSkpKJEnt27fXypUr1atXL0VHR%2BvZZ5/VuXPnPPaNAQCA2icrK0vl5eWKjo52jcXExCgzM1MVFRVu52ZmZiomJkYOh0OS5HA41KVLF23dutV1PDY21nV%2By5YtFRISoszMTI/N95oe5k5NTdWbb76p8vJyTZo0SQ0aNJCXl5c2btyolJQUde7cWW3bttWUKVO0e/du/fnPf5avr68mTpyoP/3pT3ruueckSXPmzNH06dPVvHlzTZkyRS%2B%2B%2BKLeeOONas0hLy9PTqfTbSywbVsFNWlyLd8SgEt16OD%2BTwA3r%2BvwMHeVP4MDAxUUFHTFa51Op5o2bSpvb2/XWEBAgEpKSnTy5Ek1a9bM7dzbbrvN7frmzZtrz549rnn8/Gs2b95cx44du%2Brvycw1BaWJEye6EtzTTz%2Bt2bNna8iQIQoICNCQIUMkSadOndKnn36qxYsXKyYmRpL08ssv68cff3TdZ/To0erZs6ckaerUqRo5cqRSUlLUsGHDK84hLS1NqampbmNJTz%2Bt5KefvpZvCUBV3n23pmcAwCJDDo/fs8qfwUlJSk5OvuK1RUVFbiFJkuvz0tLSap178bzi4uLLHveEawpKXbp0cX18xx13qKAS18ayAAAZ%2B0lEQVSgQCdOnFCrVq1c4wcPHtT58%2BcVGRnpGouNjXWryH5%2Bn/Pnz2v//v3q1KnTFecwePBgxcfHu40FPvywtGTJtXxLAC7VocOFkPT441JWVk3PBrj5ZWTU9Aw8qsqfwYGB1brWx8enUpC5%2BLmvr2%2B1zr14ntlxPz%2B/as2lOq4pKNWrV8/18cX9xDp16sjHx6fKc672PtURFBRUueLbv79a1wKopqwsacuWmp4FAAt%2B9tiPR1T5M7iagoODdeLECZWXl8vL60IMcTqd8vX1VaNGjSqdm5%2Bf7zaWn5/v%2Btpmx6sb2qrjmjYuL90%2B27Fjh4KCgtTkZ88GtW7dWnXr1lXWJf83umHDBvXv39/0PvXq1VPbtm2vZUoAAOAmEBERIS8vL9cD2ZKUnp6ujh07VipLoqKitGXLFhmGIUkyDEMZGRmKiopyHU9PT3edf/ToUR09etR13BOuKSjNmDFD27dv1zfffKM5c%2BboiSeeqHSOv7%2B/%2BvXrpxkzZmjbtm3avn273nzzTXXr1s11zty5c7V582ZlZmZq%2BvTp6t%2B/vxo0aHDt3w0AAHBTUeH5lxV%2Bfn7q16%2BfUlJStG3bNm3YsEGLFi1SYmKipAvtUnFxsSSpT58%2BOn36tGbMmKG9e/dqxowZKioqUt%2B%2BfSVJQ4YM0Zo1a7Ry5UplZWVp0qRJ6tmzp1q3bm1tkpcyrkJOTo4RHh5uvPXWW8Zdd91lxMXFGX/605%2BM8%2BfPG3PnzjWGDh3qdv6ZM2eM559/3ujSpYsRFxdnTJs2zSgpKTEMwzDCw8ONP/3pT8a9995rxMTEGC%2B%2B%2BKLr2DWTePHi5YlXdPSFf6eio2t%2BLrx42eFVg4qLPf%2ByqrCw0Jg0aZLRuXNno3v37sbixYtdx8LDw41Vq1a5Ps/MzDT69etndOzY0UhISDB27tzpdq9Vq1YZPXr0MDp37myMGzfOKCgosD7BSzgMwzCqG6oOHTqk%2B%2B67Txs3blRoaKilgNa%2BfXstXbpUcXFxlu7jxuH5J/uB/0rR0RcePu3ShWeUAE%2Bo/o9aj/v/b1/oUZc8kmx7/FFcAABs7Ho8zP3fhD9hAgAAYOKqGqXQ0FDt3r3bI1/YU/cBAADmaJSsYesNAAAbIyhZw9YbAACACRolAABsjEbJGholAAAAEzRKAADYGI2SNQQlAABsjKBkDVtvAAAAJmiUAACwMRola2iUAAAATNAoAQBgYzRK1hCUAACwMYKSNWy9AQAAmKBRAgDAxmiUrKFRAgAAMEGjBACAjdEoWUNQAgDAxghK1rD1BgAAYIJGCQAAG6NRsoZGCQAAwASNEgAANkajZA1BCQAAGyMoWcPWGwAAgAkaJQAAbIxGyRoaJQAAABM0SgAA2BiNkjUEJQAAbIygZA1bbwAAACZolAAAsDEaJWsISgAA2BhByRq23gAAAEzQKAEAYGM0StbQKAEAAJigUQIAwMZolKwhKAEAYGMEJWvYegMAADBBowQAgI3RKFlDowQAAGCCRgkAABujUbKGRgkAABurqPD863oyDEOzZ89Wt27d1LVrV82aNUsVl/miW7du1a9//WtFR0erd%2B/eWrlypdvxRx55RO3bt3d7/e///m%2B150OjBAAAao3Fixdr7dq1Sk1NVXl5uSZOnKjmzZtr1KhRlc51Op0aPXq0hgwZotdee007d%2B7U5MmTFRgYqJ49e%2Br8%2BfM6cOCAli9frjZt2riua9q0abXnQ1ACAMDGbratt6VLl2r8%2BPGKjY2VJE2YMEFz5sypMiht2LBBAQEBeuaZZyRJbdq00aZNm/Txxx%2BrZ8%2BeOnTokMrKytSpUyf5%2BPhc03wISgAAoFbIzc3V0aNHdeedd7rGYmJidPjwYeXl5SkoKMjt/HvuuUcRERGV7nP27FlJ0t69e9WyZctrDkkSQQkAAFu7Ho1SXl6enE6n21hgYGClIHO1Lt7z0vsEBARIko4dO1bp/qGhoQoNDXV9fvz4cX3yySdKTk6WJGVnZ6tevXoaM2aMduzYobZt22rSpEnq1KlTtedEUAIAwMauR1BKS0tTamqq21hSUpIroFxOcXGxcnNzqzxWWFgoSfL29naNXfy4tLT0ivdNTk5WQECABg8eLEnav3%2B/Tp06pYEDB2r8%2BPF6//33NXz4cK1bt04tW7a84lwlghIAALhKgwcPVnx8vNtYYGBgta7NzMxUYmJilccmTpwo6UIourhddjEg%2Bfn5md7z3LlzGjt2rA4cOKB3333Xde4rr7yi4uJi%2Bfv7S5JSUlKUkZGhNWvW6Le//W215ktQAgDAxq5HoxQUFHTN22xxcXHavXt3lcdyc3P1%2Buuvy%2Bl0urbULm7HmQWxs2fP6sknn9RPP/2kJUuWuP12m5eXlyskSZLD4VBYWJhpo1UV3kcJAADUCsHBwQoJCVF6erprLD09XSEhIVUGs4qKCiUlJenQoUNatmyZ2rVr53Z82LBhbluEFRUV2r17t8LCwqo9JxolAABs7GZ7e4AhQ4Zo9uzZatGihSTpjTfe0MiRI13HCwoK5OPjowYNGuiDDz7Qpk2b9Je//EWNGjVytU/16tVTkyZNFB8fr/nz5ysiIkJt27bV0qVLdebMGfXv37/a8yEoAQBgYzdbUBo1apSOHz%2BupKQk1a1bVwkJCRoxYoTreEJCgvr376/k5GStX79eFRUVGjNmjNs9unbtqmXLlmnEiBEqKSnR9OnTlZ%2Bfr6ioKC1evNhtO%2B5KHIZhGJ765mqcw1HTMwDsITpaysiQunSRtmyp6dkAN78a/FG7fr3n79m7t%2BfvWVvRKAEAYGM3W6NU2/AwNwAAgAkaJQAAbIxGyRqCEgAANkZQsoatNwAAABM0SgAA2BiNkjU0SgAAACZolAAAsDEaJWsISgAA2BhByRq23gAAAEzQKAEAYGM0StbQKAEAAJigUQIAwMZolKwhKAEAYGMEJWvYegMAADBBowQAgI3RKFlDowQAAGCCRgkAABujUbKGoAQAgI0RlKxh6w0AAMAEjRIAADZGo2QNQQkAABsjKFnD1hsAAIAJGiUAAGyMRskaGiUAAAATNEoAANgYjZI1BCUAAGyMoGQNW28AAAAmaJQAALAxGiVraJQAAABM0CgBAGBjNErWEJQAALAxgpI1bL0BAACYoFECAMDGaJSsoVECAAAwQaMEAICN0ShZQ1ACAMDGCErWsPUGAABggkYJAAAbo1GyhkYJAADABEEJAAAbq6jw/Ot6MgxDs2fPVrdu3dS1a1fNmjVLFZf5otOnT1f79u3dXsuXL3cd/%2Babb/TQQw8pKipKiYmJysnJuar5sPUGAICN3Wxbb4sXL9batWuVmpqq8vJyTZw4Uc2bN9eoUaOqPD87O1vPPvus%2Bvfv7xrz9/eXJB05ckTjxo1TcnKy7rnnHs2fP19jx47VRx99JIfDUa350CgBAIBaY%2BnSpRo/frxiY2PVrVs3TZgwQStWrDA9Pzs7W7fffrsCAwNdLz8/P0nSypUrdccdd2jkyJFq166dZs6cqcOHD2vz5s3Vng9BCQAAG7uZtt5yc3N19OhR3Xnnna6xmJgYHT58WHl5eZXOP3v2rHJzc9WmTZsq75eZmanY2FjX535%2BfoqMjNTWrVurPSeCEgAAqBWcTqckKSgoyDUWEBAgSTp27Fil87Ozs%2BVwOPTWW2/pV7/6lR555BH94x//cLvfpfeSpObNm1d5LzM8owQAgI1djwYoLy/PFWouCgwMrBRKqlJcXKzc3NwqjxUWFkqSvL29XWMXPy4tLa10/r59%2B%2BRwOBQWFqahQ4fq%2B%2B%2B/1wsvvCB/f3/df//9KioqcrvXxftVdS8zBCUAAGzsegSltLQ0paamuo0lJSUpOTn5itdmZmYqMTGxymMTJ06UdCEU%2Bfj4uD6W5Hru6FL9%2BvXTvffeqyZNmkiSOnTooAMHDujvf/%2B77r//fvn4%2BFQKRaWlpWrUqNEV53kRQQkAAFyVwYMHKz4%2B3m0sMDCwWtfGxcVp9%2B7dVR7Lzc3V66%2B/LqfTqdDQUEn/tx1X1f0dDocrJF0UFham7777TpIUHBys/Px8t%2BP5%2BfmKiIio1lwlghIAALZ2PRqloKCgam2zXa3g4GCFhIQoPT3dFZTS09MVEhJS5debM2eOtmzZor/97W%2BusaysLIWFhUmSoqKilJ6e7jpWVFSkXbt2KSkpqdpz4mFuAABQawwZMkSzZ8/Wpk2btGnTJr3xxhtuW3UFBQU6d%2B6cJOnee%2B/V999/r3feeUc//fST3n33XX344YcaOXKkJOmxxx5TRkaGFixYoD179mjy5MkKDQ1VXFxctedDUAIAwMZuprcHkKRRo0bpwQcfVFJSkp5%2B%2Bmk9%2BuijGjFihOt4QkKCFi1aJEnq1KmT5syZozVr1uihhx7SsmXL9MYbbyg6OlqSFBoaqnnz5mnVqlVKSEjQyZMnNX/%2B/Gq/2aQkOQzDMDz6Hdakq/jGAVxGdLSUkSF16SJt2VLTswFufjX4o3byZM/fc%2BZMz9%2BztqJRAgAAMMHD3AAA2NjN9rfeahsaJQAAABM0SgAA2BiNkjUEJQAAbIygZA1bbwAAACZolAAAsDEaJWtolAAAAEzQKAEAYGM0StYQlAAAsDGCkjVsvQEAAJigUQIAwMZolKwhKAEAYGMEJWvYegMAADBBowQAgI3RKFlDowQAAGCCRgkAABujUbKGoAQAgI0RlKxh6w0AAMAEjRIAADZGo2QNjRIAAIAJGiUAAGyMRskaghIAADZGULKGrTcAAAATNEoAANgYjZI1NEoAAAAmaJQAALAxGiVrCEoAANgYQckatt4AAABM0CgBAGBjNErW0CgBAACYoFECAMDGaJSsISgBAGBjBCVr2HoDAAAwQaMEAICN0ShZQ6MEAABggkYJAAAbo1GyhqAEAICNEZSsYesNAADABI0SAAA2RqNkDY0SAACACRolAABs7GZrlAzD0BtvvKEPPvhAFRUVSkhI0IQJE1SnTuVu5/nnn9c//vGPSuNxcXFaunSpJOmRRx7R7t273Y5//PHHCg8Pr9Z8CEoAANjYzRaUFi9erLVr1yo1NVXl5eWaOHGimjdvrlGjRlU6d%2BrUqXr22Wddnx8%2BfFjDhg1TYmKiJOn8%2BfM6cOCAli9frjZt2rjOa9q0abXnQ1ACAAC1xtKlSzV%2B/HjFxsZKkiZMmKA5c%2BZUGZQaNmyohg0buj5//vnn1adPH/Xq1UuSdOjQIZWVlalTp07y8fG5pvkQlAAAsLGbqVHKzc3V0aNHdeedd7rGYmJidPjwYeXl5SkoKMj02m%2B//Vbff/%2B91q9f7xrbu3evWrZsec0hSeJhbgAAUEs4nU5JcgtEAQEBkqRjx45d9toFCxaof//%2BatmypWssOztb9erV05gxY3T33Xdr6NCh2rZt21XNiUYJAAAbux6NUl5enivUXBQYGHjZxuei4uJi5ebmVnmssLBQkuTt7e0au/hxaWmp6T1zcnL03XffaerUqW7j%2B/fv16lTpzRw4ECNHz9e77//voYPH65169a5BarLISgBAGBj1yMopaWlKTU11W0sKSlJycnJV7w2MzPT9bD1z02cOFHShVB0cbvsYkDy8/Mzvef69esVERGh2267zW38lVdeUXFxsfz9/SVJKSkpysjI0Jo1a/Tb3/72inOVCEoAAOAqDR48WPHx8W5jgYGB1bo2Li6u0q/rX5Sbm6vXX39dTqdToaGhkv5vO%2B5y9//qq6903333VRr38vJyhSRJcjgcCgsLM220qkJQAgDAxq5HoxQUFFStbbarFRwcrJCQEKWnp7uCUnp6ukJCQky/nmEY2r59e5UN0bBhwxQXF6ekpCRJUkVFhXbv3q0nnnii2nMiKAEAgFpjyJAhmj17tlq0aCFJeuONNzRy5EjX8YKCAvn4%2BKhBgwaSLrx30rlz5yptu0lSfHy85s%2Bfr4iICLVt21ZLly7VmTNn1L9//2rPh6AEAICN3UxvDyBJo0aN0vHjx5WUlKS6desqISFBI0aMcB1PSEhQ//79Xc9DHT9%2BXJLUuHHjSvcaMWKESkpKNH36dOXn5ysqKkqLFy922467EodhGIa1b6kWcThqegaAPURHSxkZUpcu0pYtNT0b4OZXgz9q77rL8/f89lvP37O24n2UAAAATLD1BgCAjd1sW2%2B1DUEJAAAbIyhZw9YbAACACRolAABsjEbJGholAAAAEzRKAADYGI2SNQQlAABsjKBkDVtvAAAAJmiUAACwMRola2iUAAAATNAoAQBgYzRK1hCUAACwMYKSNWy9AQAAmKBRAgDAxmiUrKFRAgAAMEGjBACAjdEoWUNQAgDAxghK1rD1BgAAYIJGCQAAG6NRsoZGCQAAwASNEgAANkajZA1BCQAAGyMoWcPWGwAAgAkaJQAAbIxGyRoaJQAAABM0SgAA2BiNkjUEJQAAbIygZA1bbwAAACZolAAAsDEaJWtolAAAAEzQKAEAYGM0StYQlAAAsDGCkjVsvQEAAJigUQIAwMZolKyhUQIAADBBowQAgI3RKFlDUAIAwMYIStaw9QYAAGCCRgkAABujUbKGRgkAAMAEQQkAABurqPD860YwDEMjR47U6tWrL3teTk6ORowYoc6dO%2BvBBx/U119/7Xb8m2%2B%2B0UMPPaSoqCglJiYqJyfnquZBUAIAwMZuxqBUUVGh6dOn6z//%2Bc9lzzMMQ%2BPGjVNAQIBWrVqlRx99VElJSTpy5Igk6ciRIxo3bpwGDBigDz74QM2aNdPYsWNlGEa150JQAgAAtUZubq6GDx%2Buzz//XI0aNbrsud99951ycnL08ssv69Zbb9WYMWPUuXNnrVq1SpK0cuVK3XHHHRo5cqTatWunmTNn6vDhw9q8eXO150NQAgDAxm62Rmnnzp1q2bKlVq1apYYNG1723MzMTN1%2B%2B%2B2qX7%2B%2BaywmJkZbt251HY%2BNjXUd8/PzU2RkpOt4dfBbbwAAoNaIj49XfHx8tc51Op0KCgpyG2vevLmOHTtWrePVQVACAMDGrkcDlJeXJ6fT6TYWGBhYKZRUpbi4WLm5uVUeCwwMdGuHrqSoqEje3t5uY97e3iotLa3W8eqwV1C6ioezAJjLy8tT2rx5Gvzpp9X6Dx%2BA2ut6/GicNy9NqampbmNJSUlKTk6%2B4rWZmZlKTEys8tj8%2BfPVq1evas/Dx8dHJ0%2BedBsrLS2Vr6%2Bv6/jPQ1FpaekVn326lL2CEgCPcDqdSk1NVXx8PEEJQCWDBw%2ButD0WGBhYrWvj4uK0e/duj8wjODhYe/fudRvLz893/XcrODhY%2Bfn5lY5HRERU%2B2sQlAAAwFUJCgqqFf8TFRUVpQULFqi4uNjVIqWnpysmJsZ1PD093XV%2BUVGRdu3apaSkpGp/DX7rDQAA3DQKCgp07tw5SVLXrl3VsmVLTZ48WXv27NGCBQu0bds2JSQkSJIee%2BwxZWRkaMGCBdqzZ48mT56s0NBQxcXFVfvrEZQAAMBNIyEhQYsWLZIk1a1bV3/%2B85/ldDo1YMAAffTRR5o/f75CQkIkSaGhoZo3b55WrVqlhIQEnTx5UvPnz5fD4aj213MYV/P2lAD%2BK%2BTl5SktLU2DBw%2BuFfU6ANQUghIAAIAJtt4AAABMEJQAAABMEJQAAABMEJQAAABMEJQAAABMEJQAAABMEJQAAABMEJQAAABMEJQAAABMeNX0BADULmfPntWBAwdUp04dtW3bVn5%2BfjU9JQCoMQQlAJKkoqIivfjii/rnP/%2Bp8vJySZK3t7f69%2B%2BvP/zhD6pXr14NzxAAbjy23gBIkl544QVlZWXpnXfeUXp6ur7//nu99dZb%2BuGHHzRz5syanh4A1Aj%2BKC4ASVKXLl20bNkyRUZGuo1nZmZq9OjR2rx5cw3NDABqDo0SAElS8%2BbNdfz48UrjpaWl8vf3r4EZAUDNq5uSkpJS05MAUPPq16%2BvV199Vd7e3qpbt65OnDihr7/%2BWjNmzFD//v1Vp04dHTlyREeOHFGrVq1qeroAcEOw9QZAktShQ4dqnedwOPTjjz9e59kAQO1AUAIAADDBM0oAJF14FmnWrFlasWKFa2zAgAGaPXu2ysrKanBmAFBzCEoAJEnTp0/Xl19%2B6bYFN3bsWP3rX//SH//4xxqcGQDUHLbeAEiSunXrpsWLFysiIsJtfPv27RozZoy%2B%2BeabGpoZANQcGiUAkiTDMFRSUlLlOFtvAP5bEZQASJJ69%2B6tF154QT/88IMKCwtVWFiojIwMpaSk6P7776/p6QFAjWDrDYCkC3/rberUqVq/fr0qKiokSXXr1tWjjz6qKVOmqEGDBjU8QwC48QhKACRJP/zwgzp27KiSkhIdPHhQ9erVU2hoKO/KDeC/GkEJgCQpLi5OS5YsqfYbTwLAfwOeUQIgSWrXrp22bdtW09MAgFqFRgmAJGncuHHauHGjAgICFBoaKm9vb7fjS5curaGZAUDN8arpCQCoHSIiIhQRESHDMHTy5Ek5HA41adKkpqcFADWKRgmAJOn8%2BfOaO3euVq5cqYKCAklScHCwnnjiCT311FM1PDsAqBk0SgAkSX/84x%2B1fv16TZgwQXfccYcqKiq0fft2zZ07V6WlpUpKSqrpKQLADUejBECSdOedd2r%2B/Pnq2rWr2/g333yjCRMm8CdMAPxX4rfeAEiS/Pz8VK9evUrjjRo1ksPhqIEZAUDNq5uSkpJS05MAUPMCAwP12muvqVWrVmratKnKy8u1bds2TZs2TQkJCWrZsqXOnDmjM2fOqGHDhjU9XQC4Idh6AyBJbm80ebFBuvQ/Dw6HQ4ZhyOFw6Mcff7zh8wOAmkBQAiBJOnz4cLXPbdWq1XWcCQDUHgQlAAAAEzzMDQAAYIKgBAAAYIKgBAAAYIKgBAAAYIKgBAAAYIKgBAAAYIKgBAAAYIKgBAAAYOL/ASc%2Br/v27nPCAAAAAElFTkSuQmCC\" class=\"center-img\">\n",
       "    <img src=\"data:image/png;base64,iVBORw0KGgoAAAANSUhEUgAAAkoAAAH/CAYAAACozPLCAAAABHNCSVQICAgIfAhkiAAAAAlwSFlzAAAPYQAAD2EBqD%2BnaQAAIABJREFUeJzt3XtclvXh//H3rchB0VQEFKl5SJTIkENiy6aSpfboIIY55jHNXAq1Rx7ysIpK00zXVFylpZOsjVDLZW5uNtfWKi1Q1BJTPOQRbsQzJ5Hr94c/7q93cCl6oeC11/PxuB%2BDz3W4P/e1R/Hu/bnu%2B3YYhmEIAAAAldSr7QkAAADUVQQlAAAAEwQlAAAAEwQlAAAAEwQlAAAAEwQlAAAAEwQlAAAAEwQlAAAAEwQlAAAAEx61PQHADrKzs7VixQp99dVXys3NVUlJiZo3b64OHTqoZ8%2Beio%2BPl7e3d21PEwBwhRx8hQlgzfz58/Xmm2%2BqvLxcvr6%2BuuWWW9SgQQM5nU4dPnxYktSqVSstXLhQYWFhtTxbAMCVICgBFqxcuVJTp05Vw4YNNXPmTN13332qX7%2B%2Ba3tOTo6mTp2qLVu2qFmzZlq7dq2aN29eizMGAFwJ7lECLHjrrbckSZMmTVLfvn3dQpIktW/fXm%2B%2B%2Bab8/Px0/Phxpaam1sY0AQBXiaAEXKWTJ0/qxx9/lCSFh4eb7te8eXP17t1bkrR169brMjcAQM3gZm7gKnl4/N8/Phs2bNBtt91mum9SUpKGDRsmPz8/19jkyZP10UcfacqUKbrnnnv0u9/9Tt9%2B%2B61KS0v1s5/9THFxcfrlL38pLy%2BvKs/5zTff6L333lNmZqZOnDihJk2aqEuXLho6dKjuuuuuKo85deqU/vznP%2Bvzzz/X7t27debMGfn4%2BOiWW25Rr169NGzYMN10001ux3Ts2FGS9N///lezZs3SZ599pnr16iksLExLlizRb3/7W3300UeaPn26oqOjlZKSoq%2B//lqnT59WcHCwBg4cqBEjRsjhcOjvf/%2B7li1bph07dqi8vFydOnXSU089pR49elSaa3FxsVauXKn169dr586dOnXqlDw9PRUUFKTu3bvr8ccfV2BgoNsxsbGxOnTokNauXatjx47pnXfeUVZWlgoLCxUcHKx%2B/fpp1KhRatSoken/VwBwMe5RAixISEhQZmamHA6H%2Bvfvr0cffVSRkZGVluCqUhGUBgwYoHXr1qmwsFAdOnRQWVmZ9uzZI0mKiorS22%2B/rcaNG7sdO2fOHC1evFiSdNNNNyk4OFh5eXlyOp2SpNGjR2vChAlux%2Bzbt08jRozQkSNH5OHhoVtuuUU%2BPj46dOiQTpw4IUlq27atVq5c6RYkKoJSZGSkNm/erJCQEBUUFCgmJkZz5851ex1//etfVVZWpvbt2%2BvYsWOu%2BTz55JNyOBx6%2B%2B231aRJE918883au3evCgsL5XA4tGjRIv3iF79wPWdBQYGGDx%2BuH374QQ6HQ7fccosaN26s3Nxc1zn9/Py0atUqtWzZ0nVcRVB6/PHH9cc//lGenp5q06aNTp48qaNHj0qSIiIi9MEHH6hePQp1ANVgALhq3333ndGlSxcjJCTE9YiMjDRGjx5tvP3228aWLVuM8%2BfPV3nsc8895zqmV69exvfff%2B/alpmZafz85z83QkJCjOeff97tuD/96U9GSEiIER0dbaxevdo1Xl5ebnz66aeu%2BXz44Yduxw0ZMsQICQkxHnvsMSM3N9ftuI8%2B%2Bsjo1KmTERISYixfvtztuIo53n777camTZsMwzCM8%2BfPG8ePH6/0OhISEoy8vDzXPpMnTzZCQkKMTp06GR07djTeffdd1/UoKCgw%2Bvfvb4SEhBhDhgyp8trcd999xt69e922/fvf/zbCw8ONkJAQY9asWW7bevXq5ZrL5MmTjVOnTrle4/Lly13b/vGPf1T5/wkA/BT/SQVYcNtttyk9PV1RUVGusTNnzujzzz/X3Llz9dhjj6l79%2B564403VFRUVOU56tWrpz/84Q8KDQ11jUVEROi1116TJKWnpys3N1eSVFpaqgULFkiSXn31VT388MOuYxwOhx544AFNnDhRkrRgwQKVlZVJkvLz87Vr1y5J0iuvvKKAgAC34/r376%2BuXbtKknbu3FnlPPv166c777zTNeemTZu6bffw8NDvfvc7%2Bfv7u/Z58sknJUnl5eV65JFHNHLkSFeT06xZMw0bNkyS9P3337vOc%2B7cOX3zzTdyOByaMmWK2rRp4/Y899xzjx544AFJ0g8//FDlXDt16qRXX33V1cQ5HA4NHjxYISEhkqSMjIwqjwOAnyIoARbdeuut%2BuCDD/Txxx8rMTFRERERatCggWv7sWPH9NZbb%2Bnhhx92Lf9crFu3burUqVOl8e7duys4OFjl5eXasGGDJGnz5s3Kz89Xo0aNdO%2B991Y5n4cfflj16tVTbm6uK4C0aNFCX3/9tbKyslxh4WLnz5%2BXr6%2BvpAv3BlXl4jBYlY4dO7otg0lS69atXT9XdR9SRWA7c%2BaMa6xBgwb67LPPlJWVpZ49e1Y6xjAMNWzY8JJz7dmzpxwOR6Xx9u3bS5JOnz59ydcCABW4mRuoIaGhoQoNDVVSUpKKioqUmZmpL774QqtXr9axY8f0448/6plnnlFaWprbcXfccYfpOTt27KiDBw9q3759kuRqhc6dO6fBgwebHle/fn2Vl5drz549buf39vbWoUOHtG3bNv344486cOCAcnJytGPHDhUWFkq60P5UpaIpMtOqVatKY56enq6fmzVrVmn7xTfE/5SXl5fy8/OVlZWlffv26eDBg9qzZ4927NihkydPXnKuFzdmF6v4dPTz58%2BbvxAAuAhBCbgGfHx8dPfdd%2Bvuu%2B/WM888o6lTp%2BrTTz/Vli1b9N1337l9QvdP32V2sYrm5NSpU5L%2BrwkpLS1VZmbmZedRcZwk7dmzRy%2B%2B%2BKI2bdrkto%2Bvr6%2Bio6OVl5en7Oxs03Nd7itYfHx8Lrn9Sm6edjqdSk5O1j//%2BU%2B3MOTj46POnTvr/Pnzl1w%2BuzigVcXgPSwAqomgBFylF154QV9//bXi4uL01FNPme7n7e2tl19%2BWX//%2B9917tw57d271y0oVTQ5ValYkqr4WIGKMBIWFqZVq1ZVe67Hjh3TkCFDdOzYMQUFBemxxx7Tbbfdpnbt2ik4OFgOh0Pjx4%2B/ZFC6XkpKSjR8%2BHDl5OSoadOmSkhI0O2336727dvrlltuUf369fXGG29wnxGA64KgBFylkpIS7d%2B/X%2BvXr79kUJIutDaNGjXSiRMnKn2FScVyWlUqgsutt94q6cLb96ULb/UvKyurcunKMAxt3LhRLVu2VFBQkDw9PbVy5UodO3ZMTZs21cqVK6v8GpWKG8Zr2/r165WTkyMPDw%2BlpaVVuplbUpX3egHAtcDN3MBVqnjH2fbt2y/b7nzxxRc6ceKEmjZtWulTvD///HPXZwNdbMOGDTpy5Ig8PT0VGxsrSbrzzjvVuHFjnT171vQ5P/nkEw0fPlz9%2BvVzBYqDBw9KkoKCgqoMSbt379aWLVsk1f79OxVzbdSoUZUhKT8/X//6178k1f5cAdgfQQm4Snfffbf69OkjSfrtb3%2BrGTNmuP7IVygpKdHKlSv1m9/8RpL0m9/8ptKnQhcVFWns2LE6cuSIa2zjxo2aMmWKpAsf1ljxNveGDRu63nI/Y8YMrVy50u0envXr1%2BvFF1%2BUdOHt/LfccoskqV27dpIuNFTr1q1z7W8Yhv7973/riSee0Llz51zzqU0Vcz158qSWLVvmdj/Rli1b9Pjjj7s%2BILO25wrA/lh6AyyYM2eOGjZsqI8//lipqalKTU1VUFCQ/Pz8VFJSon379qm0tFQNGjTQ%2BPHjlZCQUOkcbdq00Y4dO9S7d2%2BFhISosLDQ9S63Bx98UGPGjHHbf/To0Tpw4IA%2B/PBDTZ06Va%2B//rqCg4OVm5urvLw8SRfeyj9jxgzXMfHx8frggw%2B0f/9%2BPf3002rdurWaNWumI0eO6NixY2rQoIG6du2qTZs21foSXGxsrCIiIrR582a9%2BuqrWrx4sQIDA%2BV0OpWbmyuHw6Gf//zn%2BvLLL5WXlyfDMKr8KAAAqAkEJcACT09PzZo1S4MHD9batWu1ceNG5ebmKjs7Wz4%2BPmrbtq26d%2B%2Bu%2BPh4V1PyU507d9acOXM0f/58ZWRkyMPDQ127dlVCQoLrgxUv5nA49Morr6hPnz7685//rC1btmjHjh3y8vJSly5d9OCDD2rQoEFu7/zy9fXVihUrtHjxYm3YsEEHDx5Ufn6%2BWrZsqZ49e2r48OFq2LChevfurezsbB0%2BfFhBQUHX7LpdSv369bVs2TKlpqbq008/1YEDB/TDDz/I399fDzzwgIYMGaLbbrtNMTExOnHihDIzMy/7GU8AcLX4rjegllR8R9pDDz2kOXPm1PZ0AABV4B4lAAAAEwQlAAAAEwQlAABQK0pLS/Xggw9q48aNpvt8//33GjhwoMLDw/Xoo49q%2B/btbtvXrFmj3r17Kzw8XOPGjVNBQUGNzpGgBAAArruSkhI9%2B%2Byzl/zQ3cLCQj355JOKjo7WqlWrFBERoTFjxri%2B0WDr1q2aNm2aEhMTlZaWplOnTrk%2BWqWmcDM3AAC4rnbv3q3x48fLMAzt3LlTqampiomJqbTfihUr9Oabb2r9%2BvVyOBwyDEN9%2BvTRr3/9aw0YMECTJk1SvXr1NGvWLEnSkSNH1KtXL/3jH//QzTffXCNzpVECAADX1aZNmxQTE6O0tLRL7peVlaWoqCjXZ6U5HA5FRka6vkkgKytL0dHRrv1btWqloKAgZWVl1dhc%2BRwlAABwRfLy8ip99ZK/v78CAgKqdfyvfvWrau3ndDpd33VZwc/Pz7Vcl5eXV%2Bk5/fz8avT7IO0VlPh0XqBmtG0r7doldegg7d1b27MBbny1eZfLNfjbmDZ/vlJSUtzGEhMTlZSUVKPPU1RU5PbhudKFD/otLS2VJBUXF19ye02wV1ACUDOaNpXq17/wvwDwE4MGDXJ9WXcFf3//Gn8eLy%2BvSqGntLRU3t7el9zu4%2BNTY3MgKAEAYGf1av525ICAgGovs1kRGBio/Px8t7H8/HzXc5ttr8nQxs3cAACgTgoPD9fmzZtV8QZ9wzCUmZmp8PBw1/aMjAzX/keOHNGRI0dc22sCQQkAADurV6/mH9eQ0%2BlUcXGxJKlv3746deqUZsyYod27d2vGjBkqKipSv379JEkJCQlavXq10tPTlZ2drUmTJqlnz5419tEAEkEJAADUId27d9fatWslSb6%2Bvnr77beVkZGhAQMGKCsrS4sWLVLDhg0lSREREXr55Ze1cOFCJSQk6KabbtLMmTNrdD72%2BsBJ3vUG1IyICCkzU4qMlDZvru3ZADe%2B2vxT6%2BVV8%2BcsKan5c9ZR3MwNAICdXeOlMrvj6gEAAJigUQIAwM5olCzh6gEAAJigUQIAwM5olCwhKAEAYGcEJUu4egAAACZolAAAsDMaJUu4egAAACZolAAAsDMaJUsISgAA2BlByRKuHgAAgAkaJQAA7IxGyRKuHgAAgAkaJQAA7IxGyRKCEgAAdkZQsoSrBwAAYIJGCQAAO6NRsoSgBACAnRGULOHqAQAAmKBRAgDAzmiULOHqAQAAmKBRAgDAzmiULCEoAQBgZwQlS7h6AAAAJmiUAACwMxolS7h6AAAAJmiUAACwMxolSwhKAADYGUHJEq4eAACACRolAADsjEbJEq4eAACACRolAADsjEbJEoISAAB2RlCyhKsHAABggkYJAAA7o1GyhKsHAABggkYJAAA7o1GyhKAEAICdEZQs4eoBAACYoFECAMDOaJQsISgBAIDrqqSkRC%2B99JL%2B/ve/y9vbWyNHjtTIkSMr7Td06FBt2rSp0viAAQM0c%2BZMSVJ0dLROnz7ttj0zM1ONGjWqkbkSlAAAsLM62CjNnj1b27dv17Jly3T48GE999xzCgoKUt%2B%2Bfd32W7Bggc6dO%2Bf6PSsrS7/5zW/0q1/9SpKUm5ur06dPa/369fL29nbt17BhwxqbK0EJAAA7q2NBqbCwUOnp6Vq8eLHCwsIUFhamXbt26f33368UlJo2ber6%2Bfz583rjjTf0xBNPqHPnzpKknJwc%2Bfv76%2Babb75m861bVw8AANhadna2ysrKFBER4RqLiopSVlaWysvLTY9btWqVTp48qdGjR7vGdu/erbZt217T%2BdIoAQBgZ9egUcrLy5PT6XQb8/f3V0BAwGWPdTqdatasmTw9PV1jLVq0UElJiU6cOKHmzZtXOsYwDL3zzjsaNmyY271HOTk5Kioq0tChQ7V3716FhoZq6tSpNRqeCEoAAOCKpKWlKSUlxW0sMTFRSUlJlz22qKjILSRJcv1eWlpa5TEbN27U0aNH9dhjj7mN79mzRydPntSzzz4rX19fLV68WCNGjNCnn34qX1/fK3lJpghKAADY2TVolAYNGqTY2Fi3MX9//2od6%2BXlVSkQVfx%2B8Q3ZF1u3bp1%2B8YtfuN2zJEnvvvuuzp0752qZ5syZox49emjDhg166KGHqjWfyyEoAQBgZ9cgKAUEBFRrma0qgYGBOn78uMrKyuThcSGGOJ1OeXt7q0mTJlUe85///EeJiYmVxj09Pd3aKS8vLwUHBys3N/eq5lYVbuYGAADXTWhoqDw8PLRlyxbXWEZGhjp37qx6VYS6goICHThwQFFRUW7jhmGod%2B/eWrVqlWussLBQ%2B/fvV7t27WpsvjRKAADYWR37eAAfHx/1799fycnJevXVV5WXl6clS5a4PkDS6XSqcePGrmW4Xbt2uZqiizkcDvXs2VMLFixQ69at1bx5c82bN08tW7ZUjx49amy%2BdevqAQAA25syZYrCwsI0fPhwvfTSS0pKStL9998vSerevbvWrl3r2vfYsWNq0qSJHA5HpfNMnDhRffr00fjx4zVw4ECVlZVp0aJFql%2B/fo3N1WEYhlFjZ6ttVVxEAFchIkLKzJQiI6XNm2t7NsCNrzb/1PbpU/PnXLeu5s9ZR7H0BgCAndWxpbcbDVcPAADABI0SAAB2RqNkCVcPAADABI0SAAB2RqNkCUEJAAA7IyhZwtUDAAAwQaMEAICd0ShZQlACAMDOCEqWcPUAAABM0CgBAGBnNEqWcPUAAABM0CgBAGBnNEqWEJQAALAzgpIlXD0AAAATNEoAANgZjZIlXD0AAAATNEoAANgZjZIlBCUAAOyMoGQJVw8AAMAEjRIAAHZGo2QJVw8AAMAEjRIAAHZGo2QJQQkAADsjKFnC1QMAADBBowQAgJ3RKFnC1QMAADBBowQAgJ3RKFlCUAIAwM4ISpZw9QAAAEzQKAEAYGc0SpZw9QAAAEzQKAEAYGc0SpYQlAAAsDOCkiVcPQAAABM0SgAA2BmNkiVcPQAAABM0SgAA2BmNkiUEJQAA7IygZAlXDwAAwASNEgAAdkajZAlXDwAAXFclJSWaOnWqoqOj1b17dy1ZssR036eeekodO3Z0e2zYsMG1fc2aNerdu7fCw8M1btw4FRQU1OhcaZQAALCzOtgozZ49W9u3b9eyZct0%2BPBhPffccwoKClLfvn0r7ZuTk6PXX39dd911l2vspptukiRt3bpV06ZN00svvaROnTppxowZmjJlit5%2B%2B%2B0amytBCQAAO6tjQamwsFDp6elavHixwsLCFBYWpl27dun999%2BvFJRKS0t18OBBde7cWf7%2B/pXOtXz5cvXr10/9%2B/eXdCGA9erVSwcOHNDNN99cI/OtW1cPAADYWnZ2tsrKyhQREeEai4qKUlZWlsrLy9323bNnjxwOh2noycrKUnR0tOv3Vq1aKSgoSFlZWTU2XxolAADs7Bo0Snl5eXI6nW5j/v7%2BCggIuOyxTqdTzZo1k6enp2usRYsWKikp0YkTJ9S8eXPX%2BJ49e%2BTr66tJkyZp06ZNatmypZKSktSjRw/XPH76nH5%2Bfjp69KiVl%2BeGRgkAAFyRtLQ0DRgwwO2RlpZWrWOLiorcQpIk1%2B%2BlpaVu43v27FFxcbG6d%2B%2Bud955Rz169NBTTz2lbdu2SZKKi4urPNdPz2MFjRIAAHZ2DRqlQYMGKTY21m2sqnuIquLl5VUpyFT87u3t7TY%2BduxYDR061HXzdqdOnfTdd9/pww8/VOfOnU3P5ePjc0Wv51IISgAA2Nk1CEoBAQHVWmarSmBgoI4fP66ysjJ5eFyIIU6nU97e3mrSpInbvvXq1XOFpArt2rXT7t27XefKz893256fn1/t0FYdLL0BAIDrJjQ0VB4eHtqyZYtrLCMjQ507d1a9n4S6yZMna8qUKW5j2dnZateunSQpPDxcGRkZrm1HjhzRkSNHFB4eXmPzJSgBAGBn9erV/MMCHx8f9e/fX8nJydq6davWr1%2BvJUuWaNiwYZIutEvFxcWSpNjYWH3yySf6%2BOOPtX//fqWkpCgjI0NDhgyRJCUkJGj16tVKT09Xdna2Jk2apJ49e9bYRwNILL0BAIDrbMqUKUpOTtbw4cPl6%2BurpKQk3X///ZKk7t27a%2BbMmRowYIDuv/9%2Bvfjii3rzzTd1%2BPBhdejQQe%2B8846Cg4MlSREREXr55Zc1f/58nTx5UnfffbdeeeWVGp2rwzAMo0bPWJscjtqeAWAPERFSZqYUGSlt3lzbswFufLX5p3bmzJo/50%2BWw%2ByMRgkAADurY5/MfaPh6gEAAJigUQIAwM5olCwhKAEAYGcEJUu4egAAACZolAAAsDMaJUu4egAAACZolAAAsDMaJUsISgAA2BlByRKuHgAAgAkaJQAA7IxGyRKuHgAAgAkaJQAA7IxGyRKCEgAAdkZQsoSrBwAAYIJGCQAAO6NRsoSrBwAAYIJGCQAAO6NRsoSgBACAnRGULOHqAQAAmKBRAgDAzmiULOHqAQAAmKBRAgDAzmiULCEoAQBgZwQlS7h6AAAAJmiUAACwMxolS7h6AAAAJmiUAACwMxolSwhKAADYGUHJEq4eAACACRolAADsjEbJEq4eAACACRolAADsjEbJEoISAAB2RlCyhKsHAABggkYJAAA7o1GyhKsHAABggkYJAAA7o1GyhKAEAICdEZQs4eoBAACYoFECAMDOaJQs4eoBAIDrqqSkRFOnTlV0dLS6d%2B%2BuJUuWmO77r3/9S4888ogiIiL00EMP6bPPPnPbHh0drY4dO7o9zp49W2NzpVECAMDO6mCjNHv2bG3fvl3Lli3T4cOH9dxzzykoKEh9%2B/Z12y87O1uJiYmaNGmSevTooS%2B%2B%2BELPPPOMVqxYoU6dOik3N1enT5/W%2BvXr5e3t7TquYcOGNTZXghIAAHZWx4JSYWGh0tPTtXjxYoWFhSksLEy7du3S%2B%2B%2B/XykorVmzRt26ddOwYcMkST/72c/0z3/%2BU3/961/VqVMn5eTkyN/fXzfffPM1my9BCQAAXDfZ2dkqKytTRESEaywqKkpvvfWWysvLVe%2BiYBcXF6dz585VOsfp06clSbt371bbtm2v6XwJSgAA2Nk1aJTy8vLkdDrdxvz9/RUQEHDZY51Op5o1ayZPT0/XWIsWLVRSUqITJ06oefPmrvH27du7Hbtr1y599dVX%2BuUvfylJysnJUVFRkYYOHaq9e/cqNDRUU6dOrdHwRFACAMDOrkFQSktLU0pKittYYmKikpKSLntsUVGRW0iS5Pq9tLTU9LiCggIlJSUpMjJS9957ryRpz549OnnypJ599ln5%2Bvpq8eLFGjFihD799FP5%2Bvpe6cuqEkEJAABckUGDBik2NtZtzN/fv1rHenl5VQpEFb9ffEP2xfLz8/X444/LMAzNnz/ftTz37rvv6ty5c2rUqJEkac6cOerRo4c2bNighx566IpekxmCEgAAdnYNGqWAgIBqLbNVJTAwUMePH1dZWZk8PC7EEKfTKW9vbzVp0qTS/rm5ua6buVNTU92W5jw9Pd3aKS8vLwUHBys3N/eq5laVunUrPAAAsLXQ0FB5eHhoy5YtrrGMjAx17tzZ7UZu6cI75J544gnVq1dPy5cvV2BgoGubYRjq3bu3Vq1a5bb//v371a5duxqbL40SAAB2Vsc%2BHsDHx0f9%2B/dXcnKyXn31VeXl5WnJkiWaOXOmpAvtUuPGjeXt7a23335bP/74o9577z3XNunCEl3jxo3Vs2dPLViwQK1bt1bz5s01b948tWzZUj169Kix%2BRKUAACwszoWlCRpypQpSk5O1vDhw%2BXr66ukpCTdf//9kqTu3btr5syZGjBggNatW6fi4mINHDjQ7fi4uDjNmjVLEydOlIeHh8aPH68zZ86oW7duWrRokerXr19jc3UYhmHU2Nlqm8NR2zMA7CEiQsrMlCIjpc2ba3s2wI2vNv/UfvVVzZ/zrrtq/px1FI0SAAB2VgcbpRsJVw8AAMAEjRIAAHZGo2QJQQkAADsjKFnC1QMAADBBowQAgJ3RKFnC1QMAADBBowQAgJ3RKFlCUAIAwM4ISpZw9QAAAEzQKAEAYGc0SpZw9QAAAEzQKAEAYGc0SpYQlAAAsDOCkiVcPQAAABM0SgAA2BmNkiVcPQAAABM0SgAA2BmNkiUEJQAA7IygZAlXDwAAwASNEgAAdkajZAlXDwAAwASNEgAAdkajZAlBCQAAOyMoWcLVAwAAMEGjBACAndEoWcLVAwAAMEGjBACAndEoWUJQAgDAzghKlnD1AAAATNAoAQBgZzRKlnD1AAAATNAoAQBgZzRKlhCUAACwM4KSJVw9AAAAEzRKAADYGY2SJQQlAADsjKBkCVcPAADABI0SAAB2RqNkCVcPAADABI0SAAB2RqNkCVcPAAA7q1ev5h8WlZSUaOrUqYqOjlb37t21ZMkS032///57DRw4UOHh4Xr00Ue1fft2t%2B1r1qxR7969FR4ernHjxqmgoMDy/C5GUAIAANfV7NmztX37di1btkwvvviiUlJS9Le//a3SfoWFhXryyScVHR2tVatWKSIiQmPGjFFhYaEkaevWrZo2bZoSExOVlpamU6dOacqUKTU6V4ISAAB2VscapcLCQqWnp2vatGkKCwvTfffdpyeeeELvv/9%2BpX3Xrl0rLy8vTZo0Se3bt9e0adPUqFEjV6havny5%2BvXrp/79%2B6tTp06aPXsQ4HVfAAAcDklEQVS2Pv/8cx04cMDSHC92Ra/24MGD6tixoz755BPdc889io6O1vTp01VWVqYFCxZo7NixGjx4sLp27apNmzapsLBQL7zwgmJiYhQTE6Pnn39eJSUlkqSOHTsqPT1dvXv3VkREhMaPH6%2BzZ8/W2AsDAAB1T3Z2tsrKyhQREeEai4qKUlZWlsrLy932zcrKUlRUlBwOhyTJ4XAoMjJSW7ZscW2Pjo527d%2BqVSsFBQUpKyurxuZ7VTdzp6Sk6I033lBZWZkmTZqkRo0aycPDQ5999pmSk5PVpUsXtW3bVlOnTtXOnTv1hz/8Qd7e3po4caJ%2B//vf67nnnpMkzZs3T9OnT5efn5%2BmTp2qF154QXPnzq3WHPLy8uR0Ot3G/Nu2VUDTplfzkgBcrFMn9/8FcOO6BjdzV/k32N9fAQEBlz3W6XSqWbNm8vT0dI21aNFCJSUlOnHihJo3b%2B6276233up2vJ%2Bfn3bt2uWax0%2Bf08/PT0ePHr3i12TmqoLSxIkTXQnumWee0Zw5c5SQkKAWLVooISFBknTy5En97W9/09KlSxUVFSVJevnll7Vjxw7XeUaPHq2ePXtKkqZNm6aRI0cqOTlZjRs3vuwc0tLSlJKS4jaW%2BMwzSnrmmat5SQCq8sEHtT0DABYZctT4Oav8G5yYqKSkpMseW1RU5BaSJLl%2BLy0trda%2BFfsVFxdfcntNuKqgFBkZ6fr59ttvV0FBgY4fP67WrVu7xvfv36/z588rLCzMNRYdHe1Wkf30POfPn9fevXt1xx13XHYOgwYNUmxsrNuY/0MPScuWXc1LAnCxTp0uhKRf/UrKzq7t2QA3vszM2p5Bjaryb7C/f7WO9fLyqhRkKn739vau1r4V%2B5lt9/HxqdZcquOqglKDBg1cP1esJ9arV09eXl5V7nOl56mOgICAyhXf3r3VOhZANWVnS5s31/YsAFjwk9t%2BakSVf4OrKTAwUMePH1dZWZk8PC7EEKfTKW9vbzVp0qTSvvn5%2BW5j%2Bfn5ruc2217d0FYdV7VwefHy2fbt2xUQEKCmP7k36Oabb1b9%2BvWVfdF/ja5fv15xcXGm52nQoIHatm17NVMCAAA3gNDQUHl4eLhuyJakjIwMde7cuVJZEh4ers2bN8swDEmSYRjKzMxUeHi4a3tGRoZr/yNHjujIkSOu7TXhqoLSjBkztG3bNn355ZeaN2%2BeBg8eXGkfX19f9e/fXzNmzNDWrVu1bds2vfHGG%2BrWrZtrn/nz52vTpk3KysrS9OnTFRcXp0aNGl39qwEAAG7Ky2v%2BYYWPj4/69%2B%2Bv5ORkbd26VevXr9eSJUs0bNgwSRfapeLiYklS3759derUKc2YMUO7d%2B/WjBkzVFRUpH79%2BkmSEhIStHr1aqWnpys7O1uTJk1Sz549dfPNN1ub5MWMK3DgwAEjJCTEeOutt4y77rrLiImJMX7/%2B98b58%2BfN%2BbPn28MGTLEbf/Tp08bkydPNiIjI42YmBjjpZdeMkpKSgzDMIyQkBDj97//vdGrVy8jKirKeOGFF1zbrprEgwePmnhERFz4ZyoiovbnwoOHHR61qLi45h9WFRYWGpMmTTK6dOlidO/e3Vi6dKlrW0hIiLFy5UrX71lZWUb//v2Nzp07G/Hx8cZ3333ndq6VK1caPXr0MLp06WKMGzfOKCgosD7BizgMwzCqG6oOHjyoe%2B%2B9V5999pmCg4MtBbSOHTsqNTVVMTExls7jxlHzd/YD/5MiIi7cfBoZyT1KQE2o/p/aGvf/P76wRl10S7Lt8aW4AADY2LW4mft/CV9hAgAAYOKKGqXg4GDt3LmzRp64ps4DAADM0ShZw9IbAAA2RlCyhqU3AAAAEzRKAADYGI2SNTRKAAAAJmiUAACwMRolawhKAADYGEHJGpbeAAAATNAoAQBgYzRK1tAoAQAAmKBRAgDAxmiUrCEoAQBgYwQla1h6AwAAMEGjBACAjdEoWUOjBAAAYIJGCQAAG6NRsoagBACAjRGUrGHpDQAAwASNEgAANkajZA2NEgAAgAkaJQAAbIxGyRqCEgAANkZQsoalNwAAABM0SgAA2BiNkjU0SgAAACZolAAAsDEaJWsISgAA2BhByRqW3gAAAEzQKAEAYGM0StYQlAAAsDGCkjUsvQEAAJigUQIAwMZolKyhUQIAADBBowQAgI3RKFlDUAIAwMYIStaw9AYAAGCCRgkAABujUbKGRgkAAMAEjRIAADZGo2QNjRIAADZWXl7zj2vJMAzNmTNH3bp1U9euXTV79myVX%2BJJt2zZol/%2B8peKiIhQnz59lJ6e7rb94YcfVseOHd0eP/zwQ7XnQ6MEAADqjKVLl2rNmjVKSUlRWVmZJk6cKD8/P40aNarSvk6nU6NHj1ZCQoJmzZql7777TlOmTJG/v7969uyp8%2BfPa9%2B%2BfVq%2BfLnatGnjOq5Zs2bVng9BCQAAG7vRlt5SU1P19NNPKzo6WpI0YcIEzZs3r8qgtH79erVo0ULPPvusJKlNmzbauHGjPvnkE/Xs2VMHDx7UuXPndMcdd8jLy%2Buq5kNQAgAAdUJubq6OHDmiO%2B%2B80zUWFRWlQ4cOKS8vTwEBAW7733PPPQoNDa10njNnzkiSdu/erVatWl11SJIISgAA2Nq1aJTy8vLkdDrdxvz9/SsFmStVcc6Lz9OiRQtJ0tGjRyudPzg4WMHBwa7fjx07pk8//VRJSUmSpJycHDVo0EBjxozR9u3b1bZtW02aNEl33HFHtedEUAIAwMauRVBKS0tTSkqK21hiYqIroFxKcXGxcnNzq9xWWFgoSfL09HSNVfxcWlp62fMmJSWpRYsWGjRokCRp7969OnnypAYOHKinn35aH374oYYPH661a9eqVatWl52rRFACAABXaNCgQYqNjXUb8/f3r9axWVlZGjZsWJXbJk6cKOlCKKpYLqsISD4%2BPqbnPHv2rMaOHat9%2B/bpgw8%2BcO37yiuvqLi4WL6%2BvpKk5ORkZWZmavXq1fr1r39drfkSlAAAsLFr0SgFBARc9TJbTEyMdu7cWeW23Nxcvf7663I6na4ltYrlOLMgdubMGT3xxBP68ccftWzZMrd3t3l4eLhCkiQ5HA61a9fOtNGqCp%2BjBAAA6oTAwEAFBQUpIyPDNZaRkaGgoKAqg1l5ebkSExN18OBBvffee%2BrQoYPb9qFDh7otEZaXl2vnzp1q165dtedEowQAgI3daB8PkJCQoDlz5qhly5aSpLlz52rkyJGu7QUFBfLy8lKjRo20YsUKbdy4UW%2B%2B%2BaaaNGniap8aNGigpk2bKjY2VgsXLlRoaKjatm2r1NRUnT59WnFxcdWeD0EJAAAbu9GC0qhRo3Ts2DElJiaqfv36io%2BP14gRI1zb4%2BPjFRcXp6SkJK1bt07l5eUaM2aM2zm6du2q9957TyNGjFBJSYmmT5%2Bu/Px8hYeHa%2BnSpW7LcZfjMAzDqKkXV%2BscjtqeAWAPERFSZqYUGSlt3lzbswFufLX4p3bdupo/Z58%2BNX/OuopGCQAAG7vRGqW6hpu5AQAATNAoAQBgYzRK1hCUAACwMYKSNSy9AQAAmKBRAgDAxmiUrKFRAgAAMEGjBACAjdEoWUNQAgDAxghK1rD0BgAAYIJGCQAAG6NRsoZGCQAAwASNEgAANkajZA1BCQAAGyMoWcPSGwAAgAkaJQAAbIxGyRoaJQAAABM0SgAA2BiNkjUEJQAAbIygZA1LbwAAACZolAAAsDEaJWsISgAA2BhByRqW3gAAAEzQKAEAYGM0StbQKAEAAJigUQIAwMZolKwhKAEAYGMEJWtYegMAADBBowQAgI3RKFlDowQAAGCCRgkAABujUbKGoAQAgI0RlKxh6Q0AAMAEjRIAADZGo2QNjRIAAIAJGiUAAGyMRskaghIAADZGULKGpTcAAAATNEoAANgYjZI1NEoAAAAmCEoAANhYeXnNP64lwzA0Z84cdevWTV27dtXs2bNVfoknnT59ujp27Oj2WL58uWv7l19%2BqQcffFDh4eEaNmyYDhw4cEXzYekNAAAbu9GW3pYuXao1a9YoJSVFZWVlmjhxovz8/DRq1Kgq98/JydH48eMVFxfnGvP19ZUkHT58WOPGjVNSUpLuueceLVy4UGPHjtVf/vIXORyOas2HRgkAANQZqampevrppxUdHa1u3bppwoQJev/99033z8nJ0W233SZ/f3/Xw8fHR5KUnp6u22%2B/XSNHjlSHDh00c%2BZMHTp0SJs2bar2fAhKAADY2I209Jabm6sjR47ozjvvdI1FRUXp0KFDysvLq7T/mTNnlJubqzZt2lR5vqysLEVHR7t%2B9/HxUVhYmLZs2VLtORGUAABAneB0OiVJAQEBrrEWLVpIko4ePVpp/5ycHDkcDr311lv6xS9%2BoYcfflgfffSR2/kuPpck%2Bfn5VXkuM9yjBACAjV2LBigvL88Vair4%2B/tXCiVVKS4uVm5ubpXbCgsLJUmenp6usYqfS0tLK%2B2/Z88eORwOtWvXTkOGDNE333yj559/Xr6%2BvrrvvvtUVFTkdq6K81V1LjMEJQAAbOxaBKW0tDSlpKS4jSUmJiopKemyx2ZlZWnYsGFVbps4caKkC6HIy8vL9bMk131HF%2Bvfv7969eqlpk2bSpI6deqkffv26U9/%2BpPuu%2B8%2BeXl5VQpFpaWlatKkyWXnWYGgBAAArsigQYMUGxvrNubv71%2BtY2NiYrRz584qt%2BXm5ur111%2BX0%2BlUcHCwpP9bjqvq/A6HwxWSKrRr105ff/21JCkwMFD5%2Bflu2/Pz8xUaGlqtuUoEJQAAbO1aNEoBAQHVWma7UoGBgQoKClJGRoYrKGVkZCgoKKjK55s3b542b96sP/7xj66x7OxstWvXTpIUHh6ujIwM17aioiJ9//33SkxMrPacuJkbAADUGQkJCZozZ442btyojRs3au7cuW5LdQUFBTp79qwkqVevXvrmm2/07rvv6scff9QHH3ygjz/%2BWCNHjpQkPfroo8rMzNSiRYu0a9cuTZkyRcHBwYqJian2fAhKAADY2I308QCSNGrUKD3wwANKTEzUM888o0ceeUQjRoxwbY%2BPj9eSJUskSXfccYfmzZun1atX68EHH9R7772nuXPnKiIiQpIUHBysBQsWaOXKlYqPj9eJEye0cOHCan/YpCQ5DMMwavQV1qYreOEALiEiQsrMlCIjpc2ba3s2wI2vFv/UTplS8%2BecObPmz1lX0SgBAACY4GZuAABs7Eb7rre6hkYJAADABI0SAAA2RqNkDUEJAAAbIyhZw9IbAACACRolAABsjEbJGholAAAAEzRKAADYGI2SNQQlAABsjKBkDUtvAAAAJmiUAACwMRolawhKAADYGEHJGpbeAAAATNAoAQBgYzRK1tAoAQAAmKBRAgDAxmiUrCEoAQBgYwQla1h6AwAAMEGjBACAjdEoWUOjBAAAYIJGCQAAG6NRsoagBACAjRGUrGHpDQAAwASNEgAANkajZA2NEgAAgAkaJQAAbIxGyRqCEgAANkZQsoalNwAAABM0SgAA2BiNkjU0SgAAACZolAAAsDEaJWsISgAA2BhByRqW3gAAAEzQKAEAYGM0StbQKAEAAJigUQIAwMZolKwhKAEAYGMEJWtYegMAADBBowQAgI3RKFlDowQAAGCCRgkAABu70RolwzA0d%2B5crVixQuXl5YqPj9eECRNUr17lbmfy5Mn66KOPKo3HxMQoNTVVkvTwww9r586dbts/%2BeQThYSEVGs%2BBCUAAGzsRgtKS5cu1Zo1a5SSkqKysjJNnDhRfn5%2BGjVqVKV9p02bpvHjx7t%2BP3TokIYOHaphw4ZJks6fP699%2B/Zp%2BfLlatOmjWu/Zs2aVXs%2BBCUAAFBnpKam6umnn1Z0dLQkacKECZo3b16VQalx48Zq3Lix6/fJkyerb9%2B%2B6t27tyTp4MGDOnfunO644w55eXld1XwISgAA2NiN1Cjl5ubqyJEjuvPOO11jUVFROnTokPLy8hQQEGB67FdffaVvvvlG69atc43t3r1brVq1uuqQJHEzNwAAqCOcTqckuQWiFi1aSJKOHj16yWMXLVqkuLg4tWrVyjWWk5OjBg0aaMyYMbr77rs1ZMgQbd269YrmRKMEAICNXYtGKS8vzxVqKvj7%2B1%2By8alQXFys3NzcKrcVFhZKkjw9PV1jFT%2BXlpaanvPAgQP6%2BuuvNW3aNLfxvXv36uTJkxo4cKCefvppffjhhxo%2BfLjWrl3rFqguhaAEAICNXYuglJaWppSUFLexxMREJSUlXfbYrKws183WPzVx4kRJF0JRxXJZRUDy8fExPee6desUGhqqW2%2B91W38lVdeUXFxsXx9fSVJycnJyszM1OrVq/XrX//6snOVCEoAAOAKDRo0SLGxsW5j/v7%2B1To2Jiam0tv1K%2BTm5ur111%2BX0%2BlUcHCwpP9bjrvU%2Bf/zn//o3nvvrTTu4eHhCkmS5HA41K5dO9NGqyoEJQAAbOxaNEoBAQHVWma7UoGBgQoKClJGRoYrKGVkZCgoKMj0%2BQzD0LZt26psiIYOHaqYmBglJiZKksrLy7Vz504NHjy42nMiKAEAgDojISFBc%2BbMUcuWLSVJc%2BfO1ciRI13bCwoK5OXlpUaNGkm68NlJZ8%2BerbTsJkmxsbFauHChQkND1bZtW6Wmpur06dOKi4ur9nwISgAA2NiN9PEAkjRq1CgdO3ZMiYmJql%2B/vuLj4zVixAjX9vj4eMXFxbnuhzp27Jgk6aabbqp0rhEjRqikpETTp09Xfn6%2BwsPDtXTpUrfluMtxGIZhWHtJdYjDUdszAOwhIkLKzJQiI6XNm2t7NsCNrxb/1N51V82f86uvav6cdRWfowQAAGCCpTcAAGzsRlt6q2sISgAA2BhByRqW3gAAAEzQKAEAYGM0StbQKAEAAJigUQIAwMZolKwhKAEAYGMEJWtYegMAADBBowQAgI3RKFlDowQAAGCCRgkAABujUbKGoAQAgI0RlKxh6Q0AAMAEjRIAADZGo2QNjRIAAIAJGiUAAGyMRskaghIAADZGULKGpTcAAAATNEoAANgYjZI1NEoAAAAmaJQAALAxGiVrCEoAANgYQckalt4AAABM0CgBAGBjNErW0CgBAACYoFECAMDGaJSsISgBAGBjBCVrWHoDAAAwQaMEAICN0ShZQ6MEAABggkYJAAAbo1GyhqAEAICNEZSsYekNAADABI0SAAA2RqNkDY0SAACACRolAABsjEbJGoISAAA2RlCyhqU3AAAAEzRKAADYGI2SNTRKAAAAJghKAADYWHl5zT%2BuB8MwNHLkSK1ateqS%2Bx04cEAjRoxQly5d9MADD%2BiLL75w2/7ll1/qwQcfVHh4uIYNG6YDBw5c0TwISgAA2NiNGJTKy8s1ffp0/fe//73kfoZhaNy4cWrRooVWrlypRx55RImJiTp8%2BLAk6fDhwxo3bpwGDBigFStWqHnz5ho7dqwMw6j2XAhKAACgzsjNzdXw4cP1z3/%2BU02aNLnkvl9//bUOHDigl19%2BWe3bt9eYMWPUpUsXrVy5UpKUnp6u22%2B/XSNHjlSHDh00c%2BZMHTp0SJs2bar2fAhKAADY2I3WKH333Xdq1aqVVq5cqcaNG19y36ysLN12221q2LChaywqKkpbtmxxbY%2BOjnZt8/HxUVhYmGt7dfCuNwAAUGfExsYqNja2Wvs6nU4FBAS4jfn5%2Beno0aPV2l4dBCUAAGzsWjRAeXl5cjqdbmP%2B/v6VQklViouLlZubW%2BU2f39/t3bocoqKiuTp6ek25unpqdLS0mptrw57BaUruDkLgLm8vDylLVigQX/7W7X%2BxQeg7roWfxoXLEhTSkqK21hiYqKSkpIue2xWVpaGDRtW5baFCxeqd%2B/e1Z6Hl5eXTpw44TZWWloqb29v1/afhqLS0tLL3vt0MXsFJQA1wul0KiUlRbGxsQQlAJUMGjSo0vKYv79/tY6NiYnRzp07a2QegYGB2r17t9tYfn6%2B699bgYGBys/Pr7Q9NDS02s9BUAIAAFckICCgTvxHVHh4uBYtWqTi4mJXi5SRkaGoqCjX9oyMDNf%2BRUVF%2Bv7775WYmFjt5%2BBdbwAA4IZRUFCgs2fPSpK6du2qVq1aacqUKdq1a5cWLVqkrVu3Kj4%2BXpL06KOPKjMzU4sWLdKuXbs0ZcoUBQcHKyYmptrPR1ACAAA3jPj4eC1ZskSSVL9%2Bff3hD3%2BQ0%2BnUgAED9Je//EULFy5UUFCQJCk4OFgLFizQypUrFR8frxMnTmjhwoVyOBzVfj6HcSUfTwngf0JeXp7S0tI0aNCgOlGvA0BtISgBAACYYOkNAADABEEJAADABEEJAADABEEJAADABEEJAADABEEJAADABEEJAADABEEJAADABEEJAADAhEdtTwBA3XLmzBnt27dP9erVU9u2beXj41PbUwKAWkNQAiBJKioq0gsvvKC//vWvKisrkyR5enoqLi5Ov/3tb9WgQYNaniEAXH8svQGQJD3//PPKzs7Wu%2B%2B%2Bq4yMDH3zzTd666239O2332rmzJm1PT0AqBV8KS4ASVJkZKTee%2B89hYWFuY1nZWVp9OjR2rRpUy3NDABqD40SAEmSn5%2Bfjh07Vmm8tLRUvr6%2BtTAjAKh99ZOTk5NrexIAal/Dhg316quvytPTU/Xr19fx48f1xRdfaMaMGYqLi1O9evV0%2BPBhHT58WK1bt67t6QLAdcHSGwBJUqdOnaq1n8Ph0I4dO67xbACgbiAoAQAAmOAeJQCSLtyLNHv2bL3//vuusQEDBmjOnDk6d%2B5cLc4MAGoPQQmAJGn69On6/PPP3Zbgxo4dq3/961967bXXanFmAFB7WHoDIEnq1q2bli5dqtDQULfxbdu2acyYMfryyy9raWYAUHtolABIkgzDUElJSZXjLL0B%2BF9FUAIgSerTp4%2Bef/55ffvttyosLFRhYaEyMzOVnJys%2B%2B67r7anBwC1gqU3AJIufNfbtGnTtG7dOpWXl0uS6tevr0ceeURTp05Vo0aNanmGAHD9EZQASJK%2B/fZbde7cWSUlJdq/f78aNGig4OBgPpUbwP80ghIASVJMTIyWLVtW7Q%2BeBID/BdyjBECS1KFDB23durW2pwEAdQqNEgBJ0rhx4/TZZ5%2BpRYsWCg4Olqenp9v21NTUWpoZANQej9qeAIC6ITQ0VKGhoTIMQydOnJDD4VDTpk1re1oAUKtolABIks6fP6/58%2BcrPT1dBQUFkqTAwEANHjxYTz75ZC3PDgBqB40SAEnSa6%2B9pnXr1mnChAm6/fbbVV5erm3btmn%2B/PkqLS1VYmJibU8RAK47GiUAkqQ777xTCxcuVNeuXd3Gv/zyS02YMIGvMAHwP4l3vQGQJPn4%2BKhBgwaVxps0aSKHw1ELMwKA2lc/OTk5ubYnAaD2%2Bfv7a9asWWrdurWaNWumsrIybd26VS%2B99JLi4%2BPVqlUrnT59WqdPn1bjxo1re7oAcF2w9AZAktw%2BaLKiQbr4Xw8Oh0OGYcjhcGjHjh3XfX4AUBsISgAkSYcOHar2vq1bt76GMwGAuoOgBAAAYIKbuQEAAEwQlAAAAEwQlAAAAEwQlAAAAEwQlAAAAEwQlAAAAEwQlAAAAEwQlAAAAEz8P63AewLLDnGhAAAAAElFTkSuQmCC\" class=\"center-img\">\n",
       "</div>\n",
       "    <div class=\"row headerrow highlight\">\n",
       "        <h1>Sample</h1>\n",
       "    </div>\n",
       "    <div class=\"row variablerow\">\n",
       "    <div class=\"col-md-12\" style=\"overflow:scroll; width: 100%%; overflow-y: hidden;\">\n",
       "        <table border=\"1\" class=\"dataframe sample\">\n",
       "  <thead>\n",
       "    <tr style=\"text-align: right;\">\n",
       "      <th></th>\n",
       "      <th>date</th>\n",
       "      <th>prcp</th>\n",
       "    </tr>\n",
       "  </thead>\n",
       "  <tbody>\n",
       "    <tr>\n",
       "      <th>0</th>\n",
       "      <td>2017-08-23</td>\n",
       "      <td>0.00</td>\n",
       "    </tr>\n",
       "    <tr>\n",
       "      <th>1</th>\n",
       "      <td>2017-08-23</td>\n",
       "      <td>0.00</td>\n",
       "    </tr>\n",
       "    <tr>\n",
       "      <th>2</th>\n",
       "      <td>2017-08-23</td>\n",
       "      <td>0.08</td>\n",
       "    </tr>\n",
       "    <tr>\n",
       "      <th>3</th>\n",
       "      <td>2017-08-23</td>\n",
       "      <td>0.45</td>\n",
       "    </tr>\n",
       "    <tr>\n",
       "      <th>4</th>\n",
       "      <td>2017-08-22</td>\n",
       "      <td>0.00</td>\n",
       "    </tr>\n",
       "  </tbody>\n",
       "</table>\n",
       "    </div>\n",
       "</div>\n",
       "</div>"
      ],
      "text/plain": [
       "<pandas_profiling.ProfileReport at 0x113b58a20>"
      ]
     },
     "execution_count": 23,
     "metadata": {},
     "output_type": "execute_result"
    }
   ],
   "source": [
    "# use pandas profiling to analyze merge1_drop\n",
    "results_df_profile = pandas_profiling.ProfileReport(results_df)\n",
    "results_df_profile"
   ]
  },
  {
   "cell_type": "markdown",
   "metadata": {},
   "source": [
    "# Station Analysis\n",
    "\n",
    "* Design a query to calculate the total number of stations.\n",
    "\n",
    "* Design a query to find the most active stations.\n",
    "\n",
    "    * List the stations and observation counts in descending order\n",
    "    * Which station has the highest number of observations?\n",
    "\n",
    "* Design a query to retrieve the last 12 months of temperature observation data (tobs).\n",
    "\n",
    "    * Filter by the station with the highest number of observations.\n",
    "    * Plot the results as a histogram with bins=12.\n"
   ]
  },
  {
   "cell_type": "code",
   "execution_count": 24,
   "metadata": {},
   "outputs": [
    {
     "name": "stdout",
     "output_type": "stream",
     "text": [
      "The total number of stations: 9\n"
     ]
    }
   ],
   "source": [
    "# query to calculate total number of stations\n",
    "print(\"The total number of stations:\", session.query(Station.station).count())"
   ]
  },
  {
   "cell_type": "code",
   "execution_count": 25,
   "metadata": {
    "scrolled": true
   },
   "outputs": [
    {
     "name": "stdout",
     "output_type": "stream",
     "text": [
      "The Station with the highest number of observtations is USC00519281.\n"
     ]
    },
    {
     "data": {
      "text/plain": [
       "[('USC00519281', 2772),\n",
       " ('USC00513117', 2696),\n",
       " ('USC00519397', 2685),\n",
       " ('USC00519523', 2572),\n",
       " ('USC00516128', 2484),\n",
       " ('USC00514830', 1937),\n",
       " ('USC00511918', 1932),\n",
       " ('USC00517948', 683),\n",
       " ('USC00518838', 342)]"
      ]
     },
     "execution_count": 25,
     "metadata": {},
     "output_type": "execute_result"
    }
   ],
   "source": [
    "# most active stations in descending order\n",
    "print('The Station with the highest number of observtations is USC00519281.')\n",
    "session.query(Measurement.station, func.count(Measurement.station).label(\"most_active_stations\"))\\\n",
    "    .group_by(Measurement.station).order_by(\"most_active_stations DESC\").all()   "
   ]
  },
  {
   "cell_type": "code",
   "execution_count": 26,
   "metadata": {},
   "outputs": [
    {
     "name": "stdout",
     "output_type": "stream",
     "text": [
      "('2016-08-23', 81.0, 'USC00519397', 'WAIKIKI 717.2, HI US')\n",
      "('2016-08-23', 81.0, 'USC00519397', 'KANEOHE 838.1, HI US')\n",
      "('2016-08-23', 81.0, 'USC00519397', 'KUALOA RANCH HEADQUARTERS 886.9, HI US')\n",
      "('2016-08-23', 81.0, 'USC00519397', 'PEARL CITY, HI US')\n",
      "('2016-08-23', 81.0, 'USC00519397', 'UPPER WAHIAWA 874.3, HI US')\n",
      "('2016-08-23', 81.0, 'USC00519397', 'WAIMANALO EXPERIMENTAL FARM, HI US')\n",
      "('2016-08-23', 81.0, 'USC00519397', 'WAIHEE 837.5, HI US')\n",
      "('2016-08-23', 81.0, 'USC00519397', 'HONOLULU OBSERVATORY 702.2, HI US')\n",
      "('2016-08-23', 81.0, 'USC00519397', 'MANOA LYON ARBO 785.2, HI US')\n",
      "('2016-08-24', 79.0, 'USC00519397', 'WAIKIKI 717.2, HI US')\n"
     ]
    }
   ],
   "source": [
    "# Design a query to retrieve the last 12 months of temperature observation data (tobs).\n",
    "\n",
    "for row in session.query(Measurement.date, Measurement.tobs, Measurement.station, Station.name).filter(Measurement.date <= '2017-08-23').\\\n",
    "filter(Measurement.date >= '2016-08-23').limit(10):\n",
    "    print (row)       "
   ]
  },
  {
   "cell_type": "code",
   "execution_count": 64,
   "metadata": {
    "scrolled": false
   },
   "outputs": [],
   "source": [
    "tobs_results = session.query(Measurement.date, Measurement.station, Measurement.tobs).\\\n",
    "filter(Measurement.date <= '2017-08-23').\\\n",
    "filter(Measurement.date >= '2016-08-23').\\\n",
    "order_by(Measurement.date.desc()).all()\n",
    "# tobs_results"
   ]
  },
  {
   "cell_type": "code",
   "execution_count": 51,
   "metadata": {},
   "outputs": [
    {
     "data": {
      "text/plain": [
       "[('USC00516128', 77.0, 193),\n",
       " ('USC00516128', 76.0, 186),\n",
       " ('USC00516128', 78.0, 179),\n",
       " ('USC00516128', 74.0, 160),\n",
       " ('USC00516128', 75.0, 159),\n",
       " ('USC00516128', 79.0, 138),\n",
       " ('USC00516128', 80.0, 132),\n",
       " ('USC00516128', 72.0, 114),\n",
       " ('USC00516128', 71.0, 113),\n",
       " ('USC00516128', 73.0, 110),\n",
       " ('USC00516128', 70.0, 102),\n",
       " ('USC00516128', 69.0, 85),\n",
       " ('USC00519281', 81.0, 78),\n",
       " ('USC00516128', 68.0, 49),\n",
       " ('USC00516128', 67.0, 47),\n",
       " ('USC00516128', 82.0, 38),\n",
       " ('USC00516128', 66.0, 28),\n",
       " ('USC00516128', 65.0, 26),\n",
       " ('USC00516128', 64.0, 23),\n",
       " ('USC00519281', 63.0, 15),\n",
       " ('USC00519281', 62.0, 13),\n",
       " ('USC00519281', 83.0, 12),\n",
       " ('USC00516128', 60.0, 6),\n",
       " ('USC00519523', 84.0, 6),\n",
       " ('USC00519281', 61.0, 4),\n",
       " ('USC00519281', 59.0, 3),\n",
       " ('USC00516128', 58.0, 1),\n",
       " ('USC00519397', 87.0, 1)]"
      ]
     },
     "execution_count": 51,
     "metadata": {},
     "output_type": "execute_result"
    }
   ],
   "source": [
    "# Design a query to retrieve the last 12 months of temperature observation data (tobs)\n",
    "# Filter by the station with the highest number of observations.\n",
    "# Plot the results as a histogram with bins=12.\n",
    "\n",
    "tobs_results2= session.query(Measurement.station, Measurement.tobs, func.count(Measurement.tobs).\\\n",
    "    label(\"highest_observations\")).\\\n",
    "    group_by(Measurement.tobs).\\\n",
    "    filter(Measurement.date <= '2017-08-23').\\\n",
    "    filter(Measurement.date >= '2016-08-23').\\\n",
    "    order_by(\"highest_observations DESC\").all() \n",
    "tobs_results2"
   ]
  },
  {
   "cell_type": "markdown",
   "metadata": {},
   "source": [
    "* un pack and add to df"
   ]
  },
  {
   "cell_type": "code",
   "execution_count": 70,
   "metadata": {
    "scrolled": false
   },
   "outputs": [],
   "source": [
    "# unpack date and prcp to plot in matplotlib using list comprehension\n",
    "# [0]date [1]station [2]tobs\n",
    "\n",
    "# date_tobs unpacks the first element \"date\" in the list tobs_results\n",
    "date_tobs = [t[0] for t in tobs_results[:]]\n",
    "\n",
    "# station_tobs3 unpacks the second element \"station\" in the list tobs_results\n",
    "station_tobs3 = [t[1] for t in tobs_results[:]]\n",
    "\n",
    "# tobs4 unpacks the third element \"tobs\" in tobs_results\n",
    "tobs4 = [t[2] for t in tobs_results[:]]"
   ]
  },
  {
   "cell_type": "code",
   "execution_count": 71,
   "metadata": {},
   "outputs": [
    {
     "data": {
      "text/html": [
       "<div>\n",
       "<style>\n",
       "    .dataframe thead tr:only-child th {\n",
       "        text-align: right;\n",
       "    }\n",
       "\n",
       "    .dataframe thead th {\n",
       "        text-align: left;\n",
       "    }\n",
       "\n",
       "    .dataframe tbody tr th {\n",
       "        vertical-align: top;\n",
       "    }\n",
       "</style>\n",
       "<table border=\"1\" class=\"dataframe\">\n",
       "  <thead>\n",
       "    <tr style=\"text-align: right;\">\n",
       "      <th></th>\n",
       "      <th>date</th>\n",
       "      <th>station</th>\n",
       "      <th>tobs</th>\n",
       "    </tr>\n",
       "  </thead>\n",
       "  <tbody>\n",
       "    <tr>\n",
       "      <th>0</th>\n",
       "      <td>2017-08-23</td>\n",
       "      <td>USC00519397</td>\n",
       "      <td>81.0</td>\n",
       "    </tr>\n",
       "    <tr>\n",
       "      <th>1</th>\n",
       "      <td>2017-08-23</td>\n",
       "      <td>USC00514830</td>\n",
       "      <td>82.0</td>\n",
       "    </tr>\n",
       "    <tr>\n",
       "      <th>2</th>\n",
       "      <td>2017-08-23</td>\n",
       "      <td>USC00519523</td>\n",
       "      <td>82.0</td>\n",
       "    </tr>\n",
       "    <tr>\n",
       "      <th>3</th>\n",
       "      <td>2017-08-23</td>\n",
       "      <td>USC00516128</td>\n",
       "      <td>76.0</td>\n",
       "    </tr>\n",
       "    <tr>\n",
       "      <th>4</th>\n",
       "      <td>2017-08-22</td>\n",
       "      <td>USC00519397</td>\n",
       "      <td>82.0</td>\n",
       "    </tr>\n",
       "  </tbody>\n",
       "</table>\n",
       "</div>"
      ],
      "text/plain": [
       "         date      station  tobs\n",
       "0  2017-08-23  USC00519397  81.0\n",
       "1  2017-08-23  USC00514830  82.0\n",
       "2  2017-08-23  USC00519523  82.0\n",
       "3  2017-08-23  USC00516128  76.0\n",
       "4  2017-08-22  USC00519397  82.0"
      ]
     },
     "execution_count": 71,
     "metadata": {},
     "output_type": "execute_result"
    },
    {
     "data": {
      "text/plain": [
       "(2021, 3)"
      ]
     },
     "execution_count": 71,
     "metadata": {},
     "output_type": "execute_result"
    }
   ],
   "source": [
    "# load results into a pandas df\n",
    "tobs_all_df = pd.DataFrame(tobs_results[:], columns=['date', 'station', 'tobs'])\n",
    "tobs_all_df.head()\n",
    "tobs_all_df.shape"
   ]
  },
  {
   "cell_type": "code",
   "execution_count": 80,
   "metadata": {},
   "outputs": [
    {
     "data": {
      "text/html": [
       "<div>\n",
       "<style>\n",
       "    .dataframe thead tr:only-child th {\n",
       "        text-align: right;\n",
       "    }\n",
       "\n",
       "    .dataframe thead th {\n",
       "        text-align: left;\n",
       "    }\n",
       "\n",
       "    .dataframe tbody tr th {\n",
       "        vertical-align: top;\n",
       "    }\n",
       "</style>\n",
       "<table border=\"1\" class=\"dataframe\">\n",
       "  <thead>\n",
       "    <tr style=\"text-align: right;\">\n",
       "      <th></th>\n",
       "      <th>tobs</th>\n",
       "    </tr>\n",
       "  </thead>\n",
       "  <tbody>\n",
       "    <tr>\n",
       "      <th>600</th>\n",
       "      <td>58.0</td>\n",
       "    </tr>\n",
       "    <tr>\n",
       "      <th>1053</th>\n",
       "      <td>59.0</td>\n",
       "    </tr>\n",
       "    <tr>\n",
       "      <th>1046</th>\n",
       "      <td>59.0</td>\n",
       "    </tr>\n",
       "    <tr>\n",
       "      <th>1088</th>\n",
       "      <td>59.0</td>\n",
       "    </tr>\n",
       "    <tr>\n",
       "      <th>1082</th>\n",
       "      <td>60.0</td>\n",
       "    </tr>\n",
       "  </tbody>\n",
       "</table>\n",
       "</div>"
      ],
      "text/plain": [
       "      tobs\n",
       "600   58.0\n",
       "1053  59.0\n",
       "1046  59.0\n",
       "1088  59.0\n",
       "1082  60.0"
      ]
     },
     "execution_count": 80,
     "metadata": {},
     "output_type": "execute_result"
    },
    {
     "data": {
      "text/plain": [
       "(2021, 1)"
      ]
     },
     "execution_count": 80,
     "metadata": {},
     "output_type": "execute_result"
    }
   ],
   "source": [
    "# plots tobs 2\n",
    "plot_tobs2 = tobs_all_df[['tobs']]\n",
    "plot_tobs2.sort_values('tobs', ascending=True).head()\n",
    "plot_tobs2.shape"
   ]
  },
  {
   "cell_type": "code",
   "execution_count": 84,
   "metadata": {},
   "outputs": [
    {
     "data": {
      "text/plain": [
       "<matplotlib.figure.Figure at 0x117216f98>"
      ]
     },
     "execution_count": 84,
     "metadata": {},
     "output_type": "execute_result"
    },
    {
     "data": {
      "text/plain": [
       "<matplotlib.axes._subplots.AxesSubplot at 0x118d7b860>"
      ]
     },
     "execution_count": 84,
     "metadata": {},
     "output_type": "execute_result"
    },
    {
     "data": {
      "text/plain": [
       "<matplotlib.figure.Figure at 0x117216f98>"
      ]
     },
     "metadata": {},
     "output_type": "display_data"
    },
    {
     "data": {
      "image/png": "[encoded data removed]",
      "text/plain": [
       "<matplotlib.figure.Figure at 0x118d8d048>"
      ]
     },
     "metadata": {},
     "output_type": "display_data"
    }
   ],
   "source": [
    "# plot histogram\n",
    "sns.set()\n",
    "plt.figure()\n",
    "plot_tobs2.plot.hist(alpha=0.9, range=[50, 90], bins=12, rwidth=0.95)"
   ]
  },
  {
   "cell_type": "markdown",
   "metadata": {},
   "source": [
    "**This section sorts tobs with group by observation count**"
   ]
  },
  {
   "cell_type": "code",
   "execution_count": 58,
   "metadata": {
    "scrolled": false
   },
   "outputs": [],
   "source": [
    "# unpack date and prcp to plot in matplotlib using list comprehension [:] selects everything in the list\n",
    "\n",
    "# station_tobs unpacks the first element \"station\" in the list tobs_results2\n",
    "station_tobs = [t[0] for t in tobs_results2[:]]\n",
    "\n",
    "# tobs_2 unpacks the second element \"tobs\" in the list tobs_results2\n",
    "tobs_2 = [t[1] for t in tobs_results2[:]]\n",
    "\n",
    "# obervations unpacks the third element \"observation\" in tobs_results2\n",
    "observations = [t[2] for t in tobs_results2[:]]"
   ]
  },
  {
   "cell_type": "code",
   "execution_count": 77,
   "metadata": {
    "scrolled": false
   },
   "outputs": [
    {
     "data": {
      "text/html": [
       "<div>\n",
       "<style>\n",
       "    .dataframe thead tr:only-child th {\n",
       "        text-align: right;\n",
       "    }\n",
       "\n",
       "    .dataframe thead th {\n",
       "        text-align: left;\n",
       "    }\n",
       "\n",
       "    .dataframe tbody tr th {\n",
       "        vertical-align: top;\n",
       "    }\n",
       "</style>\n",
       "<table border=\"1\" class=\"dataframe\">\n",
       "  <thead>\n",
       "    <tr style=\"text-align: right;\">\n",
       "      <th></th>\n",
       "      <th>station</th>\n",
       "      <th>tobs</th>\n",
       "      <th>observations</th>\n",
       "    </tr>\n",
       "  </thead>\n",
       "  <tbody>\n",
       "    <tr>\n",
       "      <th>0</th>\n",
       "      <td>USC00516128</td>\n",
       "      <td>77.0</td>\n",
       "      <td>193</td>\n",
       "    </tr>\n",
       "    <tr>\n",
       "      <th>1</th>\n",
       "      <td>USC00516128</td>\n",
       "      <td>76.0</td>\n",
       "      <td>186</td>\n",
       "    </tr>\n",
       "    <tr>\n",
       "      <th>2</th>\n",
       "      <td>USC00516128</td>\n",
       "      <td>78.0</td>\n",
       "      <td>179</td>\n",
       "    </tr>\n",
       "    <tr>\n",
       "      <th>3</th>\n",
       "      <td>USC00516128</td>\n",
       "      <td>74.0</td>\n",
       "      <td>160</td>\n",
       "    </tr>\n",
       "    <tr>\n",
       "      <th>4</th>\n",
       "      <td>USC00516128</td>\n",
       "      <td>75.0</td>\n",
       "      <td>159</td>\n",
       "    </tr>\n",
       "  </tbody>\n",
       "</table>\n",
       "</div>"
      ],
      "text/plain": [
       "       station  tobs  observations\n",
       "0  USC00516128  77.0           193\n",
       "1  USC00516128  76.0           186\n",
       "2  USC00516128  78.0           179\n",
       "3  USC00516128  74.0           160\n",
       "4  USC00516128  75.0           159"
      ]
     },
     "execution_count": 77,
     "metadata": {},
     "output_type": "execute_result"
    },
    {
     "data": {
      "text/plain": [
       "(28, 3)"
      ]
     },
     "execution_count": 77,
     "metadata": {},
     "output_type": "execute_result"
    }
   ],
   "source": [
    "# load results into pandas df\n",
    "tobs_df = pd.DataFrame(tobs_results2[:], columns =['station', 'tobs', 'observations'])\n",
    "tobs_df.head()\n",
    "tobs_df.shape"
   ]
  },
  {
   "cell_type": "code",
   "execution_count": 74,
   "metadata": {},
   "outputs": [
    {
     "data": {
      "text/html": [
       "<div>\n",
       "<style>\n",
       "    .dataframe thead tr:only-child th {\n",
       "        text-align: right;\n",
       "    }\n",
       "\n",
       "    .dataframe thead th {\n",
       "        text-align: left;\n",
       "    }\n",
       "\n",
       "    .dataframe tbody tr th {\n",
       "        vertical-align: top;\n",
       "    }\n",
       "</style>\n",
       "<table border=\"1\" class=\"dataframe\">\n",
       "  <thead>\n",
       "    <tr style=\"text-align: right;\">\n",
       "      <th></th>\n",
       "      <th>tobs</th>\n",
       "    </tr>\n",
       "  </thead>\n",
       "  <tbody>\n",
       "    <tr>\n",
       "      <th>26</th>\n",
       "      <td>58.0</td>\n",
       "    </tr>\n",
       "    <tr>\n",
       "      <th>25</th>\n",
       "      <td>59.0</td>\n",
       "    </tr>\n",
       "    <tr>\n",
       "      <th>22</th>\n",
       "      <td>60.0</td>\n",
       "    </tr>\n",
       "    <tr>\n",
       "      <th>24</th>\n",
       "      <td>61.0</td>\n",
       "    </tr>\n",
       "    <tr>\n",
       "      <th>20</th>\n",
       "      <td>62.0</td>\n",
       "    </tr>\n",
       "    <tr>\n",
       "      <th>19</th>\n",
       "      <td>63.0</td>\n",
       "    </tr>\n",
       "    <tr>\n",
       "      <th>18</th>\n",
       "      <td>64.0</td>\n",
       "    </tr>\n",
       "    <tr>\n",
       "      <th>17</th>\n",
       "      <td>65.0</td>\n",
       "    </tr>\n",
       "    <tr>\n",
       "      <th>16</th>\n",
       "      <td>66.0</td>\n",
       "    </tr>\n",
       "    <tr>\n",
       "      <th>14</th>\n",
       "      <td>67.0</td>\n",
       "    </tr>\n",
       "    <tr>\n",
       "      <th>13</th>\n",
       "      <td>68.0</td>\n",
       "    </tr>\n",
       "    <tr>\n",
       "      <th>11</th>\n",
       "      <td>69.0</td>\n",
       "    </tr>\n",
       "    <tr>\n",
       "      <th>10</th>\n",
       "      <td>70.0</td>\n",
       "    </tr>\n",
       "    <tr>\n",
       "      <th>8</th>\n",
       "      <td>71.0</td>\n",
       "    </tr>\n",
       "    <tr>\n",
       "      <th>7</th>\n",
       "      <td>72.0</td>\n",
       "    </tr>\n",
       "    <tr>\n",
       "      <th>9</th>\n",
       "      <td>73.0</td>\n",
       "    </tr>\n",
       "    <tr>\n",
       "      <th>3</th>\n",
       "      <td>74.0</td>\n",
       "    </tr>\n",
       "    <tr>\n",
       "      <th>4</th>\n",
       "      <td>75.0</td>\n",
       "    </tr>\n",
       "    <tr>\n",
       "      <th>1</th>\n",
       "      <td>76.0</td>\n",
       "    </tr>\n",
       "    <tr>\n",
       "      <th>0</th>\n",
       "      <td>77.0</td>\n",
       "    </tr>\n",
       "    <tr>\n",
       "      <th>2</th>\n",
       "      <td>78.0</td>\n",
       "    </tr>\n",
       "    <tr>\n",
       "      <th>5</th>\n",
       "      <td>79.0</td>\n",
       "    </tr>\n",
       "    <tr>\n",
       "      <th>6</th>\n",
       "      <td>80.0</td>\n",
       "    </tr>\n",
       "    <tr>\n",
       "      <th>12</th>\n",
       "      <td>81.0</td>\n",
       "    </tr>\n",
       "    <tr>\n",
       "      <th>15</th>\n",
       "      <td>82.0</td>\n",
       "    </tr>\n",
       "    <tr>\n",
       "      <th>21</th>\n",
       "      <td>83.0</td>\n",
       "    </tr>\n",
       "    <tr>\n",
       "      <th>23</th>\n",
       "      <td>84.0</td>\n",
       "    </tr>\n",
       "    <tr>\n",
       "      <th>27</th>\n",
       "      <td>87.0</td>\n",
       "    </tr>\n",
       "  </tbody>\n",
       "</table>\n",
       "</div>"
      ],
      "text/plain": [
       "    tobs\n",
       "26  58.0\n",
       "25  59.0\n",
       "22  60.0\n",
       "24  61.0\n",
       "20  62.0\n",
       "19  63.0\n",
       "18  64.0\n",
       "17  65.0\n",
       "16  66.0\n",
       "14  67.0\n",
       "13  68.0\n",
       "11  69.0\n",
       "10  70.0\n",
       "8   71.0\n",
       "7   72.0\n",
       "9   73.0\n",
       "3   74.0\n",
       "4   75.0\n",
       "1   76.0\n",
       "0   77.0\n",
       "2   78.0\n",
       "5   79.0\n",
       "6   80.0\n",
       "12  81.0\n",
       "15  82.0\n",
       "21  83.0\n",
       "23  84.0\n",
       "27  87.0"
      ]
     },
     "execution_count": 74,
     "metadata": {},
     "output_type": "execute_result"
    }
   ],
   "source": [
    "# filter tobs_df to display tobs only in a pd dataframe\n",
    "plot_tobs = tobs_df[['tobs']]\n",
    "plot_tobs.sort_values('tobs', ascending=True)"
   ]
  },
  {
   "cell_type": "code",
   "execution_count": 32,
   "metadata": {
    "scrolled": false
   },
   "outputs": [
    {
     "data": {
      "text/plain": [
       "<matplotlib.figure.Figure at 0x1183659b0>"
      ]
     },
     "execution_count": 32,
     "metadata": {},
     "output_type": "execute_result"
    },
    {
     "data": {
      "text/plain": [
       "<matplotlib.axes._subplots.AxesSubplot at 0x1184eaa58>"
      ]
     },
     "execution_count": 32,
     "metadata": {},
     "output_type": "execute_result"
    },
    {
     "data": {
      "text/plain": [
       "<matplotlib.figure.Figure at 0x1183659b0>"
      ]
     },
     "metadata": {},
     "output_type": "display_data"
    },
    {
     "data": {
      "image/png": "[encoded data removed]",
      "text/plain": [
       "<matplotlib.figure.Figure at 0x1184ea198>"
      ]
     },
     "metadata": {},
     "output_type": "display_data"
    }
   ],
   "source": [
    "# n_bins = 12\n",
    "plt.figure()\n",
    "plot_tobs.plot.hist(alpha=0.9, range=[50, 100], bins=12, rwidth=0.95)"
   ]
  },
  {
   "cell_type": "markdown",
   "metadata": {},
   "source": [
    "** syntax below .filter is similar to join on sql"
   ]
  },
  {
   "cell_type": "markdown",
   "metadata": {},
   "source": [
    "* Calculate the Item Totals (sum(UnitPrice * Quantity)) for the USA\n",
    "\n",
    "session.query(func.sum(Items.UnitPrice * Items.Quantity)).\\\n",
    "    filter(Invoices.InvoiceId == Items.InvoiceId).\\\n",
    "    filter(Invoices.BillingCountry == 'USA').scalar()\n"
   ]
  },
  {
   "cell_type": "code",
   "execution_count": null,
   "metadata": {
    "collapsed": true
   },
   "outputs": [],
   "source": [
    "# np.ravel unpacks json format to list\n",
    "# countries_list = list(np.ravel(results))\n"
   ]
  },
  {
   "cell_type": "code",
   "execution_count": 33,
   "metadata": {},
   "outputs": [
    {
     "data": {
      "text/html": [
       "<div>\n",
       "<style>\n",
       "    .dataframe thead tr:only-child th {\n",
       "        text-align: right;\n",
       "    }\n",
       "\n",
       "    .dataframe thead th {\n",
       "        text-align: left;\n",
       "    }\n",
       "\n",
       "    .dataframe tbody tr th {\n",
       "        vertical-align: top;\n",
       "    }\n",
       "</style>\n",
       "<table border=\"1\" class=\"dataframe\">\n",
       "  <thead>\n",
       "    <tr style=\"text-align: right;\">\n",
       "      <th></th>\n",
       "      <th>station</th>\n",
       "      <th>date</th>\n",
       "      <th>prcp</th>\n",
       "      <th>tobs</th>\n",
       "      <th>name</th>\n",
       "      <th>latitude</th>\n",
       "      <th>longitude</th>\n",
       "      <th>elevation</th>\n",
       "    </tr>\n",
       "  </thead>\n",
       "  <tbody>\n",
       "    <tr>\n",
       "      <th>0</th>\n",
       "      <td>USC00519397</td>\n",
       "      <td>8/23/17</td>\n",
       "      <td>0.00</td>\n",
       "      <td>81</td>\n",
       "      <td>WAIKIKI 717.2, HI US</td>\n",
       "      <td>21.27160</td>\n",
       "      <td>-157.81680</td>\n",
       "      <td>3.0</td>\n",
       "    </tr>\n",
       "    <tr>\n",
       "      <th>1</th>\n",
       "      <td>USC00514830</td>\n",
       "      <td>8/23/17</td>\n",
       "      <td>0.00</td>\n",
       "      <td>82</td>\n",
       "      <td>KUALOA RANCH HEADQUARTERS 886.9, HI US</td>\n",
       "      <td>21.52130</td>\n",
       "      <td>-157.83740</td>\n",
       "      <td>7.0</td>\n",
       "    </tr>\n",
       "    <tr>\n",
       "      <th>2</th>\n",
       "      <td>USC00519523</td>\n",
       "      <td>8/23/17</td>\n",
       "      <td>0.08</td>\n",
       "      <td>82</td>\n",
       "      <td>WAIMANALO EXPERIMENTAL FARM, HI US</td>\n",
       "      <td>21.33556</td>\n",
       "      <td>-157.71139</td>\n",
       "      <td>19.5</td>\n",
       "    </tr>\n",
       "    <tr>\n",
       "      <th>3</th>\n",
       "      <td>USC00516128</td>\n",
       "      <td>8/23/17</td>\n",
       "      <td>0.45</td>\n",
       "      <td>76</td>\n",
       "      <td>MANOA LYON ARBO 785.2, HI US</td>\n",
       "      <td>21.33310</td>\n",
       "      <td>-157.80250</td>\n",
       "      <td>152.4</td>\n",
       "    </tr>\n",
       "    <tr>\n",
       "      <th>4</th>\n",
       "      <td>USC00519397</td>\n",
       "      <td>8/22/17</td>\n",
       "      <td>0.00</td>\n",
       "      <td>82</td>\n",
       "      <td>WAIKIKI 717.2, HI US</td>\n",
       "      <td>21.27160</td>\n",
       "      <td>-157.81680</td>\n",
       "      <td>3.0</td>\n",
       "    </tr>\n",
       "  </tbody>\n",
       "</table>\n",
       "</div>"
      ],
      "text/plain": [
       "       station     date  prcp  tobs                                    name  latitude  longitude  elevation\n",
       "0  USC00519397  8/23/17  0.00    81                    WAIKIKI 717.2, HI US  21.27160 -157.81680        3.0\n",
       "1  USC00514830  8/23/17  0.00    82  KUALOA RANCH HEADQUARTERS 886.9, HI US  21.52130 -157.83740        7.0\n",
       "2  USC00519523  8/23/17  0.08    82      WAIMANALO EXPERIMENTAL FARM, HI US  21.33556 -157.71139       19.5\n",
       "3  USC00516128  8/23/17  0.45    76            MANOA LYON ARBO 785.2, HI US  21.33310 -157.80250      152.4\n",
       "4  USC00519397  8/22/17  0.00    82                    WAIKIKI 717.2, HI US  21.27160 -157.81680        3.0"
      ]
     },
     "execution_count": 33,
     "metadata": {},
     "output_type": "execute_result"
    },
    {
     "data": {
      "text/plain": [
       "(2021, 8)"
      ]
     },
     "execution_count": 33,
     "metadata": {},
     "output_type": "execute_result"
    }
   ],
   "source": [
    "new_book = pd.read_csv('new_book.csv')\n",
    "new_book.head()\n",
    "new_book.shape"
   ]
  },
  {
   "cell_type": "code",
   "execution_count": 34,
   "metadata": {},
   "outputs": [
    {
     "data": {
      "text/plain": [
       "USC00519397    359\n",
       "USC00519281    352\n",
       "USC00513117    343\n",
       "USC00516128    328\n",
       "USC00519523    314\n",
       "USC00514830    265\n",
       "USC00517948     60\n",
       "Name: station, dtype: int64"
      ]
     },
     "execution_count": 34,
     "metadata": {},
     "output_type": "execute_result"
    }
   ],
   "source": [
    "new_book['station'].value_counts()"
   ]
  },
  {
   "cell_type": "markdown",
   "metadata": {},
   "source": [
    "# Temperature Analysis\n",
    "\n",
    "* Write a function called **calc_temps** that will accept a start date and end date in the format %Y-%m-%d and return the minimum, average, and maximum temperatures for that range of dates.\n",
    "\n",
    "* Use the calc_temps function to calculate the min, avg, and max temperatures for your trip using the matching dates from the previous year (i.e. use \"2017-01-01\" if your trip start date was \"2018-01-01\")\n",
    "\n",
    "* Plot the min, avg, and max temperature from your previous query as a bar chart.\n",
    "\n",
    "***Use the average temperature as the bar height.***\n",
    "***Use the peak-to-peak (tmax-tmin) value as the y error bar (yerr).***"
   ]
  },
  {
   "cell_type": "code",
   "execution_count": 35,
   "metadata": {},
   "outputs": [
    {
     "data": {
      "text/plain": [
       "[('2017-08-17', 83.0),\n",
       " ('2017-08-22', 82.0),\n",
       " ('2017-08-22', 82.0),\n",
       " ('2017-08-20', 81.0),\n",
       " ('2017-08-21', 81.0),\n",
       " ('2017-08-18', 80.0),\n",
       " ('2017-08-19', 80.0),\n",
       " ('2017-08-20', 80.0),\n",
       " ('2017-08-19', 79.0),\n",
       " ('2017-08-21', 79.0),\n",
       " ('2017-08-18', 79.0),\n",
       " ('2017-08-17', 78.0),\n",
       " ('2017-08-18', 77.0),\n",
       " ('2017-08-17', 76.0),\n",
       " ('2017-08-21', 76.0),\n",
       " ('2017-08-22', 76.0),\n",
       " ('2017-08-17', 72.0),\n",
       " ('2017-08-19', 71.0)]"
      ]
     },
     "execution_count": 35,
     "metadata": {},
     "output_type": "execute_result"
    }
   ],
   "source": [
    "# calc_temps func\n",
    "# my travel dates = Friday 2018-08-17 - Thu 2018-08-22\n",
    "# func.min\n",
    "# func.max\n",
    "# func.avg\n",
    "# session.query(self.stats.c.ID, func.max(self.stats.c.STA_DATE))\n",
    "\n",
    "calc_temps = session.query(Measurement.date, Measurement.tobs).filter(Measurement.date <= '2017-08-22').\\\n",
    "filter(Measurement.date >= '2017-08-17').\\\n",
    "order_by(Measurement.tobs.desc()).all()\n",
    "\n",
    "calc_temps\n",
    "\n",
    "# calc_temps_list = list(np.ravel(calc_temps))\n",
    "# np.mean(calc_temps_list)"
   ]
  },
  {
   "cell_type": "code",
   "execution_count": 36,
   "metadata": {},
   "outputs": [
    {
     "data": {
      "text/plain": [
       "[(83.0),\n",
       " (82.0),\n",
       " (82.0),\n",
       " (81.0),\n",
       " (81.0),\n",
       " (80.0),\n",
       " (80.0),\n",
       " (80.0),\n",
       " (79.0),\n",
       " (79.0),\n",
       " (79.0),\n",
       " (78.0),\n",
       " (77.0),\n",
       " (76.0),\n",
       " (76.0),\n",
       " (76.0),\n",
       " (72.0),\n",
       " (71.0)]"
      ]
     },
     "execution_count": 36,
     "metadata": {},
     "output_type": "execute_result"
    },
    {
     "data": {
      "text/plain": [
       "78.444444444444443"
      ]
     },
     "execution_count": 36,
     "metadata": {},
     "output_type": "execute_result"
    }
   ],
   "source": [
    "# using query to find list of temps, then find the mean of that list\n",
    "weather_vacation = session.query(Measurement.tobs).filter(Measurement.date <= '2017-08-22').\\\n",
    "filter(Measurement.date >= '2017-08-17').\\\n",
    "order_by(Measurement.tobs.desc()).all()\n",
    "\n",
    "weather_vacation\n",
    "\n",
    "weather_vacation_list = list(np.ravel(weather_vacation))\n",
    "np.mean(weather_vacation_list)"
   ]
  },
  {
   "cell_type": "code",
   "execution_count": 37,
   "metadata": {},
   "outputs": [
    {
     "data": {
      "text/plain": [
       "[(83.0)]"
      ]
     },
     "execution_count": 37,
     "metadata": {},
     "output_type": "execute_result"
    },
    {
     "data": {
      "text/plain": [
       "[83.0]"
      ]
     },
     "execution_count": 37,
     "metadata": {},
     "output_type": "execute_result"
    }
   ],
   "source": [
    "# max\n",
    "max_temps = session.query(func.max(Measurement.tobs)).filter(Measurement.date <= '2017-08-22').\\\n",
    "filter(Measurement.date >= '2017-08-17').\\\n",
    "order_by(Measurement.date.desc()).all()\n",
    "\n",
    "max_temps\n",
    "\n",
    "# this will change from tuple to list\n",
    "max_temps_list = list(np.ravel(max_temps))\n",
    "max_temps_list"
   ]
  },
  {
   "cell_type": "code",
   "execution_count": 38,
   "metadata": {},
   "outputs": [
    {
     "data": {
      "text/plain": [
       "[(71.0)]"
      ]
     },
     "execution_count": 38,
     "metadata": {},
     "output_type": "execute_result"
    },
    {
     "data": {
      "text/plain": [
       "[71.0]"
      ]
     },
     "execution_count": 38,
     "metadata": {},
     "output_type": "execute_result"
    }
   ],
   "source": [
    "# min\n",
    "min_temps = session.query(func.min(Measurement.tobs)).filter(Measurement.date <= '2017-08-22').\\\n",
    "filter(Measurement.date >= '2017-08-17').\\\n",
    "order_by(Measurement.date.desc()).all()\n",
    "\n",
    "min_temps\n",
    "\n",
    "# this will change from tuple to list\n",
    "min_temps_list = list(np.ravel(min_temps))\n",
    "min_temps_list"
   ]
  },
  {
   "cell_type": "code",
   "execution_count": 39,
   "metadata": {},
   "outputs": [
    {
     "data": {
      "text/plain": [
       "[(78.44444444444444)]"
      ]
     },
     "execution_count": 39,
     "metadata": {},
     "output_type": "execute_result"
    },
    {
     "data": {
      "text/plain": [
       "[78.444444444444443]"
      ]
     },
     "execution_count": 39,
     "metadata": {},
     "output_type": "execute_result"
    }
   ],
   "source": [
    "# avg\n",
    "avg_temps = session.query(func.avg(Measurement.tobs)).filter(Measurement.date <= '2017-08-22').\\\n",
    "filter(Measurement.date >= '2017-08-17').\\\n",
    "order_by(Measurement.date.desc()).all()\n",
    "\n",
    "avg_temps\n",
    "\n",
    "# this will change from tuple to list\n",
    "avg_temps_list = list(np.ravel(avg_temps))\n",
    "avg_temps_list"
   ]
  },
  {
   "cell_type": "code",
   "execution_count": 40,
   "metadata": {},
   "outputs": [
    {
     "data": {
      "text/plain": [
       "83.0"
      ]
     },
     "execution_count": 40,
     "metadata": {},
     "output_type": "execute_result"
    },
    {
     "data": {
      "text/plain": [
       "71.0"
      ]
     },
     "execution_count": 40,
     "metadata": {},
     "output_type": "execute_result"
    },
    {
     "data": {
      "text/plain": [
       "78.0"
      ]
     },
     "execution_count": 40,
     "metadata": {},
     "output_type": "execute_result"
    },
    {
     "data": {
      "text/plain": [
       "12.0"
      ]
     },
     "execution_count": 40,
     "metadata": {},
     "output_type": "execute_result"
    }
   ],
   "source": [
    "# plot\n",
    "# ***Use the peak-to-peak (tmax-tmin) value as the y error bar (yerr).***\n",
    "maxtemps = max_temps_list[0]\n",
    "mintemps = min_temps_list[0]\n",
    "avgtemps = avg_temps_list[0]\n",
    "\n",
    "maxtemps\n",
    "mintemps\n",
    "avgtemps.round()\n",
    "\n",
    "errorbar = maxtemps - mintemps\n",
    "errorbar"
   ]
  },
  {
   "cell_type": "code",
   "execution_count": 41,
   "metadata": {},
   "outputs": [
    {
     "data": {
      "text/html": [
       "<div>\n",
       "<style>\n",
       "    .dataframe thead tr:only-child th {\n",
       "        text-align: right;\n",
       "    }\n",
       "\n",
       "    .dataframe thead th {\n",
       "        text-align: left;\n",
       "    }\n",
       "\n",
       "    .dataframe tbody tr th {\n",
       "        vertical-align: top;\n",
       "    }\n",
       "</style>\n",
       "<table border=\"1\" class=\"dataframe\">\n",
       "  <thead>\n",
       "    <tr style=\"text-align: right;\">\n",
       "      <th></th>\n",
       "      <th>maxtemps</th>\n",
       "      <th>mintemps</th>\n",
       "      <th>avgtemps</th>\n",
       "      <th>errorbar</th>\n",
       "    </tr>\n",
       "  </thead>\n",
       "  <tbody>\n",
       "    <tr>\n",
       "      <th>0</th>\n",
       "      <td>83.0</td>\n",
       "      <td>71.0</td>\n",
       "      <td>78.0</td>\n",
       "      <td>12.0</td>\n",
       "    </tr>\n",
       "  </tbody>\n",
       "</table>\n",
       "</div>"
      ],
      "text/plain": [
       "   maxtemps  mintemps  avgtemps  errorbar\n",
       "0      83.0      71.0      78.0      12.0"
      ]
     },
     "execution_count": 41,
     "metadata": {},
     "output_type": "execute_result"
    }
   ],
   "source": [
    "weather_data = {'maxtemps': [maxtemps],\n",
    "               'mintemps': [mintemps],\n",
    "               'avgtemps': [avgtemps.round()],\n",
    "               'errorbar': [errorbar]}\n",
    "weather_df = pd.DataFrame(weather_data, columns = ['maxtemps', 'mintemps', 'avgtemps', 'errorbar'])\n",
    "weather_df"
   ]
  },
  {
   "cell_type": "code",
   "execution_count": 42,
   "metadata": {
    "collapsed": true
   },
   "outputs": [],
   "source": [
    "yerr = errorbar"
   ]
  },
  {
   "cell_type": "code",
   "execution_count": 43,
   "metadata": {
    "scrolled": false
   },
   "outputs": [
    {
     "data": {
      "text/plain": [
       "<matplotlib.figure.Figure at 0x1186fc198>"
      ]
     },
     "execution_count": 43,
     "metadata": {},
     "output_type": "execute_result"
    },
    {
     "data": {
      "text/plain": [
       "<matplotlib.text.Text at 0x1187135c0>"
      ]
     },
     "execution_count": 43,
     "metadata": {},
     "output_type": "execute_result"
    },
    {
     "data": {
      "text/plain": [
       "<matplotlib.text.Text at 0x1186fb278>"
      ]
     },
     "execution_count": 43,
     "metadata": {},
     "output_type": "execute_result"
    },
    {
     "data": {
      "text/plain": [
       "<matplotlib.text.Text at 0x118739630>"
      ]
     },
     "execution_count": 43,
     "metadata": {},
     "output_type": "execute_result"
    },
    {
     "data": {
      "image/png": "[encoded data removed]",
      "text/plain": [
       "<matplotlib.figure.Figure at 0x1186fc198>"
      ]
     },
     "metadata": {},
     "output_type": "display_data"
    }
   ],
   "source": [
    "sns.set_style(\"whitegrid\")\n",
    "plt.figure(figsize=(2,5))\n",
    "ax = sns.barplot(x= \"errorbar\", y= \"avgtemps\", color=\"r\", ci=95, edgecolor = 'black', yerr = 12, capsize=7,\n",
    "                 alpha=0.7, data=weather_df)\n",
    "# plt.errorbar(x, y, yerr)\n",
    "ax.set_ylabel(\"Temp (F)\")\n",
    "ax.set_xlabel('')\n",
    "plt.title(\"Trip Avg Temp\")"
   ]
  }
 ],
 "metadata": {
  "kernelspec": {
   "display_name": "Python 3",
   "language": "python",
   "name": "python3"
  },
  "language_info": {
   "codemirror_mode": {
    "name": "ipython",
    "version": 3
   },
   "file_extension": ".py",
   "mimetype": "text/x-python",
   "name": "python",
   "nbconvert_exporter": "python",
   "pygments_lexer": "ipython3",
   "version": "3.6.4"
  }
 },
 "nbformat": 4,
 "nbformat_minor": 2
}
