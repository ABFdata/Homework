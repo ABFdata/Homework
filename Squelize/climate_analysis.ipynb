{
 "cells": [
  {
   "cell_type": "markdown",
   "metadata": {},
   "source": [
    "# Step 3 - Climate Analysis and Exploration"
   ]
  },
  {
   "cell_type": "markdown",
   "metadata": {},
   "source": [
    "You are now ready to use Python and SQLAlchemy to do basic climate analysis and data exploration on your new weather station tables. All of the following analysis should be completed using SQLAlchemy ORM queries, Pandas, and Matplotlib.\n",
    "\n",
    "* Create a Jupyter Notebook file called climate_analysis.ipynb and use it to complete your climate analysis and data exporation.\n",
    "\n",
    "* Choose a start date and end date for your trip. Make sure that your vacation range is approximately 3-15 days total.\n",
    "\n",
    "* Use SQLAlchemy create_engine to connect to your sqlite database.\n",
    "\n",
    "* Use SQLAlchemy automap_base() to reflect your tables into classes and save a reference to those classes called Station and Measurement."
   ]
  },
  {
   "cell_type": "code",
   "execution_count": 1,
   "metadata": {},
   "outputs": [
    {
     "name": "stdout",
     "output_type": "stream",
     "text": [
      "height has been deprecated.\n",
      "\n"
     ]
    }
   ],
   "source": [
    "# import dependencies \n",
    "import pandas as pd\n",
    "import numpy as np\n",
    "import matplotlib.pyplot as plt\n",
    "%matplotlib inline\n",
    "import seaborn as sns\n",
    "import warnings\n",
    "warnings.filterwarnings('ignore')\n",
    "pd.set_option('display.height', 1000)\n",
    "pd.set_option('display.max_rows', 100)\n",
    "pd.set_option('display.max_columns', 100)\n",
    "pd.set_option('display.width', 1000)\n",
    "\n",
    "# display multiple print results on one line\n",
    "from IPython.core.interactiveshell import InteractiveShell\n",
    "InteractiveShell.ast_node_interactivity = \"all\"\n",
    "\n",
    "# expands .describe with more info about the data set\n",
    "import pandas_profiling\n",
    "\n",
    "# sqlalchemy dependencies\n",
    "import sqlalchemy\n",
    "from sqlalchemy.ext.automap import automap_base\n",
    "from sqlalchemy.orm import Session\n",
    "from sqlalchemy import create_engine\n",
    "from sqlalchemy import func\n",
    "\n",
    "from sqlalchemy.ext.declarative import declarative_base\n",
    "from sqlalchemy import Column, Integer, String, Float, Text\n",
    "\n",
    "# PyMySQL \n",
    "import pymysql\n",
    "pymysql.install_as_MySQLdb()\n",
    "\n",
    "# flask \n",
    "from flask import Flask, jsonify"
   ]
  },
  {
   "cell_type": "code",
   "execution_count": null,
   "metadata": {
    "collapsed": true
   },
   "outputs": [],
   "source": [
    "# choose start date and end date for my trip\n",
    "# Friday 2018-08-17 - Thu 2018-08-22"
   ]
  },
  {
   "cell_type": "code",
   "execution_count": 2,
   "metadata": {
    "collapsed": true
   },
   "outputs": [],
   "source": [
    "# Use SQLAlchemy create_engine to connect to my sqlite database\n",
    "\n",
    "engine = create_engine(\"sqlite:///hawaii.sqlite\", echo=False)\n",
    "conn = engine.connect()"
   ]
  },
  {
   "cell_type": "code",
   "execution_count": 3,
   "metadata": {
    "collapsed": true
   },
   "outputs": [],
   "source": [
    "# Use SQLAlchemy automap_base() to refelct tables into classes and save a reference to those classes\n",
    "# called Station and Measurement\n",
    "Base = automap_base()"
   ]
  },
  {
   "cell_type": "code",
   "execution_count": 4,
   "metadata": {
    "collapsed": true
   },
   "outputs": [],
   "source": [
    "# use the base class to reflect the database tables\n",
    "Base.prepare(engine, reflect=True)"
   ]
  },
  {
   "cell_type": "code",
   "execution_count": 58,
   "metadata": {},
   "outputs": [
    {
     "data": {
      "text/plain": [
       "['measurement', 'station']"
      ]
     },
     "execution_count": 58,
     "metadata": {},
     "output_type": "execute_result"
    }
   ],
   "source": [
    "# print all of the classes mapped to the Base\n",
    "Base.classes.keys()"
   ]
  },
  {
   "cell_type": "code",
   "execution_count": 6,
   "metadata": {},
   "outputs": [],
   "source": [
    "# assign measurement and station classes to variables\n",
    "Measurement = Base.classes.measurement\n",
    "Station = Base.classes.station"
   ]
  },
  {
   "cell_type": "code",
   "execution_count": 7,
   "metadata": {
    "collapsed": true
   },
   "outputs": [],
   "source": [
    "# create a session\n",
    "# a session means that you want to do something to your data\n",
    "session = Session(engine)"
   ]
  },
  {
   "cell_type": "code",
   "execution_count": 8,
   "metadata": {},
   "outputs": [
    {
     "data": {
      "text/plain": [
       "{'_sa_instance_state': <sqlalchemy.orm.state.InstanceState at 0x118051908>,\n",
       " 'date': '2010-01-01',\n",
       " 'id': 1,\n",
       " 'prcp': 0.08,\n",
       " 'station': 'USC00519397',\n",
       " 'tobs': 65.0}"
      ]
     },
     "execution_count": 8,
     "metadata": {},
     "output_type": "execute_result"
    }
   ],
   "source": [
    "# Display the row's columns and data in dict format\n",
    "first_row = session.query(Measurement).first()\n",
    "first_row.__dict__"
   ]
  },
  {
   "cell_type": "code",
   "execution_count": 9,
   "metadata": {},
   "outputs": [
    {
     "data": {
      "text/plain": [
       "{'_sa_instance_state': <sqlalchemy.orm.state.InstanceState at 0x1180602b0>,\n",
       " 'elevation': 3.0,\n",
       " 'id': 1,\n",
       " 'latitude': 21.2716,\n",
       " 'longitude': -157.8168,\n",
       " 'name': 'WAIKIKI 717.2, HI US',\n",
       " 'station': 'USC00519397'}"
      ]
     },
     "execution_count": 9,
     "metadata": {},
     "output_type": "execute_result"
    }
   ],
   "source": [
    "# Display the row's columns and data in dict format\n",
    "first_row = session.query(Station).first()\n",
    "first_row.__dict__"
   ]
  },
  {
   "cell_type": "markdown",
   "metadata": {},
   "source": [
    "# Precipitation Analysis\n",
    "\n",
    "* Design a query to retrieve the last 12 months of precipitation data.\n",
    "\n",
    "* Select only the date and prcp values.\n",
    "\n",
    "* Load the query results into a Pandas DataFrame and set the index to the date column.\n",
    "\n",
    "* Plot the results using the DataFrame plot method.\n",
    "\n"
   ]
  },
  {
   "cell_type": "code",
   "execution_count": 10,
   "metadata": {
    "scrolled": false
   },
   "outputs": [
    {
     "name": "stdout",
     "output_type": "stream",
     "text": [
      "('2016-08-23', 0.0, 'USC00519397', 'WAIKIKI 717.2, HI US')\n",
      "('2016-08-23', 0.0, 'USC00519397', 'KANEOHE 838.1, HI US')\n",
      "('2016-08-23', 0.0, 'USC00519397', 'KUALOA RANCH HEADQUARTERS 886.9, HI US')\n",
      "('2016-08-23', 0.0, 'USC00519397', 'PEARL CITY, HI US')\n",
      "('2016-08-23', 0.0, 'USC00519397', 'UPPER WAHIAWA 874.3, HI US')\n",
      "('2016-08-23', 0.0, 'USC00519397', 'WAIMANALO EXPERIMENTAL FARM, HI US')\n",
      "('2016-08-23', 0.0, 'USC00519397', 'WAIHEE 837.5, HI US')\n",
      "('2016-08-23', 0.0, 'USC00519397', 'HONOLULU OBSERVATORY 702.2, HI US')\n",
      "('2016-08-23', 0.0, 'USC00519397', 'MANOA LYON ARBO 785.2, HI US')\n",
      "('2016-08-24', 0.08, 'USC00519397', 'WAIKIKI 717.2, HI US')\n"
     ]
    }
   ],
   "source": [
    "# Design a query to retrieve the last 12 months of precipitation data\n",
    "# precipitation data is found in Measurement\n",
    "# select only the date and prcp values\n",
    "# last 12 months: 2017-08-23 - 2016-08-23\n",
    "\n",
    "for row in session.query(Measurement.date, Measurement.prcp, Measurement.station, Station.name).filter(Measurement.date <= '2017-08-23').\\\n",
    "filter(Measurement.date >= '2016-08-23').limit(10):\n",
    "    print (row)                                                                       "
   ]
  },
  {
   "cell_type": "code",
   "execution_count": 11,
   "metadata": {
    "collapsed": true
   },
   "outputs": [],
   "source": [
    "# store results into variable to load into a pandas dataframe\n",
    "\n",
    "results = session.query(Measurement.date, Measurement.prcp).filter(Measurement.date <= '2017-08-23').\\\n",
    "filter(Measurement.date >= '2016-08-23').\\\n",
    "order_by(Measurement.date.desc()).all()\n",
    "# results"
   ]
  },
  {
   "cell_type": "code",
   "execution_count": 12,
   "metadata": {
    "collapsed": true
   },
   "outputs": [],
   "source": [
    "# unpack date and prcp to plot in matplotlib using list comprehension [:] selects everything in the list\n",
    "date = [result[0] for result in results[:]]\n",
    "prcp = [result[1] for result in results[:]]\n",
    "# station = [result[2] for result in results[:]]\n",
    "# name = [result[3] for result in results[:]]"
   ]
  },
  {
   "cell_type": "code",
   "execution_count": 59,
   "metadata": {},
   "outputs": [
    {
     "data": {
      "text/plain": [
       "(2021, 2)"
      ]
     },
     "execution_count": 59,
     "metadata": {},
     "output_type": "execute_result"
    }
   ],
   "source": [
    "# load results into pandas df\n",
    "results_df = pd.DataFrame(results[:], columns =['date', 'prcp'])\n",
    "# results_df.set_index('date', inplace=True)\n",
    "results_df.shape\n",
    "\n",
    "# I changed the index to 'date', but could not convert date to a datetime for plotting"
   ]
  },
  {
   "cell_type": "code",
   "execution_count": 14,
   "metadata": {
    "collapsed": true
   },
   "outputs": [],
   "source": [
    "# results_df.to_csv('results_check_dups2.csv', index=False)"
   ]
  },
  {
   "cell_type": "code",
   "execution_count": 15,
   "metadata": {},
   "outputs": [
    {
     "data": {
      "text/plain": [
       "date     object\n",
       "prcp    float64\n",
       "dtype: object"
      ]
     },
     "execution_count": 15,
     "metadata": {},
     "output_type": "execute_result"
    }
   ],
   "source": [
    "# checks data types for results_df\n",
    "results_df.dtypes"
   ]
  },
  {
   "cell_type": "code",
   "execution_count": 16,
   "metadata": {
    "collapsed": true
   },
   "outputs": [],
   "source": [
    "# convert 'date' to datetime\n",
    "results_df['date'] = pd.to_datetime(results_df.date)"
   ]
  },
  {
   "cell_type": "code",
   "execution_count": 17,
   "metadata": {},
   "outputs": [
    {
     "data": {
      "text/plain": [
       "date    datetime64[ns]\n",
       "prcp           float64\n",
       "dtype: object"
      ]
     },
     "execution_count": 17,
     "metadata": {},
     "output_type": "execute_result"
    }
   ],
   "source": [
    "# check data types for results_df again to make sure date changed to datetime\n",
    "results_df.dtypes"
   ]
  },
  {
   "cell_type": "markdown",
   "metadata": {},
   "source": [
    "# Plot with matplotlib"
   ]
  },
  {
   "cell_type": "code",
   "execution_count": 18,
   "metadata": {
    "collapsed": true
   },
   "outputs": [],
   "source": [
    "import datetime\n",
    "import matplotlib.dates as mdates"
   ]
  },
  {
   "cell_type": "code",
   "execution_count": 19,
   "metadata": {
    "collapsed": true
   },
   "outputs": [],
   "source": [
    "# results_df.to_csv('results_df2.csv', index=False)"
   ]
  },
  {
   "cell_type": "code",
   "execution_count": 20,
   "metadata": {},
   "outputs": [
    {
     "data": {
      "text/html": [
       "<div>\n",
       "<style>\n",
       "    .dataframe thead tr:only-child th {\n",
       "        text-align: right;\n",
       "    }\n",
       "\n",
       "    .dataframe thead th {\n",
       "        text-align: left;\n",
       "    }\n",
       "\n",
       "    .dataframe tbody tr th {\n",
       "        vertical-align: top;\n",
       "    }\n",
       "</style>\n",
       "<table border=\"1\" class=\"dataframe\">\n",
       "  <thead>\n",
       "    <tr style=\"text-align: right;\">\n",
       "      <th></th>\n",
       "      <th>prcp</th>\n",
       "    </tr>\n",
       "    <tr>\n",
       "      <th>date</th>\n",
       "      <th></th>\n",
       "    </tr>\n",
       "  </thead>\n",
       "  <tbody>\n",
       "    <tr>\n",
       "      <th>2017-08-23</th>\n",
       "      <td>0.00</td>\n",
       "    </tr>\n",
       "    <tr>\n",
       "      <th>2017-08-23</th>\n",
       "      <td>0.00</td>\n",
       "    </tr>\n",
       "    <tr>\n",
       "      <th>2017-08-23</th>\n",
       "      <td>0.08</td>\n",
       "    </tr>\n",
       "    <tr>\n",
       "      <th>2017-08-23</th>\n",
       "      <td>0.45</td>\n",
       "    </tr>\n",
       "    <tr>\n",
       "      <th>2017-08-22</th>\n",
       "      <td>0.00</td>\n",
       "    </tr>\n",
       "  </tbody>\n",
       "</table>\n",
       "</div>"
      ],
      "text/plain": [
       "            prcp\n",
       "date            \n",
       "2017-08-23  0.00\n",
       "2017-08-23  0.00\n",
       "2017-08-23  0.08\n",
       "2017-08-23  0.45\n",
       "2017-08-22  0.00"
      ]
     },
     "execution_count": 20,
     "metadata": {},
     "output_type": "execute_result"
    },
    {
     "data": {
      "text/plain": [
       "(2021, 1)"
      ]
     },
     "execution_count": 20,
     "metadata": {},
     "output_type": "execute_result"
    }
   ],
   "source": [
    "# re-import the saved csv\n",
    "# syntax will set index to date which will place date on x axis\n",
    "results_plot_df = pd.read_csv('results_df2.csv', usecols=['date','prcp'], parse_dates=['date'])\n",
    "results_plot_df.set_index('date', inplace=True)\n",
    "results_plot_df.head()\n",
    "results_plot_df.shape"
   ]
  },
  {
   "cell_type": "code",
   "execution_count": 21,
   "metadata": {},
   "outputs": [
    {
     "data": {
      "text/plain": [
       "prcp    float64\n",
       "dtype: object"
      ]
     },
     "execution_count": 21,
     "metadata": {},
     "output_type": "execute_result"
    }
   ],
   "source": [
    "# check data type\n",
    "results_plot_df.dtypes"
   ]
  },
  {
   "cell_type": "code",
   "execution_count": 22,
   "metadata": {},
   "outputs": [
    {
     "data": {
      "text/plain": [
       "<matplotlib.axes._subplots.AxesSubplot at 0x118071cc0>"
      ]
     },
     "execution_count": 22,
     "metadata": {},
     "output_type": "execute_result"
    },
    {
     "data": {
      "text/plain": [
       "<matplotlib.legend.Legend at 0x1182a2eb8>"
      ]
     },
     "execution_count": 22,
     "metadata": {},
     "output_type": "execute_result"
    },
    {
     "data": {
      "image/png": "[encoded data removed]",
      "text/plain": [
       "<matplotlib.figure.Figure at 0x118060400>"
      ]
     },
     "metadata": {},
     "output_type": "display_data"
    }
   ],
   "source": [
    "# plot data\n",
    "sns.set()\n",
    "fig, ax = plt.subplots(figsize=(15,7))\n",
    "results_plot_df.plot(ax=ax)\n",
    "plt.legend(title=\"Precipitation\", fancybox=True)\n",
    "\n",
    "# set major ticks format\n",
    "ax.xaxis.set_major_formatter(mdates.DateFormatter('%Y-%m-%d'))"
   ]
  },
  {
   "cell_type": "code",
   "execution_count": 23,
   "metadata": {},
   "outputs": [
    {
     "data": {
      "text/html": [
       "<div>\n",
       "<style>\n",
       "    .dataframe thead tr:only-child th {\n",
       "        text-align: right;\n",
       "    }\n",
       "\n",
       "    .dataframe thead th {\n",
       "        text-align: left;\n",
       "    }\n",
       "\n",
       "    .dataframe tbody tr th {\n",
       "        vertical-align: top;\n",
       "    }\n",
       "</style>\n",
       "<table border=\"1\" class=\"dataframe\">\n",
       "  <thead>\n",
       "    <tr style=\"text-align: right;\">\n",
       "      <th></th>\n",
       "      <th>prcp</th>\n",
       "    </tr>\n",
       "  </thead>\n",
       "  <tbody>\n",
       "    <tr>\n",
       "      <th>count</th>\n",
       "      <td>2021.000000</td>\n",
       "    </tr>\n",
       "    <tr>\n",
       "      <th>mean</th>\n",
       "      <td>0.177279</td>\n",
       "    </tr>\n",
       "    <tr>\n",
       "      <th>std</th>\n",
       "      <td>0.461190</td>\n",
       "    </tr>\n",
       "    <tr>\n",
       "      <th>min</th>\n",
       "      <td>0.000000</td>\n",
       "    </tr>\n",
       "    <tr>\n",
       "      <th>25%</th>\n",
       "      <td>0.000000</td>\n",
       "    </tr>\n",
       "    <tr>\n",
       "      <th>50%</th>\n",
       "      <td>0.020000</td>\n",
       "    </tr>\n",
       "    <tr>\n",
       "      <th>75%</th>\n",
       "      <td>0.130000</td>\n",
       "    </tr>\n",
       "    <tr>\n",
       "      <th>max</th>\n",
       "      <td>6.700000</td>\n",
       "    </tr>\n",
       "  </tbody>\n",
       "</table>\n",
       "</div>"
      ],
      "text/plain": [
       "              prcp\n",
       "count  2021.000000\n",
       "mean      0.177279\n",
       "std       0.461190\n",
       "min       0.000000\n",
       "25%       0.000000\n",
       "50%       0.020000\n",
       "75%       0.130000\n",
       "max       6.700000"
      ]
     },
     "execution_count": 23,
     "metadata": {},
     "output_type": "execute_result"
    }
   ],
   "source": [
    "# use pandas to print the summary statistics for the precipitation data\n",
    "results_df.describe()"
   ]
  },
  {
   "cell_type": "code",
   "execution_count": 24,
   "metadata": {
    "scrolled": false
   },
   "outputs": [
    {
     "data": {
      "text/html": [
       "<div>\n",
       "<style>\n",
       "    .dataframe thead tr:only-child th {\n",
       "        text-align: right;\n",
       "    }\n",
       "\n",
       "    .dataframe thead th {\n",
       "        text-align: left;\n",
       "    }\n",
       "\n",
       "    .dataframe tbody tr th {\n",
       "        vertical-align: top;\n",
       "    }\n",
       "</style>\n",
       "<table border=\"1\" class=\"dataframe\">\n",
       "  <thead>\n",
       "    <tr style=\"text-align: right;\">\n",
       "      <th></th>\n",
       "      <th>date</th>\n",
       "      <th>prcp</th>\n",
       "    </tr>\n",
       "  </thead>\n",
       "  <tbody>\n",
       "    <tr>\n",
       "      <th>1899</th>\n",
       "      <td>2016-09-14</td>\n",
       "      <td>6.70</td>\n",
       "    </tr>\n",
       "    <tr>\n",
       "      <th>604</th>\n",
       "      <td>2017-04-29</td>\n",
       "      <td>6.25</td>\n",
       "    </tr>\n",
       "    <tr>\n",
       "      <th>1031</th>\n",
       "      <td>2017-02-11</td>\n",
       "      <td>5.04</td>\n",
       "    </tr>\n",
       "    <tr>\n",
       "      <th>138</th>\n",
       "      <td>2017-07-22</td>\n",
       "      <td>4.00</td>\n",
       "    </tr>\n",
       "    <tr>\n",
       "      <th>1776</th>\n",
       "      <td>2016-10-04</td>\n",
       "      <td>3.46</td>\n",
       "    </tr>\n",
       "  </tbody>\n",
       "</table>\n",
       "</div>"
      ],
      "text/plain": [
       "           date  prcp\n",
       "1899 2016-09-14  6.70\n",
       "604  2017-04-29  6.25\n",
       "1031 2017-02-11  5.04\n",
       "138  2017-07-22  4.00\n",
       "1776 2016-10-04  3.46"
      ]
     },
     "execution_count": 24,
     "metadata": {},
     "output_type": "execute_result"
    }
   ],
   "source": [
    "results_df.sort_values('prcp', ascending=False).head()"
   ]
  },
  {
   "cell_type": "code",
   "execution_count": 25,
   "metadata": {
    "scrolled": false
   },
   "outputs": [
    {
     "data": {
      "text/html": [
       "<meta charset=\"UTF-8\">\n",
       "\n",
       "<style>\n",
       "\n",
       "        .variablerow {\n",
       "            border: 1px solid #e1e1e8;\n",
       "            border-top: hidden;\n",
       "            padding-top: 2em;\n",
       "            padding-bottom: 2em;\n",
       "            padding-left: 1em;\n",
       "            padding-right: 1em;\n",
       "        }\n",
       "\n",
       "        .headerrow {\n",
       "            border: 1px solid #e1e1e8;\n",
       "            background-color: #f5f5f5;\n",
       "            padding: 2em;\n",
       "        }\n",
       "        .namecol {\n",
       "            margin-top: -1em;\n",
       "            overflow-x: auto;\n",
       "        }\n",
       "\n",
       "        .dl-horizontal dt {\n",
       "            text-align: left;\n",
       "            padding-right: 1em;\n",
       "            white-space: normal;\n",
       "        }\n",
       "\n",
       "        .dl-horizontal dd {\n",
       "            margin-left: 0;\n",
       "        }\n",
       "\n",
       "        .ignore {\n",
       "            opacity: 0.4;\n",
       "        }\n",
       "\n",
       "        .container.pandas-profiling {\n",
       "            max-width:975px;\n",
       "        }\n",
       "\n",
       "        .col-md-12 {\n",
       "            padding-left: 2em;\n",
       "        }\n",
       "\n",
       "        .indent {\n",
       "            margin-left: 1em;\n",
       "        }\n",
       "\n",
       "        .center-img {\n",
       "            margin-left: auto !important;\n",
       "            margin-right: auto !important;\n",
       "            display: block;\n",
       "        }\n",
       "\n",
       "        /* Table example_values */\n",
       "            table.example_values {\n",
       "                border: 0;\n",
       "            }\n",
       "\n",
       "            .example_values th {\n",
       "                border: 0;\n",
       "                padding: 0 ;\n",
       "                color: #555;\n",
       "                font-weight: 600;\n",
       "            }\n",
       "\n",
       "            .example_values tr, .example_values td{\n",
       "                border: 0;\n",
       "                padding: 0;\n",
       "                color: #555;\n",
       "            }\n",
       "\n",
       "        /* STATS */\n",
       "            table.stats {\n",
       "                border: 0;\n",
       "            }\n",
       "\n",
       "            .stats th {\n",
       "                border: 0;\n",
       "                padding: 0 2em 0 0;\n",
       "                color: #555;\n",
       "                font-weight: 600;\n",
       "            }\n",
       "\n",
       "            .stats tr {\n",
       "                border: 0;\n",
       "            }\n",
       "\n",
       "            .stats td{\n",
       "                color: #555;\n",
       "                padding: 1px;\n",
       "                border: 0;\n",
       "            }\n",
       "\n",
       "\n",
       "        /* Sample table */\n",
       "            table.sample {\n",
       "                border: 0;\n",
       "                margin-bottom: 2em;\n",
       "                margin-left:1em;\n",
       "            }\n",
       "            .sample tr {\n",
       "                border:0;\n",
       "            }\n",
       "            .sample td, .sample th{\n",
       "                padding: 0.5em;\n",
       "                white-space: nowrap;\n",
       "                border: none;\n",
       "\n",
       "            }\n",
       "\n",
       "            .sample thead {\n",
       "                border-top: 0;\n",
       "                border-bottom: 2px solid #ddd;\n",
       "            }\n",
       "\n",
       "            .sample td {\n",
       "                width:100%;\n",
       "            }\n",
       "\n",
       "\n",
       "        /* There is no good solution available to make the divs equal height and then center ... */\n",
       "            .histogram {\n",
       "                margin-top: 3em;\n",
       "            }\n",
       "        /* Freq table */\n",
       "\n",
       "            table.freq {\n",
       "                margin-bottom: 2em;\n",
       "                border: 0;\n",
       "            }\n",
       "            table.freq th, table.freq tr, table.freq td {\n",
       "                border: 0;\n",
       "                padding: 0;\n",
       "            }\n",
       "\n",
       "            .freq thead {\n",
       "                font-weight: 600;\n",
       "                white-space: nowrap;\n",
       "                overflow: hidden;\n",
       "                text-overflow: ellipsis;\n",
       "\n",
       "            }\n",
       "\n",
       "            td.fillremaining{\n",
       "                width:auto;\n",
       "                max-width: none;\n",
       "            }\n",
       "\n",
       "            td.number, th.number {\n",
       "                text-align:right ;\n",
       "            }\n",
       "\n",
       "        /* Freq mini */\n",
       "            .freq.mini td{\n",
       "                width: 50%;\n",
       "                padding: 1px;\n",
       "                font-size: 12px;\n",
       "\n",
       "            }\n",
       "            table.freq.mini {\n",
       "                 width:100%;\n",
       "            }\n",
       "            .freq.mini th {\n",
       "                overflow: hidden;\n",
       "                text-overflow: ellipsis;\n",
       "                white-space: nowrap;\n",
       "                max-width: 5em;\n",
       "                font-weight: 400;\n",
       "                text-align:right;\n",
       "                padding-right: 0.5em;\n",
       "            }\n",
       "\n",
       "            .missing {\n",
       "                color: #a94442;\n",
       "            }\n",
       "            .alert, .alert > th, .alert > td {\n",
       "                color: #a94442;\n",
       "            }\n",
       "\n",
       "\n",
       "        /* Bars in tables */\n",
       "            .freq .bar{\n",
       "                float: left;\n",
       "                width: 0;\n",
       "                height: 100%;\n",
       "                line-height: 20px;\n",
       "                color: #fff;\n",
       "                text-align: center;\n",
       "                background-color: #337ab7;\n",
       "                border-radius: 3px;\n",
       "                margin-right: 4px;\n",
       "            }\n",
       "            .other .bar {\n",
       "                background-color: #999;\n",
       "            }\n",
       "            .missing .bar{\n",
       "                background-color: #a94442;\n",
       "            }\n",
       "            .tooltip-inner {\n",
       "                width: 100%;\n",
       "                white-space: nowrap;\n",
       "                text-align:left;\n",
       "            }\n",
       "\n",
       "            .extrapadding{\n",
       "                padding: 2em;\n",
       "            }\n",
       "\n",
       "            .pp-anchor{\n",
       "\n",
       "            }\n",
       "\n",
       "</style>\n",
       "\n",
       "<div class=\"container pandas-profiling\">\n",
       "    <div class=\"row headerrow highlight\">\n",
       "        <h1>Overview</h1>\n",
       "    </div>\n",
       "    <div class=\"row variablerow\">\n",
       "    <div class=\"col-md-6 namecol\">\n",
       "        <p class=\"h4\">Dataset info</p>\n",
       "        <table class=\"stats\" style=\"margin-left: 1em;\">\n",
       "            <tbody>\n",
       "            <tr>\n",
       "                <th>Number of variables</th>\n",
       "                <td>2 </td>\n",
       "            </tr>\n",
       "            <tr>\n",
       "                <th>Number of observations</th>\n",
       "                <td>2021 </td>\n",
       "            </tr>\n",
       "            <tr>\n",
       "                <th>Total Missing (%)</th>\n",
       "                <td>0.0% </td>\n",
       "            </tr>\n",
       "            <tr>\n",
       "                <th>Total size in memory</th>\n",
       "                <td>31.7 KiB </td>\n",
       "            </tr>\n",
       "            <tr>\n",
       "                <th>Average record size in memory</th>\n",
       "                <td>16.0 B </td>\n",
       "            </tr>\n",
       "            </tbody>\n",
       "        </table>\n",
       "    </div>\n",
       "    <div class=\"col-md-6 namecol\">\n",
       "        <p class=\"h4\">Variables types</p>\n",
       "        <table class=\"stats\" style=\"margin-left: 1em;\">\n",
       "            <tbody>\n",
       "            <tr>\n",
       "                <th>Numeric</th>\n",
       "                <td>1 </td>\n",
       "            </tr>\n",
       "            <tr>\n",
       "                <th>Categorical</th>\n",
       "                <td>0 </td>\n",
       "            </tr>\n",
       "            <tr>\n",
       "                <th>Boolean</th>\n",
       "                <td>0 </td>\n",
       "            </tr>\n",
       "            <tr>\n",
       "                <th>Date</th>\n",
       "                <td>1 </td>\n",
       "            </tr>\n",
       "            <tr>\n",
       "                <th>Text (Unique)</th>\n",
       "                <td>0 </td>\n",
       "            </tr>\n",
       "            <tr>\n",
       "                <th>Rejected</th>\n",
       "                <td>0 </td>\n",
       "            </tr>\n",
       "            <tr>\n",
       "                <th>Unsupported</th>\n",
       "                <td>0 </td>\n",
       "            </tr>\n",
       "            </tbody>\n",
       "        </table>\n",
       "    </div>\n",
       "    <div class=\"col-md-12\" style=\"padding-left: 1em;\">\n",
       "        \n",
       "        <p class=\"h4\">Warnings</p>\n",
       "        <ul class=\"list-unstyled\"><li><a href=\"#pp_var_prcp\"><code>prcp</code></a> has 874 / 43.2% zeros <span class=\"label label-info\">Zeros</span></li><li>Dataset has 647 duplicate rows <span class=\"label label-warning\">Warning</span></li> </ul>\n",
       "    </div>\n",
       "</div>\n",
       "    <div class=\"row headerrow highlight\">\n",
       "        <h1>Variables</h1>\n",
       "    </div>\n",
       "    <div class=\"row variablerow\">\n",
       "    <div class=\"col-md-3 namecol\">\n",
       "        <p class=\"h4 pp-anchor\" id=\"pp_var_date\">date<br/>\n",
       "            <small>Date</small>\n",
       "        </p>\n",
       "    </div><div class=\"col-md-6\">\n",
       "    <div class=\"row\">\n",
       "        <div class=\"col-sm-6\">\n",
       "            <table class=\"stats \">\n",
       "                <tr>\n",
       "                    <th>Distinct count</th>\n",
       "                    <td>366</td>\n",
       "                </tr>\n",
       "                <tr>\n",
       "                    <th>Unique (%)</th>\n",
       "                    <td>18.1%</td>\n",
       "                </tr>\n",
       "                <tr class=\"ignore\">\n",
       "                    <th>Missing (%)</th>\n",
       "                    <td>0.0%</td>\n",
       "                </tr>\n",
       "                <tr class=\"ignore\">\n",
       "                    <th>Missing (n)</th>\n",
       "                    <td>0</td>\n",
       "                </tr>\n",
       "                <tr class=\"ignore\">\n",
       "                    <th>Infinite (%)</th>\n",
       "                    <td>0.0%</td>\n",
       "                </tr>\n",
       "                <tr class=\"ignore\">\n",
       "                    <th>Infinite (n)</th>\n",
       "                    <td>0</td>\n",
       "                </tr>\n",
       "            </table>\n",
       "        </div>\n",
       "        <div class=\"col-sm-6\">\n",
       "            <table class=\"stats \">\n",
       "                <tr>\n",
       "                    <th>Minimum</th>\n",
       "                    <td>2016-08-23 00:00:00</td>\n",
       "                </tr>\n",
       "                <tr>\n",
       "                    <th>Maximum</th>\n",
       "                    <td>2017-08-23 00:00:00</td>\n",
       "                </tr>\n",
       "            </table>\n",
       "        </div>\n",
       "    </div>\n",
       "</div>\n",
       "<div class=\"col-md-3 collapse in\" id=\"minihistogram-8836154246543797590\">\n",
       "    <img src=\"data:image/png;base64,iVBORw0KGgoAAAANSUhEUgAAAMgAAABLCAYAAAA1fMjoAAAABHNCSVQICAgIfAhkiAAAAAlwSFlzAAAPYQAAD2EBqD%2BnaQAABlhJREFUeJzt219IU20Ax/GfousPEVFtc1KQN2EYFFHSInJaTWNDh2SZUK2IIogkyP4Qu%2Bu9yFQqHF2FVBRUDNwu2gvRjFJY8XYRxiovoqKLdjZjsRTbOnvei7dG/ntetc3l/H3AC892znMeH7%2BenclyhBACRDSm3EyfANGfLC/TJzDS%2BnN/T3qff/6qSsOZEP2BgUzFVKKaismGOF2xT3Yc/kGZuKwIhNJvtl7ZGcgkTMeVarquhjQxDGQWYoQTx3exiCQYCJEEAyGSYCBEEgyESIKBEEnwbV5Km2z45yKvIEQSDIRIgoEQSTAQIgkGQiTBQIgkGAiRBAMhkmAgRBIMhEiCgRBJMBAiCQZCJMFAiCQYCJEEAyGSYCBEEgyESIKBEEkwECIJBkIkwUCIJBgIkQQDIZJgIEQSDIRIgoEQSTAQIgkGQiTBQIgkGAiRBAMhkmAgRBIMhEiCgRBJ5AghRKZP4ncpioI7d%2B5g9%2B7d0Ol0mT4dGsdMXKesuIKEQiG0t7cjFApl%2BlRIYiauU1YEQpQuDIRIgoEQSWRFIFqtFseOHYNWq830qZDETFynrHgXiyhdsuIKQpQuDIRIgoEQSTAQIgkGQiTBQIgkGAiRREYD6ejogNVqhdVqxdmzZxGLxdDX14ddu3ahqqoKx48fx%2BDg4LB9XC4Xzpw5k/xeCAGn0wmbzYbKykp0dnZKx%2Bzr64PFYhm2zev1wmKxwGw2o729PXUTzBKpWKdz586hpqYm%2BVVSUoJ79%2B6NOV5bWxuqqqpQWVkJn8%2BX3O52u2GxWGCxWHDhwoX0THYkkSEvXrwQVqtVDAwMiEQiIU6ePCk6OjpEdXW1ePr0qRBCiEuXLomWlhYhhBBDQ0OiublZrF27Vpw%2BfTp5nM7OTtHQ0CC%2BffsmFEURRqNRRCKRMcd0uVxi8%2BbNory8PLlNURRhMplEf3%2B/iMViYv/%2B/eLx48dpnPnMkqp1%2BpXH4xENDQ0iHo%2BPeuzBgwfCbreLeDwugsGgqKioEJFIRAwODooNGzaIcDgs4vG42Llzp%2Bjp6UnfxH/I2BVk4cKFcDgcmD9/PnJyclBcXIw3b94gGo2itLQUAFBXV4f79%2B8DAPx%2BP4QQaGpqGnYcr9eLgwcPQqPRQKvV4vbt25g7d%2B6o8SKRCB49eoS2trZh23t6erBx40YsXrwY%2Bfn5sNlsyTEpdev0UzQaRUtLC86fP4%2B8vLxRj/t8PlRXVyMvLw86nQ6lpaXo6uqCqqpIJBIYGhqCqqpQVRVz5sxJ38R/yFggK1asSP6A%2B/v7cevWLRQVFUGv1yefo9PpEAwGAQBlZWU4derUqF/%2B9%2B/f4%2B3bt6ivr4fNZkMgEBjzB7do0SJcuXIFBoNh2HZFUYZ9eOfXMSl16/TTjRs3sG3bNhQVFY35eDAYHHXsT58%2BYcGCBWhsbMSOHTuwZcsWFBYWYt26dama5rgyfpP%2B8eNH7Nu3D3V1dVi/fv2ox3NycqT7q6qKQCCAmzdv4urVq2hubsa7d%2B8mPH4ikZj0mLPR764T8N/94t27d2G326XPGSk3NxevX7%2BGy%2BVCV1cXnjx5gtzcXFy7dm1Sc5iKjAby6tUr7NmzB/X19Th69CgKCgqGfdosFAqhoKBAeoylS5fCbDYjPz8fBoMBa9asQSAQwOXLl5M3hA8fPhx3/5FjKoryv2PONqlYJwDo7e2FwWDA8uXLk9tGrpNer4eiKMOOrdfr0d3dDaPRiCVLlkCj0aC2thbPnj1L7UTHkLFAPn/%2BjEOHDsHhcGDv3r0AgMLCQsybNy85cZfLhbKyMulxysvL4fV6IYTAly9f0Nvbi1WrVqGxsRFutxtutxtbt24dd3%2Bj0Qi/349wOIx4PA6PxwOTyZSyec50qVonAHj%2B/Hny5dpPI9fJZDLB4/Hg%2B/fvCIfD8Pv92LRpE4qLi9Hd3Y2BgQEIIeDz%2BVBSUpL6CY8w%2Bi5pmly/fh1fv36F0%2BmE0%2BkEAJhMJrS2tsLhcCAajWLZsmVobW2VHsdut%2BPixYuwWCxQVRVHjhwZ9/XtWPR6PZqamnDgwAHEYjFUVFRg%2B/btvzW3bJKqdQKADx8%2BYOXKldLnmM1mvHz5EjU1NVBVFSdOnIBWq4VWq0UgEEBtbS00Gg1Wr16Nw4cPp2SOMvw8CJFExm/Sif5kDIRIgoEQSfwLEXP71WucZ68AAAAASUVORK5CYII%3D\">\n",
       "</div>\n",
       "<div class=\"col-md-12 text-right\">\n",
       "    <a role=\"button\" data-toggle=\"collapse\" data-target=\"#descriptives-8836154246543797590,#minihistogram-8836154246543797590\"\n",
       "       aria-expanded=\"false\" aria-controls=\"collapseExample\">\n",
       "        Toggle details\n",
       "    </a>\n",
       "</div>\n",
       "<div class=\"row collapse col-md-12\" id=\"descriptives-8836154246543797590\">\n",
       "    <img src=\"data:image/png;base64,iVBORw0KGgoAAAANSUhEUgAAAlgAAAGQCAYAAAByNR6YAAAABHNCSVQICAgIfAhkiAAAAAlwSFlzAAAPYQAAD2EBqD%2BnaQAAIABJREFUeJzt3XtUVPX%2B//HX6IiKSqCCB7Wl4klTO4Ji6MnLUtKjqXk3qmNeSz1hfEtKU48dj9rBIk0NL5HVt7SMzJOWWX2/Wa0yb6SBlamAeURNGBO8hRCyf3/4dX6NaAywh7nwfKw1yzXvPXz2e7%2BXOC/3HjYWwzAMAQAAwDQ13N0AAACAryFgAQAAmIyABQAAYDICFgAAgMkIWAAAACYjYAEAAJiMgAUAAGAyAhYAAIDJCFgAAAAmI2ABAACYjIAFAABgMgIWAACAyQhYAAAAJiNgAQAAmIyABQAAYDICFgAAgMkIWAAAACYjYAEAAJiMgAUAAGAyAhYAAIDJCFgAAAAmI2ABAACYjIAFAABgMgIWAACAyQhYAAAAJiNgAQAAmIyABQAAYDICFgAAgMkIWAAAACYjYAEAAJiMgAUAAGAyAhYAAIDJCFgAAAAmI2ABAACYjIAFAABgMgIWAACAyQhYAAAAJiNgAQAAmIyABQAAYDKruxuoLmy28%2B5uwWPUqGFRw4b1dObMRZWUGO5uxyMxI%2BcwpxtjNmVjRmXzhRkFBzdwy345g4UqV6OGRRaLRTVqWNzdisdiRs5hTjfGbMrGjMrGjCqOgAUAAGAyAhYAAIDJCFgAAAAmI2ABAACYjIAFAABgMgIWAACAyQhYAAAAJiNgAQAAmIyABQAAYDICFgAAgMkIWAAAACYjYAEAAJiMgAUAAGAyq7sbQOXctfQrd7fgtA8f7e7uFgAAqBKcwQIAADAZZ7AAVDlvOvMqcfYVQPlxBgsAAMBkBCwAAACTcYkQVcbbLgt5Gy5j4Spv%2Bl7j7y18FWewAAAATEbAAgAAMBkBCwAAwGQELAAAAJPxIXcAAJzkTT9AIPFDBO7EGSwAAACTEbAAAABM5pMBKycnR3FxcYqKilLPnj2VkJCgwsJC%2B/bs7GyNHz9eERERGjhwoLZv3%2B7GbgEAgK/xuYBlGIbi4uJUUFCgN954Q88//7w%2B%2B%2BwzLV261L49NjZWjRs31saNGzV06FBNmzZNJ0%2BedHPnAADAV/hcwDpy5IjS0tKUkJCgW265RV26dFFcXJy2bNkiSdq1a5eys7M1f/58tW7dWlOmTFFERIQ2btzo5s4BAICv8LmAFRwcrDVr1qhx48YO9QsXLkiS0tPT1b59e/n7%2B9u3RUZGKi0trUr7BAAAvsvnAlZAQIB69uxpf15SUqJ169apW7dukiSbzaaQkBCHr2nUqJFOnTpVpX0CAADf5fP3wUpMTNSBAwf0zjvvSJIKCgrk5%2Bfn8Bo/Pz8VFRWZts/c3FzZbDaHmtXqXyrYAWayWn3u/0seg9m6jjtnW7NmDYc/fVFl51sdZuQqPh2wEhMT9dprr%2Bn5559XmzZtJEm1a9dWfn6%2Bw%2BuKiopUp04d0/abkpKipKQkh1psbKzi4uJM2wdwrX7PfenuFnxWUFA9d7fgszxhtgEBdd3dgsuYNV9fnpGr%2BGzAWrBggdavX6/ExET179/fXm/SpIkyMzMdXnv69GlTzy7FxMQoOjraoWa1%2Bisv76Jp%2BwBQdbrM%2BcjdLfgsd/67WLNmDQUE1NW5cwW6fLnEbX24UmXn6wszcleI98mAlZSUpLfeektLlizRgAEDHLaFh4crOTlZly5dsp%2B12rt3ryIjI03bf0hISKnAZrOdV3Gxd/7lBABX8YR/Fy9fLvGIPlzBrOPy5Rm5is9dVM3KytLKlSv10EMPKTIyUjabzf6QpKioKIWGhmrWrFnKyMhQcnKy9u/fr1GjRrm5cwAA4Ct87gzWtm3bdPnyZa1atUqrVq1y2Hbo0CHVrFlTK1eu1Jw5czRixAi1aNFCK1asUNOmTd3UMQAA8DU%2BF7AmT56syZMn/%2B5rWrRooXXr1lVRRwAAoLrxuUuEAAAA7uZzZ7AAAN7jrqVfubsFwCU4gwUAAGAyAhYAAIDJCFgAAAAmI2ABAACYjIAFAABgMgIWAACAyQhYAAAAJiNgAQAAmIyABQAAYDICFgAAgMkIWAAAACYjYAEAAJiMgAUAAGAyAhYAAIDJCFgAAAAmI2ABAACYjIAFAABgMgIWAACAyQhYAAAAJiNgAQAAmIyABQAAYDICFgAAgMl8PmAVFRVp8ODB2r17tyTpySefVNu2bUs9xo4da/%2BaIUOGlNp%2B%2BPBhdx0CAADwMlZ3N%2BBKhYWFio%2BPV0ZGhr02Z84cxcfH25%2BfOHFCDzzwgD1gXb58WUePHtW6devUsmVL%2B%2BuCgoKqrG8AAODdfDZgZWZmKj4%2BXoZhONQbNGigBg0a2J8/%2BeSTGjBggPr27StJOn78uH799Vd17NhRtWvXrtKeAQCAb/DZS4R79uxR165dlZKScsPX7Ny5U6mpqZo%2Bfbq9lpmZqdDQUMIVAACoMJ89g3X//feX%2BZrk5GQNHz5coaGh9lpWVpZq1aqlKVOm6LvvvlOrVq00Y8YMdezY0ZXtAgAAH%2BKzAass2dnZ2rVrl%2BbMmeNQ//HHH3X27FmNHj1acXFxevvttzVu3Dht3brVIYj9ntzcXNlsNoea1eqvkJAQ0/oHAKAsVmvlLlTVrFnD4U84r9oGrI8//ljt2rXTH//4R4f6ggULdOnSJdWvX1%2BSNG/ePO3bt0%2BbN2/W1KlTnVo7JSVFSUlJDrXY2FjFxcWZ0zwAAE4ICqpnyjoBAXVNWac6qbYB68svv9Sdd95Zqm61Wu3hSpIsFovCwsKUk5Pj9NoxMTGKjo6%2BZl1/5eVdrHjDAACUU2Xfd2rWrKGAgLo6d65Aly%2BXmNRV1TIrZJZXtQxYhmHo22%2B/ve4ZqQceeEBdu3bVtGnTJEklJSU6dOiQ/vrXvzq9fkhISKnLgTbbeRUXe%2BdfTgCAdzLrfefy5RLew8qpWgasEydO6OLFi6UuD0pSdHS0VqxYoXbt2qlVq1Z6/fXXdf78eQ0fPtwNnQIAAG9ULQPWzz//LEm66aabSm0bP368CgsLtXDhQp0%2BfVrh4eF69dVXHS4bAgAA/B6Lce2dOOESNtt5l6x719KvXLIuAMD7ffho90p9vdVaQ0FB9ZSXd9FrLxEGBzco%2B0UuwM9dAgAAmIyABQAAYDICFgAAgMkIWAAAACYjYAEAAJiMgAUAAGCyankfLAAAqgNvupVPZW8p4Wk4gwUAAGAyAhYAAIDJCFgAAAAmI2ABAACYjIAFAABgMgIWAACAyQhYAAAAJiNgAQAAmIyABQAAYDICFgAAgMkIWAAAACYjYAEAAJiMgAUAAGAyAhYAAIDJCFgAAAAmI2ABAACYjIAFAABgMp8PWEVFRRo8eLB2795try1cuFBt27Z1eKxbt86%2BfceOHRo8eLDCw8M1duxYZWdnu6N1AADgpXw6YBUWFmr69OnKyMhwqGdlZSk%2BPl7bt2%2B3P0aOHClJOnnypGJjYzVixAi98847atiwoR5%2B%2BGEZhuGOQwAAAF7IZwNWZmam7rnnHh07dqzUtqysLLVv317BwcH2R926dSVJGzZs0G233aaJEyfqlltuUUJCgk6cOKE9e/ZU9SEAAAAv5bMBa8%2BePeratatSUlIc6hcuXFBOTo5atmx53a9LT09Xly5d7M/r1q2rDh06KC0tzZXtAgAAH2J1dwOucv/991%2B3npWVJYvFotWrV%2BuLL75QYGCgJkyYoOHDh0uSbDabQkJCHL6mUaNGOnXqlNP7zs3Nlc1mc6hZrf6l1gUAAFdYrb51zsdnA9aNHDlyRBaLRWFhYRozZoxSU1M1d%2B5c1a9fX/369VNBQYH8/PwcvsbPz09FRUVO7yMlJUVJSUkOtdjYWMXFxZlyDAAA%2BJqgoHrubsFU1S5gDRs2TH369FFgYKAk6dZbb9XRo0e1fv169evXT7Vr1y4VpoqKihQQEOD0PmJiYhQdHe1Qs1r9lZd3sfIHAACAD3LVe6S7glu1C1gWi8Uerq4KCwvTrl27JElNmjTR6dOnHbafPn1a7dq1c3ofISEhpS4H2mznVVxcUsGuAQDwbb72HulbFzydsGzZMo0fP96hdvDgQYWFhUmSwsPDtXfvXvu2goICHThwQOHh4VXZJgAA8GLVLmD16dNHqampevnll3Xs2DG9%2Beab2rRpkyZOnChJGjlypPbt26fk5GRlZGRo1qxZat68ubp27ermzgEAgLeodgGrY8eOWrZsmTZv3qzBgwdr7dq1Wrx4sTp16iRJat68uV544QVt3LhRo0aNUn5%2BvlasWCGLxeLmzgEAgLewGNyivErYbOddsu5dS79yyboAAFSlDx/t7pJ1g4MbuGTdslS7M1gAAACuRsACAAAwGQELAADAZAQsAAAAkxGwAAAATEbAAgAAMBkBCwAAwGQELAAAAJMRsAAAAExGwAIAADAZAQsAAMBkBCwAAACTEbAAAABMRsACAAAwGQELAADAZAQsAAAAkxGwAAAATEbAAgAAMBkBCwAAwGQELAAAAJMRsAAAAExGwAIAADAZAQsAAMBkBCwAAACT%2BXzAKioq0uDBg7V79257LS0tTffee686deqk/v37a8OGDQ5fM2TIELVt29bhcfjw4apuHQAAeCmruxtwpcLCQsXHxysjI8Nes9lseuihh3Tfffdp0aJF%2Bv777zVr1iwFBwerd%2B/eunz5so4ePap169apZcuW9q8LCgpywxEAAABv5LMBKzMzU/Hx8TIMw6H%2BySefqHHjxpo%2BfbokqWXLltq9e7fef/999e7dW8ePH9evv/6qjh07qnbt2u5oHQAAeDmfDVh79uxR165d9dhjjykiIsJe79mzp9q1a1fq9RcuXJB0JZiFhoYSrgAAQIX5bMC6//77r1tv3ry5mjdvbn/%2B888/64MPPtAjjzwiScrKylKtWrU0ZcoUfffdd2rVqpVmzJihjh07Or3v3Nxc2Ww2h5rV6q%2BQkJAKHAkAAL7PavWtj4X7bMByxqVLl/TII4%2BocePGiomJkST9%2BOOPOnv2rEaPHq24uDi9/fbbGjdunLZu3arQ0FCn1k1JSVFSUpJDLTY2VnFxcaYfAwAAviAoqJ67WzBVtQ1YFy9e1MMPP6yjR4/qzTffVN26dSVJCxYs0KVLl1S/fn1J0rx587Rv3z5t3rxZU6dOdWrtmJgYRUdHO9SsVn/l5V009yAAAPARrnqPdFdwq5YB68KFC3rwwQd17Ngxvfbaaw4/LWi1Wu3hSpIsFovCwsKUk5Pj9PohISGlLgfabOdVXFxS6d4BAPBFvvYe6VsXPJ1QUlKiadOm6fjx41q7dq1uueUWh%2B0PPPCAw%2BW9kpISHTp0SGFhYVXdKgAA8FLV7gzWO%2B%2B8o927d2vVqlUKCAiwfxi9Vq1aCgwMVHR0tFasWKF27dqpVatWev3113X%2B/HkNHz7czZ0DAABvUe0C1scff6ySkhJNmTLFoR4VFaW1a9dq/PjxKiws1MKFC3X69GmFh4fr1VdfdbhsCAAA8HssxrV34oRL2GznXbLuXUu/csm6AABUpQ8f7e6SdYODG7hk3bJUu89gAQAAuBoBCwAAwGQELAAAAJMRsAAAAExGwAIAADAZAQsAAMBkBCwAAACTEbAAAABMRsACAAAwGQELAADAZAQsAAAAkxGwAAAATEbAAgAAMBkBCwAAwGQELAAAAJMRsAAAAExGwAIAADAZAQsAAMBkBCwAAACTEbAAAABMRsACAAAwGQELAADAZAQsAAAAk/l8wCoqKtLgwYO1e/duey07O1vjx49XRESEBg4cqO3btzt8zY4dOzR48GCFh4dr7Nixys7Oruq2AQCAF/PpgFVYWKjp06crIyPDXjMMQ7GxsWrcuLE2btyooUOHatq0aTp58qQk6eTJk4qNjdWIESP0zjvvqGHDhnr44YdlGIa7DgMAAHgZnw1YmZmZuueee3Ts2DGH%2Bq5du5Sdna358%2BerdevWmjJliiIiIrRx40ZJ0oYNG3Tbbbdp4sSJuuWWW5SQkKATJ05oz5497jgMAADghXw2YO3Zs0ddu3ZVSkqKQz09PV3t27eXv7%2B/vRYZGam0tDT79i5duti31a1bVx06dLBvBwAAKIvV3Q24yv3333/dus1mU0hIiEOtUaNGOnXqlFPbAQAAyuKzAetGCgoK5Ofn51Dz8/NTUVGRU9udkZubK5vN5lCzWv1LBTcAAHCF1epbF9WqXcCqXbu28vPzHWpFRUWqU6eOffu1YaqoqEgBAQFO7yMlJUVJSUkOtdjYWMXFxVWwawAAfFtQUD13t2CqahewmjRposzMTIfa6dOn7WeXmjRpotOnT5fa3q5dO6f3ERMTo%2BjoaIea1eqvvLyLFewaAADf5qr3SHcFt2oXsMLDw5WcnKxLly7Zz1rt3btXkZGR9u179%2B61v76goEAHDhzQtGnTnN5HSEhIqcuBNtt5FReXmHAEAAD4Hl97j/StC55OiIqKUmhoqGbNmqWMjAwlJydr//79GjVqlCRp5MiR2rdvn5KTk5WRkaFZs2apefPm6tq1q5s7BwAA3qLaBayaNWtq5cqVstlsGjFihN577z2tWLFCTZs2lSQ1b95cL7zwgjZu3KhRo0YpPz9fK1askMVicXPnAADAW1gMblFeJWy28y5Z966lX7lkXQAAqtKHj3Z3ybrBwQ1csm5Zqt0ZLAAAAFcjYAEAAJiMgAUAAGAyAhYAAIDJCFgAAAAmI2ABAACYjIAFAABgMgIWAACAyQhYAAAAJiNgAQAAmIyABQAAYDICFgAAgMkIWAAAACYjYAEAAJiMgAUAAGAyAhYAAIDJCFgAAAAmI2ABAACYjIAFAABgMgIWAACAyQhYAAAAJiNgAQAAmIyABQAAYDICFgAAgMms7m7AHf79739r1qxZpeoWi0UHDx7UwoULtXbtWodtc%2BfO1ZgxY6qqRQAA4MWqZcAaOHCgevbsaX9eXFyscePGqXfv3pKkrKwsxcfHa/jw4fbX1K9fv6rbBAAAXqpaBqw6deqoTp069ucvvviiDMPQ448/LulKwJo0aZKCg4Pd1SIAAPBi1f4zWPn5%2BXrppZcUHx8vPz8/XbhwQTk5OWrZsqW7WwMAAF6q2ges9evXKyQkRAMGDJB05eyVxWLR6tWr1atXLw0ZMkTvvvuum7sEAADexOMuEY4ePVojR47UoEGD1KBBA5fuyzAMbdiwQQ8%2B%2BKC9duTIEVksFoWFhWnMmDFKTU3V3LlzVb9%2BffXr18%2BpdXNzc2Wz2RxqVqu/QkJCTO0fAABfYbX61jkfjwtY3bp10%2BrVq5WQkKA777xTI0aMUPfu3WWxWEzf17fffqucnBwNGjTIXhs2bJj69OmjwMBASdKtt96qo0ePav369U4HrJSUFCUlJTnUYmNjFRcXZ17zAAD4kKCgeu5uwVQeF7Di4%2BM1ffp07dixQ5s2bdIjjzyigIAADRs2TMOGDVOrVq1M29eXX36pLl266KabbrLXLBaLPVxdFRYWpl27djm9bkxMjKKjox1qVqu/8vIuVq5hAAB8lKveI90V3DwuYElXQk737t3VvXt3FRQUaO3atVq5cqWSk5PVuXNnjRs3Tn/5y18qvZ/9%2B/erc%2BfODrVly5bpm2%2B%2B0X//93/bawcPHlRYWJjT64aEhJS6HGiznVdxcUml%2BgUAwFf52nukRwYs6crnmN577z299957Onz4sDp37qzhw4fr1KlT%2Bvvf/67U1FTNmTOnUvvIyMjQkCFDHGp9%2BvRRcnKyXn75ZfXr10/bt2/Xpk2b9Prrr1dqXwAAoPrwuIC1efNmbd68Wbt371bDhg01bNgwLV%2B%2B3OG2CaGhoXr66acrHbBOnz6tgIAAh1rHjh21bNkyLV%2B%2BXMuWLVOzZs20ePFiderUqVL7AgAA1YfHBaw5c%2BaoT58%2BWrFihXr16qUaNUr/VMHVn/CrrP3791%2B33rdvX/Xt27fS6wMAgOrJ4wLWF198oaCgIOXn59vD1f79%2B9WhQwfVrFlTktS5c%2BdSn50CAADwFB5304kLFy5owIABeumll%2By1yZMna%2BjQofrpp5/c2BkAAIBzPC5g/etf/1KLFi00YcIEe23r1q0KDQ1VQkKCGzsDAABwjscFrK%2B//lpPPvmkwy9abtiwoWbMmFGue1EBAAC4i8cFLKvVqnPnzpWqFxQUyDAMN3QEAABQPh4XsHr16qWFCxfq2LFj9lp2drYSEhLUs2dPN3YGAADgHI/7KcKZM2dqwoQJ6t%2B/v/0eVefOnVOHDh00a9YsN3cHAABQNo8LWI0aNdK7776rHTt2KCMjQ1arVX/84x/15z//2SW/8BkAAMBsHhewJKlmzZrq2bMnlwQBAIBX8riAZbPZtHTpUu3bt0%2B//vprqQ%2B2b9u2zU2dAQAAOMfjAtbcuXP13XffadCgQWrQoIG72wEAACg3jwtYu3bt0po1a9SlSxd3twIAAFAhHnebBn9/fzVq1MjdbQAAAFSYxwWsoUOHas2aNbp8%2BbK7WwEAAKgQj7tEmJ%2Bfry1btujzzz/XzTffLD8/P4ftr7/%2Bups6AwAAcI7HBSxJGjx4sLtbAAAAqDCPC1gJCQnubgEAAKBSPO4zWJKUm5urpKQkxcfH6%2Beff9ZHH32kI0eOuLstAAAAp3hcwPrPf/6ju%2B%2B%2BW%2B%2B%2B%2B64%2B/vhj/fLLL9q6datGjhyp9PR0d7cHAABQJo8LWIsWLVLfvn31ySefqFatWpKkJUuWKDo6Ws8995ybuwMAACibxwWsffv2acKECQ6/2Nlqterhhx/WgQMH3NgZAACAczwuYJWUlKikpKRU/eLFi6pZs6YbOgIAACgfjwtYPXr00IsvvugQsvLz85WYmKhu3bq5sTMAAADnWAzDMNzdxG/l5ORo7NixOn/%2BvPLz8xUWFqYTJ04oMDBQ69atU7NmzdzdYoXYbOddsu5dS79yyboAAFSlDx/t7pJ1g4MbuGTdsnjcfbCaNGmiTZs2acuWLfrhhx9UUlKi%2B%2B67T0OHDlX9%2BvVN2cf//u//atq0aQ61/v37a/ny5crOztbcuXOVlpampk2bavbs2erRo4cp%2BwUAANWDxwUsSapbt65Gjx7tsvUzMzPVp08fLViwwF6rXbu2DMNQbGys2rRpo40bN%2BqTTz7RtGnTtHXrVjVt2tRl/QAAAN/icQFr7Nixv7vdjN9FmJWVpTZt2ig4ONihvnPnTmVnZ%2Butt96Sv7%2B/WrdurZ07d2rjxo165JFHKr1fAABQPXhcwLr2M1bFxcX6z3/%2Bo8OHD2vcuHGm7CMrK0t33HFHqXp6errat28vf39/ey0yMlJpaWmm7BcAAFQPHhewbvS7CFesWKFTp05Ven3DMPTjjz9q%2B/btevHFF3X58mUNGDBAcXFxstlsCgkJcXh9o0aNyr3f3Nxc2Ww2h5rV6l9qbQAAcIXV6nE3NqgUjwtYNzJ06FANGzbM4XNTFXHy5EkVFBTIz89PS5cu1fHjx7Vw4UJdunTJXv8tPz8/FRUVlWsfKSkpSkpKcqjFxsYqLi6uUr0DAOCrgoLqubsFU3lNwPrmm29MudFos2bNtHv3bt10002yWCxq166dSkpK9MQTT2j48OEqKChweH1RUZHq1KlTrn3ExMQoOjraoWa1%2Bisv72Kl%2BwcAwBe56j3SXcHN4wLW9T7kfuHCBR06dEj333%2B/KfsIDAx0eN66dWsVFhYqODhYR44ccdh2%2BvTpcl/aCwkJKfU1Ntt5FReXvkM9AACQz71HelzAatq0qcPvIZSkWrVqacyYMRoyZEil1//yyy/1%2BOOP6/PPP1fdunUlST/88IMCAwMVGRmpV155RZcuXbKftdq7d68iIyMrvV8AAFB9eFzAWrRokUvX79Spk2rXrq2///3vio2NVXZ2tp599lk9%2BOCDioqKUmhoqGbNmqWHH35Yn332mfbv33/DD94DAABcj8cFrNTUVKdfe/vtt5d7/fr16%2Bvll1/Wv/71L40cOVL16tXTvffeqwcffFAWi0UrV67UnDlzNGLECLVo0UIrVqzgJqMAAKBcPO53Ed566632S4S/be3amsVi0Q8//FD1DVYQv4sQAIAb43cRutjq1au1cOFCPfHEE4qKipKfn5%2B%2B/fZbzZ8/X8OHD9fAgQPd3SIAAMDv8rgzWP3799ecOXPUq1cvh/rXX3%2BtGTNm6NNPP3VTZ5XDGSwAAG7M185gedxtU3Nzc0v9uhzpymen8vLy3NARAABA%2BXhcwIqIiNCSJUt04cIFey0/P1%2BJiYn685//7MbOAAAAnONxn8H6%2B9//rrFjx6pXr15q2bKlDMPQ0aNHFRwcrNdff93d7QEAAJTJ4wJW69attXXrVm3ZskVZWVmSpL/%2B9a8aNGiQ/cagAAAAnszjApYk3XTTTRo9erSOHz%2Bum2%2B%2BWdKVu7kDAAB4A4/7DJZhGHruued0%2B%2B23a/DgwTp16pRmzpypOXPm6Ndff3V3ewAAAGXyuIC1du1abd68Wf/4xz/k5%2BcnSerbt68%2B%2BeQTJSUlubk7AACAsnlcwEpJSdFTTz2lESNG2O/ePnDgQC1cuFDvv/%2B%2Bm7sDAAAom8cFrOPHj6tdu3al6rfeeqtsNpsbOgIAACgfjwtYzZo107fffluq/sUXX9g/8A4AAODJPO6nCCdNmqR//vOfstlsMgxDO3fuVEpKitauXasnn3zS3e0BAACUyeMC1siRI1VcXKxVq1bp0qVLeuqpp9SwYUM9%2Buijuu%2B%2B%2B9zdHgAAQJk8LmBt2bJFAwYMUExMjM6cOSPDMNSoUSN3twUAAOA0j/sM1vz58%2B0fZm/YsCHhCgAAeB2PC1gtW7bU4cOH3d0GAABAhXncJcJbb71Vjz/%2BuNasWaOWLVuqdu3aDtsTEhLc1BkAAIBzPC5g/fjjj4qMjJQk7nsFAAC8kkcErGeffVbTpk2Tv7%2B/1q5d6%2B52AAAAKsUjPoP16quvqqCgwKE2efJk5ebmuqkjAACAivOIgGUYRqlaamqqCgsL3dANAABA5XhEwAIAAPAlBCwAAACTeUzAslgsVbavnJwcxcXFKSoqSj179lRCQoIourOCAAAQQ0lEQVT9cuTChQvVtm1bh8e6deuqrDcAAOD9POKnCKUrwea397z69ddflZiYqHr16jm8rrL3wTIMQ3FxcQoICNAbb7yhs2fPavbs2apRo4ZmzpyprKwsxcfHa/jw4favqV%2B/fqX2CQAAqhePCFi33357qXtederUSXl5ecrLyzN1X0eOHFFaWpq%2B%2BuorNW7cWJIUFxenZ555xh6wJk2apODgYFP3CwAAqg%2BPCFhVee%2Br4OBgrVmzxh6urrpw4YIuXLignJwctWzZssr6AQAAvscjAlZVCggIUM%2BePe3PS0pKtG7dOnXr1k1ZWVmyWCxavXq1vvjiCwUGBmrChAkOlwudkZubW%2BqMnNXqr5CQEFOOAQAAX2O1eszHwk1R7QLWtRITE3XgwAG98847%2Bv7772WxWBQWFqYxY8YoNTVVc%2BfOVf369dWvXz%2Bn10xJSVFSUpJDLTY2VnFxcWa3DwCATwgKqlf2i7xItQ5YiYmJeu211/T888%2BrTZs2uuWWW9SnTx8FBgZKuvKLp48ePar169eXK2DFxMQoOjraoWa1%2Bisv76Kp/QMA4Ctc9R7pruBWbQPWggULtH79eiUmJqp///6Srtwq4mq4uiosLEy7du0q19ohISGlLgfabOdVXFxSuaYBAPBRvvYe6VsXPJ2UlJSkt956S0uWLNGgQYPs9WXLlmn8%2BPEOrz148KDCwsKquEMAAODNql3AysrK0sqVK/XQQw8pMjJSNpvN/ujTp49SU1P18ssv69ixY3rzzTe1adMmTZw40d1tAwAAL1LtLhFu27ZNly9f1qpVq7Rq1SqHbYcOHdKyZcu0fPlyLVu2TM2aNdPixYvVqVMnN3ULAAC8kcUwDMPdTVQHNtt5l6x719KvXLIuAABV6cNHu7tk3eDgBi5ZtyzV7hIhAACAqxGwAAAATEbAAgAAMBkBCwAAwGQELAAAAJMRsAAAAExGwAIAADAZAQsAAMBkBCwAAACTEbAAAABMRsACAAAwGQELAADAZAQsAAAAkxGwAAAATEbAAgAAMBkBCwAAwGQELAAAAJMRsAAAAExGwAIAADAZAQsAAMBkBCwAAACTEbAAAABMRsACAAAwGQELAADAZASs6ygsLNTs2bPVpUsX9ejRQ6%2B88oq7WwIAAF7E6u4GPNGzzz6r7777Tq%2B99ppOnjypmTNnqmnTphowYIC7WwMAAF6AgHWNX375RRs2bNBLL72kDh06qEOHDsrIyNAbb7xBwAIAAE7hEuE1Dh48qOLiYnXq1Mlei4yMVHp6ukpKStzYGQAA8BacwbqGzWZTUFCQ/Pz87LXGjRursLBQ%2Bfn5atiwYZlr5ObmymazOdSsVn%2BFhISY3i8AAL7AavWtcz4ErGsUFBQ4hCtJ9udFRUVOrZGSkqKkpCSH2rRp0/TII4%2BY0%2BRvfP209122zM3NVUpKimJiYgidN8CMnMOcbozZlI0ZlY0ZVZxvxUUT1K5du1SQuvq8Tp06Tq0RExOjf//73w6PmJgY03v1VjabTUlJSaXO8uH/Y0bOYU43xmzKxozKxowqjjNY12jSpIny8vJUXFwsq/XKeGw2m%2BrUqaOAgACn1ggJCSHpAwBQjXEG6xrt2rWT1WpVWlqavbZ371796U9/Uo0ajAsAAJSNxHCNunXratiwYZo3b57279%2BvTz75RK%2B88orGjh3r7tYAAICXqDlv3rx57m7C03Tr1k0HDhzQ4sWLtXPnTk2dOlUjR450d1s%2BpV69eoqKilK9evXc3YrHYkbOYU43xmzKxozKxowqxmIYhuHuJgAAAHwJlwgBAABMRsACAAAwGQELAADAZAQsAAAAkxGwAAAATEbAAgAAMBkBCwAAwGQELAAAAJMRsHBdOTk5iouLU1RUlHr27KmEhAQVFhZKkrKzszV%2B/HhFRERo4MCB2r59%2B3XXeO%2B99/TAAw%2BUqr/xxhvq3bu3OnfurLi4OOXn5zvV09dff60777yzVH3Lli3q27evwsPDFRsbqzNnzpTjSCvOW2ZkGIaSk5MVHR2tzp07a9y4ccrMzCzn0VacK%2BZ0/PhxtW3b9rqP1NTUG/Zy4MABjR49WuHh4Ro5cqS%2B%2B%2B47%2BzZ3zMlbZvNbH374odq2bVuJoy4fb5rRRx99pP79%2BysiIkITJ07UiRMnTJhA2bxlRoZh6IUXXlCvXr10%2B%2B2369FHH62yf6/dwgCuUVJSYtxzzz3Ggw8%2BaBw%2BfNhITU01%2BvXrZyxatMgoKSkx7r77biM%2BPt7IzMw0Vq9ebYSHhxsnTpxwWGPnzp1GeHi4MWbMGIf6Bx98YHTs2NH46KOPjEOHDhmjRo0yHnvssTJ7OnjwoHHHHXcYffr0cainp6cbHTt2NN59913jhx9%2BMMaMGWNMnjy58kMogzfN6M033zS6du1qfPrpp8aRI0eM2bNnG7179zZ%2B%2BeWXyg%2BiDK6aU3FxsZGbm%2BvwmD59ujFy5EijqKjour1cvHjR6N69u7Fo0SIjMzPTWLBggXHHHXcYFy9eNAyj6ufkTbO56uzZs0b37t2NNm3amD%2BQ6/CmGe3du9do3769sX79eiMrK8uYMmWKcc8997huOP/Hm2a0fv16o1evXsbu3buNQ4cOGffdd58xdepU1w3HzQhYKCUzM9No06aNYbPZ7LX333/f6NGjh7Fjxw4jIiLC4R/ecePGGcuXL7c/f%2BGFF4zbbrvNGDx4cKnwMGzYMOOFF16wP9%2BzZ48xaNAgo7i4%2BIb9rF%2B/3oiIiDDuvvvuUuHhiSeeMGbOnGl/fvLkSaNt27bGsWPHyn/g5eBNMxo9erTx4osv2p8XFRUZERERxvbt28t/4OXkyjn91t69e40OHToYmZmZN3zNhg0bjOjoaKOkpMQwjCtvTP369TM2btxoGEbVz8mbZnPVnDlzjHvvvbfKApY3zSg2NtZ48skn7a8/duyY0adPH%2BPnn38u/4GXgzfNaOrUqcaiRYvsr9%2B2bZsRERFR/oP2ElwiRCnBwcFas2aNGjdu7FC/cOGC0tPT1b59e/n7%2B9vrkZGRSktLsz//6quv9PLLL%2Bsvf/lLqa8/cOCA%2BvXrZ6/dfvvt2rJli2rWrHnDfr744gs988wzGj9%2BfKlt6enp6tKli/15aGiomjZtqvT0dKePtyK8aUYzZszQkCFD7M8tFosMw9D58%2BedPt6KctWcrrV48WLdc889at269Q1fk56ersjISFksFklX5tC5c2f7/qp6Tt40G0nas2eP9uzZo6lTp5brOCvDm2a0Z88eh%2B/bm2%2B%2BWZ9%2B%2BqkaNmzo/AFXgDfNKDAwUJ9//rlycnJ06dIlffDBB2rXrl25j9lbELBQSkBAgHr27Gl/XlJSonXr1qlbt26y2WwKCQlxeH2jRo106tQp%2B/P169crKiqq1LrZ2dmSpDNnzujee%2B9Vjx49NHPmTJ07d%2B53%2B1m5cuUNv/lzc3PL7McVvGlGXbp00R/%2B8Af78w0bNqi4uFiRkZFlH2gluWpOv7V3716lpaVpypQpv/u6svZX1XPyptkUFRVp7ty5euqpp1SnTh2njs8M3jKjc%2BfO6ezZs7p8%2BbImTZqk7t27629/%2B5tycnKcPdQK85YZSVJsbKysVqt69eqlzp076%2Buvv9aSJUucOk5vRMBCmRITE3XgwAE99thjKigokJ%2Bfn8N2Pz8/FRUVlbnOxYsXJUnz58/XQw89pGXLlikjI0MzZsyocG%2BXLl2qcD9m8uQZ/VZ6erqeeeYZTZo0ScHBwaasWR5mzem33n77bfXr109NmjT53deVZ3/umJMnz2bFihXq0KGDevToUa79m81TZ/TLL79IkhYuXKi7775bq1atUlFRkaZMmaKSkpJy9VNZnjojSTpx4oTq1Kmj1atXa%2B3atfrDH/6g2bNnl6sXb0LAwu9KTEzUa6%2B9psTERLVp00a1a9cu9c1ZVFTk1P9qrVarJGny5Mm68847FRkZqaefflqfffaZcnJytHr1anXq1Mn%2B%2BPrrr8tc80b91K1btxxHWTmePqOrvvnmG02aNEm9evXSf/3Xf5XvIE1g5pyuKi4u1rZt2xwu7Um67pyc3Z875uTJszl8%2BLDefvttt78RevKMrl6%2BHz16tIYNG6aOHTvqueee0%2BHDhx0ux7maJ8/IMAzNnDlTEyZMUJ8%2BfRQZGamlS5dqx44dLv9Ih7tY3d0APNeCBQu0fv16JSYmqn///pKkJk2alPrR9dOnT5c6LXw9V88EhIWF2WutWrWSJJ06dUr33nuv7rrrLvu2sv63dPU1p0%2BfLtVPVZ118IYZSdLu3bs1depUde/eXYsXL1aNGlX7fyuz53RVWlqaiouL1b17d4f69eZ0o78rv92fO%2Bbk6bP5n//5H509e9b%2B%2BaLLly9Lkjp16qR//vOfpd54XcHTZxQUFKRatWo5fN8GBQUpMDDQ5R9XuMrTZ3TmzBn99NNPDrf4CA0NVVBQkE6cOKHw8HCne/IWnMHCdSUlJemtt97SkiVLNGjQIHs9PDxc33//vS5dumSv7d2716lvjqZNmyokJEQHDx6017KysmSxWNS0aVMFBgaqRYsW9ocz/8sKDw/X3r177c9/%2Bukn/fTTT1XyzeotMzp8%2BLD%2B9re/qWfPnlq6dKlq1apVziOtHFfM6ar09HR16NBBtWvXdqhfb07h4eH65ptvZBiGpCv35Nm3b599f%2B6YkzfMZsyYMfrwww%2B1adMmbdq0SQsXLpQkbdq0SdHR0ZU5fKd4w4ysVqs6dOjg8H175swZ5eXlqVmzZhU9dKd5w4xuuukm%2Bfn5KSsry77GmTNnlJ%2Bfr%2BbNm1f00D0aAQulZGVlaeXKlXrooYcUGRkpm81mf0RFRSk0NFSzZs1SRkaGkpOTtX//fo0aNarMdS0Wi8aPH6/ly5frq6%2B%2B0sGDBzVv3jz17du3wmec7rvvPm3evFkbNmzQwYMHNWPGDPXu3Vs333xzhdZzljfN6KmnnrL3k5eXZ%2B/zt//ouoqr5nRVRkbG7/5U028NGDBA586d09NPP63MzEw9/fTTKigosP8vvKrn5C2zufaN9OpZ0xYtWqh%2B/foVOnZnecuMJGnChAlau3atPvzwQ2VlZWn27Nlq166dOnbsWKFjd5a3zMhqtWrEiBF65plnlJqaqsOHD%2BuJJ55QeHi4/vSnP1X08D0alwhRyrZt23T58mWtWrVKq1atcth26NAhrVy5UnPmzNGIESPUokULrVixQk2bNnVq7YkTJ6qwsFAzZszQL7/8oujoaM2bN6/CvXbq1Enz58/X8uXLdfbsWXXv3l0LFiyo8HrO8pYZ2Ww2ffPNN5Kk3r17O2xLSEjQiBEjKrSus1w5J%2BnK5Qdnf8y7fv36evHFF/WPf/xDb7/9ttq2bavk5GT5%2B/u7ZU7eMht38qYZXQ0XiYmJ%2BvnnnxUVFaWVK1fab1ngKt40o9mzZ2vp0qWKj49XYWGh7rjjDiUmJrp8Ru5iMa6eywMAAIApuEQIAABgMgIWAACAyQhYAAAAJiNgAQAAmIyABQAAYDICFgAAgMkIWAAAACYjYAEAAJiMgAUAAGAyAhYAAIDJCFgAAAAmI2ABAACYjIAFAABgsv8HeRy%2BVkW4c%2BkAAAAASUVORK5CYII%3D\">\n",
       "</div>\n",
       "</div><div class=\"row variablerow\">\n",
       "    <div class=\"col-md-3 namecol\">\n",
       "        <p class=\"h4 pp-anchor\" id=\"pp_var_prcp\">prcp<br/>\n",
       "            <small>Numeric</small>\n",
       "        </p>\n",
       "    </div><div class=\"col-md-6\">\n",
       "    <div class=\"row\">\n",
       "        <div class=\"col-sm-6\">\n",
       "            <table class=\"stats \">\n",
       "                <tr>\n",
       "                    <th>Distinct count</th>\n",
       "                    <td>160</td>\n",
       "                </tr>\n",
       "                <tr>\n",
       "                    <th>Unique (%)</th>\n",
       "                    <td>7.9%</td>\n",
       "                </tr>\n",
       "                <tr class=\"ignore\">\n",
       "                    <th>Missing (%)</th>\n",
       "                    <td>0.0%</td>\n",
       "                </tr>\n",
       "                <tr class=\"ignore\">\n",
       "                    <th>Missing (n)</th>\n",
       "                    <td>0</td>\n",
       "                </tr>\n",
       "                <tr class=\"ignore\">\n",
       "                    <th>Infinite (%)</th>\n",
       "                    <td>0.0%</td>\n",
       "                </tr>\n",
       "                <tr class=\"ignore\">\n",
       "                    <th>Infinite (n)</th>\n",
       "                    <td>0</td>\n",
       "                </tr>\n",
       "            </table>\n",
       "\n",
       "        </div>\n",
       "        <div class=\"col-sm-6\">\n",
       "            <table class=\"stats \">\n",
       "\n",
       "                <tr>\n",
       "                    <th>Mean</th>\n",
       "                    <td>0.17728</td>\n",
       "                </tr>\n",
       "                <tr>\n",
       "                    <th>Minimum</th>\n",
       "                    <td>0</td>\n",
       "                </tr>\n",
       "                <tr>\n",
       "                    <th>Maximum</th>\n",
       "                    <td>6.7</td>\n",
       "                </tr>\n",
       "                <tr class=\"alert\">\n",
       "                    <th>Zeros (%)</th>\n",
       "                    <td>43.2%</td>\n",
       "                </tr>\n",
       "            </table>\n",
       "        </div>\n",
       "    </div>\n",
       "</div>\n",
       "<div class=\"col-md-3 collapse in\" id=\"minihistogram-1152212993672668814\">\n",
       "    <img src=\"data:image/png;base64,iVBORw0KGgoAAAANSUhEUgAAAMgAAABLCAYAAAA1fMjoAAAABHNCSVQICAgIfAhkiAAAAAlwSFlzAAAPYQAAD2EBqD%2BnaQAAARVJREFUeJzt1sEJwkAURVEjKcki0pPr9GQR9jTuRS5EDFE5Zz/wNpc/0xhjnICXzkcPgG82Hz3g2eV62/zmvi47LAEXBJJAIAgEgkAgCASCQCAIBIJAIAgEgkAgCASCQCAIBIJAIAgEgkAgCASCQCAIBIJAIAgEgkAgCASCQCAIBIJAIAgEgkAgCASCQCAIBIJAIAgEgkAgCASCQCAIBIJAIAgEgkAgCASCQCAIBMJ89IBPuFxvm9/c12WHJfwbFwTCX1yQd7xzdbZypX7fNMYYR4%2BAb%2BWLBUEgEAQCQSAQBAJBIBAEAkEgEAQCQSAQBAJBIBAEAkEgEAQCQSAQBAJBIBAEAkEgEAQCQSAQBAJBIBAEAuEBzDoRk4s9MGQAAAAASUVORK5CYII%3D\">\n",
       "\n",
       "</div>\n",
       "<div class=\"col-md-12 text-right\">\n",
       "    <a role=\"button\" data-toggle=\"collapse\" data-target=\"#descriptives-1152212993672668814,#minihistogram-1152212993672668814\"\n",
       "       aria-expanded=\"false\" aria-controls=\"collapseExample\">\n",
       "        Toggle details\n",
       "    </a>\n",
       "</div>\n",
       "<div class=\"row collapse col-md-12\" id=\"descriptives-1152212993672668814\">\n",
       "    <ul class=\"nav nav-tabs\" role=\"tablist\">\n",
       "        <li role=\"presentation\" class=\"active\"><a href=\"#quantiles-1152212993672668814\"\n",
       "                                                  aria-controls=\"quantiles-1152212993672668814\" role=\"tab\"\n",
       "                                                  data-toggle=\"tab\">Statistics</a></li>\n",
       "        <li role=\"presentation\"><a href=\"#histogram-1152212993672668814\" aria-controls=\"histogram-1152212993672668814\"\n",
       "                                   role=\"tab\" data-toggle=\"tab\">Histogram</a></li>\n",
       "        <li role=\"presentation\"><a href=\"#common-1152212993672668814\" aria-controls=\"common-1152212993672668814\"\n",
       "                                   role=\"tab\" data-toggle=\"tab\">Common Values</a></li>\n",
       "        <li role=\"presentation\"><a href=\"#extreme-1152212993672668814\" aria-controls=\"extreme-1152212993672668814\"\n",
       "                                   role=\"tab\" data-toggle=\"tab\">Extreme Values</a></li>\n",
       "\n",
       "    </ul>\n",
       "\n",
       "    <div class=\"tab-content\">\n",
       "        <div role=\"tabpanel\" class=\"tab-pane active row\" id=\"quantiles-1152212993672668814\">\n",
       "            <div class=\"col-md-4 col-md-offset-1\">\n",
       "                <p class=\"h4\">Quantile statistics</p>\n",
       "                <table class=\"stats indent\">\n",
       "                    <tr>\n",
       "                        <th>Minimum</th>\n",
       "                        <td>0</td>\n",
       "                    </tr>\n",
       "                    <tr>\n",
       "                        <th>5-th percentile</th>\n",
       "                        <td>0</td>\n",
       "                    </tr>\n",
       "                    <tr>\n",
       "                        <th>Q1</th>\n",
       "                        <td>0</td>\n",
       "                    </tr>\n",
       "                    <tr>\n",
       "                        <th>Median</th>\n",
       "                        <td>0.02</td>\n",
       "                    </tr>\n",
       "                    <tr>\n",
       "                        <th>Q3</th>\n",
       "                        <td>0.13</td>\n",
       "                    </tr>\n",
       "                    <tr>\n",
       "                        <th>95-th percentile</th>\n",
       "                        <td>0.94</td>\n",
       "                    </tr>\n",
       "                    <tr>\n",
       "                        <th>Maximum</th>\n",
       "                        <td>6.7</td>\n",
       "                    </tr>\n",
       "                    <tr>\n",
       "                        <th>Range</th>\n",
       "                        <td>6.7</td>\n",
       "                    </tr>\n",
       "                    <tr>\n",
       "                        <th>Interquartile range</th>\n",
       "                        <td>0.13</td>\n",
       "                    </tr>\n",
       "                </table>\n",
       "            </div>\n",
       "            <div class=\"col-md-4 col-md-offset-2\">\n",
       "                <p class=\"h4\">Descriptive statistics</p>\n",
       "                <table class=\"stats indent\">\n",
       "                    <tr>\n",
       "                        <th>Standard deviation</th>\n",
       "                        <td>0.46119</td>\n",
       "                    </tr>\n",
       "                    <tr>\n",
       "                        <th>Coef of variation</th>\n",
       "                        <td>2.6015</td>\n",
       "                    </tr>\n",
       "                    <tr>\n",
       "                        <th>Kurtosis</th>\n",
       "                        <td>51.913</td>\n",
       "                    </tr>\n",
       "                    <tr>\n",
       "                        <th>Mean</th>\n",
       "                        <td>0.17728</td>\n",
       "                    </tr>\n",
       "                    <tr>\n",
       "                        <th>MAD</th>\n",
       "                        <td>0.23638</td>\n",
       "                    </tr>\n",
       "                    <tr class=\"\">\n",
       "                        <th>Skewness</th>\n",
       "                        <td>5.8556</td>\n",
       "                    </tr>\n",
       "                    <tr>\n",
       "                        <th>Sum</th>\n",
       "                        <td>358.28</td>\n",
       "                    </tr>\n",
       "                    <tr>\n",
       "                        <th>Variance</th>\n",
       "                        <td>0.2127</td>\n",
       "                    </tr>\n",
       "                    <tr>\n",
       "                        <th>Memory size</th>\n",
       "                        <td>15.9 KiB</td>\n",
       "                    </tr>\n",
       "                </table>\n",
       "            </div>\n",
       "        </div>\n",
       "        <div role=\"tabpanel\" class=\"tab-pane col-md-8 col-md-offset-2\" id=\"histogram-1152212993672668814\">\n",
       "            <img src=\"data:image/png;base64,iVBORw0KGgoAAAANSUhEUgAAAlgAAAGQCAYAAAByNR6YAAAABHNCSVQICAgIfAhkiAAAAAlwSFlzAAAPYQAAD2EBqD%2BnaQAAIABJREFUeJzt3XtclHX%2B///nwASiRKCCPw97izAPhIooSX2KEtbTV9nMLCnXPHXajyi3NjJDi9XkE63YwQI108pDGWuWnT/etm77Kf2Uh8XwkFmImqdVhhZSDGcE5veHX%2Ba7E7VRvrnGgcf9dps/5n0x1/W6nnGzJ3NdDDa32%2B0WAAAAjAnw9QAAAAAtDQULAADAMAoWAACAYRQsAAAAwyhYAAAAhlGwAAAADKNgAQAAGEbBAgAAMIyCBQAAYBgFCwAAwDAKFgAAgGEULAAAAMMoWAAAAIZRsAAAAAyjYAEAABhGwQIAADCMggUAAGAYBQsAAMAwChYAAIBhFCwAAADDKFgAAACGUbAAAAAMo2ABAAAYRsECAAAwjIIFAABgGAULAADAMAoWAACAYRQsAAAAwyhYAAAAhlGwAAAADKNgAQAAGEbBAgAAMIyCBQAAYBgFCwAAwDAKFgAAgGEULAAAAMMoWAAAAIZRsAAAAAyjYAEAABhm9/UArYXDcdr4PgMCbGrfvp3%2B%2Bc8zqq93G9%2B/PyADMpDIQCIDiQwakIN3Bh06hPpmBp8cFUYEBNhks9kUEGDz9Sg%2BQwZkIJGBRAYSGTQgh4sjAwoWAACAYRQsAAAAwyhYAAAAhlGwAAAADKNgAQAAGEbBAgAAMIyCBQAAYBgFCwAAwDAKFgAAgGEULAAAAMMoWAAAAIZRsAAAAAyjYAEAABhm9/UAuDCJc/7b1yM02Qf3X%2BfrEQAAsATvYAEAABhGwQIAADCMggUAAGAYBQsAAMAwChYAAIBhFCwAAADDKFgAAACGUbAAAAAMo2ABAAAYRsECAAAwjIIFAABgGAULAADAMAoWAACAYX5fsFwul9LS0rR161ZJ0sMPP6xevXo1ekycONHzmptuuqnR9q%2B//tqz/eWXX1ZycrISEhI0e/Zs1dTUWH5eAADAf9l9PcCFcDqdysrKUmlpqWdtzpw5ysrK8jw/duyY7rzzTk/Bqqur06FDh7RmzRpFR0d7vi4iIkKStHHjRhUUFCg/P18dOnRQdna28vPzlZOTY81JAQAAv%2Be3BWv//v3KysqS2%2B32Wr/00kt16aWXep4//PDDGjFihIYMGSJJOnr0qM6dO6d%2B/fopODi40X5XrVqlSZMmKSUlRZI0b9483XXXXZo5c6ZCQkKa8YwAAEBL4beXCLdt26akpCQVFRX95Nd89tln2r59ux544AHP2v79%2B9W5c%2BcfLVd1dXXavXu3EhMTPWv9%2B/fXuXPntG/fPrMnAAAAWiy/fQdr/PjxP/s1y5Yt05gxY9S5c2fPWllZmS655BLdd9992rNnj6644go99NBD6tevn06dOiWn06moqCjP19vtdoWHh%2BvEiRNNnq28vFwOh8NrzW5v67VfEwID/asf2%2B3m523IwN%2ByMIkMyEAiA4kMGpDDxZGB3xasn3PkyBFt2bJFc%2BbM8Vo/ePCgvvvuO912223KzMzUX/7yF02aNEnvv/%2B%2B52uCgoK8XhMUFCSXy9XkYxcVFamgoMBrLSMjQ5mZmb/iTFqOiIh2zbbvsDAu35IBGUhkIJFBA3LwbQYttmBt3LhRsbGxuvLKK73W58%2Bfr7Nnzyo0NFSSNHfuXO3YsUNvvfWWxo0bJ0mNypTL5fpF91%2Blp6crNTXVa81ub6vKyjO/5lR%2Bkr/9dGL6/KXzGYSFhejUqRrV1dUb378/IAMykMhAIoMG5OCdga9KVostWJs2bdJvf/vbRut2u91TriTJZrMpJiZGJ0%2BeVHh4uIKDg1VRUaHu3btLkmpra1VVVaXIyMgmHzsqKqrR5UCH47Rqa1vnN3qD5jz/urr6Vp8vGZCBRAYSGTQgB/m0YPrXWyBN5Ha7tXv3bg0YMKDRtjvvvNPr8l19fb2%2B%2BuorxcTEKCAgQH379lVxcbFne0lJiex2u3r37m3J7AAAwP%2B1yHewjh07pjNnzjS6PChJqampKiwsVGxsrK644gqtWrVKp0%2Bf1pgxYySdv3k%2BJydHPXv2VFRUlObOnatx48bxEQ0AAKDJWmTB%2BvbbbyVJl112WaNtkydPltPpVG5urioqKhQfH6%2BXXnrJc9lw1KhROnbsmHJycuRyuTRs2DDNnDnT0vkBAIB/s7l/%2BEmdaBYOx2nj%2B7TbAzR04Sbj%2B20uH9x/nfF92u0Biohop8rKM632XgMyIAOJDCQyaEAO3hk052%2Bw/zst8h4sAAAAX6JgAQAAGEbBAgAAMIyCBQAAYBgFCwAAwDAKFgAAgGEULAAAAMMoWAAAAIZRsAAAAAyjYAEAABhGwQIAADCMggUAAGAYBQsAAMAwChYAAIBhFCwAAADDKFgAAACGUbAAAAAMo2ABAAAYRsECAAAwjIIFAABgGAULAADAMAoWAACAYRQsAAAAwyhYAAAAhlGwAAAADKNgAQAAGEbBAgAAMIyCBQAAYBgFCwAAwDC/L1gul0tpaWnaunWrZy03N1e9evXyeqxZs8az/dNPP1VaWpri4%2BM1ceJEHTlyxGufL7/8spKTk5WQkKDZs2erpqbGsvMBAAD%2Bz68LltPp1AMPPKDS0lKv9bKyMmVlZWnz5s2ex9ixYyVJx48fV0ZGhm655Ra9/vrrat%2B%2BvaZNmya32y1J2rhxowoKCvTYY49p5cqV2rlzp/Lz8y0/NwAA4L/8tmDt379f48aN0%2BHDhxttKysr01VXXaXIyEjPIyQkRJK0bt069enTR1OnTlWPHj2Ul5enY8eOadu2bZKkVatWadKkSUpJSVG/fv00b948rV%2B/nnexAABAk/ltwdq2bZuSkpJUVFTktV5dXa2TJ08qOjr6R1%2B3c%2BdOJSYmep6HhIQoLi5OJSUlqqur0%2B7du7229%2B/fX%2BfOndO%2Bffua5TwAAEDLY/f1AL/W%2BPHjf3S9rKxMNptNS5cu1SeffKLw8HBNmTJFY8aMkSQ5HA5FRUV5vaZDhw46ceKETp06JafT6bXdbrcrPDxcJ06caPJs5eXlcjgcXmt2e9tGx71QgYH%2B1Y/tdvPzNmTgb1mYRAZkIJGBRAYNyOHiyMBvC9ZPOXDggGw2m2JiYjRhwgRt375djz76qEJDQzV06FDV1NQoKCjI6zVBQUFyuVw6e/as5/mPbW%2BqoqIiFRQUeK1lZGQoMzPzV55VyxAR0a7Z9h0WFtJs%2B/YXZEAGEhlIZNCAHHybQYsrWDfffLNSUlIUHh4uSerdu7cOHTqktWvXaujQoQoODm5Ullwul8LCwhQcHOx5/sPtDfdwNUV6erpSU1O91uz2tqqsPPNrTukn%2BdtPJ6bPXzqfQVhYiE6dqlFdXb3x/fsDMiADiQwkMmhADt4Z%2BKpktbiCZbPZPOWqQUxMjLZs2SJJ6tSpkyoqKry2V1RUKDY2VuHh4QoODlZFRYW6d%2B8uSaqtrVVVVZUiIyObPENUVFSjy4EOx2nV1rbOb/QGzXn%2BdXX1rT5fMiADiQwkMmhADvJpwfSvt0CaYNGiRZo8ebLX2r59%2BxQTEyNJio%2BPV3FxsWdbTU2N9u7dq/j4eAUEBKhv375e20tKSmS329W7d29L5gcAAP6vxRWslJQUbd%2B%2BXStWrNDhw4f16quvasOGDZo6daokaezYsdqxY4eWLVum0tJSZWdnq1u3bkpKSpJ0/ub5FStW6MMPP9SuXbs0d%2B5cjRs37hddIgQAAK1bi7tE2K9fPy1atEjPPvusFi1apK5du%2BrJJ59UQkKCJKlbt2567rnn9Pjjj6uwsFAJCQkqLCyUzWaTJI0aNUrHjh1TTk6OXC6Xhg0bppkzZ/rylAAAgJ%2BxuRs%2BwhzNyuE4bXyfdnuAhi7cZHy/zeWD%2B68zvk%2B7PUAREe1UWXmm1d5rQAZkIJGBRAYNyME7g%2Bb8DfZ/p8VdIgQAAPA1ChYAAIBhFCwAAADDKFgAAACGUbAAAAAMo2ABAAAYRsECAAAwjIIFAABgGAULAADAMAoWAACAYRQsAAAAwyhYAAAAhlGwAAAADKNgAQAAGEbBAgAAMIyCBQAAYBgFCwAAwDAKFgAAgGEULAAAAMMoWAAAAIZRsAAAAAyjYAEAABhGwQIAADCMggUAAGAYBQsAAMAwChYAAIBhFCwAAADDKFgAAACGUbAAAAAM8/uC5XK5lJaWpq1bt3rWSkpKdPvttyshIUHDhw/XunXrvF5z0003qVevXl6Pr7/%2B2rP95ZdfVnJyshISEjR79mzV1NRYdj4AAMD/2X09wIVwOp3KyspSaWmpZ83hcOiee%2B7RHXfcoSeeeEJffPGFsrOzFRkZqcGDB6uurk6HDh3SmjVrFB0d7XldRESEJGnjxo0qKChQfn6%2BOnTooOzsbOXn5ysnJ8fq0wMAAH7KbwvW/v37lZWVJbfb7bX%2B4YcfqmPHjnrggQckSdHR0dq6daveeecdDR48WEePHtW5c%2BfUr18/BQcHN9rvqlWrNGnSJKWkpEiS5s2bp7vuukszZ85USEhI858YAADwe357iXDbtm1KSkpSUVGR13pycrLy8vIafX11dbWk88Wsc%2BfOP1qu6urqtHv3biUmJnrW%2Bvfvr3Pnzmnfvn2GzwAAALRUfvsO1vjx4390vVu3burWrZvn%2Bbfffqv33ntPM2bMkCSVlZXpkksu0X333ac9e/boiiuu0EMPPaR%2B/frp1KlTcjqdioqK8rzebrcrPDxcJ06caPJs5eXlcjgcXmt2e1uv/ZoQGOhf/dhuNz9vQwb%2BloVJZEAGEhlIZNCAHC6ODPy2YDXF2bNnNWPGDHXs2FHp6emSpIMHD%2Bq7777TbbfdpszMTP3lL3/RpEmT9P7773teFxQU5LWfoKAguVyuJh%2B3qKhIBQUFXmsZGRnKzMy8gLPxfxER7Zpt32FhXL4lAzKQyEAigwbk4NsMWmzBOnPmjKZNm6ZDhw7p1Vdf9dw/NX/%2BfJ09e1ahoaGSpLlz52rHjh166623NG7cOElqVKZcLtcvuv8qPT1dqampXmt2e1tVVp65kFNqxN9%2BOjF9/tL5DMLCQnTqVI3q6uqN798fkAEZSGQgkUEDcvDOwFclq0UWrOrqat199906fPiwVq5c6fXbgna73VOuJMlmsykmJkYnT55UeHi4goODVVFRoe7du0uSamtrVVVVpcjIyCYfPyoqqtHlQIfjtGprW%2Bc3eoPmPP%2B6uvpWny8ZkIFEBhIZNCAH%2BbRg%2BtdbIE1QX1%2Bv6dOn6%2BjRo1q9erV69Ojhtf3OO%2B/0unxXX1%2Bvr776SjExMQoICFDfvn1VXFzs2V5SUiK73a7evXtbdg4AAMC/tbh3sF5//XVt3bpVS5YsUVhYmOdm80suuUTh4eFKTU1VYWGhYmNjdcUVV2jVqlU6ffq0xowZI%2Bn8zfM5OTnq2bOnoqKiNHfuXI0bN46PaAAAAE3W4grWxo0bVV9fr/vuu89rfdCgQVq9erUmT54sp9Op3NxcVVRUKD4%2BXi%2B99JLnsuGoUaN07Ngx5eTkyOVyadiwYZo5c6YvTgUAAPgpm/uHn9SJZuFwnDa%2BT7s9QEMXbjK%2B3%2Bbywf3XGd%2Bn3R6giIh2qqw802rvNSADMpDIQCKDBuTgnUFz/gb7v9Pi7sECAADwNQoWAACAYRQsAAAAwyhYAAAAhllesG677Ta99tprOn3a/E3fAAAAFwPLC9Y111yjpUuX6vrrr9cDDzygzZs3i19kBAAALYnlBSsrK0t/%2B9vftHjxYgUGBmrGjBkaPHiwnn76aR08eNDqcQAAAIzzyQeN2mw2XXfddbruuutUU1Oj1atXa/HixVq2bJkGDBigSZMmadiwYb4YDQAA4IL57JPcy8vL9fbbb%2Bvtt9/W119/rQEDBmjMmDE6ceKEHnnkEW3fvl1z5szx1XgAAAC/muUF66233tJbb72lrVu3qn379rr55pv17LPPKjo62vM1nTt31n/9139RsAAAgF%2ByvGDNmTNHKSkpKiws1A033KCAgMa3gcXExGjChAlWjwYAAGCE5QXrk08%2BUUREhKqqqjzlateuXYqLi1NgYKAkacCAARowYIDVowEAABhh%2BW8RVldXa8SIEXrhhRc8a/fee69Gjx6tf/zjH1aPAwAAYJzlBevxxx/X5ZdfrilTpnjW3n//fXXu3Fl5eXlWjwMAAGCc5QXr73//ux5%2B%2BGFFRkZ61tq3b6%2BHHnpIW7ZssXocAAAA4ywvWHa7XadOnWq0XlNTwye6AwCAFsHygnXDDTcoNzdXhw8f9qwdOXJEeXl5Sk5OtnocAAAA4yz/LcJZs2ZpypQpGj58uMLCwiRJp06dUlxcnLKzs60eBwAAwDjLC1aHDh305ptv6tNPP1VpaansdruuvPJKXXvttbLZbFaPAwAAYJxP/lROYGCgkpOTuSQIAABaJMsLlsPh0DPPPKMdO3bo3LlzjW5s/%2Bijj6weCQAAwCjLC9ajjz6qPXv2aNSoUbr00kutPjwAAECzs7xgbdmyRcuXL1diYqLVhwYAALCE5R/T0LZtW3Xo0MHqwwIAAFjG8oI1evRoLV%2B%2BXHV1dVYfGgAAwBKWXyKsqqrSu%2B%2B%2Bq//5n//Rb37zGwUFBXltX7VqldUjAQAAGOWTj2lIS0vzxWEBAAAsYXnBysvLs/qQAAAAlrL8HixJKi8vV0FBgbKysvTtt9/qv//7v3XgwIFftS%2BXy6W0tDRt3brVs3bkyBFNnjxZ/fv318iRI7V582av13z66adKS0tTfHy8Jk6cqCNHjnhtf/nll5WcnKyEhATNnj1bNTU1v2o2AADQOllesL755hv97ne/05tvvqmNGzfq%2B%2B%2B/1/vvv6%2BxY8dq586dv2hfTqdTDzzwgEpLSz1rbrdbGRkZ6tixo9avX6/Ro0dr%2BvTpOn78uCTp%2BPHjysjI0C233KLXX39d7du317Rp0zwfeLpx40YVFBToscce08qVK7Vz507l5%2BebCwAAALR4lhesJ554QkOGDNGHH36oSy65RJL01FNPKTU1VQsXLmzyfvbv369x48bp8OHDXutbtmzRkSNH9Nhjj6l79%2B6677771L9/f61fv16StG7dOvXp00dTp05Vjx49lJeXp2PHjmnbtm2Szt9kP2nSJKWkpKhfv36aN2%2Be1q9fz7tYAACgySwvWDt27NCUKVO8/rCz3W7XtGnTtHfv3ibvZ9u2bUpKSlJRUZHX%2Bs6dO3XVVVepbdu2nrWBAweqpKTEs/1fP%2BQ0JCREcXFxKikpUV1dnXbv3u21vX///jp37pz27dv3i88VAAC0Tpbf5F5fX6/6%2BvpG62fOnFFgYGCT9zN%2B/PgfXXc4HIqKivJa69Chg06cOPGz20%2BdOiWn0%2Bm13W63Kzw83PN6AACAn2N5wbr%2B%2Buv1/PPPe93XVFVVpfz8fF1zzTUXvP%2BamppGn60VFBQkl8v1s9vPnj3ref5Tr2%2BK8vJyORwOrzW7vW2jYnehAgN98jsKv5rdbn7ehgz8LQuTyIAMJDKQyKABOVwcGVhesB5%2B%2BGFNnDhR119/vZxOp/7zP/9Tx44dU3h4uJ544okL3n9wcLCqqqq81lwul9q0aePZ/sOy5HK5FBYWpuDgYM/zH24PCQlp8gxFRUUqKCjwWsvIyFBmZmaT99ESRUS0a7Z9h4U1/b9PS0UGZCCRgUQGDcjBtxlYXrA6deqkDRs26N1339WXX36p%2Bvp63XHHHRo9erRCQ0ON7H///v1eaxUVFZ53jzp16qSKiopG22NjYxUeHq7g4GBVVFSoe/fukqTa2lpVVVUpMjKyyTOkp6crNTXVa81ub6vKyjO/5pR%2Bkr/9dGL6/KXzGYSFhejUqRrV1TW%2B9NwakAEZSGQgkUEDcvDOwFclyyef5B4SEqLbbrutWfYdHx%2BvZcuW6ezZs553rYqLizVw4EDP9uLiYs/X19TUaO/evZo%2BfboCAgLUt29fFRcXKykpSZJUUlIiu92u3r17N3mGqKioRpcDHY7Tqq1tnd/oDZrz/Ovq6lt9vmRABhIZSGTQgBzk04JpecGaOHHiv91%2BoX%2BLcNCgQercubOys7M1bdo0/e1vf9OuXbs8nyA/duxYrVixQsuWLVNKSooKCwvVrVs3T6EaP368cnJy1LNnT0VFRWnu3LkaN27cL7pECAAAWjfLC1bXrl29ntfW1uqbb77R119/rUmTJl3w/gMDA7V48WLNmTNHt9xyiy6//HIVFhaqS5cukqRu3brpueee0%2BOPP67CwkIlJCSosLDQ87ERo0aN0rFjx5STkyOXy6Vhw4Zp5syZFzwXAABoPWzuho8w97HCwkKdOHFC8%2BfP9/UozcLhOG18n3Z7gIYu3GR8v83lg/uvM75Puz1AERHtVFl5ptW%2BFU4GZCCRgUQGDcjBO4Pm/AWrf%2BeiuUt69OjR%2BuCDD3w9BgAAwAW7aArW559//os%2BaBQAAOBidVHc5F5dXa2vvvrqJz%2BdHQAAwJ9YXrC6dOni9XcIJemSSy7RhAkTdNNNN1k9DgAAgHGWFywTn9YOAABwMbO8YG3fvr3JX3v11Vc34yQAAADNw/KCdeedd3ouEf7rJ0T8cM1ms%2BnLL7%2B0ejwAAIALZnnBWrp0qXJzczVz5kwNGjRIQUFB2r17tx577DGNGTNGI0eOtHokAAAAoyz/mIa8vDzl5ORo%2BPDhioiIULt27XTNNdfoscce09q1a9W1a1fPAwAAwB9ZXrDKy8t/tDyFhoaqsrLS6nEAAACMs7xg9e/fX0899ZSqq6s9a1VVVcrPz9e1115r9TgAAADGWX4P1iOPPKKJEyfqhhtuUHR0tNxutw4dOqTIyEitWrXK6nEAAACMs7xgde/eXe%2B//77effddlZWVSZJ%2B//vfa9SoUQoJCbF6HAAAAOMsL1iSdNlll%2Bm2227T0aNH9Zvf/EbS%2BU9zBwAAaAksvwfL7XZr4cKFuvrqq5WWlqYTJ05o1qxZmjNnjs6dO2f1OAAAAMZZXrBWr16tt956S3/6058UFBQkSRoyZIg%2B/PBDFRQUWD0OAACAcZYXrKKiIuXk5OiWW27xfHr7yJEjlZubq3feecfqcQAAAIyzvGAdPXpUsbGxjdZ79%2B4th8Nh9TgAAADGWV6wunbtqt27dzda/%2BSTTzw3vAMAAPgzy3%2BL8K677tK8efPkcDjkdrv12WefqaioSKtXr9bDDz9s9TgAAADGWV6wxo4dq9raWi1ZskRnz55VTk6O2rdvr/vvv1933HGH1eMAAAAYZ3nBevfddzVixAilp6frn//8p9xutzp06GD1GAAAAM3G8nuwHnvsMc/N7O3bt6dcAQCAFsfyghUdHa2vv/7a6sMCAABYxvJLhL1799aDDz6o5cuXKzo6WsHBwV7b8/LyrB4JAADAKMsL1sGDBzVw4EBJ4nOvAABAi2RJwVqwYIGmT5%2Butm3bavXq1VYcEgAAwGcsuQfrpZdeUk1Njdfavffeq/LycisODwAAYClLCpbb7W60tn37djmdTisODwAAYCnLf4vQCm%2B88YZ69erV6NG7d29JUm5ubqNta9as8bz%2B008/VVpamuLj4zVx4kQdOXLEV6cCAAD8kOU3uVth5MiRSk5O9jyvra3VpEmTNHjwYElSWVmZsrKyNGbMGM/XhIaGSpKOHz%2BujIwMzZgxQ8nJySosLNS0adP09ttvy2azWXoeAADAP1n2DpaV5aRNmzaKjIz0PN5%2B%2B2253W49%2BOCDks4XrKuuusrra0JCQiRJ69atU58%2BfTR16lT16NFDeXl5OnbsmLZt22bZ/AAAwL9Z9g5Wbm6u12denTt3Tvn5%2BWrXrp3X15n%2BHKyqqiq98MILys3NVVBQkKqrq3Xy5ElFR0f/6Nfv3LlTiYmJnuchISGKi4tTSUmJkpKSjM4GAABaJksK1tVXX93oM68SEhJUWVmpysrKZj322rVrFRUVpREjRkg6/%2B6VzWbT0qVL9cknnyg8PFxTpkzxXC50OByKiory2keHDh104sSJZp0TAAC0HJYULF999pXb7da6det09913e9YOHDggm82mmJgYTZgwQdu3b9ejjz6q0NBQDR06VDU1NQoKCvLaT1BQkFwuV5OPW15e3qhQ2u1tGxW3CxUY6F%2B/o2C3m5%2B3IQN/y8IkMiADiQwkMmhADhdHBi3yJvcGu3fv1smTJzVq1CjP2s0336yUlBSFh4dLOv%2Bnew4dOqS1a9dq6NChCg4OblSmXC6XwsLCmnzcoqIiFRQUeK1lZGQoMzPzAs7G/0VEtPv5L/qVwsJCmm3f/oIMyEAiA4kMGpCDbzNo0QVr06ZNSkxM1GWXXeZZs9lsnnLVICYmRlu2bJEkderUSRUVFV7bKyoqFBsb2%2BTjpqenKzU11WvNbm%2Brysozv/QU/i1/%2B%2BnE9PlL5zMICwvRqVM1qqurN75/f0AGZCCRgUQGDcjBOwNflawWXbB27dqlAQMGeK0tWrRIn3/%2BuV5%2B%2BWXP2r59%2BxQTEyNJio%2BPV3FxsWdbTU2N9u7dq%2BnTpzf5uFFRUY0uBzocp1Vb2zq/0Rs05/nX1dW3%2BnzJgAwkMpDIoAE5yKcF07/eAvmFSktLdeWVV3qtpaSkaPv27VqxYoUOHz6sV199VRs2bNDUqVMlSWPHjtWOHTu0bNkylZaWKjs7W926deM3CAEAQJO16IJVUVHR6N6pfv36adGiRXrrrbeUlpam1atX68knn1RCQoIkqVu3bnruuee0fv163XrrraqqqlJhYSEfMgoAAJqsxV8i/DFDhgzRkCFDfvJ1N954o2688cbmGgsAALRwLfodLAAAAF%2BgYAEAABhGwQIAADCMggUAAGAYBQsAAMAwChYAAIBhFCwAAADDKFgAAACGUbAAAAAMo2ABAAAYRsECAAAwjIIFAABgGAULAADAMAoWAACAYRQsAAAAwyhYAAAAhlGwAAAADKNgAQAAGEbBAgAAMIyCBQAAYBgFCwAAwDAKFgAAgGEULAAAAMMoWAAAAIZRsAAAAAyjYAEAABhGwQIAADCMggUAAGAYBQsAAMCwFluw/vrXv6pXr15ej8zMTEnSkSNtDz4mAAASl0lEQVRHNHnyZPXv318jR47U5s2bvV776aefKi0tTfHx8Zo4caKOHDnii1MAAAB%2BqsUWrP379yslJUWbN2/2PHJzc%2BV2u5WRkaGOHTtq/fr1Gj16tKZPn67jx49Lko4fP66MjAzdcsstev3119W%2BfXtNmzZNbrfbx2cEAAD8hd3XAzSXsrIy9ezZU5GRkV7rn332mY4cOaLXXntNbdu2Vffu3fXZZ59p/fr1mjFjhtatW6c%2Bffpo6tSpkqS8vDxdd9112rZtm5KSknxxKgAAwM%2B02HewysrKFB0d3Wh9586duuqqq9S2bVvP2sCBA1VSUuLZnpiY6NkWEhKiuLg4z3YAAICf0yLfwXK73Tp48KA2b96s559/XnV1dRoxYoQyMzPlcDgUFRXl9fUdOnTQiRMnJOlntzdFeXm5HA6H15rd3rbRfi9UYKB/9WO73fy8DRn4WxYmkQEZSGQgkUEDcrg4MmiRBev48eOqqalRUFCQnnnmGR09elS5ubk6e/asZ/1fBQUFyeVySdLPbm%2BKoqIiFRQUeK1lZGR4brJvrSIi2jXbvsPCQppt3/6CDMhAIgOJDBqQg28zaJEFq2vXrtq6dasuu%2Bwy2Ww2xcbGqr6%2BXjNnztSYMWNUU1Pj9fUul0tt2rSRJAUHBzcqUy6XS2FhYU0%2Bfnp6ulJTU73W7Pa2qqw88yvP6Mf5208nps9fOp9BWFiITp2qUV1dvfH9%2BwMyIAOJDCQyaEAO3hn4qmS1yIIlSeHh4V7Pu3fvLqfTqcjISB04cMBrW0VFhefyXadOnVRRUdFoe2xsbJOPHRUV1ehyoMNxWrW1rfMbvUFznn9dXX2rz5cMyEAiA4kMGpCDfFow/estkCbatGmTkpKSvN6p%2BvLLLxUeHq6BAwfqiy%2B%2B0NmzZz3biouLFR8fL0mKj49XcXGxZ1tNTY327t3r2Q4AAPBzWmTBSkhIUHBwsB555BEdOHBAH3/8sRYsWKC7775bgwYNUufOnZWdna3S0lItW7ZMu3bt0q233ipJGjt2rHbs2KFly5aptLRU2dnZ6tatGx/RAAAAmqxFFqzQ0FCtWLFC//znPzV27FjNmTNH6enpuvvuuxUYGKjFixfL4XDolltu0dtvv63CwkJ16dJFktStWzc999xzWr9%2BvW699VZVVVWpsLBQNpvNx2cFAAD8RYu9B6tHjx566aWXfnTb5ZdfrjVr1vzka2%2B88UbdeOONzTUaAABo4VrkO1gAAAC%2BRMECAAAwjIIFAABgGAULAADAMAoWAACAYRQsAAAAwyhYAAAAhlGwAAAADKNgAQAAGEbBAgAAMIyCBQAAYBgFCwAAwDAKFgAAgGEULAAAAMMoWAAAAIZRsAAAAAyjYAEAABhGwQIAADCMggUAAGAYBQsAAMAwChYAAIBhFCwAAADDKFgAAACGUbAAAAAMo2ABAAAYRsECAAAwjIIFAABgGAULAADAMAoWAACAYS22YJ08eVKZmZkaNGiQkpOTlZeXJ6fTKUnKzc1Vr169vB5r1qzxvPbTTz9VWlqa4uPjNXHiRB05csRXpwEAAPyQ3dcDNAe3263MzEyFhYXplVde0XfffafZs2crICBAs2bNUllZmbKysjRmzBjPa0JDQyVJx48fV0ZGhmbMmKHk5GQVFhZq2rRpevvtt2Wz2Xx1SgAAwI%2B0yHewDhw4oJKSEuXl5alHjx5KTExUZmam3n33XUlSWVmZrrrqKkVGRnoeISEhkqR169apT58%2Bmjp1qnr06KG8vDwdO3ZM27Zt8%2BUpAQAAP9IiC1ZkZKSWL1%2Bujh07eq1XV1erurpaJ0%2BeVHR09I%2B%2BdufOnUpMTPQ8DwkJUVxcnEpKSppzZAAA0IK0yEuEYWFhSk5O9jyvr6/XmjVrdM0116isrEw2m01Lly7VJ598ovDwcE2ZMsVzudDhcCgqKsprfx06dNCJEyeafPzy8nI5HA6vNbu9baP9XqjAQP/qx3a7%2BXkbMvC3LEwiAzKQyEAigwbkcHFk0CIL1g/l5%2Bdr7969ev311/XFF1/IZrMpJiZGEyZM0Pbt2/Xoo48qNDRUQ4cOVU1NjYKCgrxeHxQUJJfL1eTjFRUVqaCgwGstIyNDmZmZRs7HX0VEtGu2fYeFhTTbvv0FGZCBRAYSGTQgB99m0OILVn5%2BvlauXKmnn35aPXv2VI8ePZSSkqLw8HBJUu/evXXo0CGtXbtWQ4cOVXBwcKMy5XK5FBYW1uRjpqenKzU11WvNbm%2BrysozF35C/8Lffjoxff7S%2BQzCwkJ06lSN6urqje/fH5ABGUhkIJFBA3LwzsBXJatFF6z58%2Bdr7dq1ys/P1/DhwyVJNpvNU64axMTEaMuWLZKkTp06qaKiwmt7RUWFYmNjm3zcqKioRpcDHY7Tqq1tnd/oDZrz/Ovq6lt9vmRABhIZSGTQgBzk04LpX2%2BB/AIFBQV67bXX9NRTT2nUqFGe9UWLFmny5MleX7tv3z7FxMRIkuLj41VcXOzZVlNTo7179yo%2BPt6SuQEAgP9rkQWrrKxMixcv1j333KOBAwfK4XB4HikpKdq%2BfbtWrFihw4cP69VXX9WGDRs0depUSdLYsWO1Y8cOLVu2TKWlpcrOzla3bt2UlJTk47MCAAD%2BokVeIvzoo49UV1enJUuWaMmSJV7bvvrqKy1atEjPPvusFi1apK5du%2BrJJ59UQkKCJKlbt2567rnn9Pjjj6uwsFAJCQkqLCzkQ0YBAECT2dxut9vXQ7QGDsdp4/u02wM0dOEm4/ttLh/cf53xfdrtAYqIaKfKyjOt9l4DMiADiQwkMmhADt4ZNOdvsP87LfISIQAAgC9RsAAAAAyjYAEAABhGwQIAADCMggUAAGAYBQsAAMAwChYAAIBhFCwAAADDKFgAAACGUbAAAAAMo2ABAAAYRsECAAAwjIIFAABgGAULAADAMAoWAACAYRQsAAAAwyhYAAAAhlGwAAAADKNgAQAAGGb39QBoPf7PM//r6xF%2BkQ/uv87XIwAA/BTvYAEAABhGwQIAADCMggUAAGAYBQsAAMAwChYAAIBhFCwAAADDKFgAAACGUbAAAAAMo2ABAAAYRsH6EU6nU7Nnz1ZiYqKuv/56vfjii74eCQAA%2BBH%2BVM6PWLBggfbs2aOVK1fq%2BPHjmjVrlrp06aIRI0b4ejRYyN/%2BtM9fH0z29QgAgP%2BLgvUD33//vdatW6cXXnhBcXFxiouLU2lpqV555RUKFi5qQxdu8vUITcbfeQTQ0nGJ8Af27dun2tpaJSQkeNYGDhyonTt3qr6%2B3oeTAQAAf8E7WD/gcDgUERGhoKAgz1rHjh3ldDpVVVWl9u3b/%2Bw%2BysvL5XA4vNbs9raKiooyOmtgIP0Y/onLr%2BY1/HvQmv9dIIPzyOHiyICC9QM1NTVe5UqS57nL5WrSPoqKilRQUOC1Nn36dM2YMcPMkP9XeXm5Jv1/pUpPTzde3vxFeXm5ioqKyIAMyKC8XCtXLieDVp6BRA6SdwZhYSE%2BmaH11tufEBwc3KhINTxv06ZNk/aRnp6uN954w%2BuRnp5ufFaHw6GCgoJG75a1JmRABhIZSGQgkUEDcrg4MuAdrB/o1KmTKisrVVtbK7v9fDwOh0Nt2rRRWFhYk/YRFRXVan9qAAAAvIPVSGxsrOx2u0pKSjxrxcXF6tu3rwICiAsAAPw8GsMPhISE6Oabb9bcuXO1a9cuffjhh3rxxRc1ceJEX48GAAD8RODcuXPn%2BnqIi80111yjvXv36sknn9Rnn32mP/zhDxo7dqyvx/pR7dq106BBg9SuXTtfj%2BIzZEAGEhlIZCCRQQNy8H0GNrfb7fbJkQEAAFooLhECAAAYRsECAAAwjIIFAABgGAULAADAMAoWAACAYRQsAAAAwyhYAAAAhlGwAAAADKNg%2BSmn06nZs2crMTFR119/vV588UVfj%2BQzLpdLaWlp2rp1q69HsdzJkyeVmZmpQYMGKTk5WXl5eXI6nb4ey1LffPON7rrrLiUkJGjw4MFavny5r0fyqXvvvVcPP/ywZcf761//ql69enk9MjMzLTs%2B/h%2BXy6V58%2Bbp6quv1n/8x3/oqaeeUmv6LPE33nij0fdir1691Lt3b5/MY/fJUXHBFixYoD179mjlypU6fvy4Zs2apS5dumjEiBG%2BHs1STqdTWVlZKi0t9fUolnO73crMzFRYWJheeeUVfffdd5o9e7YCAgI0a9YsX49nifr6et17773q27ev3nzzTX3zzTd64IEH1KlTJ/3ud7/z9XiWe%2B%2B99/Txxx9rzJgxlh1z//79SklJ0fz58z1rwcHBlh0f/09ubq62bt2qFStW6MyZM/rjH/%2BoLl266Pbbb/f1aJYYOXKkkpOTPc9ra2s1adIkDR482CfzULD80Pfff69169bphRdeUFxcnOLi4lRaWqpXXnmlVRWs/fv3Kysrq1X9hPavDhw4oJKSEv3v//6vOnbsKEnKzMzUn//851ZTsCoqKhQbG6u5c%2BcqNDRU0dHRuvbaa1VcXNzqClZVVZUWLFigvn37WnrcsrIy9ezZU5GRkZYeF96qqqq0fv16vfTSS%2BrXr58kaerUqdq5c2erKVht2rRRmzZtPM%2Bff/55ud1uPfjggz6Zh0uEfmjfvn2qra1VQkKCZ23gwIHauXOn6uvrfTiZtbZt26akpCQVFRX5ehSfiIyM1PLlyz3lqkF1dbWPJrJeVFSUnnnmGYWGhsrtdqu4uFjbt2/XoEGDfD2a5f785z9r9OjRuvLKKy09bllZmaKjoy09JhorLi5WaGio1/f%2Bvffeq7y8PB9O5TtVVVV64YUXlJWVpaCgIJ/MQMHyQw6HQxEREV7fNB07dpTT6VRVVZUPJ7PW%2BPHjNXv2bIWEhPh6FJ8ICwvzeju8vr5ea9as0TXXXOPDqXwnNTVV48ePV0JCgoYPH%2B7rcSz12Wef6e9//7umTZtm6XHdbrcOHjyozZs3a/jw4RoyZIgWLlwol8tl6RyQjhw5oq5du2rDhg0aMWKEfvvb36qwsLBV/dD9r9auXauoqCifXtWhYPmhmpqaRo284Tn/sLVe%2Bfn52rt3r/74xz/6ehSfePbZZ7V06VJ9%2BeWXreqndqfTqT/96U/KycnxujxihePHj3v%2BPXrmmWc0a9YsvfPOO1qwYIGlc%2BD8rSPffPONXnvtNeXl5WnWrFlavXq1Xn75ZV%2BPZjm3261169ZpwoQJPp2De7D8UHBwcKMi1fDc6n9gcXHIz8/XypUr9fTTT6tnz56%2BHscnGu49cjqdevDBB/XQQw/57NKAlQoKCtSnTx%2BvdzOt0rVrV23dulWXXXaZbDabYmNjVV9fr5kzZyo7O1uBgYGWz9Ra2e12VVdX68knn1TXrl0lnS/Aa9eu1dSpU308nbV2796tkydPatSoUT6dg4Llhzp16qTKykrV1tbKbj//n9DhcKhNmzYKCwvz8XSw2vz587V27Vrl5%2Be3uktjFRUVKikp0ZAhQzxrV155pc6dO6fq6mq1b9/eh9NZ47333lNFRYXnnsyGH7Y2btyozz//vNmPHx4e7vW8e/fucjqd%2Bu6771pF/heLyMhIBQcHe8qVJF1xxRX6xz/%2B4cOpfGPTpk1KTEzUZZdd5tM5uEToh2JjY2W321VSUuJZKy4uVt%2B%2BfRUQwH/S1qSgoECvvfaannrqKZ//tOYLR48e1fTp03Xy5EnP2p49e9S%2BfftW8z/31atX65133tGGDRu0YcMGpaamKjU1VRs2bGj2Y2/atElJSUmqqanxrH355ZcKDw9vNflfLOLj4%2BV0OnXw4EHP2oEDB7wKV2uxa9cuDRgwwNdjULD8UUhIiG6%2B%2BWbNnTtXu3bt0ocffqgXX3xREydO9PVosFBZWZkWL16se%2B65RwMHDpTD4fA8Wou%2BffsqLi5Os2fP1v79%2B/Xxxx8rPz9ff/jDH3w9mmW6du2qyy%2B/3PNo166d2rVrp8svv7zZj52QkKDg4GA98sgjOnDggD7%2B%2BGMtWLBAd999d7MfG95iYmI0ePBgZWdna9%2B%2Bfdq0aZOWLVumO%2B64w9ejWa60tNTy36b9MVwi9FPZ2dmaO3euJk2apNDQUM2YMUPDhg3z9Viw0EcffaS6ujotWbJES5Ys8dr21Vdf%2BWgqawUGBmrx4sWaP3%2B%2B0tPTFRISojvvvJMfNiwSGhqqFStW6PHHH9fYsWPVrl073X777RQsH1m4cKHmz5%2BvO%2B64QyEhIfr973%2BvO%2B%2B809djWa6iouKiuF3G5m6tn9IIAADQTLhECAAAYBgFCwAAwDAKFgAAgGEULAAAAMMoWAAAAIZRsAAAAAyjYAEAABhGwQIAADCMggUAAGAYBQsAAMAwChYAAIBhFCwAAADDKFgAAACG/f8wHv4nuU5FTAAAAABJRU5ErkJggg%3D%3D\"/>\n",
       "        </div>\n",
       "        <div role=\"tabpanel\" class=\"tab-pane col-md-12\" id=\"common-1152212993672668814\">\n",
       "            \n",
       "<table class=\"freq table table-hover\">\n",
       "    <thead>\n",
       "    <tr>\n",
       "        <td class=\"fillremaining\">Value</td>\n",
       "        <td class=\"number\">Count</td>\n",
       "        <td class=\"number\">Frequency (%)</td>\n",
       "        <td style=\"min-width:200px\">&nbsp;</td>\n",
       "    </tr>\n",
       "    </thead>\n",
       "    <tr class=\"\">\n",
       "        <td class=\"fillremaining\">0.0</td>\n",
       "        <td class=\"number\">874</td>\n",
       "        <td class=\"number\">43.2%</td>\n",
       "        <td>\n",
       "            <div class=\"bar\" style=\"width:100%\">&nbsp;</div>\n",
       "        </td>\n",
       "</tr><tr class=\"\">\n",
       "        <td class=\"fillremaining\">0.02</td>\n",
       "        <td class=\"number\">113</td>\n",
       "        <td class=\"number\">5.6%</td>\n",
       "        <td>\n",
       "            <div class=\"bar\" style=\"width:13%\">&nbsp;</div>\n",
       "        </td>\n",
       "</tr><tr class=\"\">\n",
       "        <td class=\"fillremaining\">0.01</td>\n",
       "        <td class=\"number\">100</td>\n",
       "        <td class=\"number\">4.9%</td>\n",
       "        <td>\n",
       "            <div class=\"bar\" style=\"width:12%\">&nbsp;</div>\n",
       "        </td>\n",
       "</tr><tr class=\"\">\n",
       "        <td class=\"fillremaining\">0.03</td>\n",
       "        <td class=\"number\">77</td>\n",
       "        <td class=\"number\">3.8%</td>\n",
       "        <td>\n",
       "            <div class=\"bar\" style=\"width:9%\">&nbsp;</div>\n",
       "        </td>\n",
       "</tr><tr class=\"\">\n",
       "        <td class=\"fillremaining\">0.05</td>\n",
       "        <td class=\"number\">58</td>\n",
       "        <td class=\"number\">2.9%</td>\n",
       "        <td>\n",
       "            <div class=\"bar\" style=\"width:7%\">&nbsp;</div>\n",
       "        </td>\n",
       "</tr><tr class=\"\">\n",
       "        <td class=\"fillremaining\">0.06</td>\n",
       "        <td class=\"number\">58</td>\n",
       "        <td class=\"number\">2.9%</td>\n",
       "        <td>\n",
       "            <div class=\"bar\" style=\"width:7%\">&nbsp;</div>\n",
       "        </td>\n",
       "</tr><tr class=\"\">\n",
       "        <td class=\"fillremaining\">0.04</td>\n",
       "        <td class=\"number\">43</td>\n",
       "        <td class=\"number\">2.1%</td>\n",
       "        <td>\n",
       "            <div class=\"bar\" style=\"width:5%\">&nbsp;</div>\n",
       "        </td>\n",
       "</tr><tr class=\"\">\n",
       "        <td class=\"fillremaining\">0.07</td>\n",
       "        <td class=\"number\">40</td>\n",
       "        <td class=\"number\">2.0%</td>\n",
       "        <td>\n",
       "            <div class=\"bar\" style=\"width:5%\">&nbsp;</div>\n",
       "        </td>\n",
       "</tr><tr class=\"\">\n",
       "        <td class=\"fillremaining\">0.1</td>\n",
       "        <td class=\"number\">32</td>\n",
       "        <td class=\"number\">1.6%</td>\n",
       "        <td>\n",
       "            <div class=\"bar\" style=\"width:4%\">&nbsp;</div>\n",
       "        </td>\n",
       "</tr><tr class=\"\">\n",
       "        <td class=\"fillremaining\">0.08</td>\n",
       "        <td class=\"number\">30</td>\n",
       "        <td class=\"number\">1.5%</td>\n",
       "        <td>\n",
       "            <div class=\"bar\" style=\"width:4%\">&nbsp;</div>\n",
       "        </td>\n",
       "</tr><tr class=\"other\">\n",
       "        <td class=\"fillremaining\">Other values (150)</td>\n",
       "        <td class=\"number\">596</td>\n",
       "        <td class=\"number\">29.5%</td>\n",
       "        <td>\n",
       "            <div class=\"bar\" style=\"width:68%\">&nbsp;</div>\n",
       "        </td>\n",
       "</tr>\n",
       "</table>\n",
       "        </div>\n",
       "        <div role=\"tabpanel\" class=\"tab-pane col-md-12\"  id=\"extreme-1152212993672668814\">\n",
       "            <p class=\"h4\">Minimum 5 values</p>\n",
       "            \n",
       "<table class=\"freq table table-hover\">\n",
       "    <thead>\n",
       "    <tr>\n",
       "        <td class=\"fillremaining\">Value</td>\n",
       "        <td class=\"number\">Count</td>\n",
       "        <td class=\"number\">Frequency (%)</td>\n",
       "        <td style=\"min-width:200px\">&nbsp;</td>\n",
       "    </tr>\n",
       "    </thead>\n",
       "    <tr class=\"\">\n",
       "        <td class=\"fillremaining\">0.0</td>\n",
       "        <td class=\"number\">874</td>\n",
       "        <td class=\"number\">43.2%</td>\n",
       "        <td>\n",
       "            <div class=\"bar\" style=\"width:100%\">&nbsp;</div>\n",
       "        </td>\n",
       "</tr><tr class=\"\">\n",
       "        <td class=\"fillremaining\">0.01</td>\n",
       "        <td class=\"number\">100</td>\n",
       "        <td class=\"number\">4.9%</td>\n",
       "        <td>\n",
       "            <div class=\"bar\" style=\"width:12%\">&nbsp;</div>\n",
       "        </td>\n",
       "</tr><tr class=\"\">\n",
       "        <td class=\"fillremaining\">0.02</td>\n",
       "        <td class=\"number\">113</td>\n",
       "        <td class=\"number\">5.6%</td>\n",
       "        <td>\n",
       "            <div class=\"bar\" style=\"width:13%\">&nbsp;</div>\n",
       "        </td>\n",
       "</tr><tr class=\"\">\n",
       "        <td class=\"fillremaining\">0.03</td>\n",
       "        <td class=\"number\">77</td>\n",
       "        <td class=\"number\">3.8%</td>\n",
       "        <td>\n",
       "            <div class=\"bar\" style=\"width:9%\">&nbsp;</div>\n",
       "        </td>\n",
       "</tr><tr class=\"\">\n",
       "        <td class=\"fillremaining\">0.04</td>\n",
       "        <td class=\"number\">43</td>\n",
       "        <td class=\"number\">2.1%</td>\n",
       "        <td>\n",
       "            <div class=\"bar\" style=\"width:5%\">&nbsp;</div>\n",
       "        </td>\n",
       "</tr>\n",
       "</table>\n",
       "            <p class=\"h4\">Maximum 5 values</p>\n",
       "            \n",
       "<table class=\"freq table table-hover\">\n",
       "    <thead>\n",
       "    <tr>\n",
       "        <td class=\"fillremaining\">Value</td>\n",
       "        <td class=\"number\">Count</td>\n",
       "        <td class=\"number\">Frequency (%)</td>\n",
       "        <td style=\"min-width:200px\">&nbsp;</td>\n",
       "    </tr>\n",
       "    </thead>\n",
       "    <tr class=\"\">\n",
       "        <td class=\"fillremaining\">3.46</td>\n",
       "        <td class=\"number\">1</td>\n",
       "        <td class=\"number\">0.0%</td>\n",
       "        <td>\n",
       "            <div class=\"bar\" style=\"width:100%\">&nbsp;</div>\n",
       "        </td>\n",
       "</tr><tr class=\"\">\n",
       "        <td class=\"fillremaining\">4.0</td>\n",
       "        <td class=\"number\">1</td>\n",
       "        <td class=\"number\">0.0%</td>\n",
       "        <td>\n",
       "            <div class=\"bar\" style=\"width:100%\">&nbsp;</div>\n",
       "        </td>\n",
       "</tr><tr class=\"\">\n",
       "        <td class=\"fillremaining\">5.04</td>\n",
       "        <td class=\"number\">1</td>\n",
       "        <td class=\"number\">0.0%</td>\n",
       "        <td>\n",
       "            <div class=\"bar\" style=\"width:100%\">&nbsp;</div>\n",
       "        </td>\n",
       "</tr><tr class=\"\">\n",
       "        <td class=\"fillremaining\">6.25</td>\n",
       "        <td class=\"number\">1</td>\n",
       "        <td class=\"number\">0.0%</td>\n",
       "        <td>\n",
       "            <div class=\"bar\" style=\"width:100%\">&nbsp;</div>\n",
       "        </td>\n",
       "</tr><tr class=\"\">\n",
       "        <td class=\"fillremaining\">6.7</td>\n",
       "        <td class=\"number\">1</td>\n",
       "        <td class=\"number\">0.0%</td>\n",
       "        <td>\n",
       "            <div class=\"bar\" style=\"width:100%\">&nbsp;</div>\n",
       "        </td>\n",
       "</tr>\n",
       "</table>\n",
       "        </div>\n",
       "    </div>\n",
       "</div>\n",
       "</div>\n",
       "    <div class=\"row headerrow highlight\">\n",
       "        <h1>Correlations</h1>\n",
       "    </div>\n",
       "    <div class=\"row variablerow\">\n",
       "    <img src=\"data:image/png;base64,iVBORw0KGgoAAAANSUhEUgAAAkoAAAH/CAYAAACozPLCAAAABHNCSVQICAgIfAhkiAAAAAlwSFlzAAAPYQAAD2EBqD%2BnaQAAIABJREFUeJzt3XtUVWXi//HPUeSieOeiiI1SokSKCIlNNhpZaquLGupYio5mzijYd0otdSoszcZsNSrOlE463prIdLLMyZbWNDWVFijewq/iJbzBQbxzl/37w5/n6wm2ovsouOf9Wuus4NkXHp61ik%2BfZ3NwGIZhCAAAAJXUqekJAAAA1FYEJQAAABMEJQAAABMEJQAAABMEJQAAABMEJQAAABMEJQAAABMEJQAAABMEJQAAABNeNT0B4L/BoUOHdN9995ker1evnvz9/dWmTRv17NlTQ4cOlb%2B//w2cIQCgKg7%2BhAlw/V0alMLDwyuFoLKyMhUUFOjw4cOSpJCQEP3tb3/TL37xixs%2BVwDA/yEoATfApUFp6dKliouLq/K8TZs2aezYsTp79qyio6P13nvv3chpAgB%2BhmeUgFokLi5OzzzzjCRpy5Yt2rFjRw3PCAD%2BuxGUgFrm/vvvd32cmZlZgzMBAPAwN1DLNGzY0PXxuXPn3I59//33WrZsmTIyMnTy5Ek1atRInTt31rBhw3TXXXdVeb/Tp0/rvffe05dffqm9e/fq7Nmz8vPz0y233KJ7771XiYmJaty4sds17du3lyT95z//0WuvvaaNGzeqTp06ioyM1KJFi%2BTl5aXMzEwtXrxY6enpKigoUP369dW2bVv16tVLjz/%2BeJUPoxcXF%2Bu9997TunXrtHfvXpWVlSk4OFi//OUvNXLkSLVp08bt/E2bNikxMVFRUVFasWKFli1bpg8//FAHDx5UvXr1dPvttysxMVG9evW6lqUGgCsiKAG1zMGDB10ft2jRwvXx7NmztXDhQklS48aNFR4erry8PG3cuFEbN27U6NGjNWHCBLd7HThwQCNGjNDRo0fl5eWlW265Ra1atdLhw4e1c%2BdO7dy5U5988olWrVqlBg0aVJpLcnKytmzZovDwcBUUFCgwMFBeXl767LPP9Pvf/17l5eVq2rSp2rdvr3Pnzmnbtm3KzMzURx99pPfee88tLB07dky/%2Bc1vtG/fPklSmzZt1KBBA2VnZystLU0ffvihXnvtNT344IOV5lFWVqbRo0fr22%2B/VdOmTXXrrbdq//792rRpkzZt2qSUlBQNGTLE2sIDQFUMANddTk6OER4eboSHhxvffffdZc%2BdNGmSER4ebkRGRhpOp9MwDMP4%2B9//boSHhxuxsbHGmjVrXOdWVFQYn3zyidG5c2cjPDzceP/9993uNXToUCM8PNwYNGiQkZub63bdP/7xD6NDhw5GeHi4sXz5crfrLs71jjvuMDZv3mwYhmGcP3/eOHHihHH%2B/Hnj7rvvNsLDw42FCxca5eXlrut27NhhdOvWzQgPDzfefvtt13h5ebnx6KOPGuHh4Ubv3r2NH3/80XXszJkzxtSpU13f89atW13HvvvuO9dcOnfubHz00UeuY6dPnzaGDx9uhIeHG127djXKysouu64AcC14RgmoBYqLi7Vr1y699NJL%2BvDDDyVJI0aMUEBAgEpLSzVv3jxJ0quvvqpHHnnEdZ3D4dCDDz6oiRMnSpLmzZun8vJySVJ%2Bfr727NkjSXrllVcUFBTkdl2/fv3UtWtXSdLu3burnFffvn115513SpLq1KmjJk2aqKCgQE6nU5I0aNAg1a1b13V%2BZGSkfv/736tXr15q0qSJa/zTTz/Vjz/%2BKB8fHy1cuFAdOnRwHfP399f06dN1zz33qKysTG%2B%2B%2BWaVcxk/frwefvhh1%2BcNGzZ0fd8nT57U/v37TVYXAK4dW2/ADZaYmHjFcwYOHKinn35a0oXffsvPz1eDBg1M37TykUce0SuvvKLc3Fzt2rVLnTp1UkBAgL777jsVFxfL19e30jXnz593bY0VFxdXed%2BYmJhKY02bNlXjxo116tQpTZgwQb/73e8UFRWlOnUu/H/XoEGDNGjQILdrPv/8c0lSfHy8WrduXeXX%2Bs1vfqOvvvpKmzdv1pkzZ9ye1ZKke%2B%2B9t9I1t956q%2Bvj06dPV3lfALCCoATcYD9/w0mHwyEfHx81adJE7du3V69evXTbbbe5jl9shcrKyvTEE0%2BY3rdu3bqqqKjQvn371KlTJ9e4r6%2BvDh8%2BrO3bt%2Bunn35STk6OsrOz9eOPP6qwsFCSVFFRUeU9AwMDq/w6EyZM0AsvvKAvv/xSX375pRo3bqy4uDjdfffd6tmzp9uzVZJcbU9kZKTp/C8eO3/%2BvA4ePKg77rjD7XhwcHClay4NgOfPnze9NwBcK4IScIP94Q9/MH3DyaqcOXNGklRaWqqMjIwrnn9ps7Jv3z699NJL2rx5s9s5/v7%2Bio2NVV5enrKyskzvVVUTJV1ojX7xi19o8eLF%2Buabb3Tq1Cl99tln%2Buyzz%2BRwONSjRw9NmzbNFZjOnj0rSZVaop/P6aKf/7afdOHPvFyOwXvnArgOCEpALefn5yfpQuOyevXqal93/PhxDR06VMePH1dISIgGDRqk22%2B/XWFhYQoNDZXD4dCzzz572aB0OXFxcYqLi1NxcbF%2B%2BOEHff/99/rqq6%2B0c%2BdO/etf/9KYMWP04YcfyuFwuH6j7mLoq8qlAa%2Bq38ADgJpAUAJqubZt20q68Kv%2B5eXl8vKq/K%2BtYRjatGmTWrRooZCQEHl7e2vVqlU6fvy4mjRpolWrVqlZs2aVrsvNzb3q%2BZSWlionJ0dnz55VVFSUfH191b17d3Xv3l2///3v9cknn%2BiZZ55RVlaWdu/erQ4dOigsLEy7du3Szp07Te%2B7fft2SRe2Im%2B55ZarnhcAXA/81htQy915551q2LChzp07Z9ooffzxxxo%2BfLj69u2rY8eOSbrw9%2BWkC39gt6qQtHfvXm3dulXS1T3f8%2B9//1sPPvignnrqKZWWllY6/stf/tL18cX7XnwQ%2B/PPP1dOTk6V9126dKkkqXPnzmrUqFG15wMA1xNBCajl6tevr6eeekqSNGPGDK1atcrt4esNGzbopZdeknTh1/kvtjFhYWGSpKysLK1fv951vmEY%2Bve//60nn3xSZWVlkqSioqJqz%2BdXv/qVmjZtqpMnT%2Bq5557TyZMnXcfOnj2rP/7xj5Kkli1bql27dpKkPn36qH379iopKdHo0aPdtvvOnj2rF154QV9//bW8vLwqvWkmANQktt6Am8Do0aOVk5Oj999/X1OmTNHrr7%2Bu0NBQ5ebmKi8vT9KFX%2BWfMWOG65qEhAS9%2B%2B67OnjwoMaPH69WrVqpadOmOnr0qI4fP6569eqpa9eu2rx581VtwXl7e2vOnDkaNWqU1q1bp40bN%2BqWW25RnTp1lJOTo8LCQvn5%2Bem1116Tt7e3JMnLy0t//vOfNXr0aO3bt0%2BPPvqo2ztzX3wLg2nTpik2NtaziwcAFhCUgJuAw%2BHQK6%2B8ot69e%2Bu9997T1q1bXW/g2LlzZz300EMaPHiwK5hIF36L7IMPPtDChQv1xRdf6NChQ8rPz1eLFi3Us2dPDR8%2BXPXr11evXr2UlZWlI0eOKCQkpFrziYuL08qVK11/6%2B3AgQPy8vJSixYt1L17d40cObLSvUJDQ7Vq1Sr9/e9/16effqrs7GwdO3ZMLVu21D333KMnnnii0t96A4Ca5jD4nVoAAIAq8YwSAACACYISAACACYISAACoEaWlpXrooYe0adMm03N27dqlgQMHKioqSo899ph27Njhdnzt2rXq1auXoqKiNG7cOBUUFHh0jgQlAABww5WUlOiZZ55x/T3LqhQWFuqpp55SbGysVq9erejoaI0ZM8b1dyq3bdumqVOnKikpSWlpaTp9%2BrQmT57s0XkSlAAAwA21d%2B9eDRo0SD/99NNlz1u3bp18fHw0adIk3XrrrZo6daoaNGigTz/9VJK0fPly9e3bV/369VOHDh00a9Ysffnll6ZvbHstCEoAAOCG2rx5s%2BLi4pSWlnbZ8zIzMxUTEyOHwyHpwluldOnSxfVXBTIzM93ee61ly5YKCQlRZmamx%2BbK%2BygBAICrkpeXJ6fT6TYWGBiooKCgal3/%2BOOPV%2Bs8p9Op2267zW2sefPmru26vLy8Sl%2BzefPmrj/l5An2Ckr/P3ECsKhtW2nPHqldO2n//pqeDXDzq8m3LLwOPxvT5s5Vamqq21hSUpKSk5M9%2BnWKiorc3khXuvDXAS7%2Bncni4uLLHvcEewUlAJ7RpIlUt%2B6FfwLAzwwePFjx8fFuY4GBgR7/Oj4%2BPpVCT2lpqXx9fS973M/Pz2NzICgBAGBndTz/OHJQUFC1t9msCA4OVn5%2BvttYfn6%2B62ubHfdkaONhbgAAUCtFRUVpy5YtuvjX1gzDUEZGhqKiolzH09PTXecfPXpUR48edR33BIISAAB2VqeO51/XkdPpVHFxsSSpT58%2BOn36tGbMmKG9e/dqxowZKioqUt%2B%2BfSVJQ4YM0Zo1a7Ry5UplZWVp0qRJ6tmzp1q3bu2x%2BRCUAABArdG9e3etW7dOkuTv76%2B3335b6enpGjBggDIzM7VgwQLVr19fkhQdHa2XX35Z8%2BfP15AhQ9S4cWPNnDnTo/NxGEZNPorvYfzWG%2BAZ0dFSRobUpYu0ZUtNzwa4%2BdXkj1ofH8/fs6TE8/espXiYGwAAO7vOW2V2x%2BoBAACYoFECAMDOaJQsYfUAAABM0CgBAGBnNEqWEJQAALAzgpIlrB4AAIAJGiUAAOyMRskSVg8AAMAEjRIAAHZGo2QJQQkAADsjKFnC6gEAAJigUQIAwM5olCxh9QAAAEzQKAEAYGc0SpYQlAAAsDOCkiWsHgAAgAkaJQAA7IxGyRKCEgAAdkZQsoTVAwAAMEGjBACAndEoWcLqAQAAmKBRAgDAzmiULCEoAQBgZwQlS1g9AAAAEzRKAADYGY2SJaweAACACRolAADsjEbJEoISAAB2RlCyhNUDAAAwQaMEAICd0ShZwuoBAACYoFECAMDOaJQsISgBAGBnBCVLWD0AAAATNEoAANgZjZIlrB4AAIAJGiUAAOyMRskSghIAAHZGULKE1QMAADBBowQAgJ3RKFlCUAIAADdUSUmJpk2bps8%2B%2B0y%2Bvr4aOXKkRo4cWem8YcOGafPmzZXGBwwYoJkzZ0qSYmNjdebMGbfjGRkZatCggUfmSlACAMDOamGjNGvWLO3YsUNLlizRkSNH9NxzzykkJER9%2BvRxO2/evHkqKytzfZ6Zman/%2BZ//0eOPPy5Jys3N1ZkzZ7Rhwwb5%2Bvq6zqtfv77H5kpQAgDAzmpZUCosLNTKlSu1cOFCRUZGKjIyUnv27NGKFSsqBaUmTZq4Pj5//rzefPNNPfnkk%2BrYsaMkKTs7W4GBgWrduvV1m2/tWj0AAGBrWVlZKi8vV3R0tGssJiZGmZmZqqioML1u9erVOnXqlEaPHu0a27t3r9q2bXtd50ujBACAnV2HRikvL09Op9NtLDAwUEFBQVe81ul0qmnTpvL29naNBQQEqKSkRCdPnlSzZs0qXWMYhv76178qMTHR7dmj7OxsFRUVadiwYdq/f78iIiI0ZcoUj4YnghIAALgqaWlpSk1NdRtLSkpScnLyFa8tKipyC0mSXJ%2BXlpZWec2mTZt07NgxDRo0yG183759OnXqlJ555hn5%2B/tr4cKFGjFihD755BP5%2B/tfzbdkiqAEAICdXYdGafDgwYqPj3cbCwwMrNa1Pj4%2BlQLRxc8vfSD7UuvXr9evfvUrt2eWJOmdd95RWVmZq2WaPXu2evTooS%2B%2B%2BEIPP/xwteZzJQQlAADs7DoEpaCgoGpts1UlODhYJ06cUHl5uby8LsQQp9MpX19fNWrUqMprvvrqKyUlJVUa9/b2dmunfHx8FBoaqtzc3GuaW1V4mBsAANwwERER8vLy0tatW11j6enp6tixo%2BpUEeoKCgqUk5OjmJgYt3HDMNSrVy%2BtXr3aNVZYWKiDBw8qLCzMY/OlUQIAwM5q2dsD%2BPn5qV%2B/fkpJSdGrr76qvLw8LVq0yPUGkk6nUw0bNnRtw%2B3Zs8fVFF3K4XCoZ8%2Bemjdvnlq1aqVmzZppzpw5atGihXr06OGx%2Bdau1QMAALY3efJkRUZGavjw4Zo2bZqSk5P1wAMPSJK6d%2B%2BudevWuc49fvy4GjVqJIfDUek%2BEydOVO/evfXss89q4MCBKi8v14IFC1S3bl2PzdVhGIbhsbvVtCoWEcA1iI6WMjKkLl2kLVtqejbAza8mf9T27u35e65f7/l71lJsvQEAYGe1bOvtZsPqAQAAmKBRAgDAzmiULGH1AAAATNAoAQBgZzRKlhCUAACwM4KSJaweAACACRolAADsjEbJEoISAAB2RlCyhNUDAAAwQaMEAICd0ShZwuoBAACYoFECAMDOaJQsISgBAGBnBCVLWD0AAAATNEoAANgZjZIlrB4AAIAJGiUAAOyMRskSghIAAHZGULKE1QMAADBBowQAgJ3RKFnC6gEAAJigUQIAwM5olCwhKAEAYGcEJUtYPQAAABM0SgAA2BmNkiWsHgAAgAkaJQAA7IxGyRKCEgAAdkZQsoTVAwAAMEGjBACAndEoWcLqAQAAmKBRAgDAzmiULCEoAQBgZwQlS1g9AAAAEzRKAADYGY2SJaweAACACRolAADsjEbJEoISAAB2RlCyhNUDAAAwQaMEAICd0ShZwuoBAIAbqqSkRFOmTFFsbKy6d%2B%2BuRYsWmZ77u9/9Tu3bt3d7ffHFF67ja9euVa9evRQVFaVx48apoKDAo3OlUQIAwM5qYaM0a9Ys7dixQ0uWLNGRI0f03HPPKSQkRH369Kl0bnZ2tl5//XXdddddrrHGjRtLkrZt26apU6dq2rRp6tChg2bMmKHJkyfr7bff9thcCUoAANhZLQtKhYWFWrlypRYuXKjIyEhFRkZqz549WrFiRaWgVFpaqkOHDqljx44KDAysdK/ly5erb9%2B%2B6tevn6QLAezee%2B9VTk6OWrdu7ZH51q7VAwAAtpaVlaXy8nJFR0e7xmJiYpSZmamKigq3c/ft2yeHw2EaejIzMxUbG%2Bv6vGXLlgoJCVFmZqbH5kujBACAnV2HRikvL09Op9NtLDAwUEFBQVe81ul0qmnTpvL29naNBQQEqKSkRCdPnlSzZs1c4/v27ZO/v78mTZqkzZs3q0WLFkpOTlaPHj1c8/j512zevLmOHTtm5dtzQ6MEAACuSlpamgYMGOD2SktLq9a1RUVFbiFJkuvz0tJSt/F9%2B/apuLhY3bt311//%2Blf16NFDv/vd77R9%2B3ZJUnFxcZX3%2Bvl9rKBRAgDAzq5DozR48GDFx8e7jVX1DFFVfHx8KgWZi5/7%2Bvq6jY8dO1bDhg1zPbzdoUMH7dy5U%2B%2B//746duxoei8/P7%2Br%2Bn4uh6AEAICdXYegFBQUVK1ttqoEBwfrxIkTKi8vl5fXhRjidDrl6%2BurRo0auZ1bp04dV0i6KCwsTHv37nXdKz8/3%2B14fn5%2BtUNbdbD1BgAAbpiIiAh5eXlp69atrrH09HR17NhRdX4W6p5//nlNnjzZbSwrK0thYWGSpKioKKWnp7uOHT16VEePHlVUVJTH5ktQAgDAzurU8fzLAj8/P/Xr108pKSnatm2bNmzYoEWLFikxMVHShXapuLhYkhQfH6%2BPP/5YH374oQ4ePKjU1FSlp6dr6NChkqQhQ4ZozZo1WrlypbKysjRp0iT17NnTY28NILH1BgAAbrDJkycrJSVFw4cPl7%2B/v5KTk/XAAw9Ikrp3766ZM2dqwIABeuCBB/TSSy/pL3/5i44cOaJ27drpr3/9q0JDQyVJ0dHRevnllzV37lydOnVKd999t1555RWPztVhGIbh0TvWJIejpmcA2EN0tJSRIXXpIm3ZUtOzAW5%2BNfmjduZMz9/zZ9thdkajBACAndWyd%2Ba%2B2bB6AAAAJmiUAACwMxolSwhKAADYGUHJElYPAADABI0SAAB2RqNkCasHAABggkYJAAA7o1GyhKAEAICdEZQsYfUAAABM0CgBAGBnNEqWsHoAAAAmaJQAALAzGiVLCEoAANgZQckSVg8AAMAEjRIAAHZGo2QJqwcAAGCCRgkAADujUbKEoAQAgJ0RlCxh9QAAAEzQKAEAYGc0SpawegAAACZolAAAsDMaJUsISgAA2BlByRJWDwAAwASNEgAAdkajZAmrBwAAYIJGCQAAO6NRsoSgBACAnRGULGH1AAAATNAoAQBgZzRKlrB6AAAAJmiUAACwMxolSwhKAADYGUHJElYPAADABI0SAAB2RqNkCasHAABggkYJAAA7o1GyhKAEAICdEZQsYfUAAABM0CgBAGBnNEqWsHoAAOCGKikp0ZQpUxQbG6vu3btr0aJFpuf%2B61//0qOPPqro6Gg9/PDD2rhxo9vx2NhYtW/f3u117tw5j82VRgkAADurhY3SrFmztGPHDi1ZskRHjhzRc889p5CQEPXp08ftvKysLCUlJWnSpEnq0aOHvv76az399NP64IMP1KFDB%2BXm5urMmTPasGGDfH19XdfVr1/fY3MlKAEAYGe1LCgVFhZq5cqVWrhwoSIjIxUZGak9e/ZoxYoVlYLS2rVr1a1bNyUmJkqSfvGLX%2Bjzzz/XP//5T3Xo0EHZ2dkKDAxU69atr9t8CUoAAOCGycrKUnl5uaKjo11jMTExeuutt1RRUaE6lwS7/v37q6ysrNI9zpw5I0nau3ev2rZte13nS1ACAMDOrkOjlJeXJ6fT6TYWGBiooKCgK17rdDrVtGlTeXt7u8YCAgJUUlKikydPqlmzZq7xW2%2B91e3aPXv26Ntvv9Wvf/1rSVJ2draKioo0bNgw7d%2B/XxEREZoyZYpHwxNBCQAAO7sOQSktLU2pqaluY0lJSUpOTr7itUVFRW4hSZLr89LSUtPrCgoKlJycrC5duui%2B%2B%2B6TJO3bt0%2BnTp3SM888I39/fy1cuFAjRozQJ598In9//6v9tqpEUAIAAFdl8ODBio%2BPdxsLDAys1rU%2BPj6VAtHFzy99IPtS%2Bfn5%2Bs1vfiPDMDR37lzX9tw777yjsrIyNWjQQJI0e/Zs9ejRQ1988YUefvjhq/qezBCUAACws%2BvQKAUFBVVrm60qwcHBOnHihMrLy%2BXldSGGOJ1O%2Bfr6qlGjRpXOz83NdT3MvXTpUretOW9vb7d2ysfHR6GhocrNzb2muVWldj0KDwAAbC0iIkJeXl7aunWrayw9PV0dO3Z0e5BbuvAbck8%2B%2BaTq1Kmj5cuXKzg42HXMMAz16tVLq1evdjv/4MGDCgsL89h8aZQAALCzWvb2AH5%2BfurXr59SUlL06quvKi8vT4sWLdLMmTMlXWiXGjZsKF9fX7399tv66aeftGzZMtcx6cIWXcOGDdWzZ0/NmzdPrVq1UrNmzTRnzhy1aNFCPXr08Nh8CUoAANhZLQtKkjR58mSlpKRo%2BPDh8vf3V3Jysh544AFJUvfu3TVz5kwNGDBA69evV3FxsQYOHOh2ff/%2B/fXaa69p4sSJ8vLy0rPPPquzZ8%2BqW7duWrBggerWreuxuToMwzA8drea5nDU9AwAe4iOljIypC5dpC1bano2wM2vJn/Ufvut5%2B95112ev2ctRaMEAICd1cJG6WbC6gEAAJigUQIAwM5olCwhKAEAYGcEJUtYPQAAABM0SgAA2BmNkiWsHgAAgAkaJQAA7IxGyRKCEgAAdkZQsoTVAwAAMEGjBACAndEoWcLqAQAAmKBRAgDAzmiULCEoAQBgZwQlS1g9AAAAEzRKAADYGY2SJaweAACACRolAADsjEbJEoISAAB2RlCyhNUDAAAwQaMEAICd0ShZwuoBAACYoFECAMDOaJQsISgBAGBnBCVLWD0AAAATNEoAANgZjZIlrB4AAIAJGiUAAOyMRskSghIAAHZGULKE1QMAADBBowQAgJ3RKFnC6gEAAJigUQIAwM5olCwhKAEAYGcEJUtYPQAAABM0SgAA2BmNkiUEJQAA7IygZAmrBwAAYIJGCQAAO6NRsoTVAwAAMEGjBACAndEoWcLqAQBgZ3XqeP5lUUlJiaZMmaLY2Fh1795dixYtMj13165dGjhwoKKiovTYY49px44dbsfXrl2rXr16KSoqSuPGjVNBQYHl%2BV2KoAQAAG6oWbNmaceOHVqyZIleeuklpaam6tNPP610XmFhoZ566inFxsZq9erVio6O1pgxY1RYWChJ2rZtm6ZOnaqkpCSlpaXp9OnTmjx5skfnSlACAMDOalmjVFhYqJUrV2rq1KmKjIzU/fffryeffFIrVqyodO66devk4%2BOjSZMm6dZbb9XUqVPVoEEDV6havny5%2Bvbtq379%2BqlDhw6aNWuWvvzyS%2BXk5Fia46Wu6rs9dOiQ2rdvr48//lj33HOPYmNjNX36dJWXl2vevHkaO3asnnjiCXXt2lWbN29WYWGhXnzxRcXFxSkuLk4vvPCCSkpKJEnt27fXypUr1atXL0VHR%2BvZZ5/VuXPnPPaNAQCA2icrK0vl5eWKjo52jcXExCgzM1MVFRVu52ZmZiomJkYOh0OS5HA41KVLF23dutV1PDY21nV%2By5YtFRISoszMTI/N95oe5k5NTdWbb76p8vJyTZo0SQ0aNJCXl5c2btyolJQUde7cWW3bttWUKVO0e/du/fnPf5avr68mTpyoP/3pT3ruueckSXPmzNH06dPVvHlzTZkyRS%2B%2B%2BKLeeOONas0hLy9PTqfTbSywbVsFNWlyLd8SgEt16OD%2BTwA3r%2BvwMHeVP4MDAxUUFHTFa51Op5o2bSpvb2/XWEBAgEpKSnTy5Ek1a9bM7dzbbrvN7frmzZtrz549rnn8/Gs2b95cx44du%2Brvycw1BaWJEye6EtzTTz%2Bt2bNna8iQIQoICNCQIUMkSadOndKnn36qxYsXKyYmRpL08ssv68cff3TdZ/To0erZs6ckaerUqRo5cqRSUlLUsGHDK84hLS1NqampbmNJTz%2Bt5KefvpZvCUBV3n23pmcAwCJDDo/fs8qfwUlJSk5OvuK1RUVFbiFJkuvz0tLSap178bzi4uLLHveEawpKXbp0cX18xx13qKAS18ayAAAZ%2B0lEQVSgQCdOnFCrVq1c4wcPHtT58%2BcVGRnpGouNjXWryH5%2Bn/Pnz2v//v3q1KnTFecwePBgxcfHu40FPvywtGTJtXxLAC7VocOFkPT441JWVk3PBrj5ZWTU9Aw8qsqfwYGB1brWx8enUpC5%2BLmvr2%2B1zr14ntlxPz%2B/as2lOq4pKNWrV8/18cX9xDp16sjHx6fKc672PtURFBRUueLbv79a1wKopqwsacuWmp4FAAt%2B9tiPR1T5M7iagoODdeLECZWXl8vL60IMcTqd8vX1VaNGjSqdm5%2Bf7zaWn5/v%2Btpmx6sb2qrjmjYuL90%2B27Fjh4KCgtTkZ88GtW7dWnXr1lXWJf83umHDBvXv39/0PvXq1VPbtm2vZUoAAOAmEBERIS8vL9cD2ZKUnp6ujh07VipLoqKitGXLFhmGIUkyDEMZGRmKiopyHU9PT3edf/ToUR09etR13BOuKSjNmDFD27dv1zfffKM5c%2BboiSeeqHSOv7%2B/%2BvXrpxkzZmjbtm3avn273nzzTXXr1s11zty5c7V582ZlZmZq%2BvTp6t%2B/vxo0aHDt3w0AAHBTUeH5lxV%2Bfn7q16%2BfUlJStG3bNm3YsEGLFi1SYmKipAvtUnFxsSSpT58%2BOn36tGbMmKG9e/dqxowZKioqUt%2B%2BfSVJQ4YM0Zo1a7Ry5UplZWVp0qRJ6tmzp1q3bm1tkpcyrkJOTo4RHh5uvPXWW8Zdd91lxMXFGX/605%2BM8%2BfPG3PnzjWGDh3qdv6ZM2eM559/3ujSpYsRFxdnTJs2zSgpKTEMwzDCw8ONP/3pT8a9995rxMTEGC%2B%2B%2BKLr2DWTePHi5YlXdPSFf6eio2t%2BLrx42eFVg4qLPf%2ByqrCw0Jg0aZLRuXNno3v37sbixYtdx8LDw41Vq1a5Ps/MzDT69etndOzY0UhISDB27tzpdq9Vq1YZPXr0MDp37myMGzfOKCgosD7BSzgMwzCqG6oOHTqk%2B%2B67Txs3blRoaKilgNa%2BfXstXbpUcXFxlu7jxuH5J/uB/0rR0RcePu3ShWeUAE%2Bo/o9aj/v/b1/oUZc8kmx7/FFcAABs7Ho8zP3fhD9hAgAAYOKqGqXQ0FDt3r3bI1/YU/cBAADmaJSsYesNAAAbIyhZw9YbAACACRolAABsjEbJGholAAAAEzRKAADYGI2SNQQlAABsjKBkDVtvAAAAJmiUAACwMRola2iUAAAATNAoAQBgYzRK1hCUAACwMYKSNWy9AQAAmKBRAgDAxmiUrKFRAgAAMEGjBACAjdEoWUNQAgDAxghK1rD1BgAAYIJGCQAAG6NRsoZGCQAAwASNEgAANkajZA1BCQAAGyMoWcPWGwAAgAkaJQAAbIxGyRoaJQAAABM0SgAA2BiNkjUEJQAAbIygZA1bbwAAACZolAAAsDEaJWsISgAA2BhByRq23gAAAEzQKAEAYGM0StbQKAEAAJigUQIAwMZolKwhKAEAYGMEJWvYegMAADBBowQAgI3RKFlDowQAAGCCRgkAABujUbKGRgkAABurqPD863oyDEOzZ89Wt27d1LVrV82aNUsVl/miW7du1a9//WtFR0erd%2B/eWrlypdvxRx55RO3bt3d7/e///m%2B150OjBAAAao3Fixdr7dq1Sk1NVXl5uSZOnKjmzZtr1KhRlc51Op0aPXq0hgwZotdee007d%2B7U5MmTFRgYqJ49e%2Br8%2BfM6cOCAli9frjZt2riua9q0abXnQ1ACAMDGbratt6VLl2r8%2BPGKjY2VJE2YMEFz5sypMiht2LBBAQEBeuaZZyRJbdq00aZNm/Txxx%2BrZ8%2BeOnTokMrKytSpUyf5%2BPhc03wISgAAoFbIzc3V0aNHdeedd7rGYmJidPjwYeXl5SkoKMjt/HvuuUcRERGV7nP27FlJ0t69e9WyZctrDkkSQQkAAFu7Ho1SXl6enE6n21hgYGClIHO1Lt7z0vsEBARIko4dO1bp/qGhoQoNDXV9fvz4cX3yySdKTk6WJGVnZ6tevXoaM2aMduzYobZt22rSpEnq1KlTtedEUAIAwMauR1BKS0tTamqq21hSUpIroFxOcXGxcnNzqzxWWFgoSfL29naNXfy4tLT0ivdNTk5WQECABg8eLEnav3%2B/Tp06pYEDB2r8%2BPF6//33NXz4cK1bt04tW7a84lwlghIAALhKgwcPVnx8vNtYYGBgta7NzMxUYmJilccmTpwo6UIourhddjEg%2Bfn5md7z3LlzGjt2rA4cOKB3333Xde4rr7yi4uJi%2Bfv7S5JSUlKUkZGhNWvW6Le//W215ktQAgDAxq5HoxQUFHTN22xxcXHavXt3lcdyc3P1%2Buuvy%2Bl0urbULm7HmQWxs2fP6sknn9RPP/2kJUuWuP12m5eXlyskSZLD4VBYWJhpo1UV3kcJAADUCsHBwQoJCVF6erprLD09XSEhIVUGs4qKCiUlJenQoUNatmyZ2rVr53Z82LBhbluEFRUV2r17t8LCwqo9JxolAABs7GZ7e4AhQ4Zo9uzZatGihSTpjTfe0MiRI13HCwoK5OPjowYNGuiDDz7Qpk2b9Je//EWNGjVytU/16tVTkyZNFB8fr/nz5ysiIkJt27bV0qVLdebMGfXv37/a8yEoAQBgYzdbUBo1apSOHz%2BupKQk1a1bVwkJCRoxYoTreEJCgvr376/k5GStX79eFRUVGjNmjNs9unbtqmXLlmnEiBEqKSnR9OnTlZ%2Bfr6ioKC1evNhtO%2B5KHIZhGJ765mqcw1HTMwDsITpaysiQunSRtmyp6dkAN78a/FG7fr3n79m7t%2BfvWVvRKAEAYGM3W6NU2/AwNwAAgAkaJQAAbIxGyRqCEgAANkZQsoatNwAAABM0SgAA2BiNkjU0SgAAACZolAAAsDEaJWsISgAA2BhByRq23gAAAEzQKAEAYGM0StbQKAEAAJigUQIAwMZolKwhKAEAYGMEJWvYegMAADBBowQAgI3RKFlDowQAAGCCRgkAABujUbKGoAQAgI0RlKxh6w0AAMAEjRIAADZGo2QNQQkAABsjKFnD1hsAAIAJGiUAAGyMRskaGiUAAAATNEoAANgYjZI1BCUAAGyMoGQNW28AAAAmaJQAALAxGiVraJQAAABM0CgBAGBjNErWEJQAALAxgpI1bL0BAACYoFECAMDGaJSsoVECAAAwQaMEAICN0ShZQ1ACAMDGCErWsPUGAABggkYJAAAbo1GyhkYJAADABEEJAAAbq6jw/Ot6MgxDs2fPVrdu3dS1a1fNmjVLFZf5otOnT1f79u3dXsuXL3cd/%2Babb/TQQw8pKipKiYmJysnJuar5sPUGAICN3Wxbb4sXL9batWuVmpqq8vJyTZw4Uc2bN9eoUaOqPD87O1vPPvus%2Bvfv7xrz9/eXJB05ckTjxo1TcnKy7rnnHs2fP19jx47VRx99JIfDUa350CgBAIBaY%2BnSpRo/frxiY2PVrVs3TZgwQStWrDA9Pzs7W7fffrsCAwNdLz8/P0nSypUrdccdd2jkyJFq166dZs6cqcOHD2vz5s3Vng9BCQAAG7uZtt5yc3N19OhR3Xnnna6xmJgYHT58WHl5eZXOP3v2rHJzc9WmTZsq75eZmanY2FjX535%2BfoqMjNTWrVurPSeCEgAAqBWcTqckKSgoyDUWEBAgSTp27Fil87Ozs%2BVwOPTWW2/pV7/6lR555BH94x//cLvfpfeSpObNm1d5LzM8owQAgI1djwYoLy/PFWouCgwMrBRKqlJcXKzc3NwqjxUWFkqSvL29XWMXPy4tLa10/r59%2B%2BRwOBQWFqahQ4fq%2B%2B%2B/1wsvvCB/f3/df//9KioqcrvXxftVdS8zBCUAAGzsegSltLQ0paamuo0lJSUpOTn5itdmZmYqMTGxymMTJ06UdCEU%2Bfj4uD6W5Hru6FL9%2BvXTvffeqyZNmkiSOnTooAMHDujvf/%2B77r//fvn4%2BFQKRaWlpWrUqNEV53kRQQkAAFyVwYMHKz4%2B3m0sMDCwWtfGxcVp9%2B7dVR7Lzc3V66%2B/LqfTqdDQUEn/tx1X1f0dDocrJF0UFham7777TpIUHBys/Px8t%2BP5%2BfmKiIio1lwlghIAALZ2PRqloKCgam2zXa3g4GCFhIQoPT3dFZTS09MVEhJS5debM2eOtmzZor/97W%2BusaysLIWFhUmSoqKilJ6e7jpWVFSkXbt2KSkpqdpz4mFuAABQawwZMkSzZ8/Wpk2btGnTJr3xxhtuW3UFBQU6d%2B6cJOnee%2B/V999/r3feeUc//fST3n33XX344YcaOXKkJOmxxx5TRkaGFixYoD179mjy5MkKDQ1VXFxctedDUAIAwMZuprcHkKRRo0bpwQcfVFJSkp5%2B%2Bmk9%2BuijGjFihOt4QkKCFi1aJEnq1KmT5syZozVr1uihhx7SsmXL9MYbbyg6OlqSFBoaqnnz5mnVqlVKSEjQyZMnNX/%2B/Gq/2aQkOQzDMDz6Hdakq/jGAVxGdLSUkSF16SJt2VLTswFufjX4o3byZM/fc%2BZMz9%2BztqJRAgAAMMHD3AAA2NjN9rfeahsaJQAAABM0SgAA2BiNkjUEJQAAbIygZA1bbwAAACZolAAAsDEaJWtolAAAAEzQKAEAYGM0StYQlAAAsDGCkjVsvQEAAJigUQIAwMZolKwhKAEAYGMEJWvYegMAADBBowQAgI3RKFlDowQAAGCCRgkAABujUbKGoAQAgI0RlKxh6w0AAMAEjRIAADZGo2QNjRIAAIAJGiUAAGyMRskaghIAADZGULKGrTcAAAATNEoAANgYjZI1NEoAAAAmaJQAALAxGiVrCEoAANgYQckatt4AAABM0CgBAGBjNErW0CgBAACYoFECAMDGaJSsISgBAGBjBCVr2HoDAAAwQaMEAICN0ShZQ6MEAABggkYJAAAbo1GyhqAEAICNEZSsYesNAADABI0SAAA2RqNkDY0SAACACRolAABs7GZrlAzD0BtvvKEPPvhAFRUVSkhI0IQJE1SnTuVu5/nnn9c//vGPSuNxcXFaunSpJOmRRx7R7t273Y5//PHHCg8Pr9Z8CEoAANjYzRaUFi9erLVr1yo1NVXl5eWaOHGimjdvrlGjRlU6d%2BrUqXr22Wddnx8%2BfFjDhg1TYmKiJOn8%2BfM6cOCAli9frjZt2rjOa9q0abXnQ1ACAAC1xtKlSzV%2B/HjFxsZKkiZMmKA5c%2BZUGZQaNmyohg0buj5//vnn1adPH/Xq1UuSdOjQIZWVlalTp07y8fG5pvkQlAAAsLGbqVHKzc3V0aNHdeedd7rGYmJidPjwYeXl5SkoKMj02m%2B//Vbff/%2B91q9f7xrbu3evWrZsec0hSeJhbgAAUEs4nU5JcgtEAQEBkqRjx45d9toFCxaof//%2BatmypWssOztb9erV05gxY3T33Xdr6NCh2rZt21XNiUYJAAAbux6NUl5enivUXBQYGHjZxuei4uJi5ebmVnmssLBQkuTt7e0au/hxaWmp6T1zcnL03XffaerUqW7j%2B/fv16lTpzRw4ECNHz9e77//voYPH65169a5BarLISgBAGBj1yMopaWlKTU11W0sKSlJycnJV7w2MzPT9bD1z02cOFHShVB0cbvsYkDy8/Mzvef69esVERGh2267zW38lVdeUXFxsfz9/SVJKSkpysjI0Jo1a/Tb3/72inOVCEoAAOAqDR48WPHx8W5jgYGB1bo2Li6u0q/rX5Sbm6vXX39dTqdToaGhkv5vO%2B5y9//qq6903333VRr38vJyhSRJcjgcCgsLM220qkJQAgDAxq5HoxQUFFStbbarFRwcrJCQEKWnp7uCUnp6ukJCQky/nmEY2r59e5UN0bBhwxQXF6ekpCRJUkVFhXbv3q0nnnii2nMiKAEAgFpjyJAhmj17tlq0aCFJeuONNzRy5EjX8YKCAvn4%2BKhBgwaSLrx30rlz5yptu0lSfHy85s%2Bfr4iICLVt21ZLly7VmTNn1L9//2rPh6AEAICN3UxvDyBJo0aN0vHjx5WUlKS6desqISFBI0aMcB1PSEhQ//79Xc9DHT9%2BXJLUuHHjSvcaMWKESkpKNH36dOXn5ysqKkqLFy922467EodhGIa1b6kWcThqegaAPURHSxkZUpcu0pYtNT0b4OZXgz9q77rL8/f89lvP37O24n2UAAAATLD1BgCAjd1sW2%2B1DUEJAAAbIyhZw9YbAACACRolAABsjEbJGholAAAAEzRKAADYGI2SNQQlAABsjKBkDVtvAAAAJmiUAACwMRola2iUAAAATNAoAQBgYzRK1hCUAACwMYKSNWy9AQAAmKBRAgDAxmiUrKFRAgAAMEGjBACAjdEoWUNQAgDAxghK1rD1BgAAYIJGCQAAG6NRsoZGCQAAwASNEgAANkajZA1BCQAAGyMoWcPWGwAAgAkaJQAAbIxGyRoaJQAAABM0SgAA2BiNkjUEJQAAbIygZA1bbwAAACZolAAAsDEaJWtolAAAAEzQKAEAYGM0StYQlAAAsDGCkjVsvQEAAJigUQIAwMZolKyhUQIAADBBowQAgI3RKFlDUAIAwMYIStaw9QYAAGCCRgkAABujUbKGRgkAAMAEQQkAABurqPD860YwDEMjR47U6tWrL3teTk6ORowYoc6dO%2BvBBx/U119/7Xb8m2%2B%2B0UMPPaSoqCglJiYqJyfnquZBUAIAwMZuxqBUUVGh6dOn6z//%2Bc9lzzMMQ%2BPGjVNAQIBWrVqlRx99VElJSTpy5Igk6ciRIxo3bpwGDBigDz74QM2aNdPYsWNlGEa150JQAgAAtUZubq6GDx%2Buzz//XI0aNbrsud99951ycnL08ssv69Zbb9WYMWPUuXNnrVq1SpK0cuVK3XHHHRo5cqTatWunmTNn6vDhw9q8eXO150NQAgDAxm62Rmnnzp1q2bKlVq1apYYNG1723MzMTN1%2B%2B%2B2qX7%2B%2BaywmJkZbt251HY%2BNjXUd8/PzU2RkpOt4dfBbbwAAoNaIj49XfHx8tc51Op0KCgpyG2vevLmOHTtWrePVQVACAMDGrkcDlJeXJ6fT6TYWGBhYKZRUpbi4WLm5uVUeCwwMdGuHrqSoqEje3t5uY97e3iotLa3W8eqwV1C6ioezAJjLy8tT2rx5Gvzpp9X6Dx%2BA2ut6/GicNy9NqampbmNJSUlKTk6%2B4rWZmZlKTEys8tj8%2BfPVq1evas/Dx8dHJ0%2BedBsrLS2Vr6%2Bv6/jPQ1FpaekVn326lL2CEgCPcDqdSk1NVXx8PEEJQCWDBw%2ButD0WGBhYrWvj4uK0e/duj8wjODhYe/fudRvLz893/XcrODhY%2Bfn5lY5HRERU%2B2sQlAAAwFUJCgqqFf8TFRUVpQULFqi4uNjVIqWnpysmJsZ1PD093XV%2BUVGRdu3apaSkpGp/DX7rDQAA3DQKCgp07tw5SVLXrl3VsmVLTZ48WXv27NGCBQu0bds2JSQkSJIee%2BwxZWRkaMGCBdqzZ48mT56s0NBQxcXFVfvrEZQAAMBNIyEhQYsWLZIk1a1bV3/%2B85/ldDo1YMAAffTRR5o/f75CQkIkSaGhoZo3b55WrVqlhIQEnTx5UvPnz5fD4aj213MYV/P2lAD%2BK%2BTl5SktLU2DBw%2BuFfU6ANQUghIAAIAJtt4AAABMEJQAAABMEJQAAABMEJQAAABMEJQAAABMEJQAAABMEJQAAABMEJQAAABMEJQAAABMeNX0BADULmfPntWBAwdUp04dtW3bVn5%2BfjU9JQCoMQQlAJKkoqIivfjii/rnP/%2Bp8vJySZK3t7f69%2B%2BvP/zhD6pXr14NzxAAbjy23gBIkl544QVlZWXpnXfeUXp6ur7//nu99dZb%2BuGHHzRz5syanh4A1Aj%2BKC4ASVKXLl20bNkyRUZGuo1nZmZq9OjR2rx5cw3NDABqDo0SAElS8%2BbNdfz48UrjpaWl8vf3r4EZAUDNq5uSkpJS05MAUPPq16%2BvV199Vd7e3qpbt65OnDihr7/%2BWjNmzFD//v1Vp04dHTlyREeOHFGrVq1qeroAcEOw9QZAktShQ4dqnedwOPTjjz9e59kAQO1AUAIAADDBM0oAJF14FmnWrFlasWKFa2zAgAGaPXu2ysrKanBmAFBzCEoAJEnTp0/Xl19%2B6bYFN3bsWP3rX//SH//4xxqcGQDUHLbeAEiSunXrpsWLFysiIsJtfPv27RozZoy%2B%2BeabGpoZANQcGiUAkiTDMFRSUlLlOFtvAP5bEZQASJJ69%2B6tF154QT/88IMKCwtVWFiojIwMpaSk6P7776/p6QFAjWDrDYCkC3/rberUqVq/fr0qKiokSXXr1tWjjz6qKVOmqEGDBjU8QwC48QhKACRJP/zwgzp27KiSkhIdPHhQ9erVU2hoKO/KDeC/GkEJgCQpLi5OS5YsqfYbTwLAfwOeUQIgSWrXrp22bdtW09MAgFqFRgmAJGncuHHauHGjAgICFBoaKm9vb7fjS5curaGZAUDN8arpCQCoHSIiIhQRESHDMHTy5Ek5HA41adKkpqcFADWKRgmAJOn8%2BfOaO3euVq5cqYKCAklScHCwnnjiCT311FM1PDsAqBk0SgAkSX/84x%2B1fv16TZgwQXfccYcqKiq0fft2zZ07V6WlpUpKSqrpKQLADUejBECSdOedd2r%2B/Pnq2rWr2/g333yjCRMm8CdMAPxX4rfeAEiS/Pz8VK9evUrjjRo1ksPhqIEZAUDNq5uSkpJS05MAUPMCAwP12muvqVWrVmratKnKy8u1bds2TZs2TQkJCWrZsqXOnDmjM2fOqGHDhjU9XQC4Idh6AyBJbm80ebFBuvQ/Dw6HQ4ZhyOFw6Mcff7zh8wOAmkBQAiBJOnz4cLXPbdWq1XWcCQDUHgQlAAAAEzzMDQAAYIKgBAAAYIKgBAAAYIKgBAAAYIKgBAAAYIKgBAAAYIKgBAAAYIKgBAAAYOL/ASc%2Br/v27nPCAAAAAElFTkSuQmCC\" class=\"center-img\">\n",
       "    <img src=\"data:image/png;base64,iVBORw0KGgoAAAANSUhEUgAAAkoAAAH/CAYAAACozPLCAAAABHNCSVQICAgIfAhkiAAAAAlwSFlzAAAPYQAAD2EBqD%2BnaQAAIABJREFUeJzt3XtclvXh//H3rchB0VQEFKl5SJTIkENiy6aSpfboIIY55jHNXAq1Rx7ysIpK00zXVFylpZOsjVDLZW5uNtfWKi1Q1BJTPOQRbsQzJ5Hr94c/7q93cCl6oeC11/PxuB%2BDz3W4P/e1R/Hu/bnu%2B3YYhmEIAAAAldSr7QkAAADUVQQlAAAAEwQlAAAAEwQlAAAAEwQlAAAAEwQlAAAAEwQlAAAAEwQlAAAAEwQlAAAAEx61PQHADrKzs7VixQp99dVXys3NVUlJiZo3b64OHTqoZ8%2Beio%2BPl7e3d21PEwBwhRx8hQlgzfz58/Xmm2%2BqvLxcvr6%2BuuWWW9SgQQM5nU4dPnxYktSqVSstXLhQYWFhtTxbAMCVICgBFqxcuVJTp05Vw4YNNXPmTN13332qX7%2B%2Ba3tOTo6mTp2qLVu2qFmzZlq7dq2aN29eizMGAFwJ7lECLHjrrbckSZMmTVLfvn3dQpIktW/fXm%2B%2B%2Bab8/Px0/Phxpaam1sY0AQBXiaAEXKWTJ0/qxx9/lCSFh4eb7te8eXP17t1bkrR169brMjcAQM3gZm7gKnl4/N8/Phs2bNBtt91mum9SUpKGDRsmPz8/19jkyZP10UcfacqUKbrnnnv0u9/9Tt9%2B%2B61KS0v1s5/9THFxcfrlL38pLy%2BvKs/5zTff6L333lNmZqZOnDihJk2aqEuXLho6dKjuuuuuKo85deqU/vznP%2Bvzzz/X7t27debMGfn4%2BOiWW25Rr169NGzYMN10001ux3Ts2FGS9N///lezZs3SZ599pnr16iksLExLlizRb3/7W3300UeaPn26oqOjlZKSoq%2B//lqnT59WcHCwBg4cqBEjRsjhcOjvf/%2B7li1bph07dqi8vFydOnXSU089pR49elSaa3FxsVauXKn169dr586dOnXqlDw9PRUUFKTu3bvr8ccfV2BgoNsxsbGxOnTokNauXatjx47pnXfeUVZWlgoLCxUcHKx%2B/fpp1KhRatSoken/VwBwMe5RAixISEhQZmamHA6H%2Bvfvr0cffVSRkZGVluCqUhGUBgwYoHXr1qmwsFAdOnRQWVmZ9uzZI0mKiorS22%2B/rcaNG7sdO2fOHC1evFiSdNNNNyk4OFh5eXlyOp2SpNGjR2vChAlux%2Bzbt08jRozQkSNH5OHhoVtuuUU%2BPj46dOiQTpw4IUlq27atVq5c6RYkKoJSZGSkNm/erJCQEBUUFCgmJkZz5851ex1//etfVVZWpvbt2%2BvYsWOu%2BTz55JNyOBx6%2B%2B231aRJE918883au3evCgsL5XA4tGjRIv3iF79wPWdBQYGGDx%2BuH374QQ6HQ7fccosaN26s3Nxc1zn9/Py0atUqtWzZ0nVcRVB6/PHH9cc//lGenp5q06aNTp48qaNHj0qSIiIi9MEHH6hePQp1ANVgALhq3333ndGlSxcjJCTE9YiMjDRGjx5tvP3228aWLVuM8%2BfPV3nsc8895zqmV69exvfff%2B/alpmZafz85z83QkJCjOeff97tuD/96U9GSEiIER0dbaxevdo1Xl5ebnz66aeu%2BXz44Yduxw0ZMsQICQkxHnvsMSM3N9ftuI8%2B%2Bsjo1KmTERISYixfvtztuIo53n777camTZsMwzCM8%2BfPG8ePH6/0OhISEoy8vDzXPpMnTzZCQkKMTp06GR07djTeffdd1/UoKCgw%2Bvfvb4SEhBhDhgyp8trcd999xt69e922/fvf/zbCw8ONkJAQY9asWW7bevXq5ZrL5MmTjVOnTrle4/Lly13b/vGPf1T5/wkA/BT/SQVYcNtttyk9PV1RUVGusTNnzujzzz/X3Llz9dhjj6l79%2B564403VFRUVOU56tWrpz/84Q8KDQ11jUVEROi1116TJKWnpys3N1eSVFpaqgULFkiSXn31VT388MOuYxwOhx544AFNnDhRkrRgwQKVlZVJkvLz87Vr1y5J0iuvvKKAgAC34/r376%2BuXbtKknbu3FnlPPv166c777zTNeemTZu6bffw8NDvfvc7%2Bfv7u/Z58sknJUnl5eV65JFHNHLkSFeT06xZMw0bNkyS9P3337vOc%2B7cOX3zzTdyOByaMmWK2rRp4/Y899xzjx544AFJ0g8//FDlXDt16qRXX33V1cQ5HA4NHjxYISEhkqSMjIwqjwOAnyIoARbdeuut%2BuCDD/Txxx8rMTFRERERatCggWv7sWPH9NZbb%2Bnhhx92Lf9crFu3burUqVOl8e7duys4OFjl5eXasGGDJGnz5s3Kz89Xo0aNdO%2B991Y5n4cfflj16tVTbm6uK4C0aNFCX3/9tbKyslxh4WLnz5%2BXr6%2BvpAv3BlXl4jBYlY4dO7otg0lS69atXT9XdR9SRWA7c%2BaMa6xBgwb67LPPlJWVpZ49e1Y6xjAMNWzY8JJz7dmzpxwOR6Xx9u3bS5JOnz59ydcCABW4mRuoIaGhoQoNDVVSUpKKioqUmZmpL774QqtXr9axY8f0448/6plnnlFaWprbcXfccYfpOTt27KiDBw9q3759kuRqhc6dO6fBgwebHle/fn2Vl5drz549buf39vbWoUOHtG3bNv344486cOCAcnJytGPHDhUWFkq60P5UpaIpMtOqVatKY56enq6fmzVrVmn7xTfE/5SXl5fy8/OVlZWlffv26eDBg9qzZ4927NihkydPXnKuFzdmF6v4dPTz58%2BbvxAAuAhBCbgGfHx8dPfdd%2Bvuu%2B/WM888o6lTp%2BrTTz/Vli1b9N1337l9QvdP32V2sYrm5NSpU5L%2BrwkpLS1VZmbmZedRcZwk7dmzRy%2B%2B%2BKI2bdrkto%2Bvr6%2Bio6OVl5en7Oxs03Nd7itYfHx8Lrn9Sm6edjqdSk5O1j//%2BU%2B3MOTj46POnTvr/Pnzl1w%2BuzigVcXgPSwAqomgBFylF154QV9//bXi4uL01FNPme7n7e2tl19%2BWX//%2B9917tw57d271y0oVTQ5ValYkqr4WIGKMBIWFqZVq1ZVe67Hjh3TkCFDdOzYMQUFBemxxx7Tbbfdpnbt2ik4OFgOh0Pjx4%2B/ZFC6XkpKSjR8%2BHDl5OSoadOmSkhI0O2336727dvrlltuUf369fXGG29wnxGA64KgBFylkpIS7d%2B/X%2BvXr79kUJIutDaNGjXSiRMnKn2FScVyWlUqgsutt94q6cLb96ULb/UvKyurcunKMAxt3LhRLVu2VFBQkDw9PbVy5UodO3ZMTZs21cqVK6v8GpWKG8Zr2/r165WTkyMPDw%2BlpaVVuplbUpX3egHAtcDN3MBVqnjH2fbt2y/b7nzxxRc6ceKEmjZtWulTvD///HPXZwNdbMOGDTpy5Ig8PT0VGxsrSbrzzjvVuHFjnT171vQ5P/nkEw0fPlz9%2BvVzBYqDBw9KkoKCgqoMSbt379aWLVsk1f79OxVzbdSoUZUhKT8/X//6178k1f5cAdgfQQm4Snfffbf69OkjSfrtb3%2BrGTNmuP7IVygpKdHKlSv1m9/8RpL0m9/8ptKnQhcVFWns2LE6cuSIa2zjxo2aMmWKpAsf1ljxNveGDRu63nI/Y8YMrVy50u0envXr1%2BvFF1%2BUdOHt/LfccoskqV27dpIuNFTr1q1z7W8Yhv7973/riSee0Llz51zzqU0Vcz158qSWLVvmdj/Rli1b9Pjjj7s%2BILO25wrA/lh6AyyYM2eOGjZsqI8//lipqalKTU1VUFCQ/Pz8VFJSon379qm0tFQNGjTQ%2BPHjlZCQUOkcbdq00Y4dO9S7d2%2BFhISosLDQ9S63Bx98UGPGjHHbf/To0Tpw4IA%2B/PBDTZ06Va%2B//rqCg4OVm5urvLw8SRfeyj9jxgzXMfHx8frggw%2B0f/9%2BPf3002rdurWaNWumI0eO6NixY2rQoIG6du2qTZs21foSXGxsrCIiIrR582a9%2BuqrWrx4sQIDA%2BV0OpWbmyuHw6Gf//zn%2BvLLL5WXlyfDMKr8KAAAqAkEJcACT09PzZo1S4MHD9batWu1ceNG5ebmKjs7Wz4%2BPmrbtq26d%2B%2Bu%2BPh4V1PyU507d9acOXM0f/58ZWRkyMPDQ127dlVCQoLrgxUv5nA49Morr6hPnz7685//rC1btmjHjh3y8vJSly5d9OCDD2rQoEFu7/zy9fXVihUrtHjxYm3YsEEHDx5Ufn6%2BWrZsqZ49e2r48OFq2LChevfurezsbB0%2BfFhBQUHX7LpdSv369bVs2TKlpqbq008/1YEDB/TDDz/I399fDzzwgIYMGaLbbrtNMTExOnHihDIzMy/7GU8AcLX4rjegllR8R9pDDz2kOXPm1PZ0AABV4B4lAAAAEwQlAAAAEwQlAABQK0pLS/Xggw9q48aNpvt8//33GjhwoMLDw/Xoo49q%2B/btbtvXrFmj3r17Kzw8XOPGjVNBQUGNzpGgBAAArruSkhI9%2B%2Byzl/zQ3cLCQj355JOKjo7WqlWrFBERoTFjxri%2B0WDr1q2aNm2aEhMTlZaWplOnTrk%2BWqWmcDM3AAC4rnbv3q3x48fLMAzt3LlTqampiomJqbTfihUr9Oabb2r9%2BvVyOBwyDEN9%2BvTRr3/9aw0YMECTJk1SvXr1NGvWLEnSkSNH1KtXL/3jH//QzTffXCNzpVECAADX1aZNmxQTE6O0tLRL7peVlaWoqCjXZ6U5HA5FRka6vkkgKytL0dHRrv1btWqloKAgZWVl1dhc%2BRwlAABwRfLy8ip99ZK/v78CAgKqdfyvfvWrau3ndDpd33VZwc/Pz7Vcl5eXV%2Bk5/fz8avT7IO0VlPh0XqBmtG0r7doldegg7d1b27MBbny1eZfLNfjbmDZ/vlJSUtzGEhMTlZSUVKPPU1RU5PbhudKFD/otLS2VJBUXF19ye02wV1ACUDOaNpXq17/wvwDwE4MGDXJ9WXcFf3//Gn8eLy%2BvSqGntLRU3t7el9zu4%2BNTY3MgKAEAYGf1av525ICAgGovs1kRGBio/Px8t7H8/HzXc5ttr8nQxs3cAACgTgoPD9fmzZtV8QZ9wzCUmZmp8PBw1/aMjAzX/keOHNGRI0dc22sCQQkAADurV6/mH9eQ0%2BlUcXGxJKlv3746deqUZsyYod27d2vGjBkqKipSv379JEkJCQlavXq10tPTlZ2drUmTJqlnz5419tEAEkEJAADUId27d9fatWslSb6%2Bvnr77beVkZGhAQMGKCsrS4sWLVLDhg0lSREREXr55Ze1cOFCJSQk6KabbtLMmTNrdD72%2BsBJ3vUG1IyICCkzU4qMlDZvru3ZADe%2B2vxT6%2BVV8%2BcsKan5c9ZR3MwNAICdXeOlMrvj6gEAAJigUQIAwM5olCzh6gEAAJigUQIAwM5olCwhKAEAYGcEJUu4egAAACZolAAAsDMaJUu4egAAACZolAAAsDMaJUsISgAA2BlByRKuHgAAgAkaJQAA7IxGyRKuHgAAgAkaJQAA7IxGyRKCEgAAdkZQsoSrBwAAYIJGCQAAO6NRsoSgBACAnRGULOHqAQAAmKBRAgDAzmiULOHqAQAAmKBRAgDAzmiULCEoAQBgZwQlS7h6AAAAJmiUAACwMxolS7h6AAAAJmiUAACwMxolSwhKAADYGUHJEq4eAACACRolAADsjEbJEq4eAACACRolAADsjEbJEoISAAB2RlCyhKsHAABggkYJAAA7o1GyhKsHAABggkYJAAA7o1GyhKAEAICdEZQs4eoBAACYoFECAMDOaJQsISgBAIDrqqSkRC%2B99JL%2B/ve/y9vbWyNHjtTIkSMr7Td06FBt2rSp0viAAQM0c%2BZMSVJ0dLROnz7ttj0zM1ONGjWqkbkSlAAAsLM62CjNnj1b27dv17Jly3T48GE999xzCgoKUt%2B%2Bfd32W7Bggc6dO%2Bf6PSsrS7/5zW/0q1/9SpKUm5ur06dPa/369fL29nbt17BhwxqbK0EJAAA7q2NBqbCwUOnp6Vq8eLHCwsIUFhamXbt26f33368UlJo2ber6%2Bfz583rjjTf0xBNPqHPnzpKknJwc%2Bfv76%2Babb75m861bVw8AANhadna2ysrKFBER4RqLiopSVlaWysvLTY9btWqVTp48qdGjR7vGdu/erbZt217T%2BdIoAQBgZ9egUcrLy5PT6XQb8/f3V0BAwGWPdTqdatasmTw9PV1jLVq0UElJiU6cOKHmzZtXOsYwDL3zzjsaNmyY271HOTk5Kioq0tChQ7V3716FhoZq6tSpNRqeCEoAAOCKpKWlKSUlxW0sMTFRSUlJlz22qKjILSRJcv1eWlpa5TEbN27U0aNH9dhjj7mN79mzRydPntSzzz4rX19fLV68WCNGjNCnn34qX1/fK3lJpghKAADY2TVolAYNGqTY2Fi3MX9//2od6%2BXlVSkQVfx%2B8Q3ZF1u3bp1%2B8YtfuN2zJEnvvvuuzp0752qZ5syZox49emjDhg166KGHqjWfyyEoAQBgZ9cgKAUEBFRrma0qgYGBOn78uMrKyuThcSGGOJ1OeXt7q0mTJlUe85///EeJiYmVxj09Pd3aKS8vLwUHBys3N/eq5lYVbuYGAADXTWhoqDw8PLRlyxbXWEZGhjp37qx6VYS6goICHThwQFFRUW7jhmGod%2B/eWrVqlWussLBQ%2B/fvV7t27WpsvjRKAADYWR37eAAfHx/1799fycnJevXVV5WXl6clS5a4PkDS6XSqcePGrmW4Xbt2uZqiizkcDvXs2VMLFixQ69at1bx5c82bN08tW7ZUjx49amy%2BdevqAQAA25syZYrCwsI0fPhwvfTSS0pKStL9998vSerevbvWrl3r2vfYsWNq0qSJHA5HpfNMnDhRffr00fjx4zVw4ECVlZVp0aJFql%2B/fo3N1WEYhlFjZ6ttVVxEAFchIkLKzJQiI6XNm2t7NsCNrzb/1PbpU/PnXLeu5s9ZR7H0BgCAndWxpbcbDVcPAADABI0SAAB2RqNkCVcPAADABI0SAAB2RqNkCUEJAAA7IyhZwtUDAAAwQaMEAICd0ShZQlACAMDOCEqWcPUAAABM0CgBAGBnNEqWcPUAAABM0CgBAGBnNEqWEJQAALAzgpIlXD0AAAATNEoAANgZjZIlXD0AAAATNEoAANgZjZIlBCUAAOyMoGQJVw8AAMAEjRIAAHZGo2QJVw8AAMAEjRIAAHZGo2QJQQkAADsjKFnC1QMAADBBowQAgJ3RKFnC1QMAADBBowQAgJ3RKFlCUAIAwM4ISpZw9QAAAEzQKAEAYGc0SpZw9QAAAEzQKAEAYGc0SpYQlAAAsDOCkiVcPQAAABM0SgAA2BmNkiVcPQAAABM0SgAA2BmNkiUEJQAA7IygZAlXDwAAwASNEgAAdkajZAlXDwAAXFclJSWaOnWqoqOj1b17dy1ZssR036eeekodO3Z0e2zYsMG1fc2aNerdu7fCw8M1btw4FRQU1OhcaZQAALCzOtgozZ49W9u3b9eyZct0%2BPBhPffccwoKClLfvn0r7ZuTk6PXX39dd911l2vspptukiRt3bpV06ZN00svvaROnTppxowZmjJlit5%2B%2B%2B0amytBCQAAO6tjQamwsFDp6elavHixwsLCFBYWpl27dun999%2BvFJRKS0t18OBBde7cWf7%2B/pXOtXz5cvXr10/9%2B/eXdCGA9erVSwcOHNDNN99cI/OtW1cPAADYWnZ2tsrKyhQREeEai4qKUlZWlsrLy9323bNnjxwOh2noycrKUnR0tOv3Vq1aKSgoSFlZWTU2XxolAADs7Bo0Snl5eXI6nW5j/v7%2BCggIuOyxTqdTzZo1k6enp2usRYsWKikp0YkTJ9S8eXPX%2BJ49e%2BTr66tJkyZp06ZNatmypZKSktSjRw/XPH76nH5%2Bfjp69KiVl%2BeGRgkAAFyRtLQ0DRgwwO2RlpZWrWOLiorcQpIk1%2B%2BlpaVu43v27FFxcbG6d%2B%2Bud955Rz169NBTTz2lbdu2SZKKi4urPNdPz2MFjRIAAHZ2DRqlQYMGKTY21m2sqnuIquLl5VUpyFT87u3t7TY%2BduxYDR061HXzdqdOnfTdd9/pww8/VOfOnU3P5ePjc0Wv51IISgAA2Nk1CEoBAQHVWmarSmBgoI4fP66ysjJ5eFyIIU6nU97e3mrSpInbvvXq1XOFpArt2rXT7t27XefKz893256fn1/t0FYdLL0BAIDrJjQ0VB4eHtqyZYtrLCMjQ507d1a9n4S6yZMna8qUKW5j2dnZateunSQpPDxcGRkZrm1HjhzRkSNHFB4eXmPzJSgBAGBn9erV/MMCHx8f9e/fX8nJydq6davWr1%2BvJUuWaNiwYZIutEvFxcWSpNjYWH3yySf6%2BOOPtX//fqWkpCgjI0NDhgyRJCUkJGj16tVKT09Xdna2Jk2apJ49e9bYRwNILL0BAIDrbMqUKUpOTtbw4cPl6%2BurpKQk3X///ZKk7t27a%2BbMmRowYIDuv/9%2Bvfjii3rzzTd1%2BPBhdejQQe%2B8846Cg4MlSREREXr55Zc1f/58nTx5UnfffbdeeeWVGp2rwzAMo0bPWJscjtqeAWAPERFSZqYUGSlt3lzbswFufLX5p3bmzJo/50%2BWw%2ByMRgkAADurY5/MfaPh6gEAAJigUQIAwM5olCwhKAEAYGcEJUu4egAAACZolAAAsDMaJUu4egAAACZolAAAsDMaJUsISgAA2BlByRKuHgAAgAkaJQAA7IxGyRKuHgAAgAkaJQAA7IxGyRKCEgAAdkZQsoSrBwAAYIJGCQAAO6NRsoSrBwAAYIJGCQAAO6NRsoSgBACAnRGULOHqAQAAmKBRAgDAzmiULOHqAQAAmKBRAgDAzmiULCEoAQBgZwQlS7h6AAAAJmiUAACwMxolS7h6AAAAJmiUAACwMxolSwhKAADYGUHJEq4eAACACRolAADsjEbJEq4eAACACRolAADsjEbJEoISAAB2RlCyhKsHAABggkYJAAA7o1GyhKsHAABggkYJAAA7o1GyhKAEAICdEZQs4eoBAACYoFECAMDOaJQs4eoBAIDrqqSkRFOnTlV0dLS6d%2B%2BuJUuWmO77r3/9S4888ogiIiL00EMP6bPPPnPbHh0drY4dO7o9zp49W2NzpVECAMDO6mCjNHv2bG3fvl3Lli3T4cOH9dxzzykoKEh9%2B/Z12y87O1uJiYmaNGmSevTooS%2B%2B%2BELPPPOMVqxYoU6dOik3N1enT5/W%2BvXr5e3t7TquYcOGNTZXghIAAHZWx4JSYWGh0tPTtXjxYoWFhSksLEy7du3S%2B%2B%2B/XykorVmzRt26ddOwYcMkST/72c/0z3/%2BU3/961/VqVMn5eTkyN/fXzfffPM1my9BCQAAXDfZ2dkqKytTRESEaywqKkpvvfWWysvLVe%2BiYBcXF6dz585VOsfp06clSbt371bbtm2v6XwJSgAA2Nk1aJTy8vLkdDrdxvz9/RUQEHDZY51Op5o1ayZPT0/XWIsWLVRSUqITJ06oefPmrvH27du7Hbtr1y599dVX%2BuUvfylJysnJUVFRkYYOHaq9e/cqNDRUU6dOrdHwRFACAMDOrkFQSktLU0pKittYYmKikpKSLntsUVGRW0iS5Pq9tLTU9LiCggIlJSUpMjJS9957ryRpz549OnnypJ599ln5%2Bvpq8eLFGjFihD799FP5%2Bvpe6cuqEkEJAABckUGDBik2NtZtzN/fv1rHenl5VQpEFb9ffEP2xfLz8/X444/LMAzNnz/ftTz37rvv6ty5c2rUqJEkac6cOerRo4c2bNighx566IpekxmCEgAAdnYNGqWAgIBqLbNVJTAwUMePH1dZWZk8PC7EEKfTKW9vbzVp0qTS/rm5ua6buVNTU92W5jw9Pd3aKS8vLwUHBys3N/eq5laVunUrPAAAsLXQ0FB5eHhoy5YtrrGMjAx17tzZ7UZu6cI75J544gnVq1dPy5cvV2BgoGubYRjq3bu3Vq1a5bb//v371a5duxqbL40SAAB2Vsc%2BHsDHx0f9%2B/dXcnKyXn31VeXl5WnJkiWaOXOmpAvtUuPGjeXt7a23335bP/74o9577z3XNunCEl3jxo3Vs2dPLViwQK1bt1bz5s01b948tWzZUj169Kix%2BRKUAACwszoWlCRpypQpSk5O1vDhw%2BXr66ukpCTdf//9kqTu3btr5syZGjBggNatW6fi4mINHDjQ7fi4uDjNmjVLEydOlIeHh8aPH68zZ86oW7duWrRokerXr19jc3UYhmHU2Nlqm8NR2zMA7CEiQsrMlCIjpc2ba3s2wI2vNv/UfvVVzZ/zrrtq/px1FI0SAAB2VgcbpRsJVw8AAMAEjRIAAHZGo2QJQQkAADsjKFnC1QMAADBBowQAgJ3RKFnC1QMAADBBowQAgJ3RKFlCUAIAwM4ISpZw9QAAAEzQKAEAYGc0SpZw9QAAAEzQKAEAYGc0SpYQlAAAsDOCkiVcPQAAABM0SgAA2BmNkiVcPQAAABM0SgAA2BmNkiUEJQAA7IygZAlXDwAAwASNEgAAdkajZAlXDwAAwASNEgAAdkajZAlBCQAAOyMoWcLVAwAAMEGjBACAndEoWcLVAwAAMEGjBACAndEoWUJQAgDAzghKlnD1AAAATNAoAQBgZzRKlnD1AAAATNAoAQBgZzRKlhCUAACwM4KSJVw9AAAAEzRKAADYGY2SJQQlAADsjKBkCVcPAADABI0SAAB2RqNkCVcPAADABI0SAAB2RqNkCVcPAAA7q1ev5h8WlZSUaOrUqYqOjlb37t21ZMkS032///57DRw4UOHh4Xr00Ue1fft2t%2B1r1qxR7969FR4ernHjxqmgoMDy/C5GUAIAANfV7NmztX37di1btkwvvviiUlJS9Le//a3SfoWFhXryyScVHR2tVatWKSIiQmPGjFFhYaEkaevWrZo2bZoSExOVlpamU6dOacqUKTU6V4ISAAB2VscapcLCQqWnp2vatGkKCwvTfffdpyeeeELvv/9%2BpX3Xrl0rLy8vTZo0Se3bt9e0adPUqFEjV6havny5%2BvXrp/79%2B6tTp06aPXsQ4HVfAAAcDklEQVS2Pv/8cx04cMDSHC92Ra/24MGD6tixoz755BPdc889io6O1vTp01VWVqYFCxZo7NixGjx4sLp27apNmzapsLBQL7zwgmJiYhQTE6Pnn39eJSUlkqSOHTsqPT1dvXv3VkREhMaPH6%2BzZ8/W2AsDAAB1T3Z2tsrKyhQREeEai4qKUlZWlsrLy932zcrKUlRUlBwOhyTJ4XAoMjJSW7ZscW2Pjo527d%2BqVSsFBQUpKyurxuZ7VTdzp6Sk6I033lBZWZkmTZqkRo0aycPDQ5999pmSk5PVpUsXtW3bVlOnTtXOnTv1hz/8Qd7e3po4caJ%2B//vf67nnnpMkzZs3T9OnT5efn5%2BmTp2qF154QXPnzq3WHPLy8uR0Ot3G/Nu2VUDTplfzkgBcrFMn9/8FcOO6BjdzV/k32N9fAQEBlz3W6XSqWbNm8vT0dI21aNFCJSUlOnHihJo3b%2B6276233up2vJ%2Bfn3bt2uWax0%2Bf08/PT0ePHr3i12TmqoLSxIkTXQnumWee0Zw5c5SQkKAWLVooISFBknTy5En97W9/09KlSxUVFSVJevnll7Vjxw7XeUaPHq2ePXtKkqZNm6aRI0cqOTlZjRs3vuwc0tLSlJKS4jaW%2BMwzSnrmmat5SQCq8sEHtT0DABYZctT4Oav8G5yYqKSkpMseW1RU5BaSJLl%2BLy0trda%2BFfsVFxdfcntNuKqgFBkZ6fr59ttvV0FBgY4fP67WrVu7xvfv36/z588rLCzMNRYdHe1Wkf30POfPn9fevXt1xx13XHYOgwYNUmxsrNuY/0MPScuWXc1LAnCxTp0uhKRf/UrKzq7t2QA3vszM2p5Bjaryb7C/f7WO9fLyqhRkKn739vau1r4V%2B5lt9/HxqdZcquOqglKDBg1cP1esJ9arV09eXl5V7nOl56mOgICAyhXf3r3VOhZANWVnS5s31/YsAFjwk9t%2BakSVf4OrKTAwUMePH1dZWZk8PC7EEKfTKW9vbzVp0qTSvvn5%2BW5j%2Bfn5ruc2217d0FYdV7VwefHy2fbt2xUQEKCmP7k36Oabb1b9%2BvWVfdF/ja5fv15xcXGm52nQoIHatm17NVMCAAA3gNDQUHl4eLhuyJakjIwMde7cuVJZEh4ers2bN8swDEmSYRjKzMxUeHi4a3tGRoZr/yNHjujIkSOu7TXhqoLSjBkztG3bNn355ZeaN2%2BeBg8eXGkfX19f9e/fXzNmzNDWrVu1bds2vfHGG%2BrWrZtrn/nz52vTpk3KysrS9OnTFRcXp0aNGl39qwEAAG7Ky2v%2BYYWPj4/69%2B%2Bv5ORkbd26VevXr9eSJUs0bNgwSRfapeLiYklS3759derUKc2YMUO7d%2B/WjBkzVFRUpH79%2BkmSEhIStHr1aqWnpys7O1uTJk1Sz549dfPNN1ub5MWMK3DgwAEjJCTEeOutt4y77rrLiImJMX7/%2B98b58%2BfN%2BbPn28MGTLEbf/Tp08bkydPNiIjI42YmBjjpZdeMkpKSgzDMIyQkBDj97//vdGrVy8jKirKeOGFF1zbrprEgwePmnhERFz4ZyoiovbnwoOHHR61qLi45h9WFRYWGpMmTTK6dOlidO/e3Vi6dKlrW0hIiLFy5UrX71lZWUb//v2Nzp07G/Hx8cZ3333ndq6VK1caPXr0MLp06WKMGzfOKCgosD7BizgMwzCqG6oOHjyoe%2B%2B9V5999pmCg4MtBbSOHTsqNTVVMTExls7jxlHzd/YD/5MiIi7cfBoZyT1KQE2o/p/aGvf/P76wRl10S7Lt8aW4AADY2LW4mft/CV9hAgAAYOKKGqXg4GDt3LmzRp64ps4DAADM0ShZw9IbAAA2RlCyhqU3AAAAEzRKAADYGI2SNTRKAAAAJmiUAACwMRolawhKAADYGEHJGpbeAAAATNAoAQBgYzRK1tAoAQAAmKBRAgDAxmiUrCEoAQBgYwQla1h6AwAAMEGjBACAjdEoWUOjBAAAYIJGCQAAG6NRsoagBACAjRGUrGHpDQAAwASNEgAANkajZA2NEgAAgAkaJQAAbIxGyRqCEgAANkZQsoalNwAAABM0SgAA2BiNkjU0SgAAACZolAAAsDEaJWsISgAA2BhByRqW3gAAAEzQKAEAYGM0StYQlAAAsDGCkjUsvQEAAJigUQIAwMZolKyhUQIAADBBowQAgI3RKFlDUAIAwMYIStaw9AYAAGCCRgkAABujUbKGRgkAAMAEjRIAADZGo2QNjRIAADZWXl7zj2vJMAzNmTNH3bp1U9euXTV79myVX%2BJJt2zZol/%2B8peKiIhQnz59lJ6e7rb94YcfVseOHd0eP/zwQ7XnQ6MEAADqjKVLl2rNmjVKSUlRWVmZJk6cKD8/P40aNarSvk6nU6NHj1ZCQoJmzZql7777TlOmTJG/v7969uyp8%2BfPa9%2B%2BfVq%2BfLnatGnjOq5Zs2bVng9BCQAAG7vRlt5SU1P19NNPKzo6WpI0YcIEzZs3r8qgtH79erVo0ULPPvusJKlNmzbauHGjPvnkE/Xs2VMHDx7UuXPndMcdd8jLy%2Buq5kNQAgAAdUJubq6OHDmiO%2B%2B80zUWFRWlQ4cOKS8vTwEBAW7733PPPQoNDa10njNnzkiSdu/erVatWl11SJIISgAA2Nq1aJTy8vLkdDrdxvz9/SsFmStVcc6Lz9OiRQtJ0tGjRyudPzg4WMHBwa7fjx07pk8//VRJSUmSpJycHDVo0EBjxozR9u3b1bZtW02aNEl33HFHtedEUAIAwMauRVBKS0tTSkqK21hiYqIroFxKcXGxcnNzq9xWWFgoSfL09HSNVfxcWlp62fMmJSWpRYsWGjRokCRp7969OnnypAYOHKinn35aH374oYYPH661a9eqVatWl52rRFACAABXaNCgQYqNjXUb8/f3r9axWVlZGjZsWJXbJk6cKOlCKKpYLqsISD4%2BPqbnPHv2rMaOHat9%2B/bpgw8%2BcO37yiuvqLi4WL6%2BvpKk5ORkZWZmavXq1fr1r39drfkSlAAAsLFr0SgFBARc9TJbTEyMdu7cWeW23Nxcvf7663I6na4ltYrlOLMgdubMGT3xxBP68ccftWzZMrd3t3l4eLhCkiQ5HA61a9fOtNGqCp%2BjBAAA6oTAwEAFBQUpIyPDNZaRkaGgoKAqg1l5ebkSExN18OBBvffee%2BrQoYPb9qFDh7otEZaXl2vnzp1q165dtedEowQAgI3daB8PkJCQoDlz5qhly5aSpLlz52rkyJGu7QUFBfLy8lKjRo20YsUKbdy4UW%2B%2B%2BaaaNGniap8aNGigpk2bKjY2VgsXLlRoaKjatm2r1NRUnT59WnFxcdWeD0EJAAAbu9GC0qhRo3Ts2DElJiaqfv36io%2BP14gRI1zb4%2BPjFRcXp6SkJK1bt07l5eUaM2aM2zm6du2q9957TyNGjFBJSYmmT5%2Bu/Px8hYeHa%2BnSpW7LcZfjMAzDqKkXV%2BscjtqeAWAPERFSZqYUGSlt3lzbswFufLX4p3bdupo/Z58%2BNX/OuopGCQAAG7vRGqW6hpu5AQAATNAoAQBgYzRK1hCUAACwMYKSNSy9AQAAmKBRAgDAxmiUrKFRAgAAMEGjBACAjdEoWUNQAgDAxghK1rD0BgAAYIJGCQAAG6NRsoZGCQAAwASNEgAANkajZA1BCQAAGyMoWcPSGwAAgAkaJQAAbIxGyRoaJQAAABM0SgAA2BiNkjUEJQAAbIygZA1LbwAAACZolAAAsDEaJWsISgAA2BhByRqW3gAAAEzQKAEAYGM0StbQKAEAAJigUQIAwMZolKwhKAEAYGMEJWtYegMAADBBowQAgI3RKFlDowQAAGCCRgkAABujUbKGoAQAgI0RlKxh6Q0AAMAEjRIAADZGo2QNjRIAAIAJGiUAAGyMRskaghIAADZGULKGpTcAAAATNEoAANgYjZI1NEoAAAAmCEoAANhYeXnNP64lwzA0Z84cdevWTV27dtXs2bNVfoknnT59ujp27Oj2WL58uWv7l19%2BqQcffFDh4eEaNmyYDhw4cEXzYekNAAAbu9GW3pYuXao1a9YoJSVFZWVlmjhxovz8/DRq1Kgq98/JydH48eMVFxfnGvP19ZUkHT58WOPGjVNSUpLuueceLVy4UGPHjtVf/vIXORyOas2HRgkAANQZqampevrppxUdHa1u3bppwoQJev/99033z8nJ0W233SZ/f3/Xw8fHR5KUnp6u22%2B/XSNHjlSHDh00c%2BZMHTp0SJs2bar2fAhKAADY2I209Jabm6sjR47ozjvvdI1FRUXp0KFDysvLq7T/mTNnlJubqzZt2lR5vqysLEVHR7t%2B9/HxUVhYmLZs2VLtORGUAABAneB0OiVJAQEBrrEWLVpIko4ePVpp/5ycHDkcDr311lv6xS9%2BoYcfflgfffSR2/kuPpck%2Bfn5VXkuM9yjBACAjV2LBigvL88Vair4%2B/tXCiVVKS4uVm5ubpXbCgsLJUmenp6usYqfS0tLK%2B2/Z88eORwOtWvXTkOGDNE333yj559/Xr6%2BvrrvvvtUVFTkdq6K81V1LjMEJQAAbOxaBKW0tDSlpKS4jSUmJiopKemyx2ZlZWnYsGFVbps4caKkC6HIy8vL9bMk131HF%2Bvfv7969eqlpk2bSpI6deqkffv26U9/%2BpPuu%2B8%2BeXl5VQpFpaWlatKkyWXnWYGgBAAArsigQYMUGxvrNubv71%2BtY2NiYrRz584qt%2BXm5ur111%2BX0%2BlUcHCwpP9bjqvq/A6HwxWSKrRr105ff/21JCkwMFD5%2Bflu2/Pz8xUaGlqtuUoEJQAAbO1aNEoBAQHVWma7UoGBgQoKClJGRoYrKGVkZCgoKKjK55s3b542b96sP/7xj66x7OxstWvXTpIUHh6ujIwM17aioiJ9//33SkxMrPacuJkbAADUGQkJCZozZ442btyojRs3au7cuW5LdQUFBTp79qwkqVevXvrmm2/07rvv6scff9QHH3ygjz/%2BWCNHjpQkPfroo8rMzNSiRYu0a9cuTZkyRcHBwYqJian2fAhKAADY2I308QCSNGrUKD3wwANKTEzUM888o0ceeUQjRoxwbY%2BPj9eSJUskSXfccYfmzZun1atX68EHH9R7772nuXPnKiIiQpIUHBysBQsWaOXKlYqPj9eJEye0cOHCan/YpCQ5DMMwavQV1qYreOEALiEiQsrMlCIjpc2ba3s2wI2vFv/UTplS8%2BecObPmz1lX0SgBAACY4GZuAABs7Eb7rre6hkYJAADABI0SAAA2RqNkDUEJAAAbIyhZw9IbAACACRolAABsjEbJGholAAAAEzRKAADYGI2SNQQlAABsjKBkDUtvAAAAJmiUAACwMRolawhKAADYGEHJGpbeAAAATNAoAQBgYzRK1tAoAQAAmKBRAgDAxmiUrCEoAQBgYwQla1h6AwAAMEGjBACAjdEoWUOjBAAAYIJGCQAAG6NRsoagBACAjRGUrGHpDQAAwASNEgAANkajZA2NEgAAgAkaJQAAbIxGyRqCEgAANkZQsoalNwAAABM0SgAA2BiNkjU0SgAAACZolAAAsDEaJWsISgAA2BhByRqW3gAAAEzQKAEAYGM0StbQKAEAAJigUQIAwMZolKwhKAEAYGMEJWtYegMAADBBowQAgI3RKFlDowQAAGCCRgkAABu70RolwzA0d%2B5crVixQuXl5YqPj9eECRNUr17lbmfy5Mn66KOPKo3HxMQoNTVVkvTwww9r586dbts/%2BeQThYSEVGs%2BBCUAAGzsRgtKS5cu1Zo1a5SSkqKysjJNnDhRfn5%2BGjVqVKV9p02bpvHjx7t%2BP3TokIYOHaphw4ZJks6fP699%2B/Zp%2BfLlatOmjWu/Zs2aVXs%2BBCUAAFBnpKam6umnn1Z0dLQkacKECZo3b16VQalx48Zq3Lix6/fJkyerb9%2B%2B6t27tyTp4MGDOnfunO644w55eXld1XwISgAA2NiN1Cjl5ubqyJEjuvPOO11jUVFROnTokPLy8hQQEGB67FdffaVvvvlG69atc43t3r1brVq1uuqQJHEzNwAAqCOcTqckuQWiFi1aSJKOHj16yWMXLVqkuLg4tWrVyjWWk5OjBg0aaMyYMbr77rs1ZMgQbd269YrmRKMEAICNXYtGKS8vzxVqKvj7%2B1%2By8alQXFys3NzcKrcVFhZKkjw9PV1jFT%2BXlpaanvPAgQP6%2BuuvNW3aNLfxvXv36uTJkxo4cKCefvppffjhhxo%2BfLjWrl3rFqguhaAEAICNXYuglJaWppSUFLexxMREJSUlXfbYrKws183WPzVx4kRJF0JRxXJZRUDy8fExPee6desUGhqqW2%2B91W38lVdeUXFxsXx9fSVJycnJyszM1OrVq/XrX//6snOVCEoAAOAKDRo0SLGxsW5j/v7%2B1To2Jiam0tv1K%2BTm5ur111%2BX0%2BlUcHCwpP9bjrvU%2Bf/zn//o3nvvrTTu4eHhCkmS5HA41K5dO9NGqyoEJQAAbOxaNEoBAQHVWma7UoGBgQoKClJGRoYrKGVkZCgoKMj0%2BQzD0LZt26psiIYOHaqYmBglJiZKksrLy7Vz504NHjy42nMiKAEAgDojISFBc%2BbMUcuWLSVJc%2BfO1ciRI13bCwoK5OXlpUaNGkm68NlJZ8%2BerbTsJkmxsbFauHChQkND1bZtW6Wmpur06dOKi4ur9nwISgAA2NiN9PEAkjRq1CgdO3ZMiYmJql%2B/vuLj4zVixAjX9vj4eMXFxbnuhzp27Jgk6aabbqp0rhEjRqikpETTp09Xfn6%2BwsPDtXTpUrfluMtxGIZhWHtJdYjDUdszAOwhIkLKzJQiI6XNm2t7NsCNrxb/1N51V82f86uvav6cdRWfowQAAGCCpTcAAGzsRlt6q2sISgAA2BhByRqW3gAAAEzQKAEAYGM0StbQKAEAAJigUQIAwMZolKwhKAEAYGMEJWtYegMAADBBowQAgI3RKFlDowQAAGCCRgkAABujUbKGoAQAgI0RlKxh6Q0AAMAEjRIAADZGo2QNjRIAAIAJGiUAAGyMRskaghIAADZGULKGpTcAAAATNEoAANgYjZI1NEoAAAAmaJQAALAxGiVrCEoAANgYQckalt4AAABM0CgBAGBjNErW0CgBAACYoFECAMDGaJSsISgBAGBjBCVrWHoDAAAwQaMEAICN0ShZQ6MEAABggkYJAAAbo1GyhqAEAICNEZSsYekNAADABI0SAAA2RqNkDY0SAACACRolAABsjEbJGoISAAA2RlCyhqU3AAAAEzRKAADYGI2SNTRKAAAAJghKAADYWHl5zT%2BuB8MwNHLkSK1ateqS%2Bx04cEAjRoxQly5d9MADD%2BiLL75w2/7ll1/qwQcfVHh4uIYNG6YDBw5c0TwISgAA2NiNGJTKy8s1ffp0/fe//73kfoZhaNy4cWrRooVWrlypRx55RImJiTp8%2BLAk6fDhwxo3bpwGDBigFStWqHnz5ho7dqwMw6j2XAhKAACgzsjNzdXw4cP1z3/%2BU02aNLnkvl9//bUOHDigl19%2BWe3bt9eYMWPUpUsXrVy5UpKUnp6u22%2B/XSNHjlSHDh00c%2BZMHTp0SJs2bar2fAhKAADY2I3WKH333Xdq1aqVVq5cqcaNG19y36ysLN12221q2LChaywqKkpbtmxxbY%2BOjnZt8/HxUVhYmGt7dfCuNwAAUGfExsYqNja2Wvs6nU4FBAS4jfn5%2Beno0aPV2l4dBCUAAGzsWjRAeXl5cjqdbmP%2B/v6VQklViouLlZubW%2BU2f39/t3bocoqKiuTp6ek25unpqdLS0mptrw57BaUruDkLgLm8vDylLVigQX/7W7X%2BxQeg7roWfxoXLEhTSkqK21hiYqKSkpIue2xWVpaGDRtW5baFCxeqd%2B/e1Z6Hl5eXTpw44TZWWloqb29v1/afhqLS0tLL3vt0MXsFJQA1wul0KiUlRbGxsQQlAJUMGjSo0vKYv79/tY6NiYnRzp07a2QegYGB2r17t9tYfn6%2B699bgYGBys/Pr7Q9NDS02s9BUAIAAFckICCgTvxHVHh4uBYtWqTi4mJXi5SRkaGoqCjX9oyMDNf%2BRUVF%2Bv7775WYmFjt5%2BBdbwAA4IZRUFCgs2fPSpK6du2qVq1aacqUKdq1a5cWLVqkrVu3Kj4%2BXpL06KOPKjMzU4sWLdKuXbs0ZcoUBQcHKyYmptrPR1ACAAA3jPj4eC1ZskSSVL9%2Bff3hD3%2BQ0%2BnUgAED9Je//EULFy5UUFCQJCk4OFgLFizQypUrFR8frxMnTmjhwoVyOBzVfj6HcSUfTwngf0JeXp7S0tI0aNCgOlGvA0BtISgBAACYYOkNAADABEEJAADABEEJAADABEEJAADABEEJAADABEEJAADABEEJAADABEEJAADABEEJAADAhEdtTwBA3XLmzBnt27dP9erVU9u2beXj41PbUwKAWkNQAiBJKioq0gsvvKC//vWvKisrkyR5enoqLi5Ov/3tb9WgQYNaniEAXH8svQGQJD3//PPKzs7Wu%2B%2B%2Bq4yMDH3zzTd666239O2332rmzJm1PT0AqBV8KS4ASVJkZKTee%2B89hYWFuY1nZWVp9OjR2rRpUy3NDABqD40SAEmSn5%2Bfjh07Vmm8tLRUvr6%2BtTAjAKh99ZOTk5NrexIAal/Dhg316quvytPTU/Xr19fx48f1xRdfaMaMGYqLi1O9evV0%2BPBhHT58WK1bt67t6QLAdcHSGwBJUqdOnaq1n8Ph0I4dO67xbACgbiAoAQAAmOAeJQCSLtyLNHv2bL3//vuusQEDBmjOnDk6d%2B5cLc4MAGoPQQmAJGn69On6/PPP3Zbgxo4dq3/961967bXXanFmAFB7WHoDIEnq1q2bli5dqtDQULfxbdu2acyYMfryyy9raWYAUHtolABIkgzDUElJSZXjLL0B%2BF9FUAIgSerTp4%2Bef/55ffvttyosLFRhYaEyMzOVnJys%2B%2B67r7anBwC1gqU3AJIufNfbtGnTtG7dOpWXl0uS6tevr0ceeURTp05Vo0aNanmGAHD9EZQASJK%2B/fZbde7cWSUlJdq/f78aNGig4OBgPpUbwP80ghIASVJMTIyWLVtW7Q%2BeBID/BdyjBECS1KFDB23durW2pwEAdQqNEgBJ0rhx4/TZZ5%2BpRYsWCg4Olqenp9v21NTUWpoZANQej9qeAIC6ITQ0VKGhoTIMQydOnJDD4VDTpk1re1oAUKtolABIks6fP6/58%2BcrPT1dBQUFkqTAwEANHjxYTz75ZC3PDgBqB40SAEnSa6%2B9pnXr1mnChAm6/fbbVV5erm3btmn%2B/PkqLS1VYmJibU8RAK47GiUAkqQ777xTCxcuVNeuXd3Gv/zyS02YMIGvMAHwP4l3vQGQJPn4%2BKhBgwaVxps0aSKHw1ELMwKA2lc/OTk5ubYnAaD2%2Bfv7a9asWWrdurWaNWumsrIybd26VS%2B99JLi4%2BPVqlUrnT59WqdPn1bjxo1re7oAcF2w9AZAktw%2BaLKiQbr4Xw8Oh0OGYcjhcGjHjh3XfX4AUBsISgAkSYcOHar2vq1bt76GMwGAuoOgBAAAYIKbuQEAAEwQlAAAAEwQlAAAAEwQlAAAAEwQlAAAAEwQlAAAAEwQlAAAAEwQlAAAAEz8P63AewLLDnGhAAAAAElFTkSuQmCC\" class=\"center-img\">\n",
       "</div>\n",
       "    <div class=\"row headerrow highlight\">\n",
       "        <h1>Sample</h1>\n",
       "    </div>\n",
       "    <div class=\"row variablerow\">\n",
       "    <div class=\"col-md-12\" style=\"overflow:scroll; width: 100%%; overflow-y: hidden;\">\n",
       "        <table border=\"1\" class=\"dataframe sample\">\n",
       "  <thead>\n",
       "    <tr style=\"text-align: right;\">\n",
       "      <th></th>\n",
       "      <th>date</th>\n",
       "      <th>prcp</th>\n",
       "    </tr>\n",
       "  </thead>\n",
       "  <tbody>\n",
       "    <tr>\n",
       "      <th>0</th>\n",
       "      <td>2017-08-23</td>\n",
       "      <td>0.00</td>\n",
       "    </tr>\n",
       "    <tr>\n",
       "      <th>1</th>\n",
       "      <td>2017-08-23</td>\n",
       "      <td>0.00</td>\n",
       "    </tr>\n",
       "    <tr>\n",
       "      <th>2</th>\n",
       "      <td>2017-08-23</td>\n",
       "      <td>0.08</td>\n",
       "    </tr>\n",
       "    <tr>\n",
       "      <th>3</th>\n",
       "      <td>2017-08-23</td>\n",
       "      <td>0.45</td>\n",
       "    </tr>\n",
       "    <tr>\n",
       "      <th>4</th>\n",
       "      <td>2017-08-22</td>\n",
       "      <td>0.00</td>\n",
       "    </tr>\n",
       "  </tbody>\n",
       "</table>\n",
       "    </div>\n",
       "</div>\n",
       "</div>"
      ],
      "text/plain": [
       "<pandas_profiling.ProfileReport at 0x118060208>"
      ]
     },
     "execution_count": 25,
     "metadata": {},
     "output_type": "execute_result"
    }
   ],
   "source": [
    "# use pandas profiling to analyze merge1_drop\n",
    "results_df_profile = pandas_profiling.ProfileReport(results_df)\n",
    "results_df_profile"
   ]
  },
  {
   "cell_type": "markdown",
   "metadata": {},
   "source": [
    "# Station Analysis\n",
    "\n",
    "* Design a query to calculate the total number of stations.\n",
    "\n",
    "* Design a query to find the most active stations.\n",
    "\n",
    "    * List the stations and observation counts in descending order\n",
    "    * Which station has the highest number of observations?\n",
    "\n",
    "* Design a query to retrieve the last 12 months of temperature observation data (tobs).\n",
    "\n",
    "    * Filter by the station with the highest number of observations.\n",
    "    * Plot the results as a histogram with bins=12.\n"
   ]
  },
  {
   "cell_type": "code",
   "execution_count": 26,
   "metadata": {},
   "outputs": [
    {
     "name": "stdout",
     "output_type": "stream",
     "text": [
      "The total number of stations: 9\n"
     ]
    }
   ],
   "source": [
    "# query to calculate total number of stations\n",
    "print(\"The total number of stations:\", session.query(Station.station).count())"
   ]
  },
  {
   "cell_type": "code",
   "execution_count": 27,
   "metadata": {
    "scrolled": true
   },
   "outputs": [
    {
     "name": "stdout",
     "output_type": "stream",
     "text": [
      "The Station with the highest number of observtations is USC00519281.\n"
     ]
    },
    {
     "data": {
      "text/plain": [
       "[('USC00519281', 2772),\n",
       " ('USC00513117', 2696),\n",
       " ('USC00519397', 2685),\n",
       " ('USC00519523', 2572),\n",
       " ('USC00516128', 2484),\n",
       " ('USC00514830', 1937),\n",
       " ('USC00511918', 1932),\n",
       " ('USC00517948', 683),\n",
       " ('USC00518838', 342)]"
      ]
     },
     "execution_count": 27,
     "metadata": {},
     "output_type": "execute_result"
    }
   ],
   "source": [
    "# most active stations in descending order\n",
    "print('The Station with the highest number of observtations is USC00519281.')\n",
    "session.query(Measurement.station, func.count(Measurement.station).label(\"most_active_stations\"))\\\n",
    "    .group_by(Measurement.station).order_by(\"most_active_stations DESC\").all()   "
   ]
  },
  {
   "cell_type": "code",
   "execution_count": 28,
   "metadata": {},
   "outputs": [
    {
     "name": "stdout",
     "output_type": "stream",
     "text": [
      "('2016-08-23', 81.0, 'USC00519397', 'WAIKIKI 717.2, HI US')\n",
      "('2016-08-23', 81.0, 'USC00519397', 'KANEOHE 838.1, HI US')\n",
      "('2016-08-23', 81.0, 'USC00519397', 'KUALOA RANCH HEADQUARTERS 886.9, HI US')\n",
      "('2016-08-23', 81.0, 'USC00519397', 'PEARL CITY, HI US')\n",
      "('2016-08-23', 81.0, 'USC00519397', 'UPPER WAHIAWA 874.3, HI US')\n",
      "('2016-08-23', 81.0, 'USC00519397', 'WAIMANALO EXPERIMENTAL FARM, HI US')\n",
      "('2016-08-23', 81.0, 'USC00519397', 'WAIHEE 837.5, HI US')\n",
      "('2016-08-23', 81.0, 'USC00519397', 'HONOLULU OBSERVATORY 702.2, HI US')\n",
      "('2016-08-23', 81.0, 'USC00519397', 'MANOA LYON ARBO 785.2, HI US')\n",
      "('2016-08-24', 79.0, 'USC00519397', 'WAIKIKI 717.2, HI US')\n"
     ]
    }
   ],
   "source": [
    "# Design a query to retrieve the last 12 months of temperature observation data (tobs).\n",
    "\n",
    "for row in session.query(Measurement.date, Measurement.tobs, Measurement.station, Station.name).filter(Measurement.date <= '2017-08-23').\\\n",
    "filter(Measurement.date >= '2016-08-23').limit(10):\n",
    "    print (row)       "
   ]
  },
  {
   "cell_type": "code",
   "execution_count": 29,
   "metadata": {
    "collapsed": true
   },
   "outputs": [],
   "source": [
    "tobs_results = session.query(Measurement.date, Measurement.station, Measurement.tobs).\\\n",
    "filter(Measurement.date <= '2017-08-23').\\\n",
    "filter(Measurement.date >= '2016-08-23').\\\n",
    "order_by(Measurement.date.desc()).all()\n",
    "# tobs_results"
   ]
  },
  {
   "cell_type": "code",
   "execution_count": 30,
   "metadata": {},
   "outputs": [
    {
     "data": {
      "text/plain": [
       "[('USC00516128', 77.0, 193),\n",
       " ('USC00516128', 76.0, 186),\n",
       " ('USC00516128', 78.0, 179),\n",
       " ('USC00516128', 74.0, 160),\n",
       " ('USC00516128', 75.0, 159),\n",
       " ('USC00516128', 79.0, 138),\n",
       " ('USC00516128', 80.0, 132),\n",
       " ('USC00516128', 72.0, 114),\n",
       " ('USC00516128', 71.0, 113),\n",
       " ('USC00516128', 73.0, 110),\n",
       " ('USC00516128', 70.0, 102),\n",
       " ('USC00516128', 69.0, 85),\n",
       " ('USC00519281', 81.0, 78),\n",
       " ('USC00516128', 68.0, 49),\n",
       " ('USC00516128', 67.0, 47),\n",
       " ('USC00516128', 82.0, 38),\n",
       " ('USC00516128', 66.0, 28),\n",
       " ('USC00516128', 65.0, 26),\n",
       " ('USC00516128', 64.0, 23),\n",
       " ('USC00519281', 63.0, 15),\n",
       " ('USC00519281', 62.0, 13),\n",
       " ('USC00519281', 83.0, 12),\n",
       " ('USC00516128', 60.0, 6),\n",
       " ('USC00519523', 84.0, 6),\n",
       " ('USC00519281', 61.0, 4),\n",
       " ('USC00519281', 59.0, 3),\n",
       " ('USC00516128', 58.0, 1),\n",
       " ('USC00519397', 87.0, 1)]"
      ]
     },
     "execution_count": 30,
     "metadata": {},
     "output_type": "execute_result"
    }
   ],
   "source": [
    "# Design a query to retrieve the last 12 months of temperature observation data (tobs)\n",
    "# Filter by the station with the highest number of observations.\n",
    "# Plot the results as a histogram with bins=12.\n",
    "\n",
    "tobs_results= session.query(Measurement.station, Measurement.tobs, func.count(Measurement.tobs).\\\n",
    "    label(\"highest_observations\")).\\\n",
    "    group_by(Measurement.tobs).\\\n",
    "    filter(Measurement.date <= '2017-08-23').\\\n",
    "    filter(Measurement.date >= '2016-08-23').\\\n",
    "    order_by(\"highest_observations DESC\").all() \n",
    "tobs_results"
   ]
  },
  {
   "cell_type": "markdown",
   "metadata": {},
   "source": [
    "* un pack and add to df"
   ]
  },
  {
   "cell_type": "code",
   "execution_count": 31,
   "metadata": {
    "scrolled": false
   },
   "outputs": [],
   "source": [
    "# unpack date and prcp to plot in matplotlib using list comprehension [:] selects everything in the list\n",
    "station_tobs = [t[0] for t in tobs_results[:]]\n",
    "tobs_2 = [t[1] for t in tobs_results[:]]\n",
    "observations = [t[2] for t in tobs_results[:]]"
   ]
  },
  {
   "cell_type": "code",
   "execution_count": 32,
   "metadata": {},
   "outputs": [
    {
     "data": {
      "text/html": [
       "<div>\n",
       "<style>\n",
       "    .dataframe thead tr:only-child th {\n",
       "        text-align: right;\n",
       "    }\n",
       "\n",
       "    .dataframe thead th {\n",
       "        text-align: left;\n",
       "    }\n",
       "\n",
       "    .dataframe tbody tr th {\n",
       "        vertical-align: top;\n",
       "    }\n",
       "</style>\n",
       "<table border=\"1\" class=\"dataframe\">\n",
       "  <thead>\n",
       "    <tr style=\"text-align: right;\">\n",
       "      <th></th>\n",
       "      <th>station</th>\n",
       "      <th>tobs</th>\n",
       "      <th>observations</th>\n",
       "    </tr>\n",
       "  </thead>\n",
       "  <tbody>\n",
       "    <tr>\n",
       "      <th>0</th>\n",
       "      <td>USC00516128</td>\n",
       "      <td>77.0</td>\n",
       "      <td>193</td>\n",
       "    </tr>\n",
       "    <tr>\n",
       "      <th>1</th>\n",
       "      <td>USC00516128</td>\n",
       "      <td>76.0</td>\n",
       "      <td>186</td>\n",
       "    </tr>\n",
       "    <tr>\n",
       "      <th>2</th>\n",
       "      <td>USC00516128</td>\n",
       "      <td>78.0</td>\n",
       "      <td>179</td>\n",
       "    </tr>\n",
       "    <tr>\n",
       "      <th>3</th>\n",
       "      <td>USC00516128</td>\n",
       "      <td>74.0</td>\n",
       "      <td>160</td>\n",
       "    </tr>\n",
       "    <tr>\n",
       "      <th>4</th>\n",
       "      <td>USC00516128</td>\n",
       "      <td>75.0</td>\n",
       "      <td>159</td>\n",
       "    </tr>\n",
       "    <tr>\n",
       "      <th>5</th>\n",
       "      <td>USC00516128</td>\n",
       "      <td>79.0</td>\n",
       "      <td>138</td>\n",
       "    </tr>\n",
       "    <tr>\n",
       "      <th>6</th>\n",
       "      <td>USC00516128</td>\n",
       "      <td>80.0</td>\n",
       "      <td>132</td>\n",
       "    </tr>\n",
       "    <tr>\n",
       "      <th>7</th>\n",
       "      <td>USC00516128</td>\n",
       "      <td>72.0</td>\n",
       "      <td>114</td>\n",
       "    </tr>\n",
       "    <tr>\n",
       "      <th>8</th>\n",
       "      <td>USC00516128</td>\n",
       "      <td>71.0</td>\n",
       "      <td>113</td>\n",
       "    </tr>\n",
       "    <tr>\n",
       "      <th>9</th>\n",
       "      <td>USC00516128</td>\n",
       "      <td>73.0</td>\n",
       "      <td>110</td>\n",
       "    </tr>\n",
       "    <tr>\n",
       "      <th>10</th>\n",
       "      <td>USC00516128</td>\n",
       "      <td>70.0</td>\n",
       "      <td>102</td>\n",
       "    </tr>\n",
       "    <tr>\n",
       "      <th>11</th>\n",
       "      <td>USC00516128</td>\n",
       "      <td>69.0</td>\n",
       "      <td>85</td>\n",
       "    </tr>\n",
       "    <tr>\n",
       "      <th>12</th>\n",
       "      <td>USC00519281</td>\n",
       "      <td>81.0</td>\n",
       "      <td>78</td>\n",
       "    </tr>\n",
       "    <tr>\n",
       "      <th>13</th>\n",
       "      <td>USC00516128</td>\n",
       "      <td>68.0</td>\n",
       "      <td>49</td>\n",
       "    </tr>\n",
       "    <tr>\n",
       "      <th>14</th>\n",
       "      <td>USC00516128</td>\n",
       "      <td>67.0</td>\n",
       "      <td>47</td>\n",
       "    </tr>\n",
       "    <tr>\n",
       "      <th>15</th>\n",
       "      <td>USC00516128</td>\n",
       "      <td>82.0</td>\n",
       "      <td>38</td>\n",
       "    </tr>\n",
       "    <tr>\n",
       "      <th>16</th>\n",
       "      <td>USC00516128</td>\n",
       "      <td>66.0</td>\n",
       "      <td>28</td>\n",
       "    </tr>\n",
       "    <tr>\n",
       "      <th>17</th>\n",
       "      <td>USC00516128</td>\n",
       "      <td>65.0</td>\n",
       "      <td>26</td>\n",
       "    </tr>\n",
       "    <tr>\n",
       "      <th>18</th>\n",
       "      <td>USC00516128</td>\n",
       "      <td>64.0</td>\n",
       "      <td>23</td>\n",
       "    </tr>\n",
       "    <tr>\n",
       "      <th>19</th>\n",
       "      <td>USC00519281</td>\n",
       "      <td>63.0</td>\n",
       "      <td>15</td>\n",
       "    </tr>\n",
       "    <tr>\n",
       "      <th>20</th>\n",
       "      <td>USC00519281</td>\n",
       "      <td>62.0</td>\n",
       "      <td>13</td>\n",
       "    </tr>\n",
       "    <tr>\n",
       "      <th>21</th>\n",
       "      <td>USC00519281</td>\n",
       "      <td>83.0</td>\n",
       "      <td>12</td>\n",
       "    </tr>\n",
       "    <tr>\n",
       "      <th>22</th>\n",
       "      <td>USC00516128</td>\n",
       "      <td>60.0</td>\n",
       "      <td>6</td>\n",
       "    </tr>\n",
       "    <tr>\n",
       "      <th>23</th>\n",
       "      <td>USC00519523</td>\n",
       "      <td>84.0</td>\n",
       "      <td>6</td>\n",
       "    </tr>\n",
       "    <tr>\n",
       "      <th>24</th>\n",
       "      <td>USC00519281</td>\n",
       "      <td>61.0</td>\n",
       "      <td>4</td>\n",
       "    </tr>\n",
       "    <tr>\n",
       "      <th>25</th>\n",
       "      <td>USC00519281</td>\n",
       "      <td>59.0</td>\n",
       "      <td>3</td>\n",
       "    </tr>\n",
       "    <tr>\n",
       "      <th>26</th>\n",
       "      <td>USC00516128</td>\n",
       "      <td>58.0</td>\n",
       "      <td>1</td>\n",
       "    </tr>\n",
       "    <tr>\n",
       "      <th>27</th>\n",
       "      <td>USC00519397</td>\n",
       "      <td>87.0</td>\n",
       "      <td>1</td>\n",
       "    </tr>\n",
       "  </tbody>\n",
       "</table>\n",
       "</div>"
      ],
      "text/plain": [
       "        station  tobs  observations\n",
       "0   USC00516128  77.0           193\n",
       "1   USC00516128  76.0           186\n",
       "2   USC00516128  78.0           179\n",
       "3   USC00516128  74.0           160\n",
       "4   USC00516128  75.0           159\n",
       "5   USC00516128  79.0           138\n",
       "6   USC00516128  80.0           132\n",
       "7   USC00516128  72.0           114\n",
       "8   USC00516128  71.0           113\n",
       "9   USC00516128  73.0           110\n",
       "10  USC00516128  70.0           102\n",
       "11  USC00516128  69.0            85\n",
       "12  USC00519281  81.0            78\n",
       "13  USC00516128  68.0            49\n",
       "14  USC00516128  67.0            47\n",
       "15  USC00516128  82.0            38\n",
       "16  USC00516128  66.0            28\n",
       "17  USC00516128  65.0            26\n",
       "18  USC00516128  64.0            23\n",
       "19  USC00519281  63.0            15\n",
       "20  USC00519281  62.0            13\n",
       "21  USC00519281  83.0            12\n",
       "22  USC00516128  60.0             6\n",
       "23  USC00519523  84.0             6\n",
       "24  USC00519281  61.0             4\n",
       "25  USC00519281  59.0             3\n",
       "26  USC00516128  58.0             1\n",
       "27  USC00519397  87.0             1"
      ]
     },
     "execution_count": 32,
     "metadata": {},
     "output_type": "execute_result"
    },
    {
     "data": {
      "text/plain": [
       "(28, 3)"
      ]
     },
     "execution_count": 32,
     "metadata": {},
     "output_type": "execute_result"
    }
   ],
   "source": [
    "# load results into pandas df\n",
    "tobs_df = pd.DataFrame(tobs_results[:], columns =['station', 'tobs', 'observations'])\n",
    "tobs_df\n",
    "tobs_df.shape"
   ]
  },
  {
   "cell_type": "code",
   "execution_count": 33,
   "metadata": {},
   "outputs": [
    {
     "data": {
      "text/html": [
       "<div>\n",
       "<style>\n",
       "    .dataframe thead tr:only-child th {\n",
       "        text-align: right;\n",
       "    }\n",
       "\n",
       "    .dataframe thead th {\n",
       "        text-align: left;\n",
       "    }\n",
       "\n",
       "    .dataframe tbody tr th {\n",
       "        vertical-align: top;\n",
       "    }\n",
       "</style>\n",
       "<table border=\"1\" class=\"dataframe\">\n",
       "  <thead>\n",
       "    <tr style=\"text-align: right;\">\n",
       "      <th></th>\n",
       "      <th>tobs</th>\n",
       "    </tr>\n",
       "  </thead>\n",
       "  <tbody>\n",
       "    <tr>\n",
       "      <th>27</th>\n",
       "      <td>87.0</td>\n",
       "    </tr>\n",
       "    <tr>\n",
       "      <th>23</th>\n",
       "      <td>84.0</td>\n",
       "    </tr>\n",
       "    <tr>\n",
       "      <th>21</th>\n",
       "      <td>83.0</td>\n",
       "    </tr>\n",
       "    <tr>\n",
       "      <th>15</th>\n",
       "      <td>82.0</td>\n",
       "    </tr>\n",
       "    <tr>\n",
       "      <th>12</th>\n",
       "      <td>81.0</td>\n",
       "    </tr>\n",
       "    <tr>\n",
       "      <th>6</th>\n",
       "      <td>80.0</td>\n",
       "    </tr>\n",
       "    <tr>\n",
       "      <th>5</th>\n",
       "      <td>79.0</td>\n",
       "    </tr>\n",
       "    <tr>\n",
       "      <th>2</th>\n",
       "      <td>78.0</td>\n",
       "    </tr>\n",
       "    <tr>\n",
       "      <th>0</th>\n",
       "      <td>77.0</td>\n",
       "    </tr>\n",
       "    <tr>\n",
       "      <th>1</th>\n",
       "      <td>76.0</td>\n",
       "    </tr>\n",
       "    <tr>\n",
       "      <th>4</th>\n",
       "      <td>75.0</td>\n",
       "    </tr>\n",
       "    <tr>\n",
       "      <th>3</th>\n",
       "      <td>74.0</td>\n",
       "    </tr>\n",
       "    <tr>\n",
       "      <th>9</th>\n",
       "      <td>73.0</td>\n",
       "    </tr>\n",
       "    <tr>\n",
       "      <th>7</th>\n",
       "      <td>72.0</td>\n",
       "    </tr>\n",
       "    <tr>\n",
       "      <th>8</th>\n",
       "      <td>71.0</td>\n",
       "    </tr>\n",
       "    <tr>\n",
       "      <th>10</th>\n",
       "      <td>70.0</td>\n",
       "    </tr>\n",
       "    <tr>\n",
       "      <th>11</th>\n",
       "      <td>69.0</td>\n",
       "    </tr>\n",
       "    <tr>\n",
       "      <th>13</th>\n",
       "      <td>68.0</td>\n",
       "    </tr>\n",
       "    <tr>\n",
       "      <th>14</th>\n",
       "      <td>67.0</td>\n",
       "    </tr>\n",
       "    <tr>\n",
       "      <th>16</th>\n",
       "      <td>66.0</td>\n",
       "    </tr>\n",
       "    <tr>\n",
       "      <th>17</th>\n",
       "      <td>65.0</td>\n",
       "    </tr>\n",
       "    <tr>\n",
       "      <th>18</th>\n",
       "      <td>64.0</td>\n",
       "    </tr>\n",
       "    <tr>\n",
       "      <th>19</th>\n",
       "      <td>63.0</td>\n",
       "    </tr>\n",
       "    <tr>\n",
       "      <th>20</th>\n",
       "      <td>62.0</td>\n",
       "    </tr>\n",
       "    <tr>\n",
       "      <th>24</th>\n",
       "      <td>61.0</td>\n",
       "    </tr>\n",
       "    <tr>\n",
       "      <th>22</th>\n",
       "      <td>60.0</td>\n",
       "    </tr>\n",
       "    <tr>\n",
       "      <th>25</th>\n",
       "      <td>59.0</td>\n",
       "    </tr>\n",
       "    <tr>\n",
       "      <th>26</th>\n",
       "      <td>58.0</td>\n",
       "    </tr>\n",
       "  </tbody>\n",
       "</table>\n",
       "</div>"
      ],
      "text/plain": [
       "    tobs\n",
       "27  87.0\n",
       "23  84.0\n",
       "21  83.0\n",
       "15  82.0\n",
       "12  81.0\n",
       "6   80.0\n",
       "5   79.0\n",
       "2   78.0\n",
       "0   77.0\n",
       "1   76.0\n",
       "4   75.0\n",
       "3   74.0\n",
       "9   73.0\n",
       "7   72.0\n",
       "8   71.0\n",
       "10  70.0\n",
       "11  69.0\n",
       "13  68.0\n",
       "14  67.0\n",
       "16  66.0\n",
       "17  65.0\n",
       "18  64.0\n",
       "19  63.0\n",
       "20  62.0\n",
       "24  61.0\n",
       "22  60.0\n",
       "25  59.0\n",
       "26  58.0"
      ]
     },
     "execution_count": 33,
     "metadata": {},
     "output_type": "execute_result"
    }
   ],
   "source": [
    "plot_tobs = tobs_df[['tobs']]\n",
    "plot_tobs.sort_values('tobs', ascending=False)"
   ]
  },
  {
   "cell_type": "code",
   "execution_count": 34,
   "metadata": {
    "scrolled": false
   },
   "outputs": [
    {
     "data": {
      "text/plain": [
       "<matplotlib.figure.Figure at 0x11c920e48>"
      ]
     },
     "execution_count": 34,
     "metadata": {},
     "output_type": "execute_result"
    },
    {
     "data": {
      "text/plain": [
       "<matplotlib.axes._subplots.AxesSubplot at 0x11caa6b38>"
      ]
     },
     "execution_count": 34,
     "metadata": {},
     "output_type": "execute_result"
    },
    {
     "data": {
      "text/plain": [
       "<matplotlib.figure.Figure at 0x11c920e48>"
      ]
     },
     "metadata": {},
     "output_type": "display_data"
    },
    {
     "data": {
      "image/png": "[encoded data removed]",
      "text/plain": [
       "<matplotlib.figure.Figure at 0x11b93c668>"
      ]
     },
     "metadata": {},
     "output_type": "display_data"
    }
   ],
   "source": [
    "# n_bins = 12\n",
    "plt.figure()\n",
    "plot_tobs.plot.hist(alpha=0.9, range=[50, 100], bins=12, rwidth=0.95)"
   ]
  },
  {
   "cell_type": "markdown",
   "metadata": {},
   "source": [
    "** syntax below .filter is similar to join on sql"
   ]
  },
  {
   "cell_type": "markdown",
   "metadata": {},
   "source": [
    "* Calculate the Item Totals (sum(UnitPrice * Quantity)) for the USA\n",
    "\n",
    "session.query(func.sum(Items.UnitPrice * Items.Quantity)).\\\n",
    "    filter(Invoices.InvoiceId == Items.InvoiceId).\\\n",
    "    filter(Invoices.BillingCountry == 'USA').scalar()\n"
   ]
  },
  {
   "cell_type": "code",
   "execution_count": null,
   "metadata": {
    "collapsed": true
   },
   "outputs": [],
   "source": [
    "# np.ravel unpacks json format to list\n",
    "# countries_list = list(np.ravel(results))\n"
   ]
  },
  {
   "cell_type": "code",
   "execution_count": 35,
   "metadata": {},
   "outputs": [
    {
     "data": {
      "text/html": [
       "<div>\n",
       "<style>\n",
       "    .dataframe thead tr:only-child th {\n",
       "        text-align: right;\n",
       "    }\n",
       "\n",
       "    .dataframe thead th {\n",
       "        text-align: left;\n",
       "    }\n",
       "\n",
       "    .dataframe tbody tr th {\n",
       "        vertical-align: top;\n",
       "    }\n",
       "</style>\n",
       "<table border=\"1\" class=\"dataframe\">\n",
       "  <thead>\n",
       "    <tr style=\"text-align: right;\">\n",
       "      <th></th>\n",
       "      <th>station</th>\n",
       "      <th>date</th>\n",
       "      <th>prcp</th>\n",
       "      <th>tobs</th>\n",
       "      <th>name</th>\n",
       "      <th>latitude</th>\n",
       "      <th>longitude</th>\n",
       "      <th>elevation</th>\n",
       "    </tr>\n",
       "  </thead>\n",
       "  <tbody>\n",
       "    <tr>\n",
       "      <th>0</th>\n",
       "      <td>USC00519397</td>\n",
       "      <td>8/23/17</td>\n",
       "      <td>0.00</td>\n",
       "      <td>81</td>\n",
       "      <td>WAIKIKI 717.2, HI US</td>\n",
       "      <td>21.27160</td>\n",
       "      <td>-157.81680</td>\n",
       "      <td>3.0</td>\n",
       "    </tr>\n",
       "    <tr>\n",
       "      <th>1</th>\n",
       "      <td>USC00514830</td>\n",
       "      <td>8/23/17</td>\n",
       "      <td>0.00</td>\n",
       "      <td>82</td>\n",
       "      <td>KUALOA RANCH HEADQUARTERS 886.9, HI US</td>\n",
       "      <td>21.52130</td>\n",
       "      <td>-157.83740</td>\n",
       "      <td>7.0</td>\n",
       "    </tr>\n",
       "    <tr>\n",
       "      <th>2</th>\n",
       "      <td>USC00519523</td>\n",
       "      <td>8/23/17</td>\n",
       "      <td>0.08</td>\n",
       "      <td>82</td>\n",
       "      <td>WAIMANALO EXPERIMENTAL FARM, HI US</td>\n",
       "      <td>21.33556</td>\n",
       "      <td>-157.71139</td>\n",
       "      <td>19.5</td>\n",
       "    </tr>\n",
       "    <tr>\n",
       "      <th>3</th>\n",
       "      <td>USC00516128</td>\n",
       "      <td>8/23/17</td>\n",
       "      <td>0.45</td>\n",
       "      <td>76</td>\n",
       "      <td>MANOA LYON ARBO 785.2, HI US</td>\n",
       "      <td>21.33310</td>\n",
       "      <td>-157.80250</td>\n",
       "      <td>152.4</td>\n",
       "    </tr>\n",
       "    <tr>\n",
       "      <th>4</th>\n",
       "      <td>USC00519397</td>\n",
       "      <td>8/22/17</td>\n",
       "      <td>0.00</td>\n",
       "      <td>82</td>\n",
       "      <td>WAIKIKI 717.2, HI US</td>\n",
       "      <td>21.27160</td>\n",
       "      <td>-157.81680</td>\n",
       "      <td>3.0</td>\n",
       "    </tr>\n",
       "  </tbody>\n",
       "</table>\n",
       "</div>"
      ],
      "text/plain": [
       "       station     date  prcp  tobs                                    name  latitude  longitude  elevation\n",
       "0  USC00519397  8/23/17  0.00    81                    WAIKIKI 717.2, HI US  21.27160 -157.81680        3.0\n",
       "1  USC00514830  8/23/17  0.00    82  KUALOA RANCH HEADQUARTERS 886.9, HI US  21.52130 -157.83740        7.0\n",
       "2  USC00519523  8/23/17  0.08    82      WAIMANALO EXPERIMENTAL FARM, HI US  21.33556 -157.71139       19.5\n",
       "3  USC00516128  8/23/17  0.45    76            MANOA LYON ARBO 785.2, HI US  21.33310 -157.80250      152.4\n",
       "4  USC00519397  8/22/17  0.00    82                    WAIKIKI 717.2, HI US  21.27160 -157.81680        3.0"
      ]
     },
     "execution_count": 35,
     "metadata": {},
     "output_type": "execute_result"
    },
    {
     "data": {
      "text/plain": [
       "(2021, 8)"
      ]
     },
     "execution_count": 35,
     "metadata": {},
     "output_type": "execute_result"
    }
   ],
   "source": [
    "new_book = pd.read_csv('new_book.csv')\n",
    "new_book.head()\n",
    "new_book.shape"
   ]
  },
  {
   "cell_type": "code",
   "execution_count": 36,
   "metadata": {},
   "outputs": [
    {
     "data": {
      "text/plain": [
       "USC00519397    359\n",
       "USC00519281    352\n",
       "USC00513117    343\n",
       "USC00516128    328\n",
       "USC00519523    314\n",
       "USC00514830    265\n",
       "USC00517948     60\n",
       "Name: station, dtype: int64"
      ]
     },
     "execution_count": 36,
     "metadata": {},
     "output_type": "execute_result"
    }
   ],
   "source": [
    "new_book['station'].value_counts()"
   ]
  },
  {
   "cell_type": "markdown",
   "metadata": {},
   "source": [
    "# Temperature Analysis\n",
    "\n",
    "* Write a function called **calc_temps** that will accept a start date and end date in the format %Y-%m-%d and return the minimum, average, and maximum temperatures for that range of dates.\n",
    "\n",
    "* Use the calc_temps function to calculate the min, avg, and max temperatures for your trip using the matching dates from the previous year (i.e. use \"2017-01-01\" if your trip start date was \"2018-01-01\")\n",
    "\n",
    "* Plot the min, avg, and max temperature from your previous query as a bar chart.\n",
    "\n",
    "***Use the average temperature as the bar height.***\n",
    "***Use the peak-to-peak (tmax-tmin) value as the y error bar (yerr).***"
   ]
  },
  {
   "cell_type": "code",
   "execution_count": 37,
   "metadata": {},
   "outputs": [
    {
     "data": {
      "text/plain": [
       "[('2017-08-17', 83.0),\n",
       " ('2017-08-22', 82.0),\n",
       " ('2017-08-22', 82.0),\n",
       " ('2017-08-20', 81.0),\n",
       " ('2017-08-21', 81.0),\n",
       " ('2017-08-18', 80.0),\n",
       " ('2017-08-19', 80.0),\n",
       " ('2017-08-20', 80.0),\n",
       " ('2017-08-19', 79.0),\n",
       " ('2017-08-21', 79.0),\n",
       " ('2017-08-18', 79.0),\n",
       " ('2017-08-17', 78.0),\n",
       " ('2017-08-18', 77.0),\n",
       " ('2017-08-17', 76.0),\n",
       " ('2017-08-21', 76.0),\n",
       " ('2017-08-22', 76.0),\n",
       " ('2017-08-17', 72.0),\n",
       " ('2017-08-19', 71.0)]"
      ]
     },
     "execution_count": 37,
     "metadata": {},
     "output_type": "execute_result"
    }
   ],
   "source": [
    "# calc_temps func\n",
    "# my travel dates = Friday 2018-08-17 - Thu 2018-08-22\n",
    "# func.min\n",
    "# func.max\n",
    "# func.avg\n",
    "# session.query(self.stats.c.ID, func.max(self.stats.c.STA_DATE))\n",
    "\n",
    "calc_temps = session.query(Measurement.date, Measurement.tobs).filter(Measurement.date <= '2017-08-22').\\\n",
    "filter(Measurement.date >= '2017-08-17').\\\n",
    "order_by(Measurement.tobs.desc()).all()\n",
    "\n",
    "calc_temps\n",
    "\n",
    "# calc_temps_list = list(np.ravel(calc_temps))\n",
    "# np.mean(calc_temps_list)"
   ]
  },
  {
   "cell_type": "code",
   "execution_count": 38,
   "metadata": {},
   "outputs": [
    {
     "data": {
      "text/plain": [
       "[(83.0),\n",
       " (82.0),\n",
       " (82.0),\n",
       " (81.0),\n",
       " (81.0),\n",
       " (80.0),\n",
       " (80.0),\n",
       " (80.0),\n",
       " (79.0),\n",
       " (79.0),\n",
       " (79.0),\n",
       " (78.0),\n",
       " (77.0),\n",
       " (76.0),\n",
       " (76.0),\n",
       " (76.0),\n",
       " (72.0),\n",
       " (71.0)]"
      ]
     },
     "execution_count": 38,
     "metadata": {},
     "output_type": "execute_result"
    },
    {
     "data": {
      "text/plain": [
       "78.444444444444443"
      ]
     },
     "execution_count": 38,
     "metadata": {},
     "output_type": "execute_result"
    }
   ],
   "source": [
    "# using query to find list of temps, then find the mean of that list\n",
    "weather_vacation = session.query(Measurement.tobs).filter(Measurement.date <= '2017-08-22').\\\n",
    "filter(Measurement.date >= '2017-08-17').\\\n",
    "order_by(Measurement.tobs.desc()).all()\n",
    "\n",
    "weather_vacation\n",
    "\n",
    "weather_vacation_list = list(np.ravel(weather_vacation))\n",
    "np.mean(weather_vacation_list)"
   ]
  },
  {
   "cell_type": "code",
   "execution_count": 39,
   "metadata": {},
   "outputs": [
    {
     "data": {
      "text/plain": [
       "[(83.0)]"
      ]
     },
     "execution_count": 39,
     "metadata": {},
     "output_type": "execute_result"
    },
    {
     "data": {
      "text/plain": [
       "[83.0]"
      ]
     },
     "execution_count": 39,
     "metadata": {},
     "output_type": "execute_result"
    }
   ],
   "source": [
    "# max\n",
    "max_temps = session.query(func.max(Measurement.tobs)).filter(Measurement.date <= '2017-08-22').\\\n",
    "filter(Measurement.date >= '2017-08-17').\\\n",
    "order_by(Measurement.date.desc()).all()\n",
    "\n",
    "max_temps\n",
    "\n",
    "# this will change from tuple to list\n",
    "max_temps_list = list(np.ravel(max_temps))\n",
    "max_temps_list"
   ]
  },
  {
   "cell_type": "code",
   "execution_count": 40,
   "metadata": {},
   "outputs": [
    {
     "data": {
      "text/plain": [
       "[(71.0)]"
      ]
     },
     "execution_count": 40,
     "metadata": {},
     "output_type": "execute_result"
    },
    {
     "data": {
      "text/plain": [
       "[71.0]"
      ]
     },
     "execution_count": 40,
     "metadata": {},
     "output_type": "execute_result"
    }
   ],
   "source": [
    "# min\n",
    "min_temps = session.query(func.min(Measurement.tobs)).filter(Measurement.date <= '2017-08-22').\\\n",
    "filter(Measurement.date >= '2017-08-17').\\\n",
    "order_by(Measurement.date.desc()).all()\n",
    "\n",
    "min_temps\n",
    "\n",
    "# this will change from tuple to list\n",
    "min_temps_list = list(np.ravel(min_temps))\n",
    "min_temps_list"
   ]
  },
  {
   "cell_type": "code",
   "execution_count": 41,
   "metadata": {},
   "outputs": [
    {
     "data": {
      "text/plain": [
       "[(78.44444444444444)]"
      ]
     },
     "execution_count": 41,
     "metadata": {},
     "output_type": "execute_result"
    },
    {
     "data": {
      "text/plain": [
       "[78.444444444444443]"
      ]
     },
     "execution_count": 41,
     "metadata": {},
     "output_type": "execute_result"
    }
   ],
   "source": [
    "# avg\n",
    "avg_temps = session.query(func.avg(Measurement.tobs)).filter(Measurement.date <= '2017-08-22').\\\n",
    "filter(Measurement.date >= '2017-08-17').\\\n",
    "order_by(Measurement.date.desc()).all()\n",
    "\n",
    "avg_temps\n",
    "\n",
    "# this will change from tuple to list\n",
    "avg_temps_list = list(np.ravel(avg_temps))\n",
    "avg_temps_list"
   ]
  },
  {
   "cell_type": "code",
   "execution_count": 42,
   "metadata": {},
   "outputs": [
    {
     "data": {
      "text/plain": [
       "83.0"
      ]
     },
     "execution_count": 42,
     "metadata": {},
     "output_type": "execute_result"
    },
    {
     "data": {
      "text/plain": [
       "71.0"
      ]
     },
     "execution_count": 42,
     "metadata": {},
     "output_type": "execute_result"
    },
    {
     "data": {
      "text/plain": [
       "78.0"
      ]
     },
     "execution_count": 42,
     "metadata": {},
     "output_type": "execute_result"
    },
    {
     "data": {
      "text/plain": [
       "12.0"
      ]
     },
     "execution_count": 42,
     "metadata": {},
     "output_type": "execute_result"
    }
   ],
   "source": [
    "# plot\n",
    "# ***Use the peak-to-peak (tmax-tmin) value as the y error bar (yerr).***\n",
    "maxtemps = max_temps_list[0]\n",
    "mintemps = min_temps_list[0]\n",
    "avgtemps = avg_temps_list[0]\n",
    "\n",
    "maxtemps\n",
    "mintemps\n",
    "avgtemps.round()\n",
    "\n",
    "errorbar = maxtemps - mintemps\n",
    "errorbar"
   ]
  },
  {
   "cell_type": "code",
   "execution_count": 55,
   "metadata": {},
   "outputs": [
    {
     "data": {
      "text/html": [
       "<div>\n",
       "<style>\n",
       "    .dataframe thead tr:only-child th {\n",
       "        text-align: right;\n",
       "    }\n",
       "\n",
       "    .dataframe thead th {\n",
       "        text-align: left;\n",
       "    }\n",
       "\n",
       "    .dataframe tbody tr th {\n",
       "        vertical-align: top;\n",
       "    }\n",
       "</style>\n",
       "<table border=\"1\" class=\"dataframe\">\n",
       "  <thead>\n",
       "    <tr style=\"text-align: right;\">\n",
       "      <th></th>\n",
       "      <th>maxtemps</th>\n",
       "      <th>mintemps</th>\n",
       "      <th>avgtemps</th>\n",
       "      <th>errorbar</th>\n",
       "    </tr>\n",
       "  </thead>\n",
       "  <tbody>\n",
       "    <tr>\n",
       "      <th>0</th>\n",
       "      <td>83.0</td>\n",
       "      <td>71.0</td>\n",
       "      <td>78.0</td>\n",
       "      <td>12.0</td>\n",
       "    </tr>\n",
       "  </tbody>\n",
       "</table>\n",
       "</div>"
      ],
      "text/plain": [
       "   maxtemps  mintemps  avgtemps  errorbar\n",
       "0      83.0      71.0      78.0      12.0"
      ]
     },
     "execution_count": 55,
     "metadata": {},
     "output_type": "execute_result"
    }
   ],
   "source": [
    "weather_data = {'maxtemps': [maxtemps],\n",
    "               'mintemps': [mintemps],\n",
    "               'avgtemps': [avgtemps.round()],\n",
    "               'errorbar': [errorbar]}\n",
    "weather_df = pd.DataFrame(weather_data, columns = ['maxtemps', 'mintemps', 'avgtemps', 'errorbar'])\n",
    "weather_df"
   ]
  },
  {
   "cell_type": "code",
   "execution_count": 53,
   "metadata": {
    "collapsed": true
   },
   "outputs": [],
   "source": [
    "yerr = errorbar"
   ]
  },
  {
   "cell_type": "code",
   "execution_count": 57,
   "metadata": {
    "scrolled": false
   },
   "outputs": [
    {
     "data": {
      "text/plain": [
       "<matplotlib.figure.Figure at 0x11cc709b0>"
      ]
     },
     "execution_count": 57,
     "metadata": {},
     "output_type": "execute_result"
    },
    {
     "data": {
      "text/plain": [
       "<matplotlib.text.Text at 0x11b923a20>"
      ]
     },
     "execution_count": 57,
     "metadata": {},
     "output_type": "execute_result"
    },
    {
     "data": {
      "text/plain": [
       "<matplotlib.text.Text at 0x11bb536d8>"
      ]
     },
     "execution_count": 57,
     "metadata": {},
     "output_type": "execute_result"
    },
    {
     "data": {
      "text/plain": [
       "<matplotlib.text.Text at 0x11c8e21d0>"
      ]
     },
     "execution_count": 57,
     "metadata": {},
     "output_type": "execute_result"
    },
    {
     "data": {
      "image/png": "[encoded data removed]",
      "text/plain": [
       "<matplotlib.figure.Figure at 0x11cc709b0>"
      ]
     },
     "metadata": {},
     "output_type": "display_data"
    }
   ],
   "source": [
    "sns.set_style(\"whitegrid\")\n",
    "plt.figure(figsize=(2,5))\n",
    "ax = sns.barplot(x= \"errorbar\", y= \"avgtemps\", color=\"r\", ci=95, edgecolor = 'black', yerr = 12, capsize=7,\n",
    "                 alpha=0.7, data=weather_df)\n",
    "# plt.errorbar(x, y, yerr)\n",
    "ax.set_ylabel(\"Temp (F)\")\n",
    "ax.set_xlabel('')\n",
    "plt.title(\"Trip Avg Temp\")"
   ]
  },
  {
   "cell_type": "markdown",
   "metadata": {},
   "source": [
    "# Optional Recommended Analysis\n",
    "The following are optional challenge queries. These are highly recommended to attempt, but not required for the homework.\n",
    "\n",
    "* Calcualte the rainfall per weather station using the previous year's matching dates.\n",
    "\n",
    "* Calculate the daily normals. Normals are the averages for min, avg, and max temperatures.\n",
    "\n",
    "* Create a function called daily_normals that will calculate the daily normals for a specific date. This date string will be in the format %m-%d. Be sure to use all historic tobs that match that date string.\n",
    "\n",
    "* Create a list of dates for your trip in the format %m-%d. Use the daily_normals function to calculate the normals for each date string and append the results to a list.\n",
    "\n",
    "* Load the list of daily normals into a Pandas DataFrame and set the index equal to the date.\n",
    "* Use Pandas to plot an area plot (stacked=False) for the daily normals."
   ]
  },
  {
   "cell_type": "code",
   "execution_count": 69,
   "metadata": {},
   "outputs": [
    {
     "data": {
      "text/plain": [
       "[('USC00514830', 0.02, 5),\n",
       " ('USC00519397', 0.0, 5),\n",
       " ('USC00516128', 0.5, 4),\n",
       " ('USC00519281', 0.06, 2),\n",
       " ('USC00519523', 0.0, 2)]"
      ]
     },
     "execution_count": 69,
     "metadata": {},
     "output_type": "execute_result"
    }
   ],
   "source": [
    "# rain fall per weather station\n",
    "\n",
    "rainfall = session.query(Measurement.station, Measurement.prcp, func.count(Measurement.station).\\\n",
    "              label(\"rainfall_per_station\")).\\\n",
    "              group_by(Measurement.station).\\\n",
    "              filter(Measurement.date <= '2017-08-22').\\\n",
    "              filter(Measurement.date >= '2017-08-17').\\\n",
    "              order_by('rainfall_per_station DESC').all()\n",
    "rainfall\n",
    "                # this will change from tuple to list\n",
    "# rainfall_list = list(np.ravel(rainfall))\n",
    "# rainfall_list                "
   ]
  },
  {
   "cell_type": "markdown",
   "metadata": {},
   "source": [
    "# Daily Normals\n",
    "* max rain\n",
    "* min rain\n",
    "* avg rain\n"
   ]
  },
  {
   "cell_type": "code",
   "execution_count": null,
   "metadata": {
    "collapsed": true
   },
   "outputs": [],
   "source": [
    "# Create a function called daily_normals that will calculate the daily normals for a specific date. \n",
    "# This date string will be in the format %m-%d. Be sure to use all historic tobs that match that date"
   ]
  },
  {
   "cell_type": "code",
   "execution_count": 70,
   "metadata": {},
   "outputs": [
    {
     "data": {
      "text/plain": [
       "[(0.56)]"
      ]
     },
     "execution_count": 70,
     "metadata": {},
     "output_type": "execute_result"
    },
    {
     "data": {
      "text/plain": [
       "[0.56000000000000005]"
      ]
     },
     "execution_count": 70,
     "metadata": {},
     "output_type": "execute_result"
    }
   ],
   "source": [
    "# max rain\n",
    "max_rain = session.query(func.max(Measurement.prcp)).filter(Measurement.date <= '2017-08-22').\\\n",
    "filter(Measurement.date >= '2017-08-17').\\\n",
    "order_by(Measurement.date.desc()).all()\n",
    "\n",
    "max_rain\n",
    "\n",
    "# this will change from tuple to list\n",
    "max_rain_list = list(np.ravel(max_rain))\n",
    "max_rain_list"
   ]
  },
  {
   "cell_type": "code",
   "execution_count": 71,
   "metadata": {},
   "outputs": [
    {
     "data": {
      "text/plain": [
       "[(0.0)]"
      ]
     },
     "execution_count": 71,
     "metadata": {},
     "output_type": "execute_result"
    },
    {
     "data": {
      "text/plain": [
       "[0.0]"
      ]
     },
     "execution_count": 71,
     "metadata": {},
     "output_type": "execute_result"
    }
   ],
   "source": [
    "# min rain\n",
    "min_rain = session.query(func.min(Measurement.prcp)).filter(Measurement.date <= '2017-08-22').\\\n",
    "filter(Measurement.date >= '2017-08-17').\\\n",
    "order_by(Measurement.date.desc()).all()\n",
    "\n",
    "min_rain\n",
    "\n",
    "# this will change from tuple to list\n",
    "min_rain_list = list(np.ravel(min_rain))\n",
    "min_rain_list"
   ]
  },
  {
   "cell_type": "code",
   "execution_count": 87,
   "metadata": {},
   "outputs": [
    {
     "data": {
      "text/plain": [
       "[(0.07944444444444446)]"
      ]
     },
     "execution_count": 87,
     "metadata": {},
     "output_type": "execute_result"
    },
    {
     "data": {
      "text/plain": [
       "[0.079444444444444456]"
      ]
     },
     "execution_count": 87,
     "metadata": {},
     "output_type": "execute_result"
    }
   ],
   "source": [
    "# avg rain\n",
    "avg_rain = session.query(func.avg(Measurement.prcp)).filter(Measurement.date <= '2017-08-22').\\\n",
    "filter(Measurement.date >= '2017-08-17').\\\n",
    "order_by(Measurement.date.desc()).all()\n",
    "\n",
    "avg_rain\n",
    "\n",
    "# this will change from tuple to list\n",
    "avg_rain_list = list(np.ravel(avg_rain))\n",
    "avg_rain_list"
   ]
  },
  {
   "cell_type": "code",
   "execution_count": 75,
   "metadata": {
    "scrolled": false
   },
   "outputs": [
    {
     "data": {
      "text/plain": [
       "['2017-08-22',\n",
       " '2017-08-22',\n",
       " '2017-08-22',\n",
       " '2017-08-21',\n",
       " '2017-08-21',\n",
       " '2017-08-21',\n",
       " '2017-08-20',\n",
       " '2017-08-20',\n",
       " '2017-08-19',\n",
       " '2017-08-19',\n",
       " '2017-08-19',\n",
       " '2017-08-18',\n",
       " '2017-08-18',\n",
       " '2017-08-18',\n",
       " '2017-08-17',\n",
       " '2017-08-17',\n",
       " '2017-08-17',\n",
       " '2017-08-17']"
      ]
     },
     "execution_count": 75,
     "metadata": {},
     "output_type": "execute_result"
    }
   ],
   "source": [
    "# dates\n",
    "# Friday 2018-08-17 - Thu 2018-08-22\n",
    "\n",
    "trip_dates = session.query(Measurement.date).filter(Measurement.date <= '2017-08-22').\\\n",
    "filter(Measurement.date >= '2017-08-17').\\\n",
    "order_by(Measurement.date.desc()).all()\n",
    "\n",
    "# trip_dates\n",
    "\n",
    "# change from tuple to list\n",
    "trip_dates_list = list(np.ravel(trip_dates))\n",
    "trip_dates_list"
   ]
  },
  {
   "cell_type": "code",
   "execution_count": 115,
   "metadata": {},
   "outputs": [],
   "source": [
    "# slice values out of list to use for pandas df\n",
    "maxrain = max_rain_list[0].round(2)\n",
    "minrain = min_rain_list[0]\n",
    "avgrain = avg_rain_list[0].round(2)\n",
    "\n",
    "# need to make sure this doesn't end up as a list\n",
    "trip_dates = trip_dates_list[:]"
   ]
  },
  {
   "cell_type": "code",
   "execution_count": 119,
   "metadata": {},
   "outputs": [
    {
     "data": {
      "text/html": [
       "<div>\n",
       "<style>\n",
       "    .dataframe thead tr:only-child th {\n",
       "        text-align: right;\n",
       "    }\n",
       "\n",
       "    .dataframe thead th {\n",
       "        text-align: left;\n",
       "    }\n",
       "\n",
       "    .dataframe tbody tr th {\n",
       "        vertical-align: top;\n",
       "    }\n",
       "</style>\n",
       "<table border=\"1\" class=\"dataframe\">\n",
       "  <thead>\n",
       "    <tr style=\"text-align: right;\">\n",
       "      <th></th>\n",
       "      <th>maxrain</th>\n",
       "      <th>minrain</th>\n",
       "      <th>avgrain</th>\n",
       "    </tr>\n",
       "    <tr>\n",
       "      <th>date</th>\n",
       "      <th></th>\n",
       "      <th></th>\n",
       "      <th></th>\n",
       "    </tr>\n",
       "  </thead>\n",
       "  <tbody>\n",
       "    <tr>\n",
       "      <th>[2017-08-22, 2017-08-22, 2017-08-22, 2017-08-21, 2017-08-21, 2017-08-21, 2017-08-20, 2017-08-20, 2017-08-19, 2017-08-19, 2017-08-19, 2017-08-18, 2017-08-18, 2017-08-18, 2017-08-17, 2017-08-17, 2017-08-17, 2017-08-17]</th>\n",
       "      <td>0.56</td>\n",
       "      <td>0.0</td>\n",
       "      <td>0.08</td>\n",
       "    </tr>\n",
       "  </tbody>\n",
       "</table>\n",
       "</div>"
      ],
      "text/plain": [
       "                                                    maxrain  minrain  avgrain\n",
       "date                                                                         \n",
       "[2017-08-22, 2017-08-22, 2017-08-22, 2017-08-21...     0.56      0.0     0.08"
      ]
     },
     "execution_count": 119,
     "metadata": {},
     "output_type": "execute_result"
    }
   ],
   "source": [
    "# create a data frame of prcp, dates \n",
    "\n",
    "rainfall_df = {'maxrain': [maxrain],\n",
    "               'minrain': [minrain],\n",
    "               'avgrain': [avgrain],\n",
    "               'date': [trip_dates]}\n",
    "rainfall_df = pd.DataFrame(rainfall_df, columns = ['maxrain', 'minrain', 'avgrain', 'date'])\n",
    "rainfall_df.set_index('date', inplace=True)\n",
    "rainfall_df"
   ]
  },
  {
   "cell_type": "code",
   "execution_count": null,
   "metadata": {
    "collapsed": true
   },
   "outputs": [],
   "source": []
  },
  {
   "cell_type": "code",
   "execution_count": null,
   "metadata": {
    "collapsed": true
   },
   "outputs": [],
   "source": []
  },
  {
   "cell_type": "code",
   "execution_count": null,
   "metadata": {
    "collapsed": true
   },
   "outputs": [],
   "source": []
  },
  {
   "cell_type": "code",
   "execution_count": null,
   "metadata": {
    "collapsed": true
   },
   "outputs": [],
   "source": []
  },
  {
   "cell_type": "markdown",
   "metadata": {},
   "source": [
    "# Step 4 - Climate App\n"
   ]
  },
  {
   "cell_type": "markdown",
   "metadata": {},
   "source": [
    "***code will only run using a .py file from terminal***\n",
    "***see climate_app.py for final code***"
   ]
  },
  {
   "cell_type": "code",
   "execution_count": 61,
   "metadata": {},
   "outputs": [
    {
     "data": {
      "text/plain": [
       "Engine(sqlite:///hawaii.sqlite)"
      ]
     },
     "execution_count": 61,
     "metadata": {},
     "output_type": "execute_result"
    }
   ],
   "source": [
    "# checks to see if engine is set up\n",
    "engine"
   ]
  },
  {
   "cell_type": "code",
   "execution_count": 62,
   "metadata": {
    "collapsed": true
   },
   "outputs": [],
   "source": [
    "# flask setup\n",
    "app = Flask(__name__)"
   ]
  },
  {
   "cell_type": "code",
   "execution_count": null,
   "metadata": {},
   "outputs": [],
   "source": [
    "# flask routes\n",
    "@app.route(\"/\")\n",
    "def main():\n",
    "    \"\"\"List all available api routes\"\"\"\n",
    "    return (\n",
    "        f\"Available Routes:<br/>\"\n",
    "        f\"/api/v1.0/precipitation - Precipitation<br/>\"\n",
    "        f\"/api/v1.0/stations - Stations<br/>\"\n",
    "        f\"/api/v1.0/tobs - Temperature Observation<br/>\"\n",
    "        f\"/api/v1.0/temperature - Temperature Start<br/>\"\n",
    "        \n",
    "        \n",
    "        \n",
    "        f\"/api/v1.0/<start>/<end>\")"
   ]
  },
  {
   "cell_type": "code",
   "execution_count": null,
   "metadata": {
    "collapsed": true
   },
   "outputs": [],
   "source": [
    "# prcp route\n",
    "\n",
    "@app.route(\"/api/v1.0/precipitation\")\n",
    "def precipitation_test1():\n",
    "    \"\"\"Return a list of dates and tobs\"\"\"\n",
    "    # Query for the dates and prcp from last year\n",
    "    results = session.query(Measurement.date, Measurement.prcp).filter(Measurement.date <= '2017-08-23').\\\n",
    "    filter(Measurement.date >= '2016-08-23').\\\n",
    "    order_by(Measurement.date.desc()).all()\n",
    "    \n",
    "    # Convert list of tuples into normal list\n",
    "    prcp_list = list(np.ravel(results))\n",
    "    \n",
    "    return jsonify(prcp_list)"
   ]
  },
  {
   "cell_type": "code",
   "execution_count": null,
   "metadata": {
    "collapsed": true
   },
   "outputs": [],
   "source": [
    "# stations route\n",
    "\n",
    "@app.route(\"/api/v1.0/stations\")\n",
    "def stations_test1():\n",
    "    \"\"\"Return a json list of stations from the dataset\"\"\"\n",
    "    # Query stations\n",
    "    station_results = session.query(Measurement.station, func.count(Measurement.station).label(\"most_active_stations\"))\\\n",
    "    .group_by(Measurement.station).order_by(\"most_active_stations DESC\").all()\n",
    "    \n",
    "    station_results_list = list(np.ravel(station_results))\n",
    "    \n",
    "    return jsonify(station_results_list)"
   ]
  },
  {
   "cell_type": "code",
   "execution_count": null,
   "metadata": {},
   "outputs": [],
   "source": [
    "# tobs route\n",
    "\n",
    "@app.route(\"/api/v1.0/tobs\")\n",
    "def tobs_test1():\n",
    "    \"\"\"Return a json list of tobs for the previous year\"\"\"\n",
    "    # Query tobs\n",
    "    tobs_results = session.query(Measurement.station, Measurement.tobs, func.count(Measurement.tobs).\\\n",
    "    label(\"highest_observations\")).\\\n",
    "    group_by(Measurement.tobs).\\\n",
    "    filter(Measurement.date <= '2017-08-23').\\\n",
    "    filter(Measurement.date >= '2016-08-23').\\\n",
    "    order_by(\"highest_observations DESC\").all() \n",
    "    \n",
    "    tobs_results_list = list(np.ravel(tobs_results))\n",
    "    \n",
    "    return jsonify(tobs_results_list)    "
   ]
  },
  {
   "cell_type": "code",
   "execution_count": 65,
   "metadata": {},
   "outputs": [],
   "source": [
    "# min, avg, max tobs route\n",
    "# max temp for given start-end range\n",
    "\n",
    "@app.route(\"/api/v1.0/temperature\")\n",
    "def temps_test2():\n",
    "    \"\"\"Return a json list of the minimum temperature, the average temperature, and the max temperature for a given start or start-end range.\"\"\"\n",
    "    # Query  temps\n",
    "    temps_results = session.query(Measurement.date, Measurement.tobs).filter(Measurement.date <= '2017-08-22').\\\n",
    "    filter(Measurement.date >= '2017-08-17').\\\n",
    "    order_by(Measurement.tobs.desc()).all()\n",
    "    \n",
    "    temps_results_list = list(np.ravel(temps_results))\n",
    "    \n",
    "    return jsonify(temps_results_list)"
   ]
  },
  {
   "cell_type": "code",
   "execution_count": 66,
   "metadata": {
    "collapsed": true
   },
   "outputs": [],
   "source": [
    "# start range - min\n",
    "# when given the start only, calculate TMIN, TAVG & TMAX\n",
    "# for all dates >= to the start date\n",
    "\n",
    "@app.route(\"/api/v1.0/start\")\n",
    "@app.route(\"/api/v1.0/start/tmin\")\n",
    "def temps_start_test1():\n",
    "    \"\"\"Returns tmin\"\"\"\n",
    "    min_temps_results = session.query(func.min(Measurement.tobs)).filter(Measurement.date <= '2017-08-22').\\\n",
    "    filter(Measurement.date >= '2017-08-17').\\\n",
    "    order_by(Measurement.date.desc()).all()\n",
    "    \n",
    "    min_temps_results_list = list(np.ravel(min_temps_results))\n",
    "    \n",
    "    return jsonify(min_temps_results_list)"
   ]
  },
  {
   "cell_type": "code",
   "execution_count": 67,
   "metadata": {
    "collapsed": true
   },
   "outputs": [],
   "source": [
    "# start range - avg\n",
    "\n",
    "@app.route(\"/api/v1.0/start\")\n",
    "@app.route(\"/api/v1.0/start/tavg\")\n",
    "def temps_start_tavg1():\n",
    "    \"\"\"returns tavg\"\"\"\n",
    "    avg_temps_results = session.query(func.avg(Measurement.tobs)).filter(Measurement.date <= '2017-08-22').\\\n",
    "    filter(Measurement.date >= '2017-08-17').\\\n",
    "    order_by(Measurement.date.desc()).all()\n",
    "    \n",
    "    avg_temps_results_list = list(np.ravel(avg_temps_results))\n",
    "    \n",
    "    return jsonify(avg_temps_results_list)"
   ]
  },
  {
   "cell_type": "code",
   "execution_count": 68,
   "metadata": {
    "collapsed": true
   },
   "outputs": [],
   "source": [
    "# start range - max\n",
    "\n",
    "@app.route(\"/api/v1.0/start\")\n",
    "@app.route(\"/api/v1.0/start/tmax\")\n",
    "def temps_start_tmax1():\n",
    "    \"\"\"returns tmax\"\"\"\n",
    "    max_temps_results = session.query(func.max(Measurement.tobs)).filter(Measurement.date <= '2017-08-22').\\\n",
    "    filter(Measurement.date >= '2017-08-17').\\\n",
    "    order_by(Measurement.date.desc()).all()\n",
    "    \n",
    "    max_temps_results_list = list(np.ravel(max_temps_results))\n",
    "    \n",
    "    return jsonify(max_temps_results_list)"
   ]
  },
  {
   "cell_type": "markdown",
   "metadata": {},
   "source": [
    "*** this ends the section of tmin, tmax, tavg"
   ]
  },
  {
   "cell_type": "markdown",
   "metadata": {},
   "source": [
    "***add code below to .py file"
   ]
  },
  {
   "cell_type": "code",
   "execution_count": null,
   "metadata": {
    "collapsed": true
   },
   "outputs": [],
   "source": [
    "# start / end\n",
    "# when given the start and end date, calculate TMIN, TAVG & TMAX\n",
    "# for dates between the start and end date inclusive"
   ]
  },
  {
   "cell_type": "code",
   "execution_count": null,
   "metadata": {},
   "outputs": [],
   "source": [
    "# code to run app\n",
    "# if __name__ == '__main__':\n",
    "    # app.run()"
   ]
  },
  {
   "cell_type": "markdown",
   "metadata": {},
   "source": [
    "*** run above from a .py file in terminal***"
   ]
  },
  {
   "cell_type": "code",
   "execution_count": null,
   "metadata": {
    "collapsed": true
   },
   "outputs": [],
   "source": []
  }
 ],
 "metadata": {
  "kernelspec": {
   "display_name": "Python 3",
   "language": "python",
   "name": "python3"
  },
  "language_info": {
   "codemirror_mode": {
    "name": "ipython",
    "version": 3
   },
   "file_extension": ".py",
   "mimetype": "text/x-python",
   "name": "python",
   "nbconvert_exporter": "python",
   "pygments_lexer": "ipython3",
   "version": "3.6.4"
  }
 },
 "nbformat": 4,
 "nbformat_minor": 2
}
