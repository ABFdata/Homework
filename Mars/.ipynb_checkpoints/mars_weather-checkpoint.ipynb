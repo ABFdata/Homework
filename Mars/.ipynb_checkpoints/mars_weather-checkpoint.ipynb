{
 "cells": [
  {
   "cell_type": "code",
   "execution_count": 1,
   "metadata": {},
   "outputs": [
    {
     "name": "stdout",
     "output_type": "stream",
     "text": [
      "height has been deprecated.\n",
      "\n"
     ]
    }
   ],
   "source": [
    "# import dependencies\n",
    "import pandas as pd\n",
    "import numpy as np\n",
    "import matplotlib.pyplot as plt\n",
    "%matplotlib inline\n",
    "import warnings\n",
    "warnings.filterwarnings('ignore')\n",
    "pd.set_option('display.height', 1000)\n",
    "pd.set_option('display.max_rows', 100)\n",
    "pd.set_option('display.max_columns', 100)\n",
    "pd.set_option('display.width', 1000)"
   ]
  },
  {
   "cell_type": "code",
   "execution_count": 2,
   "metadata": {
    "collapsed": true
   },
   "outputs": [],
   "source": [
    "# display multiple print results on one line\n",
    "from IPython.core.interactiveshell import InteractiveShell\n",
    "InteractiveShell.ast_node_interactivity = \"all\""
   ]
  },
  {
   "cell_type": "code",
   "execution_count": 3,
   "metadata": {
    "collapsed": true
   },
   "outputs": [],
   "source": [
    "# import scraping dependencies\n",
    "from bs4 import BeautifulSoup\n",
    "import requests\n",
    "from splinter import Browser\n",
    "from selenium import webdriver"
   ]
  },
  {
   "cell_type": "markdown",
   "metadata": {},
   "source": [
    "# Mars Weather\n",
    "\n",
    "* Visit the Mars Weather twitter account [here](https://twitter.com/marswxreport?lang=en) and scrape the latest Mars weather tweet from the page. Save the tweet text for the weather report as a variable called mars_weather."
   ]
  },
  {
   "cell_type": "code",
   "execution_count": 4,
   "metadata": {
    "collapsed": true
   },
   "outputs": [],
   "source": [
    "# tweepy dependencies\n",
    "import json\n",
    "import tweepy"
   ]
  },
  {
   "cell_type": "code",
   "execution_count": 5,
   "metadata": {
    "collapsed": true
   },
   "outputs": [],
   "source": [
    "# twitter api\n",
    "consumer_key = \"Oe5kkX8IMqhbKyTP9jYqBo1fh\"\n",
    "consumer_secret = \"2uRriHsWqhb12BJXIpvgKIm0Fp7YyF4oXd9Clc0MiS35Udxpx4\"\n",
    "access_token = \"878718601250746368-hYV10B9TwbwFmzHq535sQkAcHSuD3WW\"\n",
    "access_token_secret = \"PXzLIgPxF8ykJNFqaO6y7VhjSnDy1mdwrC2Z3bzeVtEZi\""
   ]
  },
  {
   "cell_type": "code",
   "execution_count": 6,
   "metadata": {
    "collapsed": true
   },
   "outputs": [],
   "source": [
    "# Setup Tweepy API Authentication\n",
    "auth = tweepy.OAuthHandler(consumer_key, consumer_secret)\n",
    "auth.set_access_token(access_token, access_token_secret)\n",
    "api = tweepy.API(auth, parser=tweepy.parsers.JSONParser())"
   ]
  },
  {
   "cell_type": "code",
   "execution_count": 7,
   "metadata": {},
   "outputs": [],
   "source": [
    "target_user = (\"@MarsWxReport\")"
   ]
  },
  {
   "cell_type": "code",
   "execution_count": 8,
   "metadata": {
    "collapsed": true
   },
   "outputs": [],
   "source": [
    "# create empty list to store weather report after scraping\n",
    "mars_list = []"
   ]
  },
  {
   "cell_type": "code",
   "execution_count": 9,
   "metadata": {
    "collapsed": true
   },
   "outputs": [],
   "source": [
    "# use API.user_timeline\n",
    "# returns the 20 most recent statuses posted \n",
    "public_tweets = api.user_timeline(target_user)"
   ]
  },
  {
   "cell_type": "code",
   "execution_count": 10,
   "metadata": {},
   "outputs": [
    {
     "name": "stdout",
     "output_type": "stream",
     "text": [
      "Sol 1954 (Feb 03, 2018), Sunny, high -17C/1F, low -77C/-106F, pressure at 7.45 hPa, daylight 05:42-17:27\n",
      "Happy #NationalWeatherpersonsDay to all my meteorological friends back on Earth.  Take the day off, I’ve got this o… https://t.co/GJwupbqsg2\n",
      "Sol 1951 (Jan 31, 2018), Sunny, high -23C/-9F, low -77C/-106F, pressure at 7.49 hPa, daylight 05:42-17:28\n",
      "#GroundhogDay https://t.co/WEzVbWLFyH https://t.co/o5QAUdHZre\n",
      "Sol 1949 (Jan 29, 2018), Sunny, high -20C/-4F, low -78C/-108F, pressure at 7.51 hPa, daylight 05:42-17:28\n",
      "Sol 1946 (Jan 26, 2018), Sunny, high -20C/-4F, low -79C/-110F, pressure at 7.53 hPa, daylight 05:43-17:28\n",
      "observations by NASA's Mars Reconnaissance Orbiter (MRO) during the 2007 global dust storm suggest the storms play… https://t.co/GdIPRjt4VB\n",
      "Sol 1945 (Jan 25, 2018), Sunny, high -22C/-7F, low -78C/-108F, pressure at 7.51 hPa, daylight 05:43-17:28\n",
      "Happy 14th anniversary @MarsRovers Opportunity, here’s to another 7.4 more (Mars years).  That’s a lot of kilometer… https://t.co/U2OXzM0IXB\n",
      "Sol 1942 (Jan 22, 2018), Sunny, high -27C/-16F, low -78C/-108F, pressure at 7.57 hPa, daylight 05:44-17:29\n",
      "Sol 1941 (Jan 21, 2018), Sunny, high -20C/-4F, low -77C/-106F, pressure at 7.58 hPa, daylight 05:44-17:29\n",
      "Sol 1937 (Jan 17, 2018), Sunny, high -22C/-7F, low -80C/-112F, pressure at 7.63 hPa, daylight 05:45-17:29\n",
      "Sol 1935 (Jan 15, 2018), Sunny, high -21C/-5F, low -80C/-112F, pressure at 7.65 hPa, daylight 05:45-17:29\n",
      "Sol 1934 (Jan 14, 2018), Sunny, high -21C/-5F, low -79C/-110F, pressure at 7.66 hPa, daylight 05:45-17:29\n",
      "Sol 1930 (Jan 10, 2018), Sunny, high -24C/-11F, low -79C/-110F, pressure at 7.70 hPa, daylight 05:46-17:30\n",
      "Sol 1929 (Jan 09, 2018), Sunny, high -26C/-14F, low -79C/-110F, pressure at 7.71 hPa, daylight 05:46-17:30\n",
      "Sol 1927 (Jan 07, 2018), Sunny, high -24C/-11F, low -79C/-110F, pressure at 7.74 hPa, daylight 05:46-17:30\n",
      "Sol 1924 (Jan 03, 2018), Sunny, high -21C/-5F, low -78C/-108F, pressure at 7.77 hPa, daylight 05:47-17:30\n",
      "Sol 1895 (Dec 05, 2017), Sunny, high -29C/-20F, low -78C/-108F, pressure at 8.14 hPa, daylight 05:51-17:34\n",
      "Sol 1922 (Jan 01, 2018), Sunny, high -24C/-11F, low -79C/-110F, pressure at 7.80 hPa, daylight 05:47-17:31\n"
     ]
    }
   ],
   "source": [
    "# loop through all tweets\n",
    "for tweet in public_tweets:\n",
    "    \n",
    "    # Print Tweet\n",
    "    print(tweet[\"text\"])\n",
    "    \n",
    "    # store tweet in mars_weather\n",
    "    mars_list.append(tweet[\"text\"])"
   ]
  },
  {
   "cell_type": "code",
   "execution_count": 11,
   "metadata": {},
   "outputs": [
    {
     "data": {
      "text/plain": [
       "'Sol 1954 (Feb 03, 2018), Sunny, high -17C/1F, low -77C/-106F, pressure at 7.45 hPa, daylight 05:42-17:27'"
      ]
     },
     "execution_count": 11,
     "metadata": {},
     "output_type": "execute_result"
    }
   ],
   "source": [
    "# latest weather report \n",
    "mars_weather = mars_list[0]\n",
    "mars_weather"
   ]
  },
  {
   "cell_type": "code",
   "execution_count": null,
   "metadata": {
    "collapsed": true
   },
   "outputs": [],
   "source": []
  }
 ],
 "metadata": {
  "kernelspec": {
   "display_name": "Python 3",
   "language": "python",
   "name": "python3"
  },
  "language_info": {
   "codemirror_mode": {
    "name": "ipython",
    "version": 3
   },
   "file_extension": ".py",
   "mimetype": "text/x-python",
   "name": "python",
   "nbconvert_exporter": "python",
   "pygments_lexer": "ipython3",
   "version": "3.6.4"
  }
 },
 "nbformat": 4,
 "nbformat_minor": 2
}
