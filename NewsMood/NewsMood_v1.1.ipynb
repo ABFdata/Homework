{
 "cells": [
  {
   "cell_type": "code",
   "execution_count": 1,
   "metadata": {
    "collapsed": true
   },
   "outputs": [],
   "source": [
    "import tweepy\n",
    "import json\n",
    "import numpy as np\n",
    "import pandas as pd\n",
    "import matplotlib.pyplot as plt\n",
    "import seaborn as sns"
   ]
  },
  {
   "cell_type": "code",
   "execution_count": 2,
   "metadata": {
    "collapsed": true
   },
   "outputs": [],
   "source": [
    "from vaderSentiment.vaderSentiment import SentimentIntensityAnalyzer\n",
    "analyzer = SentimentIntensityAnalyzer()"
   ]
  },
  {
   "cell_type": "code",
   "execution_count": 3,
   "metadata": {
    "collapsed": true
   },
   "outputs": [],
   "source": [
    "# twitter api\n",
    "consumer_key = \"Oe5kkX8IMqhbKyTP9jYqBo1fh\"\n",
    "consumer_secret = \"2uRriHsWqhb12BJXIpvgKIm0Fp7YyF4oXd9Clc0MiS35Udxpx4\"\n",
    "access_token = \"878718601250746368-hYV10B9TwbwFmzHq535sQkAcHSuD3WW\"\n",
    "access_token_secret = \"PXzLIgPxF8ykJNFqaO6y7VhjSnDy1mdwrC2Z3bzeVtEZi\""
   ]
  },
  {
   "cell_type": "code",
   "execution_count": 4,
   "metadata": {
    "collapsed": true
   },
   "outputs": [],
   "source": [
    "# Setup Tweepy API Authentication\n",
    "auth = tweepy.OAuthHandler(consumer_key, consumer_secret)\n",
    "auth.set_access_token(access_token, access_token_secret)\n",
    "api = tweepy.API(auth, parser=tweepy.parsers.JSONParser())"
   ]
  },
  {
   "cell_type": "code",
   "execution_count": 5,
   "metadata": {
    "collapsed": true
   },
   "outputs": [],
   "source": [
    "target_user = (\"@bbc\", \"@CBSNews\", \"@CNN\", \"@FoxNews\", \"@nytimes\")"
   ]
  },
  {
   "cell_type": "code",
   "execution_count": 6,
   "metadata": {
    "collapsed": true
   },
   "outputs": [],
   "source": [
    "# Counter\n",
    "counter = 1    "
   ]
  },
  {
   "cell_type": "code",
   "execution_count": 7,
   "metadata": {},
   "outputs": [],
   "source": [
    "# variable for holding sentiments\n",
    "sentiment_array = []\n",
    "\n",
    "# loop through all target users\n",
    "for target in target_user:\n",
    "    \n",
    "    # loop through 1 time (total of 100 tweets per page)\n",
    "    for x in range(1):\n",
    "        \n",
    "        public_tweets = api.search(target, count=100, result_type=\"recent\")\n",
    "        \n",
    "        # loop through all tweets\n",
    "        \n",
    "        for tweet in public_tweets[\"statuses\"]:\n",
    "            \n",
    "            # run vader analysis on each tweet\n",
    "            compound = analyzer.polarity_scores(tweet[\"text\"])[\"compound\"]\n",
    "            pos = analyzer.polarity_scores(tweet[\"text\"])[\"pos\"]\n",
    "            neu = analyzer.polarity_scores(tweet[\"text\"])[\"neu\"]\n",
    "            neg = analyzer.polarity_scores(tweet[\"text\"])[\"neg\"]\n",
    "            tweets_ago = counter\n",
    "            \n",
    "            # add sentiments for each tweet into an array\n",
    "            sentiment_array.append({\"UserName\": target,\n",
    "                                   # \"UserName\": tweet[\"user\"][\"screen_name\"],\n",
    "                                   \"Date\": tweet[\"created_at\"],\n",
    "                                   \"Compound\": compound,\n",
    "                                   \"Positive\": pos,\n",
    "                                   \"Neutral\": neu,\n",
    "                                   \"Negative\": neg,\n",
    "                                   \"Tweets Ago\": counter})\n",
    "            \n",
    "            # add each value to appropiate array\n",
    "            # compound_list.append(compund)\n",
    "            # positive_list.append(pos)\n",
    "            # neutral_list.append(neu)\n",
    "            # negative_list.append(neg)\n",
    "            # oldest_tweet = str(int(tweet[\"id_str\"])-1)\n",
    "            \n",
    "            # counter = counter + 1\n",
    "            \n",
    "            if counter < 100:\n",
    "                counter += 1\n",
    "            else:\n",
    "                counter = 1\n",
    "            \n",
    "            "
   ]
  },
  {
   "cell_type": "code",
   "execution_count": 8,
   "metadata": {},
   "outputs": [
    {
     "data": {
      "text/html": [
       "<div>\n",
       "<style>\n",
       "    .dataframe thead tr:only-child th {\n",
       "        text-align: right;\n",
       "    }\n",
       "\n",
       "    .dataframe thead th {\n",
       "        text-align: left;\n",
       "    }\n",
       "\n",
       "    .dataframe tbody tr th {\n",
       "        vertical-align: top;\n",
       "    }\n",
       "</style>\n",
       "<table border=\"1\" class=\"dataframe\">\n",
       "  <thead>\n",
       "    <tr style=\"text-align: right;\">\n",
       "      <th></th>\n",
       "      <th>Compound</th>\n",
       "      <th>Date</th>\n",
       "      <th>Negative</th>\n",
       "      <th>Neutral</th>\n",
       "      <th>Positive</th>\n",
       "      <th>Tweets Ago</th>\n",
       "      <th>UserName</th>\n",
       "    </tr>\n",
       "  </thead>\n",
       "  <tbody>\n",
       "    <tr>\n",
       "      <th>0</th>\n",
       "      <td>-0.3134</td>\n",
       "      <td>Sun Dec 10 00:10:48 +0000 2017</td>\n",
       "      <td>0.094</td>\n",
       "      <td>0.906</td>\n",
       "      <td>0.000</td>\n",
       "      <td>1</td>\n",
       "      <td>@bbc</td>\n",
       "    </tr>\n",
       "    <tr>\n",
       "      <th>1</th>\n",
       "      <td>0.0000</td>\n",
       "      <td>Sun Dec 10 00:10:26 +0000 2017</td>\n",
       "      <td>0.000</td>\n",
       "      <td>1.000</td>\n",
       "      <td>0.000</td>\n",
       "      <td>2</td>\n",
       "      <td>@bbc</td>\n",
       "    </tr>\n",
       "    <tr>\n",
       "      <th>2</th>\n",
       "      <td>0.8750</td>\n",
       "      <td>Sun Dec 10 00:10:04 +0000 2017</td>\n",
       "      <td>0.000</td>\n",
       "      <td>0.607</td>\n",
       "      <td>0.393</td>\n",
       "      <td>3</td>\n",
       "      <td>@bbc</td>\n",
       "    </tr>\n",
       "    <tr>\n",
       "      <th>3</th>\n",
       "      <td>-0.3134</td>\n",
       "      <td>Sun Dec 10 00:09:49 +0000 2017</td>\n",
       "      <td>0.094</td>\n",
       "      <td>0.906</td>\n",
       "      <td>0.000</td>\n",
       "      <td>4</td>\n",
       "      <td>@bbc</td>\n",
       "    </tr>\n",
       "    <tr>\n",
       "      <th>4</th>\n",
       "      <td>0.5743</td>\n",
       "      <td>Sun Dec 10 00:09:34 +0000 2017</td>\n",
       "      <td>0.000</td>\n",
       "      <td>0.843</td>\n",
       "      <td>0.157</td>\n",
       "      <td>5</td>\n",
       "      <td>@bbc</td>\n",
       "    </tr>\n",
       "  </tbody>\n",
       "</table>\n",
       "</div>"
      ],
      "text/plain": [
       "   Compound                            Date  Negative  Neutral  Positive  \\\n",
       "0   -0.3134  Sun Dec 10 00:10:48 +0000 2017     0.094    0.906     0.000   \n",
       "1    0.0000  Sun Dec 10 00:10:26 +0000 2017     0.000    1.000     0.000   \n",
       "2    0.8750  Sun Dec 10 00:10:04 +0000 2017     0.000    0.607     0.393   \n",
       "3   -0.3134  Sun Dec 10 00:09:49 +0000 2017     0.094    0.906     0.000   \n",
       "4    0.5743  Sun Dec 10 00:09:34 +0000 2017     0.000    0.843     0.157   \n",
       "\n",
       "   Tweets Ago UserName  \n",
       "0           1     @bbc  \n",
       "1           2     @bbc  \n",
       "2           3     @bbc  \n",
       "3           4     @bbc  \n",
       "4           5     @bbc  "
      ]
     },
     "execution_count": 8,
     "metadata": {},
     "output_type": "execute_result"
    }
   ],
   "source": [
    "sentiments_df = pd.DataFrame.from_dict(sentiment_array)\n",
    "sentiments_df.head()"
   ]
  },
  {
   "cell_type": "code",
   "execution_count": 9,
   "metadata": {},
   "outputs": [
    {
     "data": {
      "text/plain": [
       "(500, 7)"
      ]
     },
     "execution_count": 9,
     "metadata": {},
     "output_type": "execute_result"
    }
   ],
   "source": [
    "sentiments_df.shape"
   ]
  },
  {
   "cell_type": "code",
   "execution_count": 10,
   "metadata": {},
   "outputs": [
    {
     "data": {
      "text/html": [
       "<div>\n",
       "<style>\n",
       "    .dataframe thead tr:only-child th {\n",
       "        text-align: right;\n",
       "    }\n",
       "\n",
       "    .dataframe thead th {\n",
       "        text-align: left;\n",
       "    }\n",
       "\n",
       "    .dataframe tbody tr th {\n",
       "        vertical-align: top;\n",
       "    }\n",
       "</style>\n",
       "<table border=\"1\" class=\"dataframe\">\n",
       "  <thead>\n",
       "    <tr style=\"text-align: right;\">\n",
       "      <th></th>\n",
       "      <th>Compound</th>\n",
       "      <th>Date</th>\n",
       "      <th>Negative</th>\n",
       "      <th>Neutral</th>\n",
       "      <th>Positive</th>\n",
       "      <th>Tweets Ago</th>\n",
       "      <th>UserName</th>\n",
       "    </tr>\n",
       "  </thead>\n",
       "  <tbody>\n",
       "    <tr>\n",
       "      <th>495</th>\n",
       "      <td>0.5267</td>\n",
       "      <td>Sun Dec 10 00:09:08 +0000 2017</td>\n",
       "      <td>0.000</td>\n",
       "      <td>0.833</td>\n",
       "      <td>0.167</td>\n",
       "      <td>96</td>\n",
       "      <td>@nytimes</td>\n",
       "    </tr>\n",
       "    <tr>\n",
       "      <th>496</th>\n",
       "      <td>0.0000</td>\n",
       "      <td>Sun Dec 10 00:09:05 +0000 2017</td>\n",
       "      <td>0.000</td>\n",
       "      <td>1.000</td>\n",
       "      <td>0.000</td>\n",
       "      <td>97</td>\n",
       "      <td>@nytimes</td>\n",
       "    </tr>\n",
       "    <tr>\n",
       "      <th>497</th>\n",
       "      <td>0.0000</td>\n",
       "      <td>Sun Dec 10 00:09:04 +0000 2017</td>\n",
       "      <td>0.000</td>\n",
       "      <td>1.000</td>\n",
       "      <td>0.000</td>\n",
       "      <td>98</td>\n",
       "      <td>@nytimes</td>\n",
       "    </tr>\n",
       "    <tr>\n",
       "      <th>498</th>\n",
       "      <td>0.0772</td>\n",
       "      <td>Sun Dec 10 00:09:03 +0000 2017</td>\n",
       "      <td>0.172</td>\n",
       "      <td>0.640</td>\n",
       "      <td>0.187</td>\n",
       "      <td>99</td>\n",
       "      <td>@nytimes</td>\n",
       "    </tr>\n",
       "    <tr>\n",
       "      <th>499</th>\n",
       "      <td>-0.2500</td>\n",
       "      <td>Sun Dec 10 00:09:00 +0000 2017</td>\n",
       "      <td>0.083</td>\n",
       "      <td>0.917</td>\n",
       "      <td>0.000</td>\n",
       "      <td>100</td>\n",
       "      <td>@nytimes</td>\n",
       "    </tr>\n",
       "  </tbody>\n",
       "</table>\n",
       "</div>"
      ],
      "text/plain": [
       "     Compound                            Date  Negative  Neutral  Positive  \\\n",
       "495    0.5267  Sun Dec 10 00:09:08 +0000 2017     0.000    0.833     0.167   \n",
       "496    0.0000  Sun Dec 10 00:09:05 +0000 2017     0.000    1.000     0.000   \n",
       "497    0.0000  Sun Dec 10 00:09:04 +0000 2017     0.000    1.000     0.000   \n",
       "498    0.0772  Sun Dec 10 00:09:03 +0000 2017     0.172    0.640     0.187   \n",
       "499   -0.2500  Sun Dec 10 00:09:00 +0000 2017     0.083    0.917     0.000   \n",
       "\n",
       "     Tweets Ago  UserName  \n",
       "495          96  @nytimes  \n",
       "496          97  @nytimes  \n",
       "497          98  @nytimes  \n",
       "498          99  @nytimes  \n",
       "499         100  @nytimes  "
      ]
     },
     "execution_count": 10,
     "metadata": {},
     "output_type": "execute_result"
    }
   ],
   "source": [
    "sentiments_df.tail()"
   ]
  },
  {
   "cell_type": "code",
   "execution_count": 11,
   "metadata": {},
   "outputs": [],
   "source": [
    "df_bbc = sentiments_df[sentiments_df['UserName']== '@bbc']\n",
    "# df_bbc.sort_values(\"Tweets Ago\", ascending=False).head()"
   ]
  },
  {
   "cell_type": "code",
   "execution_count": 12,
   "metadata": {},
   "outputs": [],
   "source": [
    "df_cbs = sentiments_df[sentiments_df['UserName']== '@CBSNews']"
   ]
  },
  {
   "cell_type": "code",
   "execution_count": 13,
   "metadata": {},
   "outputs": [],
   "source": [
    "df_cnn = sentiments_df[sentiments_df['UserName']== '@CNN']"
   ]
  },
  {
   "cell_type": "code",
   "execution_count": 14,
   "metadata": {},
   "outputs": [],
   "source": [
    "df_fox = sentiments_df[sentiments_df['UserName']== '@FoxNews']"
   ]
  },
  {
   "cell_type": "code",
   "execution_count": 15,
   "metadata": {},
   "outputs": [],
   "source": [
    "df_nytimes = sentiments_df[sentiments_df['UserName']== '@nytimes']"
   ]
  },
  {
   "cell_type": "markdown",
   "metadata": {},
   "source": [
    "<br><br>\n",
    "**Plot Sentiments**"
   ]
  },
  {
   "cell_type": "code",
   "execution_count": 16,
   "metadata": {},
   "outputs": [],
   "source": [
    "x_bbc = np.arange(len(df_bbc[\"Compound\"]))"
   ]
  },
  {
   "cell_type": "code",
   "execution_count": 17,
   "metadata": {},
   "outputs": [],
   "source": [
    "y_bbc = df_bbc[\"Compound\"]"
   ]
  },
  {
   "cell_type": "code",
   "execution_count": 18,
   "metadata": {},
   "outputs": [],
   "source": [
    "z_bbc = df_bbc[\"UserName\"].count()"
   ]
  },
  {
   "cell_type": "code",
   "execution_count": 19,
   "metadata": {
    "collapsed": true
   },
   "outputs": [],
   "source": [
    "x_cbs = np.arange(len(df_cbs[\"Compound\"]))"
   ]
  },
  {
   "cell_type": "code",
   "execution_count": 20,
   "metadata": {
    "collapsed": true
   },
   "outputs": [],
   "source": [
    "y_cbs = df_cbs[\"Compound\"]"
   ]
  },
  {
   "cell_type": "code",
   "execution_count": 21,
   "metadata": {
    "collapsed": true
   },
   "outputs": [],
   "source": [
    "z_cbs = df_cbs[\"UserName\"].count()"
   ]
  },
  {
   "cell_type": "code",
   "execution_count": 22,
   "metadata": {
    "collapsed": true
   },
   "outputs": [],
   "source": [
    "x_cnn = np.arange(len(df_cnn[\"Compound\"]))"
   ]
  },
  {
   "cell_type": "code",
   "execution_count": 23,
   "metadata": {
    "collapsed": true
   },
   "outputs": [],
   "source": [
    "y_cnn = df_cnn[\"Compound\"]"
   ]
  },
  {
   "cell_type": "code",
   "execution_count": 24,
   "metadata": {
    "collapsed": true
   },
   "outputs": [],
   "source": [
    "z_cnn = df_cnn[\"UserName\"].count()"
   ]
  },
  {
   "cell_type": "code",
   "execution_count": 25,
   "metadata": {
    "collapsed": true
   },
   "outputs": [],
   "source": [
    "x_fox = np.arange(len(df_fox[\"Compound\"]))"
   ]
  },
  {
   "cell_type": "code",
   "execution_count": 26,
   "metadata": {
    "collapsed": true
   },
   "outputs": [],
   "source": [
    "y_fox = df_fox[\"Compound\"]"
   ]
  },
  {
   "cell_type": "code",
   "execution_count": 27,
   "metadata": {
    "collapsed": true
   },
   "outputs": [],
   "source": [
    "z_fox = df_fox[\"UserName\"].count()"
   ]
  },
  {
   "cell_type": "code",
   "execution_count": 28,
   "metadata": {
    "collapsed": true
   },
   "outputs": [],
   "source": [
    "x_ny = np.arange(len(df_nytimes[\"Compound\"]))"
   ]
  },
  {
   "cell_type": "code",
   "execution_count": 29,
   "metadata": {
    "collapsed": true
   },
   "outputs": [],
   "source": [
    "y_ny = df_nytimes[\"Compound\"]"
   ]
  },
  {
   "cell_type": "code",
   "execution_count": 30,
   "metadata": {
    "collapsed": true
   },
   "outputs": [],
   "source": [
    "z_ny = df_nytimes[\"UserName\"].count()"
   ]
  },
  {
   "cell_type": "code",
   "execution_count": 84,
   "metadata": {},
   "outputs": [
    {
     "data": {
      "text/plain": [
       "<matplotlib.text.Text at 0x1197882b0>"
      ]
     },
     "execution_count": 84,
     "metadata": {},
     "output_type": "execute_result"
    }
   ],
   "source": [
    "plt.figure(figsize=(10,10))\n",
    "plt.title(\"Sentiment Analysis of Media Tweets (12/9/17)\")\n",
    "plt.ylabel(\"Tweet Polarity\")\n",
    "plt.xlabel(\"Tweets Ago\")\n",
    "# plt.legend((bbc_plot, cbs_plot, cnn_plot, fox_plot, ny_plot), \n",
    "           # ('BBC', 'CBS', 'CNN', 'Fox', 'New York Times'),\n",
    "           # fontsize=\"small\", mode=\"Expanded\",\n",
    "           # numpoints=1, scatterpoints=1,\n",
    "           # loc = \"upper right\", bbox_to_anchor=(1,1),\n",
    "           # title = 'Media Sources',\n",
    "           # labelspacing=0.5)"
   ]
  },
  {
   "cell_type": "code",
   "execution_count": 85,
   "metadata": {
    "collapsed": true
   },
   "outputs": [],
   "source": [
    "bbc_plot = plt.scatter(x_bbc,\n",
    "                      y_bbc,\n",
    "                      s=z_bbc*1,\n",
    "                      c=\"lightskyblue\",\n",
    "                      edgecolors=\"black\",\n",
    "                      alpha=0.8, linewidth=1)"
   ]
  },
  {
   "cell_type": "code",
   "execution_count": 86,
   "metadata": {},
   "outputs": [],
   "source": [
    "cbs_plot = plt.scatter(x_cbs,\n",
    "                      y_cbs,\n",
    "                      s=z_cbs*1,\n",
    "                      c=\"green\",\n",
    "                      edgecolors=\"black\",\n",
    "                      alpha=0.8, linewidth=1)"
   ]
  },
  {
   "cell_type": "code",
   "execution_count": 87,
   "metadata": {
    "collapsed": true
   },
   "outputs": [],
   "source": [
    "cnn_plot = plt.scatter(x_cnn,\n",
    "                      y_cnn,\n",
    "                      s=z_cnn*1,\n",
    "                      c=\"red\",\n",
    "                      edgecolors=\"black\",\n",
    "                      alpha=0.8, linewidth=1)"
   ]
  },
  {
   "cell_type": "code",
   "execution_count": 88,
   "metadata": {
    "collapsed": true
   },
   "outputs": [],
   "source": [
    "fox_plot = plt.scatter(x_fox,\n",
    "                      y_fox,\n",
    "                      s=z_fox*1,\n",
    "                      c=\"blue\",\n",
    "                      edgecolors=\"black\",\n",
    "                      alpha=0.8, linewidth=1)"
   ]
  },
  {
   "cell_type": "code",
   "execution_count": 89,
   "metadata": {
    "collapsed": true
   },
   "outputs": [],
   "source": [
    "ny_plot = plt.scatter(x_ny,\n",
    "                      y_ny,\n",
    "                      s=z_ny*1,\n",
    "                      c=\"yellow\",\n",
    "                      edgecolors=\"black\",\n",
    "                      alpha=0.8, linewidth=1)"
   ]
  },
  {
   "cell_type": "code",
   "execution_count": 90,
   "metadata": {
    "scrolled": false
   },
   "outputs": [
    {
     "data": {
      "image/png": "[encoded data removed]",
      "text/plain": [
       "<matplotlib.figure.Figure at 0x1199696a0>"
      ]
     },
     "metadata": {},
     "output_type": "display_data"
    }
   ],
   "source": [
    "# plt.legend(loc='best', bbox_to_anchor=(1, 0.5))\n",
    "sns.set()\n",
    "plt.show()"
   ]
  },
  {
   "cell_type": "code",
   "execution_count": null,
   "metadata": {
    "collapsed": true
   },
   "outputs": [],
   "source": [
    "# sns.barplot \n",
    "# groupby to solve"
   ]
  },
  {
   "cell_type": "code",
   "execution_count": null,
   "metadata": {
    "collapsed": true
   },
   "outputs": [],
   "source": [
    "# sns code to add legend\n",
    "# fg.map(plt.scatter, 'tweets_ago', 'compound').add_legend()"
   ]
  },
  {
   "cell_type": "code",
   "execution_count": 38,
   "metadata": {},
   "outputs": [
    {
     "data": {
      "text/html": [
       "<div>\n",
       "<style>\n",
       "    .dataframe thead tr:only-child th {\n",
       "        text-align: right;\n",
       "    }\n",
       "\n",
       "    .dataframe thead th {\n",
       "        text-align: left;\n",
       "    }\n",
       "\n",
       "    .dataframe tbody tr th {\n",
       "        vertical-align: top;\n",
       "    }\n",
       "</style>\n",
       "<table border=\"1\" class=\"dataframe\">\n",
       "  <thead>\n",
       "    <tr style=\"text-align: right;\">\n",
       "      <th></th>\n",
       "      <th>Compound</th>\n",
       "      <th>Date</th>\n",
       "      <th>Negative</th>\n",
       "      <th>Neutral</th>\n",
       "      <th>Positive</th>\n",
       "      <th>Tweets Ago</th>\n",
       "      <th>UserName</th>\n",
       "    </tr>\n",
       "  </thead>\n",
       "  <tbody>\n",
       "    <tr>\n",
       "      <th>0</th>\n",
       "      <td>-0.3134</td>\n",
       "      <td>Sun Dec 10 00:10:48 +0000 2017</td>\n",
       "      <td>0.094</td>\n",
       "      <td>0.906</td>\n",
       "      <td>0.000</td>\n",
       "      <td>1</td>\n",
       "      <td>@bbc</td>\n",
       "    </tr>\n",
       "    <tr>\n",
       "      <th>1</th>\n",
       "      <td>0.0000</td>\n",
       "      <td>Sun Dec 10 00:10:26 +0000 2017</td>\n",
       "      <td>0.000</td>\n",
       "      <td>1.000</td>\n",
       "      <td>0.000</td>\n",
       "      <td>2</td>\n",
       "      <td>@bbc</td>\n",
       "    </tr>\n",
       "    <tr>\n",
       "      <th>2</th>\n",
       "      <td>0.8750</td>\n",
       "      <td>Sun Dec 10 00:10:04 +0000 2017</td>\n",
       "      <td>0.000</td>\n",
       "      <td>0.607</td>\n",
       "      <td>0.393</td>\n",
       "      <td>3</td>\n",
       "      <td>@bbc</td>\n",
       "    </tr>\n",
       "    <tr>\n",
       "      <th>3</th>\n",
       "      <td>-0.3134</td>\n",
       "      <td>Sun Dec 10 00:09:49 +0000 2017</td>\n",
       "      <td>0.094</td>\n",
       "      <td>0.906</td>\n",
       "      <td>0.000</td>\n",
       "      <td>4</td>\n",
       "      <td>@bbc</td>\n",
       "    </tr>\n",
       "    <tr>\n",
       "      <th>4</th>\n",
       "      <td>0.5743</td>\n",
       "      <td>Sun Dec 10 00:09:34 +0000 2017</td>\n",
       "      <td>0.000</td>\n",
       "      <td>0.843</td>\n",
       "      <td>0.157</td>\n",
       "      <td>5</td>\n",
       "      <td>@bbc</td>\n",
       "    </tr>\n",
       "  </tbody>\n",
       "</table>\n",
       "</div>"
      ],
      "text/plain": [
       "   Compound                            Date  Negative  Neutral  Positive  \\\n",
       "0   -0.3134  Sun Dec 10 00:10:48 +0000 2017     0.094    0.906     0.000   \n",
       "1    0.0000  Sun Dec 10 00:10:26 +0000 2017     0.000    1.000     0.000   \n",
       "2    0.8750  Sun Dec 10 00:10:04 +0000 2017     0.000    0.607     0.393   \n",
       "3   -0.3134  Sun Dec 10 00:09:49 +0000 2017     0.094    0.906     0.000   \n",
       "4    0.5743  Sun Dec 10 00:09:34 +0000 2017     0.000    0.843     0.157   \n",
       "\n",
       "   Tweets Ago UserName  \n",
       "0           1     @bbc  \n",
       "1           2     @bbc  \n",
       "2           3     @bbc  \n",
       "3           4     @bbc  \n",
       "4           5     @bbc  "
      ]
     },
     "execution_count": 38,
     "metadata": {},
     "output_type": "execute_result"
    }
   ],
   "source": [
    "# bar plot \n",
    "sentiments_df.head()"
   ]
  },
  {
   "cell_type": "code",
   "execution_count": 39,
   "metadata": {},
   "outputs": [
    {
     "data": {
      "text/html": [
       "<div>\n",
       "<style>\n",
       "    .dataframe thead tr:only-child th {\n",
       "        text-align: right;\n",
       "    }\n",
       "\n",
       "    .dataframe thead th {\n",
       "        text-align: left;\n",
       "    }\n",
       "\n",
       "    .dataframe tbody tr th {\n",
       "        vertical-align: top;\n",
       "    }\n",
       "</style>\n",
       "<table border=\"1\" class=\"dataframe\">\n",
       "  <thead>\n",
       "    <tr style=\"text-align: right;\">\n",
       "      <th></th>\n",
       "      <th>Compound</th>\n",
       "      <th>UserName</th>\n",
       "    </tr>\n",
       "  </thead>\n",
       "  <tbody>\n",
       "    <tr>\n",
       "      <th>0</th>\n",
       "      <td>-0.3134</td>\n",
       "      <td>@bbc</td>\n",
       "    </tr>\n",
       "    <tr>\n",
       "      <th>1</th>\n",
       "      <td>0.0000</td>\n",
       "      <td>@bbc</td>\n",
       "    </tr>\n",
       "    <tr>\n",
       "      <th>2</th>\n",
       "      <td>0.8750</td>\n",
       "      <td>@bbc</td>\n",
       "    </tr>\n",
       "    <tr>\n",
       "      <th>3</th>\n",
       "      <td>-0.3134</td>\n",
       "      <td>@bbc</td>\n",
       "    </tr>\n",
       "    <tr>\n",
       "      <th>4</th>\n",
       "      <td>0.5743</td>\n",
       "      <td>@bbc</td>\n",
       "    </tr>\n",
       "  </tbody>\n",
       "</table>\n",
       "</div>"
      ],
      "text/plain": [
       "   Compound UserName\n",
       "0   -0.3134     @bbc\n",
       "1    0.0000     @bbc\n",
       "2    0.8750     @bbc\n",
       "3   -0.3134     @bbc\n",
       "4    0.5743     @bbc"
      ]
     },
     "execution_count": 39,
     "metadata": {},
     "output_type": "execute_result"
    }
   ],
   "source": [
    "sentiments_group = pd.DataFrame(sentiments_df[[\"Compound\", \"UserName\"]])\n",
    "sentiments_group.head()"
   ]
  },
  {
   "cell_type": "code",
   "execution_count": 40,
   "metadata": {},
   "outputs": [],
   "source": [
    "bbc_bar = sentiments_group[sentiments_group['UserName']== '@bbc']\n",
    "bbc_polarity = bbc_bar['Compound'].mean()"
   ]
  },
  {
   "cell_type": "code",
   "execution_count": 41,
   "metadata": {},
   "outputs": [],
   "source": [
    "cbs_bar = sentiments_group[sentiments_group['UserName']== '@CBSNews']\n",
    "cbs_polarity = cbs_bar['Compound'].mean()"
   ]
  },
  {
   "cell_type": "code",
   "execution_count": 42,
   "metadata": {},
   "outputs": [],
   "source": [
    "cnn_bar = sentiments_group[sentiments_group['UserName']== '@CNN']\n",
    "cnn_polarity = cnn_bar['Compound'].mean()"
   ]
  },
  {
   "cell_type": "code",
   "execution_count": 43,
   "metadata": {},
   "outputs": [],
   "source": [
    "fox_bar = sentiments_group[sentiments_group['UserName']== '@FoxNews']\n",
    "fox_polarity = fox_bar['Compound'].mean()"
   ]
  },
  {
   "cell_type": "code",
   "execution_count": 44,
   "metadata": {},
   "outputs": [],
   "source": [
    "nyt_bar = sentiments_group[sentiments_group['UserName']== '@nytimes']\n",
    "nyt_polarity = nyt_bar['Compound'].mean()"
   ]
  },
  {
   "cell_type": "code",
   "execution_count": 77,
   "metadata": {},
   "outputs": [],
   "source": [
    "y_axis = [bbc_polarity, cbs_polarity, cnn_polarity, \n",
    "          fox_polarity, nyt_polarity]"
   ]
  },
  {
   "cell_type": "code",
   "execution_count": 78,
   "metadata": {},
   "outputs": [
    {
     "data": {
      "text/plain": [
       "array([0, 1, 2, 3, 4])"
      ]
     },
     "execution_count": 78,
     "metadata": {},
     "output_type": "execute_result"
    }
   ],
   "source": [
    "x_axis = np.arange(len(target_user))\n",
    "x_axis"
   ]
  },
  {
   "cell_type": "code",
   "execution_count": 79,
   "metadata": {},
   "outputs": [
    {
     "data": {
      "text/plain": [
       "<matplotlib.text.Text at 0x119788e80>"
      ]
     },
     "execution_count": 79,
     "metadata": {},
     "output_type": "execute_result"
    }
   ],
   "source": [
    "plt.figure(figsize=(10,10))\n",
    "plt.grid(False)\n",
    "plt.title(\"Overall Media Sentiment based on Twitter(12/9/17)\")\n",
    "plt.ylabel(\"Tweet Polarity\")"
   ]
  },
  {
   "cell_type": "code",
   "execution_count": 80,
   "metadata": {
    "scrolled": true
   },
   "outputs": [
    {
     "data": {
      "text/plain": [
       "<Container object of 5 artists>"
      ]
     },
     "execution_count": 80,
     "metadata": {},
     "output_type": "execute_result"
    }
   ],
   "source": [
    "plt.bar(x_axis, y_axis, color=(\"lightskyblue\", \"green\", \"red\", \n",
    "        \"blue\", \"yellow\"), alpha=0.5, align=\"edge\", width=1.0)"
   ]
  },
  {
   "cell_type": "code",
   "execution_count": 81,
   "metadata": {
    "scrolled": true
   },
   "outputs": [
    {
     "data": {
      "text/plain": [
       "([<matplotlib.axis.XTick at 0x11977f4e0>,\n",
       "  <matplotlib.axis.XTick at 0x119776f98>,\n",
       "  <matplotlib.axis.XTick at 0x119788278>,\n",
       "  <matplotlib.axis.XTick at 0x1199bbe48>,\n",
       "  <matplotlib.axis.XTick at 0x1199c3908>],\n",
       " <a list of 5 Text xticklabel objects>)"
      ]
     },
     "execution_count": 81,
     "metadata": {},
     "output_type": "execute_result"
    }
   ],
   "source": [
    "tick_locations = [value+0.4 for value in x_axis]\n",
    "plt.xticks(tick_locations, [\"BBC\", \"CBS\", \"CNN\", \"FOX\", \"NYT\"])"
   ]
  },
  {
   "cell_type": "code",
   "execution_count": 82,
   "metadata": {},
   "outputs": [
    {
     "data": {
      "image/png": "[encoded data removed]",
      "text/plain": [
       "<matplotlib.figure.Figure at 0x11973e978>"
      ]
     },
     "metadata": {},
     "output_type": "display_data"
    }
   ],
   "source": [
    "sns.set()\n",
    "plt.show()"
   ]
  },
  {
   "cell_type": "code",
   "execution_count": null,
   "metadata": {
    "collapsed": true
   },
   "outputs": [],
   "source": []
  }
 ],
 "metadata": {
  "kernelspec": {
   "display_name": "Python 3",
   "language": "python",
   "name": "python3"
  },
  "language_info": {
   "codemirror_mode": {
    "name": "ipython",
    "version": 3
   },
   "file_extension": ".py",
   "mimetype": "text/x-python",
   "name": "python",
   "nbconvert_exporter": "python",
   "pygments_lexer": "ipython3",
   "version": "3.6.1"
  }
 },
 "nbformat": 4,
 "nbformat_minor": 2
}
