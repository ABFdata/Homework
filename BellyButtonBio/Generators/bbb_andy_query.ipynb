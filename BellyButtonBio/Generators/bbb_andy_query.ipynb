{
 "cells": [
  {
   "cell_type": "code",
   "execution_count": 1,
   "metadata": {},
   "outputs": [
    {
     "name": "stdout",
     "output_type": "stream",
     "text": [
      "height has been deprecated.\n",
      "\n"
     ]
    }
   ],
   "source": [
    "# import dependencies \n",
    "import pandas as pd\n",
    "import numpy as np\n",
    "import matplotlib.pyplot as plt\n",
    "%matplotlib inline\n",
    "import seaborn as sns\n",
    "import warnings\n",
    "warnings.filterwarnings('ignore')\n",
    "pd.set_option('display.height', 1000)\n",
    "pd.set_option('display.max_rows', 100)\n",
    "pd.set_option('display.max_columns', 100)\n",
    "pd.set_option('display.width', 1000)\n",
    "\n",
    "# display multiple print results on one line\n",
    "from IPython.core.interactiveshell import InteractiveShell\n",
    "InteractiveShell.ast_node_interactivity = \"all\"\n",
    "\n",
    "# expands .describe with more info about the data set\n",
    "import pandas_profiling\n",
    "\n",
    "# sqlalchemy dependencies\n",
    "import sqlalchemy\n",
    "from sqlalchemy.ext.automap import automap_base\n",
    "from sqlalchemy.orm import Session\n",
    "from sqlalchemy import create_engine\n",
    "from sqlalchemy import func\n",
    "from sqlalchemy import inspect\n",
    "\n",
    "from sqlalchemy.ext.declarative import declarative_base\n",
    "from sqlalchemy import Column, Integer, String, Float, Text\n",
    "\n",
    "# PyMySQL \n",
    "import pymysql\n",
    "pymysql.install_as_MySQLdb()\n",
    "\n",
    "# flask \n",
    "from flask import Flask, jsonify"
   ]
  },
  {
   "cell_type": "code",
   "execution_count": 2,
   "metadata": {
    "collapsed": true
   },
   "outputs": [],
   "source": [
    "# Use SQLAlchemy create_engine to connect to database\n",
    "engine = create_engine(\"sqlite:///bbb.sqlite\")\n",
    "conn = engine.connect()"
   ]
  },
  {
   "cell_type": "code",
   "execution_count": 3,
   "metadata": {
    "collapsed": true
   },
   "outputs": [],
   "source": [
    "# use SQLAlchemy automap_base() to reflect tables into classes and save references\n",
    "# called sample_names, otu_des, sample_meta, frequency\n",
    "Base = automap_base()"
   ]
  },
  {
   "cell_type": "code",
   "execution_count": 4,
   "metadata": {
    "collapsed": true
   },
   "outputs": [],
   "source": [
    "# use the base class to reflect the database tables\n",
    "Base.prepare(engine, reflect=True)"
   ]
  },
  {
   "cell_type": "code",
   "execution_count": 5,
   "metadata": {},
   "outputs": [
    {
     "data": {
      "text/plain": [
       "['otu', 'samples', 'samples_metadata']"
      ]
     },
     "execution_count": 5,
     "metadata": {},
     "output_type": "execute_result"
    }
   ],
   "source": [
    "Base.classes.keys()"
   ]
  },
  {
   "cell_type": "code",
   "execution_count": 6,
   "metadata": {
    "collapsed": true
   },
   "outputs": [],
   "source": [
    "# assign classes to variables\n",
    "sample_names = Base.classes.samples\n",
    "otu_des = Base.classes.otu\n",
    "sample_meta = Base.classes.samples_metadata"
   ]
  },
  {
   "cell_type": "code",
   "execution_count": 7,
   "metadata": {
    "collapsed": true
   },
   "outputs": [],
   "source": [
    "# create a session\n",
    "# a session means that you want to do something to your data\n",
    "session = Session(engine)"
   ]
  },
  {
   "cell_type": "code",
   "execution_count": 8,
   "metadata": {
    "collapsed": true
   },
   "outputs": [],
   "source": [
    "inspector = inspect(engine)"
   ]
  },
  {
   "cell_type": "code",
   "execution_count": 9,
   "metadata": {},
   "outputs": [
    {
     "name": "stdout",
     "output_type": "stream",
     "text": [
      "['otu', 'samples', 'samples_metadata']\n"
     ]
    }
   ],
   "source": [
    "# get table information\n",
    "print (inspector.get_table_names())"
   ]
  },
  {
   "cell_type": "code",
   "execution_count": 10,
   "metadata": {
    "collapsed": true,
    "scrolled": false
   },
   "outputs": [],
   "source": [
    "# get col names for samples and stores in a tuple within a list\n",
    "sample_name_col = inspector.get_columns('samples')"
   ]
  },
  {
   "cell_type": "code",
   "execution_count": 11,
   "metadata": {
    "collapsed": true,
    "scrolled": false
   },
   "outputs": [],
   "source": [
    "# prints list of sample names\n",
    "sample_names_list = [item[\"name\"] for item in sample_name_col]\n",
    "del sample_names_list[0]"
   ]
  },
  {
   "cell_type": "code",
   "execution_count": 12,
   "metadata": {
    "collapsed": true
   },
   "outputs": [],
   "source": [
    "# prints list of sample_names\n",
    "# sample_names_list"
   ]
  },
  {
   "cell_type": "code",
   "execution_count": 14,
   "metadata": {
    "scrolled": false
   },
   "outputs": [],
   "source": [
    "# return list of OTU descriptions\n",
    "otu_results = session.query(otu_des.lowest_taxonomic_unit_found).all()\n",
    "\n",
    "# stores otu results as a list\n",
    "otu_results_list = list(np.ravel(otu_results))\n",
    "# otu_results_list"
   ]
  },
  {
   "cell_type": "code",
   "execution_count": 15,
   "metadata": {
    "collapsed": true
   },
   "outputs": [],
   "source": [
    "# read Belly_Button_Biodiversity_Metadata\n",
    "bbb_meta_df = pd.read_csv('Belly_Button_Biodiversity_Metadata.csv')"
   ]
  },
  {
   "cell_type": "code",
   "execution_count": 16,
   "metadata": {},
   "outputs": [
    {
     "data": {
      "text/html": [
       "<div>\n",
       "<style>\n",
       "    .dataframe thead tr:only-child th {\n",
       "        text-align: right;\n",
       "    }\n",
       "\n",
       "    .dataframe thead th {\n",
       "        text-align: left;\n",
       "    }\n",
       "\n",
       "    .dataframe tbody tr th {\n",
       "        vertical-align: top;\n",
       "    }\n",
       "</style>\n",
       "<table border=\"1\" class=\"dataframe\">\n",
       "  <thead>\n",
       "    <tr style=\"text-align: right;\">\n",
       "      <th></th>\n",
       "      <th>SAMPLEID</th>\n",
       "      <th>EVENT</th>\n",
       "      <th>ETHNICITY</th>\n",
       "      <th>GENDER</th>\n",
       "      <th>AGE</th>\n",
       "      <th>WFREQ</th>\n",
       "      <th>BBTYPE</th>\n",
       "      <th>LOCATION</th>\n",
       "      <th>COUNTRY012</th>\n",
       "      <th>ZIP012</th>\n",
       "      <th>COUNTRY1319</th>\n",
       "      <th>ZIP1319</th>\n",
       "      <th>DOG</th>\n",
       "      <th>CAT</th>\n",
       "      <th>IMPSURFACE013</th>\n",
       "      <th>NPP013</th>\n",
       "      <th>MMAXTEMP013</th>\n",
       "      <th>PFC013</th>\n",
       "      <th>IMPSURFACE1319</th>\n",
       "      <th>NPP1319</th>\n",
       "      <th>MMAXTEMP1319</th>\n",
       "      <th>PFC1319</th>\n",
       "    </tr>\n",
       "  </thead>\n",
       "  <tbody>\n",
       "    <tr>\n",
       "      <th>0</th>\n",
       "      <td>940</td>\n",
       "      <td>BellyButtonsScienceOnline</td>\n",
       "      <td>Caucasian</td>\n",
       "      <td>F</td>\n",
       "      <td>24.0</td>\n",
       "      <td>2.0</td>\n",
       "      <td>I</td>\n",
       "      <td>Beaufort/NC</td>\n",
       "      <td>usa</td>\n",
       "      <td>22306</td>\n",
       "      <td>usa</td>\n",
       "      <td>22306</td>\n",
       "      <td>no</td>\n",
       "      <td>no</td>\n",
       "      <td>8852.0</td>\n",
       "      <td>37.172222</td>\n",
       "      <td>54.5</td>\n",
       "      <td>NaN</td>\n",
       "      <td>1</td>\n",
       "      <td>NaN</td>\n",
       "      <td>33.990002</td>\n",
       "      <td>25.5</td>\n",
       "    </tr>\n",
       "    <tr>\n",
       "      <th>1</th>\n",
       "      <td>941</td>\n",
       "      <td>NaN</td>\n",
       "      <td>Caucasian/Midleastern</td>\n",
       "      <td>F</td>\n",
       "      <td>34.0</td>\n",
       "      <td>1.0</td>\n",
       "      <td>I</td>\n",
       "      <td>Chicago/IL</td>\n",
       "      <td>NaN</td>\n",
       "      <td>NaN</td>\n",
       "      <td>NaN</td>\n",
       "      <td>NaN</td>\n",
       "      <td>NaN</td>\n",
       "      <td>NaN</td>\n",
       "      <td>NaN</td>\n",
       "      <td>NaN</td>\n",
       "      <td>NaN</td>\n",
       "      <td>NaN</td>\n",
       "      <td>NaN</td>\n",
       "      <td>NaN</td>\n",
       "      <td>NaN</td>\n",
       "      <td>NaN</td>\n",
       "    </tr>\n",
       "    <tr>\n",
       "      <th>2</th>\n",
       "      <td>943</td>\n",
       "      <td>BellyButtonsScienceOnline</td>\n",
       "      <td>Caucasian</td>\n",
       "      <td>F</td>\n",
       "      <td>49.0</td>\n",
       "      <td>1.0</td>\n",
       "      <td>I</td>\n",
       "      <td>Omaha/NE</td>\n",
       "      <td>NaN</td>\n",
       "      <td>NaN</td>\n",
       "      <td>NaN</td>\n",
       "      <td>NaN</td>\n",
       "      <td>NaN</td>\n",
       "      <td>NaN</td>\n",
       "      <td>NaN</td>\n",
       "      <td>NaN</td>\n",
       "      <td>NaN</td>\n",
       "      <td>NaN</td>\n",
       "      <td>NaN</td>\n",
       "      <td>NaN</td>\n",
       "      <td>NaN</td>\n",
       "      <td>NaN</td>\n",
       "    </tr>\n",
       "    <tr>\n",
       "      <th>3</th>\n",
       "      <td>944</td>\n",
       "      <td>BellyButtonsScienceOnline</td>\n",
       "      <td>European</td>\n",
       "      <td>M</td>\n",
       "      <td>44.0</td>\n",
       "      <td>1.0</td>\n",
       "      <td>I</td>\n",
       "      <td>NewHaven/CT</td>\n",
       "      <td>usa</td>\n",
       "      <td>7079</td>\n",
       "      <td>usa</td>\n",
       "      <td>8822</td>\n",
       "      <td>no</td>\n",
       "      <td>yes</td>\n",
       "      <td>NaN</td>\n",
       "      <td>35.816666</td>\n",
       "      <td>16.0</td>\n",
       "      <td>NaN</td>\n",
       "      <td>0</td>\n",
       "      <td>6567.0</td>\n",
       "      <td>32.403332</td>\n",
       "      <td>28.5</td>\n",
       "    </tr>\n",
       "    <tr>\n",
       "      <th>4</th>\n",
       "      <td>945</td>\n",
       "      <td>BellyButtonsScienceOnline</td>\n",
       "      <td>Caucasian</td>\n",
       "      <td>F</td>\n",
       "      <td>48.0</td>\n",
       "      <td>1.0</td>\n",
       "      <td>I</td>\n",
       "      <td>Philidelphia/PA</td>\n",
       "      <td>usa</td>\n",
       "      <td>84404</td>\n",
       "      <td>usa</td>\n",
       "      <td>96025</td>\n",
       "      <td>no</td>\n",
       "      <td>no</td>\n",
       "      <td>NaN</td>\n",
       "      <td>37.783333</td>\n",
       "      <td>4.0</td>\n",
       "      <td>NaN</td>\n",
       "      <td>0</td>\n",
       "      <td>5613.0</td>\n",
       "      <td>33.634445</td>\n",
       "      <td>24.0</td>\n",
       "    </tr>\n",
       "  </tbody>\n",
       "</table>\n",
       "</div>"
      ],
      "text/plain": [
       "   SAMPLEID                      EVENT              ETHNICITY GENDER   AGE  WFREQ BBTYPE         LOCATION COUNTRY012 ZIP012 COUNTRY1319 ZIP1319  DOG  CAT  IMPSURFACE013     NPP013  MMAXTEMP013  PFC013 IMPSURFACE1319  NPP1319  MMAXTEMP1319  PFC1319\n",
       "0       940  BellyButtonsScienceOnline              Caucasian      F  24.0    2.0      I      Beaufort/NC        usa  22306         usa   22306   no   no         8852.0  37.172222         54.5     NaN              1      NaN     33.990002     25.5\n",
       "1       941                        NaN  Caucasian/Midleastern      F  34.0    1.0      I       Chicago/IL        NaN    NaN         NaN     NaN  NaN  NaN            NaN        NaN          NaN     NaN            NaN      NaN           NaN      NaN\n",
       "2       943  BellyButtonsScienceOnline              Caucasian      F  49.0    1.0      I         Omaha/NE        NaN    NaN         NaN     NaN  NaN  NaN            NaN        NaN          NaN     NaN            NaN      NaN           NaN      NaN\n",
       "3       944  BellyButtonsScienceOnline               European      M  44.0    1.0      I      NewHaven/CT        usa   7079         usa    8822   no  yes            NaN  35.816666         16.0     NaN              0   6567.0     32.403332     28.5\n",
       "4       945  BellyButtonsScienceOnline              Caucasian      F  48.0    1.0      I  Philidelphia/PA        usa  84404         usa   96025   no   no            NaN  37.783333          4.0     NaN              0   5613.0     33.634445     24.0"
      ]
     },
     "execution_count": 16,
     "metadata": {},
     "output_type": "execute_result"
    },
    {
     "data": {
      "text/plain": [
       "(153, 22)"
      ]
     },
     "execution_count": 16,
     "metadata": {},
     "output_type": "execute_result"
    }
   ],
   "source": [
    "bbb_meta_df.head()\n",
    "bbb_meta_df.shape"
   ]
  },
  {
   "cell_type": "code",
   "execution_count": 17,
   "metadata": {},
   "outputs": [
    {
     "data": {
      "text/html": [
       "<div>\n",
       "<style>\n",
       "    .dataframe thead tr:only-child th {\n",
       "        text-align: right;\n",
       "    }\n",
       "\n",
       "    .dataframe thead th {\n",
       "        text-align: left;\n",
       "    }\n",
       "\n",
       "    .dataframe tbody tr th {\n",
       "        vertical-align: top;\n",
       "    }\n",
       "</style>\n",
       "<table border=\"1\" class=\"dataframe\">\n",
       "  <thead>\n",
       "    <tr style=\"text-align: right;\">\n",
       "      <th></th>\n",
       "      <th>AGE</th>\n",
       "      <th>BBTYPE</th>\n",
       "      <th>ETHNICITY</th>\n",
       "      <th>GENDER</th>\n",
       "      <th>LOCATION</th>\n",
       "      <th>SAMPLEID</th>\n",
       "    </tr>\n",
       "  </thead>\n",
       "  <tbody>\n",
       "    <tr>\n",
       "      <th>0</th>\n",
       "      <td>24.0</td>\n",
       "      <td>I</td>\n",
       "      <td>Caucasian</td>\n",
       "      <td>F</td>\n",
       "      <td>Beaufort/NC</td>\n",
       "      <td>940</td>\n",
       "    </tr>\n",
       "    <tr>\n",
       "      <th>1</th>\n",
       "      <td>34.0</td>\n",
       "      <td>I</td>\n",
       "      <td>Caucasian/Midleastern</td>\n",
       "      <td>F</td>\n",
       "      <td>Chicago/IL</td>\n",
       "      <td>941</td>\n",
       "    </tr>\n",
       "    <tr>\n",
       "      <th>2</th>\n",
       "      <td>49.0</td>\n",
       "      <td>I</td>\n",
       "      <td>Caucasian</td>\n",
       "      <td>F</td>\n",
       "      <td>Omaha/NE</td>\n",
       "      <td>943</td>\n",
       "    </tr>\n",
       "    <tr>\n",
       "      <th>3</th>\n",
       "      <td>44.0</td>\n",
       "      <td>I</td>\n",
       "      <td>European</td>\n",
       "      <td>M</td>\n",
       "      <td>NewHaven/CT</td>\n",
       "      <td>944</td>\n",
       "    </tr>\n",
       "    <tr>\n",
       "      <th>4</th>\n",
       "      <td>48.0</td>\n",
       "      <td>I</td>\n",
       "      <td>Caucasian</td>\n",
       "      <td>F</td>\n",
       "      <td>Philidelphia/PA</td>\n",
       "      <td>945</td>\n",
       "    </tr>\n",
       "  </tbody>\n",
       "</table>\n",
       "</div>"
      ],
      "text/plain": [
       "    AGE BBTYPE              ETHNICITY GENDER         LOCATION  SAMPLEID\n",
       "0  24.0      I              Caucasian      F      Beaufort/NC       940\n",
       "1  34.0      I  Caucasian/Midleastern      F       Chicago/IL       941\n",
       "2  49.0      I              Caucasian      F         Omaha/NE       943\n",
       "3  44.0      I               European      M      NewHaven/CT       944\n",
       "4  48.0      I              Caucasian      F  Philidelphia/PA       945"
      ]
     },
     "execution_count": 17,
     "metadata": {},
     "output_type": "execute_result"
    },
    {
     "data": {
      "text/plain": [
       "(153, 6)"
      ]
     },
     "execution_count": 17,
     "metadata": {},
     "output_type": "execute_result"
    }
   ],
   "source": [
    "# create new bbb meta_df with the following columns:\n",
    "# AGE, BBTYPE, ETHNICITY, GENDER, LOCATION, SAMPLEID\n",
    "\n",
    "bbb_meta_clean = bbb_meta_df[['AGE', 'BBTYPE', 'ETHNICITY',\n",
    "                             'GENDER', 'LOCATION', 'SAMPLEID']]\n",
    "bbb_meta_clean.head()\n",
    "bbb_meta_clean.shape"
   ]
  },
  {
   "cell_type": "markdown",
   "metadata": {},
   "source": [
    "# add this section to app - covers the metadata route"
   ]
  },
  {
   "cell_type": "code",
   "execution_count": 18,
   "metadata": {
    "scrolled": true
   },
   "outputs": [
    {
     "data": {
      "text/html": [
       "<div>\n",
       "<style>\n",
       "    .dataframe thead tr:only-child th {\n",
       "        text-align: right;\n",
       "    }\n",
       "\n",
       "    .dataframe thead th {\n",
       "        text-align: left;\n",
       "    }\n",
       "\n",
       "    .dataframe tbody tr th {\n",
       "        vertical-align: top;\n",
       "    }\n",
       "</style>\n",
       "<table border=\"1\" class=\"dataframe\">\n",
       "  <thead>\n",
       "    <tr style=\"text-align: right;\">\n",
       "      <th></th>\n",
       "      <th>AGE</th>\n",
       "      <th>BBTYPE</th>\n",
       "      <th>ETHNICITY</th>\n",
       "      <th>GENDER</th>\n",
       "      <th>LOCATION</th>\n",
       "    </tr>\n",
       "    <tr>\n",
       "      <th>SAMPLEID</th>\n",
       "      <th></th>\n",
       "      <th></th>\n",
       "      <th></th>\n",
       "      <th></th>\n",
       "      <th></th>\n",
       "    </tr>\n",
       "  </thead>\n",
       "  <tbody>\n",
       "    <tr>\n",
       "      <th>940</th>\n",
       "      <td>24.0</td>\n",
       "      <td>I</td>\n",
       "      <td>Caucasian</td>\n",
       "      <td>F</td>\n",
       "      <td>Beaufort/NC</td>\n",
       "    </tr>\n",
       "    <tr>\n",
       "      <th>941</th>\n",
       "      <td>34.0</td>\n",
       "      <td>I</td>\n",
       "      <td>Caucasian/Midleastern</td>\n",
       "      <td>F</td>\n",
       "      <td>Chicago/IL</td>\n",
       "    </tr>\n",
       "    <tr>\n",
       "      <th>943</th>\n",
       "      <td>49.0</td>\n",
       "      <td>I</td>\n",
       "      <td>Caucasian</td>\n",
       "      <td>F</td>\n",
       "      <td>Omaha/NE</td>\n",
       "    </tr>\n",
       "    <tr>\n",
       "      <th>944</th>\n",
       "      <td>44.0</td>\n",
       "      <td>I</td>\n",
       "      <td>European</td>\n",
       "      <td>M</td>\n",
       "      <td>NewHaven/CT</td>\n",
       "    </tr>\n",
       "    <tr>\n",
       "      <th>945</th>\n",
       "      <td>48.0</td>\n",
       "      <td>I</td>\n",
       "      <td>Caucasian</td>\n",
       "      <td>F</td>\n",
       "      <td>Philidelphia/PA</td>\n",
       "    </tr>\n",
       "  </tbody>\n",
       "</table>\n",
       "</div>"
      ],
      "text/plain": [
       "           AGE BBTYPE              ETHNICITY GENDER         LOCATION\n",
       "SAMPLEID                                                            \n",
       "940       24.0      I              Caucasian      F      Beaufort/NC\n",
       "941       34.0      I  Caucasian/Midleastern      F       Chicago/IL\n",
       "943       49.0      I              Caucasian      F         Omaha/NE\n",
       "944       44.0      I               European      M      NewHaven/CT\n",
       "945       48.0      I              Caucasian      F  Philidelphia/PA"
      ]
     },
     "execution_count": 18,
     "metadata": {},
     "output_type": "execute_result"
    }
   ],
   "source": [
    "# USE FOR metadata/<sample> route - sets index to SAMPLEID\n",
    "bbb_meta_clean2 = bbb_meta_clean.set_index('SAMPLEID')\n",
    "bbb_meta_clean2.head()"
   ]
  },
  {
   "cell_type": "code",
   "execution_count": 19,
   "metadata": {
    "collapsed": true
   },
   "outputs": [],
   "source": [
    "# this will be our sample input\n",
    "sample = 'BB_944'"
   ]
  },
  {
   "cell_type": "code",
   "execution_count": 20,
   "metadata": {
    "scrolled": true
   },
   "outputs": [
    {
     "data": {
      "text/plain": [
       "944"
      ]
     },
     "execution_count": 20,
     "metadata": {},
     "output_type": "execute_result"
    }
   ],
   "source": [
    "# strips the BB_ prefix from the sample variable from the line above\n",
    "sampleID = int(sample.replace('BB_', \"\"))\n",
    "sampleID"
   ]
  },
  {
   "cell_type": "code",
   "execution_count": 23,
   "metadata": {},
   "outputs": [
    {
     "data": {
      "text/plain": [
       "AGE                   44\n",
       "BBTYPE                 I\n",
       "ETHNICITY       European\n",
       "GENDER                 M\n",
       "LOCATION     NewHaven/CT\n",
       "Name: 944, dtype: object"
      ]
     },
     "execution_count": 23,
     "metadata": {},
     "output_type": "execute_result"
    }
   ],
   "source": [
    "# prints out the metadata for the sample input\n",
    "# HERE - .loc  is locating the varibable sampleID (stripped variable 944 (sample - input var))\n",
    "bbb_ID = bbb_meta_clean2.loc[sampleID] \n",
    "bbb_ID"
   ]
  },
  {
   "cell_type": "code",
   "execution_count": 31,
   "metadata": {},
   "outputs": [
    {
     "data": {
      "text/plain": [
       "AGE                   44\n",
       "BBTYPE                 I\n",
       "ETHNICITY       European\n",
       "GENDER                 M\n",
       "LOCATION     NewHaven/CT\n",
       "SAMPLEID             944\n",
       "Name: 944, dtype: object"
      ]
     },
     "execution_count": 31,
     "metadata": {},
     "output_type": "execute_result"
    }
   ],
   "source": [
    "# not sure if we need this line\n",
    "bbb_ID['SAMPLEID'] = sampleID\n",
    "bbb_ID"
   ]
  },
  {
   "cell_type": "code",
   "execution_count": 30,
   "metadata": {},
   "outputs": [
    {
     "data": {
      "text/plain": [
       "AGE                   44\n",
       "BBTYPE                 I\n",
       "ETHNICITY       European\n",
       "GENDER                 M\n",
       "LOCATION     NewHaven/CT\n",
       "SAMPLEID             944\n",
       "Name: 944, dtype: object"
      ]
     },
     "execution_count": 30,
     "metadata": {},
     "output_type": "execute_result"
    }
   ],
   "source": [
    "bbb_ID"
   ]
  },
  {
   "cell_type": "code",
   "execution_count": 25,
   "metadata": {
    "scrolled": true
   },
   "outputs": [
    {
     "data": {
      "text/plain": [
       "{'AGE': 44.0,\n",
       " 'BBTYPE': 'I',\n",
       " 'ETHNICITY': 'European',\n",
       " 'GENDER': 'M',\n",
       " 'LOCATION': 'NewHaven/CT',\n",
       " 'SAMPLEID': 944}"
      ]
     },
     "execution_count": 25,
     "metadata": {},
     "output_type": "execute_result"
    }
   ],
   "source": [
    "# takes object and formats into a dict\n",
    "bbb_ID.to_dict()"
   ]
  },
  {
   "cell_type": "code",
   "execution_count": 26,
   "metadata": {},
   "outputs": [
    {
     "data": {
      "text/plain": [
       "AGE                   44\n",
       "BBTYPE                 I\n",
       "ETHNICITY       European\n",
       "GENDER                 M\n",
       "LOCATION     NewHaven/CT\n",
       "SAMPLEID             944\n",
       "Name: 944, dtype: object"
      ]
     },
     "execution_count": 26,
     "metadata": {},
     "output_type": "execute_result"
    }
   ],
   "source": [
    "# store object into results variable \n",
    "results = bbb_ID[[\"AGE\",\"BBTYPE\",\"ETHNICITY\",\"GENDER\",\"LOCATION\",\n",
    "    \"SAMPLEID\"]]\n",
    "results"
   ]
  },
  {
   "cell_type": "code",
   "execution_count": 27,
   "metadata": {},
   "outputs": [
    {
     "data": {
      "text/plain": [
       "{'AGE': 44.0,\n",
       " 'BBTYPE': 'I',\n",
       " 'ETHNICITY': 'European',\n",
       " 'GENDER': 'M',\n",
       " 'LOCATION': 'NewHaven/CT',\n",
       " 'SAMPLEID': 944}"
      ]
     },
     "execution_count": 27,
     "metadata": {},
     "output_type": "execute_result"
    }
   ],
   "source": [
    "# results to dict - use this in route\n",
    "meta_dict = results.to_dict()\n",
    "meta_dict"
   ]
  },
  {
   "cell_type": "markdown",
   "metadata": {},
   "source": [
    "# END of NEW SECTION"
   ]
  },
  {
   "cell_type": "markdown",
   "metadata": {},
   "source": [
    "<br>\n",
    "***test section***"
   ]
  },
  {
   "cell_type": "code",
   "execution_count": null,
   "metadata": {
    "collapsed": true
   },
   "outputs": [],
   "source": [
    "# bbb_meta_dict = bbb_meta_clean.to_dict(orient='records')"
   ]
  },
  {
   "cell_type": "code",
   "execution_count": null,
   "metadata": {
    "collapsed": true,
    "scrolled": false
   },
   "outputs": [],
   "source": [
    "# bbb_meta_dict"
   ]
  },
  {
   "cell_type": "code",
   "execution_count": null,
   "metadata": {
    "collapsed": true
   },
   "outputs": [],
   "source": [
    "# bbb_meta_json = bbb_meta_clean.to_json(orient='records')"
   ]
  },
  {
   "cell_type": "code",
   "execution_count": null,
   "metadata": {
    "collapsed": true
   },
   "outputs": [],
   "source": [
    "# bbb_meta_json"
   ]
  },
  {
   "cell_type": "code",
   "execution_count": null,
   "metadata": {
    "collapsed": true
   },
   "outputs": [],
   "source": [
    "# read in otu csv\n",
    "otu_df1 = pd.read_csv('belly_button_biodiversity_otu_id.csv',\n",
    "                     dtype=object)\n",
    "# otu_df1.head()"
   ]
  },
  {
   "cell_type": "code",
   "execution_count": null,
   "metadata": {
    "collapsed": true
   },
   "outputs": [],
   "source": [
    "otu_df1_sort = otu_df1.sort_values('otu_id', ascending=False)\n",
    "# otu_df1_sort.head()"
   ]
  },
  {
   "cell_type": "code",
   "execution_count": null,
   "metadata": {
    "collapsed": true
   },
   "outputs": [],
   "source": [
    "otu_df = otu_df1_sort[['otu_id']]\n",
    "# otu_df.head()\n",
    "# otu_df.shape"
   ]
  },
  {
   "cell_type": "code",
   "execution_count": null,
   "metadata": {
    "collapsed": true,
    "scrolled": false
   },
   "outputs": [],
   "source": [
    "# sets otu_id in otu_df to a new list called value\n",
    "# we will add this list to our dictionary - sample_dict\n",
    "value = otu_df['otu_id'].tolist()"
   ]
  },
  {
   "cell_type": "code",
   "execution_count": null,
   "metadata": {
    "collapsed": true
   },
   "outputs": [],
   "source": [
    "# this strips the quotes from value\n",
    "value = list(map(int, value))"
   ]
  },
  {
   "cell_type": "code",
   "execution_count": null,
   "metadata": {
    "collapsed": true
   },
   "outputs": [],
   "source": [
    "# sorts the SAMPLE ID column from bbb_meta_df\n",
    "sample_sort = bbb_meta_df.sort_values('SAMPLEID', ascending=False)"
   ]
  },
  {
   "cell_type": "code",
   "execution_count": null,
   "metadata": {
    "collapsed": true
   },
   "outputs": [],
   "source": [
    "# creates a descending list of SAMPLEID\n",
    "sample_value = sample_sort['SAMPLEID'].tolist()"
   ]
  },
  {
   "cell_type": "code",
   "execution_count": null,
   "metadata": {},
   "outputs": [],
   "source": [
    "# strip quotes from 'otu_ids'\n",
    "key1 = 'otu_ids'\n",
    "key1_new = key1.strip()\n",
    "print(key1_new)"
   ]
  },
  {
   "cell_type": "code",
   "execution_count": null,
   "metadata": {
    "collapsed": true,
    "scrolled": true
   },
   "outputs": [],
   "source": [
    "# dictionary {otu_ids: [1,2,3]}\n",
    "# the above is the kind of dictionary we want to make\n",
    "sample_dict = {'otu_ids': value, 'sample_values': sample_value}"
   ]
  },
  {
   "cell_type": "code",
   "execution_count": null,
   "metadata": {
    "collapsed": true,
    "scrolled": true
   },
   "outputs": [],
   "source": [
    "# sample_dict"
   ]
  },
  {
   "cell_type": "code",
   "execution_count": null,
   "metadata": {
    "collapsed": true
   },
   "outputs": [],
   "source": [
    "# append value\n",
    "# sample_dict['otu_ids'].append(1)"
   ]
  },
  {
   "cell_type": "code",
   "execution_count": null,
   "metadata": {
    "collapsed": true
   },
   "outputs": [],
   "source": [
    "# returns an integer value for the weekly washing frequency 'WFREQ'\n",
    "freq_df = bbb_meta_df[['SAMPLEID', 'WFREQ']]\n",
    "#freq_df.head()\n",
    "#freq_df.shape"
   ]
  },
  {
   "cell_type": "markdown",
   "metadata": {},
   "source": [
    "***end test section***"
   ]
  },
  {
   "cell_type": "markdown",
   "metadata": {},
   "source": [
    "# ADD NEW CODE HERE"
   ]
  },
  {
   "cell_type": "markdown",
   "metadata": {},
   "source": [
    "***section covers the /wfreq/sample route ***"
   ]
  },
  {
   "cell_type": "code",
   "execution_count": null,
   "metadata": {
    "scrolled": true
   },
   "outputs": [],
   "source": [
    "wf = bbb_meta_df.set_index('SAMPLEID')\n",
    "wf.head()"
   ]
  },
  {
   "cell_type": "code",
   "execution_count": null,
   "metadata": {
    "collapsed": true
   },
   "outputs": [],
   "source": [
    "samplewf = 'BB_940'"
   ]
  },
  {
   "cell_type": "code",
   "execution_count": null,
   "metadata": {
    "scrolled": true
   },
   "outputs": [],
   "source": [
    "samplewf_ID = int(samplewf.replace(\"BB_\",\"\"))\n",
    "samplewf_ID"
   ]
  },
  {
   "cell_type": "code",
   "execution_count": null,
   "metadata": {},
   "outputs": [],
   "source": [
    "wf_new = wf.loc[[samplewfID],['WFREQ']]\n",
    "wf_new"
   ]
  },
  {
   "cell_type": "code",
   "execution_count": null,
   "metadata": {},
   "outputs": [],
   "source": [
    "results2 = wf_new[\"WFREQ\"].item()\n",
    "results2"
   ]
  },
  {
   "cell_type": "code",
   "execution_count": null,
   "metadata": {
    "collapsed": true
   },
   "outputs": [],
   "source": [
    "wfreq = freq_df['WFREQ'].tolist()"
   ]
  },
  {
   "cell_type": "markdown",
   "metadata": {},
   "source": [
    "# section covers the sample / sample route"
   ]
  },
  {
   "cell_type": "code",
   "execution_count": null,
   "metadata": {},
   "outputs": [],
   "source": [
    "bbb_samplesDF = pd.read_csv('belly_button_biodiversity_samples.csv')\n",
    "bbb_samplesDF.head()"
   ]
  },
  {
   "cell_type": "code",
   "execution_count": null,
   "metadata": {
    "collapsed": true
   },
   "outputs": [],
   "source": [
    "# enter a random sample value\n",
    "sample_random = 'BB_1293'"
   ]
  },
  {
   "cell_type": "code",
   "execution_count": null,
   "metadata": {
    "collapsed": true
   },
   "outputs": [],
   "source": [
    "# create a new df object that filters sample_random & otu_id\n",
    "bbb_samplesDF_filter = bbb_samplesDF.filter(items = [sample_random, 'otu_id'])"
   ]
  },
  {
   "cell_type": "code",
   "execution_count": null,
   "metadata": {},
   "outputs": [],
   "source": [
    "# everytime we change sample_random, the data frame should filter to that SAMPLEID\n",
    "# *****do not copy into app.py*****\n",
    "bbb_samplesDF_filter.head()"
   ]
  },
  {
   "cell_type": "code",
   "execution_count": null,
   "metadata": {
    "collapsed": true,
    "scrolled": false
   },
   "outputs": [],
   "source": [
    "# create a new object to sort filtered DF by DESC\n",
    "bbb_samplesDF_filter_sort = bbb_samplesDF_filter.sort_values(by=sample_random, ascending=False)"
   ]
  },
  {
   "cell_type": "code",
   "execution_count": null,
   "metadata": {},
   "outputs": [],
   "source": [
    "# *****do not copy into app.py*****\n",
    "bbb_samplesDF_filter_sort.head()"
   ]
  },
  {
   "cell_type": "code",
   "execution_count": null,
   "metadata": {},
   "outputs": [],
   "source": [
    "# create df object to sort > 0\n",
    "bbb_sampleDF_nan1 = bbb_samplesDF_filter_sort[bbb_samplesDF_filter_sort > 0]\n",
    "# drops null\n",
    "bbb_sampleDF_nan2 = bbb_sampleDF_nan1.dropna()\n",
    "\n",
    "# *****do not copy into app.py*****\n",
    "bbb_sampleDF_nan2.head()"
   ]
  },
  {
   "cell_type": "code",
   "execution_count": null,
   "metadata": {
    "collapsed": true
   },
   "outputs": [],
   "source": [
    "# this takes the sample_random col or the SAMPLEID col and stores it into a list\n",
    "sample_val = bbb_sampleDF_nan2[sample_random].tolist()\n",
    "\n",
    "# *****do not copy into app.py*****\n",
    "#sample_val"
   ]
  },
  {
   "cell_type": "code",
   "execution_count": null,
   "metadata": {
    "collapsed": true
   },
   "outputs": [],
   "source": [
    "# stores the otu_id col into a list\n",
    "otu_ids = bbb_sampleDF_nan2['otu_id'].tolist()\n",
    "\n",
    "# *****do not copy into app.py*****\n",
    "# otu_ids"
   ]
  },
  {
   "cell_type": "code",
   "execution_count": null,
   "metadata": {
    "collapsed": true
   },
   "outputs": [],
   "source": [
    "# create a dictionary stored in a list\n",
    "otu_samp_dict = [{'otu_ids': otu_ids, 'sample_values': sample_val}]"
   ]
  },
  {
   "cell_type": "code",
   "execution_count": null,
   "metadata": {
    "scrolled": true
   },
   "outputs": [],
   "source": [
    "otu_samp_dict"
   ]
  }
 ],
 "metadata": {
  "kernelspec": {
   "display_name": "Python 3",
   "language": "python",
   "name": "python3"
  },
  "language_info": {
   "codemirror_mode": {
    "name": "ipython",
    "version": 3
   },
   "file_extension": ".py",
   "mimetype": "text/x-python",
   "name": "python",
   "nbconvert_exporter": "python",
   "pygments_lexer": "ipython3",
   "version": "3.6.4"
  }
 },
 "nbformat": 4,
 "nbformat_minor": 2
}
