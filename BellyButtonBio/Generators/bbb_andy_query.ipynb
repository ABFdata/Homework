{
 "cells": [
  {
   "cell_type": "code",
   "execution_count": 1,
   "metadata": {},
   "outputs": [
    {
     "name": "stdout",
     "output_type": "stream",
     "text": [
      "height has been deprecated.\n",
      "\n"
     ]
    }
   ],
   "source": [
    "# import dependencies \n",
    "import pandas as pd\n",
    "import numpy as np\n",
    "import matplotlib.pyplot as plt\n",
    "%matplotlib inline\n",
    "import seaborn as sns\n",
    "import warnings\n",
    "warnings.filterwarnings('ignore')\n",
    "pd.set_option('display.height', 1000)\n",
    "pd.set_option('display.max_rows', 100)\n",
    "pd.set_option('display.max_columns', 100)\n",
    "pd.set_option('display.width', 1000)\n",
    "\n",
    "# display multiple print results on one line\n",
    "from IPython.core.interactiveshell import InteractiveShell\n",
    "InteractiveShell.ast_node_interactivity = \"all\"\n",
    "\n",
    "# expands .describe with more info about the data set\n",
    "import pandas_profiling\n",
    "\n",
    "# sqlalchemy dependencies\n",
    "import sqlalchemy\n",
    "from sqlalchemy.ext.automap import automap_base\n",
    "from sqlalchemy.orm import Session\n",
    "from sqlalchemy import create_engine\n",
    "from sqlalchemy import func\n",
    "from sqlalchemy import inspect\n",
    "\n",
    "from sqlalchemy.ext.declarative import declarative_base\n",
    "from sqlalchemy import Column, Integer, String, Float, Text\n",
    "\n",
    "# PyMySQL \n",
    "import pymysql\n",
    "pymysql.install_as_MySQLdb()\n",
    "\n",
    "# flask \n",
    "from flask import Flask, jsonify"
   ]
  },
  {
   "cell_type": "code",
   "execution_count": 2,
   "metadata": {
    "collapsed": true
   },
   "outputs": [],
   "source": [
    "# Use SQLAlchemy create_engine to connect to database\n",
    "engine = create_engine(\"sqlite:///bbb.sqlite\")\n",
    "conn = engine.connect()"
   ]
  },
  {
   "cell_type": "code",
   "execution_count": 3,
   "metadata": {
    "collapsed": true
   },
   "outputs": [],
   "source": [
    "# use SQLAlchemy automap_base() to reflect tables into classes and save references\n",
    "# called sample_names, otu_des, sample_meta, frequency\n",
    "Base = automap_base()"
   ]
  },
  {
   "cell_type": "code",
   "execution_count": 4,
   "metadata": {
    "collapsed": true
   },
   "outputs": [],
   "source": [
    "# use the base class to reflect the database tables\n",
    "Base.prepare(engine, reflect=True)"
   ]
  },
  {
   "cell_type": "code",
   "execution_count": 5,
   "metadata": {},
   "outputs": [
    {
     "data": {
      "text/plain": [
       "['otu', 'samples', 'samples_metadata']"
      ]
     },
     "execution_count": 5,
     "metadata": {},
     "output_type": "execute_result"
    }
   ],
   "source": [
    "Base.classes.keys()"
   ]
  },
  {
   "cell_type": "code",
   "execution_count": 6,
   "metadata": {
    "collapsed": true
   },
   "outputs": [],
   "source": [
    "# assign classes to variables\n",
    "sample_names = Base.classes.samples\n",
    "otu_des = Base.classes.otu\n",
    "sample_meta = Base.classes.samples_metadata"
   ]
  },
  {
   "cell_type": "code",
   "execution_count": 7,
   "metadata": {
    "collapsed": true
   },
   "outputs": [],
   "source": [
    "# create a session\n",
    "# a session means that you want to do something to your data\n",
    "session = Session(engine)"
   ]
  },
  {
   "cell_type": "code",
   "execution_count": 8,
   "metadata": {
    "collapsed": true
   },
   "outputs": [],
   "source": [
    "inspector = inspect(engine)"
   ]
  },
  {
   "cell_type": "code",
   "execution_count": 9,
   "metadata": {},
   "outputs": [
    {
     "name": "stdout",
     "output_type": "stream",
     "text": [
      "['otu', 'samples', 'samples_metadata']\n"
     ]
    }
   ],
   "source": [
    "# get table information\n",
    "print (inspector.get_table_names())"
   ]
  },
  {
   "cell_type": "code",
   "execution_count": 10,
   "metadata": {
    "collapsed": true,
    "scrolled": false
   },
   "outputs": [],
   "source": [
    "# get col names for samples and stores in a tuple within a list\n",
    "sample_name_col = inspector.get_columns('samples')"
   ]
  },
  {
   "cell_type": "code",
   "execution_count": 11,
   "metadata": {
    "collapsed": true,
    "scrolled": false
   },
   "outputs": [],
   "source": [
    "# prints list of sample names\n",
    "sample_names_list = [item[\"name\"] for item in sample_name_col]\n",
    "del sample_names_list[0]"
   ]
  },
  {
   "cell_type": "code",
   "execution_count": 12,
   "metadata": {
    "collapsed": true
   },
   "outputs": [],
   "source": [
    "# prints list of sample_names\n",
    "# sample_names_list"
   ]
  },
  {
   "cell_type": "code",
   "execution_count": 13,
   "metadata": {
    "collapsed": true,
    "scrolled": false
   },
   "outputs": [],
   "source": [
    "# return list of OTU descriptions\n",
    "otu_results = session.query(otu_des.lowest_taxonomic_unit_found).all()\n",
    "\n",
    "# stores otu results as a list\n",
    "otu_results_list = list(np.ravel(otu_results))\n",
    "# otu_results_list"
   ]
  },
  {
   "cell_type": "code",
   "execution_count": 14,
   "metadata": {
    "collapsed": true
   },
   "outputs": [],
   "source": [
    "# read Belly_Button_Biodiversity_Metadata\n",
    "bbb_meta_df = pd.read_csv('Belly_Button_Biodiversity_Metadata.csv')"
   ]
  },
  {
   "cell_type": "code",
   "execution_count": 15,
   "metadata": {},
   "outputs": [
    {
     "data": {
      "text/html": [
       "<div>\n",
       "<style>\n",
       "    .dataframe thead tr:only-child th {\n",
       "        text-align: right;\n",
       "    }\n",
       "\n",
       "    .dataframe thead th {\n",
       "        text-align: left;\n",
       "    }\n",
       "\n",
       "    .dataframe tbody tr th {\n",
       "        vertical-align: top;\n",
       "    }\n",
       "</style>\n",
       "<table border=\"1\" class=\"dataframe\">\n",
       "  <thead>\n",
       "    <tr style=\"text-align: right;\">\n",
       "      <th></th>\n",
       "      <th>SAMPLEID</th>\n",
       "      <th>EVENT</th>\n",
       "      <th>ETHNICITY</th>\n",
       "      <th>GENDER</th>\n",
       "      <th>AGE</th>\n",
       "      <th>WFREQ</th>\n",
       "      <th>BBTYPE</th>\n",
       "      <th>LOCATION</th>\n",
       "      <th>COUNTRY012</th>\n",
       "      <th>ZIP012</th>\n",
       "      <th>COUNTRY1319</th>\n",
       "      <th>ZIP1319</th>\n",
       "      <th>DOG</th>\n",
       "      <th>CAT</th>\n",
       "      <th>IMPSURFACE013</th>\n",
       "      <th>NPP013</th>\n",
       "      <th>MMAXTEMP013</th>\n",
       "      <th>PFC013</th>\n",
       "      <th>IMPSURFACE1319</th>\n",
       "      <th>NPP1319</th>\n",
       "      <th>MMAXTEMP1319</th>\n",
       "      <th>PFC1319</th>\n",
       "    </tr>\n",
       "  </thead>\n",
       "  <tbody>\n",
       "    <tr>\n",
       "      <th>0</th>\n",
       "      <td>940</td>\n",
       "      <td>BellyButtonsScienceOnline</td>\n",
       "      <td>Caucasian</td>\n",
       "      <td>F</td>\n",
       "      <td>24.0</td>\n",
       "      <td>2.0</td>\n",
       "      <td>I</td>\n",
       "      <td>Beaufort/NC</td>\n",
       "      <td>usa</td>\n",
       "      <td>22306</td>\n",
       "      <td>usa</td>\n",
       "      <td>22306</td>\n",
       "      <td>no</td>\n",
       "      <td>no</td>\n",
       "      <td>8852.0</td>\n",
       "      <td>37.172222</td>\n",
       "      <td>54.5</td>\n",
       "      <td>NaN</td>\n",
       "      <td>1</td>\n",
       "      <td>NaN</td>\n",
       "      <td>33.990002</td>\n",
       "      <td>25.5</td>\n",
       "    </tr>\n",
       "    <tr>\n",
       "      <th>1</th>\n",
       "      <td>941</td>\n",
       "      <td>NaN</td>\n",
       "      <td>Caucasian/Midleastern</td>\n",
       "      <td>F</td>\n",
       "      <td>34.0</td>\n",
       "      <td>1.0</td>\n",
       "      <td>I</td>\n",
       "      <td>Chicago/IL</td>\n",
       "      <td>NaN</td>\n",
       "      <td>NaN</td>\n",
       "      <td>NaN</td>\n",
       "      <td>NaN</td>\n",
       "      <td>NaN</td>\n",
       "      <td>NaN</td>\n",
       "      <td>NaN</td>\n",
       "      <td>NaN</td>\n",
       "      <td>NaN</td>\n",
       "      <td>NaN</td>\n",
       "      <td>NaN</td>\n",
       "      <td>NaN</td>\n",
       "      <td>NaN</td>\n",
       "      <td>NaN</td>\n",
       "    </tr>\n",
       "    <tr>\n",
       "      <th>2</th>\n",
       "      <td>943</td>\n",
       "      <td>BellyButtonsScienceOnline</td>\n",
       "      <td>Caucasian</td>\n",
       "      <td>F</td>\n",
       "      <td>49.0</td>\n",
       "      <td>1.0</td>\n",
       "      <td>I</td>\n",
       "      <td>Omaha/NE</td>\n",
       "      <td>NaN</td>\n",
       "      <td>NaN</td>\n",
       "      <td>NaN</td>\n",
       "      <td>NaN</td>\n",
       "      <td>NaN</td>\n",
       "      <td>NaN</td>\n",
       "      <td>NaN</td>\n",
       "      <td>NaN</td>\n",
       "      <td>NaN</td>\n",
       "      <td>NaN</td>\n",
       "      <td>NaN</td>\n",
       "      <td>NaN</td>\n",
       "      <td>NaN</td>\n",
       "      <td>NaN</td>\n",
       "    </tr>\n",
       "    <tr>\n",
       "      <th>3</th>\n",
       "      <td>944</td>\n",
       "      <td>BellyButtonsScienceOnline</td>\n",
       "      <td>European</td>\n",
       "      <td>M</td>\n",
       "      <td>44.0</td>\n",
       "      <td>1.0</td>\n",
       "      <td>I</td>\n",
       "      <td>NewHaven/CT</td>\n",
       "      <td>usa</td>\n",
       "      <td>7079</td>\n",
       "      <td>usa</td>\n",
       "      <td>8822</td>\n",
       "      <td>no</td>\n",
       "      <td>yes</td>\n",
       "      <td>NaN</td>\n",
       "      <td>35.816666</td>\n",
       "      <td>16.0</td>\n",
       "      <td>NaN</td>\n",
       "      <td>0</td>\n",
       "      <td>6567.0</td>\n",
       "      <td>32.403332</td>\n",
       "      <td>28.5</td>\n",
       "    </tr>\n",
       "    <tr>\n",
       "      <th>4</th>\n",
       "      <td>945</td>\n",
       "      <td>BellyButtonsScienceOnline</td>\n",
       "      <td>Caucasian</td>\n",
       "      <td>F</td>\n",
       "      <td>48.0</td>\n",
       "      <td>1.0</td>\n",
       "      <td>I</td>\n",
       "      <td>Philidelphia/PA</td>\n",
       "      <td>usa</td>\n",
       "      <td>84404</td>\n",
       "      <td>usa</td>\n",
       "      <td>96025</td>\n",
       "      <td>no</td>\n",
       "      <td>no</td>\n",
       "      <td>NaN</td>\n",
       "      <td>37.783333</td>\n",
       "      <td>4.0</td>\n",
       "      <td>NaN</td>\n",
       "      <td>0</td>\n",
       "      <td>5613.0</td>\n",
       "      <td>33.634445</td>\n",
       "      <td>24.0</td>\n",
       "    </tr>\n",
       "  </tbody>\n",
       "</table>\n",
       "</div>"
      ],
      "text/plain": [
       "   SAMPLEID                      EVENT              ETHNICITY GENDER   AGE  WFREQ BBTYPE         LOCATION COUNTRY012 ZIP012 COUNTRY1319 ZIP1319  DOG  CAT  IMPSURFACE013     NPP013  MMAXTEMP013  PFC013 IMPSURFACE1319  NPP1319  MMAXTEMP1319  PFC1319\n",
       "0       940  BellyButtonsScienceOnline              Caucasian      F  24.0    2.0      I      Beaufort/NC        usa  22306         usa   22306   no   no         8852.0  37.172222         54.5     NaN              1      NaN     33.990002     25.5\n",
       "1       941                        NaN  Caucasian/Midleastern      F  34.0    1.0      I       Chicago/IL        NaN    NaN         NaN     NaN  NaN  NaN            NaN        NaN          NaN     NaN            NaN      NaN           NaN      NaN\n",
       "2       943  BellyButtonsScienceOnline              Caucasian      F  49.0    1.0      I         Omaha/NE        NaN    NaN         NaN     NaN  NaN  NaN            NaN        NaN          NaN     NaN            NaN      NaN           NaN      NaN\n",
       "3       944  BellyButtonsScienceOnline               European      M  44.0    1.0      I      NewHaven/CT        usa   7079         usa    8822   no  yes            NaN  35.816666         16.0     NaN              0   6567.0     32.403332     28.5\n",
       "4       945  BellyButtonsScienceOnline              Caucasian      F  48.0    1.0      I  Philidelphia/PA        usa  84404         usa   96025   no   no            NaN  37.783333          4.0     NaN              0   5613.0     33.634445     24.0"
      ]
     },
     "execution_count": 15,
     "metadata": {},
     "output_type": "execute_result"
    },
    {
     "data": {
      "text/plain": [
       "(153, 22)"
      ]
     },
     "execution_count": 15,
     "metadata": {},
     "output_type": "execute_result"
    }
   ],
   "source": [
    "bbb_meta_df.head()\n",
    "bbb_meta_df.shape"
   ]
  },
  {
   "cell_type": "code",
   "execution_count": 16,
   "metadata": {},
   "outputs": [
    {
     "data": {
      "text/html": [
       "<div>\n",
       "<style>\n",
       "    .dataframe thead tr:only-child th {\n",
       "        text-align: right;\n",
       "    }\n",
       "\n",
       "    .dataframe thead th {\n",
       "        text-align: left;\n",
       "    }\n",
       "\n",
       "    .dataframe tbody tr th {\n",
       "        vertical-align: top;\n",
       "    }\n",
       "</style>\n",
       "<table border=\"1\" class=\"dataframe\">\n",
       "  <thead>\n",
       "    <tr style=\"text-align: right;\">\n",
       "      <th></th>\n",
       "      <th>AGE</th>\n",
       "      <th>BBTYPE</th>\n",
       "      <th>ETHNICITY</th>\n",
       "      <th>GENDER</th>\n",
       "      <th>LOCATION</th>\n",
       "      <th>SAMPLEID</th>\n",
       "    </tr>\n",
       "  </thead>\n",
       "  <tbody>\n",
       "    <tr>\n",
       "      <th>0</th>\n",
       "      <td>24.0</td>\n",
       "      <td>I</td>\n",
       "      <td>Caucasian</td>\n",
       "      <td>F</td>\n",
       "      <td>Beaufort/NC</td>\n",
       "      <td>940</td>\n",
       "    </tr>\n",
       "    <tr>\n",
       "      <th>1</th>\n",
       "      <td>34.0</td>\n",
       "      <td>I</td>\n",
       "      <td>Caucasian/Midleastern</td>\n",
       "      <td>F</td>\n",
       "      <td>Chicago/IL</td>\n",
       "      <td>941</td>\n",
       "    </tr>\n",
       "    <tr>\n",
       "      <th>2</th>\n",
       "      <td>49.0</td>\n",
       "      <td>I</td>\n",
       "      <td>Caucasian</td>\n",
       "      <td>F</td>\n",
       "      <td>Omaha/NE</td>\n",
       "      <td>943</td>\n",
       "    </tr>\n",
       "    <tr>\n",
       "      <th>3</th>\n",
       "      <td>44.0</td>\n",
       "      <td>I</td>\n",
       "      <td>European</td>\n",
       "      <td>M</td>\n",
       "      <td>NewHaven/CT</td>\n",
       "      <td>944</td>\n",
       "    </tr>\n",
       "    <tr>\n",
       "      <th>4</th>\n",
       "      <td>48.0</td>\n",
       "      <td>I</td>\n",
       "      <td>Caucasian</td>\n",
       "      <td>F</td>\n",
       "      <td>Philidelphia/PA</td>\n",
       "      <td>945</td>\n",
       "    </tr>\n",
       "  </tbody>\n",
       "</table>\n",
       "</div>"
      ],
      "text/plain": [
       "    AGE BBTYPE              ETHNICITY GENDER         LOCATION  SAMPLEID\n",
       "0  24.0      I              Caucasian      F      Beaufort/NC       940\n",
       "1  34.0      I  Caucasian/Midleastern      F       Chicago/IL       941\n",
       "2  49.0      I              Caucasian      F         Omaha/NE       943\n",
       "3  44.0      I               European      M      NewHaven/CT       944\n",
       "4  48.0      I              Caucasian      F  Philidelphia/PA       945"
      ]
     },
     "execution_count": 16,
     "metadata": {},
     "output_type": "execute_result"
    },
    {
     "data": {
      "text/plain": [
       "(153, 6)"
      ]
     },
     "execution_count": 16,
     "metadata": {},
     "output_type": "execute_result"
    }
   ],
   "source": [
    "# create new bbb meta_df with the following columns:\n",
    "# AGE, BBTYPE, ETHNICITY, GENDER, LOCATION, SAMPLEID\n",
    "\n",
    "bbb_meta_clean = bbb_meta_df[['AGE', 'BBTYPE', 'ETHNICITY',\n",
    "                             'GENDER', 'LOCATION', 'SAMPLEID']]\n",
    "bbb_meta_clean.head()\n",
    "bbb_meta_clean.shape"
   ]
  },
  {
   "cell_type": "markdown",
   "metadata": {},
   "source": [
    "# add this section to app - covers the metadata route"
   ]
  },
  {
   "cell_type": "code",
   "execution_count": 17,
   "metadata": {
    "scrolled": true
   },
   "outputs": [
    {
     "data": {
      "text/html": [
       "<div>\n",
       "<style>\n",
       "    .dataframe thead tr:only-child th {\n",
       "        text-align: right;\n",
       "    }\n",
       "\n",
       "    .dataframe thead th {\n",
       "        text-align: left;\n",
       "    }\n",
       "\n",
       "    .dataframe tbody tr th {\n",
       "        vertical-align: top;\n",
       "    }\n",
       "</style>\n",
       "<table border=\"1\" class=\"dataframe\">\n",
       "  <thead>\n",
       "    <tr style=\"text-align: right;\">\n",
       "      <th></th>\n",
       "      <th>AGE</th>\n",
       "      <th>BBTYPE</th>\n",
       "      <th>ETHNICITY</th>\n",
       "      <th>GENDER</th>\n",
       "      <th>LOCATION</th>\n",
       "    </tr>\n",
       "    <tr>\n",
       "      <th>SAMPLEID</th>\n",
       "      <th></th>\n",
       "      <th></th>\n",
       "      <th></th>\n",
       "      <th></th>\n",
       "      <th></th>\n",
       "    </tr>\n",
       "  </thead>\n",
       "  <tbody>\n",
       "    <tr>\n",
       "      <th>940</th>\n",
       "      <td>24.0</td>\n",
       "      <td>I</td>\n",
       "      <td>Caucasian</td>\n",
       "      <td>F</td>\n",
       "      <td>Beaufort/NC</td>\n",
       "    </tr>\n",
       "    <tr>\n",
       "      <th>941</th>\n",
       "      <td>34.0</td>\n",
       "      <td>I</td>\n",
       "      <td>Caucasian/Midleastern</td>\n",
       "      <td>F</td>\n",
       "      <td>Chicago/IL</td>\n",
       "    </tr>\n",
       "    <tr>\n",
       "      <th>943</th>\n",
       "      <td>49.0</td>\n",
       "      <td>I</td>\n",
       "      <td>Caucasian</td>\n",
       "      <td>F</td>\n",
       "      <td>Omaha/NE</td>\n",
       "    </tr>\n",
       "    <tr>\n",
       "      <th>944</th>\n",
       "      <td>44.0</td>\n",
       "      <td>I</td>\n",
       "      <td>European</td>\n",
       "      <td>M</td>\n",
       "      <td>NewHaven/CT</td>\n",
       "    </tr>\n",
       "    <tr>\n",
       "      <th>945</th>\n",
       "      <td>48.0</td>\n",
       "      <td>I</td>\n",
       "      <td>Caucasian</td>\n",
       "      <td>F</td>\n",
       "      <td>Philidelphia/PA</td>\n",
       "    </tr>\n",
       "  </tbody>\n",
       "</table>\n",
       "</div>"
      ],
      "text/plain": [
       "           AGE BBTYPE              ETHNICITY GENDER         LOCATION\n",
       "SAMPLEID                                                            \n",
       "940       24.0      I              Caucasian      F      Beaufort/NC\n",
       "941       34.0      I  Caucasian/Midleastern      F       Chicago/IL\n",
       "943       49.0      I              Caucasian      F         Omaha/NE\n",
       "944       44.0      I               European      M      NewHaven/CT\n",
       "945       48.0      I              Caucasian      F  Philidelphia/PA"
      ]
     },
     "execution_count": 17,
     "metadata": {},
     "output_type": "execute_result"
    }
   ],
   "source": [
    "# USE FOR metadata/<sample> route - sets index to SAMPLEID\n",
    "bbb_meta_clean2 = bbb_meta_clean.set_index('SAMPLEID')\n",
    "bbb_meta_clean2.head()"
   ]
  },
  {
   "cell_type": "code",
   "execution_count": 18,
   "metadata": {
    "collapsed": true
   },
   "outputs": [],
   "source": [
    "# this will be our sample input\n",
    "sample = 'BB_944'"
   ]
  },
  {
   "cell_type": "code",
   "execution_count": 19,
   "metadata": {
    "scrolled": true
   },
   "outputs": [
    {
     "data": {
      "text/plain": [
       "944"
      ]
     },
     "execution_count": 19,
     "metadata": {},
     "output_type": "execute_result"
    }
   ],
   "source": [
    "# strips the BB_ prefix from the sample variable from the line above\n",
    "sampleID = int(sample.replace('BB_', \"\"))\n",
    "sampleID"
   ]
  },
  {
   "cell_type": "code",
   "execution_count": 20,
   "metadata": {},
   "outputs": [
    {
     "data": {
      "text/plain": [
       "AGE                   44\n",
       "BBTYPE                 I\n",
       "ETHNICITY       European\n",
       "GENDER                 M\n",
       "LOCATION     NewHaven/CT\n",
       "Name: 944, dtype: object"
      ]
     },
     "execution_count": 20,
     "metadata": {},
     "output_type": "execute_result"
    }
   ],
   "source": [
    "# prints out the metadata for the sample input\n",
    "# HERE - .loc  is locating the varibable sampleID (stripped variable 944 (sample - input var))\n",
    "bbb_ID = bbb_meta_clean2.loc[sampleID] \n",
    "bbb_ID"
   ]
  },
  {
   "cell_type": "code",
   "execution_count": 21,
   "metadata": {},
   "outputs": [
    {
     "data": {
      "text/plain": [
       "AGE                   44\n",
       "BBTYPE                 I\n",
       "ETHNICITY       European\n",
       "GENDER                 M\n",
       "LOCATION     NewHaven/CT\n",
       "SAMPLEID             944\n",
       "Name: 944, dtype: object"
      ]
     },
     "execution_count": 21,
     "metadata": {},
     "output_type": "execute_result"
    }
   ],
   "source": [
    "# not sure if we need this line\n",
    "bbb_ID['SAMPLEID'] = sampleID\n",
    "bbb_ID"
   ]
  },
  {
   "cell_type": "code",
   "execution_count": 22,
   "metadata": {},
   "outputs": [
    {
     "data": {
      "text/plain": [
       "AGE                   44\n",
       "BBTYPE                 I\n",
       "ETHNICITY       European\n",
       "GENDER                 M\n",
       "LOCATION     NewHaven/CT\n",
       "SAMPLEID             944\n",
       "Name: 944, dtype: object"
      ]
     },
     "execution_count": 22,
     "metadata": {},
     "output_type": "execute_result"
    }
   ],
   "source": [
    "bbb_ID"
   ]
  },
  {
   "cell_type": "code",
   "execution_count": 23,
   "metadata": {
    "scrolled": true
   },
   "outputs": [
    {
     "data": {
      "text/plain": [
       "{'AGE': 44.0,\n",
       " 'BBTYPE': 'I',\n",
       " 'ETHNICITY': 'European',\n",
       " 'GENDER': 'M',\n",
       " 'LOCATION': 'NewHaven/CT',\n",
       " 'SAMPLEID': 944}"
      ]
     },
     "execution_count": 23,
     "metadata": {},
     "output_type": "execute_result"
    }
   ],
   "source": [
    "# takes object and formats into a dict\n",
    "bbb_ID.to_dict()"
   ]
  },
  {
   "cell_type": "code",
   "execution_count": 24,
   "metadata": {},
   "outputs": [
    {
     "data": {
      "text/plain": [
       "AGE                   44\n",
       "BBTYPE                 I\n",
       "ETHNICITY       European\n",
       "GENDER                 M\n",
       "LOCATION     NewHaven/CT\n",
       "SAMPLEID             944\n",
       "Name: 944, dtype: object"
      ]
     },
     "execution_count": 24,
     "metadata": {},
     "output_type": "execute_result"
    }
   ],
   "source": [
    "# store object into results variable \n",
    "results = bbb_ID[[\"AGE\",\"BBTYPE\",\"ETHNICITY\",\"GENDER\",\"LOCATION\",\n",
    "    \"SAMPLEID\"]]\n",
    "results"
   ]
  },
  {
   "cell_type": "code",
   "execution_count": 25,
   "metadata": {},
   "outputs": [
    {
     "data": {
      "text/plain": [
       "{'AGE': 44.0,\n",
       " 'BBTYPE': 'I',\n",
       " 'ETHNICITY': 'European',\n",
       " 'GENDER': 'M',\n",
       " 'LOCATION': 'NewHaven/CT',\n",
       " 'SAMPLEID': 944}"
      ]
     },
     "execution_count": 25,
     "metadata": {},
     "output_type": "execute_result"
    }
   ],
   "source": [
    "# results to dict - use this in route\n",
    "meta_dict = results.to_dict()\n",
    "meta_dict"
   ]
  },
  {
   "cell_type": "markdown",
   "metadata": {},
   "source": [
    "# END of NEW SECTION"
   ]
  },
  {
   "cell_type": "markdown",
   "metadata": {},
   "source": [
    "<br>\n",
    "***test section***"
   ]
  },
  {
   "cell_type": "code",
   "execution_count": 26,
   "metadata": {
    "collapsed": true
   },
   "outputs": [],
   "source": [
    "# bbb_meta_dict = bbb_meta_clean.to_dict(orient='records')"
   ]
  },
  {
   "cell_type": "code",
   "execution_count": 27,
   "metadata": {
    "collapsed": true,
    "scrolled": false
   },
   "outputs": [],
   "source": [
    "# bbb_meta_dict"
   ]
  },
  {
   "cell_type": "code",
   "execution_count": 28,
   "metadata": {
    "collapsed": true
   },
   "outputs": [],
   "source": [
    "# bbb_meta_json = bbb_meta_clean.to_json(orient='records')"
   ]
  },
  {
   "cell_type": "code",
   "execution_count": 29,
   "metadata": {
    "collapsed": true
   },
   "outputs": [],
   "source": [
    "# bbb_meta_json"
   ]
  },
  {
   "cell_type": "code",
   "execution_count": 30,
   "metadata": {
    "collapsed": true
   },
   "outputs": [],
   "source": [
    "# read in otu csv\n",
    "otu_df1 = pd.read_csv('belly_button_biodiversity_otu_id.csv',\n",
    "                     dtype=object)\n",
    "# otu_df1.head()"
   ]
  },
  {
   "cell_type": "code",
   "execution_count": 31,
   "metadata": {
    "collapsed": true
   },
   "outputs": [],
   "source": [
    "otu_df1_sort = otu_df1.sort_values('otu_id', ascending=False)\n",
    "# otu_df1_sort.head()"
   ]
  },
  {
   "cell_type": "code",
   "execution_count": 32,
   "metadata": {
    "collapsed": true
   },
   "outputs": [],
   "source": [
    "otu_df = otu_df1_sort[['otu_id']]\n",
    "# otu_df.head()\n",
    "# otu_df.shape"
   ]
  },
  {
   "cell_type": "code",
   "execution_count": 33,
   "metadata": {
    "collapsed": true,
    "scrolled": false
   },
   "outputs": [],
   "source": [
    "# sets otu_id in otu_df to a new list called value\n",
    "# we will add this list to our dictionary - sample_dict\n",
    "value = otu_df['otu_id'].tolist()"
   ]
  },
  {
   "cell_type": "code",
   "execution_count": 34,
   "metadata": {
    "collapsed": true
   },
   "outputs": [],
   "source": [
    "# this strips the quotes from value\n",
    "value = list(map(int, value))"
   ]
  },
  {
   "cell_type": "code",
   "execution_count": 35,
   "metadata": {
    "collapsed": true
   },
   "outputs": [],
   "source": [
    "# sorts the SAMPLE ID column from bbb_meta_df\n",
    "sample_sort = bbb_meta_df.sort_values('SAMPLEID', ascending=False)"
   ]
  },
  {
   "cell_type": "code",
   "execution_count": 36,
   "metadata": {
    "collapsed": true
   },
   "outputs": [],
   "source": [
    "# creates a descending list of SAMPLEID\n",
    "sample_value = sample_sort['SAMPLEID'].tolist()"
   ]
  },
  {
   "cell_type": "code",
   "execution_count": 37,
   "metadata": {},
   "outputs": [
    {
     "name": "stdout",
     "output_type": "stream",
     "text": [
      "otu_ids\n"
     ]
    }
   ],
   "source": [
    "# strip quotes from 'otu_ids'\n",
    "key1 = 'otu_ids'\n",
    "key1_new = key1.strip()\n",
    "print(key1_new)"
   ]
  },
  {
   "cell_type": "code",
   "execution_count": 38,
   "metadata": {
    "collapsed": true,
    "scrolled": true
   },
   "outputs": [],
   "source": [
    "# dictionary {otu_ids: [1,2,3]}\n",
    "# the above is the kind of dictionary we want to make\n",
    "sample_dict = {'otu_ids': value, 'sample_values': sample_value}"
   ]
  },
  {
   "cell_type": "code",
   "execution_count": 39,
   "metadata": {
    "collapsed": true,
    "scrolled": true
   },
   "outputs": [],
   "source": [
    "# sample_dict"
   ]
  },
  {
   "cell_type": "code",
   "execution_count": 40,
   "metadata": {
    "collapsed": true
   },
   "outputs": [],
   "source": [
    "# append value\n",
    "# sample_dict['otu_ids'].append(1)"
   ]
  },
  {
   "cell_type": "code",
   "execution_count": 41,
   "metadata": {
    "collapsed": true
   },
   "outputs": [],
   "source": [
    "# returns an integer value for the weekly washing frequency 'WFREQ'\n",
    "freq_df = bbb_meta_df[['SAMPLEID', 'WFREQ']]\n",
    "#freq_df.head()\n",
    "#freq_df.shape"
   ]
  },
  {
   "cell_type": "markdown",
   "metadata": {},
   "source": [
    "***end test section***"
   ]
  },
  {
   "cell_type": "markdown",
   "metadata": {},
   "source": [
    "# ADD NEW CODE HERE"
   ]
  },
  {
   "cell_type": "markdown",
   "metadata": {},
   "source": [
    "***section covers the /wfreq/sample route ***"
   ]
  },
  {
   "cell_type": "code",
   "execution_count": 42,
   "metadata": {
    "scrolled": true
   },
   "outputs": [
    {
     "data": {
      "text/html": [
       "<div>\n",
       "<style>\n",
       "    .dataframe thead tr:only-child th {\n",
       "        text-align: right;\n",
       "    }\n",
       "\n",
       "    .dataframe thead th {\n",
       "        text-align: left;\n",
       "    }\n",
       "\n",
       "    .dataframe tbody tr th {\n",
       "        vertical-align: top;\n",
       "    }\n",
       "</style>\n",
       "<table border=\"1\" class=\"dataframe\">\n",
       "  <thead>\n",
       "    <tr style=\"text-align: right;\">\n",
       "      <th></th>\n",
       "      <th>EVENT</th>\n",
       "      <th>ETHNICITY</th>\n",
       "      <th>GENDER</th>\n",
       "      <th>AGE</th>\n",
       "      <th>WFREQ</th>\n",
       "      <th>BBTYPE</th>\n",
       "      <th>LOCATION</th>\n",
       "      <th>COUNTRY012</th>\n",
       "      <th>ZIP012</th>\n",
       "      <th>COUNTRY1319</th>\n",
       "      <th>ZIP1319</th>\n",
       "      <th>DOG</th>\n",
       "      <th>CAT</th>\n",
       "      <th>IMPSURFACE013</th>\n",
       "      <th>NPP013</th>\n",
       "      <th>MMAXTEMP013</th>\n",
       "      <th>PFC013</th>\n",
       "      <th>IMPSURFACE1319</th>\n",
       "      <th>NPP1319</th>\n",
       "      <th>MMAXTEMP1319</th>\n",
       "      <th>PFC1319</th>\n",
       "    </tr>\n",
       "    <tr>\n",
       "      <th>SAMPLEID</th>\n",
       "      <th></th>\n",
       "      <th></th>\n",
       "      <th></th>\n",
       "      <th></th>\n",
       "      <th></th>\n",
       "      <th></th>\n",
       "      <th></th>\n",
       "      <th></th>\n",
       "      <th></th>\n",
       "      <th></th>\n",
       "      <th></th>\n",
       "      <th></th>\n",
       "      <th></th>\n",
       "      <th></th>\n",
       "      <th></th>\n",
       "      <th></th>\n",
       "      <th></th>\n",
       "      <th></th>\n",
       "      <th></th>\n",
       "      <th></th>\n",
       "      <th></th>\n",
       "    </tr>\n",
       "  </thead>\n",
       "  <tbody>\n",
       "    <tr>\n",
       "      <th>940</th>\n",
       "      <td>BellyButtonsScienceOnline</td>\n",
       "      <td>Caucasian</td>\n",
       "      <td>F</td>\n",
       "      <td>24.0</td>\n",
       "      <td>2.0</td>\n",
       "      <td>I</td>\n",
       "      <td>Beaufort/NC</td>\n",
       "      <td>usa</td>\n",
       "      <td>22306</td>\n",
       "      <td>usa</td>\n",
       "      <td>22306</td>\n",
       "      <td>no</td>\n",
       "      <td>no</td>\n",
       "      <td>8852.0</td>\n",
       "      <td>37.172222</td>\n",
       "      <td>54.5</td>\n",
       "      <td>NaN</td>\n",
       "      <td>1</td>\n",
       "      <td>NaN</td>\n",
       "      <td>33.990002</td>\n",
       "      <td>25.5</td>\n",
       "    </tr>\n",
       "    <tr>\n",
       "      <th>941</th>\n",
       "      <td>NaN</td>\n",
       "      <td>Caucasian/Midleastern</td>\n",
       "      <td>F</td>\n",
       "      <td>34.0</td>\n",
       "      <td>1.0</td>\n",
       "      <td>I</td>\n",
       "      <td>Chicago/IL</td>\n",
       "      <td>NaN</td>\n",
       "      <td>NaN</td>\n",
       "      <td>NaN</td>\n",
       "      <td>NaN</td>\n",
       "      <td>NaN</td>\n",
       "      <td>NaN</td>\n",
       "      <td>NaN</td>\n",
       "      <td>NaN</td>\n",
       "      <td>NaN</td>\n",
       "      <td>NaN</td>\n",
       "      <td>NaN</td>\n",
       "      <td>NaN</td>\n",
       "      <td>NaN</td>\n",
       "      <td>NaN</td>\n",
       "    </tr>\n",
       "    <tr>\n",
       "      <th>943</th>\n",
       "      <td>BellyButtonsScienceOnline</td>\n",
       "      <td>Caucasian</td>\n",
       "      <td>F</td>\n",
       "      <td>49.0</td>\n",
       "      <td>1.0</td>\n",
       "      <td>I</td>\n",
       "      <td>Omaha/NE</td>\n",
       "      <td>NaN</td>\n",
       "      <td>NaN</td>\n",
       "      <td>NaN</td>\n",
       "      <td>NaN</td>\n",
       "      <td>NaN</td>\n",
       "      <td>NaN</td>\n",
       "      <td>NaN</td>\n",
       "      <td>NaN</td>\n",
       "      <td>NaN</td>\n",
       "      <td>NaN</td>\n",
       "      <td>NaN</td>\n",
       "      <td>NaN</td>\n",
       "      <td>NaN</td>\n",
       "      <td>NaN</td>\n",
       "    </tr>\n",
       "    <tr>\n",
       "      <th>944</th>\n",
       "      <td>BellyButtonsScienceOnline</td>\n",
       "      <td>European</td>\n",
       "      <td>M</td>\n",
       "      <td>44.0</td>\n",
       "      <td>1.0</td>\n",
       "      <td>I</td>\n",
       "      <td>NewHaven/CT</td>\n",
       "      <td>usa</td>\n",
       "      <td>7079</td>\n",
       "      <td>usa</td>\n",
       "      <td>8822</td>\n",
       "      <td>no</td>\n",
       "      <td>yes</td>\n",
       "      <td>NaN</td>\n",
       "      <td>35.816666</td>\n",
       "      <td>16.0</td>\n",
       "      <td>NaN</td>\n",
       "      <td>0</td>\n",
       "      <td>6567.0</td>\n",
       "      <td>32.403332</td>\n",
       "      <td>28.5</td>\n",
       "    </tr>\n",
       "    <tr>\n",
       "      <th>945</th>\n",
       "      <td>BellyButtonsScienceOnline</td>\n",
       "      <td>Caucasian</td>\n",
       "      <td>F</td>\n",
       "      <td>48.0</td>\n",
       "      <td>1.0</td>\n",
       "      <td>I</td>\n",
       "      <td>Philidelphia/PA</td>\n",
       "      <td>usa</td>\n",
       "      <td>84404</td>\n",
       "      <td>usa</td>\n",
       "      <td>96025</td>\n",
       "      <td>no</td>\n",
       "      <td>no</td>\n",
       "      <td>NaN</td>\n",
       "      <td>37.783333</td>\n",
       "      <td>4.0</td>\n",
       "      <td>NaN</td>\n",
       "      <td>0</td>\n",
       "      <td>5613.0</td>\n",
       "      <td>33.634445</td>\n",
       "      <td>24.0</td>\n",
       "    </tr>\n",
       "  </tbody>\n",
       "</table>\n",
       "</div>"
      ],
      "text/plain": [
       "                              EVENT              ETHNICITY GENDER   AGE  WFREQ BBTYPE         LOCATION COUNTRY012 ZIP012 COUNTRY1319 ZIP1319  DOG  CAT  IMPSURFACE013     NPP013  MMAXTEMP013  PFC013 IMPSURFACE1319  NPP1319  MMAXTEMP1319  PFC1319\n",
       "SAMPLEID                                                                                                                                                                                                                                            \n",
       "940       BellyButtonsScienceOnline              Caucasian      F  24.0    2.0      I      Beaufort/NC        usa  22306         usa   22306   no   no         8852.0  37.172222         54.5     NaN              1      NaN     33.990002     25.5\n",
       "941                             NaN  Caucasian/Midleastern      F  34.0    1.0      I       Chicago/IL        NaN    NaN         NaN     NaN  NaN  NaN            NaN        NaN          NaN     NaN            NaN      NaN           NaN      NaN\n",
       "943       BellyButtonsScienceOnline              Caucasian      F  49.0    1.0      I         Omaha/NE        NaN    NaN         NaN     NaN  NaN  NaN            NaN        NaN          NaN     NaN            NaN      NaN           NaN      NaN\n",
       "944       BellyButtonsScienceOnline               European      M  44.0    1.0      I      NewHaven/CT        usa   7079         usa    8822   no  yes            NaN  35.816666         16.0     NaN              0   6567.0     32.403332     28.5\n",
       "945       BellyButtonsScienceOnline              Caucasian      F  48.0    1.0      I  Philidelphia/PA        usa  84404         usa   96025   no   no            NaN  37.783333          4.0     NaN              0   5613.0     33.634445     24.0"
      ]
     },
     "execution_count": 42,
     "metadata": {},
     "output_type": "execute_result"
    }
   ],
   "source": [
    "wf = bbb_meta_df.set_index('SAMPLEID')\n",
    "wf.head()"
   ]
  },
  {
   "cell_type": "code",
   "execution_count": 43,
   "metadata": {
    "collapsed": true
   },
   "outputs": [],
   "source": [
    "samplewf = 'BB_940'"
   ]
  },
  {
   "cell_type": "code",
   "execution_count": 44,
   "metadata": {
    "scrolled": true
   },
   "outputs": [
    {
     "data": {
      "text/plain": [
       "940"
      ]
     },
     "execution_count": 44,
     "metadata": {},
     "output_type": "execute_result"
    }
   ],
   "source": [
    "samplewf_ID = int(samplewf.replace(\"BB_\",\"\"))\n",
    "samplewf_ID"
   ]
  },
  {
   "cell_type": "code",
   "execution_count": 46,
   "metadata": {},
   "outputs": [
    {
     "data": {
      "text/html": [
       "<div>\n",
       "<style>\n",
       "    .dataframe thead tr:only-child th {\n",
       "        text-align: right;\n",
       "    }\n",
       "\n",
       "    .dataframe thead th {\n",
       "        text-align: left;\n",
       "    }\n",
       "\n",
       "    .dataframe tbody tr th {\n",
       "        vertical-align: top;\n",
       "    }\n",
       "</style>\n",
       "<table border=\"1\" class=\"dataframe\">\n",
       "  <thead>\n",
       "    <tr style=\"text-align: right;\">\n",
       "      <th></th>\n",
       "      <th>WFREQ</th>\n",
       "    </tr>\n",
       "    <tr>\n",
       "      <th>SAMPLEID</th>\n",
       "      <th></th>\n",
       "    </tr>\n",
       "  </thead>\n",
       "  <tbody>\n",
       "    <tr>\n",
       "      <th>940</th>\n",
       "      <td>2.0</td>\n",
       "    </tr>\n",
       "  </tbody>\n",
       "</table>\n",
       "</div>"
      ],
      "text/plain": [
       "          WFREQ\n",
       "SAMPLEID       \n",
       "940         2.0"
      ]
     },
     "execution_count": 46,
     "metadata": {},
     "output_type": "execute_result"
    }
   ],
   "source": [
    "wf_new = wf.loc[[samplewf_ID],['WFREQ']]\n",
    "wf_new"
   ]
  },
  {
   "cell_type": "code",
   "execution_count": 47,
   "metadata": {},
   "outputs": [
    {
     "data": {
      "text/plain": [
       "2.0"
      ]
     },
     "execution_count": 47,
     "metadata": {},
     "output_type": "execute_result"
    }
   ],
   "source": [
    "results2 = wf_new[\"WFREQ\"].item()\n",
    "results2"
   ]
  },
  {
   "cell_type": "code",
   "execution_count": 48,
   "metadata": {
    "collapsed": true
   },
   "outputs": [],
   "source": [
    "wfreq = freq_df['WFREQ'].tolist()"
   ]
  },
  {
   "cell_type": "markdown",
   "metadata": {},
   "source": [
    "# section covers the sample / sample route"
   ]
  },
  {
   "cell_type": "code",
   "execution_count": 49,
   "metadata": {},
   "outputs": [
    {
     "data": {
      "text/html": [
       "<div>\n",
       "<style>\n",
       "    .dataframe thead tr:only-child th {\n",
       "        text-align: right;\n",
       "    }\n",
       "\n",
       "    .dataframe thead th {\n",
       "        text-align: left;\n",
       "    }\n",
       "\n",
       "    .dataframe tbody tr th {\n",
       "        vertical-align: top;\n",
       "    }\n",
       "</style>\n",
       "<table border=\"1\" class=\"dataframe\">\n",
       "  <thead>\n",
       "    <tr style=\"text-align: right;\">\n",
       "      <th></th>\n",
       "      <th>otu_id</th>\n",
       "      <th>BB_940</th>\n",
       "      <th>BB_941</th>\n",
       "      <th>BB_943</th>\n",
       "      <th>BB_944</th>\n",
       "      <th>BB_945</th>\n",
       "      <th>BB_946</th>\n",
       "      <th>BB_947</th>\n",
       "      <th>BB_948</th>\n",
       "      <th>BB_949</th>\n",
       "      <th>BB_950</th>\n",
       "      <th>BB_952</th>\n",
       "      <th>BB_953</th>\n",
       "      <th>BB_954</th>\n",
       "      <th>BB_955</th>\n",
       "      <th>BB_956</th>\n",
       "      <th>BB_958</th>\n",
       "      <th>BB_959</th>\n",
       "      <th>BB_960</th>\n",
       "      <th>BB_961</th>\n",
       "      <th>BB_962</th>\n",
       "      <th>BB_963</th>\n",
       "      <th>BB_964</th>\n",
       "      <th>BB_966</th>\n",
       "      <th>BB_967</th>\n",
       "      <th>BB_968</th>\n",
       "      <th>BB_969</th>\n",
       "      <th>BB_970</th>\n",
       "      <th>BB_971</th>\n",
       "      <th>BB_972</th>\n",
       "      <th>BB_973</th>\n",
       "      <th>BB_974</th>\n",
       "      <th>BB_975</th>\n",
       "      <th>BB_978</th>\n",
       "      <th>BB_1233</th>\n",
       "      <th>BB_1234</th>\n",
       "      <th>BB_1235</th>\n",
       "      <th>BB_1236</th>\n",
       "      <th>BB_1237</th>\n",
       "      <th>BB_1238</th>\n",
       "      <th>BB_1242</th>\n",
       "      <th>BB_1243</th>\n",
       "      <th>BB_1246</th>\n",
       "      <th>BB_1253</th>\n",
       "      <th>BB_1254</th>\n",
       "      <th>BB_1258</th>\n",
       "      <th>BB_1259</th>\n",
       "      <th>BB_1260</th>\n",
       "      <th>BB_1264</th>\n",
       "      <th>BB_1265</th>\n",
       "      <th>...</th>\n",
       "      <th>BB_1513</th>\n",
       "      <th>BB_1514</th>\n",
       "      <th>BB_1515</th>\n",
       "      <th>BB_1516</th>\n",
       "      <th>BB_1517</th>\n",
       "      <th>BB_1518</th>\n",
       "      <th>BB_1519</th>\n",
       "      <th>BB_1521</th>\n",
       "      <th>BB_1524</th>\n",
       "      <th>BB_1526</th>\n",
       "      <th>BB_1527</th>\n",
       "      <th>BB_1530</th>\n",
       "      <th>BB_1531</th>\n",
       "      <th>BB_1532</th>\n",
       "      <th>BB_1533</th>\n",
       "      <th>BB_1534</th>\n",
       "      <th>BB_1535</th>\n",
       "      <th>BB_1536</th>\n",
       "      <th>BB_1537</th>\n",
       "      <th>BB_1539</th>\n",
       "      <th>BB_1540</th>\n",
       "      <th>BB_1541</th>\n",
       "      <th>BB_1542</th>\n",
       "      <th>BB_1543</th>\n",
       "      <th>BB_1544</th>\n",
       "      <th>BB_1545</th>\n",
       "      <th>BB_1546</th>\n",
       "      <th>BB_1547</th>\n",
       "      <th>BB_1548</th>\n",
       "      <th>BB_1549</th>\n",
       "      <th>BB_1550</th>\n",
       "      <th>BB_1551</th>\n",
       "      <th>BB_1552</th>\n",
       "      <th>BB_1553</th>\n",
       "      <th>BB_1554</th>\n",
       "      <th>BB_1555</th>\n",
       "      <th>BB_1556</th>\n",
       "      <th>BB_1557</th>\n",
       "      <th>BB_1558</th>\n",
       "      <th>BB_1561</th>\n",
       "      <th>BB_1562</th>\n",
       "      <th>BB_1563</th>\n",
       "      <th>BB_1564</th>\n",
       "      <th>BB_1572</th>\n",
       "      <th>BB_1573</th>\n",
       "      <th>BB_1574</th>\n",
       "      <th>BB_1576</th>\n",
       "      <th>BB_1577</th>\n",
       "      <th>BB_1581</th>\n",
       "      <th>BB_1601</th>\n",
       "    </tr>\n",
       "  </thead>\n",
       "  <tbody>\n",
       "    <tr>\n",
       "      <th>0</th>\n",
       "      <td>1</td>\n",
       "      <td>0.0</td>\n",
       "      <td>0</td>\n",
       "      <td>0</td>\n",
       "      <td>0</td>\n",
       "      <td>0</td>\n",
       "      <td>0</td>\n",
       "      <td>0</td>\n",
       "      <td>0.0</td>\n",
       "      <td>0</td>\n",
       "      <td>0.0</td>\n",
       "      <td>0</td>\n",
       "      <td>0</td>\n",
       "      <td>0</td>\n",
       "      <td>0.0</td>\n",
       "      <td>0</td>\n",
       "      <td>0</td>\n",
       "      <td>0</td>\n",
       "      <td>0</td>\n",
       "      <td>0</td>\n",
       "      <td>0</td>\n",
       "      <td>0</td>\n",
       "      <td>0</td>\n",
       "      <td>1</td>\n",
       "      <td>0</td>\n",
       "      <td>0</td>\n",
       "      <td>0</td>\n",
       "      <td>0</td>\n",
       "      <td>0</td>\n",
       "      <td>0</td>\n",
       "      <td>0</td>\n",
       "      <td>0</td>\n",
       "      <td>0</td>\n",
       "      <td>0</td>\n",
       "      <td>0</td>\n",
       "      <td>0</td>\n",
       "      <td>0</td>\n",
       "      <td>0</td>\n",
       "      <td>0</td>\n",
       "      <td>0</td>\n",
       "      <td>0</td>\n",
       "      <td>0</td>\n",
       "      <td>0</td>\n",
       "      <td>0</td>\n",
       "      <td>0</td>\n",
       "      <td>0</td>\n",
       "      <td>0</td>\n",
       "      <td>0</td>\n",
       "      <td>0</td>\n",
       "      <td>0</td>\n",
       "      <td>...</td>\n",
       "      <td>0</td>\n",
       "      <td>0</td>\n",
       "      <td>0</td>\n",
       "      <td>0</td>\n",
       "      <td>0</td>\n",
       "      <td>0</td>\n",
       "      <td>0</td>\n",
       "      <td>0</td>\n",
       "      <td>0</td>\n",
       "      <td>0</td>\n",
       "      <td>0</td>\n",
       "      <td>0</td>\n",
       "      <td>0</td>\n",
       "      <td>0</td>\n",
       "      <td>0</td>\n",
       "      <td>0</td>\n",
       "      <td>0</td>\n",
       "      <td>0</td>\n",
       "      <td>0</td>\n",
       "      <td>0</td>\n",
       "      <td>0</td>\n",
       "      <td>0</td>\n",
       "      <td>0</td>\n",
       "      <td>0</td>\n",
       "      <td>0</td>\n",
       "      <td>0</td>\n",
       "      <td>0</td>\n",
       "      <td>0</td>\n",
       "      <td>0</td>\n",
       "      <td>0</td>\n",
       "      <td>0</td>\n",
       "      <td>0</td>\n",
       "      <td>0</td>\n",
       "      <td>0</td>\n",
       "      <td>0</td>\n",
       "      <td>0</td>\n",
       "      <td>0</td>\n",
       "      <td>0</td>\n",
       "      <td>0</td>\n",
       "      <td>0</td>\n",
       "      <td>0</td>\n",
       "      <td>0</td>\n",
       "      <td>0</td>\n",
       "      <td>0</td>\n",
       "      <td>0</td>\n",
       "      <td>0</td>\n",
       "      <td>0</td>\n",
       "      <td>0</td>\n",
       "      <td>0</td>\n",
       "      <td>0</td>\n",
       "    </tr>\n",
       "    <tr>\n",
       "      <th>1</th>\n",
       "      <td>2</td>\n",
       "      <td>0.0</td>\n",
       "      <td>0</td>\n",
       "      <td>0</td>\n",
       "      <td>0</td>\n",
       "      <td>0</td>\n",
       "      <td>0</td>\n",
       "      <td>0</td>\n",
       "      <td>0.0</td>\n",
       "      <td>0</td>\n",
       "      <td>0.0</td>\n",
       "      <td>0</td>\n",
       "      <td>0</td>\n",
       "      <td>0</td>\n",
       "      <td>0.0</td>\n",
       "      <td>0</td>\n",
       "      <td>0</td>\n",
       "      <td>0</td>\n",
       "      <td>0</td>\n",
       "      <td>0</td>\n",
       "      <td>0</td>\n",
       "      <td>0</td>\n",
       "      <td>0</td>\n",
       "      <td>4</td>\n",
       "      <td>0</td>\n",
       "      <td>0</td>\n",
       "      <td>0</td>\n",
       "      <td>0</td>\n",
       "      <td>0</td>\n",
       "      <td>0</td>\n",
       "      <td>0</td>\n",
       "      <td>0</td>\n",
       "      <td>0</td>\n",
       "      <td>0</td>\n",
       "      <td>0</td>\n",
       "      <td>0</td>\n",
       "      <td>0</td>\n",
       "      <td>0</td>\n",
       "      <td>0</td>\n",
       "      <td>0</td>\n",
       "      <td>0</td>\n",
       "      <td>0</td>\n",
       "      <td>0</td>\n",
       "      <td>0</td>\n",
       "      <td>0</td>\n",
       "      <td>0</td>\n",
       "      <td>0</td>\n",
       "      <td>0</td>\n",
       "      <td>0</td>\n",
       "      <td>0</td>\n",
       "      <td>...</td>\n",
       "      <td>0</td>\n",
       "      <td>0</td>\n",
       "      <td>0</td>\n",
       "      <td>0</td>\n",
       "      <td>0</td>\n",
       "      <td>0</td>\n",
       "      <td>0</td>\n",
       "      <td>0</td>\n",
       "      <td>0</td>\n",
       "      <td>0</td>\n",
       "      <td>0</td>\n",
       "      <td>0</td>\n",
       "      <td>0</td>\n",
       "      <td>0</td>\n",
       "      <td>0</td>\n",
       "      <td>0</td>\n",
       "      <td>0</td>\n",
       "      <td>0</td>\n",
       "      <td>0</td>\n",
       "      <td>0</td>\n",
       "      <td>0</td>\n",
       "      <td>0</td>\n",
       "      <td>0</td>\n",
       "      <td>0</td>\n",
       "      <td>0</td>\n",
       "      <td>0</td>\n",
       "      <td>0</td>\n",
       "      <td>0</td>\n",
       "      <td>0</td>\n",
       "      <td>0</td>\n",
       "      <td>0</td>\n",
       "      <td>0</td>\n",
       "      <td>0</td>\n",
       "      <td>0</td>\n",
       "      <td>0</td>\n",
       "      <td>0</td>\n",
       "      <td>0</td>\n",
       "      <td>0</td>\n",
       "      <td>0</td>\n",
       "      <td>0</td>\n",
       "      <td>0</td>\n",
       "      <td>0</td>\n",
       "      <td>0</td>\n",
       "      <td>0</td>\n",
       "      <td>0</td>\n",
       "      <td>0</td>\n",
       "      <td>0</td>\n",
       "      <td>0</td>\n",
       "      <td>0</td>\n",
       "      <td>0</td>\n",
       "    </tr>\n",
       "    <tr>\n",
       "      <th>2</th>\n",
       "      <td>3</td>\n",
       "      <td>0.0</td>\n",
       "      <td>0</td>\n",
       "      <td>0</td>\n",
       "      <td>0</td>\n",
       "      <td>0</td>\n",
       "      <td>0</td>\n",
       "      <td>0</td>\n",
       "      <td>0.0</td>\n",
       "      <td>0</td>\n",
       "      <td>0.0</td>\n",
       "      <td>0</td>\n",
       "      <td>0</td>\n",
       "      <td>0</td>\n",
       "      <td>0.0</td>\n",
       "      <td>0</td>\n",
       "      <td>0</td>\n",
       "      <td>0</td>\n",
       "      <td>0</td>\n",
       "      <td>0</td>\n",
       "      <td>0</td>\n",
       "      <td>0</td>\n",
       "      <td>0</td>\n",
       "      <td>0</td>\n",
       "      <td>0</td>\n",
       "      <td>0</td>\n",
       "      <td>0</td>\n",
       "      <td>0</td>\n",
       "      <td>0</td>\n",
       "      <td>0</td>\n",
       "      <td>0</td>\n",
       "      <td>0</td>\n",
       "      <td>0</td>\n",
       "      <td>0</td>\n",
       "      <td>0</td>\n",
       "      <td>0</td>\n",
       "      <td>0</td>\n",
       "      <td>0</td>\n",
       "      <td>0</td>\n",
       "      <td>0</td>\n",
       "      <td>0</td>\n",
       "      <td>0</td>\n",
       "      <td>0</td>\n",
       "      <td>0</td>\n",
       "      <td>0</td>\n",
       "      <td>0</td>\n",
       "      <td>0</td>\n",
       "      <td>0</td>\n",
       "      <td>0</td>\n",
       "      <td>0</td>\n",
       "      <td>...</td>\n",
       "      <td>0</td>\n",
       "      <td>0</td>\n",
       "      <td>0</td>\n",
       "      <td>0</td>\n",
       "      <td>0</td>\n",
       "      <td>0</td>\n",
       "      <td>0</td>\n",
       "      <td>0</td>\n",
       "      <td>0</td>\n",
       "      <td>0</td>\n",
       "      <td>0</td>\n",
       "      <td>0</td>\n",
       "      <td>0</td>\n",
       "      <td>0</td>\n",
       "      <td>0</td>\n",
       "      <td>0</td>\n",
       "      <td>0</td>\n",
       "      <td>0</td>\n",
       "      <td>0</td>\n",
       "      <td>0</td>\n",
       "      <td>0</td>\n",
       "      <td>0</td>\n",
       "      <td>0</td>\n",
       "      <td>0</td>\n",
       "      <td>0</td>\n",
       "      <td>0</td>\n",
       "      <td>0</td>\n",
       "      <td>0</td>\n",
       "      <td>0</td>\n",
       "      <td>0</td>\n",
       "      <td>0</td>\n",
       "      <td>0</td>\n",
       "      <td>0</td>\n",
       "      <td>0</td>\n",
       "      <td>0</td>\n",
       "      <td>0</td>\n",
       "      <td>0</td>\n",
       "      <td>0</td>\n",
       "      <td>0</td>\n",
       "      <td>0</td>\n",
       "      <td>0</td>\n",
       "      <td>0</td>\n",
       "      <td>0</td>\n",
       "      <td>0</td>\n",
       "      <td>0</td>\n",
       "      <td>0</td>\n",
       "      <td>0</td>\n",
       "      <td>0</td>\n",
       "      <td>0</td>\n",
       "      <td>0</td>\n",
       "    </tr>\n",
       "    <tr>\n",
       "      <th>3</th>\n",
       "      <td>4</td>\n",
       "      <td>0.0</td>\n",
       "      <td>0</td>\n",
       "      <td>0</td>\n",
       "      <td>0</td>\n",
       "      <td>0</td>\n",
       "      <td>0</td>\n",
       "      <td>0</td>\n",
       "      <td>0.0</td>\n",
       "      <td>0</td>\n",
       "      <td>0.0</td>\n",
       "      <td>0</td>\n",
       "      <td>0</td>\n",
       "      <td>0</td>\n",
       "      <td>0.0</td>\n",
       "      <td>0</td>\n",
       "      <td>0</td>\n",
       "      <td>0</td>\n",
       "      <td>0</td>\n",
       "      <td>0</td>\n",
       "      <td>0</td>\n",
       "      <td>0</td>\n",
       "      <td>0</td>\n",
       "      <td>0</td>\n",
       "      <td>0</td>\n",
       "      <td>0</td>\n",
       "      <td>0</td>\n",
       "      <td>0</td>\n",
       "      <td>0</td>\n",
       "      <td>0</td>\n",
       "      <td>0</td>\n",
       "      <td>0</td>\n",
       "      <td>0</td>\n",
       "      <td>0</td>\n",
       "      <td>0</td>\n",
       "      <td>0</td>\n",
       "      <td>0</td>\n",
       "      <td>0</td>\n",
       "      <td>0</td>\n",
       "      <td>0</td>\n",
       "      <td>0</td>\n",
       "      <td>0</td>\n",
       "      <td>0</td>\n",
       "      <td>0</td>\n",
       "      <td>0</td>\n",
       "      <td>0</td>\n",
       "      <td>0</td>\n",
       "      <td>1</td>\n",
       "      <td>0</td>\n",
       "      <td>7</td>\n",
       "      <td>...</td>\n",
       "      <td>0</td>\n",
       "      <td>0</td>\n",
       "      <td>0</td>\n",
       "      <td>0</td>\n",
       "      <td>0</td>\n",
       "      <td>0</td>\n",
       "      <td>0</td>\n",
       "      <td>0</td>\n",
       "      <td>0</td>\n",
       "      <td>0</td>\n",
       "      <td>0</td>\n",
       "      <td>0</td>\n",
       "      <td>0</td>\n",
       "      <td>0</td>\n",
       "      <td>0</td>\n",
       "      <td>0</td>\n",
       "      <td>0</td>\n",
       "      <td>0</td>\n",
       "      <td>0</td>\n",
       "      <td>0</td>\n",
       "      <td>0</td>\n",
       "      <td>0</td>\n",
       "      <td>0</td>\n",
       "      <td>0</td>\n",
       "      <td>0</td>\n",
       "      <td>0</td>\n",
       "      <td>0</td>\n",
       "      <td>0</td>\n",
       "      <td>0</td>\n",
       "      <td>0</td>\n",
       "      <td>0</td>\n",
       "      <td>0</td>\n",
       "      <td>0</td>\n",
       "      <td>0</td>\n",
       "      <td>0</td>\n",
       "      <td>0</td>\n",
       "      <td>0</td>\n",
       "      <td>0</td>\n",
       "      <td>0</td>\n",
       "      <td>0</td>\n",
       "      <td>0</td>\n",
       "      <td>0</td>\n",
       "      <td>0</td>\n",
       "      <td>0</td>\n",
       "      <td>0</td>\n",
       "      <td>0</td>\n",
       "      <td>0</td>\n",
       "      <td>0</td>\n",
       "      <td>0</td>\n",
       "      <td>0</td>\n",
       "    </tr>\n",
       "    <tr>\n",
       "      <th>4</th>\n",
       "      <td>5</td>\n",
       "      <td>0.0</td>\n",
       "      <td>0</td>\n",
       "      <td>0</td>\n",
       "      <td>0</td>\n",
       "      <td>0</td>\n",
       "      <td>0</td>\n",
       "      <td>0</td>\n",
       "      <td>0.0</td>\n",
       "      <td>0</td>\n",
       "      <td>0.0</td>\n",
       "      <td>0</td>\n",
       "      <td>0</td>\n",
       "      <td>0</td>\n",
       "      <td>0.0</td>\n",
       "      <td>0</td>\n",
       "      <td>0</td>\n",
       "      <td>0</td>\n",
       "      <td>0</td>\n",
       "      <td>0</td>\n",
       "      <td>0</td>\n",
       "      <td>0</td>\n",
       "      <td>0</td>\n",
       "      <td>0</td>\n",
       "      <td>0</td>\n",
       "      <td>0</td>\n",
       "      <td>0</td>\n",
       "      <td>0</td>\n",
       "      <td>0</td>\n",
       "      <td>0</td>\n",
       "      <td>0</td>\n",
       "      <td>0</td>\n",
       "      <td>0</td>\n",
       "      <td>0</td>\n",
       "      <td>0</td>\n",
       "      <td>0</td>\n",
       "      <td>0</td>\n",
       "      <td>0</td>\n",
       "      <td>0</td>\n",
       "      <td>0</td>\n",
       "      <td>0</td>\n",
       "      <td>0</td>\n",
       "      <td>0</td>\n",
       "      <td>0</td>\n",
       "      <td>0</td>\n",
       "      <td>0</td>\n",
       "      <td>0</td>\n",
       "      <td>0</td>\n",
       "      <td>0</td>\n",
       "      <td>0</td>\n",
       "      <td>...</td>\n",
       "      <td>0</td>\n",
       "      <td>0</td>\n",
       "      <td>0</td>\n",
       "      <td>0</td>\n",
       "      <td>0</td>\n",
       "      <td>0</td>\n",
       "      <td>0</td>\n",
       "      <td>0</td>\n",
       "      <td>0</td>\n",
       "      <td>0</td>\n",
       "      <td>0</td>\n",
       "      <td>0</td>\n",
       "      <td>0</td>\n",
       "      <td>0</td>\n",
       "      <td>0</td>\n",
       "      <td>0</td>\n",
       "      <td>0</td>\n",
       "      <td>0</td>\n",
       "      <td>0</td>\n",
       "      <td>0</td>\n",
       "      <td>0</td>\n",
       "      <td>0</td>\n",
       "      <td>0</td>\n",
       "      <td>0</td>\n",
       "      <td>0</td>\n",
       "      <td>0</td>\n",
       "      <td>0</td>\n",
       "      <td>0</td>\n",
       "      <td>0</td>\n",
       "      <td>0</td>\n",
       "      <td>0</td>\n",
       "      <td>0</td>\n",
       "      <td>0</td>\n",
       "      <td>0</td>\n",
       "      <td>0</td>\n",
       "      <td>0</td>\n",
       "      <td>0</td>\n",
       "      <td>0</td>\n",
       "      <td>0</td>\n",
       "      <td>0</td>\n",
       "      <td>0</td>\n",
       "      <td>0</td>\n",
       "      <td>0</td>\n",
       "      <td>0</td>\n",
       "      <td>0</td>\n",
       "      <td>0</td>\n",
       "      <td>0</td>\n",
       "      <td>0</td>\n",
       "      <td>0</td>\n",
       "      <td>0</td>\n",
       "    </tr>\n",
       "  </tbody>\n",
       "</table>\n",
       "<p>5 rows × 154 columns</p>\n",
       "</div>"
      ],
      "text/plain": [
       "   otu_id  BB_940  BB_941  BB_943  BB_944  BB_945  BB_946  BB_947  BB_948  BB_949  BB_950  BB_952  BB_953  BB_954  BB_955  BB_956  BB_958  BB_959  BB_960  BB_961  BB_962  BB_963  BB_964  BB_966  BB_967  BB_968  BB_969  BB_970  BB_971  BB_972  BB_973  BB_974  BB_975  BB_978  BB_1233  BB_1234  BB_1235  BB_1236  BB_1237  BB_1238  BB_1242  BB_1243  BB_1246  BB_1253  BB_1254  BB_1258  BB_1259  BB_1260  BB_1264  BB_1265   ...     BB_1513  BB_1514  BB_1515  BB_1516  BB_1517  BB_1518  BB_1519  BB_1521  BB_1524  BB_1526  BB_1527  BB_1530  BB_1531  BB_1532  BB_1533  BB_1534  BB_1535  BB_1536  BB_1537  BB_1539  BB_1540  BB_1541  BB_1542  BB_1543  BB_1544  BB_1545  BB_1546  BB_1547  BB_1548  BB_1549  BB_1550  BB_1551  BB_1552  BB_1553  BB_1554  BB_1555  BB_1556  BB_1557  BB_1558  BB_1561  BB_1562  BB_1563  BB_1564  BB_1572  BB_1573  BB_1574  BB_1576  BB_1577  BB_1581  BB_1601\n",
       "0       1     0.0       0       0       0       0       0       0     0.0       0     0.0       0       0       0     0.0       0       0       0       0       0       0       0       0       1       0       0       0       0       0       0       0       0       0       0        0        0        0        0        0        0        0        0        0        0        0        0        0        0        0        0   ...           0        0        0        0        0        0        0        0        0        0        0        0        0        0        0        0        0        0        0        0        0        0        0        0        0        0        0        0        0        0        0        0        0        0        0        0        0        0        0        0        0        0        0        0        0        0        0        0        0        0\n",
       "1       2     0.0       0       0       0       0       0       0     0.0       0     0.0       0       0       0     0.0       0       0       0       0       0       0       0       0       4       0       0       0       0       0       0       0       0       0       0        0        0        0        0        0        0        0        0        0        0        0        0        0        0        0        0   ...           0        0        0        0        0        0        0        0        0        0        0        0        0        0        0        0        0        0        0        0        0        0        0        0        0        0        0        0        0        0        0        0        0        0        0        0        0        0        0        0        0        0        0        0        0        0        0        0        0        0\n",
       "2       3     0.0       0       0       0       0       0       0     0.0       0     0.0       0       0       0     0.0       0       0       0       0       0       0       0       0       0       0       0       0       0       0       0       0       0       0       0        0        0        0        0        0        0        0        0        0        0        0        0        0        0        0        0   ...           0        0        0        0        0        0        0        0        0        0        0        0        0        0        0        0        0        0        0        0        0        0        0        0        0        0        0        0        0        0        0        0        0        0        0        0        0        0        0        0        0        0        0        0        0        0        0        0        0        0\n",
       "3       4     0.0       0       0       0       0       0       0     0.0       0     0.0       0       0       0     0.0       0       0       0       0       0       0       0       0       0       0       0       0       0       0       0       0       0       0       0        0        0        0        0        0        0        0        0        0        0        0        0        0        1        0        7   ...           0        0        0        0        0        0        0        0        0        0        0        0        0        0        0        0        0        0        0        0        0        0        0        0        0        0        0        0        0        0        0        0        0        0        0        0        0        0        0        0        0        0        0        0        0        0        0        0        0        0\n",
       "4       5     0.0       0       0       0       0       0       0     0.0       0     0.0       0       0       0     0.0       0       0       0       0       0       0       0       0       0       0       0       0       0       0       0       0       0       0       0        0        0        0        0        0        0        0        0        0        0        0        0        0        0        0        0   ...           0        0        0        0        0        0        0        0        0        0        0        0        0        0        0        0        0        0        0        0        0        0        0        0        0        0        0        0        0        0        0        0        0        0        0        0        0        0        0        0        0        0        0        0        0        0        0        0        0        0\n",
       "\n",
       "[5 rows x 154 columns]"
      ]
     },
     "execution_count": 49,
     "metadata": {},
     "output_type": "execute_result"
    }
   ],
   "source": [
    "bbb_samplesDF = pd.read_csv('belly_button_biodiversity_samples.csv')\n",
    "bbb_samplesDF.head()"
   ]
  },
  {
   "cell_type": "code",
   "execution_count": 50,
   "metadata": {
    "collapsed": true
   },
   "outputs": [],
   "source": [
    "# enter a random sample value\n",
    "sample_random = 'BB_1293'"
   ]
  },
  {
   "cell_type": "code",
   "execution_count": 54,
   "metadata": {},
   "outputs": [],
   "source": [
    "# create a new df object that filters sample_random & otu_id\n",
    "bbb_samplesDF_filter = bbb_samplesDF.filter(items = [sample_random, 'otu_id'])"
   ]
  },
  {
   "cell_type": "code",
   "execution_count": 55,
   "metadata": {},
   "outputs": [
    {
     "data": {
      "text/html": [
       "<div>\n",
       "<style>\n",
       "    .dataframe thead tr:only-child th {\n",
       "        text-align: right;\n",
       "    }\n",
       "\n",
       "    .dataframe thead th {\n",
       "        text-align: left;\n",
       "    }\n",
       "\n",
       "    .dataframe tbody tr th {\n",
       "        vertical-align: top;\n",
       "    }\n",
       "</style>\n",
       "<table border=\"1\" class=\"dataframe\">\n",
       "  <thead>\n",
       "    <tr style=\"text-align: right;\">\n",
       "      <th></th>\n",
       "      <th>BB_1293</th>\n",
       "      <th>otu_id</th>\n",
       "    </tr>\n",
       "  </thead>\n",
       "  <tbody>\n",
       "    <tr>\n",
       "      <th>0</th>\n",
       "      <td>0</td>\n",
       "      <td>1</td>\n",
       "    </tr>\n",
       "    <tr>\n",
       "      <th>1</th>\n",
       "      <td>0</td>\n",
       "      <td>2</td>\n",
       "    </tr>\n",
       "    <tr>\n",
       "      <th>2</th>\n",
       "      <td>0</td>\n",
       "      <td>3</td>\n",
       "    </tr>\n",
       "    <tr>\n",
       "      <th>3</th>\n",
       "      <td>0</td>\n",
       "      <td>4</td>\n",
       "    </tr>\n",
       "    <tr>\n",
       "      <th>4</th>\n",
       "      <td>0</td>\n",
       "      <td>5</td>\n",
       "    </tr>\n",
       "  </tbody>\n",
       "</table>\n",
       "</div>"
      ],
      "text/plain": [
       "   BB_1293  otu_id\n",
       "0        0       1\n",
       "1        0       2\n",
       "2        0       3\n",
       "3        0       4\n",
       "4        0       5"
      ]
     },
     "execution_count": 55,
     "metadata": {},
     "output_type": "execute_result"
    }
   ],
   "source": [
    "# everytime we change sample_random, the data frame should filter to that SAMPLEID\n",
    "# *****do not copy into app.py*****\n",
    "bbb_samplesDF_filter.head()"
   ]
  },
  {
   "cell_type": "code",
   "execution_count": 56,
   "metadata": {
    "collapsed": true,
    "scrolled": false
   },
   "outputs": [],
   "source": [
    "# create a new object to sort filtered DF by DESC\n",
    "bbb_samplesDF_filter_sort = bbb_samplesDF_filter.sort_values(by=sample_random, ascending=False)"
   ]
  },
  {
   "cell_type": "code",
   "execution_count": 57,
   "metadata": {},
   "outputs": [
    {
     "data": {
      "text/html": [
       "<div>\n",
       "<style>\n",
       "    .dataframe thead tr:only-child th {\n",
       "        text-align: right;\n",
       "    }\n",
       "\n",
       "    .dataframe thead th {\n",
       "        text-align: left;\n",
       "    }\n",
       "\n",
       "    .dataframe tbody tr th {\n",
       "        vertical-align: top;\n",
       "    }\n",
       "</style>\n",
       "<table border=\"1\" class=\"dataframe\">\n",
       "  <thead>\n",
       "    <tr style=\"text-align: right;\">\n",
       "      <th></th>\n",
       "      <th>BB_1293</th>\n",
       "      <th>otu_id</th>\n",
       "    </tr>\n",
       "  </thead>\n",
       "  <tbody>\n",
       "    <tr>\n",
       "      <th>3642</th>\n",
       "      <td>128</td>\n",
       "      <td>3643</td>\n",
       "    </tr>\n",
       "    <tr>\n",
       "      <th>1166</th>\n",
       "      <td>101</td>\n",
       "      <td>1167</td>\n",
       "    </tr>\n",
       "    <tr>\n",
       "      <th>40</th>\n",
       "      <td>89</td>\n",
       "      <td>41</td>\n",
       "    </tr>\n",
       "    <tr>\n",
       "      <th>2858</th>\n",
       "      <td>39</td>\n",
       "      <td>2859</td>\n",
       "    </tr>\n",
       "    <tr>\n",
       "      <th>1168</th>\n",
       "      <td>39</td>\n",
       "      <td>1169</td>\n",
       "    </tr>\n",
       "  </tbody>\n",
       "</table>\n",
       "</div>"
      ],
      "text/plain": [
       "      BB_1293  otu_id\n",
       "3642      128    3643\n",
       "1166      101    1167\n",
       "40         89      41\n",
       "2858       39    2859\n",
       "1168       39    1169"
      ]
     },
     "execution_count": 57,
     "metadata": {},
     "output_type": "execute_result"
    }
   ],
   "source": [
    "# *****do not copy into app.py*****\n",
    "bbb_samplesDF_filter_sort.head()"
   ]
  },
  {
   "cell_type": "code",
   "execution_count": 58,
   "metadata": {},
   "outputs": [
    {
     "data": {
      "text/html": [
       "<div>\n",
       "<style>\n",
       "    .dataframe thead tr:only-child th {\n",
       "        text-align: right;\n",
       "    }\n",
       "\n",
       "    .dataframe thead th {\n",
       "        text-align: left;\n",
       "    }\n",
       "\n",
       "    .dataframe tbody tr th {\n",
       "        vertical-align: top;\n",
       "    }\n",
       "</style>\n",
       "<table border=\"1\" class=\"dataframe\">\n",
       "  <thead>\n",
       "    <tr style=\"text-align: right;\">\n",
       "      <th></th>\n",
       "      <th>BB_1293</th>\n",
       "      <th>otu_id</th>\n",
       "    </tr>\n",
       "  </thead>\n",
       "  <tbody>\n",
       "    <tr>\n",
       "      <th>3642</th>\n",
       "      <td>128.0</td>\n",
       "      <td>3643</td>\n",
       "    </tr>\n",
       "    <tr>\n",
       "      <th>1166</th>\n",
       "      <td>101.0</td>\n",
       "      <td>1167</td>\n",
       "    </tr>\n",
       "    <tr>\n",
       "      <th>40</th>\n",
       "      <td>89.0</td>\n",
       "      <td>41</td>\n",
       "    </tr>\n",
       "    <tr>\n",
       "      <th>2858</th>\n",
       "      <td>39.0</td>\n",
       "      <td>2859</td>\n",
       "    </tr>\n",
       "    <tr>\n",
       "      <th>1168</th>\n",
       "      <td>39.0</td>\n",
       "      <td>1169</td>\n",
       "    </tr>\n",
       "  </tbody>\n",
       "</table>\n",
       "</div>"
      ],
      "text/plain": [
       "      BB_1293  otu_id\n",
       "3642    128.0    3643\n",
       "1166    101.0    1167\n",
       "40       89.0      41\n",
       "2858     39.0    2859\n",
       "1168     39.0    1169"
      ]
     },
     "execution_count": 58,
     "metadata": {},
     "output_type": "execute_result"
    }
   ],
   "source": [
    "# create df object to sort > 0\n",
    "bbb_sampleDF_nan1 = bbb_samplesDF_filter_sort[bbb_samplesDF_filter_sort > 0]\n",
    "# drops null\n",
    "bbb_sampleDF_nan2 = bbb_sampleDF_nan1.dropna()\n",
    "\n",
    "# *****do not copy into app.py*****\n",
    "bbb_sampleDF_nan2.head()"
   ]
  },
  {
   "cell_type": "code",
   "execution_count": 61,
   "metadata": {},
   "outputs": [],
   "source": [
    "# this takes the sample_random col or the SAMPLEID col and stores it into a list\n",
    "sample_val = bbb_sampleDF_nan2[sample_random].tolist()\n",
    "\n",
    "# *****do not copy into app.py*****\n",
    "# sample_val"
   ]
  },
  {
   "cell_type": "code",
   "execution_count": 64,
   "metadata": {},
   "outputs": [],
   "source": [
    "# stores the otu_id col into a list\n",
    "otu_ids = bbb_sampleDF_nan2['otu_id'].tolist()\n",
    "\n",
    "# *****do not copy into app.py*****\n",
    "# otu_ids"
   ]
  },
  {
   "cell_type": "code",
   "execution_count": 65,
   "metadata": {
    "collapsed": true
   },
   "outputs": [],
   "source": [
    "# create a dictionary stored in a list\n",
    "otu_samp_dict = [{'otu_ids': otu_ids, 'sample_values': sample_val}]"
   ]
  },
  {
   "cell_type": "code",
   "execution_count": 66,
   "metadata": {
    "scrolled": false
   },
   "outputs": [
    {
     "data": {
      "text/plain": [
       "[{'otu_ids': [3643,\n",
       "   1167,\n",
       "   41,\n",
       "   2859,\n",
       "   1169,\n",
       "   854,\n",
       "   2539,\n",
       "   352,\n",
       "   1977,\n",
       "   2011,\n",
       "   728,\n",
       "   830,\n",
       "   307,\n",
       "   2419,\n",
       "   1208,\n",
       "   944,\n",
       "   1189,\n",
       "   2985,\n",
       "   1314,\n",
       "   3450,\n",
       "   482,\n",
       "   922,\n",
       "   296,\n",
       "   1286,\n",
       "   2722,\n",
       "   2964,\n",
       "   408,\n",
       "   874,\n",
       "   1326,\n",
       "   454,\n",
       "   2191,\n",
       "   258,\n",
       "   2244,\n",
       "   1870,\n",
       "   1197,\n",
       "   1795,\n",
       "   3636,\n",
       "   180,\n",
       "   909,\n",
       "   84,\n",
       "   2389,\n",
       "   2571,\n",
       "   2782,\n",
       "   2648,\n",
       "   1244,\n",
       "   2883,\n",
       "   2184,\n",
       "   2266,\n",
       "   2666,\n",
       "   121,\n",
       "   833,\n",
       "   841,\n",
       "   502,\n",
       "   2167,\n",
       "   943,\n",
       "   2461,\n",
       "   1876,\n",
       "   92,\n",
       "   2664,\n",
       "   99,\n",
       "   377,\n",
       "   963,\n",
       "   1335,\n",
       "   2662,\n",
       "   2333,\n",
       "   1174,\n",
       "   1232,\n",
       "   2275,\n",
       "   1172,\n",
       "   2412,\n",
       "   1882,\n",
       "   1137,\n",
       "   2264,\n",
       "   530,\n",
       "   3541,\n",
       "   2870,\n",
       "   158,\n",
       "   1086,\n",
       "   233,\n",
       "   2866,\n",
       "   2873,\n",
       "   350,\n",
       "   2874,\n",
       "   144,\n",
       "   2255,\n",
       "   2558,\n",
       "   2762,\n",
       "   165,\n",
       "   3104,\n",
       "   670,\n",
       "   2565,\n",
       "   1141,\n",
       "   130,\n",
       "   2551,\n",
       "   2073,\n",
       "   2680,\n",
       "   1302,\n",
       "   2820,\n",
       "   3625,\n",
       "   189,\n",
       "   1261,\n",
       "   1929,\n",
       "   1283,\n",
       "   1926,\n",
       "   3650,\n",
       "   2594,\n",
       "   2711,\n",
       "   1200,\n",
       "   2378,\n",
       "   813,\n",
       "   2375,\n",
       "   3004,\n",
       "   1114,\n",
       "   1204,\n",
       "   490,\n",
       "   1839,\n",
       "   3647,\n",
       "   2145,\n",
       "   3642,\n",
       "   2308,\n",
       "   67,\n",
       "   1354,\n",
       "   1264,\n",
       "   1951,\n",
       "   1575,\n",
       "   2169,\n",
       "   15,\n",
       "   2121,\n",
       "   2396,\n",
       "   183,\n",
       "   1185,\n",
       "   391,\n",
       "   390,\n",
       "   814,\n",
       "   2803,\n",
       "   2754],\n",
       "  'sample_values': [128.0,\n",
       "   101.0,\n",
       "   89.0,\n",
       "   39.0,\n",
       "   39.0,\n",
       "   36.0,\n",
       "   35.0,\n",
       "   31.0,\n",
       "   27.0,\n",
       "   27.0,\n",
       "   23.0,\n",
       "   21.0,\n",
       "   20.0,\n",
       "   18.0,\n",
       "   18.0,\n",
       "   17.0,\n",
       "   14.0,\n",
       "   13.0,\n",
       "   13.0,\n",
       "   11.0,\n",
       "   11.0,\n",
       "   10.0,\n",
       "   9.0,\n",
       "   9.0,\n",
       "   8.0,\n",
       "   6.0,\n",
       "   5.0,\n",
       "   5.0,\n",
       "   5.0,\n",
       "   5.0,\n",
       "   5.0,\n",
       "   5.0,\n",
       "   4.0,\n",
       "   4.0,\n",
       "   4.0,\n",
       "   4.0,\n",
       "   4.0,\n",
       "   3.0,\n",
       "   3.0,\n",
       "   3.0,\n",
       "   3.0,\n",
       "   3.0,\n",
       "   3.0,\n",
       "   3.0,\n",
       "   3.0,\n",
       "   3.0,\n",
       "   2.0,\n",
       "   2.0,\n",
       "   2.0,\n",
       "   2.0,\n",
       "   2.0,\n",
       "   2.0,\n",
       "   2.0,\n",
       "   2.0,\n",
       "   2.0,\n",
       "   2.0,\n",
       "   2.0,\n",
       "   2.0,\n",
       "   1.0,\n",
       "   1.0,\n",
       "   1.0,\n",
       "   1.0,\n",
       "   1.0,\n",
       "   1.0,\n",
       "   1.0,\n",
       "   1.0,\n",
       "   1.0,\n",
       "   1.0,\n",
       "   1.0,\n",
       "   1.0,\n",
       "   1.0,\n",
       "   1.0,\n",
       "   1.0,\n",
       "   1.0,\n",
       "   1.0,\n",
       "   1.0,\n",
       "   1.0,\n",
       "   1.0,\n",
       "   1.0,\n",
       "   1.0,\n",
       "   1.0,\n",
       "   1.0,\n",
       "   1.0,\n",
       "   1.0,\n",
       "   1.0,\n",
       "   1.0,\n",
       "   1.0,\n",
       "   1.0,\n",
       "   1.0,\n",
       "   1.0,\n",
       "   1.0,\n",
       "   1.0,\n",
       "   1.0,\n",
       "   1.0,\n",
       "   1.0,\n",
       "   1.0,\n",
       "   1.0,\n",
       "   1.0,\n",
       "   1.0,\n",
       "   1.0,\n",
       "   1.0,\n",
       "   1.0,\n",
       "   1.0,\n",
       "   1.0,\n",
       "   1.0,\n",
       "   1.0,\n",
       "   1.0,\n",
       "   1.0,\n",
       "   1.0,\n",
       "   1.0,\n",
       "   1.0,\n",
       "   1.0,\n",
       "   1.0,\n",
       "   1.0,\n",
       "   1.0,\n",
       "   1.0,\n",
       "   1.0,\n",
       "   1.0,\n",
       "   1.0,\n",
       "   1.0,\n",
       "   1.0,\n",
       "   1.0,\n",
       "   1.0,\n",
       "   1.0,\n",
       "   1.0,\n",
       "   1.0,\n",
       "   1.0,\n",
       "   1.0,\n",
       "   1.0,\n",
       "   1.0,\n",
       "   1.0,\n",
       "   1.0,\n",
       "   1.0,\n",
       "   1.0,\n",
       "   1.0,\n",
       "   1.0]}]"
      ]
     },
     "execution_count": 66,
     "metadata": {},
     "output_type": "execute_result"
    }
   ],
   "source": [
    "otu_samp_dict"
   ]
  },
  {
   "cell_type": "code",
   "execution_count": null,
   "metadata": {
    "collapsed": true
   },
   "outputs": [],
   "source": []
  }
 ],
 "metadata": {
  "kernelspec": {
   "display_name": "Python 3",
   "language": "python",
   "name": "python3"
  },
  "language_info": {
   "codemirror_mode": {
    "name": "ipython",
    "version": 3
   },
   "file_extension": ".py",
   "mimetype": "text/x-python",
   "name": "python",
   "nbconvert_exporter": "python",
   "pygments_lexer": "ipython3",
   "version": "3.6.4"
  }
 },
 "nbformat": 4,
 "nbformat_minor": 2
}
