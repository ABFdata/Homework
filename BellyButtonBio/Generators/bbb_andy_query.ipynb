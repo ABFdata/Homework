{
 "cells": [
  {
   "cell_type": "code",
   "execution_count": 72,
   "metadata": {},
   "outputs": [
    {
     "name": "stdout",
     "output_type": "stream",
     "text": [
      "height has been deprecated.\n",
      "\n"
     ]
    }
   ],
   "source": [
    "# import dependencies \n",
    "import pandas as pd\n",
    "import numpy as np\n",
    "import matplotlib.pyplot as plt\n",
    "%matplotlib inline\n",
    "import seaborn as sns\n",
    "import warnings\n",
    "warnings.filterwarnings('ignore')\n",
    "pd.set_option('display.height', 1000)\n",
    "pd.set_option('display.max_rows', 100)\n",
    "pd.set_option('display.max_columns', 100)\n",
    "pd.set_option('display.width', 1000)\n",
    "\n",
    "# display multiple print results on one line\n",
    "from IPython.core.interactiveshell import InteractiveShell\n",
    "InteractiveShell.ast_node_interactivity = \"all\"\n",
    "\n",
    "# expands .describe with more info about the data set\n",
    "import pandas_profiling\n",
    "\n",
    "# sqlalchemy dependencies\n",
    "import sqlalchemy\n",
    "from sqlalchemy.ext.automap import automap_base\n",
    "from sqlalchemy.orm import Session\n",
    "from sqlalchemy import create_engine\n",
    "from sqlalchemy import func\n",
    "from sqlalchemy import inspect\n",
    "\n",
    "from sqlalchemy.ext.declarative import declarative_base\n",
    "from sqlalchemy import Column, Integer, String, Float, Text\n",
    "\n",
    "# PyMySQL \n",
    "import pymysql\n",
    "pymysql.install_as_MySQLdb()\n",
    "\n",
    "# flask \n",
    "from flask import Flask, jsonify"
   ]
  },
  {
   "cell_type": "code",
   "execution_count": 2,
   "metadata": {
    "collapsed": true
   },
   "outputs": [],
   "source": [
    "# Use SQLAlchemy create_engine to connect to database\n",
    "engine = create_engine(\"sqlite:///bbb.sqlite\")\n",
    "conn = engine.connect()"
   ]
  },
  {
   "cell_type": "code",
   "execution_count": 4,
   "metadata": {},
   "outputs": [],
   "source": [
    "# use SQLAlchemy automap_base() to reflect tables into classes and save references\n",
    "# called sample_names, otu_des, sample_meta, frequency\n",
    "Base = automap_base()"
   ]
  },
  {
   "cell_type": "code",
   "execution_count": 5,
   "metadata": {
    "collapsed": true
   },
   "outputs": [],
   "source": [
    "# use the base class to reflect the database tables\n",
    "Base.prepare(engine, reflect=True)"
   ]
  },
  {
   "cell_type": "code",
   "execution_count": 6,
   "metadata": {},
   "outputs": [
    {
     "data": {
      "text/plain": [
       "['otu', 'samples', 'samples_metadata']"
      ]
     },
     "execution_count": 6,
     "metadata": {},
     "output_type": "execute_result"
    }
   ],
   "source": [
    "Base.classes.keys()"
   ]
  },
  {
   "cell_type": "code",
   "execution_count": 10,
   "metadata": {},
   "outputs": [],
   "source": [
    "# assign classes to variables\n",
    "sample_names = Base.classes.samples\n",
    "otu_des = Base.classes.otu\n",
    "sample_meta = Base.classes.samples_metadata"
   ]
  },
  {
   "cell_type": "code",
   "execution_count": 11,
   "metadata": {
    "collapsed": true
   },
   "outputs": [],
   "source": [
    "# create a session\n",
    "# a session means that you want to do something to your data\n",
    "session = Session(engine)"
   ]
  },
  {
   "cell_type": "code",
   "execution_count": 33,
   "metadata": {},
   "outputs": [],
   "source": [
    "inspector = inspect(engine)"
   ]
  },
  {
   "cell_type": "code",
   "execution_count": 35,
   "metadata": {},
   "outputs": [
    {
     "name": "stdout",
     "output_type": "stream",
     "text": [
      "['otu', 'samples', 'samples_metadata']\n"
     ]
    }
   ],
   "source": [
    "# get table information\n",
    "print (inspector.get_table_names())"
   ]
  },
  {
   "cell_type": "code",
   "execution_count": 48,
   "metadata": {
    "scrolled": false
   },
   "outputs": [],
   "source": [
    "# get col names for samples and stores in a tuple within a list\n",
    "sample_name_col = inspector.get_columns('samples')"
   ]
  },
  {
   "cell_type": "code",
   "execution_count": 61,
   "metadata": {
    "scrolled": false
   },
   "outputs": [],
   "source": [
    "# prints list of sample names\n",
    "sample_names_list = [item[\"name\"] for item in sample_name_col]\n",
    "del sample_names_list[0]"
   ]
  },
  {
   "cell_type": "code",
   "execution_count": 63,
   "metadata": {},
   "outputs": [],
   "source": [
    "# prints list of sample_names\n",
    "# sample_names_list"
   ]
  },
  {
   "cell_type": "code",
   "execution_count": 68,
   "metadata": {},
   "outputs": [],
   "source": [
    "# return list of OTU descriptions\n",
    "otu_results = session.query(otu_des.lowest_taxonomic_unit_found).all()\n",
    "\n",
    "# stores otu results as a list\n",
    "otu_results_list = list(np.ravel(otu_results))"
   ]
  },
  {
   "cell_type": "code",
   "execution_count": 78,
   "metadata": {
    "collapsed": true
   },
   "outputs": [],
   "source": [
    "# read Belly_Button_Biodiversity_Metadata\n",
    "bbb_meta_df = pd.read_csv('Belly_Button_Biodiversity_Metadata.csv')"
   ]
  },
  {
   "cell_type": "code",
   "execution_count": 79,
   "metadata": {},
   "outputs": [
    {
     "data": {
      "text/html": [
       "<div>\n",
       "<style>\n",
       "    .dataframe thead tr:only-child th {\n",
       "        text-align: right;\n",
       "    }\n",
       "\n",
       "    .dataframe thead th {\n",
       "        text-align: left;\n",
       "    }\n",
       "\n",
       "    .dataframe tbody tr th {\n",
       "        vertical-align: top;\n",
       "    }\n",
       "</style>\n",
       "<table border=\"1\" class=\"dataframe\">\n",
       "  <thead>\n",
       "    <tr style=\"text-align: right;\">\n",
       "      <th></th>\n",
       "      <th>SAMPLEID</th>\n",
       "      <th>EVENT</th>\n",
       "      <th>ETHNICITY</th>\n",
       "      <th>GENDER</th>\n",
       "      <th>AGE</th>\n",
       "      <th>WFREQ</th>\n",
       "      <th>BBTYPE</th>\n",
       "      <th>LOCATION</th>\n",
       "      <th>COUNTRY012</th>\n",
       "      <th>ZIP012</th>\n",
       "      <th>COUNTRY1319</th>\n",
       "      <th>ZIP1319</th>\n",
       "      <th>DOG</th>\n",
       "      <th>CAT</th>\n",
       "      <th>IMPSURFACE013</th>\n",
       "      <th>NPP013</th>\n",
       "      <th>MMAXTEMP013</th>\n",
       "      <th>PFC013</th>\n",
       "      <th>IMPSURFACE1319</th>\n",
       "      <th>NPP1319</th>\n",
       "      <th>MMAXTEMP1319</th>\n",
       "      <th>PFC1319</th>\n",
       "    </tr>\n",
       "  </thead>\n",
       "  <tbody>\n",
       "    <tr>\n",
       "      <th>0</th>\n",
       "      <td>940</td>\n",
       "      <td>BellyButtonsScienceOnline</td>\n",
       "      <td>Caucasian</td>\n",
       "      <td>F</td>\n",
       "      <td>24.0</td>\n",
       "      <td>2.0</td>\n",
       "      <td>I</td>\n",
       "      <td>Beaufort/NC</td>\n",
       "      <td>usa</td>\n",
       "      <td>22306</td>\n",
       "      <td>usa</td>\n",
       "      <td>22306</td>\n",
       "      <td>no</td>\n",
       "      <td>no</td>\n",
       "      <td>8852.0</td>\n",
       "      <td>37.172222</td>\n",
       "      <td>54.5</td>\n",
       "      <td>NaN</td>\n",
       "      <td>1</td>\n",
       "      <td>NaN</td>\n",
       "      <td>33.990002</td>\n",
       "      <td>25.5</td>\n",
       "    </tr>\n",
       "    <tr>\n",
       "      <th>1</th>\n",
       "      <td>941</td>\n",
       "      <td>NaN</td>\n",
       "      <td>Caucasian/Midleastern</td>\n",
       "      <td>F</td>\n",
       "      <td>34.0</td>\n",
       "      <td>1.0</td>\n",
       "      <td>I</td>\n",
       "      <td>Chicago/IL</td>\n",
       "      <td>NaN</td>\n",
       "      <td>NaN</td>\n",
       "      <td>NaN</td>\n",
       "      <td>NaN</td>\n",
       "      <td>NaN</td>\n",
       "      <td>NaN</td>\n",
       "      <td>NaN</td>\n",
       "      <td>NaN</td>\n",
       "      <td>NaN</td>\n",
       "      <td>NaN</td>\n",
       "      <td>NaN</td>\n",
       "      <td>NaN</td>\n",
       "      <td>NaN</td>\n",
       "      <td>NaN</td>\n",
       "    </tr>\n",
       "    <tr>\n",
       "      <th>2</th>\n",
       "      <td>943</td>\n",
       "      <td>BellyButtonsScienceOnline</td>\n",
       "      <td>Caucasian</td>\n",
       "      <td>F</td>\n",
       "      <td>49.0</td>\n",
       "      <td>1.0</td>\n",
       "      <td>I</td>\n",
       "      <td>Omaha/NE</td>\n",
       "      <td>NaN</td>\n",
       "      <td>NaN</td>\n",
       "      <td>NaN</td>\n",
       "      <td>NaN</td>\n",
       "      <td>NaN</td>\n",
       "      <td>NaN</td>\n",
       "      <td>NaN</td>\n",
       "      <td>NaN</td>\n",
       "      <td>NaN</td>\n",
       "      <td>NaN</td>\n",
       "      <td>NaN</td>\n",
       "      <td>NaN</td>\n",
       "      <td>NaN</td>\n",
       "      <td>NaN</td>\n",
       "    </tr>\n",
       "    <tr>\n",
       "      <th>3</th>\n",
       "      <td>944</td>\n",
       "      <td>BellyButtonsScienceOnline</td>\n",
       "      <td>European</td>\n",
       "      <td>M</td>\n",
       "      <td>44.0</td>\n",
       "      <td>1.0</td>\n",
       "      <td>I</td>\n",
       "      <td>NewHaven/CT</td>\n",
       "      <td>usa</td>\n",
       "      <td>7079</td>\n",
       "      <td>usa</td>\n",
       "      <td>8822</td>\n",
       "      <td>no</td>\n",
       "      <td>yes</td>\n",
       "      <td>NaN</td>\n",
       "      <td>35.816666</td>\n",
       "      <td>16.0</td>\n",
       "      <td>NaN</td>\n",
       "      <td>0</td>\n",
       "      <td>6567.0</td>\n",
       "      <td>32.403332</td>\n",
       "      <td>28.5</td>\n",
       "    </tr>\n",
       "    <tr>\n",
       "      <th>4</th>\n",
       "      <td>945</td>\n",
       "      <td>BellyButtonsScienceOnline</td>\n",
       "      <td>Caucasian</td>\n",
       "      <td>F</td>\n",
       "      <td>48.0</td>\n",
       "      <td>1.0</td>\n",
       "      <td>I</td>\n",
       "      <td>Philidelphia/PA</td>\n",
       "      <td>usa</td>\n",
       "      <td>84404</td>\n",
       "      <td>usa</td>\n",
       "      <td>96025</td>\n",
       "      <td>no</td>\n",
       "      <td>no</td>\n",
       "      <td>NaN</td>\n",
       "      <td>37.783333</td>\n",
       "      <td>4.0</td>\n",
       "      <td>NaN</td>\n",
       "      <td>0</td>\n",
       "      <td>5613.0</td>\n",
       "      <td>33.634445</td>\n",
       "      <td>24.0</td>\n",
       "    </tr>\n",
       "  </tbody>\n",
       "</table>\n",
       "</div>"
      ],
      "text/plain": [
       "   SAMPLEID                      EVENT              ETHNICITY GENDER   AGE  WFREQ BBTYPE         LOCATION COUNTRY012 ZIP012 COUNTRY1319 ZIP1319  DOG  CAT  IMPSURFACE013     NPP013  MMAXTEMP013  PFC013 IMPSURFACE1319  NPP1319  MMAXTEMP1319  PFC1319\n",
       "0       940  BellyButtonsScienceOnline              Caucasian      F  24.0    2.0      I      Beaufort/NC        usa  22306         usa   22306   no   no         8852.0  37.172222         54.5     NaN              1      NaN     33.990002     25.5\n",
       "1       941                        NaN  Caucasian/Midleastern      F  34.0    1.0      I       Chicago/IL        NaN    NaN         NaN     NaN  NaN  NaN            NaN        NaN          NaN     NaN            NaN      NaN           NaN      NaN\n",
       "2       943  BellyButtonsScienceOnline              Caucasian      F  49.0    1.0      I         Omaha/NE        NaN    NaN         NaN     NaN  NaN  NaN            NaN        NaN          NaN     NaN            NaN      NaN           NaN      NaN\n",
       "3       944  BellyButtonsScienceOnline               European      M  44.0    1.0      I      NewHaven/CT        usa   7079         usa    8822   no  yes            NaN  35.816666         16.0     NaN              0   6567.0     32.403332     28.5\n",
       "4       945  BellyButtonsScienceOnline              Caucasian      F  48.0    1.0      I  Philidelphia/PA        usa  84404         usa   96025   no   no            NaN  37.783333          4.0     NaN              0   5613.0     33.634445     24.0"
      ]
     },
     "execution_count": 79,
     "metadata": {},
     "output_type": "execute_result"
    },
    {
     "data": {
      "text/plain": [
       "(153, 22)"
      ]
     },
     "execution_count": 79,
     "metadata": {},
     "output_type": "execute_result"
    }
   ],
   "source": [
    "bbb_meta_df.head()\n",
    "bbb_meta_df.shape"
   ]
  },
  {
   "cell_type": "code",
   "execution_count": 82,
   "metadata": {},
   "outputs": [
    {
     "data": {
      "text/plain": [
       "<bound method NDFrame.to_json of      SAMPLEID                      EVENT              ETHNICITY GENDER   AGE  WFREQ BBTYPE         LOCATION      COUNTRY012         ZIP012 COUNTRY1319        ZIP1319  DOG  CAT  IMPSURFACE013     NPP013  MMAXTEMP013  PFC013 IMPSURFACE1319  NPP1319  MMAXTEMP1319  PFC1319\n",
       "0         940  BellyButtonsScienceOnline              Caucasian      F  24.0    2.0      I      Beaufort/NC             usa          22306         usa          22306   no   no         8852.0  37.172222         54.5     NaN              1      NaN     33.990002     25.5\n",
       "1         941                        NaN  Caucasian/Midleastern      F  34.0    1.0      I       Chicago/IL             NaN            NaN         NaN            NaN  NaN  NaN            NaN        NaN          NaN     NaN            NaN      NaN           NaN      NaN\n",
       "2         943  BellyButtonsScienceOnline              Caucasian      F  49.0    1.0      I         Omaha/NE             NaN            NaN         NaN            NaN  NaN  NaN            NaN        NaN          NaN     NaN            NaN      NaN           NaN      NaN\n",
       "3         944  BellyButtonsScienceOnline               European      M  44.0    1.0      I      NewHaven/CT             usa           7079         usa           8822   no  yes            NaN  35.816666         16.0     NaN              0   6567.0     32.403332     28.5\n",
       "4         945  BellyButtonsScienceOnline              Caucasian      F  48.0    1.0      I  Philidelphia/PA             usa          84404         usa          96025   no   no            NaN  37.783333          4.0     NaN              0   5613.0     33.634445     24.0\n",
       "5         946  BellyButtonsScienceOnline              Caucasian      F  42.0    3.0      I     Deerfield/MA             usa          12538         usa          12538   no  yes            NaN  34.761112         15.5     NaN              0   6273.0     29.403334     67.5\n",
       "6         947  BellyButtonsScienceOnline              Caucasian      M  49.0    6.0      I    ChapelHill/NC             usa          48823         usa          48823   no  yes         7491.0  30.356667         31.0     NaN              0   5357.0     30.881111     16.5\n",
       "7         948  BellyButtonsScienceOnline              Caucasian      M  20.0    NaN      I    ChapelHill/NC             usa          27613         usa          27613   no   no            NaN  53.887779          0.0     NaN             31      NaN     31.730000     22.5\n",
       "8         949  BellyButtonsScienceOnline              Caucasian      F  51.0    3.0      I        Durham/NC             usa           7009         usa           7009   no   no            NaN  35.534443         36.0     NaN              5      NaN     35.534443     36.0\n",
       "9         950  BellyButtonsScienceOnline              Caucasian      M  51.0    5.0      I       NewYork/NY             usa           1730         usa           1730  yes   no         6273.0  29.403334         67.5     NaN              0      NaN     30.481112     33.0\n",
       "10        952  BellyButtonsScienceOnline              Caucasian      F  51.0    7.0      I       Seattle/WA             NaN            NaN         NaN            NaN  NaN  NaN            NaN        NaN          NaN     NaN            NaN      NaN           NaN      NaN\n",
       "11        953  BellyButtonsScienceOnline              Caucasian      F  38.0    2.0      I       Chicago/IL             NaN            NaN         NaN            NaN  NaN  NaN            NaN        NaN          NaN     NaN            NaN      NaN           NaN      NaN\n",
       "12        954  BellyButtonsScienceOnline              Caucasian      M  26.0    7.0      I       NewYork/NY             usa          45429         usa          45458  NaN  NaN         6919.0  34.007778         34.5     NaN             21   6074.0     34.263332     14.5\n",
       "13        955  BellyButtonsScienceOnline              Caucasian      F  27.0    7.0      I       NewYork/NY             NaN            NaN         NaN            NaN  NaN  NaN            NaN        NaN          NaN     NaN            NaN      NaN           NaN      NaN\n",
       "14        956  BellyButtonsScienceOnline              Caucasian      M  16.0    7.0      I  Jacksonville/NC             NaN            NaN         NaN            NaN  NaN  NaN            NaN        NaN          NaN     NaN            NaN      NaN           NaN      NaN\n",
       "15        958  BellyButtonsScienceOnline              Caucasian      M  43.0    5.0      I    Wilmington/NC             NaN            NaN         NaN            NaN  NaN  NaN            NaN        NaN          NaN     NaN            NaN      NaN           NaN      NaN\n",
       "16        959  BellyButtonsScienceOnline              Caucasian      M  40.0    5.0      I      Carrboro/NC             usa          93605         usa          60115   no   no         7431.0  30.583334         61.5     NaN              1   4066.0     38.145554      1.5\n",
       "17        960  BellyButtonsScienceOnline              Caucasian      M  48.0    7.0      I     Lexington/NC             NaN            NaN         NaN            NaN  NaN  NaN            NaN        NaN          NaN     NaN            NaN      NaN           NaN      NaN\n",
       "18        961  BellyButtonsScienceOnline              Caucasian      F  35.0    4.0      i      Edmonton,AB          canada         K7V3Z4      canada         K7V3Z4  yes   no         6962.0  33.805557         15.0     NaN           'NA'   5104.0     29.576666     22.0\n",
       "19        962  BellyButtonsScienceOnline              Caucasian      F  56.0    1.0      i    Washington,DC             usa          60514         usa          60514   no   no         7281.0  29.954445         37.5     NaN             23      NaN     37.207779     18.0\n",
       "20        963  BellyButtonsScienceOnline              Caucasian      F  33.0    3.5      I        Ithaca/NY             usa          45238         usa          45233   no   no         5363.0  32.650002         48.5     NaN              4   6420.0     33.336666     18.5\n",
       "21        964  BellyButtonsScienceOnline              Caucasian      F  43.0    7.0      I        UK/London             NaN            NaN         NaN            NaN  NaN  NaN            NaN        NaN          NaN     NaN            NaN      NaN           NaN      NaN\n",
       "22        966  BellyButtonsScienceOnline              Caucasian      M  56.0    0.0      I       Needham/MA             usa           7924         usa           7924   no   no         4016.0  33.274445         64.0     NaN              6   6762.0     31.692223     65.0\n",
       "23        967  BellyButtonsScienceOnline       Caucasian/Jewish      F  43.0    1.0      I    ChapelHill/NC             NaN            NaN         NaN            NaN  NaN  NaN            NaN        NaN          NaN     NaN            NaN      NaN           NaN      NaN\n",
       "24        968  BellyButtonsScienceOnline              Caucasian      F  38.0    6.0      I      St.Louis/MI             NaN            NaN         NaN            NaN  NaN  NaN            NaN        NaN          NaN     NaN            NaN      NaN           NaN      NaN\n",
       "25        969  BellyButtonsScienceOnline        Caucasian/Asian      F  31.0    7.0      I    ChevyChase/MD             usa           7071         usa           7071   no   no            NaN  30.481112         33.0     NaN              0      NaN     35.778889     27.0\n",
       "26        970  BellyButtonsScienceOnline              Caucasian      F  42.0    0.0      i      SanDiego/CA             NaN            NaN         NaN            NaN  NaN  NaN            NaN        NaN          NaN     NaN            NaN      NaN           NaN      NaN\n",
       "27        971  BellyButtonsScienceOnline           Asian(South)      M  36.0    1.0      I  SantaBarbara/CA             usa          10533         usa          10533   no   no            NaN  37.207779         18.0     NaN             70   5961.0     30.556667     23.5\n",
       "28        972  BellyButtonsScienceOnline              Caucasian      F  31.0    7.0      I     Charlotte/NC             usa          55987         usa          55987  yes   no            NaN        NaN          9.0     NaN              0   4949.0     29.612223     57.0\n",
       "29        973  BellyButtonsScienceOnline              Caucasian      F   4.0    1.0      I     Charlotte/NC             usa          28269         n/a            n/a  yes   no         9523.0  27.645556         63.0     NaN            NaN      NaN           NaN      NaN\n",
       "30        974  BellyButtonsScienceOnline              Caucasian      F  57.0    NaN      I       Raleigh/NC             usa          14905         usa          14095   no   no         4949.0  29.612223         57.0     NaN             74      NaN     31.567778     14.0\n",
       "31        975  BellyButtonsScienceOnline              Caucasian      F  60.0    3.0      I     NewCanaan/CT             usa          84404         usa          96035   no   no            NaN  34.541111         11.0     NaN              0   6176.0     46.392223      4.5\n",
       "32        978      BellyButtonsDarwinDay               Hispanic      F  21.0    NaN    NaN        Durham/NC             NaN            NaN         NaN            NaN  NaN  NaN            NaN        NaN          NaN     NaN            NaN      NaN           NaN      NaN\n",
       "33       1233    BellyButtonsMuseumStaff              Caucasian      M  34.0    0.0      I              NaN             usa          97374         usa          97374   no   no            NaN        NaN          NaN     NaN              0   8852.0     37.172222     54.5\n",
       "34       1234    BellyButtonsMuseumStaff              Caucasian      F   NaN    NaN      I              NaN             usa          13209         usa          28472  yes   no         5961.0  30.556667         23.5     NaN              0   6526.0     31.936666     55.0\n",
       "35       1235    BellyButtonsMuseumStaff              Caucasian      F  43.0    0.0    NaN              NaN             usa          12603         usa          27615   no  yes         6762.0  31.692223         65.0     NaN             25      NaN     34.334446     20.0\n",
       "36       1236    BellyButtonsMuseumStaff              Caucasian      F  54.0    6.0    NaN              NaN             usa          28054         usa          28054   no   no            NaN  34.941113         10.0     NaN             69      NaN     35.196667     11.0\n",
       "37       1237        BellyButtonsMuseum2              Caucasian      F   9.0    2.0      i    ChapelHill,NC             usa          27517         n/a            n/a  yes   no         6832.0  29.581112         45.0     NaN            NaN      NaN           NaN      NaN\n",
       "38       1238        BellyButtonsMuseum2              Caucasian      F  41.0    0.0      i       Raleigh,NC             usa          27834         usa          21210  yes  yes            NaN  35.327778         12.0     NaN             36      NaN     35.481110     18.0\n",
       "39       1242        BellyButtonsMuseum2              Caucasian      F  44.0    1.0      i       Raleigh,NC             NaN            NaN         NaN            NaN  NaN  NaN            NaN        NaN          NaN     NaN            NaN      NaN           NaN      NaN\n",
       "40       1243        BellyButtonsMuseum2              Caucasian      M  49.0    NaN      i       Raleigh,NC             NaN            NaN         NaN            NaN  NaN  NaN            NaN        NaN          NaN     NaN            NaN      NaN           NaN      NaN\n",
       "41       1246        BellyButtonsMuseum2              Caucasian      F   2.0    7.0    NaN       Atlanta,GA             usa          30076          na             na  yes   no         7949.0  26.730000         76.5     NaN            NaN      NaN           NaN      NaN\n",
       "42       1253        BellyButtonsMuseum2              Caucasian      M  24.0    5.0      i          Voss,NC             NaN            NaN         NaN            NaN  NaN  NaN            NaN        NaN          NaN     NaN            NaN      NaN           NaN      NaN\n",
       "43       1254        BellyButtonsMuseum2              Caucasian      F   1.0    5.0      o          Voss,NC             NaN            NaN         NaN            NaN  NaN  NaN            NaN        NaN          NaN     NaN            NaN      NaN           NaN      NaN\n",
       "44       1258        BellyButtonsMuseum2              Caucasian      f  31.0    7.0      i    Smithfield,NC             NaN            NaN         NaN            NaN  NaN  NaN            NaN        NaN          NaN     NaN            NaN      NaN           NaN      NaN\n",
       "45       1259        BellyButtonsMuseum2              Caucasian      m  33.0    7.0    NaN    Smithfield,NC             NaN            NaN         NaN            NaN  NaN  NaN            NaN        NaN          NaN     NaN            NaN      NaN           NaN      NaN\n",
       "46       1260        BellyButtonsMuseum2              Caucasian      m  10.0    7.0    NaN    Smithfield,NC             NaN            NaN         NaN            NaN  NaN  NaN            NaN        NaN          NaN     NaN            NaN      NaN           NaN      NaN\n",
       "47       1264        BellyButtonsMuseum2              Caucasian      m  46.0    0.0      i       Raleigh,NC             usa           1066         usa           1066  yes  yes            NaN  33.990002         25.5     NaN              5   6115.0     29.794445     31.5\n",
       "48       1265        BellyButtonsMuseum2              Caucasian      f  10.0    0.0      i       Raleigh,NC             usa          27615         n/a            n/a  yes  yes            NaN  34.541111         31.5     NaN            NaN      NaN           NaN      NaN\n",
       "49       1273    BellyButtonsMuseumStaff              Caucasian      M  60.0    3.0      I              NaN             usa          98022         usa          98022   no   no            NaN  39.676666          9.5     NaN              0   6687.0     26.361111     73.5\n",
       "..        ...                        ...                    ...    ...   ...    ...    ...              ...             ...            ...         ...            ...  ...  ...            ...        ...          ...     ...            ...      ...           ...      ...\n",
       "103      1513      BellyButtonsWildLives              Caucasian      M  15.0    0.0      I               NC             NaN            NaN         NaN            NaN  NaN  NaN            NaN        NaN          NaN     NaN            NaN      NaN           NaN      NaN\n",
       "104      1514      BellyButtonsWildLives              Caucasian      F   3.0    7.0      o               NC             NaN            NaN         NaN            NaN  NaN  NaN            NaN        NaN          NaN     NaN            NaN      NaN           NaN      NaN\n",
       "105      1515      BellyButtonsWildLives              Caucasian      F  51.0    1.0      I               NC             NaN            NaN         NaN            NaN  NaN  NaN            NaN        NaN          NaN     NaN            NaN      NaN           NaN      NaN\n",
       "106      1516      BellyButtonsWildLives              Caucasian      M  57.0    0.0      I               NC             usa           2154         usa           2154  yes  yes         5357.0  30.881111         16.5     NaN           'NA'   5025.0     37.114445      7.5\n",
       "107      1517      BellyButtonsWildLives              Caucasian      M  27.0    0.0      I               NC             usa          28773         usa          28773   no   no         5673.0  29.767778         30.5     NaN              0   7094.0     29.416666     73.5\n",
       "108      1518      BellyButtonsWildLives              Caucasian      F  25.0    0.0      I               GA             NaN            NaN         NaN            NaN  NaN  NaN            NaN        NaN          NaN     NaN            NaN      NaN           NaN      NaN\n",
       "109      1519      BellyButtonsWildLives              Caucasian      F  25.0    0.0      I               NC             usa          45247         usa          45247  yes   no         6427.0  32.936668         11.5     NaN              0   5363.0     32.650002     48.5\n",
       "110      1521      BellyButtonsWildLives              Caucasian      F  10.0    0.0      I               NC             usa          27608         n/a            n/a  yes  yes         6687.0  26.361111         73.5     NaN            NaN      NaN           NaN      NaN\n",
       "111      1524      BellyButtonsWildLives              Caucasian      M  14.0    4.0      I               NC             NaN            NaN         NaN            NaN  NaN  NaN            NaN        NaN          NaN     NaN            NaN      NaN           NaN      NaN\n",
       "112      1526      BellyButtonsWildLives              Caucasian      M   6.0    7.0      I               NC  usa&newzealand       Seenotes         n/a            n/a   no   no            NaN        NaN          NaN     NaN            NaN      NaN           NaN      NaN\n",
       "113      1527      BellyButtonsWildLives              Caucasian      F  34.0    7.0      I               NC             usa          27804         usa          27804   no   no            NaN  34.107777         26.5     NaN              0   6427.0     32.936668     11.5\n",
       "114      1530      BellyButtonsWildLives              Caucasian      F  54.0    1.0      I               NC             usa          28358         usa          28358  yes  yes         4959.0  31.814444         22.5     NaN              0   6919.0     34.007778     34.5\n",
       "115      1531      BellyButtonsWildLives              Caucasian      M  39.0    2.0      I               NC             usa          33176         usa          29127  yes   no            NaN  32.092220         29.5     NaN              0   5930.0     30.872223     57.0\n",
       "116      1532      BellyButtonsWildLives              Caucasian      F  38.0    0.0      I               NC             NaN            NaN         NaN            NaN  NaN  NaN            NaN        NaN          NaN     NaN            NaN      NaN           NaN      NaN\n",
       "117      1533      BellyButtonsWildLives                  Black      M  37.0    0.0      o               NC             NaN            NaN         NaN            NaN  NaN  NaN            NaN        NaN          NaN     NaN            NaN      NaN           NaN      NaN\n",
       "118      1534      BellyButtonsWildLives              Caucasian      F  42.0    0.0      I               NC             usa          94566         usa          94566  yes   no         6843.0  34.341110         10.0     NaN             15   5081.0     43.458889      4.5\n",
       "119      1535      BellyButtonsWildLives              Caucasian      M  35.0    7.0      I               NC             usa          37620         usa          37620   no   no         5025.0  37.114445          7.5     NaN              0   7491.0     30.356667     31.0\n",
       "120      1536      BellyButtonsWildLives              Caucasian      F  26.0    7.0      I               NC             NaN            NaN         NaN            NaN  NaN  NaN            NaN        NaN          NaN     NaN            NaN      NaN           NaN      NaN\n",
       "121      1537      BellyButtonsWildLives              Caucasian      M  28.0    0.0      I               NC             NaN            NaN         NaN            NaN  NaN  NaN            NaN        NaN          NaN     NaN            NaN      NaN           NaN      NaN\n",
       "122      1539      BellyButtonsWildLives              Caucasian      F  39.0    7.0      I               NC             usa          36201         usa          27505  yes   no         5814.0  31.923334         35.0     NaN              0   6921.0     32.532223     13.5\n",
       "123      1540      BellyButtonsWildLives              Caucasian      M  30.0    0.0      I               NC             NaN            NaN         NaN            NaN  NaN  NaN            NaN        NaN          NaN     NaN            NaN      NaN           NaN      NaN\n",
       "124      1541      BellyButtonsWildLives              Caucasian      F  26.0    0.0      I               NC             NaN            NaN         NaN            NaN  NaN  NaN            NaN        NaN          NaN     NaN            NaN      NaN           NaN      NaN\n",
       "125      1542      BellyButtonsWildLives              Caucasian      M  36.0    NaN      I               NC             usa  37343and37221         usa  37343and37221   no   no            NaN  34.985558         27.0     NaN           'NA'   4826.0     29.438889      6.5\n",
       "126      1543      BellyButtonsWildLives              Caucasian      F  34.0    3.0      I               NC             NaN            NaN         NaN            NaN  NaN  NaN            NaN        NaN          NaN     NaN            NaN      NaN           NaN      NaN\n",
       "127      1544      BellyButtonsWildLives              Caucasian      F  33.0    1.0      I               NC             usa          80106         usa          80106  yes   no         4464.0  33.801109          1.0     NaN              0   2521.0     42.247780      2.0\n",
       "128      1545      BellyButtonsWildLives              Caucasian      F  39.0    7.0      I               NC             usa          92054         usa          17847   no   no         5647.0  29.863333         34.0     NaN              0   5744.0     32.541111     15.0\n",
       "129      1546      BellyButtonsWildLives              Caucasian      M  34.0    3.0      I               NC             usa          13104         usa          13104  yes   no            NaN  35.778889         27.0     NaN              0   7281.0     29.954445     37.5\n",
       "130      1547      BellyButtonsWildLives                    NaN      M  38.0    0.0      I               NC             usa          92014         usa          92014   no   no         7817.0  29.696667         17.5     NaN             36      NaN     36.612221     10.0\n",
       "131      1548      BellyButtonsWildLives              Caucasian      M   6.0    0.0      I               NC             usa          27607         n/a            n/a  yes   no            NaN  35.534443         26.0     NaN            NaN      NaN           NaN      NaN\n",
       "132      1549      BellyButtonsWildLives              Caucasian      F  37.0    3.0      I               NC             usa          28655         usa          27511  yes   no         6940.0  31.681110         51.5     NaN             63      NaN     35.532223      7.5\n",
       "133      1550      BellyButtonsWildLives              Caucasian      F  29.0    7.0      I               NC             usa          55127         usa          55127   no   no         2521.0  42.247780          2.0     NaN              0      NaN     33.192223      NaN\n",
       "134      1551      BellyButtonsWildLives              Caucasian      M  26.0    0.0      I               NC             NaN            NaN         NaN            NaN  NaN  NaN            NaN        NaN          NaN     NaN            NaN      NaN           NaN      NaN\n",
       "135      1552      BellyButtonsWildLives              Caucasian      M  25.0    3.0      I               NC             usa          63301         usa          63301   no   no            NaN  36.612221         10.0     NaN              0   4464.0     33.801109      1.0\n",
       "136      1553      BellyButtonsWildLives              Caucasian      F  50.0    0.0      I               NC             usa          70808         usa          70808  yes   no            NaN  33.192223          NaN     NaN             11      NaN     37.783333      4.0\n",
       "137      1554      BellyButtonsWildLives              Caucasian      F  18.0    0.0      I               NC             usa          27607         usa          27607  yes   no         6115.0  29.794445         31.5     NaN             70      NaN     34.541111     11.0\n",
       "138      1555      BellyButtonsWildLives              Caucasian      M  26.0    0.0      I               NC             usa           8057         usa           8057  yes  yes         5104.0  29.576666         22.0     NaN             42      NaN     36.476666     32.0\n",
       "139      1556      BellyButtonsWildLives               Hispanic      M  34.0    0.0      I               NC        colombia            NaN    colombia            NaN   no   no            NaN        NaN          NaN     NaN            NaN      NaN           NaN      NaN\n",
       "140      1557      BellyButtonsWildLives              Caucasian      F  26.0    2.0      I               NC             NaN            NaN         NaN            NaN  NaN  NaN            NaN        NaN          NaN     NaN            NaN      NaN           NaN      NaN\n",
       "141      1558      BellyButtonsWildLives              Caucasian      M  26.0    1.0      I               NC             NaN            NaN         NaN            NaN  NaN  NaN            NaN        NaN          NaN     NaN            NaN      NaN           NaN      NaN\n",
       "142      1561      BellyButtonsWildLives              Caucasian      M  31.0    2.0      I               NC             usa          28515         usa          28515   no  yes            NaN  34.783333          8.5     NaN              0   7817.0     29.696667     17.5\n",
       "143      1562      BellyButtonsWildLives              Caucasian      M  39.0    0.0      I               MT             usa          48640         usa          49431  yes   no         5081.0  43.458889          4.5     NaN              0   6450.0     30.372223     25.0\n",
       "144      1563      BellyButtonsWildLives              Caucasian      F  31.0    0.0      I               MT             usa          36207         usa          36207  yes   no            NaN  24.201111          9.5     NaN              0   7431.0     30.583334     61.5\n",
       "145      1564      BellyButtonsWildLives              Caucasian      F  36.0    5.0      I               NC             usa          27530         usa          27530   no  yes         5875.0  34.878891         43.5     NaN              0   6843.0     34.341110     10.0\n",
       "146      1572      BellyButtonsWildLives              Caucasian      F  33.0    0.0      I               NC            Peru           Lima        Peru           Lima   no   no            NaN  37.223331         14.5     NaN           'NA'      NaN           NaN      NaN\n",
       "147      1573      BellyButtonsWildLives              Caucasian      M  53.0    0.0      I               NC             NaN            NaN         NaN            NaN  NaN  NaN            NaN        NaN          NaN     NaN            NaN      NaN           NaN      NaN\n",
       "148      1574      BellyButtonsWildLives              Caucasian      M  30.0    7.0      I               OK             usa          66210         usa          66210   no   no         7131.0  29.147778         40.5     NaN              3      NaN     39.676666      9.5\n",
       "149      1576      BellyButtonsWildLives              Caucasian      F  33.0    0.0      I               NC             usa          21045         usa          21075   no  yes            NaN  35.761112         13.5     NaN             12      NaN     32.718887     34.5\n",
       "150      1577      BellyButtonsWildLives              Caucasian      M  26.0    0.0      I               NC             usa          21228         usa          21228   no  yes          893.0  40.223331          0.0     NaN             23      NaN     36.270000     27.0\n",
       "151      1581      BellyButtonsWildLives        Asian(American)      F  22.0    2.0      I               NC             usa          28056         usa          28056   no   no         5026.0  30.001112         25.5     NaN              0   6962.0     33.805557     15.0\n",
       "152      1601      BellyButtonsWildLives              Caucasian      F  22.0    2.0      I               NC             usa          29615         usa          27513  yes   no            NaN        NaN          NaN     NaN              1      NaN     32.889999     45.5\n",
       "\n",
       "[153 rows x 22 columns]>"
      ]
     },
     "execution_count": 82,
     "metadata": {},
     "output_type": "execute_result"
    }
   ],
   "source": [
    "bbb_meta_json = bbb_meta_df.to_json\n",
    "bbb_meta_json"
   ]
  },
  {
   "cell_type": "code",
   "execution_count": null,
   "metadata": {
    "collapsed": true
   },
   "outputs": [],
   "source": []
  }
 ],
 "metadata": {
  "kernelspec": {
   "display_name": "Python 3",
   "language": "python",
   "name": "python3"
  },
  "language_info": {
   "codemirror_mode": {
    "name": "ipython",
    "version": 3
   },
   "file_extension": ".py",
   "mimetype": "text/x-python",
   "name": "python",
   "nbconvert_exporter": "python",
   "pygments_lexer": "ipython3",
   "version": "3.6.4"
  }
 },
 "nbformat": 4,
 "nbformat_minor": 2
}
