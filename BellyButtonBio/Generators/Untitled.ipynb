{
 "cells": [
  {
   "cell_type": "code",
   "execution_count": 1,
   "metadata": {},
   "outputs": [
    {
     "name": "stdout",
     "output_type": "stream",
     "text": [
      "Collecting flask_sqlalchemy\n",
      "  Using cached Flask_SQLAlchemy-2.3.2-py2.py3-none-any.whl\n",
      "Requirement already satisfied: Flask>=0.10 in /Users/andy_felicitas/anaconda/lib/python3.6/site-packages (from flask_sqlalchemy)\n",
      "Requirement already satisfied: SQLAlchemy>=0.8.0 in /Users/andy_felicitas/anaconda/lib/python3.6/site-packages (from flask_sqlalchemy)\n",
      "Requirement already satisfied: Werkzeug>=0.7 in /Users/andy_felicitas/anaconda/lib/python3.6/site-packages (from Flask>=0.10->flask_sqlalchemy)\n",
      "Requirement already satisfied: Jinja2>=2.4 in /Users/andy_felicitas/anaconda/lib/python3.6/site-packages (from Flask>=0.10->flask_sqlalchemy)\n",
      "Requirement already satisfied: itsdangerous>=0.21 in /Users/andy_felicitas/anaconda/lib/python3.6/site-packages (from Flask>=0.10->flask_sqlalchemy)\n",
      "Requirement already satisfied: click>=2.0 in /Users/andy_felicitas/anaconda/lib/python3.6/site-packages (from Flask>=0.10->flask_sqlalchemy)\n",
      "Requirement already satisfied: MarkupSafe>=0.23 in /Users/andy_felicitas/anaconda/lib/python3.6/site-packages (from Jinja2>=2.4->Flask>=0.10->flask_sqlalchemy)\n",
      "Installing collected packages: flask-sqlalchemy\n",
      "Successfully installed flask-sqlalchemy-2.3.2\n"
     ]
    }
   ],
   "source": [
    "! pip install flask_sqlalchemy"
   ]
  },
  {
   "cell_type": "code",
   "execution_count": null,
   "metadata": {
    "collapsed": true
   },
   "outputs": [],
   "source": []
  }
 ],
 "metadata": {
  "kernelspec": {
   "display_name": "Python 3",
   "language": "python",
   "name": "python3"
  },
  "language_info": {
   "codemirror_mode": {
    "name": "ipython",
    "version": 3
   },
   "file_extension": ".py",
   "mimetype": "text/x-python",
   "name": "python",
   "nbconvert_exporter": "python",
   "pygments_lexer": "ipython3",
   "version": "3.6.4"
  }
 },
 "nbformat": 4,
 "nbformat_minor": 2
}
