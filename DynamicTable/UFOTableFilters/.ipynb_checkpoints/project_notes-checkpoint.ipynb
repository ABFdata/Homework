{
 "cells": [
  {
   "cell_type": "markdown",
   "metadata": {},
   "source": [
    "# Unit 14 | JavaScript and DOM Manipulation"
   ]
  },
  {
   "cell_type": "markdown",
   "metadata": {},
   "source": [
    "# Background"
   ]
  },
  {
   "cell_type": "markdown",
   "metadata": {},
   "source": [
    "#### For this project I created several dynamic tables to display eye-witness reports of UFO sightings. The following tables can be sorted as such:"
   ]
  },
  {
   "cell_type": "markdown",
   "metadata": {},
   "source": [
    "Level 1: [Automatic Table](https://github.com/ABFdata/Homework/blob/master/DynamicTable/UFOTableFilters/1date_index.html) and Date Search. This table allows you to filter the table by date. \n",
    "    "
   ]
  },
  {
   "cell_type": "markdown",
   "metadata": {},
   "source": [
    "Level 2: [Multi Category Search](https://github.com/ABFdata/Homework/blob/master/DynamicTable/UFOTableFilters/2multi_category.html) This table allows you to search by multiple categories."
   ]
  },
  {
   "cell_type": "markdown",
   "metadata": {},
   "source": [
    "Level 3: [Pagination](https://github.com/ABFdata/Homework/blob/master/DynamicTable/UFOTableFilters/3pagination.html) This table loads the first 50 rows of the data set with the option to load more data with a button at the bottom. "
   ]
  },
  {
   "cell_type": "markdown",
   "metadata": {},
   "source": [
    "Level 4: [Multi Category Search Pagination](https://github.com/ABFdata/Homework/blob/master/DynamicTable/UFOTableFilters/4multi_pagination.html) This table incorporates one search bar that allows you to filter by all the categories. The table also incorporates pagination, with the first 50 rows of data. "
   ]
  },
  {
   "cell_type": "code",
   "execution_count": null,
   "metadata": {
    "collapsed": true
   },
   "outputs": [],
   "source": []
  }
 ],
 "metadata": {
  "kernelspec": {
   "display_name": "Python 3",
   "language": "python",
   "name": "python3"
  },
  "language_info": {
   "codemirror_mode": {
    "name": "ipython",
    "version": 3
   },
   "file_extension": ".py",
   "mimetype": "text/x-python",
   "name": "python",
   "nbconvert_exporter": "python",
   "pygments_lexer": "ipython3",
   "version": "3.6.4"
  }
 },
 "nbformat": 4,
 "nbformat_minor": 2
}
