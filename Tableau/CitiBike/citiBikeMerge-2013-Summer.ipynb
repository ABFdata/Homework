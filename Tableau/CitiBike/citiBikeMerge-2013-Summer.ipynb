{
 "cells": [
  {
   "cell_type": "code",
   "execution_count": 1,
   "metadata": {
    "collapsed": true
   },
   "outputs": [],
   "source": [
    "import pandas as pd\n",
    "import pandas_profiling as pp\n",
    "import numpy as np\n",
    "from IPython.core.interactiveshell import InteractiveShell\n",
    "InteractiveShell.ast_node_interactivity = \"all\"\n",
    "import warnings\n",
    "warnings.filterwarnings('ignore')"
   ]
  },
  {
   "cell_type": "code",
   "execution_count": 2,
   "metadata": {
    "collapsed": true
   },
   "outputs": [],
   "source": [
    "# read TripData_2013_07.csv\n",
    "df1 = pd.read_csv('TripData/TripData_2013_07.csv')"
   ]
  },
  {
   "cell_type": "code",
   "execution_count": 3,
   "metadata": {
    "collapsed": true
   },
   "outputs": [],
   "source": [
    "# read TripData_2013_08.csv\n",
    "df2 = pd.read_csv('TripData/TripData_2013_08.csv')"
   ]
  },
  {
   "cell_type": "code",
   "execution_count": 4,
   "metadata": {
    "collapsed": true
   },
   "outputs": [],
   "source": [
    "# read TripData_2013_09.csv\n",
    "df3 = pd.read_csv('TripData/TripData_2013_09.csv')"
   ]
  },
  {
   "cell_type": "code",
   "execution_count": 5,
   "metadata": {},
   "outputs": [
    {
     "data": {
      "text/html": [
       "<div>\n",
       "<style>\n",
       "    .dataframe thead tr:only-child th {\n",
       "        text-align: right;\n",
       "    }\n",
       "\n",
       "    .dataframe thead th {\n",
       "        text-align: left;\n",
       "    }\n",
       "\n",
       "    .dataframe tbody tr th {\n",
       "        vertical-align: top;\n",
       "    }\n",
       "</style>\n",
       "<table border=\"1\" class=\"dataframe\">\n",
       "  <thead>\n",
       "    <tr style=\"text-align: right;\">\n",
       "      <th></th>\n",
       "      <th>tripduration</th>\n",
       "      <th>starttime</th>\n",
       "      <th>stoptime</th>\n",
       "      <th>start station id</th>\n",
       "      <th>start station name</th>\n",
       "      <th>start station latitude</th>\n",
       "      <th>start station longitude</th>\n",
       "      <th>end station id</th>\n",
       "      <th>end station name</th>\n",
       "      <th>end station latitude</th>\n",
       "      <th>end station longitude</th>\n",
       "      <th>bikeid</th>\n",
       "      <th>usertype</th>\n",
       "      <th>birth year</th>\n",
       "      <th>gender</th>\n",
       "    </tr>\n",
       "  </thead>\n",
       "  <tbody>\n",
       "    <tr>\n",
       "      <th>0</th>\n",
       "      <td>634</td>\n",
       "      <td>2013-07-01 00:00:00</td>\n",
       "      <td>2013-07-01 00:10:34</td>\n",
       "      <td>164</td>\n",
       "      <td>E 47 St &amp; 2 Ave</td>\n",
       "      <td>40.753231</td>\n",
       "      <td>-73.970325</td>\n",
       "      <td>504</td>\n",
       "      <td>1 Ave &amp; E 15 St</td>\n",
       "      <td>40.732219</td>\n",
       "      <td>-73.981656</td>\n",
       "      <td>16950</td>\n",
       "      <td>Customer</td>\n",
       "      <td>\\N</td>\n",
       "      <td>0</td>\n",
       "    </tr>\n",
       "    <tr>\n",
       "      <th>1</th>\n",
       "      <td>1547</td>\n",
       "      <td>2013-07-01 00:00:02</td>\n",
       "      <td>2013-07-01 00:25:49</td>\n",
       "      <td>388</td>\n",
       "      <td>W 26 St &amp; 10 Ave</td>\n",
       "      <td>40.749718</td>\n",
       "      <td>-74.002950</td>\n",
       "      <td>459</td>\n",
       "      <td>W 20 St &amp; 11 Ave</td>\n",
       "      <td>40.746745</td>\n",
       "      <td>-74.007756</td>\n",
       "      <td>19816</td>\n",
       "      <td>Customer</td>\n",
       "      <td>\\N</td>\n",
       "      <td>0</td>\n",
       "    </tr>\n",
       "  </tbody>\n",
       "</table>\n",
       "</div>"
      ],
      "text/plain": [
       "   tripduration            starttime             stoptime  start station id  \\\n",
       "0           634  2013-07-01 00:00:00  2013-07-01 00:10:34               164   \n",
       "1          1547  2013-07-01 00:00:02  2013-07-01 00:25:49               388   \n",
       "\n",
       "  start station name  start station latitude  start station longitude  \\\n",
       "0    E 47 St & 2 Ave               40.753231               -73.970325   \n",
       "1   W 26 St & 10 Ave               40.749718               -74.002950   \n",
       "\n",
       "   end station id  end station name  end station latitude  \\\n",
       "0             504   1 Ave & E 15 St             40.732219   \n",
       "1             459  W 20 St & 11 Ave             40.746745   \n",
       "\n",
       "   end station longitude  bikeid  usertype birth year  gender  \n",
       "0             -73.981656   16950  Customer         \\N       0  \n",
       "1             -74.007756   19816  Customer         \\N       0  "
      ]
     },
     "execution_count": 5,
     "metadata": {},
     "output_type": "execute_result"
    },
    {
     "data": {
      "text/plain": [
       "(843416, 15)"
      ]
     },
     "execution_count": 5,
     "metadata": {},
     "output_type": "execute_result"
    }
   ],
   "source": [
    "# print df1 head \n",
    "df1.head(2)\n",
    "df1.shape"
   ]
  },
  {
   "cell_type": "code",
   "execution_count": 6,
   "metadata": {},
   "outputs": [
    {
     "data": {
      "text/html": [
       "<div>\n",
       "<style>\n",
       "    .dataframe thead tr:only-child th {\n",
       "        text-align: right;\n",
       "    }\n",
       "\n",
       "    .dataframe thead th {\n",
       "        text-align: left;\n",
       "    }\n",
       "\n",
       "    .dataframe tbody tr th {\n",
       "        vertical-align: top;\n",
       "    }\n",
       "</style>\n",
       "<table border=\"1\" class=\"dataframe\">\n",
       "  <thead>\n",
       "    <tr style=\"text-align: right;\">\n",
       "      <th></th>\n",
       "      <th>tripduration</th>\n",
       "      <th>starttime</th>\n",
       "      <th>stoptime</th>\n",
       "      <th>start station id</th>\n",
       "      <th>start station name</th>\n",
       "      <th>start station latitude</th>\n",
       "      <th>start station longitude</th>\n",
       "      <th>end station id</th>\n",
       "      <th>end station name</th>\n",
       "      <th>end station latitude</th>\n",
       "      <th>end station longitude</th>\n",
       "      <th>bikeid</th>\n",
       "      <th>usertype</th>\n",
       "      <th>birth year</th>\n",
       "      <th>gender</th>\n",
       "    </tr>\n",
       "  </thead>\n",
       "  <tbody>\n",
       "    <tr>\n",
       "      <th>0</th>\n",
       "      <td>664</td>\n",
       "      <td>2013-08-01 00:00:00</td>\n",
       "      <td>2013-08-01 00:11:04</td>\n",
       "      <td>449</td>\n",
       "      <td>W 52 St &amp; 9 Ave</td>\n",
       "      <td>40.764618</td>\n",
       "      <td>-73.987895</td>\n",
       "      <td>479</td>\n",
       "      <td>9 Ave &amp; W 45 St</td>\n",
       "      <td>40.760193</td>\n",
       "      <td>-73.991255</td>\n",
       "      <td>20068</td>\n",
       "      <td>Subscriber</td>\n",
       "      <td>1944</td>\n",
       "      <td>1</td>\n",
       "    </tr>\n",
       "    <tr>\n",
       "      <th>1</th>\n",
       "      <td>2115</td>\n",
       "      <td>2013-08-01 00:00:01</td>\n",
       "      <td>2013-08-01 00:35:16</td>\n",
       "      <td>254</td>\n",
       "      <td>W 11 St &amp; 6 Ave</td>\n",
       "      <td>40.735324</td>\n",
       "      <td>-73.998004</td>\n",
       "      <td>195</td>\n",
       "      <td>Liberty St &amp; Broadway</td>\n",
       "      <td>40.709056</td>\n",
       "      <td>-74.010434</td>\n",
       "      <td>17095</td>\n",
       "      <td>Subscriber</td>\n",
       "      <td>1974</td>\n",
       "      <td>1</td>\n",
       "    </tr>\n",
       "  </tbody>\n",
       "</table>\n",
       "</div>"
      ],
      "text/plain": [
       "   tripduration            starttime             stoptime  start station id  \\\n",
       "0           664  2013-08-01 00:00:00  2013-08-01 00:11:04               449   \n",
       "1          2115  2013-08-01 00:00:01  2013-08-01 00:35:16               254   \n",
       "\n",
       "  start station name  start station latitude  start station longitude  \\\n",
       "0    W 52 St & 9 Ave               40.764618               -73.987895   \n",
       "1    W 11 St & 6 Ave               40.735324               -73.998004   \n",
       "\n",
       "   end station id       end station name  end station latitude  \\\n",
       "0             479        9 Ave & W 45 St             40.760193   \n",
       "1             195  Liberty St & Broadway             40.709056   \n",
       "\n",
       "   end station longitude  bikeid    usertype birth year  gender  \n",
       "0             -73.991255   20068  Subscriber       1944       1  \n",
       "1             -74.010434   17095  Subscriber       1974       1  "
      ]
     },
     "execution_count": 6,
     "metadata": {},
     "output_type": "execute_result"
    },
    {
     "data": {
      "text/plain": [
       "(1001958, 15)"
      ]
     },
     "execution_count": 6,
     "metadata": {},
     "output_type": "execute_result"
    }
   ],
   "source": [
    "# print df2 head \n",
    "df2.head(2)\n",
    "df2.shape"
   ]
  },
  {
   "cell_type": "code",
   "execution_count": 7,
   "metadata": {},
   "outputs": [
    {
     "data": {
      "text/html": [
       "<div>\n",
       "<style>\n",
       "    .dataframe thead tr:only-child th {\n",
       "        text-align: right;\n",
       "    }\n",
       "\n",
       "    .dataframe thead th {\n",
       "        text-align: left;\n",
       "    }\n",
       "\n",
       "    .dataframe tbody tr th {\n",
       "        vertical-align: top;\n",
       "    }\n",
       "</style>\n",
       "<table border=\"1\" class=\"dataframe\">\n",
       "  <thead>\n",
       "    <tr style=\"text-align: right;\">\n",
       "      <th></th>\n",
       "      <th>tripduration</th>\n",
       "      <th>starttime</th>\n",
       "      <th>stoptime</th>\n",
       "      <th>start station id</th>\n",
       "      <th>start station name</th>\n",
       "      <th>start station latitude</th>\n",
       "      <th>start station longitude</th>\n",
       "      <th>end station id</th>\n",
       "      <th>end station name</th>\n",
       "      <th>end station latitude</th>\n",
       "      <th>end station longitude</th>\n",
       "      <th>bikeid</th>\n",
       "      <th>usertype</th>\n",
       "      <th>birth year</th>\n",
       "      <th>gender</th>\n",
       "    </tr>\n",
       "  </thead>\n",
       "  <tbody>\n",
       "    <tr>\n",
       "      <th>0</th>\n",
       "      <td>1010</td>\n",
       "      <td>2013-09-01 00:00:02</td>\n",
       "      <td>2013-09-01 00:16:52</td>\n",
       "      <td>254</td>\n",
       "      <td>W 11 St &amp; 6 Ave</td>\n",
       "      <td>40.735324</td>\n",
       "      <td>-73.998004</td>\n",
       "      <td>147</td>\n",
       "      <td>Greenwich St &amp; Warren St</td>\n",
       "      <td>40.715422</td>\n",
       "      <td>-74.011220</td>\n",
       "      <td>15014</td>\n",
       "      <td>Subscriber</td>\n",
       "      <td>1974</td>\n",
       "      <td>1</td>\n",
       "    </tr>\n",
       "    <tr>\n",
       "      <th>1</th>\n",
       "      <td>1443</td>\n",
       "      <td>2013-09-01 00:00:09</td>\n",
       "      <td>2013-09-01 00:24:12</td>\n",
       "      <td>151</td>\n",
       "      <td>Cleveland Pl &amp; Spring St</td>\n",
       "      <td>40.721816</td>\n",
       "      <td>-73.997203</td>\n",
       "      <td>497</td>\n",
       "      <td>E 17 St &amp; Broadway</td>\n",
       "      <td>40.737050</td>\n",
       "      <td>-73.990093</td>\n",
       "      <td>19393</td>\n",
       "      <td>Customer</td>\n",
       "      <td>\\N</td>\n",
       "      <td>0</td>\n",
       "    </tr>\n",
       "  </tbody>\n",
       "</table>\n",
       "</div>"
      ],
      "text/plain": [
       "   tripduration            starttime             stoptime  start station id  \\\n",
       "0          1010  2013-09-01 00:00:02  2013-09-01 00:16:52               254   \n",
       "1          1443  2013-09-01 00:00:09  2013-09-01 00:24:12               151   \n",
       "\n",
       "         start station name  start station latitude  start station longitude  \\\n",
       "0           W 11 St & 6 Ave               40.735324               -73.998004   \n",
       "1  Cleveland Pl & Spring St               40.721816               -73.997203   \n",
       "\n",
       "   end station id          end station name  end station latitude  \\\n",
       "0             147  Greenwich St & Warren St             40.715422   \n",
       "1             497        E 17 St & Broadway             40.737050   \n",
       "\n",
       "   end station longitude  bikeid    usertype birth year  gender  \n",
       "0             -74.011220   15014  Subscriber       1974       1  \n",
       "1             -73.990093   19393    Customer         \\N       0  "
      ]
     },
     "execution_count": 7,
     "metadata": {},
     "output_type": "execute_result"
    },
    {
     "data": {
      "text/plain": [
       "(1034359, 15)"
      ]
     },
     "execution_count": 7,
     "metadata": {},
     "output_type": "execute_result"
    }
   ],
   "source": [
    "# print df3 head \n",
    "df3.head(2)\n",
    "df3.shape"
   ]
  },
  {
   "cell_type": "code",
   "execution_count": 8,
   "metadata": {
    "collapsed": true
   },
   "outputs": [],
   "source": [
    "# merge tables - join three dataframes along rows\n",
    "df_merge = pd.concat([df1, df2, df3])"
   ]
  },
  {
   "cell_type": "code",
   "execution_count": 9,
   "metadata": {},
   "outputs": [
    {
     "data": {
      "text/html": [
       "<div>\n",
       "<style>\n",
       "    .dataframe thead tr:only-child th {\n",
       "        text-align: right;\n",
       "    }\n",
       "\n",
       "    .dataframe thead th {\n",
       "        text-align: left;\n",
       "    }\n",
       "\n",
       "    .dataframe tbody tr th {\n",
       "        vertical-align: top;\n",
       "    }\n",
       "</style>\n",
       "<table border=\"1\" class=\"dataframe\">\n",
       "  <thead>\n",
       "    <tr style=\"text-align: right;\">\n",
       "      <th></th>\n",
       "      <th>tripduration</th>\n",
       "      <th>starttime</th>\n",
       "      <th>stoptime</th>\n",
       "      <th>start station id</th>\n",
       "      <th>start station name</th>\n",
       "      <th>start station latitude</th>\n",
       "      <th>start station longitude</th>\n",
       "      <th>end station id</th>\n",
       "      <th>end station name</th>\n",
       "      <th>end station latitude</th>\n",
       "      <th>end station longitude</th>\n",
       "      <th>bikeid</th>\n",
       "      <th>usertype</th>\n",
       "      <th>birth year</th>\n",
       "      <th>gender</th>\n",
       "    </tr>\n",
       "  </thead>\n",
       "  <tbody>\n",
       "    <tr>\n",
       "      <th>0</th>\n",
       "      <td>634</td>\n",
       "      <td>2013-07-01 00:00:00</td>\n",
       "      <td>2013-07-01 00:10:34</td>\n",
       "      <td>164</td>\n",
       "      <td>E 47 St &amp; 2 Ave</td>\n",
       "      <td>40.753231</td>\n",
       "      <td>-73.970325</td>\n",
       "      <td>504</td>\n",
       "      <td>1 Ave &amp; E 15 St</td>\n",
       "      <td>40.732219</td>\n",
       "      <td>-73.981656</td>\n",
       "      <td>16950</td>\n",
       "      <td>Customer</td>\n",
       "      <td>\\N</td>\n",
       "      <td>0</td>\n",
       "    </tr>\n",
       "    <tr>\n",
       "      <th>1</th>\n",
       "      <td>1547</td>\n",
       "      <td>2013-07-01 00:00:02</td>\n",
       "      <td>2013-07-01 00:25:49</td>\n",
       "      <td>388</td>\n",
       "      <td>W 26 St &amp; 10 Ave</td>\n",
       "      <td>40.749718</td>\n",
       "      <td>-74.002950</td>\n",
       "      <td>459</td>\n",
       "      <td>W 20 St &amp; 11 Ave</td>\n",
       "      <td>40.746745</td>\n",
       "      <td>-74.007756</td>\n",
       "      <td>19816</td>\n",
       "      <td>Customer</td>\n",
       "      <td>\\N</td>\n",
       "      <td>0</td>\n",
       "    </tr>\n",
       "    <tr>\n",
       "      <th>2</th>\n",
       "      <td>178</td>\n",
       "      <td>2013-07-01 00:01:04</td>\n",
       "      <td>2013-07-01 00:04:02</td>\n",
       "      <td>293</td>\n",
       "      <td>Lafayette St &amp; E 8 St</td>\n",
       "      <td>40.730287</td>\n",
       "      <td>-73.990765</td>\n",
       "      <td>237</td>\n",
       "      <td>E 11 St &amp; 2 Ave</td>\n",
       "      <td>40.730473</td>\n",
       "      <td>-73.986724</td>\n",
       "      <td>14548</td>\n",
       "      <td>Subscriber</td>\n",
       "      <td>1980</td>\n",
       "      <td>2</td>\n",
       "    </tr>\n",
       "    <tr>\n",
       "      <th>3</th>\n",
       "      <td>1580</td>\n",
       "      <td>2013-07-01 00:01:06</td>\n",
       "      <td>2013-07-01 00:27:26</td>\n",
       "      <td>531</td>\n",
       "      <td>Forsyth St &amp; Broome St</td>\n",
       "      <td>40.718939</td>\n",
       "      <td>-73.992663</td>\n",
       "      <td>499</td>\n",
       "      <td>Broadway &amp; W 60 St</td>\n",
       "      <td>40.769155</td>\n",
       "      <td>-73.981918</td>\n",
       "      <td>16063</td>\n",
       "      <td>Customer</td>\n",
       "      <td>\\N</td>\n",
       "      <td>0</td>\n",
       "    </tr>\n",
       "    <tr>\n",
       "      <th>4</th>\n",
       "      <td>757</td>\n",
       "      <td>2013-07-01 00:01:10</td>\n",
       "      <td>2013-07-01 00:13:47</td>\n",
       "      <td>382</td>\n",
       "      <td>University Pl &amp; E 14 St</td>\n",
       "      <td>40.734927</td>\n",
       "      <td>-73.992005</td>\n",
       "      <td>410</td>\n",
       "      <td>Suffolk St &amp; Stanton St</td>\n",
       "      <td>40.720664</td>\n",
       "      <td>-73.985180</td>\n",
       "      <td>19213</td>\n",
       "      <td>Subscriber</td>\n",
       "      <td>1986</td>\n",
       "      <td>1</td>\n",
       "    </tr>\n",
       "  </tbody>\n",
       "</table>\n",
       "</div>"
      ],
      "text/plain": [
       "   tripduration            starttime             stoptime  start station id  \\\n",
       "0           634  2013-07-01 00:00:00  2013-07-01 00:10:34               164   \n",
       "1          1547  2013-07-01 00:00:02  2013-07-01 00:25:49               388   \n",
       "2           178  2013-07-01 00:01:04  2013-07-01 00:04:02               293   \n",
       "3          1580  2013-07-01 00:01:06  2013-07-01 00:27:26               531   \n",
       "4           757  2013-07-01 00:01:10  2013-07-01 00:13:47               382   \n",
       "\n",
       "        start station name  start station latitude  start station longitude  \\\n",
       "0          E 47 St & 2 Ave               40.753231               -73.970325   \n",
       "1         W 26 St & 10 Ave               40.749718               -74.002950   \n",
       "2    Lafayette St & E 8 St               40.730287               -73.990765   \n",
       "3   Forsyth St & Broome St               40.718939               -73.992663   \n",
       "4  University Pl & E 14 St               40.734927               -73.992005   \n",
       "\n",
       "   end station id         end station name  end station latitude  \\\n",
       "0             504          1 Ave & E 15 St             40.732219   \n",
       "1             459         W 20 St & 11 Ave             40.746745   \n",
       "2             237          E 11 St & 2 Ave             40.730473   \n",
       "3             499       Broadway & W 60 St             40.769155   \n",
       "4             410  Suffolk St & Stanton St             40.720664   \n",
       "\n",
       "   end station longitude  bikeid    usertype birth year  gender  \n",
       "0             -73.981656   16950    Customer         \\N       0  \n",
       "1             -74.007756   19816    Customer         \\N       0  \n",
       "2             -73.986724   14548  Subscriber       1980       2  \n",
       "3             -73.981918   16063    Customer         \\N       0  \n",
       "4             -73.985180   19213  Subscriber       1986       1  "
      ]
     },
     "execution_count": 9,
     "metadata": {},
     "output_type": "execute_result"
    },
    {
     "data": {
      "text/html": [
       "<div>\n",
       "<style>\n",
       "    .dataframe thead tr:only-child th {\n",
       "        text-align: right;\n",
       "    }\n",
       "\n",
       "    .dataframe thead th {\n",
       "        text-align: left;\n",
       "    }\n",
       "\n",
       "    .dataframe tbody tr th {\n",
       "        vertical-align: top;\n",
       "    }\n",
       "</style>\n",
       "<table border=\"1\" class=\"dataframe\">\n",
       "  <thead>\n",
       "    <tr style=\"text-align: right;\">\n",
       "      <th></th>\n",
       "      <th>tripduration</th>\n",
       "      <th>starttime</th>\n",
       "      <th>stoptime</th>\n",
       "      <th>start station id</th>\n",
       "      <th>start station name</th>\n",
       "      <th>start station latitude</th>\n",
       "      <th>start station longitude</th>\n",
       "      <th>end station id</th>\n",
       "      <th>end station name</th>\n",
       "      <th>end station latitude</th>\n",
       "      <th>end station longitude</th>\n",
       "      <th>bikeid</th>\n",
       "      <th>usertype</th>\n",
       "      <th>birth year</th>\n",
       "      <th>gender</th>\n",
       "    </tr>\n",
       "  </thead>\n",
       "  <tbody>\n",
       "    <tr>\n",
       "      <th>1034354</th>\n",
       "      <td>93</td>\n",
       "      <td>2013-09-30 23:59:16</td>\n",
       "      <td>2013-10-01 00:00:49</td>\n",
       "      <td>360</td>\n",
       "      <td>William St &amp; Pine St</td>\n",
       "      <td>40.707179</td>\n",
       "      <td>-74.008873</td>\n",
       "      <td>195</td>\n",
       "      <td>Liberty St &amp; Broadway</td>\n",
       "      <td>40.709056</td>\n",
       "      <td>-74.010434</td>\n",
       "      <td>20594</td>\n",
       "      <td>Subscriber</td>\n",
       "      <td>1989</td>\n",
       "      <td>1</td>\n",
       "    </tr>\n",
       "    <tr>\n",
       "      <th>1034355</th>\n",
       "      <td>363</td>\n",
       "      <td>2013-09-30 23:59:21</td>\n",
       "      <td>2013-10-01 00:05:24</td>\n",
       "      <td>2003</td>\n",
       "      <td>1 Ave &amp; E 18 St</td>\n",
       "      <td>40.734161</td>\n",
       "      <td>-73.980243</td>\n",
       "      <td>459</td>\n",
       "      <td>W 20 St &amp; 11 Ave</td>\n",
       "      <td>40.746745</td>\n",
       "      <td>-74.007756</td>\n",
       "      <td>15213</td>\n",
       "      <td>Customer</td>\n",
       "      <td>\\N</td>\n",
       "      <td>0</td>\n",
       "    </tr>\n",
       "    <tr>\n",
       "      <th>1034356</th>\n",
       "      <td>562</td>\n",
       "      <td>2013-09-30 23:59:30</td>\n",
       "      <td>2013-10-01 00:08:52</td>\n",
       "      <td>293</td>\n",
       "      <td>Lafayette St &amp; E 8 St</td>\n",
       "      <td>40.730287</td>\n",
       "      <td>-73.990765</td>\n",
       "      <td>463</td>\n",
       "      <td>9 Ave &amp; W 16 St</td>\n",
       "      <td>40.742065</td>\n",
       "      <td>-74.004432</td>\n",
       "      <td>17938</td>\n",
       "      <td>Subscriber</td>\n",
       "      <td>1967</td>\n",
       "      <td>1</td>\n",
       "    </tr>\n",
       "    <tr>\n",
       "      <th>1034357</th>\n",
       "      <td>1237</td>\n",
       "      <td>2013-09-30 23:59:40</td>\n",
       "      <td>2013-10-01 00:20:17</td>\n",
       "      <td>478</td>\n",
       "      <td>11 Ave &amp; W 41 St</td>\n",
       "      <td>40.760301</td>\n",
       "      <td>-73.998842</td>\n",
       "      <td>318</td>\n",
       "      <td>E 43 St &amp; Vanderbilt Ave</td>\n",
       "      <td>40.753202</td>\n",
       "      <td>-73.977987</td>\n",
       "      <td>15931</td>\n",
       "      <td>Customer</td>\n",
       "      <td>\\N</td>\n",
       "      <td>0</td>\n",
       "    </tr>\n",
       "    <tr>\n",
       "      <th>1034358</th>\n",
       "      <td>1292</td>\n",
       "      <td>2013-09-30 23:59:53</td>\n",
       "      <td>2013-10-01 00:21:25</td>\n",
       "      <td>363</td>\n",
       "      <td>West Thames St</td>\n",
       "      <td>40.708347</td>\n",
       "      <td>-74.017134</td>\n",
       "      <td>363</td>\n",
       "      <td>West Thames St</td>\n",
       "      <td>40.708347</td>\n",
       "      <td>-74.017134</td>\n",
       "      <td>14826</td>\n",
       "      <td>Customer</td>\n",
       "      <td>\\N</td>\n",
       "      <td>0</td>\n",
       "    </tr>\n",
       "  </tbody>\n",
       "</table>\n",
       "</div>"
      ],
      "text/plain": [
       "         tripduration            starttime             stoptime  \\\n",
       "1034354            93  2013-09-30 23:59:16  2013-10-01 00:00:49   \n",
       "1034355           363  2013-09-30 23:59:21  2013-10-01 00:05:24   \n",
       "1034356           562  2013-09-30 23:59:30  2013-10-01 00:08:52   \n",
       "1034357          1237  2013-09-30 23:59:40  2013-10-01 00:20:17   \n",
       "1034358          1292  2013-09-30 23:59:53  2013-10-01 00:21:25   \n",
       "\n",
       "         start station id     start station name  start station latitude  \\\n",
       "1034354               360   William St & Pine St               40.707179   \n",
       "1034355              2003        1 Ave & E 18 St               40.734161   \n",
       "1034356               293  Lafayette St & E 8 St               40.730287   \n",
       "1034357               478       11 Ave & W 41 St               40.760301   \n",
       "1034358               363         West Thames St               40.708347   \n",
       "\n",
       "         start station longitude  end station id          end station name  \\\n",
       "1034354               -74.008873             195     Liberty St & Broadway   \n",
       "1034355               -73.980243             459          W 20 St & 11 Ave   \n",
       "1034356               -73.990765             463           9 Ave & W 16 St   \n",
       "1034357               -73.998842             318  E 43 St & Vanderbilt Ave   \n",
       "1034358               -74.017134             363            West Thames St   \n",
       "\n",
       "         end station latitude  end station longitude  bikeid    usertype  \\\n",
       "1034354             40.709056             -74.010434   20594  Subscriber   \n",
       "1034355             40.746745             -74.007756   15213    Customer   \n",
       "1034356             40.742065             -74.004432   17938  Subscriber   \n",
       "1034357             40.753202             -73.977987   15931    Customer   \n",
       "1034358             40.708347             -74.017134   14826    Customer   \n",
       "\n",
       "        birth year  gender  \n",
       "1034354       1989       1  \n",
       "1034355         \\N       0  \n",
       "1034356       1967       1  \n",
       "1034357         \\N       0  \n",
       "1034358         \\N       0  "
      ]
     },
     "execution_count": 9,
     "metadata": {},
     "output_type": "execute_result"
    },
    {
     "data": {
      "text/plain": [
       "(2879733, 15)"
      ]
     },
     "execution_count": 9,
     "metadata": {},
     "output_type": "execute_result"
    }
   ],
   "source": [
    "df_merge.head()\n",
    "df_merge.tail()\n",
    "df_merge.shape"
   ]
  },
  {
   "cell_type": "code",
   "execution_count": 10,
   "metadata": {},
   "outputs": [
    {
     "data": {
      "text/html": [
       "<div>\n",
       "<style>\n",
       "    .dataframe thead tr:only-child th {\n",
       "        text-align: right;\n",
       "    }\n",
       "\n",
       "    .dataframe thead th {\n",
       "        text-align: left;\n",
       "    }\n",
       "\n",
       "    .dataframe tbody tr th {\n",
       "        vertical-align: top;\n",
       "    }\n",
       "</style>\n",
       "<table border=\"1\" class=\"dataframe\">\n",
       "  <thead>\n",
       "    <tr style=\"text-align: right;\">\n",
       "      <th></th>\n",
       "      <th>tripduration</th>\n",
       "      <th>starttime</th>\n",
       "      <th>stoptime</th>\n",
       "      <th>start station id</th>\n",
       "      <th>start station name</th>\n",
       "      <th>start station latitude</th>\n",
       "      <th>start station longitude</th>\n",
       "      <th>end station id</th>\n",
       "      <th>end station name</th>\n",
       "      <th>end station latitude</th>\n",
       "      <th>end station longitude</th>\n",
       "      <th>bikeid</th>\n",
       "      <th>usertype</th>\n",
       "      <th>birth year</th>\n",
       "      <th>gender</th>\n",
       "    </tr>\n",
       "  </thead>\n",
       "  <tbody>\n",
       "    <tr>\n",
       "      <th>1034354</th>\n",
       "      <td>93</td>\n",
       "      <td>2013-09-30 23:59:16</td>\n",
       "      <td>2013-10-01 00:00:49</td>\n",
       "      <td>360</td>\n",
       "      <td>William St &amp; Pine St</td>\n",
       "      <td>40.707179</td>\n",
       "      <td>-74.008873</td>\n",
       "      <td>195</td>\n",
       "      <td>Liberty St &amp; Broadway</td>\n",
       "      <td>40.709056</td>\n",
       "      <td>-74.010434</td>\n",
       "      <td>20594</td>\n",
       "      <td>Subscriber</td>\n",
       "      <td>1989</td>\n",
       "      <td>1</td>\n",
       "    </tr>\n",
       "    <tr>\n",
       "      <th>1034355</th>\n",
       "      <td>363</td>\n",
       "      <td>2013-09-30 23:59:21</td>\n",
       "      <td>2013-10-01 00:05:24</td>\n",
       "      <td>2003</td>\n",
       "      <td>1 Ave &amp; E 18 St</td>\n",
       "      <td>40.734161</td>\n",
       "      <td>-73.980243</td>\n",
       "      <td>459</td>\n",
       "      <td>W 20 St &amp; 11 Ave</td>\n",
       "      <td>40.746745</td>\n",
       "      <td>-74.007756</td>\n",
       "      <td>15213</td>\n",
       "      <td>Customer</td>\n",
       "      <td>NaN</td>\n",
       "      <td>0</td>\n",
       "    </tr>\n",
       "    <tr>\n",
       "      <th>1034356</th>\n",
       "      <td>562</td>\n",
       "      <td>2013-09-30 23:59:30</td>\n",
       "      <td>2013-10-01 00:08:52</td>\n",
       "      <td>293</td>\n",
       "      <td>Lafayette St &amp; E 8 St</td>\n",
       "      <td>40.730287</td>\n",
       "      <td>-73.990765</td>\n",
       "      <td>463</td>\n",
       "      <td>9 Ave &amp; W 16 St</td>\n",
       "      <td>40.742065</td>\n",
       "      <td>-74.004432</td>\n",
       "      <td>17938</td>\n",
       "      <td>Subscriber</td>\n",
       "      <td>1967</td>\n",
       "      <td>1</td>\n",
       "    </tr>\n",
       "    <tr>\n",
       "      <th>1034357</th>\n",
       "      <td>1237</td>\n",
       "      <td>2013-09-30 23:59:40</td>\n",
       "      <td>2013-10-01 00:20:17</td>\n",
       "      <td>478</td>\n",
       "      <td>11 Ave &amp; W 41 St</td>\n",
       "      <td>40.760301</td>\n",
       "      <td>-73.998842</td>\n",
       "      <td>318</td>\n",
       "      <td>E 43 St &amp; Vanderbilt Ave</td>\n",
       "      <td>40.753202</td>\n",
       "      <td>-73.977987</td>\n",
       "      <td>15931</td>\n",
       "      <td>Customer</td>\n",
       "      <td>NaN</td>\n",
       "      <td>0</td>\n",
       "    </tr>\n",
       "    <tr>\n",
       "      <th>1034358</th>\n",
       "      <td>1292</td>\n",
       "      <td>2013-09-30 23:59:53</td>\n",
       "      <td>2013-10-01 00:21:25</td>\n",
       "      <td>363</td>\n",
       "      <td>West Thames St</td>\n",
       "      <td>40.708347</td>\n",
       "      <td>-74.017134</td>\n",
       "      <td>363</td>\n",
       "      <td>West Thames St</td>\n",
       "      <td>40.708347</td>\n",
       "      <td>-74.017134</td>\n",
       "      <td>14826</td>\n",
       "      <td>Customer</td>\n",
       "      <td>NaN</td>\n",
       "      <td>0</td>\n",
       "    </tr>\n",
       "  </tbody>\n",
       "</table>\n",
       "</div>"
      ],
      "text/plain": [
       "         tripduration            starttime             stoptime  \\\n",
       "1034354            93  2013-09-30 23:59:16  2013-10-01 00:00:49   \n",
       "1034355           363  2013-09-30 23:59:21  2013-10-01 00:05:24   \n",
       "1034356           562  2013-09-30 23:59:30  2013-10-01 00:08:52   \n",
       "1034357          1237  2013-09-30 23:59:40  2013-10-01 00:20:17   \n",
       "1034358          1292  2013-09-30 23:59:53  2013-10-01 00:21:25   \n",
       "\n",
       "         start station id     start station name  start station latitude  \\\n",
       "1034354               360   William St & Pine St               40.707179   \n",
       "1034355              2003        1 Ave & E 18 St               40.734161   \n",
       "1034356               293  Lafayette St & E 8 St               40.730287   \n",
       "1034357               478       11 Ave & W 41 St               40.760301   \n",
       "1034358               363         West Thames St               40.708347   \n",
       "\n",
       "         start station longitude  end station id          end station name  \\\n",
       "1034354               -74.008873             195     Liberty St & Broadway   \n",
       "1034355               -73.980243             459          W 20 St & 11 Ave   \n",
       "1034356               -73.990765             463           9 Ave & W 16 St   \n",
       "1034357               -73.998842             318  E 43 St & Vanderbilt Ave   \n",
       "1034358               -74.017134             363            West Thames St   \n",
       "\n",
       "         end station latitude  end station longitude  bikeid    usertype  \\\n",
       "1034354             40.709056             -74.010434   20594  Subscriber   \n",
       "1034355             40.746745             -74.007756   15213    Customer   \n",
       "1034356             40.742065             -74.004432   17938  Subscriber   \n",
       "1034357             40.753202             -73.977987   15931    Customer   \n",
       "1034358             40.708347             -74.017134   14826    Customer   \n",
       "\n",
       "        birth year  gender  \n",
       "1034354       1989       1  \n",
       "1034355        NaN       0  \n",
       "1034356       1967       1  \n",
       "1034357        NaN       0  \n",
       "1034358        NaN       0  "
      ]
     },
     "execution_count": 10,
     "metadata": {},
     "output_type": "execute_result"
    }
   ],
   "source": [
    "# replace \\N with NaN\n",
    "# df.replace(-999, np.nan)\n",
    "df_merge2 = df_merge.replace(r\"\\N\", np.nan)\n",
    "df_merge2.tail()"
   ]
  },
  {
   "cell_type": "code",
   "execution_count": 11,
   "metadata": {},
   "outputs": [
    {
     "data": {
      "text/html": [
       "<div>\n",
       "<style>\n",
       "    .dataframe thead tr:only-child th {\n",
       "        text-align: right;\n",
       "    }\n",
       "\n",
       "    .dataframe thead th {\n",
       "        text-align: left;\n",
       "    }\n",
       "\n",
       "    .dataframe tbody tr th {\n",
       "        vertical-align: top;\n",
       "    }\n",
       "</style>\n",
       "<table border=\"1\" class=\"dataframe\">\n",
       "  <thead>\n",
       "    <tr style=\"text-align: right;\">\n",
       "      <th></th>\n",
       "      <th>tripduration</th>\n",
       "      <th>starttime</th>\n",
       "      <th>stoptime</th>\n",
       "      <th>start station id</th>\n",
       "      <th>start station name</th>\n",
       "      <th>start station latitude</th>\n",
       "      <th>start station longitude</th>\n",
       "      <th>end station id</th>\n",
       "      <th>end station name</th>\n",
       "      <th>end station latitude</th>\n",
       "      <th>end station longitude</th>\n",
       "      <th>bikeid</th>\n",
       "      <th>usertype</th>\n",
       "      <th>birth year</th>\n",
       "      <th>gender</th>\n",
       "    </tr>\n",
       "  </thead>\n",
       "  <tbody>\n",
       "    <tr>\n",
       "      <th>1034351</th>\n",
       "      <td>434</td>\n",
       "      <td>2013-09-30 23:58:30</td>\n",
       "      <td>2013-10-01 00:05:44</td>\n",
       "      <td>399</td>\n",
       "      <td>Lafayette Ave &amp; St James Pl</td>\n",
       "      <td>40.688515</td>\n",
       "      <td>-73.964763</td>\n",
       "      <td>437</td>\n",
       "      <td>Macon St &amp; Nostrand Ave</td>\n",
       "      <td>40.680983</td>\n",
       "      <td>-73.950048</td>\n",
       "      <td>18160</td>\n",
       "      <td>Subscriber</td>\n",
       "      <td>1991</td>\n",
       "      <td>2</td>\n",
       "    </tr>\n",
       "    <tr>\n",
       "      <th>1034352</th>\n",
       "      <td>663</td>\n",
       "      <td>2013-09-30 23:58:43</td>\n",
       "      <td>2013-10-01 00:09:46</td>\n",
       "      <td>517</td>\n",
       "      <td>Pershing Square S</td>\n",
       "      <td>40.751493</td>\n",
       "      <td>-73.977988</td>\n",
       "      <td>495</td>\n",
       "      <td>W 47 St &amp; 10 Ave</td>\n",
       "      <td>40.762699</td>\n",
       "      <td>-73.993012</td>\n",
       "      <td>14996</td>\n",
       "      <td>Subscriber</td>\n",
       "      <td>1968</td>\n",
       "      <td>1</td>\n",
       "    </tr>\n",
       "    <tr>\n",
       "      <th>1034353</th>\n",
       "      <td>608</td>\n",
       "      <td>2013-09-30 23:59:09</td>\n",
       "      <td>2013-10-01 00:09:17</td>\n",
       "      <td>336</td>\n",
       "      <td>Sullivan St &amp; Washington Sq</td>\n",
       "      <td>40.730477</td>\n",
       "      <td>-73.999061</td>\n",
       "      <td>195</td>\n",
       "      <td>Liberty St &amp; Broadway</td>\n",
       "      <td>40.709056</td>\n",
       "      <td>-74.010434</td>\n",
       "      <td>19440</td>\n",
       "      <td>Subscriber</td>\n",
       "      <td>1981</td>\n",
       "      <td>1</td>\n",
       "    </tr>\n",
       "    <tr>\n",
       "      <th>1034354</th>\n",
       "      <td>93</td>\n",
       "      <td>2013-09-30 23:59:16</td>\n",
       "      <td>2013-10-01 00:00:49</td>\n",
       "      <td>360</td>\n",
       "      <td>William St &amp; Pine St</td>\n",
       "      <td>40.707179</td>\n",
       "      <td>-74.008873</td>\n",
       "      <td>195</td>\n",
       "      <td>Liberty St &amp; Broadway</td>\n",
       "      <td>40.709056</td>\n",
       "      <td>-74.010434</td>\n",
       "      <td>20594</td>\n",
       "      <td>Subscriber</td>\n",
       "      <td>1989</td>\n",
       "      <td>1</td>\n",
       "    </tr>\n",
       "    <tr>\n",
       "      <th>1034356</th>\n",
       "      <td>562</td>\n",
       "      <td>2013-09-30 23:59:30</td>\n",
       "      <td>2013-10-01 00:08:52</td>\n",
       "      <td>293</td>\n",
       "      <td>Lafayette St &amp; E 8 St</td>\n",
       "      <td>40.730287</td>\n",
       "      <td>-73.990765</td>\n",
       "      <td>463</td>\n",
       "      <td>9 Ave &amp; W 16 St</td>\n",
       "      <td>40.742065</td>\n",
       "      <td>-74.004432</td>\n",
       "      <td>17938</td>\n",
       "      <td>Subscriber</td>\n",
       "      <td>1967</td>\n",
       "      <td>1</td>\n",
       "    </tr>\n",
       "  </tbody>\n",
       "</table>\n",
       "</div>"
      ],
      "text/plain": [
       "         tripduration            starttime             stoptime  \\\n",
       "1034351           434  2013-09-30 23:58:30  2013-10-01 00:05:44   \n",
       "1034352           663  2013-09-30 23:58:43  2013-10-01 00:09:46   \n",
       "1034353           608  2013-09-30 23:59:09  2013-10-01 00:09:17   \n",
       "1034354            93  2013-09-30 23:59:16  2013-10-01 00:00:49   \n",
       "1034356           562  2013-09-30 23:59:30  2013-10-01 00:08:52   \n",
       "\n",
       "         start station id           start station name  \\\n",
       "1034351               399  Lafayette Ave & St James Pl   \n",
       "1034352               517            Pershing Square S   \n",
       "1034353               336  Sullivan St & Washington Sq   \n",
       "1034354               360         William St & Pine St   \n",
       "1034356               293        Lafayette St & E 8 St   \n",
       "\n",
       "         start station latitude  start station longitude  end station id  \\\n",
       "1034351               40.688515               -73.964763             437   \n",
       "1034352               40.751493               -73.977988             495   \n",
       "1034353               40.730477               -73.999061             195   \n",
       "1034354               40.707179               -74.008873             195   \n",
       "1034356               40.730287               -73.990765             463   \n",
       "\n",
       "                end station name  end station latitude  end station longitude  \\\n",
       "1034351  Macon St & Nostrand Ave             40.680983             -73.950048   \n",
       "1034352         W 47 St & 10 Ave             40.762699             -73.993012   \n",
       "1034353    Liberty St & Broadway             40.709056             -74.010434   \n",
       "1034354    Liberty St & Broadway             40.709056             -74.010434   \n",
       "1034356          9 Ave & W 16 St             40.742065             -74.004432   \n",
       "\n",
       "         bikeid    usertype birth year  gender  \n",
       "1034351   18160  Subscriber       1991       2  \n",
       "1034352   14996  Subscriber       1968       1  \n",
       "1034353   19440  Subscriber       1981       1  \n",
       "1034354   20594  Subscriber       1989       1  \n",
       "1034356   17938  Subscriber       1967       1  "
      ]
     },
     "execution_count": 11,
     "metadata": {},
     "output_type": "execute_result"
    },
    {
     "data": {
      "text/plain": [
       "(2373663, 15)"
      ]
     },
     "execution_count": 11,
     "metadata": {},
     "output_type": "execute_result"
    }
   ],
   "source": [
    "# drop all rows with NaN\n",
    "df_merge3 = df_merge2.dropna()\n",
    "df_merge3.tail()\n",
    "df_merge3.shape"
   ]
  },
  {
   "cell_type": "code",
   "execution_count": 12,
   "metadata": {},
   "outputs": [
    {
     "data": {
      "text/html": [
       "<div>\n",
       "<style>\n",
       "    .dataframe thead tr:only-child th {\n",
       "        text-align: right;\n",
       "    }\n",
       "\n",
       "    .dataframe thead th {\n",
       "        text-align: left;\n",
       "    }\n",
       "\n",
       "    .dataframe tbody tr th {\n",
       "        vertical-align: top;\n",
       "    }\n",
       "</style>\n",
       "<table border=\"1\" class=\"dataframe\">\n",
       "  <thead>\n",
       "    <tr style=\"text-align: right;\">\n",
       "      <th></th>\n",
       "      <th>tripduration</th>\n",
       "      <th>starttime</th>\n",
       "      <th>stoptime</th>\n",
       "      <th>start station id</th>\n",
       "      <th>start station name</th>\n",
       "      <th>start station latitude</th>\n",
       "      <th>start station longitude</th>\n",
       "      <th>end station id</th>\n",
       "      <th>end station name</th>\n",
       "      <th>end station latitude</th>\n",
       "      <th>end station longitude</th>\n",
       "      <th>bikeid</th>\n",
       "      <th>usertype</th>\n",
       "      <th>birth year</th>\n",
       "      <th>gender</th>\n",
       "    </tr>\n",
       "  </thead>\n",
       "  <tbody>\n",
       "    <tr>\n",
       "      <th>0</th>\n",
       "      <td>178</td>\n",
       "      <td>2013-07-01 00:01:04</td>\n",
       "      <td>2013-07-01 00:04:02</td>\n",
       "      <td>293</td>\n",
       "      <td>Lafayette St &amp; E 8 St</td>\n",
       "      <td>40.730287</td>\n",
       "      <td>-73.990765</td>\n",
       "      <td>237</td>\n",
       "      <td>E 11 St &amp; 2 Ave</td>\n",
       "      <td>40.730473</td>\n",
       "      <td>-73.986724</td>\n",
       "      <td>14548</td>\n",
       "      <td>Subscriber</td>\n",
       "      <td>1980</td>\n",
       "      <td>2</td>\n",
       "    </tr>\n",
       "    <tr>\n",
       "      <th>1</th>\n",
       "      <td>757</td>\n",
       "      <td>2013-07-01 00:01:10</td>\n",
       "      <td>2013-07-01 00:13:47</td>\n",
       "      <td>382</td>\n",
       "      <td>University Pl &amp; E 14 St</td>\n",
       "      <td>40.734927</td>\n",
       "      <td>-73.992005</td>\n",
       "      <td>410</td>\n",
       "      <td>Suffolk St &amp; Stanton St</td>\n",
       "      <td>40.720664</td>\n",
       "      <td>-73.985180</td>\n",
       "      <td>19213</td>\n",
       "      <td>Subscriber</td>\n",
       "      <td>1986</td>\n",
       "      <td>1</td>\n",
       "    </tr>\n",
       "  </tbody>\n",
       "</table>\n",
       "</div>"
      ],
      "text/plain": [
       "   tripduration            starttime             stoptime  start station id  \\\n",
       "0           178  2013-07-01 00:01:04  2013-07-01 00:04:02               293   \n",
       "1           757  2013-07-01 00:01:10  2013-07-01 00:13:47               382   \n",
       "\n",
       "        start station name  start station latitude  start station longitude  \\\n",
       "0    Lafayette St & E 8 St               40.730287               -73.990765   \n",
       "1  University Pl & E 14 St               40.734927               -73.992005   \n",
       "\n",
       "   end station id         end station name  end station latitude  \\\n",
       "0             237          E 11 St & 2 Ave             40.730473   \n",
       "1             410  Suffolk St & Stanton St             40.720664   \n",
       "\n",
       "   end station longitude  bikeid    usertype birth year  gender  \n",
       "0             -73.986724   14548  Subscriber       1980       2  \n",
       "1             -73.985180   19213  Subscriber       1986       1  "
      ]
     },
     "execution_count": 12,
     "metadata": {},
     "output_type": "execute_result"
    }
   ],
   "source": [
    "# reset the index of df_merge3\n",
    "df_merge3.reset_index(drop=True, inplace=True)\n",
    "df_merge3.head(2)"
   ]
  },
  {
   "cell_type": "code",
   "execution_count": 13,
   "metadata": {
    "collapsed": true
   },
   "outputs": [],
   "source": [
    "# add new column - age\n",
    "# create a variable for year (current year for the CitiBike example)\n",
    "year = 2013 "
   ]
  },
  {
   "cell_type": "code",
   "execution_count": 14,
   "metadata": {},
   "outputs": [
    {
     "name": "stdout",
     "output_type": "stream",
     "text": [
      "2373663\n"
     ]
    }
   ],
   "source": [
    "# use for loop to populate age column\n",
    "age_list = []\n",
    "\n",
    "for i in df_merge3['birth year']:\n",
    "    age_list.append(year - int(i))\n",
    "\n",
    "# checks length of age list which is the same as the length of the dataframe - 2373663\n",
    "print(len(age_list))"
   ]
  },
  {
   "cell_type": "code",
   "execution_count": 15,
   "metadata": {
    "collapsed": true
   },
   "outputs": [],
   "source": [
    "# make age_list into a series\n",
    "# set it to a variable \"age\" which will be the new column \"age\" that we add to the dataframe\n",
    "age = pd.Series(age_list)"
   ]
  },
  {
   "cell_type": "code",
   "execution_count": 16,
   "metadata": {
    "collapsed": true
   },
   "outputs": [],
   "source": [
    "# now insert age into the df as a column \n",
    "# loc=14 will set the location at index14\n",
    "# value=age - sets the values of the column to the pd series list we made above\n",
    "df_merge3.insert(loc=14, column='age', value=age)"
   ]
  },
  {
   "cell_type": "code",
   "execution_count": 17,
   "metadata": {
    "collapsed": true
   },
   "outputs": [],
   "source": [
    "# change gender numeric to 1==\"male\", 2==\"female\" 3==\"unknown\"\n",
    "# set an empty list to append to\n",
    "gender_list= []"
   ]
  },
  {
   "cell_type": "code",
   "execution_count": 18,
   "metadata": {},
   "outputs": [
    {
     "name": "stdout",
     "output_type": "stream",
     "text": [
      "2373663\n"
     ]
    }
   ],
   "source": [
    "for g in df_merge3['gender']:\n",
    "    if g == 0:\n",
    "        gender_list.append('unknown')\n",
    "    elif g == 1:\n",
    "        gender_list.append('male')\n",
    "    else:\n",
    "        gender_list.append('female')\n",
    "    \n",
    "# checks length of age list which is the same as the length of the dataframe - 2373663\n",
    "print(len(gender_list))"
   ]
  },
  {
   "cell_type": "code",
   "execution_count": 19,
   "metadata": {},
   "outputs": [
    {
     "name": "stdout",
     "output_type": "stream",
     "text": [
      "2373663\n"
     ]
    }
   ],
   "source": [
    "# print gender type\n",
    "print(len(gender_list))"
   ]
  },
  {
   "cell_type": "code",
   "execution_count": 20,
   "metadata": {
    "collapsed": true
   },
   "outputs": [],
   "source": [
    "# make gender_type into a series\n",
    "# set it to a variable \"gender_type\" which will be the new column \"age\" that we add to the dataframe\n",
    "gender_type = pd.Series(gender_list)"
   ]
  },
  {
   "cell_type": "code",
   "execution_count": 21,
   "metadata": {
    "collapsed": true
   },
   "outputs": [],
   "source": [
    "# now insert gender_type into the df as a column \n",
    "# loc=15 will set the location at index15\n",
    "df_merge3.insert(loc=15, column='gender type', value=gender_type)"
   ]
  },
  {
   "cell_type": "code",
   "execution_count": 22,
   "metadata": {},
   "outputs": [
    {
     "data": {
      "text/html": [
       "<div>\n",
       "<style>\n",
       "    .dataframe thead tr:only-child th {\n",
       "        text-align: right;\n",
       "    }\n",
       "\n",
       "    .dataframe thead th {\n",
       "        text-align: left;\n",
       "    }\n",
       "\n",
       "    .dataframe tbody tr th {\n",
       "        vertical-align: top;\n",
       "    }\n",
       "</style>\n",
       "<table border=\"1\" class=\"dataframe\">\n",
       "  <thead>\n",
       "    <tr style=\"text-align: right;\">\n",
       "      <th></th>\n",
       "      <th>tripduration</th>\n",
       "      <th>starttime</th>\n",
       "      <th>stoptime</th>\n",
       "      <th>start station id</th>\n",
       "      <th>start station name</th>\n",
       "      <th>start station latitude</th>\n",
       "      <th>start station longitude</th>\n",
       "      <th>end station id</th>\n",
       "      <th>end station name</th>\n",
       "      <th>end station latitude</th>\n",
       "      <th>end station longitude</th>\n",
       "      <th>bikeid</th>\n",
       "      <th>usertype</th>\n",
       "      <th>birth year</th>\n",
       "      <th>age</th>\n",
       "      <th>gender type</th>\n",
       "      <th>gender</th>\n",
       "    </tr>\n",
       "  </thead>\n",
       "  <tbody>\n",
       "    <tr>\n",
       "      <th>0</th>\n",
       "      <td>178</td>\n",
       "      <td>2013-07-01 00:01:04</td>\n",
       "      <td>2013-07-01 00:04:02</td>\n",
       "      <td>293</td>\n",
       "      <td>Lafayette St &amp; E 8 St</td>\n",
       "      <td>40.730287</td>\n",
       "      <td>-73.990765</td>\n",
       "      <td>237</td>\n",
       "      <td>E 11 St &amp; 2 Ave</td>\n",
       "      <td>40.730473</td>\n",
       "      <td>-73.986724</td>\n",
       "      <td>14548</td>\n",
       "      <td>Subscriber</td>\n",
       "      <td>1980</td>\n",
       "      <td>33</td>\n",
       "      <td>female</td>\n",
       "      <td>2</td>\n",
       "    </tr>\n",
       "    <tr>\n",
       "      <th>1</th>\n",
       "      <td>757</td>\n",
       "      <td>2013-07-01 00:01:10</td>\n",
       "      <td>2013-07-01 00:13:47</td>\n",
       "      <td>382</td>\n",
       "      <td>University Pl &amp; E 14 St</td>\n",
       "      <td>40.734927</td>\n",
       "      <td>-73.992005</td>\n",
       "      <td>410</td>\n",
       "      <td>Suffolk St &amp; Stanton St</td>\n",
       "      <td>40.720664</td>\n",
       "      <td>-73.985180</td>\n",
       "      <td>19213</td>\n",
       "      <td>Subscriber</td>\n",
       "      <td>1986</td>\n",
       "      <td>27</td>\n",
       "      <td>male</td>\n",
       "      <td>1</td>\n",
       "    </tr>\n",
       "  </tbody>\n",
       "</table>\n",
       "</div>"
      ],
      "text/plain": [
       "   tripduration            starttime             stoptime  start station id  \\\n",
       "0           178  2013-07-01 00:01:04  2013-07-01 00:04:02               293   \n",
       "1           757  2013-07-01 00:01:10  2013-07-01 00:13:47               382   \n",
       "\n",
       "        start station name  start station latitude  start station longitude  \\\n",
       "0    Lafayette St & E 8 St               40.730287               -73.990765   \n",
       "1  University Pl & E 14 St               40.734927               -73.992005   \n",
       "\n",
       "   end station id         end station name  end station latitude  \\\n",
       "0             237          E 11 St & 2 Ave             40.730473   \n",
       "1             410  Suffolk St & Stanton St             40.720664   \n",
       "\n",
       "   end station longitude  bikeid    usertype birth year  age gender type  \\\n",
       "0             -73.986724   14548  Subscriber       1980   33      female   \n",
       "1             -73.985180   19213  Subscriber       1986   27        male   \n",
       "\n",
       "   gender  \n",
       "0       2  \n",
       "1       1  "
      ]
     },
     "execution_count": 22,
     "metadata": {},
     "output_type": "execute_result"
    },
    {
     "data": {
      "text/html": [
       "<div>\n",
       "<style>\n",
       "    .dataframe thead tr:only-child th {\n",
       "        text-align: right;\n",
       "    }\n",
       "\n",
       "    .dataframe thead th {\n",
       "        text-align: left;\n",
       "    }\n",
       "\n",
       "    .dataframe tbody tr th {\n",
       "        vertical-align: top;\n",
       "    }\n",
       "</style>\n",
       "<table border=\"1\" class=\"dataframe\">\n",
       "  <thead>\n",
       "    <tr style=\"text-align: right;\">\n",
       "      <th></th>\n",
       "      <th>tripduration</th>\n",
       "      <th>starttime</th>\n",
       "      <th>stoptime</th>\n",
       "      <th>start station id</th>\n",
       "      <th>start station name</th>\n",
       "      <th>start station latitude</th>\n",
       "      <th>start station longitude</th>\n",
       "      <th>end station id</th>\n",
       "      <th>end station name</th>\n",
       "      <th>end station latitude</th>\n",
       "      <th>end station longitude</th>\n",
       "      <th>bikeid</th>\n",
       "      <th>usertype</th>\n",
       "      <th>birth year</th>\n",
       "      <th>age</th>\n",
       "      <th>gender type</th>\n",
       "      <th>gender</th>\n",
       "    </tr>\n",
       "  </thead>\n",
       "  <tbody>\n",
       "    <tr>\n",
       "      <th>2373661</th>\n",
       "      <td>93</td>\n",
       "      <td>2013-09-30 23:59:16</td>\n",
       "      <td>2013-10-01 00:00:49</td>\n",
       "      <td>360</td>\n",
       "      <td>William St &amp; Pine St</td>\n",
       "      <td>40.707179</td>\n",
       "      <td>-74.008873</td>\n",
       "      <td>195</td>\n",
       "      <td>Liberty St &amp; Broadway</td>\n",
       "      <td>40.709056</td>\n",
       "      <td>-74.010434</td>\n",
       "      <td>20594</td>\n",
       "      <td>Subscriber</td>\n",
       "      <td>1989</td>\n",
       "      <td>24</td>\n",
       "      <td>male</td>\n",
       "      <td>1</td>\n",
       "    </tr>\n",
       "    <tr>\n",
       "      <th>2373662</th>\n",
       "      <td>562</td>\n",
       "      <td>2013-09-30 23:59:30</td>\n",
       "      <td>2013-10-01 00:08:52</td>\n",
       "      <td>293</td>\n",
       "      <td>Lafayette St &amp; E 8 St</td>\n",
       "      <td>40.730287</td>\n",
       "      <td>-73.990765</td>\n",
       "      <td>463</td>\n",
       "      <td>9 Ave &amp; W 16 St</td>\n",
       "      <td>40.742065</td>\n",
       "      <td>-74.004432</td>\n",
       "      <td>17938</td>\n",
       "      <td>Subscriber</td>\n",
       "      <td>1967</td>\n",
       "      <td>46</td>\n",
       "      <td>male</td>\n",
       "      <td>1</td>\n",
       "    </tr>\n",
       "  </tbody>\n",
       "</table>\n",
       "</div>"
      ],
      "text/plain": [
       "         tripduration            starttime             stoptime  \\\n",
       "2373661            93  2013-09-30 23:59:16  2013-10-01 00:00:49   \n",
       "2373662           562  2013-09-30 23:59:30  2013-10-01 00:08:52   \n",
       "\n",
       "         start station id     start station name  start station latitude  \\\n",
       "2373661               360   William St & Pine St               40.707179   \n",
       "2373662               293  Lafayette St & E 8 St               40.730287   \n",
       "\n",
       "         start station longitude  end station id       end station name  \\\n",
       "2373661               -74.008873             195  Liberty St & Broadway   \n",
       "2373662               -73.990765             463        9 Ave & W 16 St   \n",
       "\n",
       "         end station latitude  end station longitude  bikeid    usertype  \\\n",
       "2373661             40.709056             -74.010434   20594  Subscriber   \n",
       "2373662             40.742065             -74.004432   17938  Subscriber   \n",
       "\n",
       "        birth year  age gender type  gender  \n",
       "2373661       1989   24        male       1  \n",
       "2373662       1967   46        male       1  "
      ]
     },
     "execution_count": 22,
     "metadata": {},
     "output_type": "execute_result"
    },
    {
     "data": {
      "text/plain": [
       "(2373663, 17)"
      ]
     },
     "execution_count": 22,
     "metadata": {},
     "output_type": "execute_result"
    }
   ],
   "source": [
    "# print top 2 rows - notice that we have an extra index after we reset the index\n",
    "df_merge3.head(2)\n",
    "df_merge3.tail(2)\n",
    "df_merge3.shape"
   ]
  },
  {
   "cell_type": "code",
   "execution_count": 23,
   "metadata": {
    "collapsed": true
   },
   "outputs": [],
   "source": [
    "# save this cleaned, merged dataframe to a csv\n",
    "# there are close to 3 mill observations for this merged dataframe\n",
    "# save df_merge.to_csv\n",
    "df_merge3.to_csv('TripData_2013_Summer2.csv', index=False)"
   ]
  },
  {
   "cell_type": "markdown",
   "metadata": {},
   "source": [
    "<br>"
   ]
  },
  {
   "cell_type": "markdown",
   "metadata": {},
   "source": [
    "# New section - don't drop Nan\n",
    "## repeat loops for age and gender"
   ]
  },
  {
   "cell_type": "code",
   "execution_count": 40,
   "metadata": {},
   "outputs": [
    {
     "data": {
      "text/html": [
       "<div>\n",
       "<style>\n",
       "    .dataframe thead tr:only-child th {\n",
       "        text-align: right;\n",
       "    }\n",
       "\n",
       "    .dataframe thead th {\n",
       "        text-align: left;\n",
       "    }\n",
       "\n",
       "    .dataframe tbody tr th {\n",
       "        vertical-align: top;\n",
       "    }\n",
       "</style>\n",
       "<table border=\"1\" class=\"dataframe\">\n",
       "  <thead>\n",
       "    <tr style=\"text-align: right;\">\n",
       "      <th></th>\n",
       "      <th>tripduration</th>\n",
       "      <th>starttime</th>\n",
       "      <th>stoptime</th>\n",
       "      <th>start station id</th>\n",
       "      <th>start station name</th>\n",
       "      <th>start station latitude</th>\n",
       "      <th>start station longitude</th>\n",
       "      <th>end station id</th>\n",
       "      <th>end station name</th>\n",
       "      <th>end station latitude</th>\n",
       "      <th>end station longitude</th>\n",
       "      <th>bikeid</th>\n",
       "      <th>usertype</th>\n",
       "      <th>birth year</th>\n",
       "      <th>gender</th>\n",
       "    </tr>\n",
       "  </thead>\n",
       "  <tbody>\n",
       "    <tr>\n",
       "      <th>0</th>\n",
       "      <td>634</td>\n",
       "      <td>2013-07-01 00:00:00</td>\n",
       "      <td>2013-07-01 00:10:34</td>\n",
       "      <td>164</td>\n",
       "      <td>E 47 St &amp; 2 Ave</td>\n",
       "      <td>40.753231</td>\n",
       "      <td>-73.970325</td>\n",
       "      <td>504</td>\n",
       "      <td>1 Ave &amp; E 15 St</td>\n",
       "      <td>40.732219</td>\n",
       "      <td>-73.981656</td>\n",
       "      <td>16950</td>\n",
       "      <td>Customer</td>\n",
       "      <td>NaN</td>\n",
       "      <td>0</td>\n",
       "    </tr>\n",
       "    <tr>\n",
       "      <th>1</th>\n",
       "      <td>1547</td>\n",
       "      <td>2013-07-01 00:00:02</td>\n",
       "      <td>2013-07-01 00:25:49</td>\n",
       "      <td>388</td>\n",
       "      <td>W 26 St &amp; 10 Ave</td>\n",
       "      <td>40.749718</td>\n",
       "      <td>-74.002950</td>\n",
       "      <td>459</td>\n",
       "      <td>W 20 St &amp; 11 Ave</td>\n",
       "      <td>40.746745</td>\n",
       "      <td>-74.007756</td>\n",
       "      <td>19816</td>\n",
       "      <td>Customer</td>\n",
       "      <td>NaN</td>\n",
       "      <td>0</td>\n",
       "    </tr>\n",
       "  </tbody>\n",
       "</table>\n",
       "</div>"
      ],
      "text/plain": [
       "   tripduration            starttime             stoptime  start station id  \\\n",
       "0           634  2013-07-01 00:00:00  2013-07-01 00:10:34               164   \n",
       "1          1547  2013-07-01 00:00:02  2013-07-01 00:25:49               388   \n",
       "\n",
       "  start station name  start station latitude  start station longitude  \\\n",
       "0    E 47 St & 2 Ave               40.753231               -73.970325   \n",
       "1   W 26 St & 10 Ave               40.749718               -74.002950   \n",
       "\n",
       "   end station id  end station name  end station latitude  \\\n",
       "0             504   1 Ave & E 15 St             40.732219   \n",
       "1             459  W 20 St & 11 Ave             40.746745   \n",
       "\n",
       "   end station longitude  bikeid  usertype birth year  gender  \n",
       "0             -73.981656   16950  Customer        NaN       0  \n",
       "1             -74.007756   19816  Customer        NaN       0  "
      ]
     },
     "execution_count": 40,
     "metadata": {},
     "output_type": "execute_result"
    },
    {
     "data": {
      "text/html": [
       "<div>\n",
       "<style>\n",
       "    .dataframe thead tr:only-child th {\n",
       "        text-align: right;\n",
       "    }\n",
       "\n",
       "    .dataframe thead th {\n",
       "        text-align: left;\n",
       "    }\n",
       "\n",
       "    .dataframe tbody tr th {\n",
       "        vertical-align: top;\n",
       "    }\n",
       "</style>\n",
       "<table border=\"1\" class=\"dataframe\">\n",
       "  <thead>\n",
       "    <tr style=\"text-align: right;\">\n",
       "      <th></th>\n",
       "      <th>tripduration</th>\n",
       "      <th>starttime</th>\n",
       "      <th>stoptime</th>\n",
       "      <th>start station id</th>\n",
       "      <th>start station name</th>\n",
       "      <th>start station latitude</th>\n",
       "      <th>start station longitude</th>\n",
       "      <th>end station id</th>\n",
       "      <th>end station name</th>\n",
       "      <th>end station latitude</th>\n",
       "      <th>end station longitude</th>\n",
       "      <th>bikeid</th>\n",
       "      <th>usertype</th>\n",
       "      <th>birth year</th>\n",
       "      <th>gender</th>\n",
       "    </tr>\n",
       "  </thead>\n",
       "  <tbody>\n",
       "    <tr>\n",
       "      <th>1034354</th>\n",
       "      <td>93</td>\n",
       "      <td>2013-09-30 23:59:16</td>\n",
       "      <td>2013-10-01 00:00:49</td>\n",
       "      <td>360</td>\n",
       "      <td>William St &amp; Pine St</td>\n",
       "      <td>40.707179</td>\n",
       "      <td>-74.008873</td>\n",
       "      <td>195</td>\n",
       "      <td>Liberty St &amp; Broadway</td>\n",
       "      <td>40.709056</td>\n",
       "      <td>-74.010434</td>\n",
       "      <td>20594</td>\n",
       "      <td>Subscriber</td>\n",
       "      <td>1989</td>\n",
       "      <td>1</td>\n",
       "    </tr>\n",
       "    <tr>\n",
       "      <th>1034355</th>\n",
       "      <td>363</td>\n",
       "      <td>2013-09-30 23:59:21</td>\n",
       "      <td>2013-10-01 00:05:24</td>\n",
       "      <td>2003</td>\n",
       "      <td>1 Ave &amp; E 18 St</td>\n",
       "      <td>40.734161</td>\n",
       "      <td>-73.980243</td>\n",
       "      <td>459</td>\n",
       "      <td>W 20 St &amp; 11 Ave</td>\n",
       "      <td>40.746745</td>\n",
       "      <td>-74.007756</td>\n",
       "      <td>15213</td>\n",
       "      <td>Customer</td>\n",
       "      <td>NaN</td>\n",
       "      <td>0</td>\n",
       "    </tr>\n",
       "    <tr>\n",
       "      <th>1034356</th>\n",
       "      <td>562</td>\n",
       "      <td>2013-09-30 23:59:30</td>\n",
       "      <td>2013-10-01 00:08:52</td>\n",
       "      <td>293</td>\n",
       "      <td>Lafayette St &amp; E 8 St</td>\n",
       "      <td>40.730287</td>\n",
       "      <td>-73.990765</td>\n",
       "      <td>463</td>\n",
       "      <td>9 Ave &amp; W 16 St</td>\n",
       "      <td>40.742065</td>\n",
       "      <td>-74.004432</td>\n",
       "      <td>17938</td>\n",
       "      <td>Subscriber</td>\n",
       "      <td>1967</td>\n",
       "      <td>1</td>\n",
       "    </tr>\n",
       "    <tr>\n",
       "      <th>1034357</th>\n",
       "      <td>1237</td>\n",
       "      <td>2013-09-30 23:59:40</td>\n",
       "      <td>2013-10-01 00:20:17</td>\n",
       "      <td>478</td>\n",
       "      <td>11 Ave &amp; W 41 St</td>\n",
       "      <td>40.760301</td>\n",
       "      <td>-73.998842</td>\n",
       "      <td>318</td>\n",
       "      <td>E 43 St &amp; Vanderbilt Ave</td>\n",
       "      <td>40.753202</td>\n",
       "      <td>-73.977987</td>\n",
       "      <td>15931</td>\n",
       "      <td>Customer</td>\n",
       "      <td>NaN</td>\n",
       "      <td>0</td>\n",
       "    </tr>\n",
       "    <tr>\n",
       "      <th>1034358</th>\n",
       "      <td>1292</td>\n",
       "      <td>2013-09-30 23:59:53</td>\n",
       "      <td>2013-10-01 00:21:25</td>\n",
       "      <td>363</td>\n",
       "      <td>West Thames St</td>\n",
       "      <td>40.708347</td>\n",
       "      <td>-74.017134</td>\n",
       "      <td>363</td>\n",
       "      <td>West Thames St</td>\n",
       "      <td>40.708347</td>\n",
       "      <td>-74.017134</td>\n",
       "      <td>14826</td>\n",
       "      <td>Customer</td>\n",
       "      <td>NaN</td>\n",
       "      <td>0</td>\n",
       "    </tr>\n",
       "  </tbody>\n",
       "</table>\n",
       "</div>"
      ],
      "text/plain": [
       "         tripduration            starttime             stoptime  \\\n",
       "1034354            93  2013-09-30 23:59:16  2013-10-01 00:00:49   \n",
       "1034355           363  2013-09-30 23:59:21  2013-10-01 00:05:24   \n",
       "1034356           562  2013-09-30 23:59:30  2013-10-01 00:08:52   \n",
       "1034357          1237  2013-09-30 23:59:40  2013-10-01 00:20:17   \n",
       "1034358          1292  2013-09-30 23:59:53  2013-10-01 00:21:25   \n",
       "\n",
       "         start station id     start station name  start station latitude  \\\n",
       "1034354               360   William St & Pine St               40.707179   \n",
       "1034355              2003        1 Ave & E 18 St               40.734161   \n",
       "1034356               293  Lafayette St & E 8 St               40.730287   \n",
       "1034357               478       11 Ave & W 41 St               40.760301   \n",
       "1034358               363         West Thames St               40.708347   \n",
       "\n",
       "         start station longitude  end station id          end station name  \\\n",
       "1034354               -74.008873             195     Liberty St & Broadway   \n",
       "1034355               -73.980243             459          W 20 St & 11 Ave   \n",
       "1034356               -73.990765             463           9 Ave & W 16 St   \n",
       "1034357               -73.998842             318  E 43 St & Vanderbilt Ave   \n",
       "1034358               -74.017134             363            West Thames St   \n",
       "\n",
       "         end station latitude  end station longitude  bikeid    usertype  \\\n",
       "1034354             40.709056             -74.010434   20594  Subscriber   \n",
       "1034355             40.746745             -74.007756   15213    Customer   \n",
       "1034356             40.742065             -74.004432   17938  Subscriber   \n",
       "1034357             40.753202             -73.977987   15931    Customer   \n",
       "1034358             40.708347             -74.017134   14826    Customer   \n",
       "\n",
       "        birth year  gender  \n",
       "1034354       1989       1  \n",
       "1034355        NaN       0  \n",
       "1034356       1967       1  \n",
       "1034357        NaN       0  \n",
       "1034358        NaN       0  "
      ]
     },
     "execution_count": 40,
     "metadata": {},
     "output_type": "execute_result"
    }
   ],
   "source": [
    "# read dataframe before dropna\n",
    "df_merge2.head(2)\n",
    "df_merge2.tail()"
   ]
  },
  {
   "cell_type": "code",
   "execution_count": 41,
   "metadata": {},
   "outputs": [
    {
     "data": {
      "text/html": [
       "<div>\n",
       "<style>\n",
       "    .dataframe thead tr:only-child th {\n",
       "        text-align: right;\n",
       "    }\n",
       "\n",
       "    .dataframe thead th {\n",
       "        text-align: left;\n",
       "    }\n",
       "\n",
       "    .dataframe tbody tr th {\n",
       "        vertical-align: top;\n",
       "    }\n",
       "</style>\n",
       "<table border=\"1\" class=\"dataframe\">\n",
       "  <thead>\n",
       "    <tr style=\"text-align: right;\">\n",
       "      <th></th>\n",
       "      <th>tripduration</th>\n",
       "      <th>starttime</th>\n",
       "      <th>stoptime</th>\n",
       "      <th>start station id</th>\n",
       "      <th>start station name</th>\n",
       "      <th>start station latitude</th>\n",
       "      <th>start station longitude</th>\n",
       "      <th>end station id</th>\n",
       "      <th>end station name</th>\n",
       "      <th>end station latitude</th>\n",
       "      <th>end station longitude</th>\n",
       "      <th>bikeid</th>\n",
       "      <th>usertype</th>\n",
       "      <th>birth year</th>\n",
       "      <th>gender</th>\n",
       "    </tr>\n",
       "  </thead>\n",
       "  <tbody>\n",
       "    <tr>\n",
       "      <th>1034354</th>\n",
       "      <td>93</td>\n",
       "      <td>2013-09-30 23:59:16</td>\n",
       "      <td>2013-10-01 00:00:49</td>\n",
       "      <td>360</td>\n",
       "      <td>William St &amp; Pine St</td>\n",
       "      <td>40.707179</td>\n",
       "      <td>-74.008873</td>\n",
       "      <td>195</td>\n",
       "      <td>Liberty St &amp; Broadway</td>\n",
       "      <td>40.709056</td>\n",
       "      <td>-74.010434</td>\n",
       "      <td>20594</td>\n",
       "      <td>Subscriber</td>\n",
       "      <td>1989</td>\n",
       "      <td>1</td>\n",
       "    </tr>\n",
       "    <tr>\n",
       "      <th>1034355</th>\n",
       "      <td>363</td>\n",
       "      <td>2013-09-30 23:59:21</td>\n",
       "      <td>2013-10-01 00:05:24</td>\n",
       "      <td>2003</td>\n",
       "      <td>1 Ave &amp; E 18 St</td>\n",
       "      <td>40.734161</td>\n",
       "      <td>-73.980243</td>\n",
       "      <td>459</td>\n",
       "      <td>W 20 St &amp; 11 Ave</td>\n",
       "      <td>40.746745</td>\n",
       "      <td>-74.007756</td>\n",
       "      <td>15213</td>\n",
       "      <td>Customer</td>\n",
       "      <td>2013</td>\n",
       "      <td>0</td>\n",
       "    </tr>\n",
       "    <tr>\n",
       "      <th>1034356</th>\n",
       "      <td>562</td>\n",
       "      <td>2013-09-30 23:59:30</td>\n",
       "      <td>2013-10-01 00:08:52</td>\n",
       "      <td>293</td>\n",
       "      <td>Lafayette St &amp; E 8 St</td>\n",
       "      <td>40.730287</td>\n",
       "      <td>-73.990765</td>\n",
       "      <td>463</td>\n",
       "      <td>9 Ave &amp; W 16 St</td>\n",
       "      <td>40.742065</td>\n",
       "      <td>-74.004432</td>\n",
       "      <td>17938</td>\n",
       "      <td>Subscriber</td>\n",
       "      <td>1967</td>\n",
       "      <td>1</td>\n",
       "    </tr>\n",
       "    <tr>\n",
       "      <th>1034357</th>\n",
       "      <td>1237</td>\n",
       "      <td>2013-09-30 23:59:40</td>\n",
       "      <td>2013-10-01 00:20:17</td>\n",
       "      <td>478</td>\n",
       "      <td>11 Ave &amp; W 41 St</td>\n",
       "      <td>40.760301</td>\n",
       "      <td>-73.998842</td>\n",
       "      <td>318</td>\n",
       "      <td>E 43 St &amp; Vanderbilt Ave</td>\n",
       "      <td>40.753202</td>\n",
       "      <td>-73.977987</td>\n",
       "      <td>15931</td>\n",
       "      <td>Customer</td>\n",
       "      <td>2013</td>\n",
       "      <td>0</td>\n",
       "    </tr>\n",
       "    <tr>\n",
       "      <th>1034358</th>\n",
       "      <td>1292</td>\n",
       "      <td>2013-09-30 23:59:53</td>\n",
       "      <td>2013-10-01 00:21:25</td>\n",
       "      <td>363</td>\n",
       "      <td>West Thames St</td>\n",
       "      <td>40.708347</td>\n",
       "      <td>-74.017134</td>\n",
       "      <td>363</td>\n",
       "      <td>West Thames St</td>\n",
       "      <td>40.708347</td>\n",
       "      <td>-74.017134</td>\n",
       "      <td>14826</td>\n",
       "      <td>Customer</td>\n",
       "      <td>2013</td>\n",
       "      <td>0</td>\n",
       "    </tr>\n",
       "  </tbody>\n",
       "</table>\n",
       "</div>"
      ],
      "text/plain": [
       "         tripduration            starttime             stoptime  \\\n",
       "1034354            93  2013-09-30 23:59:16  2013-10-01 00:00:49   \n",
       "1034355           363  2013-09-30 23:59:21  2013-10-01 00:05:24   \n",
       "1034356           562  2013-09-30 23:59:30  2013-10-01 00:08:52   \n",
       "1034357          1237  2013-09-30 23:59:40  2013-10-01 00:20:17   \n",
       "1034358          1292  2013-09-30 23:59:53  2013-10-01 00:21:25   \n",
       "\n",
       "         start station id     start station name  start station latitude  \\\n",
       "1034354               360   William St & Pine St               40.707179   \n",
       "1034355              2003        1 Ave & E 18 St               40.734161   \n",
       "1034356               293  Lafayette St & E 8 St               40.730287   \n",
       "1034357               478       11 Ave & W 41 St               40.760301   \n",
       "1034358               363         West Thames St               40.708347   \n",
       "\n",
       "         start station longitude  end station id          end station name  \\\n",
       "1034354               -74.008873             195     Liberty St & Broadway   \n",
       "1034355               -73.980243             459          W 20 St & 11 Ave   \n",
       "1034356               -73.990765             463           9 Ave & W 16 St   \n",
       "1034357               -73.998842             318  E 43 St & Vanderbilt Ave   \n",
       "1034358               -74.017134             363            West Thames St   \n",
       "\n",
       "         end station latitude  end station longitude  bikeid    usertype  \\\n",
       "1034354             40.709056             -74.010434   20594  Subscriber   \n",
       "1034355             40.746745             -74.007756   15213    Customer   \n",
       "1034356             40.742065             -74.004432   17938  Subscriber   \n",
       "1034357             40.753202             -73.977987   15931    Customer   \n",
       "1034358             40.708347             -74.017134   14826    Customer   \n",
       "\n",
       "        birth year  gender  \n",
       "1034354       1989       1  \n",
       "1034355       2013       0  \n",
       "1034356       1967       1  \n",
       "1034357       2013       0  \n",
       "1034358       2013       0  "
      ]
     },
     "execution_count": 41,
     "metadata": {},
     "output_type": "execute_result"
    },
    {
     "data": {
      "text/plain": [
       "(2879733, 15)"
      ]
     },
     "execution_count": 41,
     "metadata": {},
     "output_type": "execute_result"
    }
   ],
   "source": [
    "# 2013 in birth year is the year of the data set and now represents the NaN or unknown value\n",
    "# we did this to avoid dropping na so that we keep the 0 - gender classificaiton\n",
    "df_new = df_merge2.fillna(year)\n",
    "df_new.tail()\n",
    "df_new.shape"
   ]
  },
  {
   "cell_type": "code",
   "execution_count": 45,
   "metadata": {},
   "outputs": [
    {
     "name": "stdout",
     "output_type": "stream",
     "text": [
      "2879733\n"
     ]
    }
   ],
   "source": [
    "# use for loop to populate age column\n",
    "age_list2 = []\n",
    "\n",
    "for i in df_new['birth year']:\n",
    "    age_list2.append(year - int(i))\n",
    "\n",
    "# checks length of age list which is the same as the length of the dataframe - 2373663\n",
    "print(len(age_list2))"
   ]
  },
  {
   "cell_type": "code",
   "execution_count": 46,
   "metadata": {
    "collapsed": true
   },
   "outputs": [],
   "source": [
    "# make age_list2 into a series\n",
    "# set it to a variable \"age2\" which will be the new column \"age\" that we add to the dataframe\n",
    "age2 = pd.Series(age_list2)"
   ]
  },
  {
   "cell_type": "code",
   "execution_count": 47,
   "metadata": {
    "collapsed": true
   },
   "outputs": [],
   "source": [
    "# now insert age into the df as a column \n",
    "# loc=14 will set the location at index14\n",
    "# value=age - sets the values of the column to the pd series list we made above\n",
    "df_new.insert(loc=14, column='age', value=age2)"
   ]
  },
  {
   "cell_type": "code",
   "execution_count": 51,
   "metadata": {},
   "outputs": [
    {
     "data": {
      "text/html": [
       "<div>\n",
       "<style>\n",
       "    .dataframe thead tr:only-child th {\n",
       "        text-align: right;\n",
       "    }\n",
       "\n",
       "    .dataframe thead th {\n",
       "        text-align: left;\n",
       "    }\n",
       "\n",
       "    .dataframe tbody tr th {\n",
       "        vertical-align: top;\n",
       "    }\n",
       "</style>\n",
       "<table border=\"1\" class=\"dataframe\">\n",
       "  <thead>\n",
       "    <tr style=\"text-align: right;\">\n",
       "      <th></th>\n",
       "      <th>tripduration</th>\n",
       "      <th>starttime</th>\n",
       "      <th>stoptime</th>\n",
       "      <th>start station id</th>\n",
       "      <th>start station name</th>\n",
       "      <th>start station latitude</th>\n",
       "      <th>start station longitude</th>\n",
       "      <th>end station id</th>\n",
       "      <th>end station name</th>\n",
       "      <th>end station latitude</th>\n",
       "      <th>end station longitude</th>\n",
       "      <th>bikeid</th>\n",
       "      <th>usertype</th>\n",
       "      <th>birth year</th>\n",
       "      <th>age</th>\n",
       "      <th>gender</th>\n",
       "    </tr>\n",
       "  </thead>\n",
       "  <tbody>\n",
       "    <tr>\n",
       "      <th>0</th>\n",
       "      <td>634</td>\n",
       "      <td>2013-07-01 00:00:00</td>\n",
       "      <td>2013-07-01 00:10:34</td>\n",
       "      <td>164</td>\n",
       "      <td>E 47 St &amp; 2 Ave</td>\n",
       "      <td>40.753231</td>\n",
       "      <td>-73.970325</td>\n",
       "      <td>504</td>\n",
       "      <td>1 Ave &amp; E 15 St</td>\n",
       "      <td>40.732219</td>\n",
       "      <td>-73.981656</td>\n",
       "      <td>16950</td>\n",
       "      <td>Customer</td>\n",
       "      <td>2013</td>\n",
       "      <td>0</td>\n",
       "      <td>0</td>\n",
       "    </tr>\n",
       "    <tr>\n",
       "      <th>1</th>\n",
       "      <td>1547</td>\n",
       "      <td>2013-07-01 00:00:02</td>\n",
       "      <td>2013-07-01 00:25:49</td>\n",
       "      <td>388</td>\n",
       "      <td>W 26 St &amp; 10 Ave</td>\n",
       "      <td>40.749718</td>\n",
       "      <td>-74.002950</td>\n",
       "      <td>459</td>\n",
       "      <td>W 20 St &amp; 11 Ave</td>\n",
       "      <td>40.746745</td>\n",
       "      <td>-74.007756</td>\n",
       "      <td>19816</td>\n",
       "      <td>Customer</td>\n",
       "      <td>2013</td>\n",
       "      <td>0</td>\n",
       "      <td>0</td>\n",
       "    </tr>\n",
       "    <tr>\n",
       "      <th>2</th>\n",
       "      <td>178</td>\n",
       "      <td>2013-07-01 00:01:04</td>\n",
       "      <td>2013-07-01 00:04:02</td>\n",
       "      <td>293</td>\n",
       "      <td>Lafayette St &amp; E 8 St</td>\n",
       "      <td>40.730287</td>\n",
       "      <td>-73.990765</td>\n",
       "      <td>237</td>\n",
       "      <td>E 11 St &amp; 2 Ave</td>\n",
       "      <td>40.730473</td>\n",
       "      <td>-73.986724</td>\n",
       "      <td>14548</td>\n",
       "      <td>Subscriber</td>\n",
       "      <td>1980</td>\n",
       "      <td>33</td>\n",
       "      <td>2</td>\n",
       "    </tr>\n",
       "    <tr>\n",
       "      <th>3</th>\n",
       "      <td>1580</td>\n",
       "      <td>2013-07-01 00:01:06</td>\n",
       "      <td>2013-07-01 00:27:26</td>\n",
       "      <td>531</td>\n",
       "      <td>Forsyth St &amp; Broome St</td>\n",
       "      <td>40.718939</td>\n",
       "      <td>-73.992663</td>\n",
       "      <td>499</td>\n",
       "      <td>Broadway &amp; W 60 St</td>\n",
       "      <td>40.769155</td>\n",
       "      <td>-73.981918</td>\n",
       "      <td>16063</td>\n",
       "      <td>Customer</td>\n",
       "      <td>2013</td>\n",
       "      <td>0</td>\n",
       "      <td>0</td>\n",
       "    </tr>\n",
       "    <tr>\n",
       "      <th>4</th>\n",
       "      <td>757</td>\n",
       "      <td>2013-07-01 00:01:10</td>\n",
       "      <td>2013-07-01 00:13:47</td>\n",
       "      <td>382</td>\n",
       "      <td>University Pl &amp; E 14 St</td>\n",
       "      <td>40.734927</td>\n",
       "      <td>-73.992005</td>\n",
       "      <td>410</td>\n",
       "      <td>Suffolk St &amp; Stanton St</td>\n",
       "      <td>40.720664</td>\n",
       "      <td>-73.985180</td>\n",
       "      <td>19213</td>\n",
       "      <td>Subscriber</td>\n",
       "      <td>1986</td>\n",
       "      <td>27</td>\n",
       "      <td>1</td>\n",
       "    </tr>\n",
       "  </tbody>\n",
       "</table>\n",
       "</div>"
      ],
      "text/plain": [
       "   tripduration            starttime             stoptime  start station id  \\\n",
       "0           634  2013-07-01 00:00:00  2013-07-01 00:10:34               164   \n",
       "1          1547  2013-07-01 00:00:02  2013-07-01 00:25:49               388   \n",
       "2           178  2013-07-01 00:01:04  2013-07-01 00:04:02               293   \n",
       "3          1580  2013-07-01 00:01:06  2013-07-01 00:27:26               531   \n",
       "4           757  2013-07-01 00:01:10  2013-07-01 00:13:47               382   \n",
       "\n",
       "        start station name  start station latitude  start station longitude  \\\n",
       "0          E 47 St & 2 Ave               40.753231               -73.970325   \n",
       "1         W 26 St & 10 Ave               40.749718               -74.002950   \n",
       "2    Lafayette St & E 8 St               40.730287               -73.990765   \n",
       "3   Forsyth St & Broome St               40.718939               -73.992663   \n",
       "4  University Pl & E 14 St               40.734927               -73.992005   \n",
       "\n",
       "   end station id         end station name  end station latitude  \\\n",
       "0             504          1 Ave & E 15 St             40.732219   \n",
       "1             459         W 20 St & 11 Ave             40.746745   \n",
       "2             237          E 11 St & 2 Ave             40.730473   \n",
       "3             499       Broadway & W 60 St             40.769155   \n",
       "4             410  Suffolk St & Stanton St             40.720664   \n",
       "\n",
       "   end station longitude  bikeid    usertype birth year  age  gender  \n",
       "0             -73.981656   16950    Customer       2013    0       0  \n",
       "1             -74.007756   19816    Customer       2013    0       0  \n",
       "2             -73.986724   14548  Subscriber       1980   33       2  \n",
       "3             -73.981918   16063    Customer       2013    0       0  \n",
       "4             -73.985180   19213  Subscriber       1986   27       1  "
      ]
     },
     "execution_count": 51,
     "metadata": {},
     "output_type": "execute_result"
    },
    {
     "data": {
      "text/html": [
       "<div>\n",
       "<style>\n",
       "    .dataframe thead tr:only-child th {\n",
       "        text-align: right;\n",
       "    }\n",
       "\n",
       "    .dataframe thead th {\n",
       "        text-align: left;\n",
       "    }\n",
       "\n",
       "    .dataframe tbody tr th {\n",
       "        vertical-align: top;\n",
       "    }\n",
       "</style>\n",
       "<table border=\"1\" class=\"dataframe\">\n",
       "  <thead>\n",
       "    <tr style=\"text-align: right;\">\n",
       "      <th></th>\n",
       "      <th>tripduration</th>\n",
       "      <th>starttime</th>\n",
       "      <th>stoptime</th>\n",
       "      <th>start station id</th>\n",
       "      <th>start station name</th>\n",
       "      <th>start station latitude</th>\n",
       "      <th>start station longitude</th>\n",
       "      <th>end station id</th>\n",
       "      <th>end station name</th>\n",
       "      <th>end station latitude</th>\n",
       "      <th>end station longitude</th>\n",
       "      <th>bikeid</th>\n",
       "      <th>usertype</th>\n",
       "      <th>birth year</th>\n",
       "      <th>age</th>\n",
       "      <th>gender</th>\n",
       "    </tr>\n",
       "  </thead>\n",
       "  <tbody>\n",
       "    <tr>\n",
       "      <th>1034354</th>\n",
       "      <td>93</td>\n",
       "      <td>2013-09-30 23:59:16</td>\n",
       "      <td>2013-10-01 00:00:49</td>\n",
       "      <td>360</td>\n",
       "      <td>William St &amp; Pine St</td>\n",
       "      <td>40.707179</td>\n",
       "      <td>-74.008873</td>\n",
       "      <td>195</td>\n",
       "      <td>Liberty St &amp; Broadway</td>\n",
       "      <td>40.709056</td>\n",
       "      <td>-74.010434</td>\n",
       "      <td>20594</td>\n",
       "      <td>Subscriber</td>\n",
       "      <td>1989</td>\n",
       "      <td>0</td>\n",
       "      <td>1</td>\n",
       "    </tr>\n",
       "    <tr>\n",
       "      <th>1034355</th>\n",
       "      <td>363</td>\n",
       "      <td>2013-09-30 23:59:21</td>\n",
       "      <td>2013-10-01 00:05:24</td>\n",
       "      <td>2003</td>\n",
       "      <td>1 Ave &amp; E 18 St</td>\n",
       "      <td>40.734161</td>\n",
       "      <td>-73.980243</td>\n",
       "      <td>459</td>\n",
       "      <td>W 20 St &amp; 11 Ave</td>\n",
       "      <td>40.746745</td>\n",
       "      <td>-74.007756</td>\n",
       "      <td>15213</td>\n",
       "      <td>Customer</td>\n",
       "      <td>2013</td>\n",
       "      <td>0</td>\n",
       "      <td>0</td>\n",
       "    </tr>\n",
       "    <tr>\n",
       "      <th>1034356</th>\n",
       "      <td>562</td>\n",
       "      <td>2013-09-30 23:59:30</td>\n",
       "      <td>2013-10-01 00:08:52</td>\n",
       "      <td>293</td>\n",
       "      <td>Lafayette St &amp; E 8 St</td>\n",
       "      <td>40.730287</td>\n",
       "      <td>-73.990765</td>\n",
       "      <td>463</td>\n",
       "      <td>9 Ave &amp; W 16 St</td>\n",
       "      <td>40.742065</td>\n",
       "      <td>-74.004432</td>\n",
       "      <td>17938</td>\n",
       "      <td>Subscriber</td>\n",
       "      <td>1967</td>\n",
       "      <td>31</td>\n",
       "      <td>1</td>\n",
       "    </tr>\n",
       "    <tr>\n",
       "      <th>1034357</th>\n",
       "      <td>1237</td>\n",
       "      <td>2013-09-30 23:59:40</td>\n",
       "      <td>2013-10-01 00:20:17</td>\n",
       "      <td>478</td>\n",
       "      <td>11 Ave &amp; W 41 St</td>\n",
       "      <td>40.760301</td>\n",
       "      <td>-73.998842</td>\n",
       "      <td>318</td>\n",
       "      <td>E 43 St &amp; Vanderbilt Ave</td>\n",
       "      <td>40.753202</td>\n",
       "      <td>-73.977987</td>\n",
       "      <td>15931</td>\n",
       "      <td>Customer</td>\n",
       "      <td>2013</td>\n",
       "      <td>24</td>\n",
       "      <td>0</td>\n",
       "    </tr>\n",
       "    <tr>\n",
       "      <th>1034358</th>\n",
       "      <td>1292</td>\n",
       "      <td>2013-09-30 23:59:53</td>\n",
       "      <td>2013-10-01 00:21:25</td>\n",
       "      <td>363</td>\n",
       "      <td>West Thames St</td>\n",
       "      <td>40.708347</td>\n",
       "      <td>-74.017134</td>\n",
       "      <td>363</td>\n",
       "      <td>West Thames St</td>\n",
       "      <td>40.708347</td>\n",
       "      <td>-74.017134</td>\n",
       "      <td>14826</td>\n",
       "      <td>Customer</td>\n",
       "      <td>2013</td>\n",
       "      <td>37</td>\n",
       "      <td>0</td>\n",
       "    </tr>\n",
       "  </tbody>\n",
       "</table>\n",
       "</div>"
      ],
      "text/plain": [
       "         tripduration            starttime             stoptime  \\\n",
       "1034354            93  2013-09-30 23:59:16  2013-10-01 00:00:49   \n",
       "1034355           363  2013-09-30 23:59:21  2013-10-01 00:05:24   \n",
       "1034356           562  2013-09-30 23:59:30  2013-10-01 00:08:52   \n",
       "1034357          1237  2013-09-30 23:59:40  2013-10-01 00:20:17   \n",
       "1034358          1292  2013-09-30 23:59:53  2013-10-01 00:21:25   \n",
       "\n",
       "         start station id     start station name  start station latitude  \\\n",
       "1034354               360   William St & Pine St               40.707179   \n",
       "1034355              2003        1 Ave & E 18 St               40.734161   \n",
       "1034356               293  Lafayette St & E 8 St               40.730287   \n",
       "1034357               478       11 Ave & W 41 St               40.760301   \n",
       "1034358               363         West Thames St               40.708347   \n",
       "\n",
       "         start station longitude  end station id          end station name  \\\n",
       "1034354               -74.008873             195     Liberty St & Broadway   \n",
       "1034355               -73.980243             459          W 20 St & 11 Ave   \n",
       "1034356               -73.990765             463           9 Ave & W 16 St   \n",
       "1034357               -73.998842             318  E 43 St & Vanderbilt Ave   \n",
       "1034358               -74.017134             363            West Thames St   \n",
       "\n",
       "         end station latitude  end station longitude  bikeid    usertype  \\\n",
       "1034354             40.709056             -74.010434   20594  Subscriber   \n",
       "1034355             40.746745             -74.007756   15213    Customer   \n",
       "1034356             40.742065             -74.004432   17938  Subscriber   \n",
       "1034357             40.753202             -73.977987   15931    Customer   \n",
       "1034358             40.708347             -74.017134   14826    Customer   \n",
       "\n",
       "        birth year  age  gender  \n",
       "1034354       1989    0       1  \n",
       "1034355       2013    0       0  \n",
       "1034356       1967   31       1  \n",
       "1034357       2013   24       0  \n",
       "1034358       2013   37       0  "
      ]
     },
     "execution_count": 51,
     "metadata": {},
     "output_type": "execute_result"
    },
    {
     "data": {
      "text/plain": [
       "(2879733, 16)"
      ]
     },
     "execution_count": 51,
     "metadata": {},
     "output_type": "execute_result"
    }
   ],
   "source": [
    "df_new.head()\n",
    "df_new.tail()\n",
    "df_new.shape"
   ]
  },
  {
   "cell_type": "code",
   "execution_count": 52,
   "metadata": {
    "collapsed": true
   },
   "outputs": [],
   "source": [
    "# change gender numeric to 1==\"male\", 2==\"female\" 3==\"unknown\"\n",
    "# set an empty list to append to\n",
    "gender_list2= []"
   ]
  },
  {
   "cell_type": "code",
   "execution_count": 53,
   "metadata": {},
   "outputs": [
    {
     "name": "stdout",
     "output_type": "stream",
     "text": [
      "2879733\n"
     ]
    }
   ],
   "source": [
    "for g in df_new['gender']:\n",
    "    if g == 0:\n",
    "        gender_list2.append('unknown')\n",
    "    elif g == 1:\n",
    "        gender_list2.append('male')\n",
    "    else:\n",
    "        gender_list2.append('female')\n",
    "    \n",
    "# checks length of age list which is the same as the length of the dataframe - 2373663\n",
    "print(len(gender_list2))"
   ]
  },
  {
   "cell_type": "code",
   "execution_count": 54,
   "metadata": {
    "collapsed": true
   },
   "outputs": [],
   "source": [
    "# make gender_type into a series\n",
    "# set it to a variable \"gender_type\" which will be the new column \"age\" that we add to the dataframe\n",
    "gender_type2 = pd.Series(gender_list2)"
   ]
  },
  {
   "cell_type": "code",
   "execution_count": 55,
   "metadata": {
    "collapsed": true
   },
   "outputs": [],
   "source": [
    "# now insert gender_type into the df as a column \n",
    "# loc=15 will set the location at index16\n",
    "df_new.insert(loc=15, column='gender type', value=gender_type2)"
   ]
  },
  {
   "cell_type": "code",
   "execution_count": 56,
   "metadata": {},
   "outputs": [
    {
     "data": {
      "text/html": [
       "<div>\n",
       "<style>\n",
       "    .dataframe thead tr:only-child th {\n",
       "        text-align: right;\n",
       "    }\n",
       "\n",
       "    .dataframe thead th {\n",
       "        text-align: left;\n",
       "    }\n",
       "\n",
       "    .dataframe tbody tr th {\n",
       "        vertical-align: top;\n",
       "    }\n",
       "</style>\n",
       "<table border=\"1\" class=\"dataframe\">\n",
       "  <thead>\n",
       "    <tr style=\"text-align: right;\">\n",
       "      <th></th>\n",
       "      <th>tripduration</th>\n",
       "      <th>starttime</th>\n",
       "      <th>stoptime</th>\n",
       "      <th>start station id</th>\n",
       "      <th>start station name</th>\n",
       "      <th>start station latitude</th>\n",
       "      <th>start station longitude</th>\n",
       "      <th>end station id</th>\n",
       "      <th>end station name</th>\n",
       "      <th>end station latitude</th>\n",
       "      <th>end station longitude</th>\n",
       "      <th>bikeid</th>\n",
       "      <th>usertype</th>\n",
       "      <th>birth year</th>\n",
       "      <th>age</th>\n",
       "      <th>gender type</th>\n",
       "      <th>gender</th>\n",
       "    </tr>\n",
       "  </thead>\n",
       "  <tbody>\n",
       "    <tr>\n",
       "      <th>0</th>\n",
       "      <td>634</td>\n",
       "      <td>2013-07-01 00:00:00</td>\n",
       "      <td>2013-07-01 00:10:34</td>\n",
       "      <td>164</td>\n",
       "      <td>E 47 St &amp; 2 Ave</td>\n",
       "      <td>40.753231</td>\n",
       "      <td>-73.970325</td>\n",
       "      <td>504</td>\n",
       "      <td>1 Ave &amp; E 15 St</td>\n",
       "      <td>40.732219</td>\n",
       "      <td>-73.981656</td>\n",
       "      <td>16950</td>\n",
       "      <td>Customer</td>\n",
       "      <td>2013</td>\n",
       "      <td>0</td>\n",
       "      <td>unknown</td>\n",
       "      <td>0</td>\n",
       "    </tr>\n",
       "    <tr>\n",
       "      <th>1</th>\n",
       "      <td>1547</td>\n",
       "      <td>2013-07-01 00:00:02</td>\n",
       "      <td>2013-07-01 00:25:49</td>\n",
       "      <td>388</td>\n",
       "      <td>W 26 St &amp; 10 Ave</td>\n",
       "      <td>40.749718</td>\n",
       "      <td>-74.002950</td>\n",
       "      <td>459</td>\n",
       "      <td>W 20 St &amp; 11 Ave</td>\n",
       "      <td>40.746745</td>\n",
       "      <td>-74.007756</td>\n",
       "      <td>19816</td>\n",
       "      <td>Customer</td>\n",
       "      <td>2013</td>\n",
       "      <td>0</td>\n",
       "      <td>unknown</td>\n",
       "      <td>0</td>\n",
       "    </tr>\n",
       "    <tr>\n",
       "      <th>2</th>\n",
       "      <td>178</td>\n",
       "      <td>2013-07-01 00:01:04</td>\n",
       "      <td>2013-07-01 00:04:02</td>\n",
       "      <td>293</td>\n",
       "      <td>Lafayette St &amp; E 8 St</td>\n",
       "      <td>40.730287</td>\n",
       "      <td>-73.990765</td>\n",
       "      <td>237</td>\n",
       "      <td>E 11 St &amp; 2 Ave</td>\n",
       "      <td>40.730473</td>\n",
       "      <td>-73.986724</td>\n",
       "      <td>14548</td>\n",
       "      <td>Subscriber</td>\n",
       "      <td>1980</td>\n",
       "      <td>33</td>\n",
       "      <td>female</td>\n",
       "      <td>2</td>\n",
       "    </tr>\n",
       "    <tr>\n",
       "      <th>3</th>\n",
       "      <td>1580</td>\n",
       "      <td>2013-07-01 00:01:06</td>\n",
       "      <td>2013-07-01 00:27:26</td>\n",
       "      <td>531</td>\n",
       "      <td>Forsyth St &amp; Broome St</td>\n",
       "      <td>40.718939</td>\n",
       "      <td>-73.992663</td>\n",
       "      <td>499</td>\n",
       "      <td>Broadway &amp; W 60 St</td>\n",
       "      <td>40.769155</td>\n",
       "      <td>-73.981918</td>\n",
       "      <td>16063</td>\n",
       "      <td>Customer</td>\n",
       "      <td>2013</td>\n",
       "      <td>0</td>\n",
       "      <td>unknown</td>\n",
       "      <td>0</td>\n",
       "    </tr>\n",
       "    <tr>\n",
       "      <th>4</th>\n",
       "      <td>757</td>\n",
       "      <td>2013-07-01 00:01:10</td>\n",
       "      <td>2013-07-01 00:13:47</td>\n",
       "      <td>382</td>\n",
       "      <td>University Pl &amp; E 14 St</td>\n",
       "      <td>40.734927</td>\n",
       "      <td>-73.992005</td>\n",
       "      <td>410</td>\n",
       "      <td>Suffolk St &amp; Stanton St</td>\n",
       "      <td>40.720664</td>\n",
       "      <td>-73.985180</td>\n",
       "      <td>19213</td>\n",
       "      <td>Subscriber</td>\n",
       "      <td>1986</td>\n",
       "      <td>27</td>\n",
       "      <td>male</td>\n",
       "      <td>1</td>\n",
       "    </tr>\n",
       "  </tbody>\n",
       "</table>\n",
       "</div>"
      ],
      "text/plain": [
       "   tripduration            starttime             stoptime  start station id  \\\n",
       "0           634  2013-07-01 00:00:00  2013-07-01 00:10:34               164   \n",
       "1          1547  2013-07-01 00:00:02  2013-07-01 00:25:49               388   \n",
       "2           178  2013-07-01 00:01:04  2013-07-01 00:04:02               293   \n",
       "3          1580  2013-07-01 00:01:06  2013-07-01 00:27:26               531   \n",
       "4           757  2013-07-01 00:01:10  2013-07-01 00:13:47               382   \n",
       "\n",
       "        start station name  start station latitude  start station longitude  \\\n",
       "0          E 47 St & 2 Ave               40.753231               -73.970325   \n",
       "1         W 26 St & 10 Ave               40.749718               -74.002950   \n",
       "2    Lafayette St & E 8 St               40.730287               -73.990765   \n",
       "3   Forsyth St & Broome St               40.718939               -73.992663   \n",
       "4  University Pl & E 14 St               40.734927               -73.992005   \n",
       "\n",
       "   end station id         end station name  end station latitude  \\\n",
       "0             504          1 Ave & E 15 St             40.732219   \n",
       "1             459         W 20 St & 11 Ave             40.746745   \n",
       "2             237          E 11 St & 2 Ave             40.730473   \n",
       "3             499       Broadway & W 60 St             40.769155   \n",
       "4             410  Suffolk St & Stanton St             40.720664   \n",
       "\n",
       "   end station longitude  bikeid    usertype birth year  age gender type  \\\n",
       "0             -73.981656   16950    Customer       2013    0     unknown   \n",
       "1             -74.007756   19816    Customer       2013    0     unknown   \n",
       "2             -73.986724   14548  Subscriber       1980   33      female   \n",
       "3             -73.981918   16063    Customer       2013    0     unknown   \n",
       "4             -73.985180   19213  Subscriber       1986   27        male   \n",
       "\n",
       "   gender  \n",
       "0       0  \n",
       "1       0  \n",
       "2       2  \n",
       "3       0  \n",
       "4       1  "
      ]
     },
     "execution_count": 56,
     "metadata": {},
     "output_type": "execute_result"
    },
    {
     "data": {
      "text/html": [
       "<div>\n",
       "<style>\n",
       "    .dataframe thead tr:only-child th {\n",
       "        text-align: right;\n",
       "    }\n",
       "\n",
       "    .dataframe thead th {\n",
       "        text-align: left;\n",
       "    }\n",
       "\n",
       "    .dataframe tbody tr th {\n",
       "        vertical-align: top;\n",
       "    }\n",
       "</style>\n",
       "<table border=\"1\" class=\"dataframe\">\n",
       "  <thead>\n",
       "    <tr style=\"text-align: right;\">\n",
       "      <th></th>\n",
       "      <th>tripduration</th>\n",
       "      <th>starttime</th>\n",
       "      <th>stoptime</th>\n",
       "      <th>start station id</th>\n",
       "      <th>start station name</th>\n",
       "      <th>start station latitude</th>\n",
       "      <th>start station longitude</th>\n",
       "      <th>end station id</th>\n",
       "      <th>end station name</th>\n",
       "      <th>end station latitude</th>\n",
       "      <th>end station longitude</th>\n",
       "      <th>bikeid</th>\n",
       "      <th>usertype</th>\n",
       "      <th>birth year</th>\n",
       "      <th>age</th>\n",
       "      <th>gender type</th>\n",
       "      <th>gender</th>\n",
       "    </tr>\n",
       "  </thead>\n",
       "  <tbody>\n",
       "    <tr>\n",
       "      <th>1034354</th>\n",
       "      <td>93</td>\n",
       "      <td>2013-09-30 23:59:16</td>\n",
       "      <td>2013-10-01 00:00:49</td>\n",
       "      <td>360</td>\n",
       "      <td>William St &amp; Pine St</td>\n",
       "      <td>40.707179</td>\n",
       "      <td>-74.008873</td>\n",
       "      <td>195</td>\n",
       "      <td>Liberty St &amp; Broadway</td>\n",
       "      <td>40.709056</td>\n",
       "      <td>-74.010434</td>\n",
       "      <td>20594</td>\n",
       "      <td>Subscriber</td>\n",
       "      <td>1989</td>\n",
       "      <td>0</td>\n",
       "      <td>unknown</td>\n",
       "      <td>1</td>\n",
       "    </tr>\n",
       "    <tr>\n",
       "      <th>1034355</th>\n",
       "      <td>363</td>\n",
       "      <td>2013-09-30 23:59:21</td>\n",
       "      <td>2013-10-01 00:05:24</td>\n",
       "      <td>2003</td>\n",
       "      <td>1 Ave &amp; E 18 St</td>\n",
       "      <td>40.734161</td>\n",
       "      <td>-73.980243</td>\n",
       "      <td>459</td>\n",
       "      <td>W 20 St &amp; 11 Ave</td>\n",
       "      <td>40.746745</td>\n",
       "      <td>-74.007756</td>\n",
       "      <td>15213</td>\n",
       "      <td>Customer</td>\n",
       "      <td>2013</td>\n",
       "      <td>0</td>\n",
       "      <td>unknown</td>\n",
       "      <td>0</td>\n",
       "    </tr>\n",
       "    <tr>\n",
       "      <th>1034356</th>\n",
       "      <td>562</td>\n",
       "      <td>2013-09-30 23:59:30</td>\n",
       "      <td>2013-10-01 00:08:52</td>\n",
       "      <td>293</td>\n",
       "      <td>Lafayette St &amp; E 8 St</td>\n",
       "      <td>40.730287</td>\n",
       "      <td>-73.990765</td>\n",
       "      <td>463</td>\n",
       "      <td>9 Ave &amp; W 16 St</td>\n",
       "      <td>40.742065</td>\n",
       "      <td>-74.004432</td>\n",
       "      <td>17938</td>\n",
       "      <td>Subscriber</td>\n",
       "      <td>1967</td>\n",
       "      <td>31</td>\n",
       "      <td>male</td>\n",
       "      <td>1</td>\n",
       "    </tr>\n",
       "    <tr>\n",
       "      <th>1034357</th>\n",
       "      <td>1237</td>\n",
       "      <td>2013-09-30 23:59:40</td>\n",
       "      <td>2013-10-01 00:20:17</td>\n",
       "      <td>478</td>\n",
       "      <td>11 Ave &amp; W 41 St</td>\n",
       "      <td>40.760301</td>\n",
       "      <td>-73.998842</td>\n",
       "      <td>318</td>\n",
       "      <td>E 43 St &amp; Vanderbilt Ave</td>\n",
       "      <td>40.753202</td>\n",
       "      <td>-73.977987</td>\n",
       "      <td>15931</td>\n",
       "      <td>Customer</td>\n",
       "      <td>2013</td>\n",
       "      <td>24</td>\n",
       "      <td>male</td>\n",
       "      <td>0</td>\n",
       "    </tr>\n",
       "    <tr>\n",
       "      <th>1034358</th>\n",
       "      <td>1292</td>\n",
       "      <td>2013-09-30 23:59:53</td>\n",
       "      <td>2013-10-01 00:21:25</td>\n",
       "      <td>363</td>\n",
       "      <td>West Thames St</td>\n",
       "      <td>40.708347</td>\n",
       "      <td>-74.017134</td>\n",
       "      <td>363</td>\n",
       "      <td>West Thames St</td>\n",
       "      <td>40.708347</td>\n",
       "      <td>-74.017134</td>\n",
       "      <td>14826</td>\n",
       "      <td>Customer</td>\n",
       "      <td>2013</td>\n",
       "      <td>37</td>\n",
       "      <td>male</td>\n",
       "      <td>0</td>\n",
       "    </tr>\n",
       "  </tbody>\n",
       "</table>\n",
       "</div>"
      ],
      "text/plain": [
       "         tripduration            starttime             stoptime  \\\n",
       "1034354            93  2013-09-30 23:59:16  2013-10-01 00:00:49   \n",
       "1034355           363  2013-09-30 23:59:21  2013-10-01 00:05:24   \n",
       "1034356           562  2013-09-30 23:59:30  2013-10-01 00:08:52   \n",
       "1034357          1237  2013-09-30 23:59:40  2013-10-01 00:20:17   \n",
       "1034358          1292  2013-09-30 23:59:53  2013-10-01 00:21:25   \n",
       "\n",
       "         start station id     start station name  start station latitude  \\\n",
       "1034354               360   William St & Pine St               40.707179   \n",
       "1034355              2003        1 Ave & E 18 St               40.734161   \n",
       "1034356               293  Lafayette St & E 8 St               40.730287   \n",
       "1034357               478       11 Ave & W 41 St               40.760301   \n",
       "1034358               363         West Thames St               40.708347   \n",
       "\n",
       "         start station longitude  end station id          end station name  \\\n",
       "1034354               -74.008873             195     Liberty St & Broadway   \n",
       "1034355               -73.980243             459          W 20 St & 11 Ave   \n",
       "1034356               -73.990765             463           9 Ave & W 16 St   \n",
       "1034357               -73.998842             318  E 43 St & Vanderbilt Ave   \n",
       "1034358               -74.017134             363            West Thames St   \n",
       "\n",
       "         end station latitude  end station longitude  bikeid    usertype  \\\n",
       "1034354             40.709056             -74.010434   20594  Subscriber   \n",
       "1034355             40.746745             -74.007756   15213    Customer   \n",
       "1034356             40.742065             -74.004432   17938  Subscriber   \n",
       "1034357             40.753202             -73.977987   15931    Customer   \n",
       "1034358             40.708347             -74.017134   14826    Customer   \n",
       "\n",
       "        birth year  age gender type  gender  \n",
       "1034354       1989    0     unknown       1  \n",
       "1034355       2013    0     unknown       0  \n",
       "1034356       1967   31        male       1  \n",
       "1034357       2013   24        male       0  \n",
       "1034358       2013   37        male       0  "
      ]
     },
     "execution_count": 56,
     "metadata": {},
     "output_type": "execute_result"
    },
    {
     "data": {
      "text/plain": [
       "(2879733, 17)"
      ]
     },
     "execution_count": 56,
     "metadata": {},
     "output_type": "execute_result"
    }
   ],
   "source": [
    "# print top 2 rows \n",
    "df_new.head()\n",
    "df_new.tail()\n",
    "df_new.shape"
   ]
  },
  {
   "cell_type": "markdown",
   "metadata": {},
   "source": [
    "# -----------------------------------------\n",
    "<br>"
   ]
  },
  {
   "cell_type": "markdown",
   "metadata": {},
   "source": [
    "## Section to calculate distance between stations - using df_new"
   ]
  },
  {
   "cell_type": "code",
   "execution_count": 57,
   "metadata": {},
   "outputs": [
    {
     "data": {
      "text/html": [
       "<div>\n",
       "<style>\n",
       "    .dataframe thead tr:only-child th {\n",
       "        text-align: right;\n",
       "    }\n",
       "\n",
       "    .dataframe thead th {\n",
       "        text-align: left;\n",
       "    }\n",
       "\n",
       "    .dataframe tbody tr th {\n",
       "        vertical-align: top;\n",
       "    }\n",
       "</style>\n",
       "<table border=\"1\" class=\"dataframe\">\n",
       "  <thead>\n",
       "    <tr style=\"text-align: right;\">\n",
       "      <th></th>\n",
       "      <th>start station name</th>\n",
       "      <th>start station latitude</th>\n",
       "      <th>start station longitude</th>\n",
       "      <th>end station name</th>\n",
       "      <th>end station latitude</th>\n",
       "      <th>end station longitude</th>\n",
       "    </tr>\n",
       "  </thead>\n",
       "  <tbody>\n",
       "    <tr>\n",
       "      <th>0</th>\n",
       "      <td>E 47 St &amp; 2 Ave</td>\n",
       "      <td>40.753231</td>\n",
       "      <td>-73.970325</td>\n",
       "      <td>1 Ave &amp; E 15 St</td>\n",
       "      <td>40.732219</td>\n",
       "      <td>-73.981656</td>\n",
       "    </tr>\n",
       "    <tr>\n",
       "      <th>1</th>\n",
       "      <td>W 26 St &amp; 10 Ave</td>\n",
       "      <td>40.749718</td>\n",
       "      <td>-74.002950</td>\n",
       "      <td>W 20 St &amp; 11 Ave</td>\n",
       "      <td>40.746745</td>\n",
       "      <td>-74.007756</td>\n",
       "    </tr>\n",
       "  </tbody>\n",
       "</table>\n",
       "</div>"
      ],
      "text/plain": [
       "  start station name  start station latitude  start station longitude  \\\n",
       "0    E 47 St & 2 Ave               40.753231               -73.970325   \n",
       "1   W 26 St & 10 Ave               40.749718               -74.002950   \n",
       "\n",
       "   end station name  end station latitude  end station longitude  \n",
       "0   1 Ave & E 15 St             40.732219             -73.981656  \n",
       "1  W 20 St & 11 Ave             40.746745             -74.007756  "
      ]
     },
     "execution_count": 57,
     "metadata": {},
     "output_type": "execute_result"
    },
    {
     "data": {
      "text/plain": [
       "(2879733, 6)"
      ]
     },
     "execution_count": 57,
     "metadata": {},
     "output_type": "execute_result"
    }
   ],
   "source": [
    "station_distance = df_new[['start station name', 'start station latitude', 'start station longitude',\n",
    "                          'end station name', 'end station latitude', 'end station longitude']]\n",
    "station_distance.iloc[0:2]\n",
    "station_distance.shape"
   ]
  },
  {
   "cell_type": "code",
   "execution_count": 58,
   "metadata": {},
   "outputs": [
    {
     "name": "stdout",
     "output_type": "stream",
     "text": [
      "<class 'pandas.core.frame.DataFrame'>\n",
      "Int64Index: 2879733 entries, 0 to 1034358\n",
      "Data columns (total 6 columns):\n",
      "start station name         object\n",
      "start station latitude     float64\n",
      "start station longitude    float64\n",
      "end station name           object\n",
      "end station latitude       float64\n",
      "end station longitude      float64\n",
      "dtypes: float64(4), object(2)\n",
      "memory usage: 153.8+ MB\n"
     ]
    }
   ],
   "source": [
    "station_distance.info()"
   ]
  },
  {
   "cell_type": "code",
   "execution_count": 59,
   "metadata": {},
   "outputs": [
    {
     "data": {
      "text/html": [
       "<div>\n",
       "<style>\n",
       "    .dataframe thead tr:only-child th {\n",
       "        text-align: right;\n",
       "    }\n",
       "\n",
       "    .dataframe thead th {\n",
       "        text-align: left;\n",
       "    }\n",
       "\n",
       "    .dataframe tbody tr th {\n",
       "        vertical-align: top;\n",
       "    }\n",
       "</style>\n",
       "<table border=\"1\" class=\"dataframe\">\n",
       "  <thead>\n",
       "    <tr style=\"text-align: right;\">\n",
       "      <th></th>\n",
       "      <th>start station latitude</th>\n",
       "      <th>start station longitude</th>\n",
       "    </tr>\n",
       "  </thead>\n",
       "  <tbody>\n",
       "    <tr>\n",
       "      <th>0</th>\n",
       "      <td>40.753231</td>\n",
       "      <td>-73.970325</td>\n",
       "    </tr>\n",
       "    <tr>\n",
       "      <th>1</th>\n",
       "      <td>40.749718</td>\n",
       "      <td>-74.002950</td>\n",
       "    </tr>\n",
       "  </tbody>\n",
       "</table>\n",
       "</div>"
      ],
      "text/plain": [
       "   start station latitude  start station longitude\n",
       "0               40.753231               -73.970325\n",
       "1               40.749718               -74.002950"
      ]
     },
     "execution_count": 59,
     "metadata": {},
     "output_type": "execute_result"
    }
   ],
   "source": [
    "# uses .loc to slice out the start lat & long col\n",
    "station_distance.loc[:, ['start station latitude', 'start station longitude']].head(2)"
   ]
  },
  {
   "cell_type": "code",
   "execution_count": 60,
   "metadata": {
    "collapsed": true,
    "scrolled": false
   },
   "outputs": [],
   "source": [
    "import geopy.distance"
   ]
  },
  {
   "cell_type": "code",
   "execution_count": 61,
   "metadata": {},
   "outputs": [
    {
     "name": "stdout",
     "output_type": "stream",
     "text": [
      "1.5670979667637572\n"
     ]
    }
   ],
   "source": [
    "coords_1 = (40.753231, -73.970325)\n",
    "coords_2 = (40.732219, -73.981656)\n",
    "\n",
    "print (geopy.distance.vincenty(coords_1, coords_2).miles)"
   ]
  },
  {
   "cell_type": "code",
   "execution_count": 62,
   "metadata": {
    "collapsed": true
   },
   "outputs": [],
   "source": [
    "# create an empty list to append to for distance\n",
    "distance = []"
   ]
  },
  {
   "cell_type": "code",
   "execution_count": 63,
   "metadata": {
    "collapsed": true
   },
   "outputs": [],
   "source": [
    "# create an empty list to append start coords\n",
    "start_coords = [] # perhaps save coordinates tolist()\n",
    "start_lat = []\n",
    "start_lon = []"
   ]
  },
  {
   "cell_type": "code",
   "execution_count": 64,
   "metadata": {
    "collapsed": true
   },
   "outputs": [],
   "source": [
    "# iterate through 'start station latitude' and append to start\n",
    "for i in station_distance['start station latitude']:\n",
    "    start_lat.append(i)\n",
    "\n",
    "# iterate through start station longitude\n",
    "for i in station_distance['start station longitude']:\n",
    "    start_lon.append(i)"
   ]
  },
  {
   "cell_type": "code",
   "execution_count": 65,
   "metadata": {
    "scrolled": true
   },
   "outputs": [
    {
     "name": "stdout",
     "output_type": "stream",
     "text": [
      "2879733\n",
      "2879733\n"
     ]
    }
   ],
   "source": [
    "# print to make sure all the lat coords and long coords were added to the list\n",
    "print (len(start_lat))\n",
    "print (len(start_lon))"
   ]
  },
  {
   "cell_type": "code",
   "execution_count": 66,
   "metadata": {
    "scrolled": true
   },
   "outputs": [
    {
     "name": "stdout",
     "output_type": "stream",
     "text": [
      "<class 'pandas.core.frame.DataFrame'>\n",
      "Int64Index: 2879733 entries, 0 to 1034358\n",
      "Data columns (total 6 columns):\n",
      "start station name         object\n",
      "start station latitude     object\n",
      "start station longitude    object\n",
      "end station name           object\n",
      "end station latitude       object\n",
      "end station longitude      object\n",
      "dtypes: object(6)\n",
      "memory usage: 153.8+ MB\n"
     ]
    }
   ],
   "source": [
    "# convert the start / end coords to objects\n",
    "station_distance['start station latitude'] = station_distance['start station latitude'].astype(str)\n",
    "station_distance['start station longitude'] = station_distance['start station longitude'].astype(str)\n",
    "station_distance['end station latitude'] = station_distance['end station latitude'].astype(str)\n",
    "station_distance['end station longitude'] = station_distance['end station longitude'].astype(str)\n",
    "\n",
    "station_distance.info()"
   ]
  },
  {
   "cell_type": "code",
   "execution_count": 67,
   "metadata": {
    "collapsed": true,
    "scrolled": true
   },
   "outputs": [],
   "source": [
    "station_distance['start coordinates'] = station_distance['start station latitude'].astype(str) + \" , \" + \\\n",
    "station_distance['start station longitude']"
   ]
  },
  {
   "cell_type": "code",
   "execution_count": 68,
   "metadata": {
    "collapsed": true
   },
   "outputs": [],
   "source": [
    "station_distance['end coordinates'] = station_distance['end station latitude'].astype(str) + \" , \" + \\\n",
    "station_distance['end station longitude']"
   ]
  },
  {
   "cell_type": "code",
   "execution_count": 69,
   "metadata": {
    "scrolled": true
   },
   "outputs": [
    {
     "data": {
      "text/html": [
       "<div>\n",
       "<style>\n",
       "    .dataframe thead tr:only-child th {\n",
       "        text-align: right;\n",
       "    }\n",
       "\n",
       "    .dataframe thead th {\n",
       "        text-align: left;\n",
       "    }\n",
       "\n",
       "    .dataframe tbody tr th {\n",
       "        vertical-align: top;\n",
       "    }\n",
       "</style>\n",
       "<table border=\"1\" class=\"dataframe\">\n",
       "  <thead>\n",
       "    <tr style=\"text-align: right;\">\n",
       "      <th></th>\n",
       "      <th>start station name</th>\n",
       "      <th>start station latitude</th>\n",
       "      <th>start station longitude</th>\n",
       "      <th>end station name</th>\n",
       "      <th>end station latitude</th>\n",
       "      <th>end station longitude</th>\n",
       "      <th>start coordinates</th>\n",
       "      <th>end coordinates</th>\n",
       "    </tr>\n",
       "  </thead>\n",
       "  <tbody>\n",
       "    <tr>\n",
       "      <th>0</th>\n",
       "      <td>E 47 St &amp; 2 Ave</td>\n",
       "      <td>40.75323098</td>\n",
       "      <td>-73.97032517</td>\n",
       "      <td>1 Ave &amp; E 15 St</td>\n",
       "      <td>40.73221853</td>\n",
       "      <td>-73.98165557</td>\n",
       "      <td>40.75323098 , -73.97032517</td>\n",
       "      <td>40.73221853 , -73.98165557</td>\n",
       "    </tr>\n",
       "    <tr>\n",
       "      <th>1</th>\n",
       "      <td>W 26 St &amp; 10 Ave</td>\n",
       "      <td>40.749717753</td>\n",
       "      <td>-74.002950346</td>\n",
       "      <td>W 20 St &amp; 11 Ave</td>\n",
       "      <td>40.746745</td>\n",
       "      <td>-74.007756</td>\n",
       "      <td>40.749717753 , -74.002950346</td>\n",
       "      <td>40.746745 , -74.007756</td>\n",
       "    </tr>\n",
       "    <tr>\n",
       "      <th>2</th>\n",
       "      <td>Lafayette St &amp; E 8 St</td>\n",
       "      <td>40.73028666</td>\n",
       "      <td>-73.9907647</td>\n",
       "      <td>E 11 St &amp; 2 Ave</td>\n",
       "      <td>40.73047309</td>\n",
       "      <td>-73.98672378</td>\n",
       "      <td>40.73028666 , -73.9907647</td>\n",
       "      <td>40.73047309 , -73.98672378</td>\n",
       "    </tr>\n",
       "    <tr>\n",
       "      <th>3</th>\n",
       "      <td>Forsyth St &amp; Broome St</td>\n",
       "      <td>40.71893904</td>\n",
       "      <td>-73.99266288</td>\n",
       "      <td>Broadway &amp; W 60 St</td>\n",
       "      <td>40.76915505</td>\n",
       "      <td>-73.98191841</td>\n",
       "      <td>40.71893904 , -73.99266288</td>\n",
       "      <td>40.76915505 , -73.98191841</td>\n",
       "    </tr>\n",
       "    <tr>\n",
       "      <th>4</th>\n",
       "      <td>University Pl &amp; E 14 St</td>\n",
       "      <td>40.73492695</td>\n",
       "      <td>-73.99200509</td>\n",
       "      <td>Suffolk St &amp; Stanton St</td>\n",
       "      <td>40.72066442</td>\n",
       "      <td>-73.98517977</td>\n",
       "      <td>40.73492695 , -73.99200509</td>\n",
       "      <td>40.72066442 , -73.98517977</td>\n",
       "    </tr>\n",
       "  </tbody>\n",
       "</table>\n",
       "</div>"
      ],
      "text/plain": [
       "        start station name start station latitude start station longitude  \\\n",
       "0          E 47 St & 2 Ave            40.75323098            -73.97032517   \n",
       "1         W 26 St & 10 Ave           40.749717753           -74.002950346   \n",
       "2    Lafayette St & E 8 St            40.73028666             -73.9907647   \n",
       "3   Forsyth St & Broome St            40.71893904            -73.99266288   \n",
       "4  University Pl & E 14 St            40.73492695            -73.99200509   \n",
       "\n",
       "          end station name end station latitude end station longitude  \\\n",
       "0          1 Ave & E 15 St          40.73221853          -73.98165557   \n",
       "1         W 20 St & 11 Ave            40.746745            -74.007756   \n",
       "2          E 11 St & 2 Ave          40.73047309          -73.98672378   \n",
       "3       Broadway & W 60 St          40.76915505          -73.98191841   \n",
       "4  Suffolk St & Stanton St          40.72066442          -73.98517977   \n",
       "\n",
       "              start coordinates             end coordinates  \n",
       "0    40.75323098 , -73.97032517  40.73221853 , -73.98165557  \n",
       "1  40.749717753 , -74.002950346      40.746745 , -74.007756  \n",
       "2     40.73028666 , -73.9907647  40.73047309 , -73.98672378  \n",
       "3    40.71893904 , -73.99266288  40.76915505 , -73.98191841  \n",
       "4    40.73492695 , -73.99200509  40.72066442 , -73.98517977  "
      ]
     },
     "execution_count": 69,
     "metadata": {},
     "output_type": "execute_result"
    },
    {
     "data": {
      "text/plain": [
       "(2879733, 8)"
      ]
     },
     "execution_count": 69,
     "metadata": {},
     "output_type": "execute_result"
    }
   ],
   "source": [
    "station_distance.head()\n",
    "station_distance.shape"
   ]
  },
  {
   "cell_type": "code",
   "execution_count": 71,
   "metadata": {
    "collapsed": true
   },
   "outputs": [],
   "source": [
    "# iterate through start coordinates & end coordinates and append them to new lists\n",
    "start_coord_list = []\n",
    "end_coord_list = []"
   ]
  },
  {
   "cell_type": "code",
   "execution_count": 72,
   "metadata": {
    "collapsed": true
   },
   "outputs": [],
   "source": [
    "for i in station_distance['start coordinates']:\n",
    "    start_coord_list.append(i)\n",
    "    \n",
    "for i in station_distance['end coordinates']:\n",
    "    end_coord_list.append(i)"
   ]
  },
  {
   "cell_type": "code",
   "execution_count": 73,
   "metadata": {},
   "outputs": [
    {
     "data": {
      "text/plain": [
       "2879733"
      ]
     },
     "execution_count": 73,
     "metadata": {},
     "output_type": "execute_result"
    },
    {
     "data": {
      "text/plain": [
       "2879733"
      ]
     },
     "execution_count": 73,
     "metadata": {},
     "output_type": "execute_result"
    }
   ],
   "source": [
    "# print to make sure the length is the same\n",
    "# set them to variables so we can iterate through the object below\n",
    "len_start_coord_list = len(start_coord_list)\n",
    "len_end_coord_list = len (end_coord_list)\n",
    "\n",
    "len_start_coord_list\n",
    "len_end_coord_list"
   ]
  },
  {
   "cell_type": "code",
   "execution_count": 74,
   "metadata": {},
   "outputs": [
    {
     "name": "stdout",
     "output_type": "stream",
     "text": [
      "40.75323098 , -73.97032517\n",
      "40.73221853 , -73.98165557\n"
     ]
    }
   ],
   "source": [
    "test0 = start_coord_list[0]\n",
    "test1 = end_coord_list[0]\n",
    "print(test0)\n",
    "print(test1)"
   ]
  },
  {
   "cell_type": "code",
   "execution_count": 91,
   "metadata": {
    "collapsed": true
   },
   "outputs": [],
   "source": [
    "# set an empty list to append to\n",
    "distance_miles = []"
   ]
  },
  {
   "cell_type": "code",
   "execution_count": null,
   "metadata": {
    "collapsed": true,
    "scrolled": false
   },
   "outputs": [],
   "source": [
    "for i in range (0, len_start_coord_list):\n",
    "    start_coord_list[i]"
   ]
  },
  {
   "cell_type": "code",
   "execution_count": null,
   "metadata": {
    "collapsed": true
   },
   "outputs": [],
   "source": [
    "for i in range (0, len_end_coord_list):\n",
    "    end_coord_list[i]"
   ]
  },
  {
   "cell_type": "code",
   "execution_count": 89,
   "metadata": {},
   "outputs": [],
   "source": [
    "# script from geopy to calculate distance by coordinates\n",
    "\n",
    "distance_miles.append(geopy.distance.vincenty(start_coord_list[i], end_coord_list[i]).miles)"
   ]
  },
  {
   "cell_type": "code",
   "execution_count": 92,
   "metadata": {},
   "outputs": [
    {
     "data": {
      "text/plain": [
       "[]"
      ]
     },
     "execution_count": 92,
     "metadata": {},
     "output_type": "execute_result"
    }
   ],
   "source": [
    "distance_miles"
   ]
  },
  {
   "cell_type": "code",
   "execution_count": null,
   "metadata": {
    "collapsed": true
   },
   "outputs": [],
   "source": [
    "my_list = ['one', 'two', 'three', 'four', 'five']\n",
    ">>> my_list_len = len(my_list)\n",
    ">>> for i in range(0, my_list_len):\n",
    "...     print(my_list[i])"
   ]
  },
  {
   "cell_type": "code",
   "execution_count": null,
   "metadata": {
    "collapsed": true
   },
   "outputs": [],
   "source": []
  },
  {
   "cell_type": "code",
   "execution_count": null,
   "metadata": {
    "collapsed": true
   },
   "outputs": [],
   "source": []
  },
  {
   "cell_type": "code",
   "execution_count": null,
   "metadata": {
    "collapsed": true
   },
   "outputs": [],
   "source": []
  },
  {
   "cell_type": "code",
   "execution_count": null,
   "metadata": {
    "collapsed": true
   },
   "outputs": [],
   "source": []
  },
  {
   "cell_type": "code",
   "execution_count": null,
   "metadata": {
    "collapsed": true
   },
   "outputs": [],
   "source": []
  },
  {
   "cell_type": "code",
   "execution_count": null,
   "metadata": {
    "collapsed": true
   },
   "outputs": [],
   "source": [
    "coords_1 = (40.753231, -73.970325)\n",
    "coords_2 = (40.732219, -73.981656)\n",
    "\n",
    "print (geopy.distance.vincenty(coords_1, coords_2).miles)"
   ]
  },
  {
   "cell_type": "code",
   "execution_count": null,
   "metadata": {
    "collapsed": true
   },
   "outputs": [],
   "source": []
  },
  {
   "cell_type": "code",
   "execution_count": null,
   "metadata": {
    "collapsed": true
   },
   "outputs": [],
   "source": []
  },
  {
   "cell_type": "code",
   "execution_count": null,
   "metadata": {
    "collapsed": true
   },
   "outputs": [],
   "source": []
  },
  {
   "cell_type": "code",
   "execution_count": null,
   "metadata": {
    "collapsed": true
   },
   "outputs": [],
   "source": []
  },
  {
   "cell_type": "code",
   "execution_count": null,
   "metadata": {
    "collapsed": true
   },
   "outputs": [],
   "source": [
    "# save this cleaned, merged dataframe to a csv\n",
    "# there are close to 3 mill observations for this merged dataframe\n",
    "# save df_merge.to_csv\n",
    "df_new.to_csv('TripData_2013_Summer_Gender.csv', index=False)"
   ]
  },
  {
   "cell_type": "markdown",
   "metadata": {},
   "source": [
    "<br>"
   ]
  },
  {
   "cell_type": "markdown",
   "metadata": {},
   "source": [
    "# new section for calculations"
   ]
  },
  {
   "cell_type": "code",
   "execution_count": null,
   "metadata": {
    "collapsed": true
   },
   "outputs": [],
   "source": [
    "# add aggregate section\n",
    "# By what percentage has total ridership grown?\n",
    "# filter out for each year, take length of that new data frame, then compare"
   ]
  },
  {
   "cell_type": "code",
   "execution_count": 93,
   "metadata": {},
   "outputs": [
    {
     "data": {
      "text/html": [
       "<div>\n",
       "<style>\n",
       "    .dataframe thead tr:only-child th {\n",
       "        text-align: right;\n",
       "    }\n",
       "\n",
       "    .dataframe thead th {\n",
       "        text-align: left;\n",
       "    }\n",
       "\n",
       "    .dataframe tbody tr th {\n",
       "        vertical-align: top;\n",
       "    }\n",
       "</style>\n",
       "<table border=\"1\" class=\"dataframe\">\n",
       "  <thead>\n",
       "    <tr style=\"text-align: right;\">\n",
       "      <th></th>\n",
       "      <th>tripduration</th>\n",
       "      <th>starttime</th>\n",
       "      <th>stoptime</th>\n",
       "      <th>start station id</th>\n",
       "      <th>start station name</th>\n",
       "      <th>start station latitude</th>\n",
       "      <th>start station longitude</th>\n",
       "      <th>end station id</th>\n",
       "      <th>end station name</th>\n",
       "      <th>end station latitude</th>\n",
       "      <th>end station longitude</th>\n",
       "      <th>bikeid</th>\n",
       "      <th>usertype</th>\n",
       "      <th>birth year</th>\n",
       "      <th>age</th>\n",
       "      <th>gender type</th>\n",
       "      <th>gender</th>\n",
       "    </tr>\n",
       "  </thead>\n",
       "  <tbody>\n",
       "    <tr>\n",
       "      <th>0</th>\n",
       "      <td>634</td>\n",
       "      <td>2013-07-01 00:00:00</td>\n",
       "      <td>2013-07-01 00:10:34</td>\n",
       "      <td>164</td>\n",
       "      <td>E 47 St &amp; 2 Ave</td>\n",
       "      <td>40.753231</td>\n",
       "      <td>-73.970325</td>\n",
       "      <td>504</td>\n",
       "      <td>1 Ave &amp; E 15 St</td>\n",
       "      <td>40.732219</td>\n",
       "      <td>-73.981656</td>\n",
       "      <td>16950</td>\n",
       "      <td>Customer</td>\n",
       "      <td>2013</td>\n",
       "      <td>0</td>\n",
       "      <td>unknown</td>\n",
       "      <td>0</td>\n",
       "    </tr>\n",
       "    <tr>\n",
       "      <th>1</th>\n",
       "      <td>1547</td>\n",
       "      <td>2013-07-01 00:00:02</td>\n",
       "      <td>2013-07-01 00:25:49</td>\n",
       "      <td>388</td>\n",
       "      <td>W 26 St &amp; 10 Ave</td>\n",
       "      <td>40.749718</td>\n",
       "      <td>-74.002950</td>\n",
       "      <td>459</td>\n",
       "      <td>W 20 St &amp; 11 Ave</td>\n",
       "      <td>40.746745</td>\n",
       "      <td>-74.007756</td>\n",
       "      <td>19816</td>\n",
       "      <td>Customer</td>\n",
       "      <td>2013</td>\n",
       "      <td>0</td>\n",
       "      <td>unknown</td>\n",
       "      <td>0</td>\n",
       "    </tr>\n",
       "    <tr>\n",
       "      <th>2</th>\n",
       "      <td>178</td>\n",
       "      <td>2013-07-01 00:01:04</td>\n",
       "      <td>2013-07-01 00:04:02</td>\n",
       "      <td>293</td>\n",
       "      <td>Lafayette St &amp; E 8 St</td>\n",
       "      <td>40.730287</td>\n",
       "      <td>-73.990765</td>\n",
       "      <td>237</td>\n",
       "      <td>E 11 St &amp; 2 Ave</td>\n",
       "      <td>40.730473</td>\n",
       "      <td>-73.986724</td>\n",
       "      <td>14548</td>\n",
       "      <td>Subscriber</td>\n",
       "      <td>1980</td>\n",
       "      <td>33</td>\n",
       "      <td>female</td>\n",
       "      <td>2</td>\n",
       "    </tr>\n",
       "    <tr>\n",
       "      <th>3</th>\n",
       "      <td>1580</td>\n",
       "      <td>2013-07-01 00:01:06</td>\n",
       "      <td>2013-07-01 00:27:26</td>\n",
       "      <td>531</td>\n",
       "      <td>Forsyth St &amp; Broome St</td>\n",
       "      <td>40.718939</td>\n",
       "      <td>-73.992663</td>\n",
       "      <td>499</td>\n",
       "      <td>Broadway &amp; W 60 St</td>\n",
       "      <td>40.769155</td>\n",
       "      <td>-73.981918</td>\n",
       "      <td>16063</td>\n",
       "      <td>Customer</td>\n",
       "      <td>2013</td>\n",
       "      <td>0</td>\n",
       "      <td>unknown</td>\n",
       "      <td>0</td>\n",
       "    </tr>\n",
       "    <tr>\n",
       "      <th>4</th>\n",
       "      <td>757</td>\n",
       "      <td>2013-07-01 00:01:10</td>\n",
       "      <td>2013-07-01 00:13:47</td>\n",
       "      <td>382</td>\n",
       "      <td>University Pl &amp; E 14 St</td>\n",
       "      <td>40.734927</td>\n",
       "      <td>-73.992005</td>\n",
       "      <td>410</td>\n",
       "      <td>Suffolk St &amp; Stanton St</td>\n",
       "      <td>40.720664</td>\n",
       "      <td>-73.985180</td>\n",
       "      <td>19213</td>\n",
       "      <td>Subscriber</td>\n",
       "      <td>1986</td>\n",
       "      <td>27</td>\n",
       "      <td>male</td>\n",
       "      <td>1</td>\n",
       "    </tr>\n",
       "  </tbody>\n",
       "</table>\n",
       "</div>"
      ],
      "text/plain": [
       "   tripduration            starttime             stoptime  start station id  \\\n",
       "0           634  2013-07-01 00:00:00  2013-07-01 00:10:34               164   \n",
       "1          1547  2013-07-01 00:00:02  2013-07-01 00:25:49               388   \n",
       "2           178  2013-07-01 00:01:04  2013-07-01 00:04:02               293   \n",
       "3          1580  2013-07-01 00:01:06  2013-07-01 00:27:26               531   \n",
       "4           757  2013-07-01 00:01:10  2013-07-01 00:13:47               382   \n",
       "\n",
       "        start station name  start station latitude  start station longitude  \\\n",
       "0          E 47 St & 2 Ave               40.753231               -73.970325   \n",
       "1         W 26 St & 10 Ave               40.749718               -74.002950   \n",
       "2    Lafayette St & E 8 St               40.730287               -73.990765   \n",
       "3   Forsyth St & Broome St               40.718939               -73.992663   \n",
       "4  University Pl & E 14 St               40.734927               -73.992005   \n",
       "\n",
       "   end station id         end station name  end station latitude  \\\n",
       "0             504          1 Ave & E 15 St             40.732219   \n",
       "1             459         W 20 St & 11 Ave             40.746745   \n",
       "2             237          E 11 St & 2 Ave             40.730473   \n",
       "3             499       Broadway & W 60 St             40.769155   \n",
       "4             410  Suffolk St & Stanton St             40.720664   \n",
       "\n",
       "   end station longitude  bikeid    usertype birth year  age gender type  \\\n",
       "0             -73.981656   16950    Customer       2013    0     unknown   \n",
       "1             -74.007756   19816    Customer       2013    0     unknown   \n",
       "2             -73.986724   14548  Subscriber       1980   33      female   \n",
       "3             -73.981918   16063    Customer       2013    0     unknown   \n",
       "4             -73.985180   19213  Subscriber       1986   27        male   \n",
       "\n",
       "   gender  \n",
       "0       0  \n",
       "1       0  \n",
       "2       2  \n",
       "3       0  \n",
       "4       1  "
      ]
     },
     "execution_count": 93,
     "metadata": {},
     "output_type": "execute_result"
    },
    {
     "data": {
      "text/plain": [
       "(843416, 17)"
      ]
     },
     "execution_count": 93,
     "metadata": {},
     "output_type": "execute_result"
    }
   ],
   "source": [
    "# july filter\n",
    "july_2013 = df_new[df_new['starttime'].str.contains(\"2013-07\")]\n",
    "july_2013.head()\n",
    "july_2013.shape"
   ]
  },
  {
   "cell_type": "code",
   "execution_count": 94,
   "metadata": {},
   "outputs": [
    {
     "data": {
      "text/html": [
       "<div>\n",
       "<style>\n",
       "    .dataframe thead tr:only-child th {\n",
       "        text-align: right;\n",
       "    }\n",
       "\n",
       "    .dataframe thead th {\n",
       "        text-align: left;\n",
       "    }\n",
       "\n",
       "    .dataframe tbody tr th {\n",
       "        vertical-align: top;\n",
       "    }\n",
       "</style>\n",
       "<table border=\"1\" class=\"dataframe\">\n",
       "  <thead>\n",
       "    <tr style=\"text-align: right;\">\n",
       "      <th></th>\n",
       "      <th>tripduration</th>\n",
       "      <th>starttime</th>\n",
       "      <th>stoptime</th>\n",
       "      <th>start station id</th>\n",
       "      <th>start station name</th>\n",
       "      <th>start station latitude</th>\n",
       "      <th>start station longitude</th>\n",
       "      <th>end station id</th>\n",
       "      <th>end station name</th>\n",
       "      <th>end station latitude</th>\n",
       "      <th>end station longitude</th>\n",
       "      <th>bikeid</th>\n",
       "      <th>usertype</th>\n",
       "      <th>birth year</th>\n",
       "      <th>age</th>\n",
       "      <th>gender type</th>\n",
       "      <th>gender</th>\n",
       "    </tr>\n",
       "  </thead>\n",
       "  <tbody>\n",
       "    <tr>\n",
       "      <th>0</th>\n",
       "      <td>664</td>\n",
       "      <td>2013-08-01 00:00:00</td>\n",
       "      <td>2013-08-01 00:11:04</td>\n",
       "      <td>449</td>\n",
       "      <td>W 52 St &amp; 9 Ave</td>\n",
       "      <td>40.764618</td>\n",
       "      <td>-73.987895</td>\n",
       "      <td>479</td>\n",
       "      <td>9 Ave &amp; W 45 St</td>\n",
       "      <td>40.760193</td>\n",
       "      <td>-73.991255</td>\n",
       "      <td>20068</td>\n",
       "      <td>Subscriber</td>\n",
       "      <td>1944</td>\n",
       "      <td>0</td>\n",
       "      <td>unknown</td>\n",
       "      <td>1</td>\n",
       "    </tr>\n",
       "    <tr>\n",
       "      <th>1</th>\n",
       "      <td>2115</td>\n",
       "      <td>2013-08-01 00:00:01</td>\n",
       "      <td>2013-08-01 00:35:16</td>\n",
       "      <td>254</td>\n",
       "      <td>W 11 St &amp; 6 Ave</td>\n",
       "      <td>40.735324</td>\n",
       "      <td>-73.998004</td>\n",
       "      <td>195</td>\n",
       "      <td>Liberty St &amp; Broadway</td>\n",
       "      <td>40.709056</td>\n",
       "      <td>-74.010434</td>\n",
       "      <td>17095</td>\n",
       "      <td>Subscriber</td>\n",
       "      <td>1974</td>\n",
       "      <td>0</td>\n",
       "      <td>unknown</td>\n",
       "      <td>1</td>\n",
       "    </tr>\n",
       "    <tr>\n",
       "      <th>2</th>\n",
       "      <td>385</td>\n",
       "      <td>2013-08-01 00:00:03</td>\n",
       "      <td>2013-08-01 00:06:28</td>\n",
       "      <td>460</td>\n",
       "      <td>S 4 St &amp; Wythe Ave</td>\n",
       "      <td>40.712859</td>\n",
       "      <td>-73.965903</td>\n",
       "      <td>2002</td>\n",
       "      <td>Wythe Ave &amp; Metropolitan Ave</td>\n",
       "      <td>40.716887</td>\n",
       "      <td>-73.963198</td>\n",
       "      <td>18197</td>\n",
       "      <td>Customer</td>\n",
       "      <td>2013</td>\n",
       "      <td>33</td>\n",
       "      <td>female</td>\n",
       "      <td>0</td>\n",
       "    </tr>\n",
       "    <tr>\n",
       "      <th>3</th>\n",
       "      <td>653</td>\n",
       "      <td>2013-08-01 00:00:10</td>\n",
       "      <td>2013-08-01 00:11:03</td>\n",
       "      <td>398</td>\n",
       "      <td>Atlantic Ave &amp; Furman St</td>\n",
       "      <td>40.691652</td>\n",
       "      <td>-73.999979</td>\n",
       "      <td>398</td>\n",
       "      <td>Atlantic Ave &amp; Furman St</td>\n",
       "      <td>40.691652</td>\n",
       "      <td>-73.999979</td>\n",
       "      <td>17080</td>\n",
       "      <td>Customer</td>\n",
       "      <td>2013</td>\n",
       "      <td>0</td>\n",
       "      <td>unknown</td>\n",
       "      <td>0</td>\n",
       "    </tr>\n",
       "    <tr>\n",
       "      <th>4</th>\n",
       "      <td>954</td>\n",
       "      <td>2013-08-01 00:00:11</td>\n",
       "      <td>2013-08-01 00:16:05</td>\n",
       "      <td>319</td>\n",
       "      <td>Park Pl &amp; Church St</td>\n",
       "      <td>40.713361</td>\n",
       "      <td>-74.009376</td>\n",
       "      <td>336</td>\n",
       "      <td>Sullivan St &amp; Washington Sq</td>\n",
       "      <td>40.730477</td>\n",
       "      <td>-73.999061</td>\n",
       "      <td>17967</td>\n",
       "      <td>Customer</td>\n",
       "      <td>2013</td>\n",
       "      <td>27</td>\n",
       "      <td>male</td>\n",
       "      <td>0</td>\n",
       "    </tr>\n",
       "  </tbody>\n",
       "</table>\n",
       "</div>"
      ],
      "text/plain": [
       "   tripduration            starttime             stoptime  start station id  \\\n",
       "0           664  2013-08-01 00:00:00  2013-08-01 00:11:04               449   \n",
       "1          2115  2013-08-01 00:00:01  2013-08-01 00:35:16               254   \n",
       "2           385  2013-08-01 00:00:03  2013-08-01 00:06:28               460   \n",
       "3           653  2013-08-01 00:00:10  2013-08-01 00:11:03               398   \n",
       "4           954  2013-08-01 00:00:11  2013-08-01 00:16:05               319   \n",
       "\n",
       "         start station name  start station latitude  start station longitude  \\\n",
       "0           W 52 St & 9 Ave               40.764618               -73.987895   \n",
       "1           W 11 St & 6 Ave               40.735324               -73.998004   \n",
       "2        S 4 St & Wythe Ave               40.712859               -73.965903   \n",
       "3  Atlantic Ave & Furman St               40.691652               -73.999979   \n",
       "4       Park Pl & Church St               40.713361               -74.009376   \n",
       "\n",
       "   end station id              end station name  end station latitude  \\\n",
       "0             479               9 Ave & W 45 St             40.760193   \n",
       "1             195         Liberty St & Broadway             40.709056   \n",
       "2            2002  Wythe Ave & Metropolitan Ave             40.716887   \n",
       "3             398      Atlantic Ave & Furman St             40.691652   \n",
       "4             336   Sullivan St & Washington Sq             40.730477   \n",
       "\n",
       "   end station longitude  bikeid    usertype birth year  age gender type  \\\n",
       "0             -73.991255   20068  Subscriber       1944    0     unknown   \n",
       "1             -74.010434   17095  Subscriber       1974    0     unknown   \n",
       "2             -73.963198   18197    Customer       2013   33      female   \n",
       "3             -73.999979   17080    Customer       2013    0     unknown   \n",
       "4             -73.999061   17967    Customer       2013   27        male   \n",
       "\n",
       "   gender  \n",
       "0       1  \n",
       "1       1  \n",
       "2       0  \n",
       "3       0  \n",
       "4       0  "
      ]
     },
     "execution_count": 94,
     "metadata": {},
     "output_type": "execute_result"
    },
    {
     "data": {
      "text/plain": [
       "(1001958, 17)"
      ]
     },
     "execution_count": 94,
     "metadata": {},
     "output_type": "execute_result"
    }
   ],
   "source": [
    "# aug filter\n",
    "aug_2013 = df_new[df_new['starttime'].str.contains(\"2013-08\")]\n",
    "aug_2013.head()\n",
    "aug_2013.shape"
   ]
  },
  {
   "cell_type": "code",
   "execution_count": 95,
   "metadata": {},
   "outputs": [
    {
     "data": {
      "text/html": [
       "<div>\n",
       "<style>\n",
       "    .dataframe thead tr:only-child th {\n",
       "        text-align: right;\n",
       "    }\n",
       "\n",
       "    .dataframe thead th {\n",
       "        text-align: left;\n",
       "    }\n",
       "\n",
       "    .dataframe tbody tr th {\n",
       "        vertical-align: top;\n",
       "    }\n",
       "</style>\n",
       "<table border=\"1\" class=\"dataframe\">\n",
       "  <thead>\n",
       "    <tr style=\"text-align: right;\">\n",
       "      <th></th>\n",
       "      <th>tripduration</th>\n",
       "      <th>starttime</th>\n",
       "      <th>stoptime</th>\n",
       "      <th>start station id</th>\n",
       "      <th>start station name</th>\n",
       "      <th>start station latitude</th>\n",
       "      <th>start station longitude</th>\n",
       "      <th>end station id</th>\n",
       "      <th>end station name</th>\n",
       "      <th>end station latitude</th>\n",
       "      <th>end station longitude</th>\n",
       "      <th>bikeid</th>\n",
       "      <th>usertype</th>\n",
       "      <th>birth year</th>\n",
       "      <th>age</th>\n",
       "      <th>gender type</th>\n",
       "      <th>gender</th>\n",
       "    </tr>\n",
       "  </thead>\n",
       "  <tbody>\n",
       "    <tr>\n",
       "      <th>0</th>\n",
       "      <td>1010</td>\n",
       "      <td>2013-09-01 00:00:02</td>\n",
       "      <td>2013-09-01 00:16:52</td>\n",
       "      <td>254</td>\n",
       "      <td>W 11 St &amp; 6 Ave</td>\n",
       "      <td>40.735324</td>\n",
       "      <td>-73.998004</td>\n",
       "      <td>147</td>\n",
       "      <td>Greenwich St &amp; Warren St</td>\n",
       "      <td>40.715422</td>\n",
       "      <td>-74.011220</td>\n",
       "      <td>15014</td>\n",
       "      <td>Subscriber</td>\n",
       "      <td>1974</td>\n",
       "      <td>0</td>\n",
       "      <td>unknown</td>\n",
       "      <td>1</td>\n",
       "    </tr>\n",
       "    <tr>\n",
       "      <th>1</th>\n",
       "      <td>1443</td>\n",
       "      <td>2013-09-01 00:00:09</td>\n",
       "      <td>2013-09-01 00:24:12</td>\n",
       "      <td>151</td>\n",
       "      <td>Cleveland Pl &amp; Spring St</td>\n",
       "      <td>40.721816</td>\n",
       "      <td>-73.997203</td>\n",
       "      <td>497</td>\n",
       "      <td>E 17 St &amp; Broadway</td>\n",
       "      <td>40.737050</td>\n",
       "      <td>-73.990093</td>\n",
       "      <td>19393</td>\n",
       "      <td>Customer</td>\n",
       "      <td>2013</td>\n",
       "      <td>0</td>\n",
       "      <td>unknown</td>\n",
       "      <td>0</td>\n",
       "    </tr>\n",
       "    <tr>\n",
       "      <th>2</th>\n",
       "      <td>1387</td>\n",
       "      <td>2013-09-01 00:00:16</td>\n",
       "      <td>2013-09-01 00:23:23</td>\n",
       "      <td>352</td>\n",
       "      <td>W 56 St &amp; 6 Ave</td>\n",
       "      <td>40.763406</td>\n",
       "      <td>-73.977225</td>\n",
       "      <td>405</td>\n",
       "      <td>Washington St &amp; Gansevoort St</td>\n",
       "      <td>40.739323</td>\n",
       "      <td>-74.008119</td>\n",
       "      <td>16160</td>\n",
       "      <td>Subscriber</td>\n",
       "      <td>1992</td>\n",
       "      <td>33</td>\n",
       "      <td>female</td>\n",
       "      <td>1</td>\n",
       "    </tr>\n",
       "    <tr>\n",
       "      <th>3</th>\n",
       "      <td>405</td>\n",
       "      <td>2013-09-01 00:00:18</td>\n",
       "      <td>2013-09-01 00:07:03</td>\n",
       "      <td>490</td>\n",
       "      <td>8 Ave &amp; W 33 St</td>\n",
       "      <td>40.751551</td>\n",
       "      <td>-73.993934</td>\n",
       "      <td>459</td>\n",
       "      <td>W 20 St &amp; 11 Ave</td>\n",
       "      <td>40.746745</td>\n",
       "      <td>-74.007756</td>\n",
       "      <td>14997</td>\n",
       "      <td>Subscriber</td>\n",
       "      <td>1973</td>\n",
       "      <td>0</td>\n",
       "      <td>unknown</td>\n",
       "      <td>1</td>\n",
       "    </tr>\n",
       "    <tr>\n",
       "      <th>4</th>\n",
       "      <td>270</td>\n",
       "      <td>2013-09-01 00:00:20</td>\n",
       "      <td>2013-09-01 00:04:50</td>\n",
       "      <td>236</td>\n",
       "      <td>St Marks Pl &amp; 2 Ave</td>\n",
       "      <td>40.728419</td>\n",
       "      <td>-73.987140</td>\n",
       "      <td>393</td>\n",
       "      <td>E 5 St &amp; Avenue C</td>\n",
       "      <td>40.722992</td>\n",
       "      <td>-73.979955</td>\n",
       "      <td>19609</td>\n",
       "      <td>Subscriber</td>\n",
       "      <td>1984</td>\n",
       "      <td>27</td>\n",
       "      <td>male</td>\n",
       "      <td>1</td>\n",
       "    </tr>\n",
       "  </tbody>\n",
       "</table>\n",
       "</div>"
      ],
      "text/plain": [
       "   tripduration            starttime             stoptime  start station id  \\\n",
       "0          1010  2013-09-01 00:00:02  2013-09-01 00:16:52               254   \n",
       "1          1443  2013-09-01 00:00:09  2013-09-01 00:24:12               151   \n",
       "2          1387  2013-09-01 00:00:16  2013-09-01 00:23:23               352   \n",
       "3           405  2013-09-01 00:00:18  2013-09-01 00:07:03               490   \n",
       "4           270  2013-09-01 00:00:20  2013-09-01 00:04:50               236   \n",
       "\n",
       "         start station name  start station latitude  start station longitude  \\\n",
       "0           W 11 St & 6 Ave               40.735324               -73.998004   \n",
       "1  Cleveland Pl & Spring St               40.721816               -73.997203   \n",
       "2           W 56 St & 6 Ave               40.763406               -73.977225   \n",
       "3           8 Ave & W 33 St               40.751551               -73.993934   \n",
       "4       St Marks Pl & 2 Ave               40.728419               -73.987140   \n",
       "\n",
       "   end station id               end station name  end station latitude  \\\n",
       "0             147       Greenwich St & Warren St             40.715422   \n",
       "1             497             E 17 St & Broadway             40.737050   \n",
       "2             405  Washington St & Gansevoort St             40.739323   \n",
       "3             459               W 20 St & 11 Ave             40.746745   \n",
       "4             393              E 5 St & Avenue C             40.722992   \n",
       "\n",
       "   end station longitude  bikeid    usertype birth year  age gender type  \\\n",
       "0             -74.011220   15014  Subscriber       1974    0     unknown   \n",
       "1             -73.990093   19393    Customer       2013    0     unknown   \n",
       "2             -74.008119   16160  Subscriber       1992   33      female   \n",
       "3             -74.007756   14997  Subscriber       1973    0     unknown   \n",
       "4             -73.979955   19609  Subscriber       1984   27        male   \n",
       "\n",
       "   gender  \n",
       "0       1  \n",
       "1       0  \n",
       "2       1  \n",
       "3       1  \n",
       "4       1  "
      ]
     },
     "execution_count": 95,
     "metadata": {},
     "output_type": "execute_result"
    },
    {
     "data": {
      "text/plain": [
       "(1034359, 17)"
      ]
     },
     "execution_count": 95,
     "metadata": {},
     "output_type": "execute_result"
    }
   ],
   "source": [
    "# sep filter\n",
    "sep_2013 = df_new[df_new['starttime'].str.contains(\"2013-09\")]\n",
    "sep_2013.head()\n",
    "sep_2013.shape"
   ]
  },
  {
   "cell_type": "code",
   "execution_count": 96,
   "metadata": {},
   "outputs": [
    {
     "data": {
      "text/plain": [
       "843416"
      ]
     },
     "execution_count": 96,
     "metadata": {},
     "output_type": "execute_result"
    }
   ],
   "source": [
    "# difference\n",
    "july_obs = july_2013['tripduration'].count()\n",
    "july_obs"
   ]
  },
  {
   "cell_type": "code",
   "execution_count": 97,
   "metadata": {},
   "outputs": [
    {
     "data": {
      "text/plain": [
       "1034359"
      ]
     },
     "execution_count": 97,
     "metadata": {},
     "output_type": "execute_result"
    }
   ],
   "source": [
    "sep_obs = sep_2013['tripduration'].count()\n",
    "sep_obs"
   ]
  },
  {
   "cell_type": "markdown",
   "metadata": {},
   "source": [
    "# Total Ridership Change"
   ]
  },
  {
   "cell_type": "code",
   "execution_count": 98,
   "metadata": {},
   "outputs": [
    {
     "data": {
      "text/plain": [
       "22.64"
      ]
     },
     "execution_count": 98,
     "metadata": {},
     "output_type": "execute_result"
    }
   ],
   "source": [
    "# total_ridership_change (July 2013 - Sep 2013)\n",
    "total_ridership = (sep_obs - july_obs) / july_obs * 100\n",
    "total_ridership_change = float(format(total_ridership, '.2f'))\n",
    "total_ridership_change"
   ]
  },
  {
   "cell_type": "markdown",
   "metadata": {},
   "source": [
    "## Proportion of customers - subscribers"
   ]
  },
  {
   "cell_type": "code",
   "execution_count": 99,
   "metadata": {},
   "outputs": [
    {
     "data": {
      "text/plain": [
       "174915"
      ]
     },
     "execution_count": 99,
     "metadata": {},
     "output_type": "execute_result"
    }
   ],
   "source": [
    "# How has the proportion of short-term customers and annual subscribers changed?\n",
    "\n",
    "# FIND JULY CUSTOMERS\n",
    "short_term_customers = july_2013[july_2013['usertype'] == 'Customer']\n",
    "july_customers = short_term_customers['usertype'].count()\n",
    "\n",
    "# stores the amount of july customers\n",
    "july_customers"
   ]
  },
  {
   "cell_type": "code",
   "execution_count": 100,
   "metadata": {},
   "outputs": [
    {
     "data": {
      "text/plain": [
       "668501"
      ]
     },
     "execution_count": 100,
     "metadata": {},
     "output_type": "execute_result"
    }
   ],
   "source": [
    "# FIND JULY Subscribers\n",
    "subscriber = july_2013[july_2013['usertype'] == 'Subscriber']\n",
    "july_subscriber = subscriber['usertype'].count()\n",
    "\n",
    "# stores the amount of july subscribers\n",
    "july_subscriber"
   ]
  },
  {
   "cell_type": "markdown",
   "metadata": {},
   "source": [
    "### July Customers vs Subscribers"
   ]
  },
  {
   "cell_type": "code",
   "execution_count": 101,
   "metadata": {},
   "outputs": [
    {
     "data": {
      "text/plain": [
       "0.26"
      ]
     },
     "execution_count": 101,
     "metadata": {},
     "output_type": "execute_result"
    }
   ],
   "source": [
    "# Proportion of July Customers vs Subscribers\n",
    "c_sub = july_customers / july_subscriber \n",
    "customer_subscriber_july = float(format(c_sub, '.2f'))\n",
    "customer_subscriber_july"
   ]
  },
  {
   "cell_type": "code",
   "execution_count": 102,
   "metadata": {},
   "outputs": [
    {
     "data": {
      "text/plain": [
       "145169"
      ]
     },
     "execution_count": 102,
     "metadata": {},
     "output_type": "execute_result"
    }
   ],
   "source": [
    "# FIND SEP CUSTOMERS\n",
    "sep_cust = sep_2013[sep_2013['usertype'] == 'Customer']\n",
    "sep_customers = sep_cust['usertype'].count()\n",
    "\n",
    "# stores the amount of july customers\n",
    "sep_customers"
   ]
  },
  {
   "cell_type": "code",
   "execution_count": 103,
   "metadata": {},
   "outputs": [
    {
     "data": {
      "text/plain": [
       "889190"
      ]
     },
     "execution_count": 103,
     "metadata": {},
     "output_type": "execute_result"
    }
   ],
   "source": [
    "# FIND SEP Subscribers\n",
    "sep_sub = sep_2013[sep_2013['usertype'] == 'Subscriber']\n",
    "sep_subscriber = sep_sub['usertype'].count()\n",
    "\n",
    "# stores the amount of july subscribers\n",
    "sep_subscriber"
   ]
  },
  {
   "cell_type": "markdown",
   "metadata": {},
   "source": [
    "### Sep Customers vs Subscribers"
   ]
  },
  {
   "cell_type": "code",
   "execution_count": 104,
   "metadata": {},
   "outputs": [
    {
     "data": {
      "text/plain": [
       "0.16"
      ]
     },
     "execution_count": 104,
     "metadata": {},
     "output_type": "execute_result"
    }
   ],
   "source": [
    "# Proportion of Sep Customers vs Subscribers\n",
    "c_sub_sep = sep_customers / sep_subscriber \n",
    "customer_subscriber_sep = float(format(c_sub_sep, '.2f'))\n",
    "customer_subscriber_sep"
   ]
  },
  {
   "cell_type": "markdown",
   "metadata": {},
   "source": [
    "### The amount of short term customers dropped 17% from July-Sep of 2013"
   ]
  },
  {
   "cell_type": "code",
   "execution_count": 105,
   "metadata": {},
   "outputs": [
    {
     "data": {
      "text/plain": [
       "-17.01"
      ]
     },
     "execution_count": 105,
     "metadata": {},
     "output_type": "execute_result"
    }
   ],
   "source": [
    "# customer change: July - Sep\n",
    "cust_change = (sep_customers - july_customers) / july_customers * 100\n",
    "july_sep_cust_change = float(format(cust_change, '.2f'))\n",
    "july_sep_cust_change"
   ]
  },
  {
   "cell_type": "markdown",
   "metadata": {},
   "source": [
    "### The amount of subscribers increased 33% from July-Sep of 2013"
   ]
  },
  {
   "cell_type": "code",
   "execution_count": 106,
   "metadata": {},
   "outputs": [
    {
     "data": {
      "text/plain": [
       "33.01"
      ]
     },
     "execution_count": 106,
     "metadata": {},
     "output_type": "execute_result"
    }
   ],
   "source": [
    "# subscriber change: July - Sep\n",
    "sub_change = (sep_subscriber - july_subscriber) / july_subscriber * 100\n",
    "july_sep_sub = float(format(sub_change, '.2f'))\n",
    "july_sep_sub"
   ]
  },
  {
   "cell_type": "markdown",
   "metadata": {},
   "source": [
    "## Gender breakdown"
   ]
  },
  {
   "cell_type": "code",
   "execution_count": 107,
   "metadata": {},
   "outputs": [
    {
     "data": {
      "text/plain": [
       "1742213"
      ]
     },
     "execution_count": 107,
     "metadata": {},
     "output_type": "execute_result"
    }
   ],
   "source": [
    "# Today, what is the gender breakdown of active participants (Male v. Female)?\n",
    "male_df = df_new[df_new['gender type'] == 'male']\n",
    "male_count = male_df['gender type'].count()\n",
    "male_count"
   ]
  },
  {
   "cell_type": "code",
   "execution_count": 108,
   "metadata": {},
   "outputs": [
    {
     "data": {
      "text/plain": [
       "538448"
      ]
     },
     "execution_count": 108,
     "metadata": {},
     "output_type": "execute_result"
    }
   ],
   "source": [
    "female_df = df_new[df_new['gender type'] == 'female']\n",
    "female_count = female_df['gender type'].count()\n",
    "female_count"
   ]
  },
  {
   "cell_type": "code",
   "execution_count": 109,
   "metadata": {},
   "outputs": [
    {
     "data": {
      "text/plain": [
       "{'Female_Count': [538448],\n",
       " 'July_Customer_vs_Subs': [0.26],\n",
       " 'Male_Count': [1742213],\n",
       " 'Sep_Customer_vs_Subs': [0.16],\n",
       " 'ShortTerm_Customer_Change': [-17.01],\n",
       " 'Subscribers_Chage': [33.01],\n",
       " 'Total_Ridership_Change': [22.64]}"
      ]
     },
     "execution_count": 109,
     "metadata": {},
     "output_type": "execute_result"
    }
   ],
   "source": [
    "# create new dataframe to store analyzed values\n",
    "data = {\n",
    "    'Total_Ridership_Change' : [total_ridership_change],\n",
    "    'July_Customer_vs_Subs' : [customer_subscriber_july],\n",
    "    'Sep_Customer_vs_Subs' : [customer_subscriber_sep],\n",
    "    'ShortTerm_Customer_Change' : [july_sep_cust_change],\n",
    "    'Subscribers_Chage' : [july_sep_sub],\n",
    "    'Male_Count' : [male_count],\n",
    "    'Female_Count' : [female_count]\n",
    "}\n",
    "data"
   ]
  },
  {
   "cell_type": "code",
   "execution_count": 110,
   "metadata": {},
   "outputs": [
    {
     "data": {
      "text/html": [
       "<div>\n",
       "<style>\n",
       "    .dataframe thead tr:only-child th {\n",
       "        text-align: right;\n",
       "    }\n",
       "\n",
       "    .dataframe thead th {\n",
       "        text-align: left;\n",
       "    }\n",
       "\n",
       "    .dataframe tbody tr th {\n",
       "        vertical-align: top;\n",
       "    }\n",
       "</style>\n",
       "<table border=\"1\" class=\"dataframe\">\n",
       "  <thead>\n",
       "    <tr style=\"text-align: right;\">\n",
       "      <th></th>\n",
       "      <th>Total_Ridership_Change</th>\n",
       "      <th>July_Customer_vs_Subs</th>\n",
       "      <th>Sep_Customer_vs_Subs</th>\n",
       "      <th>ShortTerm_Customer_Change</th>\n",
       "      <th>Subscribers_Chage</th>\n",
       "      <th>Male_Count</th>\n",
       "      <th>Female_Count</th>\n",
       "    </tr>\n",
       "  </thead>\n",
       "  <tbody>\n",
       "    <tr>\n",
       "      <th>0</th>\n",
       "      <td>22.64</td>\n",
       "      <td>0.26</td>\n",
       "      <td>0.16</td>\n",
       "      <td>-17.01</td>\n",
       "      <td>33.01</td>\n",
       "      <td>1742213</td>\n",
       "      <td>538448</td>\n",
       "    </tr>\n",
       "  </tbody>\n",
       "</table>\n",
       "</div>"
      ],
      "text/plain": [
       "   Total_Ridership_Change  July_Customer_vs_Subs  Sep_Customer_vs_Subs  \\\n",
       "0                   22.64                   0.26                  0.16   \n",
       "\n",
       "   ShortTerm_Customer_Change  Subscribers_Chage  Male_Count  Female_Count  \n",
       "0                     -17.01              33.01     1742213        538448  "
      ]
     },
     "execution_count": 110,
     "metadata": {},
     "output_type": "execute_result"
    }
   ],
   "source": [
    "# insights df\n",
    "insights_df = pd.DataFrame(data, columns= ['Total_Ridership_Change',\n",
    "                                           'July_Customer_vs_Subs',\n",
    "                                          'Sep_Customer_vs_Subs',\n",
    "                                          'ShortTerm_Customer_Change',\n",
    "                                          'Subscribers_Chage',\n",
    "                                          'Male_Count',\n",
    "                                          'Female_Count'])\n",
    "insights_df"
   ]
  },
  {
   "cell_type": "code",
   "execution_count": null,
   "metadata": {
    "collapsed": true
   },
   "outputs": [],
   "source": []
  },
  {
   "cell_type": "code",
   "execution_count": null,
   "metadata": {
    "collapsed": true
   },
   "outputs": [],
   "source": []
  },
  {
   "cell_type": "markdown",
   "metadata": {},
   "source": [
    "# Pandas Profiling Section"
   ]
  },
  {
   "cell_type": "code",
   "execution_count": null,
   "metadata": {
    "collapsed": true
   },
   "outputs": [],
   "source": [
    "# use pandas profiling to learn more about the merged df\n",
    "profile = pp.ProfileReport(df_merge)"
   ]
  },
  {
   "cell_type": "code",
   "execution_count": null,
   "metadata": {
    "collapsed": true
   },
   "outputs": [],
   "source": [
    "# print profile report\n",
    "# profile"
   ]
  },
  {
   "cell_type": "code",
   "execution_count": null,
   "metadata": {
    "collapsed": true
   },
   "outputs": [],
   "source": [
    "# save pandas profile to file\n",
    "# profile.to_file(outputfile=\"citibike_13_summer.html\")"
   ]
  },
  {
   "cell_type": "markdown",
   "metadata": {},
   "source": [
    "## link to pandas profile report\n",
    "[CitiBike-Profile-Summer2013](citibike_13_summer.html)"
   ]
  },
  {
   "cell_type": "code",
   "execution_count": null,
   "metadata": {
    "collapsed": true
   },
   "outputs": [],
   "source": []
  }
 ],
 "metadata": {
  "kernelspec": {
   "display_name": "Python 3",
   "language": "python",
   "name": "python3"
  },
  "language_info": {
   "codemirror_mode": {
    "name": "ipython",
    "version": 3
   },
   "file_extension": ".py",
   "mimetype": "text/x-python",
   "name": "python",
   "nbconvert_exporter": "python",
   "pygments_lexer": "ipython3",
   "version": "3.6.4"
  }
 },
 "nbformat": 4,
 "nbformat_minor": 2
}
