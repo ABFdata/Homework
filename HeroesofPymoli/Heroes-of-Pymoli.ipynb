{
 "cells": [
  {
   "cell_type": "code",
   "execution_count": 1,
   "metadata": {
    "collapsed": true
   },
   "outputs": [],
   "source": [
    "import pandas as pd\n",
    "import numpy as np\n",
    "\n",
    "from IPython.core.interactiveshell import InteractiveShell\n",
    "InteractiveShell.ast_node_interactivity = \"all\"\n",
    "\n",
    "%matplotlib inline\n",
    "import matplotlib.pyplot as plt\n",
    "import seaborn as sns\n",
    "plt.style.use('fivethirtyeight')\n",
    "\n",
    "import warnings\n",
    "warnings.filterwarnings('ignore')"
   ]
  },
  {
   "cell_type": "code",
   "execution_count": 2,
   "metadata": {},
   "outputs": [
    {
     "data": {
      "text/html": [
       "<div>\n",
       "<style>\n",
       "    .dataframe thead tr:only-child th {\n",
       "        text-align: right;\n",
       "    }\n",
       "\n",
       "    .dataframe thead th {\n",
       "        text-align: left;\n",
       "    }\n",
       "\n",
       "    .dataframe tbody tr th {\n",
       "        vertical-align: top;\n",
       "    }\n",
       "</style>\n",
       "<table border=\"1\" class=\"dataframe\">\n",
       "  <thead>\n",
       "    <tr style=\"text-align: right;\">\n",
       "      <th></th>\n",
       "      <th>Age</th>\n",
       "      <th>Gender</th>\n",
       "      <th>Item ID</th>\n",
       "      <th>Item Name</th>\n",
       "      <th>Price</th>\n",
       "      <th>SN</th>\n",
       "    </tr>\n",
       "  </thead>\n",
       "  <tbody>\n",
       "    <tr>\n",
       "      <th>0</th>\n",
       "      <td>38</td>\n",
       "      <td>Male</td>\n",
       "      <td>165</td>\n",
       "      <td>Bone Crushing Silver Skewer</td>\n",
       "      <td>3.37</td>\n",
       "      <td>Aelalis34</td>\n",
       "    </tr>\n",
       "    <tr>\n",
       "      <th>1</th>\n",
       "      <td>21</td>\n",
       "      <td>Male</td>\n",
       "      <td>119</td>\n",
       "      <td>Stormbringer, Dark Blade of Ending Misery</td>\n",
       "      <td>2.32</td>\n",
       "      <td>Eolo46</td>\n",
       "    </tr>\n",
       "    <tr>\n",
       "      <th>2</th>\n",
       "      <td>34</td>\n",
       "      <td>Male</td>\n",
       "      <td>174</td>\n",
       "      <td>Primitive Blade</td>\n",
       "      <td>2.46</td>\n",
       "      <td>Assastnya25</td>\n",
       "    </tr>\n",
       "    <tr>\n",
       "      <th>3</th>\n",
       "      <td>21</td>\n",
       "      <td>Male</td>\n",
       "      <td>92</td>\n",
       "      <td>Final Critic</td>\n",
       "      <td>1.36</td>\n",
       "      <td>Pheusrical25</td>\n",
       "    </tr>\n",
       "    <tr>\n",
       "      <th>4</th>\n",
       "      <td>23</td>\n",
       "      <td>Male</td>\n",
       "      <td>63</td>\n",
       "      <td>Stormfury Mace</td>\n",
       "      <td>1.27</td>\n",
       "      <td>Aela59</td>\n",
       "    </tr>\n",
       "  </tbody>\n",
       "</table>\n",
       "</div>"
      ],
      "text/plain": [
       "   Age Gender  Item ID                                  Item Name  Price  \\\n",
       "0   38   Male      165                Bone Crushing Silver Skewer   3.37   \n",
       "1   21   Male      119  Stormbringer, Dark Blade of Ending Misery   2.32   \n",
       "2   34   Male      174                            Primitive Blade   2.46   \n",
       "3   21   Male       92                               Final Critic   1.36   \n",
       "4   23   Male       63                             Stormfury Mace   1.27   \n",
       "\n",
       "             SN  \n",
       "0     Aelalis34  \n",
       "1        Eolo46  \n",
       "2   Assastnya25  \n",
       "3  Pheusrical25  \n",
       "4        Aela59  "
      ]
     },
     "execution_count": 2,
     "metadata": {},
     "output_type": "execute_result"
    }
   ],
   "source": [
    "# read file\n",
    "json_file = \"purchase_data.json\"\n",
    "\n",
    "purchase_data_pd = pd.read_json(json_file)\n",
    "purchase_data_pd.head()"
   ]
  },
  {
   "cell_type": "code",
   "execution_count": 3,
   "metadata": {},
   "outputs": [
    {
     "data": {
      "text/plain": [
       "Undirrala66    5\n",
       "Qarwen67       4\n",
       "Saedue76       4\n",
       "Hailaphos89    4\n",
       "Mindimnya67    4\n",
       "Name: SN, dtype: int64"
      ]
     },
     "execution_count": 3,
     "metadata": {},
     "output_type": "execute_result"
    }
   ],
   "source": [
    "# Check SN to see the value counts for each player\n",
    "total_players = purchase_data_pd['SN'].value_counts()\n",
    "total_players.head()"
   ]
  },
  {
   "cell_type": "code",
   "execution_count": 4,
   "metadata": {},
   "outputs": [
    {
     "data": {
      "text/plain": [
       "207"
      ]
     },
     "execution_count": 4,
     "metadata": {},
     "output_type": "execute_result"
    }
   ],
   "source": [
    "# Identify duplicate 'SN'\n",
    "purchase_data_pd.SN.duplicated().sum()"
   ]
  },
  {
   "cell_type": "code",
   "execution_count": 5,
   "metadata": {},
   "outputs": [
    {
     "data": {
      "text/plain": [
       "3"
      ]
     },
     "execution_count": 5,
     "metadata": {},
     "output_type": "execute_result"
    }
   ],
   "source": [
    "# Checks to see if there are duplicated rows\n",
    "purchase_data_pd.duplicated().sum()"
   ]
  },
  {
   "cell_type": "code",
   "execution_count": 6,
   "metadata": {},
   "outputs": [
    {
     "data": {
      "text/html": [
       "<div>\n",
       "<style>\n",
       "    .dataframe thead tr:only-child th {\n",
       "        text-align: right;\n",
       "    }\n",
       "\n",
       "    .dataframe thead th {\n",
       "        text-align: left;\n",
       "    }\n",
       "\n",
       "    .dataframe tbody tr th {\n",
       "        vertical-align: top;\n",
       "    }\n",
       "</style>\n",
       "<table border=\"1\" class=\"dataframe\">\n",
       "  <thead>\n",
       "    <tr style=\"text-align: right;\">\n",
       "      <th></th>\n",
       "      <th>Age</th>\n",
       "      <th>Gender</th>\n",
       "      <th>Item ID</th>\n",
       "      <th>Item Name</th>\n",
       "      <th>Price</th>\n",
       "      <th>SN</th>\n",
       "    </tr>\n",
       "  </thead>\n",
       "  <tbody>\n",
       "    <tr>\n",
       "      <th>171</th>\n",
       "      <td>21</td>\n",
       "      <td>Male</td>\n",
       "      <td>84</td>\n",
       "      <td>Arcane Gem</td>\n",
       "      <td>2.23</td>\n",
       "      <td>Stryanastip77</td>\n",
       "    </tr>\n",
       "    <tr>\n",
       "      <th>226</th>\n",
       "      <td>25</td>\n",
       "      <td>Female</td>\n",
       "      <td>92</td>\n",
       "      <td>Final Critic</td>\n",
       "      <td>1.36</td>\n",
       "      <td>Chamistast30</td>\n",
       "    </tr>\n",
       "    <tr>\n",
       "      <th>237</th>\n",
       "      <td>7</td>\n",
       "      <td>Male</td>\n",
       "      <td>121</td>\n",
       "      <td>Massacre</td>\n",
       "      <td>3.42</td>\n",
       "      <td>Lisistaya47</td>\n",
       "    </tr>\n",
       "  </tbody>\n",
       "</table>\n",
       "</div>"
      ],
      "text/plain": [
       "     Age  Gender  Item ID     Item Name  Price             SN\n",
       "171   21    Male       84    Arcane Gem   2.23  Stryanastip77\n",
       "226   25  Female       92  Final Critic   1.36   Chamistast30\n",
       "237    7    Male      121      Massacre   3.42    Lisistaya47"
      ]
     },
     "execution_count": 6,
     "metadata": {},
     "output_type": "execute_result"
    }
   ],
   "source": [
    "# These 3 rows are duplicates\n",
    "purchase_data_pd.loc[purchase_data_pd.duplicated(keep='last'), :]"
   ]
  },
  {
   "cell_type": "code",
   "execution_count": 7,
   "metadata": {},
   "outputs": [
    {
     "data": {
      "text/html": [
       "<div>\n",
       "<style>\n",
       "    .dataframe thead tr:only-child th {\n",
       "        text-align: right;\n",
       "    }\n",
       "\n",
       "    .dataframe thead th {\n",
       "        text-align: left;\n",
       "    }\n",
       "\n",
       "    .dataframe tbody tr th {\n",
       "        vertical-align: top;\n",
       "    }\n",
       "</style>\n",
       "<table border=\"1\" class=\"dataframe\">\n",
       "  <thead>\n",
       "    <tr style=\"text-align: right;\">\n",
       "      <th></th>\n",
       "      <th>Age</th>\n",
       "      <th>Gender</th>\n",
       "      <th>Item ID</th>\n",
       "      <th>Item Name</th>\n",
       "      <th>Price</th>\n",
       "      <th>SN</th>\n",
       "    </tr>\n",
       "  </thead>\n",
       "  <tbody>\n",
       "    <tr>\n",
       "      <th>292</th>\n",
       "      <td>7</td>\n",
       "      <td>Male</td>\n",
       "      <td>121</td>\n",
       "      <td>Massacre</td>\n",
       "      <td>3.42</td>\n",
       "      <td>Lisistaya47</td>\n",
       "    </tr>\n",
       "    <tr>\n",
       "      <th>415</th>\n",
       "      <td>25</td>\n",
       "      <td>Female</td>\n",
       "      <td>92</td>\n",
       "      <td>Final Critic</td>\n",
       "      <td>1.36</td>\n",
       "      <td>Chamistast30</td>\n",
       "    </tr>\n",
       "    <tr>\n",
       "      <th>440</th>\n",
       "      <td>21</td>\n",
       "      <td>Male</td>\n",
       "      <td>84</td>\n",
       "      <td>Arcane Gem</td>\n",
       "      <td>2.23</td>\n",
       "      <td>Stryanastip77</td>\n",
       "    </tr>\n",
       "  </tbody>\n",
       "</table>\n",
       "</div>"
      ],
      "text/plain": [
       "     Age  Gender  Item ID     Item Name  Price             SN\n",
       "292    7    Male      121      Massacre   3.42    Lisistaya47\n",
       "415   25  Female       92  Final Critic   1.36   Chamistast30\n",
       "440   21    Male       84    Arcane Gem   2.23  Stryanastip77"
      ]
     },
     "execution_count": 7,
     "metadata": {},
     "output_type": "execute_result"
    }
   ],
   "source": [
    "# The duplciated rows appear later in the data set\n",
    "purchase_data_pd.loc[purchase_data_pd.duplicated(), :]"
   ]
  },
  {
   "cell_type": "code",
   "execution_count": 8,
   "metadata": {},
   "outputs": [
    {
     "data": {
      "text/html": [
       "<div>\n",
       "<style>\n",
       "    .dataframe thead tr:only-child th {\n",
       "        text-align: right;\n",
       "    }\n",
       "\n",
       "    .dataframe thead th {\n",
       "        text-align: left;\n",
       "    }\n",
       "\n",
       "    .dataframe tbody tr th {\n",
       "        vertical-align: top;\n",
       "    }\n",
       "</style>\n",
       "<table border=\"1\" class=\"dataframe\">\n",
       "  <thead>\n",
       "    <tr style=\"text-align: right;\">\n",
       "      <th></th>\n",
       "      <th>Age</th>\n",
       "      <th>Gender</th>\n",
       "      <th>Item ID</th>\n",
       "      <th>Item Name</th>\n",
       "      <th>Price</th>\n",
       "      <th>SN</th>\n",
       "    </tr>\n",
       "  </thead>\n",
       "  <tbody>\n",
       "    <tr>\n",
       "      <th>171</th>\n",
       "      <td>21</td>\n",
       "      <td>Male</td>\n",
       "      <td>84</td>\n",
       "      <td>Arcane Gem</td>\n",
       "      <td>2.23</td>\n",
       "      <td>Stryanastip77</td>\n",
       "    </tr>\n",
       "    <tr>\n",
       "      <th>226</th>\n",
       "      <td>25</td>\n",
       "      <td>Female</td>\n",
       "      <td>92</td>\n",
       "      <td>Final Critic</td>\n",
       "      <td>1.36</td>\n",
       "      <td>Chamistast30</td>\n",
       "    </tr>\n",
       "    <tr>\n",
       "      <th>237</th>\n",
       "      <td>7</td>\n",
       "      <td>Male</td>\n",
       "      <td>121</td>\n",
       "      <td>Massacre</td>\n",
       "      <td>3.42</td>\n",
       "      <td>Lisistaya47</td>\n",
       "    </tr>\n",
       "    <tr>\n",
       "      <th>292</th>\n",
       "      <td>7</td>\n",
       "      <td>Male</td>\n",
       "      <td>121</td>\n",
       "      <td>Massacre</td>\n",
       "      <td>3.42</td>\n",
       "      <td>Lisistaya47</td>\n",
       "    </tr>\n",
       "    <tr>\n",
       "      <th>415</th>\n",
       "      <td>25</td>\n",
       "      <td>Female</td>\n",
       "      <td>92</td>\n",
       "      <td>Final Critic</td>\n",
       "      <td>1.36</td>\n",
       "      <td>Chamistast30</td>\n",
       "    </tr>\n",
       "    <tr>\n",
       "      <th>440</th>\n",
       "      <td>21</td>\n",
       "      <td>Male</td>\n",
       "      <td>84</td>\n",
       "      <td>Arcane Gem</td>\n",
       "      <td>2.23</td>\n",
       "      <td>Stryanastip77</td>\n",
       "    </tr>\n",
       "  </tbody>\n",
       "</table>\n",
       "</div>"
      ],
      "text/plain": [
       "     Age  Gender  Item ID     Item Name  Price             SN\n",
       "171   21    Male       84    Arcane Gem   2.23  Stryanastip77\n",
       "226   25  Female       92  Final Critic   1.36   Chamistast30\n",
       "237    7    Male      121      Massacre   3.42    Lisistaya47\n",
       "292    7    Male      121      Massacre   3.42    Lisistaya47\n",
       "415   25  Female       92  Final Critic   1.36   Chamistast30\n",
       "440   21    Male       84    Arcane Gem   2.23  Stryanastip77"
      ]
     },
     "execution_count": 8,
     "metadata": {},
     "output_type": "execute_result"
    }
   ],
   "source": [
    "# Duplicate rows \n",
    "purchase_data_pd.loc[purchase_data_pd.duplicated(keep=False), :]"
   ]
  },
  {
   "cell_type": "code",
   "execution_count": 9,
   "metadata": {},
   "outputs": [
    {
     "data": {
      "text/plain": [
       "(780, 6)"
      ]
     },
     "execution_count": 9,
     "metadata": {},
     "output_type": "execute_result"
    }
   ],
   "source": [
    "# Getting the shape of the original data set\n",
    "purchase_data_pd.shape"
   ]
  },
  {
   "cell_type": "code",
   "execution_count": 10,
   "metadata": {},
   "outputs": [
    {
     "data": {
      "text/plain": [
       "(777, 6)"
      ]
     },
     "execution_count": 10,
     "metadata": {},
     "output_type": "execute_result"
    }
   ],
   "source": [
    "# Drop Duplicates - clean the data set to get rid of the duplicated rows\n",
    "CLEAN_PURCHASE_DATA = purchase_data_pd.drop_duplicates(keep='first')\n",
    "CLEAN_PURCHASE_DATA.shape"
   ]
  },
  {
   "cell_type": "code",
   "execution_count": 11,
   "metadata": {},
   "outputs": [
    {
     "data": {
      "text/html": [
       "<div>\n",
       "<style>\n",
       "    .dataframe thead tr:only-child th {\n",
       "        text-align: right;\n",
       "    }\n",
       "\n",
       "    .dataframe thead th {\n",
       "        text-align: left;\n",
       "    }\n",
       "\n",
       "    .dataframe tbody tr th {\n",
       "        vertical-align: top;\n",
       "    }\n",
       "</style>\n",
       "<table border=\"1\" class=\"dataframe\">\n",
       "  <thead>\n",
       "    <tr style=\"text-align: right;\">\n",
       "      <th></th>\n",
       "      <th>Age</th>\n",
       "      <th>Gender</th>\n",
       "      <th>Item ID</th>\n",
       "      <th>Item Name</th>\n",
       "      <th>Price</th>\n",
       "      <th>SN</th>\n",
       "    </tr>\n",
       "  </thead>\n",
       "  <tbody>\n",
       "    <tr>\n",
       "      <th>0</th>\n",
       "      <td>38</td>\n",
       "      <td>Male</td>\n",
       "      <td>165</td>\n",
       "      <td>Bone Crushing Silver Skewer</td>\n",
       "      <td>3.37</td>\n",
       "      <td>Aelalis34</td>\n",
       "    </tr>\n",
       "    <tr>\n",
       "      <th>1</th>\n",
       "      <td>21</td>\n",
       "      <td>Male</td>\n",
       "      <td>119</td>\n",
       "      <td>Stormbringer, Dark Blade of Ending Misery</td>\n",
       "      <td>2.32</td>\n",
       "      <td>Eolo46</td>\n",
       "    </tr>\n",
       "    <tr>\n",
       "      <th>2</th>\n",
       "      <td>34</td>\n",
       "      <td>Male</td>\n",
       "      <td>174</td>\n",
       "      <td>Primitive Blade</td>\n",
       "      <td>2.46</td>\n",
       "      <td>Assastnya25</td>\n",
       "    </tr>\n",
       "    <tr>\n",
       "      <th>3</th>\n",
       "      <td>21</td>\n",
       "      <td>Male</td>\n",
       "      <td>92</td>\n",
       "      <td>Final Critic</td>\n",
       "      <td>1.36</td>\n",
       "      <td>Pheusrical25</td>\n",
       "    </tr>\n",
       "    <tr>\n",
       "      <th>4</th>\n",
       "      <td>23</td>\n",
       "      <td>Male</td>\n",
       "      <td>63</td>\n",
       "      <td>Stormfury Mace</td>\n",
       "      <td>1.27</td>\n",
       "      <td>Aela59</td>\n",
       "    </tr>\n",
       "  </tbody>\n",
       "</table>\n",
       "</div>"
      ],
      "text/plain": [
       "   Age Gender  Item ID                                  Item Name  Price  \\\n",
       "0   38   Male      165                Bone Crushing Silver Skewer   3.37   \n",
       "1   21   Male      119  Stormbringer, Dark Blade of Ending Misery   2.32   \n",
       "2   34   Male      174                            Primitive Blade   2.46   \n",
       "3   21   Male       92                               Final Critic   1.36   \n",
       "4   23   Male       63                             Stormfury Mace   1.27   \n",
       "\n",
       "             SN  \n",
       "0     Aelalis34  \n",
       "1        Eolo46  \n",
       "2   Assastnya25  \n",
       "3  Pheusrical25  \n",
       "4        Aela59  "
      ]
     },
     "execution_count": 11,
     "metadata": {},
     "output_type": "execute_result"
    }
   ],
   "source": [
    "CLEAN_PURCHASE_DATA.head()"
   ]
  },
  {
   "cell_type": "code",
   "execution_count": 12,
   "metadata": {},
   "outputs": [
    {
     "data": {
      "text/plain": [
       "777"
      ]
     },
     "execution_count": 12,
     "metadata": {},
     "output_type": "execute_result"
    }
   ],
   "source": [
    "# Use in Gender Demographics?\n",
    "\n",
    "all_players = CLEAN_PURCHASE_DATA['SN'].count()\n",
    "all_players"
   ]
  },
  {
   "cell_type": "markdown",
   "metadata": {},
   "source": [
    "** End of Data Cleaning **"
   ]
  },
  {
   "cell_type": "code",
   "execution_count": 13,
   "metadata": {},
   "outputs": [
    {
     "data": {
      "text/plain": [
       "573"
      ]
     },
     "execution_count": 13,
     "metadata": {},
     "output_type": "execute_result"
    },
    {
     "name": "stdout",
     "output_type": "stream",
     "text": [
      "Total Players = 573\n"
     ]
    }
   ],
   "source": [
    "# Use set to sort out duplicates in total_players\n",
    "\n",
    "total_players_list = CLEAN_PURCHASE_DATA['SN']\n",
    "total_players_list = list(set(total_players_list))\n",
    "len(total_players_list)\n",
    "\n",
    "total_players_count = len(total_players_list)\n",
    "print(\"Total Players = \" + str(total_players_count))"
   ]
  },
  {
   "cell_type": "markdown",
   "metadata": {},
   "source": [
    "** Total Players Data Frame **"
   ]
  },
  {
   "cell_type": "code",
   "execution_count": 14,
   "metadata": {},
   "outputs": [
    {
     "data": {
      "text/html": [
       "<div>\n",
       "<style>\n",
       "    .dataframe thead tr:only-child th {\n",
       "        text-align: right;\n",
       "    }\n",
       "\n",
       "    .dataframe thead th {\n",
       "        text-align: left;\n",
       "    }\n",
       "\n",
       "    .dataframe tbody tr th {\n",
       "        vertical-align: top;\n",
       "    }\n",
       "</style>\n",
       "<table border=\"1\" class=\"dataframe\">\n",
       "  <thead>\n",
       "    <tr style=\"text-align: right;\">\n",
       "      <th></th>\n",
       "      <th>Total Players</th>\n",
       "    </tr>\n",
       "  </thead>\n",
       "  <tbody>\n",
       "    <tr>\n",
       "      <th>0</th>\n",
       "      <td>573</td>\n",
       "    </tr>\n",
       "  </tbody>\n",
       "</table>\n",
       "</div>"
      ],
      "text/plain": [
       "   Total Players\n",
       "0            573"
      ]
     },
     "execution_count": 14,
     "metadata": {},
     "output_type": "execute_result"
    }
   ],
   "source": [
    "# Create a Data Frame to display Total Players \n",
    "\n",
    "Player_Count_df = pd.DataFrame([{'Total Players' : total_players_count}])\n",
    "Player_Count_df"
   ]
  },
  {
   "cell_type": "markdown",
   "metadata": {},
   "source": [
    "** Purchasing Analysis (Total) **"
   ]
  },
  {
   "cell_type": "code",
   "execution_count": 15,
   "metadata": {},
   "outputs": [
    {
     "data": {
      "text/html": [
       "<div>\n",
       "<style>\n",
       "    .dataframe thead tr:only-child th {\n",
       "        text-align: right;\n",
       "    }\n",
       "\n",
       "    .dataframe thead th {\n",
       "        text-align: left;\n",
       "    }\n",
       "\n",
       "    .dataframe tbody tr th {\n",
       "        vertical-align: top;\n",
       "    }\n",
       "</style>\n",
       "<table border=\"1\" class=\"dataframe\">\n",
       "  <thead>\n",
       "    <tr style=\"text-align: right;\">\n",
       "      <th></th>\n",
       "      <th>Item Count</th>\n",
       "    </tr>\n",
       "  </thead>\n",
       "  <tbody>\n",
       "    <tr>\n",
       "      <th>Final Critic</th>\n",
       "      <td>13</td>\n",
       "    </tr>\n",
       "    <tr>\n",
       "      <th>Betrayal, Whisper of Grieving Widows</th>\n",
       "      <td>11</td>\n",
       "    </tr>\n",
       "    <tr>\n",
       "      <th>Stormcaller</th>\n",
       "      <td>10</td>\n",
       "    </tr>\n",
       "    <tr>\n",
       "      <th>Arcane Gem</th>\n",
       "      <td>10</td>\n",
       "    </tr>\n",
       "    <tr>\n",
       "      <th>Serenity</th>\n",
       "      <td>9</td>\n",
       "    </tr>\n",
       "  </tbody>\n",
       "</table>\n",
       "</div>"
      ],
      "text/plain": [
       "                                      Item Count\n",
       "Final Critic                                  13\n",
       "Betrayal, Whisper of Grieving Widows          11\n",
       "Stormcaller                                   10\n",
       "Arcane Gem                                    10\n",
       "Serenity                                       9"
      ]
     },
     "execution_count": 15,
     "metadata": {},
     "output_type": "execute_result"
    }
   ],
   "source": [
    "# Number of Unique Items\n",
    "unique_items_counts = CLEAN_PURCHASE_DATA['Item Name'].value_counts()\n",
    "unique_items_counts_df = pd.DataFrame(unique_items_counts)\n",
    "unique_items_counts_df = unique_items_counts_df.rename(columns={\"Item Name\": \"Item Count\"})\n",
    "unique_items_counts_df.head()"
   ]
  },
  {
   "cell_type": "code",
   "execution_count": 16,
   "metadata": {
    "collapsed": true
   },
   "outputs": [],
   "source": [
    "# Item Count\n",
    "item_name_count = CLEAN_PURCHASE_DATA['Item Name'].value_counts()\n",
    "\n",
    "# set item_name_count to a pd series\n",
    "inc = pd.Series(item_name_count)"
   ]
  },
  {
   "cell_type": "code",
   "execution_count": 17,
   "metadata": {},
   "outputs": [
    {
     "data": {
      "text/html": [
       "<div>\n",
       "<style>\n",
       "    .dataframe thead tr:only-child th {\n",
       "        text-align: right;\n",
       "    }\n",
       "\n",
       "    .dataframe thead th {\n",
       "        text-align: left;\n",
       "    }\n",
       "\n",
       "    .dataframe tbody tr th {\n",
       "        vertical-align: top;\n",
       "    }\n",
       "</style>\n",
       "<table border=\"1\" class=\"dataframe\">\n",
       "  <thead>\n",
       "    <tr style=\"text-align: right;\">\n",
       "      <th></th>\n",
       "      <th>Item</th>\n",
       "      <th>ItemCount</th>\n",
       "    </tr>\n",
       "  </thead>\n",
       "  <tbody>\n",
       "    <tr>\n",
       "      <th>0</th>\n",
       "      <td>Final Critic</td>\n",
       "      <td>13</td>\n",
       "    </tr>\n",
       "    <tr>\n",
       "      <th>1</th>\n",
       "      <td>Betrayal, Whisper of Grieving Widows</td>\n",
       "      <td>11</td>\n",
       "    </tr>\n",
       "    <tr>\n",
       "      <th>2</th>\n",
       "      <td>Stormcaller</td>\n",
       "      <td>10</td>\n",
       "    </tr>\n",
       "    <tr>\n",
       "      <th>3</th>\n",
       "      <td>Arcane Gem</td>\n",
       "      <td>10</td>\n",
       "    </tr>\n",
       "    <tr>\n",
       "      <th>4</th>\n",
       "      <td>Serenity</td>\n",
       "      <td>9</td>\n",
       "    </tr>\n",
       "  </tbody>\n",
       "</table>\n",
       "</div>"
      ],
      "text/plain": [
       "                                   Item  ItemCount\n",
       "0                          Final Critic         13\n",
       "1  Betrayal, Whisper of Grieving Widows         11\n",
       "2                           Stormcaller         10\n",
       "3                            Arcane Gem         10\n",
       "4                              Serenity          9"
      ]
     },
     "execution_count": 17,
     "metadata": {},
     "output_type": "execute_result"
    }
   ],
   "source": [
    "item_viz = pd.DataFrame(inc).head()\n",
    "item_viz.reset_index(inplace=True)\n",
    "item_viz_df = item_viz.rename(columns={\"index\":\"Item\",\"Item Name\": \"ItemCount\"})\n",
    "item_viz_df.head()                                               "
   ]
  },
  {
   "cell_type": "code",
   "execution_count": 18,
   "metadata": {},
   "outputs": [
    {
     "data": {
      "text/plain": [
       "<matplotlib.figure.Figure at 0x116c5b710>"
      ]
     },
     "execution_count": 18,
     "metadata": {},
     "output_type": "execute_result"
    },
    {
     "data": {
      "text/plain": [
       "<matplotlib.axes._subplots.AxesSubplot at 0x116c5f7f0>"
      ]
     },
     "execution_count": 18,
     "metadata": {},
     "output_type": "execute_result"
    },
    {
     "data": {
      "image/png": "[encoded data removed]",
      "text/plain": [
       "<matplotlib.figure.Figure at 0x116c5b710>"
      ]
     },
     "metadata": {},
     "output_type": "display_data"
    }
   ],
   "source": [
    "# Visualize unique_items_df \n",
    "plt.figure(figsize=(20,10))\n",
    "sns.barplot(x=\"Item\", y=\"ItemCount\", data=item_viz_df)"
   ]
  },
  {
   "cell_type": "code",
   "execution_count": 19,
   "metadata": {},
   "outputs": [
    {
     "data": {
      "text/plain": [
       "179"
      ]
     },
     "execution_count": 19,
     "metadata": {},
     "output_type": "execute_result"
    }
   ],
   "source": [
    "# Calculate length of unique items \n",
    "Unique_Items_Length = unique_items_counts_df['Item Count'].count()\n",
    "Unique_Items_Length"
   ]
  },
  {
   "cell_type": "code",
   "execution_count": 20,
   "metadata": {},
   "outputs": [
    {
     "name": "stdout",
     "output_type": "stream",
     "text": [
      "Average Purchase Price = 2.933487773487769\n"
     ]
    }
   ],
   "source": [
    "# Average Purchase Price\n",
    "average_purchase_price = CLEAN_PURCHASE_DATA[\"Price\"].mean()\n",
    "print(\"Average Purchase Price = \" + str(average_purchase_price))"
   ]
  },
  {
   "cell_type": "code",
   "execution_count": 21,
   "metadata": {},
   "outputs": [
    {
     "name": "stdout",
     "output_type": "stream",
     "text": [
      "Total Number of Purhases = 777\n"
     ]
    }
   ],
   "source": [
    "# Total Number of Purchases\n",
    "total_number_of_purchases = CLEAN_PURCHASE_DATA[\"Item Name\"].count()\n",
    "print(\"Total Number of Purhases = \"+ str(total_number_of_purchases))"
   ]
  },
  {
   "cell_type": "code",
   "execution_count": 22,
   "metadata": {},
   "outputs": [
    {
     "data": {
      "text/plain": [
       "2279.3199999999965"
      ]
     },
     "execution_count": 22,
     "metadata": {},
     "output_type": "execute_result"
    }
   ],
   "source": [
    "# Total Revenue \n",
    "total_revenue = CLEAN_PURCHASE_DATA[\"Price\"].sum()\n",
    "total_revenue"
   ]
  },
  {
   "cell_type": "markdown",
   "metadata": {},
   "source": [
    "** Purchasing Analysis Data Frame **"
   ]
  },
  {
   "cell_type": "code",
   "execution_count": 23,
   "metadata": {},
   "outputs": [
    {
     "data": {
      "text/html": [
       "<div>\n",
       "<style>\n",
       "    .dataframe thead tr:only-child th {\n",
       "        text-align: right;\n",
       "    }\n",
       "\n",
       "    .dataframe thead th {\n",
       "        text-align: left;\n",
       "    }\n",
       "\n",
       "    .dataframe tbody tr th {\n",
       "        vertical-align: top;\n",
       "    }\n",
       "</style>\n",
       "<table border=\"1\" class=\"dataframe\">\n",
       "  <thead>\n",
       "    <tr style=\"text-align: right;\">\n",
       "      <th></th>\n",
       "      <th>Number of Unique Items</th>\n",
       "      <th>Average Price</th>\n",
       "      <th>Number of Purchases</th>\n",
       "      <th>Total Revenue</th>\n",
       "    </tr>\n",
       "  </thead>\n",
       "  <tbody>\n",
       "    <tr>\n",
       "      <th>0</th>\n",
       "      <td>179</td>\n",
       "      <td>2.93</td>\n",
       "      <td>777</td>\n",
       "      <td>2279.32</td>\n",
       "    </tr>\n",
       "  </tbody>\n",
       "</table>\n",
       "</div>"
      ],
      "text/plain": [
       "   Number of Unique Items  Average Price  Number of Purchases  Total Revenue\n",
       "0                     179           2.93                  777        2279.32"
      ]
     },
     "execution_count": 23,
     "metadata": {},
     "output_type": "execute_result"
    }
   ],
   "source": [
    "# Create a df for Purchasing Analysis (Total)\n",
    "\n",
    "Purchasing_Analysis_df = pd.DataFrame([{'Number of Unique Items': Unique_Items_Length,\n",
    "                                       'Average Price': average_purchase_price,\n",
    "                                       'Number of Purchases': total_number_of_purchases,\n",
    "                                       'Total Revenue': total_revenue}])\n",
    "Purchasing_Analysis_df = Purchasing_Analysis_df[['Number of Unique Items',\n",
    "                                               'Average Price',\n",
    "                                                 'Number of Purchases',\n",
    "                                               'Total Revenue']]\n",
    "Purchasing_Analysis_df = Purchasing_Analysis_df.round(2)\n",
    "Purchasing_Analysis_df"
   ]
  },
  {
   "cell_type": "markdown",
   "metadata": {},
   "source": [
    "** Gender Demographics **"
   ]
  },
  {
   "cell_type": "code",
   "execution_count": 24,
   "metadata": {
    "collapsed": true
   },
   "outputs": [],
   "source": [
    "# Display SN & Gender Columns\n",
    "SN_Gender_columns = CLEAN_PURCHASE_DATA[[\"SN\", \"Gender\"]]"
   ]
  },
  {
   "cell_type": "code",
   "execution_count": 25,
   "metadata": {},
   "outputs": [
    {
     "data": {
      "text/html": [
       "<div>\n",
       "<style>\n",
       "    .dataframe thead tr:only-child th {\n",
       "        text-align: right;\n",
       "    }\n",
       "\n",
       "    .dataframe thead th {\n",
       "        text-align: left;\n",
       "    }\n",
       "\n",
       "    .dataframe tbody tr th {\n",
       "        vertical-align: top;\n",
       "    }\n",
       "</style>\n",
       "<table border=\"1\" class=\"dataframe\">\n",
       "  <thead>\n",
       "    <tr style=\"text-align: right;\">\n",
       "      <th></th>\n",
       "      <th>SN</th>\n",
       "      <th>Gender</th>\n",
       "    </tr>\n",
       "  </thead>\n",
       "  <tbody>\n",
       "    <tr>\n",
       "      <th>0</th>\n",
       "      <td>Aelalis34</td>\n",
       "      <td>Male</td>\n",
       "    </tr>\n",
       "    <tr>\n",
       "      <th>1</th>\n",
       "      <td>Eolo46</td>\n",
       "      <td>Male</td>\n",
       "    </tr>\n",
       "    <tr>\n",
       "      <th>2</th>\n",
       "      <td>Assastnya25</td>\n",
       "      <td>Male</td>\n",
       "    </tr>\n",
       "    <tr>\n",
       "      <th>3</th>\n",
       "      <td>Pheusrical25</td>\n",
       "      <td>Male</td>\n",
       "    </tr>\n",
       "    <tr>\n",
       "      <th>4</th>\n",
       "      <td>Aela59</td>\n",
       "      <td>Male</td>\n",
       "    </tr>\n",
       "  </tbody>\n",
       "</table>\n",
       "</div>"
      ],
      "text/plain": [
       "             SN Gender\n",
       "0     Aelalis34   Male\n",
       "1        Eolo46   Male\n",
       "2   Assastnya25   Male\n",
       "3  Pheusrical25   Male\n",
       "4        Aela59   Male"
      ]
     },
     "execution_count": 25,
     "metadata": {},
     "output_type": "execute_result"
    }
   ],
   "source": [
    "# Create new Data Frame for SN and Gender\n",
    "SN_Gender_df = pd.DataFrame(SN_Gender_columns)\n",
    "SN_Gender_df.head()"
   ]
  },
  {
   "cell_type": "code",
   "execution_count": 26,
   "metadata": {},
   "outputs": [
    {
     "data": {
      "text/html": [
       "<div>\n",
       "<style>\n",
       "    .dataframe thead tr:only-child th {\n",
       "        text-align: right;\n",
       "    }\n",
       "\n",
       "    .dataframe thead th {\n",
       "        text-align: left;\n",
       "    }\n",
       "\n",
       "    .dataframe tbody tr th {\n",
       "        vertical-align: top;\n",
       "    }\n",
       "</style>\n",
       "<table border=\"1\" class=\"dataframe\">\n",
       "  <thead>\n",
       "    <tr style=\"text-align: right;\">\n",
       "      <th></th>\n",
       "      <th>SN</th>\n",
       "      <th>Gender</th>\n",
       "    </tr>\n",
       "  </thead>\n",
       "  <tbody>\n",
       "    <tr>\n",
       "      <th>1</th>\n",
       "      <td>Eolo46</td>\n",
       "      <td>Male</td>\n",
       "    </tr>\n",
       "    <tr>\n",
       "      <th>3</th>\n",
       "      <td>Pheusrical25</td>\n",
       "      <td>Male</td>\n",
       "    </tr>\n",
       "    <tr>\n",
       "      <th>4</th>\n",
       "      <td>Aela59</td>\n",
       "      <td>Male</td>\n",
       "    </tr>\n",
       "    <tr>\n",
       "      <th>5</th>\n",
       "      <td>Tanimnya91</td>\n",
       "      <td>Male</td>\n",
       "    </tr>\n",
       "    <tr>\n",
       "      <th>6</th>\n",
       "      <td>Undjaskla97</td>\n",
       "      <td>Male</td>\n",
       "    </tr>\n",
       "  </tbody>\n",
       "</table>\n",
       "</div>"
      ],
      "text/plain": [
       "             SN Gender\n",
       "1        Eolo46   Male\n",
       "3  Pheusrical25   Male\n",
       "4        Aela59   Male\n",
       "5    Tanimnya91   Male\n",
       "6   Undjaskla97   Male"
      ]
     },
     "execution_count": 26,
     "metadata": {},
     "output_type": "execute_result"
    }
   ],
   "source": [
    "# Slice out Duplicates in SN_Gender_df \n",
    "# to get true value count of gender\n",
    "Updated_SN_Gender_df = SN_Gender_df.drop_duplicates(['SN'], keep='last')\n",
    "Updated_SN_Gender_df.head()"
   ]
  },
  {
   "cell_type": "code",
   "execution_count": 27,
   "metadata": {},
   "outputs": [
    {
     "data": {
      "text/plain": [
       "(573, 2)"
      ]
     },
     "execution_count": 27,
     "metadata": {},
     "output_type": "execute_result"
    }
   ],
   "source": [
    "# Test to see how many rows of 'SN' are left\n",
    "Updated_SN_Gender_df.shape"
   ]
  },
  {
   "cell_type": "code",
   "execution_count": 28,
   "metadata": {},
   "outputs": [
    {
     "data": {
      "text/plain": [
       "Male                     465\n",
       "Female                   100\n",
       "Other / Non-Disclosed      8\n",
       "Name: Gender, dtype: int64"
      ]
     },
     "execution_count": 28,
     "metadata": {},
     "output_type": "execute_result"
    }
   ],
   "source": [
    "# Gender Value Count\n",
    "gender_value_count = Updated_SN_Gender_df[\"Gender\"].value_counts()\n",
    "gender_value_count"
   ]
  },
  {
   "cell_type": "code",
   "execution_count": 29,
   "metadata": {},
   "outputs": [
    {
     "data": {
      "text/plain": [
       "(<matplotlib.figure.Figure at 0x116ca7e48>,\n",
       " <matplotlib.axes._subplots.AxesSubplot at 0x116c9a080>)"
      ]
     },
     "execution_count": 29,
     "metadata": {},
     "output_type": "execute_result"
    },
    {
     "data": {
      "text/plain": [
       "<matplotlib.text.Text at 0x116cd4f98>"
      ]
     },
     "execution_count": 29,
     "metadata": {},
     "output_type": "execute_result"
    },
    {
     "data": {
      "text/plain": [
       "<matplotlib.axes._subplots.AxesSubplot at 0x116c9a080>"
      ]
     },
     "execution_count": 29,
     "metadata": {},
     "output_type": "execute_result"
    },
    {
     "data": {
      "image/png": "[encoded data removed]",
      "text/plain": [
       "<matplotlib.figure.Figure at 0x116ca7e48>"
      ]
     },
     "metadata": {},
     "output_type": "display_data"
    }
   ],
   "source": [
    "# plot gender count\n",
    "plt.subplots(figsize=(20,15))\n",
    "plt.title('Gender Count')\n",
    "sns.countplot(Updated_SN_Gender_df['Gender'], label=\"Count\")"
   ]
  },
  {
   "cell_type": "code",
   "execution_count": 30,
   "metadata": {},
   "outputs": [
    {
     "name": "stdout",
     "output_type": "stream",
     "text": [
      "Total Gender Count = 573\n"
     ]
    }
   ],
   "source": [
    "# Total Gender Count\n",
    "total_gender_count = Updated_SN_Gender_df[\"Gender\"].count()\n",
    "print(\"Total Gender Count = \" + str(total_gender_count))"
   ]
  },
  {
   "cell_type": "code",
   "execution_count": 31,
   "metadata": {},
   "outputs": [
    {
     "name": "stdout",
     "output_type": "stream",
     "text": [
      "Male Count = 465\n",
      "Male Percentage Count = 81.1518324607\n"
     ]
    }
   ],
   "source": [
    "# Percentage and Count of Male Players\n",
    "\n",
    "male_count = Updated_SN_Gender_df[\"Gender\"].value_counts()['Male']\n",
    "print(\"Male Count = \" + str(male_count))\n",
    "\n",
    "male_count_percentage = male_count / total_gender_count * 100\n",
    "print(\"Male Percentage Count = \" + str(male_count_percentage))"
   ]
  },
  {
   "cell_type": "code",
   "execution_count": 32,
   "metadata": {},
   "outputs": [
    {
     "name": "stdout",
     "output_type": "stream",
     "text": [
      "Female Count = 100\n",
      "Female Percentage Count = 17.4520069808\n"
     ]
    }
   ],
   "source": [
    "# Percentage and Count of Female Players\n",
    "\n",
    "female_count = Updated_SN_Gender_df[\"Gender\"].value_counts()['Female']\n",
    "print(\"Female Count = \" + str(female_count))\n",
    "\n",
    "female_count_percentage = female_count / total_gender_count * 100\n",
    "print(\"Female Percentage Count = \" + str(female_count_percentage))"
   ]
  },
  {
   "cell_type": "code",
   "execution_count": 33,
   "metadata": {},
   "outputs": [
    {
     "name": "stdout",
     "output_type": "stream",
     "text": [
      "Other / Non Disclosed Gender = 8\n",
      "Non Disclosed Percentage Count = 1.39616055846\n"
     ]
    }
   ],
   "source": [
    "# Percentage and Count of Other / Non-Disclosed\n",
    "\n",
    "non_disclosed_gender_count = total_gender_count - (male_count + female_count)\n",
    "print(\"Other / Non Disclosed Gender = \" + str(non_disclosed_gender_count))\n",
    "\n",
    "non_disclosed_gender_percentage = non_disclosed_gender_count / total_gender_count * 100\n",
    "print(\"Non Disclosed Percentage Count = \" + str(non_disclosed_gender_percentage))"
   ]
  },
  {
   "cell_type": "markdown",
   "metadata": {},
   "source": [
    "** Gender Demographics Data Frame **"
   ]
  },
  {
   "cell_type": "code",
   "execution_count": 34,
   "metadata": {},
   "outputs": [
    {
     "data": {
      "text/html": [
       "<div>\n",
       "<style>\n",
       "    .dataframe thead tr:only-child th {\n",
       "        text-align: right;\n",
       "    }\n",
       "\n",
       "    .dataframe thead th {\n",
       "        text-align: left;\n",
       "    }\n",
       "\n",
       "    .dataframe tbody tr th {\n",
       "        vertical-align: top;\n",
       "    }\n",
       "</style>\n",
       "<table border=\"1\" class=\"dataframe\">\n",
       "  <thead>\n",
       "    <tr style=\"text-align: right;\">\n",
       "      <th></th>\n",
       "      <th>Percentage of Players</th>\n",
       "      <th>Total Count</th>\n",
       "    </tr>\n",
       "  </thead>\n",
       "  <tbody>\n",
       "    <tr>\n",
       "      <th>Male</th>\n",
       "      <td>81.15</td>\n",
       "      <td>465</td>\n",
       "    </tr>\n",
       "    <tr>\n",
       "      <th>Female</th>\n",
       "      <td>17.45</td>\n",
       "      <td>100</td>\n",
       "    </tr>\n",
       "    <tr>\n",
       "      <th>Other / Non Disclosed</th>\n",
       "      <td>8.00</td>\n",
       "      <td>8</td>\n",
       "    </tr>\n",
       "  </tbody>\n",
       "</table>\n",
       "</div>"
      ],
      "text/plain": [
       "                       Percentage of Players  Total Count\n",
       "Male                                   81.15          465\n",
       "Female                                 17.45          100\n",
       "Other / Non Disclosed                   8.00            8"
      ]
     },
     "execution_count": 34,
     "metadata": {},
     "output_type": "execute_result"
    }
   ],
   "source": [
    "# Create Gender Demographics Data Frame\n",
    "# Rows = Male, Female, Other / Non Disclosed\n",
    "# Columns = Percentage of Players, Total Count\n",
    "\n",
    "Gender_Demographics_df = pd.DataFrame({'Percentage of Players':[male_count_percentage,female_count_percentage,non_disclosed_gender_count],\n",
    "                                      'Total Count': [male_count, female_count,non_disclosed_gender_count]},\n",
    "                                     index = ['Male', 'Female', 'Other / Non Disclosed'])\n",
    "\n",
    "Gender_Demographics_df = Gender_Demographics_df.round(2)\n",
    "Gender_Demographics_df"
   ]
  },
  {
   "cell_type": "code",
   "execution_count": 35,
   "metadata": {
    "collapsed": true
   },
   "outputs": [],
   "source": [
    "# Purchase Count Male - using Clean Data Frame since some players\n",
    "# bought multiple items\n",
    "purchase_count_male = CLEAN_PURCHASE_DATA[\"Gender\"].value_counts()[\"Male\"]"
   ]
  },
  {
   "cell_type": "code",
   "execution_count": 36,
   "metadata": {
    "collapsed": true
   },
   "outputs": [],
   "source": [
    "# Create new DF and drop Female and Other / Non-Disclosed\n",
    "Gender_purchase_pd = CLEAN_PURCHASE_DATA[[\"Gender\",\"Price\"]]"
   ]
  },
  {
   "cell_type": "code",
   "execution_count": 37,
   "metadata": {
    "collapsed": true
   },
   "outputs": [],
   "source": [
    "# Filter out female and update Gender_purchase_pd\n",
    "Updated_Male_purchase_df = Gender_purchase_pd.query(\"Gender != 'Female'\")"
   ]
  },
  {
   "cell_type": "code",
   "execution_count": 38,
   "metadata": {
    "collapsed": true
   },
   "outputs": [],
   "source": [
    "# Filter out Other / Non-Disclosed from Updated_Male_purchase_df\n",
    "Updated_Male_purchase_df2 = Updated_Male_purchase_df.query(\"Gender != 'Other / Non-Disclosed'\")"
   ]
  },
  {
   "cell_type": "code",
   "execution_count": 39,
   "metadata": {
    "collapsed": true
   },
   "outputs": [],
   "source": [
    "# Average Purchase Price Male\n",
    "Average_Purchase_Price_Male = Updated_Male_purchase_df2['Price'].mean()"
   ]
  },
  {
   "cell_type": "code",
   "execution_count": 40,
   "metadata": {
    "collapsed": true
   },
   "outputs": [],
   "source": [
    "# Total Purchase Value Male\n",
    "Total_Purchase_Value_Male = Updated_Male_purchase_df2['Price'].sum()"
   ]
  },
  {
   "cell_type": "code",
   "execution_count": 41,
   "metadata": {},
   "outputs": [
    {
     "name": "stdout",
     "output_type": "stream",
     "text": [
      "Purchase Count Male = 631\n",
      "Average Purchase Price Male = 2.9509191759112494\n",
      "Total Purchase Value Male = 1862.0299999999984\n"
     ]
    }
   ],
   "source": [
    "# Totals Male\n",
    "print (\"Purchase Count Male = \" + str(purchase_count_male))\n",
    "print(\"Average Purchase Price Male = \" + str(Average_Purchase_Price_Male))\n",
    "print(\"Total Purchase Value Male = \" + str(Total_Purchase_Value_Male))"
   ]
  },
  {
   "cell_type": "markdown",
   "metadata": {},
   "source": [
    "** Female Purchase Analysis **"
   ]
  },
  {
   "cell_type": "code",
   "execution_count": 42,
   "metadata": {
    "collapsed": true
   },
   "outputs": [],
   "source": [
    "purchase_count_female = CLEAN_PURCHASE_DATA[\"Gender\"].value_counts()[\"Female\"]"
   ]
  },
  {
   "cell_type": "code",
   "execution_count": 43,
   "metadata": {
    "collapsed": true
   },
   "outputs": [],
   "source": [
    "# Filter out male and update female_purchase_pd\n",
    "Updated_Female_purchase_df = Gender_purchase_pd.query(\"Gender != 'Male'\")"
   ]
  },
  {
   "cell_type": "code",
   "execution_count": 44,
   "metadata": {},
   "outputs": [
    {
     "data": {
      "text/html": [
       "<div>\n",
       "<style>\n",
       "    .dataframe thead tr:only-child th {\n",
       "        text-align: right;\n",
       "    }\n",
       "\n",
       "    .dataframe thead th {\n",
       "        text-align: left;\n",
       "    }\n",
       "\n",
       "    .dataframe tbody tr th {\n",
       "        vertical-align: top;\n",
       "    }\n",
       "</style>\n",
       "<table border=\"1\" class=\"dataframe\">\n",
       "  <thead>\n",
       "    <tr style=\"text-align: right;\">\n",
       "      <th></th>\n",
       "      <th>Gender</th>\n",
       "      <th>Price</th>\n",
       "    </tr>\n",
       "  </thead>\n",
       "  <tbody>\n",
       "    <tr>\n",
       "      <th>7</th>\n",
       "      <td>Female</td>\n",
       "      <td>3.32</td>\n",
       "    </tr>\n",
       "    <tr>\n",
       "      <th>16</th>\n",
       "      <td>Female</td>\n",
       "      <td>1.14</td>\n",
       "    </tr>\n",
       "    <tr>\n",
       "      <th>17</th>\n",
       "      <td>Female</td>\n",
       "      <td>1.65</td>\n",
       "    </tr>\n",
       "    <tr>\n",
       "      <th>22</th>\n",
       "      <td>Female</td>\n",
       "      <td>2.52</td>\n",
       "    </tr>\n",
       "    <tr>\n",
       "      <th>29</th>\n",
       "      <td>Female</td>\n",
       "      <td>2.46</td>\n",
       "    </tr>\n",
       "  </tbody>\n",
       "</table>\n",
       "</div>"
      ],
      "text/plain": [
       "    Gender  Price\n",
       "7   Female   3.32\n",
       "16  Female   1.14\n",
       "17  Female   1.65\n",
       "22  Female   2.52\n",
       "29  Female   2.46"
      ]
     },
     "execution_count": 44,
     "metadata": {},
     "output_type": "execute_result"
    }
   ],
   "source": [
    "# Filter out Other / Non-Disclosed from Updated_Female_purchase_df\n",
    "Updated_Female_purchase_df2 = Updated_Female_purchase_df.query(\"Gender != 'Other / Non-Disclosed'\")\n",
    "Updated_Female_purchase_df2.head()"
   ]
  },
  {
   "cell_type": "code",
   "execution_count": 45,
   "metadata": {
    "collapsed": true
   },
   "outputs": [],
   "source": [
    "# Average Purchase Price female\n",
    "Average_Purchase_Price_Female = Updated_Female_purchase_df2['Price'].mean()"
   ]
  },
  {
   "cell_type": "code",
   "execution_count": 46,
   "metadata": {
    "collapsed": true
   },
   "outputs": [],
   "source": [
    "# Total Purchase Value female\n",
    "Total_Purchase_Value_Female = Updated_Female_purchase_df2['Price'].sum()"
   ]
  },
  {
   "cell_type": "code",
   "execution_count": 47,
   "metadata": {},
   "outputs": [
    {
     "name": "stdout",
     "output_type": "stream",
     "text": [
      "Purchase Count Female = 135\n",
      "Average Purchase Price Female = 2.826296296296295\n",
      "Total Purchase Value Female = 381.54999999999984\n"
     ]
    }
   ],
   "source": [
    "# Totals Female\n",
    "print (\"Purchase Count Female = \" + str(purchase_count_female))\n",
    "print(\"Average Purchase Price Female = \" + str(Average_Purchase_Price_Female))\n",
    "print(\"Total Purchase Value Female = \" + str(Total_Purchase_Value_Female))"
   ]
  },
  {
   "cell_type": "markdown",
   "metadata": {},
   "source": [
    "** Other / Non-Disclosed Purchase Analysis **"
   ]
  },
  {
   "cell_type": "code",
   "execution_count": 48,
   "metadata": {
    "collapsed": true
   },
   "outputs": [],
   "source": [
    "# Purchase Count Other / Non-Disclosed - Use orginal Data Frame since some players\n",
    "# bought multiple items\n",
    "purchase_count_other = CLEAN_PURCHASE_DATA[\"Gender\"].value_counts()[\"Other / Non-Disclosed\"]"
   ]
  },
  {
   "cell_type": "code",
   "execution_count": 49,
   "metadata": {
    "collapsed": true
   },
   "outputs": [],
   "source": [
    "# Filter out male and update purchase_count_other_pd\n",
    "Updated_Other_purchase_df = Gender_purchase_pd.query(\"Gender != 'Male'\")"
   ]
  },
  {
   "cell_type": "code",
   "execution_count": 50,
   "metadata": {},
   "outputs": [
    {
     "data": {
      "text/html": [
       "<div>\n",
       "<style>\n",
       "    .dataframe thead tr:only-child th {\n",
       "        text-align: right;\n",
       "    }\n",
       "\n",
       "    .dataframe thead th {\n",
       "        text-align: left;\n",
       "    }\n",
       "\n",
       "    .dataframe tbody tr th {\n",
       "        vertical-align: top;\n",
       "    }\n",
       "</style>\n",
       "<table border=\"1\" class=\"dataframe\">\n",
       "  <thead>\n",
       "    <tr style=\"text-align: right;\">\n",
       "      <th></th>\n",
       "      <th>Gender</th>\n",
       "      <th>Price</th>\n",
       "    </tr>\n",
       "  </thead>\n",
       "  <tbody>\n",
       "    <tr>\n",
       "      <th>177</th>\n",
       "      <td>Other / Non-Disclosed</td>\n",
       "      <td>3.73</td>\n",
       "    </tr>\n",
       "    <tr>\n",
       "      <th>209</th>\n",
       "      <td>Other / Non-Disclosed</td>\n",
       "      <td>2.21</td>\n",
       "    </tr>\n",
       "    <tr>\n",
       "      <th>244</th>\n",
       "      <td>Other / Non-Disclosed</td>\n",
       "      <td>2.36</td>\n",
       "    </tr>\n",
       "    <tr>\n",
       "      <th>267</th>\n",
       "      <td>Other / Non-Disclosed</td>\n",
       "      <td>1.96</td>\n",
       "    </tr>\n",
       "    <tr>\n",
       "      <th>276</th>\n",
       "      <td>Other / Non-Disclosed</td>\n",
       "      <td>4.00</td>\n",
       "    </tr>\n",
       "  </tbody>\n",
       "</table>\n",
       "</div>"
      ],
      "text/plain": [
       "                    Gender  Price\n",
       "177  Other / Non-Disclosed   3.73\n",
       "209  Other / Non-Disclosed   2.21\n",
       "244  Other / Non-Disclosed   2.36\n",
       "267  Other / Non-Disclosed   1.96\n",
       "276  Other / Non-Disclosed   4.00"
      ]
     },
     "execution_count": 50,
     "metadata": {},
     "output_type": "execute_result"
    }
   ],
   "source": [
    "# Filter out Female from Updated_Other_purchase_df\n",
    "Updated_Other_purchase_df2 = Updated_Other_purchase_df.query(\"Gender != 'Female'\")\n",
    "Updated_Other_purchase_df2.head()"
   ]
  },
  {
   "cell_type": "code",
   "execution_count": 51,
   "metadata": {
    "collapsed": true
   },
   "outputs": [],
   "source": [
    "# Average Purchase Price Other \n",
    "Average_Purchase_Price_Other = Updated_Other_purchase_df2['Price'].mean()"
   ]
  },
  {
   "cell_type": "code",
   "execution_count": 52,
   "metadata": {
    "collapsed": true
   },
   "outputs": [],
   "source": [
    "# Total Purchase Value Other\n",
    "Total_Purchase_Value_Other = Updated_Other_purchase_df2['Price'].sum()"
   ]
  },
  {
   "cell_type": "code",
   "execution_count": 53,
   "metadata": {},
   "outputs": [
    {
     "name": "stdout",
     "output_type": "stream",
     "text": [
      "Purchase Count Other / Non-Disclosed = 11\n",
      "Average Purchase Price Other / Non-Disclosed = 3.2490909090909086\n",
      "Total Purchase Value Other / Non-Disclosed = 35.739999999999995\n"
     ]
    }
   ],
   "source": [
    "# Totals Other\n",
    "print (\"Purchase Count Other / Non-Disclosed = \" + str(purchase_count_other))\n",
    "print(\"Average Purchase Price Other / Non-Disclosed = \" + str(Average_Purchase_Price_Other))\n",
    "print(\"Total Purchase Value Other / Non-Disclosed = \" + str(Total_Purchase_Value_Other))"
   ]
  },
  {
   "cell_type": "code",
   "execution_count": 54,
   "metadata": {
    "collapsed": true
   },
   "outputs": [],
   "source": [
    "# Normalized Totals\n",
    "Male_Norm = Total_Purchase_Value_Male / purchase_count_male \n",
    "Female_Norm = Total_Purchase_Value_Female / purchase_count_female\n",
    "Other_Norm = Total_Purchase_Value_Other / purchase_count_other"
   ]
  },
  {
   "cell_type": "markdown",
   "metadata": {},
   "source": [
    "** Purchasing Analysis (Gender) Data Frame **"
   ]
  },
  {
   "cell_type": "code",
   "execution_count": 55,
   "metadata": {},
   "outputs": [
    {
     "data": {
      "text/html": [
       "<div>\n",
       "<style>\n",
       "    .dataframe thead tr:only-child th {\n",
       "        text-align: right;\n",
       "    }\n",
       "\n",
       "    .dataframe thead th {\n",
       "        text-align: left;\n",
       "    }\n",
       "\n",
       "    .dataframe tbody tr th {\n",
       "        vertical-align: top;\n",
       "    }\n",
       "</style>\n",
       "<table border=\"1\" class=\"dataframe\">\n",
       "  <thead>\n",
       "    <tr style=\"text-align: right;\">\n",
       "      <th></th>\n",
       "      <th>Purchase Count</th>\n",
       "      <th>Average Purchase Price</th>\n",
       "      <th>Total Purchase Value</th>\n",
       "      <th>Normalized Totals</th>\n",
       "    </tr>\n",
       "  </thead>\n",
       "  <tbody>\n",
       "    <tr>\n",
       "      <th>Male</th>\n",
       "      <td>631</td>\n",
       "      <td>2.95</td>\n",
       "      <td>1862.03</td>\n",
       "      <td>2.95</td>\n",
       "    </tr>\n",
       "    <tr>\n",
       "      <th>Female</th>\n",
       "      <td>135</td>\n",
       "      <td>2.83</td>\n",
       "      <td>381.55</td>\n",
       "      <td>2.83</td>\n",
       "    </tr>\n",
       "    <tr>\n",
       "      <th>Other / Non Disclosed</th>\n",
       "      <td>11</td>\n",
       "      <td>3.25</td>\n",
       "      <td>35.74</td>\n",
       "      <td>3.25</td>\n",
       "    </tr>\n",
       "  </tbody>\n",
       "</table>\n",
       "</div>"
      ],
      "text/plain": [
       "                       Purchase Count  Average Purchase Price  \\\n",
       "Male                              631                    2.95   \n",
       "Female                            135                    2.83   \n",
       "Other / Non Disclosed              11                    3.25   \n",
       "\n",
       "                       Total Purchase Value  Normalized Totals  \n",
       "Male                                1862.03               2.95  \n",
       "Female                               381.55               2.83  \n",
       "Other / Non Disclosed                 35.74               3.25  "
      ]
     },
     "execution_count": 55,
     "metadata": {},
     "output_type": "execute_result"
    }
   ],
   "source": [
    "# Create Purchasing Analys (Gender) Data Frame\n",
    "\n",
    "Purchase_Analysis_df = pd.DataFrame({'Purchase Count': [purchase_count_male, purchase_count_female, purchase_count_other],\n",
    "                                    'Average Purchase Price': [Average_Purchase_Price_Male, Average_Purchase_Price_Female, Average_Purchase_Price_Other],\n",
    "                                    'Total Purchase Value': [Total_Purchase_Value_Male, Total_Purchase_Value_Female, Total_Purchase_Value_Other],\n",
    "                                    'Normalized Totals': [Male_Norm, Female_Norm, Other_Norm]}, columns = ['Purchase Count', 'Average Purchase Price', 'Total Purchase Value','Normalized Totals'],\n",
    "                                   index = ['Male', 'Female', 'Other / Non Disclosed'])\n",
    "Purchase_Analysis_df = Purchase_Analysis_df.round(2)\n",
    "Purchase_Analysis_df"
   ]
  },
  {
   "cell_type": "markdown",
   "metadata": {},
   "source": [
    "** Age Demographics** \n",
    "\n",
    "* Below each are broken into bins of 4 years (i.e. <10, 10-14, 15-19,/ etc.)\n",
    "    * Purchase Count\n",
    "    * Average Purchase Price\n",
    "    * Total Purchase Value\n",
    "    * Normalized Totals"
   ]
  },
  {
   "cell_type": "code",
   "execution_count": 56,
   "metadata": {},
   "outputs": [
    {
     "data": {
      "text/html": [
       "<div>\n",
       "<style>\n",
       "    .dataframe thead tr:only-child th {\n",
       "        text-align: right;\n",
       "    }\n",
       "\n",
       "    .dataframe thead th {\n",
       "        text-align: left;\n",
       "    }\n",
       "\n",
       "    .dataframe tbody tr th {\n",
       "        vertical-align: top;\n",
       "    }\n",
       "</style>\n",
       "<table border=\"1\" class=\"dataframe\">\n",
       "  <thead>\n",
       "    <tr style=\"text-align: right;\">\n",
       "      <th></th>\n",
       "      <th>Age</th>\n",
       "      <th>Item Name</th>\n",
       "      <th>Price</th>\n",
       "    </tr>\n",
       "  </thead>\n",
       "  <tbody>\n",
       "    <tr>\n",
       "      <th>0</th>\n",
       "      <td>38</td>\n",
       "      <td>Bone Crushing Silver Skewer</td>\n",
       "      <td>3.37</td>\n",
       "    </tr>\n",
       "    <tr>\n",
       "      <th>1</th>\n",
       "      <td>21</td>\n",
       "      <td>Stormbringer, Dark Blade of Ending Misery</td>\n",
       "      <td>2.32</td>\n",
       "    </tr>\n",
       "    <tr>\n",
       "      <th>2</th>\n",
       "      <td>34</td>\n",
       "      <td>Primitive Blade</td>\n",
       "      <td>2.46</td>\n",
       "    </tr>\n",
       "    <tr>\n",
       "      <th>3</th>\n",
       "      <td>21</td>\n",
       "      <td>Final Critic</td>\n",
       "      <td>1.36</td>\n",
       "    </tr>\n",
       "    <tr>\n",
       "      <th>4</th>\n",
       "      <td>23</td>\n",
       "      <td>Stormfury Mace</td>\n",
       "      <td>1.27</td>\n",
       "    </tr>\n",
       "  </tbody>\n",
       "</table>\n",
       "</div>"
      ],
      "text/plain": [
       "   Age                                  Item Name  Price\n",
       "0   38                Bone Crushing Silver Skewer   3.37\n",
       "1   21  Stormbringer, Dark Blade of Ending Misery   2.32\n",
       "2   34                            Primitive Blade   2.46\n",
       "3   21                               Final Critic   1.36\n",
       "4   23                             Stormfury Mace   1.27"
      ]
     },
     "execution_count": 56,
     "metadata": {},
     "output_type": "execute_result"
    }
   ],
   "source": [
    "# Sort Data Frame into Age Demographics \n",
    "Age_Demographics_df = CLEAN_PURCHASE_DATA.loc[:,[\"Age\", \"Item Name\", \"Price\"]]\n",
    "Age_Demographics_df.head()"
   ]
  },
  {
   "cell_type": "code",
   "execution_count": 57,
   "metadata": {
    "collapsed": true
   },
   "outputs": [],
   "source": [
    "# Create Age Bins\n",
    "# 0 - 10, 10 - 14, 15 - 19, 20 - 24, 25 - 29, 30 - 34, 35 - 39, 40+\n",
    "bins = [0, 10, 14, 19, 24, 29, 34, 39, 50]\n",
    "\n",
    "Age_Bin_Groups = ['Child', 'Pre Teen', 'Teen', \"Early 20's\", \"Late 20's\", \"Early 30's\", \"Late 30's\", \"40+\"]"
   ]
  },
  {
   "cell_type": "code",
   "execution_count": 58,
   "metadata": {},
   "outputs": [
    {
     "data": {
      "text/html": [
       "<div>\n",
       "<style>\n",
       "    .dataframe thead tr:only-child th {\n",
       "        text-align: right;\n",
       "    }\n",
       "\n",
       "    .dataframe thead th {\n",
       "        text-align: left;\n",
       "    }\n",
       "\n",
       "    .dataframe tbody tr th {\n",
       "        vertical-align: top;\n",
       "    }\n",
       "</style>\n",
       "<table border=\"1\" class=\"dataframe\">\n",
       "  <thead>\n",
       "    <tr style=\"text-align: right;\">\n",
       "      <th></th>\n",
       "      <th>Age</th>\n",
       "      <th>Gender</th>\n",
       "      <th>Item ID</th>\n",
       "      <th>Item Name</th>\n",
       "      <th>Price</th>\n",
       "      <th>SN</th>\n",
       "      <th>Age_Group</th>\n",
       "    </tr>\n",
       "  </thead>\n",
       "  <tbody>\n",
       "    <tr>\n",
       "      <th>0</th>\n",
       "      <td>38</td>\n",
       "      <td>Male</td>\n",
       "      <td>165</td>\n",
       "      <td>Bone Crushing Silver Skewer</td>\n",
       "      <td>3.37</td>\n",
       "      <td>Aelalis34</td>\n",
       "      <td>Late 30's</td>\n",
       "    </tr>\n",
       "    <tr>\n",
       "      <th>1</th>\n",
       "      <td>21</td>\n",
       "      <td>Male</td>\n",
       "      <td>119</td>\n",
       "      <td>Stormbringer, Dark Blade of Ending Misery</td>\n",
       "      <td>2.32</td>\n",
       "      <td>Eolo46</td>\n",
       "      <td>Early 20's</td>\n",
       "    </tr>\n",
       "    <tr>\n",
       "      <th>2</th>\n",
       "      <td>34</td>\n",
       "      <td>Male</td>\n",
       "      <td>174</td>\n",
       "      <td>Primitive Blade</td>\n",
       "      <td>2.46</td>\n",
       "      <td>Assastnya25</td>\n",
       "      <td>Early 30's</td>\n",
       "    </tr>\n",
       "    <tr>\n",
       "      <th>3</th>\n",
       "      <td>21</td>\n",
       "      <td>Male</td>\n",
       "      <td>92</td>\n",
       "      <td>Final Critic</td>\n",
       "      <td>1.36</td>\n",
       "      <td>Pheusrical25</td>\n",
       "      <td>Early 20's</td>\n",
       "    </tr>\n",
       "    <tr>\n",
       "      <th>4</th>\n",
       "      <td>23</td>\n",
       "      <td>Male</td>\n",
       "      <td>63</td>\n",
       "      <td>Stormfury Mace</td>\n",
       "      <td>1.27</td>\n",
       "      <td>Aela59</td>\n",
       "      <td>Early 20's</td>\n",
       "    </tr>\n",
       "  </tbody>\n",
       "</table>\n",
       "</div>"
      ],
      "text/plain": [
       "   Age Gender  Item ID                                  Item Name  Price  \\\n",
       "0   38   Male      165                Bone Crushing Silver Skewer   3.37   \n",
       "1   21   Male      119  Stormbringer, Dark Blade of Ending Misery   2.32   \n",
       "2   34   Male      174                            Primitive Blade   2.46   \n",
       "3   21   Male       92                               Final Critic   1.36   \n",
       "4   23   Male       63                             Stormfury Mace   1.27   \n",
       "\n",
       "             SN   Age_Group  \n",
       "0     Aelalis34   Late 30's  \n",
       "1        Eolo46  Early 20's  \n",
       "2   Assastnya25  Early 30's  \n",
       "3  Pheusrical25  Early 20's  \n",
       "4        Aela59  Early 20's  "
      ]
     },
     "execution_count": 58,
     "metadata": {},
     "output_type": "execute_result"
    }
   ],
   "source": [
    "CLEAN_PURCHASE_DATA['Age_Group'] = pd.cut(CLEAN_PURCHASE_DATA['Age'], bins, labels=Age_Bin_Groups)\n",
    "CLEAN_PURCHASE_DATA.head()"
   ]
  },
  {
   "cell_type": "code",
   "execution_count": 59,
   "metadata": {},
   "outputs": [
    {
     "data": {
      "text/plain": [
       "Early 20's    335\n",
       "Teen          133\n",
       "Late 20's     124\n",
       "Early 30's     64\n",
       "Late 30's      42\n",
       "Pre Teen       31\n",
       "Child          31\n",
       "40+            17\n",
       "Name: Age_Group, dtype: int64"
      ]
     },
     "execution_count": 59,
     "metadata": {},
     "output_type": "execute_result"
    }
   ],
   "source": [
    "Age_Group_Count = CLEAN_PURCHASE_DATA[\"Age_Group\"].value_counts()\n",
    "Age_Group_Count"
   ]
  },
  {
   "cell_type": "code",
   "execution_count": 60,
   "metadata": {},
   "outputs": [
    {
     "data": {
      "text/plain": [
       "(<matplotlib.figure.Figure at 0x116cf0d30>,\n",
       " <matplotlib.axes._subplots.AxesSubplot at 0x116cc39b0>)"
      ]
     },
     "execution_count": 60,
     "metadata": {},
     "output_type": "execute_result"
    },
    {
     "data": {
      "text/plain": [
       "<matplotlib.text.Text at 0x118329240>"
      ]
     },
     "execution_count": 60,
     "metadata": {},
     "output_type": "execute_result"
    },
    {
     "data": {
      "text/plain": [
       "<matplotlib.axes._subplots.AxesSubplot at 0x116cc39b0>"
      ]
     },
     "execution_count": 60,
     "metadata": {},
     "output_type": "execute_result"
    },
    {
     "data": {
      "image/png": "[encoded data removed]",
      "text/plain": [
       "<matplotlib.figure.Figure at 0x116cf0d30>"
      ]
     },
     "metadata": {},
     "output_type": "display_data"
    }
   ],
   "source": [
    "# plot Age Group Count\n",
    "plt.subplots(figsize=(20,15))\n",
    "plt.title('Age Count')\n",
    "sns.countplot(x = 'Age_Group', data=CLEAN_PURCHASE_DATA,\n",
    "             order=CLEAN_PURCHASE_DATA['Age_Group'].value_counts().index)"
   ]
  },
  {
   "cell_type": "code",
   "execution_count": 61,
   "metadata": {},
   "outputs": [
    {
     "name": "stdout",
     "output_type": "stream",
     "text": [
      "Child = 31\n",
      "Child % = 3.9897039897\n"
     ]
    }
   ],
   "source": [
    "# Purchase_Count_Child \n",
    "Purchase_Count_Child = CLEAN_PURCHASE_DATA[\"Age_Group\"].value_counts()[\"Child\"]\n",
    "Child_Percentage_of_Total = Purchase_Count_Child / all_players * 100 # changed to all_players (777) instead of total (573)\n",
    "print('Child = ' + str(Purchase_Count_Child))\n",
    "print('Child % = ' + str(Child_Percentage_of_Total))"
   ]
  },
  {
   "cell_type": "code",
   "execution_count": 62,
   "metadata": {},
   "outputs": [
    {
     "name": "stdout",
     "output_type": "stream",
     "text": [
      "Pre Teen = 31\n",
      "Teen % = 3.9897039897\n"
     ]
    }
   ],
   "source": [
    "# Purchase_Count_Pre_Teen\n",
    "Purchase_Count_Pre_Teen = CLEAN_PURCHASE_DATA[\"Age_Group\"].value_counts()[\"Pre Teen\"]\n",
    "Pre_Teen_Percentage_of_Total = Purchase_Count_Pre_Teen / all_players * 100\n",
    "print('Pre Teen = ' + str(Purchase_Count_Pre_Teen))\n",
    "print('Teen % = ' + str(Pre_Teen_Percentage_of_Total))"
   ]
  },
  {
   "cell_type": "code",
   "execution_count": 63,
   "metadata": {},
   "outputs": [
    {
     "name": "stdout",
     "output_type": "stream",
     "text": [
      "Teen = 133\n",
      "Teen % = 17.1171171171\n"
     ]
    }
   ],
   "source": [
    "# Purchase_Count_Teen\n",
    "Purchase_Count_Teen = CLEAN_PURCHASE_DATA[\"Age_Group\"].value_counts()[\"Teen\"]\n",
    "Teen_Percentage_of_Total = Purchase_Count_Teen / all_players * 100\n",
    "print('Teen = ' + str(Purchase_Count_Teen))\n",
    "print('Teen % = ' + str(Teen_Percentage_of_Total))"
   ]
  },
  {
   "cell_type": "code",
   "execution_count": 64,
   "metadata": {},
   "outputs": [
    {
     "name": "stdout",
     "output_type": "stream",
     "text": [
      "Early 20's = 335\n",
      "Early 20'% s = 43.1145431145\n"
     ]
    }
   ],
   "source": [
    "# Purchase_Count_Early20s\n",
    "Purchase_Count_Early20s = CLEAN_PURCHASE_DATA[\"Age_Group\"].value_counts()[\"Early 20's\"]\n",
    "Early20s_Percentage_of_Total = Purchase_Count_Early20s / all_players * 100\n",
    "print(\"Early 20's = \" + str(Purchase_Count_Early20s))\n",
    "print(\"Early 20'% s = \" + str(Early20s_Percentage_of_Total))"
   ]
  },
  {
   "cell_type": "code",
   "execution_count": 65,
   "metadata": {},
   "outputs": [
    {
     "name": "stdout",
     "output_type": "stream",
     "text": [
      "Late 20's = 124\n",
      "Late 20's % = 15.9588159588\n"
     ]
    }
   ],
   "source": [
    "# Purchase_Count_Late20s\n",
    "Purchase_Count_Late20s = CLEAN_PURCHASE_DATA[\"Age_Group\"].value_counts()[\"Late 20's\"]\n",
    "Late20s_Percentage_of_Total = Purchase_Count_Late20s / all_players * 100\n",
    "print(\"Late 20's = \" + str(Purchase_Count_Late20s))\n",
    "print(\"Late 20's % = \" + str(Late20s_Percentage_of_Total))"
   ]
  },
  {
   "cell_type": "code",
   "execution_count": 66,
   "metadata": {},
   "outputs": [
    {
     "name": "stdout",
     "output_type": "stream",
     "text": [
      "Early 30's = 64\n",
      "Early 30's % = 8.23680823681\n"
     ]
    }
   ],
   "source": [
    "# Purchase_Count_Early30s\n",
    "Purchase_Count_Early30s = CLEAN_PURCHASE_DATA[\"Age_Group\"].value_counts()[\"Early 30's\"]\n",
    "Early30s_Percentage_of_Total = Purchase_Count_Early30s / all_players * 100\n",
    "print(\"Early 30's = \" + str(Purchase_Count_Early30s))\n",
    "print(\"Early 30's % = \" + str(Early30s_Percentage_of_Total))"
   ]
  },
  {
   "cell_type": "code",
   "execution_count": 67,
   "metadata": {},
   "outputs": [
    {
     "name": "stdout",
     "output_type": "stream",
     "text": [
      "Late 30's = 42\n",
      "Late 30's % = 5.40540540541\n"
     ]
    }
   ],
   "source": [
    "# Purchase_Count_Late30s\n",
    "Purchase_Count_Late30s = CLEAN_PURCHASE_DATA[\"Age_Group\"].value_counts()[\"Late 30's\"]\n",
    "Late30s_Percentage_of_Total = Purchase_Count_Late30s / all_players * 100\n",
    "print(\"Late 30's = \" + str(Purchase_Count_Late30s))\n",
    "print(\"Late 30's % = \" + str(Late30s_Percentage_of_Total))"
   ]
  },
  {
   "cell_type": "code",
   "execution_count": 68,
   "metadata": {},
   "outputs": [
    {
     "name": "stdout",
     "output_type": "stream",
     "text": [
      "40's = 17\n",
      "40's % = 2.1879021879\n"
     ]
    }
   ],
   "source": [
    "# Purchase_Count_40\n",
    "Purchase_Count_40 = CLEAN_PURCHASE_DATA[\"Age_Group\"].value_counts()[\"40+\"]\n",
    "Forties_Percentage_of_Total = Purchase_Count_40 / all_players * 100\n",
    "print(\"40's = \" + str(Purchase_Count_40))\n",
    "print(\"40's % = \" + str(Forties_Percentage_of_Total))"
   ]
  },
  {
   "cell_type": "markdown",
   "metadata": {},
   "source": [
    "** Avg Purchase Price by Age Group **"
   ]
  },
  {
   "cell_type": "code",
   "execution_count": 69,
   "metadata": {},
   "outputs": [
    {
     "data": {
      "text/html": [
       "<div>\n",
       "<style>\n",
       "    .dataframe thead tr:only-child th {\n",
       "        text-align: right;\n",
       "    }\n",
       "\n",
       "    .dataframe thead th {\n",
       "        text-align: left;\n",
       "    }\n",
       "\n",
       "    .dataframe tbody tr th {\n",
       "        vertical-align: top;\n",
       "    }\n",
       "</style>\n",
       "<table border=\"1\" class=\"dataframe\">\n",
       "  <thead>\n",
       "    <tr style=\"text-align: right;\">\n",
       "      <th></th>\n",
       "      <th>Age</th>\n",
       "      <th>Gender</th>\n",
       "      <th>Item ID</th>\n",
       "      <th>Item Name</th>\n",
       "      <th>Price</th>\n",
       "      <th>SN</th>\n",
       "      <th>Age_Group</th>\n",
       "    </tr>\n",
       "  </thead>\n",
       "  <tbody>\n",
       "    <tr>\n",
       "      <th>0</th>\n",
       "      <td>7</td>\n",
       "      <td>Female</td>\n",
       "      <td>158</td>\n",
       "      <td>Darkheart, Butcher of the Champion</td>\n",
       "      <td>3.56</td>\n",
       "      <td>Eosurdru76</td>\n",
       "      <td>Child</td>\n",
       "    </tr>\n",
       "    <tr>\n",
       "      <th>1</th>\n",
       "      <td>7</td>\n",
       "      <td>Male</td>\n",
       "      <td>175</td>\n",
       "      <td>Woeful Adamantite Claymore</td>\n",
       "      <td>1.24</td>\n",
       "      <td>Lassjask63</td>\n",
       "      <td>Child</td>\n",
       "    </tr>\n",
       "    <tr>\n",
       "      <th>2</th>\n",
       "      <td>7</td>\n",
       "      <td>Female</td>\n",
       "      <td>10</td>\n",
       "      <td>Sleepwalker</td>\n",
       "      <td>1.73</td>\n",
       "      <td>Heosurnuru52</td>\n",
       "      <td>Child</td>\n",
       "    </tr>\n",
       "    <tr>\n",
       "      <th>3</th>\n",
       "      <td>9</td>\n",
       "      <td>Male</td>\n",
       "      <td>71</td>\n",
       "      <td>Demise</td>\n",
       "      <td>4.07</td>\n",
       "      <td>Reulae52</td>\n",
       "      <td>Child</td>\n",
       "    </tr>\n",
       "    <tr>\n",
       "      <th>4</th>\n",
       "      <td>7</td>\n",
       "      <td>Male</td>\n",
       "      <td>121</td>\n",
       "      <td>Massacre</td>\n",
       "      <td>3.42</td>\n",
       "      <td>Lisistaya47</td>\n",
       "      <td>Child</td>\n",
       "    </tr>\n",
       "    <tr>\n",
       "      <th>5</th>\n",
       "      <td>9</td>\n",
       "      <td>Male</td>\n",
       "      <td>99</td>\n",
       "      <td>Expiration, Warscythe Of Lost Worlds</td>\n",
       "      <td>4.53</td>\n",
       "      <td>Undjasksya56</td>\n",
       "      <td>Child</td>\n",
       "    </tr>\n",
       "    <tr>\n",
       "      <th>6</th>\n",
       "      <td>7</td>\n",
       "      <td>Male</td>\n",
       "      <td>77</td>\n",
       "      <td>Piety, Guardian of Riddles</td>\n",
       "      <td>3.68</td>\n",
       "      <td>Frichjaskan98</td>\n",
       "      <td>Child</td>\n",
       "    </tr>\n",
       "    <tr>\n",
       "      <th>7</th>\n",
       "      <td>8</td>\n",
       "      <td>Male</td>\n",
       "      <td>79</td>\n",
       "      <td>Alpha, Oath of Zeal</td>\n",
       "      <td>2.88</td>\n",
       "      <td>Iladarla40</td>\n",
       "      <td>Child</td>\n",
       "    </tr>\n",
       "    <tr>\n",
       "      <th>8</th>\n",
       "      <td>7</td>\n",
       "      <td>Male</td>\n",
       "      <td>53</td>\n",
       "      <td>Vengeance Cleaver</td>\n",
       "      <td>3.70</td>\n",
       "      <td>Yarithsurgue62</td>\n",
       "      <td>Child</td>\n",
       "    </tr>\n",
       "    <tr>\n",
       "      <th>9</th>\n",
       "      <td>7</td>\n",
       "      <td>Female</td>\n",
       "      <td>21</td>\n",
       "      <td>Souleater</td>\n",
       "      <td>3.27</td>\n",
       "      <td>Lisirra55</td>\n",
       "      <td>Child</td>\n",
       "    </tr>\n",
       "    <tr>\n",
       "      <th>10</th>\n",
       "      <td>7</td>\n",
       "      <td>Male</td>\n",
       "      <td>151</td>\n",
       "      <td>Severance</td>\n",
       "      <td>1.85</td>\n",
       "      <td>Sundastnya66</td>\n",
       "      <td>Child</td>\n",
       "    </tr>\n",
       "    <tr>\n",
       "      <th>11</th>\n",
       "      <td>7</td>\n",
       "      <td>Female</td>\n",
       "      <td>77</td>\n",
       "      <td>Piety, Guardian of Riddles</td>\n",
       "      <td>3.68</td>\n",
       "      <td>Eosurdru76</td>\n",
       "      <td>Child</td>\n",
       "    </tr>\n",
       "    <tr>\n",
       "      <th>12</th>\n",
       "      <td>7</td>\n",
       "      <td>Male</td>\n",
       "      <td>66</td>\n",
       "      <td>Victor Iron Spikes</td>\n",
       "      <td>3.55</td>\n",
       "      <td>Ingatcil75</td>\n",
       "      <td>Child</td>\n",
       "    </tr>\n",
       "    <tr>\n",
       "      <th>13</th>\n",
       "      <td>9</td>\n",
       "      <td>Male</td>\n",
       "      <td>16</td>\n",
       "      <td>Restored Bauble</td>\n",
       "      <td>3.11</td>\n",
       "      <td>Silinu63</td>\n",
       "      <td>Child</td>\n",
       "    </tr>\n",
       "    <tr>\n",
       "      <th>14</th>\n",
       "      <td>8</td>\n",
       "      <td>Male</td>\n",
       "      <td>65</td>\n",
       "      <td>Conqueror Adamantite Mace</td>\n",
       "      <td>1.96</td>\n",
       "      <td>Tyaenasti87</td>\n",
       "      <td>Child</td>\n",
       "    </tr>\n",
       "    <tr>\n",
       "      <th>15</th>\n",
       "      <td>10</td>\n",
       "      <td>Male</td>\n",
       "      <td>131</td>\n",
       "      <td>Fury</td>\n",
       "      <td>4.82</td>\n",
       "      <td>Ethrusuard41</td>\n",
       "      <td>Child</td>\n",
       "    </tr>\n",
       "    <tr>\n",
       "      <th>16</th>\n",
       "      <td>7</td>\n",
       "      <td>Male</td>\n",
       "      <td>34</td>\n",
       "      <td>Retribution Axe</td>\n",
       "      <td>4.14</td>\n",
       "      <td>Liri91</td>\n",
       "      <td>Child</td>\n",
       "    </tr>\n",
       "    <tr>\n",
       "      <th>17</th>\n",
       "      <td>9</td>\n",
       "      <td>Female</td>\n",
       "      <td>100</td>\n",
       "      <td>Blindscythe</td>\n",
       "      <td>3.66</td>\n",
       "      <td>Jiskosiala43</td>\n",
       "      <td>Child</td>\n",
       "    </tr>\n",
       "    <tr>\n",
       "      <th>18</th>\n",
       "      <td>7</td>\n",
       "      <td>Male</td>\n",
       "      <td>161</td>\n",
       "      <td>Devine</td>\n",
       "      <td>1.45</td>\n",
       "      <td>Liri91</td>\n",
       "      <td>Child</td>\n",
       "    </tr>\n",
       "    <tr>\n",
       "      <th>19</th>\n",
       "      <td>8</td>\n",
       "      <td>Male</td>\n",
       "      <td>15</td>\n",
       "      <td>Soul Infused Crystal</td>\n",
       "      <td>1.03</td>\n",
       "      <td>Iladarla40</td>\n",
       "      <td>Child</td>\n",
       "    </tr>\n",
       "    <tr>\n",
       "      <th>20</th>\n",
       "      <td>7</td>\n",
       "      <td>Male</td>\n",
       "      <td>39</td>\n",
       "      <td>Betrayal, Whisper of Grieving Widows</td>\n",
       "      <td>2.35</td>\n",
       "      <td>Lisistaya47</td>\n",
       "      <td>Child</td>\n",
       "    </tr>\n",
       "    <tr>\n",
       "      <th>21</th>\n",
       "      <td>7</td>\n",
       "      <td>Male</td>\n",
       "      <td>39</td>\n",
       "      <td>Betrayal, Whisper of Grieving Widows</td>\n",
       "      <td>2.35</td>\n",
       "      <td>Eullydru35</td>\n",
       "      <td>Child</td>\n",
       "    </tr>\n",
       "    <tr>\n",
       "      <th>22</th>\n",
       "      <td>9</td>\n",
       "      <td>Male</td>\n",
       "      <td>26</td>\n",
       "      <td>Unholy Wand</td>\n",
       "      <td>1.88</td>\n",
       "      <td>Saralp86</td>\n",
       "      <td>Child</td>\n",
       "    </tr>\n",
       "    <tr>\n",
       "      <th>23</th>\n",
       "      <td>7</td>\n",
       "      <td>Male</td>\n",
       "      <td>158</td>\n",
       "      <td>Darkheart, Butcher of the Champion</td>\n",
       "      <td>3.56</td>\n",
       "      <td>Lassjask63</td>\n",
       "      <td>Child</td>\n",
       "    </tr>\n",
       "    <tr>\n",
       "      <th>24</th>\n",
       "      <td>10</td>\n",
       "      <td>Female</td>\n",
       "      <td>63</td>\n",
       "      <td>Stormfury Mace</td>\n",
       "      <td>1.27</td>\n",
       "      <td>Ilaststa70</td>\n",
       "      <td>Child</td>\n",
       "    </tr>\n",
       "    <tr>\n",
       "      <th>25</th>\n",
       "      <td>7</td>\n",
       "      <td>Male</td>\n",
       "      <td>177</td>\n",
       "      <td>Winterthorn, Defender of Shifting Worlds</td>\n",
       "      <td>4.89</td>\n",
       "      <td>Ingatcil75</td>\n",
       "      <td>Child</td>\n",
       "    </tr>\n",
       "    <tr>\n",
       "      <th>26</th>\n",
       "      <td>7</td>\n",
       "      <td>Female</td>\n",
       "      <td>11</td>\n",
       "      <td>Brimstone</td>\n",
       "      <td>2.52</td>\n",
       "      <td>Lisirra55</td>\n",
       "      <td>Child</td>\n",
       "    </tr>\n",
       "    <tr>\n",
       "      <th>27</th>\n",
       "      <td>9</td>\n",
       "      <td>Male</td>\n",
       "      <td>103</td>\n",
       "      <td>Singed Scalpel</td>\n",
       "      <td>4.87</td>\n",
       "      <td>Ilophos58</td>\n",
       "      <td>Child</td>\n",
       "    </tr>\n",
       "    <tr>\n",
       "      <th>28</th>\n",
       "      <td>7</td>\n",
       "      <td>Male</td>\n",
       "      <td>82</td>\n",
       "      <td>Nirvana</td>\n",
       "      <td>1.11</td>\n",
       "      <td>Yarithsurgue62</td>\n",
       "      <td>Child</td>\n",
       "    </tr>\n",
       "    <tr>\n",
       "      <th>29</th>\n",
       "      <td>10</td>\n",
       "      <td>Female</td>\n",
       "      <td>148</td>\n",
       "      <td>Warmonger, Gift of Suffering's End</td>\n",
       "      <td>3.96</td>\n",
       "      <td>Hiadanurin36</td>\n",
       "      <td>Child</td>\n",
       "    </tr>\n",
       "    <tr>\n",
       "      <th>30</th>\n",
       "      <td>10</td>\n",
       "      <td>Male</td>\n",
       "      <td>16</td>\n",
       "      <td>Restored Bauble</td>\n",
       "      <td>3.11</td>\n",
       "      <td>Ethrusuard41</td>\n",
       "      <td>Child</td>\n",
       "    </tr>\n",
       "  </tbody>\n",
       "</table>\n",
       "</div>"
      ],
      "text/plain": [
       "    Age  Gender  Item ID                                 Item Name  Price  \\\n",
       "0     7  Female      158        Darkheart, Butcher of the Champion   3.56   \n",
       "1     7    Male      175                Woeful Adamantite Claymore   1.24   \n",
       "2     7  Female       10                               Sleepwalker   1.73   \n",
       "3     9    Male       71                                    Demise   4.07   \n",
       "4     7    Male      121                                  Massacre   3.42   \n",
       "5     9    Male       99      Expiration, Warscythe Of Lost Worlds   4.53   \n",
       "6     7    Male       77                Piety, Guardian of Riddles   3.68   \n",
       "7     8    Male       79                       Alpha, Oath of Zeal   2.88   \n",
       "8     7    Male       53                         Vengeance Cleaver   3.70   \n",
       "9     7  Female       21                                 Souleater   3.27   \n",
       "10    7    Male      151                                 Severance   1.85   \n",
       "11    7  Female       77                Piety, Guardian of Riddles   3.68   \n",
       "12    7    Male       66                        Victor Iron Spikes   3.55   \n",
       "13    9    Male       16                           Restored Bauble   3.11   \n",
       "14    8    Male       65                 Conqueror Adamantite Mace   1.96   \n",
       "15   10    Male      131                                      Fury   4.82   \n",
       "16    7    Male       34                           Retribution Axe   4.14   \n",
       "17    9  Female      100                               Blindscythe   3.66   \n",
       "18    7    Male      161                                    Devine   1.45   \n",
       "19    8    Male       15                      Soul Infused Crystal   1.03   \n",
       "20    7    Male       39      Betrayal, Whisper of Grieving Widows   2.35   \n",
       "21    7    Male       39      Betrayal, Whisper of Grieving Widows   2.35   \n",
       "22    9    Male       26                               Unholy Wand   1.88   \n",
       "23    7    Male      158        Darkheart, Butcher of the Champion   3.56   \n",
       "24   10  Female       63                            Stormfury Mace   1.27   \n",
       "25    7    Male      177  Winterthorn, Defender of Shifting Worlds   4.89   \n",
       "26    7  Female       11                                 Brimstone   2.52   \n",
       "27    9    Male      103                            Singed Scalpel   4.87   \n",
       "28    7    Male       82                                   Nirvana   1.11   \n",
       "29   10  Female      148        Warmonger, Gift of Suffering's End   3.96   \n",
       "30   10    Male       16                           Restored Bauble   3.11   \n",
       "\n",
       "                SN Age_Group  \n",
       "0       Eosurdru76     Child  \n",
       "1       Lassjask63     Child  \n",
       "2     Heosurnuru52     Child  \n",
       "3         Reulae52     Child  \n",
       "4      Lisistaya47     Child  \n",
       "5     Undjasksya56     Child  \n",
       "6    Frichjaskan98     Child  \n",
       "7       Iladarla40     Child  \n",
       "8   Yarithsurgue62     Child  \n",
       "9        Lisirra55     Child  \n",
       "10    Sundastnya66     Child  \n",
       "11      Eosurdru76     Child  \n",
       "12      Ingatcil75     Child  \n",
       "13        Silinu63     Child  \n",
       "14     Tyaenasti87     Child  \n",
       "15    Ethrusuard41     Child  \n",
       "16          Liri91     Child  \n",
       "17    Jiskosiala43     Child  \n",
       "18          Liri91     Child  \n",
       "19      Iladarla40     Child  \n",
       "20     Lisistaya47     Child  \n",
       "21      Eullydru35     Child  \n",
       "22        Saralp86     Child  \n",
       "23      Lassjask63     Child  \n",
       "24      Ilaststa70     Child  \n",
       "25      Ingatcil75     Child  \n",
       "26       Lisirra55     Child  \n",
       "27       Ilophos58     Child  \n",
       "28  Yarithsurgue62     Child  \n",
       "29    Hiadanurin36     Child  \n",
       "30    Ethrusuard41     Child  "
      ]
     },
     "execution_count": 69,
     "metadata": {},
     "output_type": "execute_result"
    },
    {
     "data": {
      "text/plain": [
       "(31, 8)"
      ]
     },
     "execution_count": 69,
     "metadata": {},
     "output_type": "execute_result"
    }
   ],
   "source": [
    "# Avg_Price_Child\n",
    "Avg_Price_Child_df = CLEAN_PURCHASE_DATA[CLEAN_PURCHASE_DATA.Age_Group == 'Child']\n",
    "Avg_Price_Child_df.reset_index(inplace=True)\n",
    "Avg_Price_Child_df.drop('index', axis=1)\n",
    "Avg_Price_Child_df.shape"
   ]
  },
  {
   "cell_type": "code",
   "execution_count": 70,
   "metadata": {},
   "outputs": [
    {
     "name": "stdout",
     "output_type": "stream",
     "text": [
      "Average Price Child = 3.0064516129032253\n"
     ]
    }
   ],
   "source": [
    "Avg_Price_Child = Avg_Price_Child_df['Price'].mean()\n",
    "print(\"Average Price Child = \" + str(Avg_Price_Child))"
   ]
  },
  {
   "cell_type": "code",
   "execution_count": 71,
   "metadata": {},
   "outputs": [
    {
     "data": {
      "text/html": [
       "<div>\n",
       "<style>\n",
       "    .dataframe thead tr:only-child th {\n",
       "        text-align: right;\n",
       "    }\n",
       "\n",
       "    .dataframe thead th {\n",
       "        text-align: left;\n",
       "    }\n",
       "\n",
       "    .dataframe tbody tr th {\n",
       "        vertical-align: top;\n",
       "    }\n",
       "</style>\n",
       "<table border=\"1\" class=\"dataframe\">\n",
       "  <thead>\n",
       "    <tr style=\"text-align: right;\">\n",
       "      <th></th>\n",
       "      <th>Age</th>\n",
       "      <th>Gender</th>\n",
       "      <th>Item ID</th>\n",
       "      <th>Item Name</th>\n",
       "      <th>Price</th>\n",
       "      <th>SN</th>\n",
       "      <th>Age_Group</th>\n",
       "    </tr>\n",
       "  </thead>\n",
       "  <tbody>\n",
       "    <tr>\n",
       "      <th>22</th>\n",
       "      <td>11</td>\n",
       "      <td>Female</td>\n",
       "      <td>11</td>\n",
       "      <td>Brimstone</td>\n",
       "      <td>2.52</td>\n",
       "      <td>Deural48</td>\n",
       "      <td>Pre Teen</td>\n",
       "    </tr>\n",
       "    <tr>\n",
       "      <th>24</th>\n",
       "      <td>11</td>\n",
       "      <td>Male</td>\n",
       "      <td>65</td>\n",
       "      <td>Conqueror Adamantite Mace</td>\n",
       "      <td>1.96</td>\n",
       "      <td>Qarwen67</td>\n",
       "      <td>Pre Teen</td>\n",
       "    </tr>\n",
       "    <tr>\n",
       "      <th>46</th>\n",
       "      <td>11</td>\n",
       "      <td>Male</td>\n",
       "      <td>17</td>\n",
       "      <td>Lazarus, Terror of the Earth</td>\n",
       "      <td>3.47</td>\n",
       "      <td>Palatyon26</td>\n",
       "      <td>Pre Teen</td>\n",
       "    </tr>\n",
       "    <tr>\n",
       "      <th>68</th>\n",
       "      <td>11</td>\n",
       "      <td>Male</td>\n",
       "      <td>38</td>\n",
       "      <td>The Void, Vengeance of Dark Magic</td>\n",
       "      <td>2.82</td>\n",
       "      <td>Qarwen67</td>\n",
       "      <td>Pre Teen</td>\n",
       "    </tr>\n",
       "    <tr>\n",
       "      <th>117</th>\n",
       "      <td>11</td>\n",
       "      <td>Male</td>\n",
       "      <td>160</td>\n",
       "      <td>Azurewrath</td>\n",
       "      <td>2.22</td>\n",
       "      <td>Qarwen67</td>\n",
       "      <td>Pre Teen</td>\n",
       "    </tr>\n",
       "  </tbody>\n",
       "</table>\n",
       "</div>"
      ],
      "text/plain": [
       "     Age  Gender  Item ID                          Item Name  Price  \\\n",
       "22    11  Female       11                          Brimstone   2.52   \n",
       "24    11    Male       65          Conqueror Adamantite Mace   1.96   \n",
       "46    11    Male       17       Lazarus, Terror of the Earth   3.47   \n",
       "68    11    Male       38  The Void, Vengeance of Dark Magic   2.82   \n",
       "117   11    Male      160                         Azurewrath   2.22   \n",
       "\n",
       "             SN Age_Group  \n",
       "22     Deural48  Pre Teen  \n",
       "24     Qarwen67  Pre Teen  \n",
       "46   Palatyon26  Pre Teen  \n",
       "68     Qarwen67  Pre Teen  \n",
       "117    Qarwen67  Pre Teen  "
      ]
     },
     "execution_count": 71,
     "metadata": {},
     "output_type": "execute_result"
    }
   ],
   "source": [
    "# Avg_Price_Pre_Teen\n",
    "Avg_Price_PreTeen_df =CLEAN_PURCHASE_DATA[CLEAN_PURCHASE_DATA.Age_Group == 'Pre Teen']\n",
    "Avg_Price_PreTeen_df.head()"
   ]
  },
  {
   "cell_type": "code",
   "execution_count": 72,
   "metadata": {},
   "outputs": [
    {
     "name": "stdout",
     "output_type": "stream",
     "text": [
      "Average Price Pre Teen = 2.7029032258064514\n"
     ]
    }
   ],
   "source": [
    "Avg_Price_PreTeen = Avg_Price_PreTeen_df['Price'].mean()\n",
    "print(\"Average Price Pre Teen = \" + str(Avg_Price_PreTeen))"
   ]
  },
  {
   "cell_type": "code",
   "execution_count": 73,
   "metadata": {},
   "outputs": [
    {
     "data": {
      "text/html": [
       "<div>\n",
       "<style>\n",
       "    .dataframe thead tr:only-child th {\n",
       "        text-align: right;\n",
       "    }\n",
       "\n",
       "    .dataframe thead th {\n",
       "        text-align: left;\n",
       "    }\n",
       "\n",
       "    .dataframe tbody tr th {\n",
       "        vertical-align: top;\n",
       "    }\n",
       "</style>\n",
       "<table border=\"1\" class=\"dataframe\">\n",
       "  <thead>\n",
       "    <tr style=\"text-align: right;\">\n",
       "      <th></th>\n",
       "      <th>Age</th>\n",
       "      <th>Gender</th>\n",
       "      <th>Item ID</th>\n",
       "      <th>Item Name</th>\n",
       "      <th>Price</th>\n",
       "      <th>SN</th>\n",
       "      <th>Age_Group</th>\n",
       "    </tr>\n",
       "  </thead>\n",
       "  <tbody>\n",
       "    <tr>\n",
       "      <th>21</th>\n",
       "      <td>15</td>\n",
       "      <td>Male</td>\n",
       "      <td>3</td>\n",
       "      <td>Phantomlight</td>\n",
       "      <td>1.79</td>\n",
       "      <td>Iaralrgue74</td>\n",
       "      <td>Teen</td>\n",
       "    </tr>\n",
       "    <tr>\n",
       "      <th>23</th>\n",
       "      <td>19</td>\n",
       "      <td>Male</td>\n",
       "      <td>183</td>\n",
       "      <td>Dragon's Greatsword</td>\n",
       "      <td>2.36</td>\n",
       "      <td>Chanosia65</td>\n",
       "      <td>Teen</td>\n",
       "    </tr>\n",
       "    <tr>\n",
       "      <th>28</th>\n",
       "      <td>15</td>\n",
       "      <td>Male</td>\n",
       "      <td>49</td>\n",
       "      <td>The Oculus, Token of Lost Worlds</td>\n",
       "      <td>4.23</td>\n",
       "      <td>Ilariarin45</td>\n",
       "      <td>Teen</td>\n",
       "    </tr>\n",
       "    <tr>\n",
       "      <th>29</th>\n",
       "      <td>16</td>\n",
       "      <td>Female</td>\n",
       "      <td>45</td>\n",
       "      <td>Glinting Glass Edge</td>\n",
       "      <td>2.46</td>\n",
       "      <td>Phaedai25</td>\n",
       "      <td>Teen</td>\n",
       "    </tr>\n",
       "    <tr>\n",
       "      <th>31</th>\n",
       "      <td>18</td>\n",
       "      <td>Male</td>\n",
       "      <td>37</td>\n",
       "      <td>Shadow Strike, Glory of Ending Hope</td>\n",
       "      <td>1.93</td>\n",
       "      <td>Iarilis73</td>\n",
       "      <td>Teen</td>\n",
       "    </tr>\n",
       "  </tbody>\n",
       "</table>\n",
       "</div>"
      ],
      "text/plain": [
       "    Age  Gender  Item ID                            Item Name  Price  \\\n",
       "21   15    Male        3                         Phantomlight   1.79   \n",
       "23   19    Male      183                  Dragon's Greatsword   2.36   \n",
       "28   15    Male       49     The Oculus, Token of Lost Worlds   4.23   \n",
       "29   16  Female       45                  Glinting Glass Edge   2.46   \n",
       "31   18    Male       37  Shadow Strike, Glory of Ending Hope   1.93   \n",
       "\n",
       "             SN Age_Group  \n",
       "21  Iaralrgue74      Teen  \n",
       "23   Chanosia65      Teen  \n",
       "28  Ilariarin45      Teen  \n",
       "29    Phaedai25      Teen  \n",
       "31    Iarilis73      Teen  "
      ]
     },
     "execution_count": 73,
     "metadata": {},
     "output_type": "execute_result"
    }
   ],
   "source": [
    "# Avg_Price_Teen\n",
    "Avg_Price_Teen_df = CLEAN_PURCHASE_DATA[CLEAN_PURCHASE_DATA.Age_Group == 'Teen']\n",
    "Avg_Price_Teen_df.head()"
   ]
  },
  {
   "cell_type": "code",
   "execution_count": 74,
   "metadata": {},
   "outputs": [
    {
     "name": "stdout",
     "output_type": "stream",
     "text": [
      "Average Price Teen = 2.905413533834586\n"
     ]
    }
   ],
   "source": [
    "Avg_Price_Teen = Avg_Price_Teen_df['Price'].mean()\n",
    "print(\"Average Price Teen = \" + str(Avg_Price_Teen))"
   ]
  },
  {
   "cell_type": "code",
   "execution_count": 75,
   "metadata": {},
   "outputs": [
    {
     "data": {
      "text/html": [
       "<div>\n",
       "<style>\n",
       "    .dataframe thead tr:only-child th {\n",
       "        text-align: right;\n",
       "    }\n",
       "\n",
       "    .dataframe thead th {\n",
       "        text-align: left;\n",
       "    }\n",
       "\n",
       "    .dataframe tbody tr th {\n",
       "        vertical-align: top;\n",
       "    }\n",
       "</style>\n",
       "<table border=\"1\" class=\"dataframe\">\n",
       "  <thead>\n",
       "    <tr style=\"text-align: right;\">\n",
       "      <th></th>\n",
       "      <th>Age</th>\n",
       "      <th>Gender</th>\n",
       "      <th>Item ID</th>\n",
       "      <th>Item Name</th>\n",
       "      <th>Price</th>\n",
       "      <th>SN</th>\n",
       "      <th>Age_Group</th>\n",
       "    </tr>\n",
       "  </thead>\n",
       "  <tbody>\n",
       "    <tr>\n",
       "      <th>1</th>\n",
       "      <td>21</td>\n",
       "      <td>Male</td>\n",
       "      <td>119</td>\n",
       "      <td>Stormbringer, Dark Blade of Ending Misery</td>\n",
       "      <td>2.32</td>\n",
       "      <td>Eolo46</td>\n",
       "      <td>Early 20's</td>\n",
       "    </tr>\n",
       "    <tr>\n",
       "      <th>3</th>\n",
       "      <td>21</td>\n",
       "      <td>Male</td>\n",
       "      <td>92</td>\n",
       "      <td>Final Critic</td>\n",
       "      <td>1.36</td>\n",
       "      <td>Pheusrical25</td>\n",
       "      <td>Early 20's</td>\n",
       "    </tr>\n",
       "    <tr>\n",
       "      <th>4</th>\n",
       "      <td>23</td>\n",
       "      <td>Male</td>\n",
       "      <td>63</td>\n",
       "      <td>Stormfury Mace</td>\n",
       "      <td>1.27</td>\n",
       "      <td>Aela59</td>\n",
       "      <td>Early 20's</td>\n",
       "    </tr>\n",
       "    <tr>\n",
       "      <th>5</th>\n",
       "      <td>20</td>\n",
       "      <td>Male</td>\n",
       "      <td>10</td>\n",
       "      <td>Sleepwalker</td>\n",
       "      <td>1.73</td>\n",
       "      <td>Tanimnya91</td>\n",
       "      <td>Early 20's</td>\n",
       "    </tr>\n",
       "    <tr>\n",
       "      <th>6</th>\n",
       "      <td>20</td>\n",
       "      <td>Male</td>\n",
       "      <td>153</td>\n",
       "      <td>Mercenary Sabre</td>\n",
       "      <td>4.57</td>\n",
       "      <td>Undjaskla97</td>\n",
       "      <td>Early 20's</td>\n",
       "    </tr>\n",
       "  </tbody>\n",
       "</table>\n",
       "</div>"
      ],
      "text/plain": [
       "   Age Gender  Item ID                                  Item Name  Price  \\\n",
       "1   21   Male      119  Stormbringer, Dark Blade of Ending Misery   2.32   \n",
       "3   21   Male       92                               Final Critic   1.36   \n",
       "4   23   Male       63                             Stormfury Mace   1.27   \n",
       "5   20   Male       10                                Sleepwalker   1.73   \n",
       "6   20   Male      153                            Mercenary Sabre   4.57   \n",
       "\n",
       "             SN   Age_Group  \n",
       "1        Eolo46  Early 20's  \n",
       "3  Pheusrical25  Early 20's  \n",
       "4        Aela59  Early 20's  \n",
       "5    Tanimnya91  Early 20's  \n",
       "6   Undjaskla97  Early 20's  "
      ]
     },
     "execution_count": 75,
     "metadata": {},
     "output_type": "execute_result"
    }
   ],
   "source": [
    "# Avg_Early20s\n",
    "Avg_Price_Early20s_df = CLEAN_PURCHASE_DATA[CLEAN_PURCHASE_DATA.Age_Group == \"Early 20's\"]\n",
    "Avg_Price_Early20s_df.head()"
   ]
  },
  {
   "cell_type": "code",
   "execution_count": 76,
   "metadata": {},
   "outputs": [
    {
     "name": "stdout",
     "output_type": "stream",
     "text": [
      "Average Price Early 20's = 2.9150447761194034\n"
     ]
    }
   ],
   "source": [
    "Avg_Price_Early20s = Avg_Price_Early20s_df['Price'].mean()\n",
    "print(\"Average Price Early 20's = \" + str(Avg_Price_Early20s))"
   ]
  },
  {
   "cell_type": "code",
   "execution_count": 77,
   "metadata": {},
   "outputs": [
    {
     "data": {
      "text/html": [
       "<div>\n",
       "<style>\n",
       "    .dataframe thead tr:only-child th {\n",
       "        text-align: right;\n",
       "    }\n",
       "\n",
       "    .dataframe thead th {\n",
       "        text-align: left;\n",
       "    }\n",
       "\n",
       "    .dataframe tbody tr th {\n",
       "        vertical-align: top;\n",
       "    }\n",
       "</style>\n",
       "<table border=\"1\" class=\"dataframe\">\n",
       "  <thead>\n",
       "    <tr style=\"text-align: right;\">\n",
       "      <th></th>\n",
       "      <th>Age</th>\n",
       "      <th>Gender</th>\n",
       "      <th>Item ID</th>\n",
       "      <th>Item Name</th>\n",
       "      <th>Price</th>\n",
       "      <th>SN</th>\n",
       "      <th>Age_Group</th>\n",
       "    </tr>\n",
       "  </thead>\n",
       "  <tbody>\n",
       "    <tr>\n",
       "      <th>7</th>\n",
       "      <td>29</td>\n",
       "      <td>Female</td>\n",
       "      <td>169</td>\n",
       "      <td>Interrogator, Blood Blade of the Queen</td>\n",
       "      <td>3.32</td>\n",
       "      <td>Iathenudil29</td>\n",
       "      <td>Late 20's</td>\n",
       "    </tr>\n",
       "    <tr>\n",
       "      <th>8</th>\n",
       "      <td>25</td>\n",
       "      <td>Male</td>\n",
       "      <td>118</td>\n",
       "      <td>Ghost Reaver, Longsword of Magic</td>\n",
       "      <td>2.77</td>\n",
       "      <td>Sondenasta63</td>\n",
       "      <td>Late 20's</td>\n",
       "    </tr>\n",
       "    <tr>\n",
       "      <th>18</th>\n",
       "      <td>28</td>\n",
       "      <td>Male</td>\n",
       "      <td>91</td>\n",
       "      <td>Celeste</td>\n",
       "      <td>3.71</td>\n",
       "      <td>Iskista88</td>\n",
       "      <td>Late 20's</td>\n",
       "    </tr>\n",
       "    <tr>\n",
       "      <th>26</th>\n",
       "      <td>29</td>\n",
       "      <td>Male</td>\n",
       "      <td>132</td>\n",
       "      <td>Persuasion</td>\n",
       "      <td>3.90</td>\n",
       "      <td>Aerithllora36</td>\n",
       "      <td>Late 20's</td>\n",
       "    </tr>\n",
       "    <tr>\n",
       "      <th>54</th>\n",
       "      <td>25</td>\n",
       "      <td>Female</td>\n",
       "      <td>101</td>\n",
       "      <td>Final Critic</td>\n",
       "      <td>4.62</td>\n",
       "      <td>Minduli80</td>\n",
       "      <td>Late 20's</td>\n",
       "    </tr>\n",
       "  </tbody>\n",
       "</table>\n",
       "</div>"
      ],
      "text/plain": [
       "    Age  Gender  Item ID                               Item Name  Price  \\\n",
       "7    29  Female      169  Interrogator, Blood Blade of the Queen   3.32   \n",
       "8    25    Male      118        Ghost Reaver, Longsword of Magic   2.77   \n",
       "18   28    Male       91                                 Celeste   3.71   \n",
       "26   29    Male      132                              Persuasion   3.90   \n",
       "54   25  Female      101                            Final Critic   4.62   \n",
       "\n",
       "               SN  Age_Group  \n",
       "7    Iathenudil29  Late 20's  \n",
       "8    Sondenasta63  Late 20's  \n",
       "18      Iskista88  Late 20's  \n",
       "26  Aerithllora36  Late 20's  \n",
       "54      Minduli80  Late 20's  "
      ]
     },
     "execution_count": 77,
     "metadata": {},
     "output_type": "execute_result"
    }
   ],
   "source": [
    "Avg_Price_Late20s_df = CLEAN_PURCHASE_DATA[CLEAN_PURCHASE_DATA.Age_Group == \"Late 20's\"]\n",
    "Avg_Price_Late20s_df.head()"
   ]
  },
  {
   "cell_type": "code",
   "execution_count": 78,
   "metadata": {},
   "outputs": [
    {
     "name": "stdout",
     "output_type": "stream",
     "text": [
      "Average Price Late 20's = 2.975564516129032\n"
     ]
    }
   ],
   "source": [
    "Avg_Price_Late20s = Avg_Price_Late20s_df['Price'].mean()\n",
    "print(\"Average Price Late 20's = \" + str(Avg_Price_Late20s))"
   ]
  },
  {
   "cell_type": "code",
   "execution_count": 79,
   "metadata": {},
   "outputs": [
    {
     "data": {
      "text/html": [
       "<div>\n",
       "<style>\n",
       "    .dataframe thead tr:only-child th {\n",
       "        text-align: right;\n",
       "    }\n",
       "\n",
       "    .dataframe thead th {\n",
       "        text-align: left;\n",
       "    }\n",
       "\n",
       "    .dataframe tbody tr th {\n",
       "        vertical-align: top;\n",
       "    }\n",
       "</style>\n",
       "<table border=\"1\" class=\"dataframe\">\n",
       "  <thead>\n",
       "    <tr style=\"text-align: right;\">\n",
       "      <th></th>\n",
       "      <th>Age</th>\n",
       "      <th>Gender</th>\n",
       "      <th>Item ID</th>\n",
       "      <th>Item Name</th>\n",
       "      <th>Price</th>\n",
       "      <th>SN</th>\n",
       "      <th>Age_Group</th>\n",
       "    </tr>\n",
       "  </thead>\n",
       "  <tbody>\n",
       "    <tr>\n",
       "      <th>2</th>\n",
       "      <td>34</td>\n",
       "      <td>Male</td>\n",
       "      <td>174</td>\n",
       "      <td>Primitive Blade</td>\n",
       "      <td>2.46</td>\n",
       "      <td>Assastnya25</td>\n",
       "      <td>Early 30's</td>\n",
       "    </tr>\n",
       "    <tr>\n",
       "      <th>9</th>\n",
       "      <td>31</td>\n",
       "      <td>Male</td>\n",
       "      <td>99</td>\n",
       "      <td>Expiration, Warscythe Of Lost Worlds</td>\n",
       "      <td>4.53</td>\n",
       "      <td>Hilaerin92</td>\n",
       "      <td>Early 30's</td>\n",
       "    </tr>\n",
       "    <tr>\n",
       "      <th>12</th>\n",
       "      <td>30</td>\n",
       "      <td>Male</td>\n",
       "      <td>81</td>\n",
       "      <td>Dreamkiss</td>\n",
       "      <td>4.06</td>\n",
       "      <td>Iskossa88</td>\n",
       "      <td>Early 30's</td>\n",
       "    </tr>\n",
       "    <tr>\n",
       "      <th>19</th>\n",
       "      <td>31</td>\n",
       "      <td>Male</td>\n",
       "      <td>177</td>\n",
       "      <td>Winterthorn, Defender of Shifting Worlds</td>\n",
       "      <td>4.89</td>\n",
       "      <td>Assossa43</td>\n",
       "      <td>Early 30's</td>\n",
       "    </tr>\n",
       "    <tr>\n",
       "      <th>27</th>\n",
       "      <td>34</td>\n",
       "      <td>Male</td>\n",
       "      <td>106</td>\n",
       "      <td>Crying Steel Sickle</td>\n",
       "      <td>2.29</td>\n",
       "      <td>Assastnya25</td>\n",
       "      <td>Early 30's</td>\n",
       "    </tr>\n",
       "  </tbody>\n",
       "</table>\n",
       "</div>"
      ],
      "text/plain": [
       "    Age Gender  Item ID                                 Item Name  Price  \\\n",
       "2    34   Male      174                           Primitive Blade   2.46   \n",
       "9    31   Male       99      Expiration, Warscythe Of Lost Worlds   4.53   \n",
       "12   30   Male       81                                 Dreamkiss   4.06   \n",
       "19   31   Male      177  Winterthorn, Defender of Shifting Worlds   4.89   \n",
       "27   34   Male      106                       Crying Steel Sickle   2.29   \n",
       "\n",
       "             SN   Age_Group  \n",
       "2   Assastnya25  Early 30's  \n",
       "9    Hilaerin92  Early 30's  \n",
       "12    Iskossa88  Early 30's  \n",
       "19    Assossa43  Early 30's  \n",
       "27  Assastnya25  Early 30's  "
      ]
     },
     "execution_count": 79,
     "metadata": {},
     "output_type": "execute_result"
    }
   ],
   "source": [
    "# Avg_Early 30's Early 30's\n",
    "Avg_Price_Early30s_df = CLEAN_PURCHASE_DATA[CLEAN_PURCHASE_DATA.Age_Group == \"Early 30's\"]\n",
    "Avg_Price_Early30s_df.head()"
   ]
  },
  {
   "cell_type": "code",
   "execution_count": 80,
   "metadata": {},
   "outputs": [
    {
     "name": "stdout",
     "output_type": "stream",
     "text": [
      "Average Price Early 30's = 3.082031249999999\n"
     ]
    }
   ],
   "source": [
    "Avg_Price_Early30s = Avg_Price_Early30s_df['Price'].mean()\n",
    "print(\"Average Price Early 30's = \" + str(Avg_Price_Early30s))"
   ]
  },
  {
   "cell_type": "code",
   "execution_count": 81,
   "metadata": {},
   "outputs": [
    {
     "data": {
      "text/html": [
       "<div>\n",
       "<style>\n",
       "    .dataframe thead tr:only-child th {\n",
       "        text-align: right;\n",
       "    }\n",
       "\n",
       "    .dataframe thead th {\n",
       "        text-align: left;\n",
       "    }\n",
       "\n",
       "    .dataframe tbody tr th {\n",
       "        vertical-align: top;\n",
       "    }\n",
       "</style>\n",
       "<table border=\"1\" class=\"dataframe\">\n",
       "  <thead>\n",
       "    <tr style=\"text-align: right;\">\n",
       "      <th></th>\n",
       "      <th>Age</th>\n",
       "      <th>Gender</th>\n",
       "      <th>Item ID</th>\n",
       "      <th>Item Name</th>\n",
       "      <th>Price</th>\n",
       "      <th>SN</th>\n",
       "      <th>Age_Group</th>\n",
       "    </tr>\n",
       "  </thead>\n",
       "  <tbody>\n",
       "    <tr>\n",
       "      <th>0</th>\n",
       "      <td>38</td>\n",
       "      <td>Male</td>\n",
       "      <td>165</td>\n",
       "      <td>Bone Crushing Silver Skewer</td>\n",
       "      <td>3.37</td>\n",
       "      <td>Aelalis34</td>\n",
       "      <td>Late 30's</td>\n",
       "    </tr>\n",
       "    <tr>\n",
       "      <th>81</th>\n",
       "      <td>38</td>\n",
       "      <td>Male</td>\n",
       "      <td>175</td>\n",
       "      <td>Woeful Adamantite Claymore</td>\n",
       "      <td>1.24</td>\n",
       "      <td>Yaristi64</td>\n",
       "      <td>Late 30's</td>\n",
       "    </tr>\n",
       "    <tr>\n",
       "      <th>106</th>\n",
       "      <td>37</td>\n",
       "      <td>Female</td>\n",
       "      <td>174</td>\n",
       "      <td>Primitive Blade</td>\n",
       "      <td>2.46</td>\n",
       "      <td>Chadossa56</td>\n",
       "      <td>Late 30's</td>\n",
       "    </tr>\n",
       "    <tr>\n",
       "      <th>175</th>\n",
       "      <td>35</td>\n",
       "      <td>Male</td>\n",
       "      <td>34</td>\n",
       "      <td>Retribution Axe</td>\n",
       "      <td>4.14</td>\n",
       "      <td>Raillydeu47</td>\n",
       "      <td>Late 30's</td>\n",
       "    </tr>\n",
       "    <tr>\n",
       "      <th>189</th>\n",
       "      <td>35</td>\n",
       "      <td>Male</td>\n",
       "      <td>179</td>\n",
       "      <td>Wolf, Promise of the Moonwalker</td>\n",
       "      <td>1.88</td>\n",
       "      <td>Raillydeu47</td>\n",
       "      <td>Late 30's</td>\n",
       "    </tr>\n",
       "  </tbody>\n",
       "</table>\n",
       "</div>"
      ],
      "text/plain": [
       "     Age  Gender  Item ID                        Item Name  Price  \\\n",
       "0     38    Male      165      Bone Crushing Silver Skewer   3.37   \n",
       "81    38    Male      175       Woeful Adamantite Claymore   1.24   \n",
       "106   37  Female      174                  Primitive Blade   2.46   \n",
       "175   35    Male       34                  Retribution Axe   4.14   \n",
       "189   35    Male      179  Wolf, Promise of the Moonwalker   1.88   \n",
       "\n",
       "              SN  Age_Group  \n",
       "0      Aelalis34  Late 30's  \n",
       "81     Yaristi64  Late 30's  \n",
       "106   Chadossa56  Late 30's  \n",
       "175  Raillydeu47  Late 30's  \n",
       "189  Raillydeu47  Late 30's  "
      ]
     },
     "execution_count": 81,
     "metadata": {},
     "output_type": "execute_result"
    }
   ],
   "source": [
    "Avg_Price_Late30s_df = CLEAN_PURCHASE_DATA[CLEAN_PURCHASE_DATA.Age_Group == \"Late 30's\"]\n",
    "Avg_Price_Late30s_df.head()"
   ]
  },
  {
   "cell_type": "code",
   "execution_count": 82,
   "metadata": {},
   "outputs": [
    {
     "name": "stdout",
     "output_type": "stream",
     "text": [
      "Average Price Late 30's = 2.842857142857143\n"
     ]
    }
   ],
   "source": [
    "Avg_Price_Late30s = Avg_Price_Late30s_df['Price'].mean()\n",
    "print(\"Average Price Late 30's = \" + str(Avg_Price_Late30s))"
   ]
  },
  {
   "cell_type": "code",
   "execution_count": 83,
   "metadata": {},
   "outputs": [
    {
     "data": {
      "text/html": [
       "<div>\n",
       "<style>\n",
       "    .dataframe thead tr:only-child th {\n",
       "        text-align: right;\n",
       "    }\n",
       "\n",
       "    .dataframe thead th {\n",
       "        text-align: left;\n",
       "    }\n",
       "\n",
       "    .dataframe tbody tr th {\n",
       "        vertical-align: top;\n",
       "    }\n",
       "</style>\n",
       "<table border=\"1\" class=\"dataframe\">\n",
       "  <thead>\n",
       "    <tr style=\"text-align: right;\">\n",
       "      <th></th>\n",
       "      <th>Age</th>\n",
       "      <th>Gender</th>\n",
       "      <th>Item ID</th>\n",
       "      <th>Item Name</th>\n",
       "      <th>Price</th>\n",
       "      <th>SN</th>\n",
       "      <th>Age_Group</th>\n",
       "    </tr>\n",
       "  </thead>\n",
       "  <tbody>\n",
       "    <tr>\n",
       "      <th>14</th>\n",
       "      <td>40</td>\n",
       "      <td>Male</td>\n",
       "      <td>44</td>\n",
       "      <td>Bonecarvin Battle Axe</td>\n",
       "      <td>2.46</td>\n",
       "      <td>Sundast29</td>\n",
       "      <td>40+</td>\n",
       "    </tr>\n",
       "    <tr>\n",
       "      <th>179</th>\n",
       "      <td>40</td>\n",
       "      <td>Male</td>\n",
       "      <td>70</td>\n",
       "      <td>Hope's End</td>\n",
       "      <td>3.89</td>\n",
       "      <td>Chanosiaya39</td>\n",
       "      <td>40+</td>\n",
       "    </tr>\n",
       "    <tr>\n",
       "      <th>186</th>\n",
       "      <td>40</td>\n",
       "      <td>Male</td>\n",
       "      <td>144</td>\n",
       "      <td>Blood Infused Guardian</td>\n",
       "      <td>2.86</td>\n",
       "      <td>Chanosiaya39</td>\n",
       "      <td>40+</td>\n",
       "    </tr>\n",
       "    <tr>\n",
       "      <th>212</th>\n",
       "      <td>40</td>\n",
       "      <td>Male</td>\n",
       "      <td>111</td>\n",
       "      <td>Misery's End</td>\n",
       "      <td>2.91</td>\n",
       "      <td>Yarmol79</td>\n",
       "      <td>40+</td>\n",
       "    </tr>\n",
       "    <tr>\n",
       "      <th>238</th>\n",
       "      <td>40</td>\n",
       "      <td>Female</td>\n",
       "      <td>49</td>\n",
       "      <td>The Oculus, Token of Lost Worlds</td>\n",
       "      <td>4.23</td>\n",
       "      <td>Chamadar27</td>\n",
       "      <td>40+</td>\n",
       "    </tr>\n",
       "  </tbody>\n",
       "</table>\n",
       "</div>"
      ],
      "text/plain": [
       "     Age  Gender  Item ID                         Item Name  Price  \\\n",
       "14    40    Male       44             Bonecarvin Battle Axe   2.46   \n",
       "179   40    Male       70                        Hope's End   3.89   \n",
       "186   40    Male      144            Blood Infused Guardian   2.86   \n",
       "212   40    Male      111                      Misery's End   2.91   \n",
       "238   40  Female       49  The Oculus, Token of Lost Worlds   4.23   \n",
       "\n",
       "               SN Age_Group  \n",
       "14      Sundast29       40+  \n",
       "179  Chanosiaya39       40+  \n",
       "186  Chanosiaya39       40+  \n",
       "212      Yarmol79       40+  \n",
       "238    Chamadar27       40+  "
      ]
     },
     "execution_count": 83,
     "metadata": {},
     "output_type": "execute_result"
    }
   ],
   "source": [
    "# Avg_40s \n",
    "Avg_Price_40s_df = CLEAN_PURCHASE_DATA[CLEAN_PURCHASE_DATA.Age_Group == \"40+\"]\n",
    "Avg_Price_40s_df.head()"
   ]
  },
  {
   "cell_type": "code",
   "execution_count": 84,
   "metadata": {},
   "outputs": [
    {
     "name": "stdout",
     "output_type": "stream",
     "text": [
      "Average Price 40's = 3.161764705882353\n"
     ]
    }
   ],
   "source": [
    "Avg_Price_40s = Avg_Price_40s_df['Price'].mean()\n",
    "print(\"Average Price 40's = \" + str(Avg_Price_40s))"
   ]
  },
  {
   "cell_type": "markdown",
   "metadata": {},
   "source": [
    "** Age Demographics Data Frame **"
   ]
  },
  {
   "cell_type": "code",
   "execution_count": 85,
   "metadata": {},
   "outputs": [
    {
     "data": {
      "text/html": [
       "<div>\n",
       "<style>\n",
       "    .dataframe thead tr:only-child th {\n",
       "        text-align: right;\n",
       "    }\n",
       "\n",
       "    .dataframe thead th {\n",
       "        text-align: left;\n",
       "    }\n",
       "\n",
       "    .dataframe tbody tr th {\n",
       "        vertical-align: top;\n",
       "    }\n",
       "</style>\n",
       "<table border=\"1\" class=\"dataframe\">\n",
       "  <thead>\n",
       "    <tr style=\"text-align: right;\">\n",
       "      <th></th>\n",
       "      <th>Percentage of Players</th>\n",
       "      <th>Total Count</th>\n",
       "    </tr>\n",
       "  </thead>\n",
       "  <tbody>\n",
       "    <tr>\n",
       "      <th>Child</th>\n",
       "      <td>3.99</td>\n",
       "      <td>31</td>\n",
       "    </tr>\n",
       "    <tr>\n",
       "      <th>Pre Teen</th>\n",
       "      <td>3.99</td>\n",
       "      <td>31</td>\n",
       "    </tr>\n",
       "    <tr>\n",
       "      <th>Teen</th>\n",
       "      <td>17.12</td>\n",
       "      <td>133</td>\n",
       "    </tr>\n",
       "    <tr>\n",
       "      <th>Early 20's</th>\n",
       "      <td>43.11</td>\n",
       "      <td>335</td>\n",
       "    </tr>\n",
       "    <tr>\n",
       "      <th>Late 20's</th>\n",
       "      <td>15.96</td>\n",
       "      <td>124</td>\n",
       "    </tr>\n",
       "    <tr>\n",
       "      <th>Early 30's</th>\n",
       "      <td>8.24</td>\n",
       "      <td>64</td>\n",
       "    </tr>\n",
       "    <tr>\n",
       "      <th>Late 30's</th>\n",
       "      <td>5.41</td>\n",
       "      <td>42</td>\n",
       "    </tr>\n",
       "    <tr>\n",
       "      <th>40+</th>\n",
       "      <td>2.19</td>\n",
       "      <td>17</td>\n",
       "    </tr>\n",
       "  </tbody>\n",
       "</table>\n",
       "</div>"
      ],
      "text/plain": [
       "            Percentage of Players  Total Count\n",
       "Child                        3.99           31\n",
       "Pre Teen                     3.99           31\n",
       "Teen                        17.12          133\n",
       "Early 20's                  43.11          335\n",
       "Late 20's                   15.96          124\n",
       "Early 30's                   8.24           64\n",
       "Late 30's                    5.41           42\n",
       "40+                          2.19           17"
      ]
     },
     "execution_count": 85,
     "metadata": {},
     "output_type": "execute_result"
    }
   ],
   "source": [
    "# Create Age Demographics Data Frame\n",
    "\n",
    "Age_Demo_df = pd.DataFrame({'Percentage of Players': [Child_Percentage_of_Total, Pre_Teen_Percentage_of_Total,\n",
    "                                                      Teen_Percentage_of_Total, Early20s_Percentage_of_Total,\n",
    "                                                     Late20s_Percentage_of_Total, Early30s_Percentage_of_Total,\n",
    "                                                     Late30s_Percentage_of_Total, Forties_Percentage_of_Total],\n",
    "                                    'Total Count': [Purchase_Count_Child, Purchase_Count_Pre_Teen, Purchase_Count_Teen,\n",
    "                                                    Purchase_Count_Early20s, Purchase_Count_Late20s, Purchase_Count_Early30s,\n",
    "                                                    Purchase_Count_Late30s,Purchase_Count_40]},\n",
    "                                    columns = ['Percentage of Players', 'Total Count'],\n",
    "                                   index = ['Child', 'Pre Teen', 'Teen', \"Early 20's\", \"Late 20's\", \"Early 30's\", \"Late 30's\", \"40+\"])\n",
    "Age_Demo_df = Age_Demo_df.round(2)\n",
    "Age_Demo_df"
   ]
  },
  {
   "cell_type": "code",
   "execution_count": 86,
   "metadata": {},
   "outputs": [
    {
     "name": "stdout",
     "output_type": "stream",
     "text": [
      "Total Purchase Value Child = 93.19999999999999\n"
     ]
    }
   ],
   "source": [
    "# Total Purchase Value Child\n",
    "Total_Purchase_Value_Child = Avg_Price_Child_df['Price'].sum()\n",
    "print(\"Total Purchase Value Child = \" + str(Total_Purchase_Value_Child))"
   ]
  },
  {
   "cell_type": "code",
   "execution_count": 87,
   "metadata": {},
   "outputs": [
    {
     "name": "stdout",
     "output_type": "stream",
     "text": [
      "Total Purchase Value Pre Teen = 83.78999999999999\n"
     ]
    }
   ],
   "source": [
    "# Total Purchase Value Pre Teen\n",
    "Total_Purchase_Value_PreTeen = Avg_Price_PreTeen_df['Price'].sum()\n",
    "print(\"Total Purchase Value Pre Teen = \" + str(Total_Purchase_Value_PreTeen))"
   ]
  },
  {
   "cell_type": "code",
   "execution_count": 88,
   "metadata": {},
   "outputs": [
    {
     "name": "stdout",
     "output_type": "stream",
     "text": [
      "Total Purchase Teen = 386.41999999999996\n"
     ]
    }
   ],
   "source": [
    "# Total Purchase Value Teen\n",
    "Total_Purchase_Value_Teen = Avg_Price_Teen_df['Price'].sum()\n",
    "print(\"Total Purchase Teen = \" + str(Total_Purchase_Value_Teen))"
   ]
  },
  {
   "cell_type": "code",
   "execution_count": 89,
   "metadata": {},
   "outputs": [
    {
     "name": "stdout",
     "output_type": "stream",
     "text": [
      "Total Purchase Value Early 20's = 976.5400000000001\n"
     ]
    }
   ],
   "source": [
    "# Total Purchase Value Early 20's\n",
    "Total_Purchase_Value_Early20s = Avg_Price_Early20s_df['Price'].sum()\n",
    "print(\"Total Purchase Value Early 20's = \" + str(Total_Purchase_Value_Early20s))"
   ]
  },
  {
   "cell_type": "code",
   "execution_count": 90,
   "metadata": {},
   "outputs": [
    {
     "name": "stdout",
     "output_type": "stream",
     "text": [
      "Total Purchase Value Late 20s = 368.96999999999997\n"
     ]
    }
   ],
   "source": [
    "# Total Purchase Avg_Price_Late20s\n",
    "Total_Purchase_Value_Late20s = Avg_Price_Late20s_df['Price'].sum()\n",
    "print(\"Total Purchase Value Late 20s = \" + str(Total_Purchase_Value_Late20s))"
   ]
  },
  {
   "cell_type": "code",
   "execution_count": 91,
   "metadata": {},
   "outputs": [
    {
     "name": "stdout",
     "output_type": "stream",
     "text": [
      "Total Purchase Value Early 30s = 197.24999999999994\n"
     ]
    }
   ],
   "source": [
    "# Total Purchase Avg Early 30s\n",
    "Total_Purchase_Value_Early30s = Avg_Price_Early30s_df['Price'].sum()\n",
    "print(\"Total Purchase Value Early 30s = \" + str(Total_Purchase_Value_Early30s))"
   ]
  },
  {
   "cell_type": "code",
   "execution_count": 92,
   "metadata": {},
   "outputs": [
    {
     "name": "stdout",
     "output_type": "stream",
     "text": [
      "Total Purchase Value Late 30s = 119.4\n"
     ]
    }
   ],
   "source": [
    "# Total Purchase Ave Late 30s\n",
    "Total_Purchase_Value_Late30s = Avg_Price_Late30s_df['Price'].sum()\n",
    "print(\"Total Purchase Value Late 30s = \" + str(Total_Purchase_Value_Late30s))"
   ]
  },
  {
   "cell_type": "code",
   "execution_count": 93,
   "metadata": {},
   "outputs": [
    {
     "name": "stdout",
     "output_type": "stream",
     "text": [
      "Total Purchase Value 40s = 53.75\n"
     ]
    }
   ],
   "source": [
    "# Total Purchase Ave 40+\n",
    "Total_Purchase_Value_40s = Avg_Price_40s_df['Price'].sum()\n",
    "print(\"Total Purchase Value 40s = \" + str(Total_Purchase_Value_40s))"
   ]
  },
  {
   "cell_type": "markdown",
   "metadata": {},
   "source": [
    "** Purchasing Analysis Age **"
   ]
  },
  {
   "cell_type": "code",
   "execution_count": 94,
   "metadata": {},
   "outputs": [
    {
     "data": {
      "text/html": [
       "<div>\n",
       "<style>\n",
       "    .dataframe thead tr:only-child th {\n",
       "        text-align: right;\n",
       "    }\n",
       "\n",
       "    .dataframe thead th {\n",
       "        text-align: left;\n",
       "    }\n",
       "\n",
       "    .dataframe tbody tr th {\n",
       "        vertical-align: top;\n",
       "    }\n",
       "</style>\n",
       "<table border=\"1\" class=\"dataframe\">\n",
       "  <thead>\n",
       "    <tr style=\"text-align: right;\">\n",
       "      <th></th>\n",
       "      <th>Purchase Count</th>\n",
       "      <th>Average Purchase Price</th>\n",
       "      <th>Total Purchase Value</th>\n",
       "    </tr>\n",
       "  </thead>\n",
       "  <tbody>\n",
       "    <tr>\n",
       "      <th>Child</th>\n",
       "      <td>31</td>\n",
       "      <td>3.01</td>\n",
       "      <td>93.20</td>\n",
       "    </tr>\n",
       "    <tr>\n",
       "      <th>Pre Teen</th>\n",
       "      <td>31</td>\n",
       "      <td>2.70</td>\n",
       "      <td>83.79</td>\n",
       "    </tr>\n",
       "    <tr>\n",
       "      <th>Teen</th>\n",
       "      <td>133</td>\n",
       "      <td>2.91</td>\n",
       "      <td>386.42</td>\n",
       "    </tr>\n",
       "    <tr>\n",
       "      <th>Early 20's</th>\n",
       "      <td>335</td>\n",
       "      <td>2.92</td>\n",
       "      <td>976.54</td>\n",
       "    </tr>\n",
       "    <tr>\n",
       "      <th>Late 20's</th>\n",
       "      <td>124</td>\n",
       "      <td>2.98</td>\n",
       "      <td>368.97</td>\n",
       "    </tr>\n",
       "    <tr>\n",
       "      <th>Early 30's</th>\n",
       "      <td>64</td>\n",
       "      <td>3.08</td>\n",
       "      <td>197.25</td>\n",
       "    </tr>\n",
       "    <tr>\n",
       "      <th>Late 30's</th>\n",
       "      <td>42</td>\n",
       "      <td>2.84</td>\n",
       "      <td>119.40</td>\n",
       "    </tr>\n",
       "    <tr>\n",
       "      <th>40+</th>\n",
       "      <td>17</td>\n",
       "      <td>3.16</td>\n",
       "      <td>53.75</td>\n",
       "    </tr>\n",
       "  </tbody>\n",
       "</table>\n",
       "</div>"
      ],
      "text/plain": [
       "            Purchase Count  Average Purchase Price  Total Purchase Value\n",
       "Child                   31                    3.01                 93.20\n",
       "Pre Teen                31                    2.70                 83.79\n",
       "Teen                   133                    2.91                386.42\n",
       "Early 20's             335                    2.92                976.54\n",
       "Late 20's              124                    2.98                368.97\n",
       "Early 30's              64                    3.08                197.25\n",
       "Late 30's               42                    2.84                119.40\n",
       "40+                     17                    3.16                 53.75"
      ]
     },
     "execution_count": 94,
     "metadata": {},
     "output_type": "execute_result"
    }
   ],
   "source": [
    "Purchase_Analysis_df = pd.DataFrame({'Purchase Count': [Purchase_Count_Child, Purchase_Count_Pre_Teen, Purchase_Count_Teen,\n",
    "                                                    Purchase_Count_Early20s, Purchase_Count_Late20s, Purchase_Count_Early30s,\n",
    "                                                    Purchase_Count_Late30s, Purchase_Count_40],\n",
    "                                    'Average Purchase Price': [Avg_Price_Child, Avg_Price_PreTeen, Avg_Price_Teen, Avg_Price_Early20s, Avg_Price_Late20s, \n",
    "                                                               Avg_Price_Early30s, Avg_Price_Late30s, Avg_Price_40s],\n",
    "                                    'Total Purchase Value': [Total_Purchase_Value_Child, Total_Purchase_Value_PreTeen, Total_Purchase_Value_Teen, \n",
    "                                                             Total_Purchase_Value_Early20s, Total_Purchase_Value_Late20s, Total_Purchase_Value_Early30s, \n",
    "                                                             Total_Purchase_Value_Late30s, Total_Purchase_Value_40s]},\n",
    "                                    columns = ['Purchase Count', 'Average Purchase Price', 'Total Purchase Value'],\n",
    "                                   index = ['Child', 'Pre Teen', 'Teen', \"Early 20's\", \"Late 20's\", \"Early 30's\", \"Late 30's\", \"40+\"])\n",
    "Purchase_Analysis_df = Purchase_Analysis_df.round(2)\n",
    "Purchase_Analysis_df"
   ]
  },
  {
   "cell_type": "markdown",
   "metadata": {},
   "source": [
    "** Top Spenders **\n",
    "\n",
    "* Identify the the top 5 spenders in the game by total purchase value, then list (in a table):\n",
    "    * SN\n",
    "    * Purchase Count\n",
    "    * Average Purchase Price\n",
    "    * Total Purchase Value"
   ]
  },
  {
   "cell_type": "code",
   "execution_count": 95,
   "metadata": {},
   "outputs": [
    {
     "data": {
      "text/html": [
       "<div>\n",
       "<style>\n",
       "    .dataframe thead tr:only-child th {\n",
       "        text-align: right;\n",
       "    }\n",
       "\n",
       "    .dataframe thead th {\n",
       "        text-align: left;\n",
       "    }\n",
       "\n",
       "    .dataframe tbody tr th {\n",
       "        vertical-align: top;\n",
       "    }\n",
       "</style>\n",
       "<table border=\"1\" class=\"dataframe\">\n",
       "  <thead>\n",
       "    <tr style=\"text-align: right;\">\n",
       "      <th></th>\n",
       "      <th>SN</th>\n",
       "      <th>Price</th>\n",
       "    </tr>\n",
       "  </thead>\n",
       "  <tbody>\n",
       "    <tr>\n",
       "      <th>538</th>\n",
       "      <td>Undirrala66</td>\n",
       "      <td>17.06</td>\n",
       "    </tr>\n",
       "    <tr>\n",
       "      <th>428</th>\n",
       "      <td>Saedue76</td>\n",
       "      <td>13.56</td>\n",
       "    </tr>\n",
       "    <tr>\n",
       "      <th>354</th>\n",
       "      <td>Mindimnya67</td>\n",
       "      <td>12.74</td>\n",
       "    </tr>\n",
       "    <tr>\n",
       "      <th>181</th>\n",
       "      <td>Haellysu29</td>\n",
       "      <td>12.73</td>\n",
       "    </tr>\n",
       "    <tr>\n",
       "      <th>120</th>\n",
       "      <td>Eoda93</td>\n",
       "      <td>11.58</td>\n",
       "    </tr>\n",
       "  </tbody>\n",
       "</table>\n",
       "</div>"
      ],
      "text/plain": [
       "              SN  Price\n",
       "538  Undirrala66  17.06\n",
       "428     Saedue76  13.56\n",
       "354  Mindimnya67  12.74\n",
       "181   Haellysu29  12.73\n",
       "120       Eoda93  11.58"
      ]
     },
     "execution_count": 95,
     "metadata": {},
     "output_type": "execute_result"
    }
   ],
   "source": [
    "# Create groupby for 'SN' and 'Price' to find top 5\n",
    "\n",
    "Top_5_Spenders= pd.DataFrame(CLEAN_PURCHASE_DATA.groupby('SN')['Price'].sum())\n",
    "Top_5_Spenders.reset_index(inplace=True)\n",
    "Top_5_Spenders = Top_5_Spenders.sort_values(['Price'],ascending=False)\n",
    "Top_5_Spenders.head()"
   ]
  },
  {
   "cell_type": "code",
   "execution_count": 96,
   "metadata": {},
   "outputs": [
    {
     "data": {
      "text/html": [
       "<div>\n",
       "<style>\n",
       "    .dataframe thead tr:only-child th {\n",
       "        text-align: right;\n",
       "    }\n",
       "\n",
       "    .dataframe thead th {\n",
       "        text-align: left;\n",
       "    }\n",
       "\n",
       "    .dataframe tbody tr th {\n",
       "        vertical-align: top;\n",
       "    }\n",
       "</style>\n",
       "<table border=\"1\" class=\"dataframe\">\n",
       "  <thead>\n",
       "    <tr style=\"text-align: right;\">\n",
       "      <th></th>\n",
       "      <th>SN</th>\n",
       "      <th>Price</th>\n",
       "    </tr>\n",
       "  </thead>\n",
       "  <tbody>\n",
       "    <tr>\n",
       "      <th>538</th>\n",
       "      <td>Undirrala66</td>\n",
       "      <td>5</td>\n",
       "    </tr>\n",
       "    <tr>\n",
       "      <th>184</th>\n",
       "      <td>Hailaphos89</td>\n",
       "      <td>4</td>\n",
       "    </tr>\n",
       "    <tr>\n",
       "      <th>385</th>\n",
       "      <td>Qarwen67</td>\n",
       "      <td>4</td>\n",
       "    </tr>\n",
       "    <tr>\n",
       "      <th>354</th>\n",
       "      <td>Mindimnya67</td>\n",
       "      <td>4</td>\n",
       "    </tr>\n",
       "    <tr>\n",
       "      <th>467</th>\n",
       "      <td>Sondastan54</td>\n",
       "      <td>4</td>\n",
       "    </tr>\n",
       "  </tbody>\n",
       "</table>\n",
       "</div>"
      ],
      "text/plain": [
       "              SN  Price\n",
       "538  Undirrala66      5\n",
       "184  Hailaphos89      4\n",
       "385     Qarwen67      4\n",
       "354  Mindimnya67      4\n",
       "467  Sondastan54      4"
      ]
     },
     "execution_count": 96,
     "metadata": {},
     "output_type": "execute_result"
    }
   ],
   "source": [
    "# Find Count of 'Price' on 'SN'\n",
    "Top_5_Count = pd.DataFrame(CLEAN_PURCHASE_DATA.groupby('SN')['Price'].count())\n",
    "Top_5_Count.reset_index(inplace=True)\n",
    "Top_5_Count = Top_5_Count.sort_values(['Price'],ascending=False)\n",
    "Top_5_Count.head()"
   ]
  },
  {
   "cell_type": "code",
   "execution_count": 97,
   "metadata": {},
   "outputs": [
    {
     "data": {
      "text/html": [
       "<div>\n",
       "<style>\n",
       "    .dataframe thead tr:only-child th {\n",
       "        text-align: right;\n",
       "    }\n",
       "\n",
       "    .dataframe thead th {\n",
       "        text-align: left;\n",
       "    }\n",
       "\n",
       "    .dataframe tbody tr th {\n",
       "        vertical-align: top;\n",
       "    }\n",
       "</style>\n",
       "<table border=\"1\" class=\"dataframe\">\n",
       "  <thead>\n",
       "    <tr style=\"text-align: right;\">\n",
       "      <th></th>\n",
       "      <th>SN</th>\n",
       "      <th>Price</th>\n",
       "    </tr>\n",
       "  </thead>\n",
       "  <tbody>\n",
       "    <tr>\n",
       "      <th>388</th>\n",
       "      <td>Qiluard68</td>\n",
       "      <td>4.95</td>\n",
       "    </tr>\n",
       "    <tr>\n",
       "      <th>517</th>\n",
       "      <td>Tyarithn67</td>\n",
       "      <td>4.95</td>\n",
       "    </tr>\n",
       "    <tr>\n",
       "      <th>364</th>\n",
       "      <td>Palurrian69</td>\n",
       "      <td>4.95</td>\n",
       "    </tr>\n",
       "    <tr>\n",
       "      <th>168</th>\n",
       "      <td>Frichaststa61</td>\n",
       "      <td>4.95</td>\n",
       "    </tr>\n",
       "    <tr>\n",
       "      <th>67</th>\n",
       "      <td>Assossa43</td>\n",
       "      <td>4.89</td>\n",
       "    </tr>\n",
       "  </tbody>\n",
       "</table>\n",
       "</div>"
      ],
      "text/plain": [
       "                SN  Price\n",
       "388      Qiluard68   4.95\n",
       "517     Tyarithn67   4.95\n",
       "364    Palurrian69   4.95\n",
       "168  Frichaststa61   4.95\n",
       "67       Assossa43   4.89"
      ]
     },
     "execution_count": 97,
     "metadata": {},
     "output_type": "execute_result"
    }
   ],
   "source": [
    "# Find Avg 'Price' on 'SN'\n",
    "Top_5_Avg = pd.DataFrame(CLEAN_PURCHASE_DATA.groupby('SN')['Price'].mean())\n",
    "Top_5_Avg.reset_index(inplace=True)\n",
    "Top_5_Avg = Top_5_Avg.sort_values(['Price'], ascending=False)\n",
    "Top_5_Avg.head()"
   ]
  },
  {
   "cell_type": "code",
   "execution_count": 98,
   "metadata": {},
   "outputs": [
    {
     "data": {
      "text/html": [
       "<div>\n",
       "<style>\n",
       "    .dataframe thead tr:only-child th {\n",
       "        text-align: right;\n",
       "    }\n",
       "\n",
       "    .dataframe thead th {\n",
       "        text-align: left;\n",
       "    }\n",
       "\n",
       "    .dataframe tbody tr th {\n",
       "        vertical-align: top;\n",
       "    }\n",
       "</style>\n",
       "<table border=\"1\" class=\"dataframe\">\n",
       "  <thead>\n",
       "    <tr style=\"text-align: right;\">\n",
       "      <th></th>\n",
       "      <th>SN</th>\n",
       "      <th>Price_x</th>\n",
       "      <th>Price_y</th>\n",
       "    </tr>\n",
       "  </thead>\n",
       "  <tbody>\n",
       "    <tr>\n",
       "      <th>0</th>\n",
       "      <td>Undirrala66</td>\n",
       "      <td>17.06</td>\n",
       "      <td>5</td>\n",
       "    </tr>\n",
       "    <tr>\n",
       "      <th>1</th>\n",
       "      <td>Saedue76</td>\n",
       "      <td>13.56</td>\n",
       "      <td>4</td>\n",
       "    </tr>\n",
       "    <tr>\n",
       "      <th>2</th>\n",
       "      <td>Mindimnya67</td>\n",
       "      <td>12.74</td>\n",
       "      <td>4</td>\n",
       "    </tr>\n",
       "    <tr>\n",
       "      <th>3</th>\n",
       "      <td>Haellysu29</td>\n",
       "      <td>12.73</td>\n",
       "      <td>3</td>\n",
       "    </tr>\n",
       "    <tr>\n",
       "      <th>4</th>\n",
       "      <td>Eoda93</td>\n",
       "      <td>11.58</td>\n",
       "      <td>3</td>\n",
       "    </tr>\n",
       "  </tbody>\n",
       "</table>\n",
       "</div>"
      ],
      "text/plain": [
       "            SN  Price_x  Price_y\n",
       "0  Undirrala66    17.06        5\n",
       "1     Saedue76    13.56        4\n",
       "2  Mindimnya67    12.74        4\n",
       "3   Haellysu29    12.73        3\n",
       "4       Eoda93    11.58        3"
      ]
     },
     "execution_count": 98,
     "metadata": {},
     "output_type": "execute_result"
    }
   ],
   "source": [
    "# Merge tables\n",
    "Top_5_Merge = pd.merge(Top_5_Spenders, Top_5_Count, on = 'SN')\n",
    "Top_5_Merge.head()"
   ]
  },
  {
   "cell_type": "code",
   "execution_count": 99,
   "metadata": {},
   "outputs": [
    {
     "data": {
      "text/html": [
       "<div>\n",
       "<style>\n",
       "    .dataframe thead tr:only-child th {\n",
       "        text-align: right;\n",
       "    }\n",
       "\n",
       "    .dataframe thead th {\n",
       "        text-align: left;\n",
       "    }\n",
       "\n",
       "    .dataframe tbody tr th {\n",
       "        vertical-align: top;\n",
       "    }\n",
       "</style>\n",
       "<table border=\"1\" class=\"dataframe\">\n",
       "  <thead>\n",
       "    <tr style=\"text-align: right;\">\n",
       "      <th></th>\n",
       "      <th>SN</th>\n",
       "      <th>Price_x</th>\n",
       "      <th>Price_y</th>\n",
       "      <th>Price</th>\n",
       "    </tr>\n",
       "  </thead>\n",
       "  <tbody>\n",
       "    <tr>\n",
       "      <th>0</th>\n",
       "      <td>Undirrala66</td>\n",
       "      <td>17.06</td>\n",
       "      <td>5</td>\n",
       "      <td>3.412000</td>\n",
       "    </tr>\n",
       "    <tr>\n",
       "      <th>1</th>\n",
       "      <td>Saedue76</td>\n",
       "      <td>13.56</td>\n",
       "      <td>4</td>\n",
       "      <td>3.390000</td>\n",
       "    </tr>\n",
       "    <tr>\n",
       "      <th>2</th>\n",
       "      <td>Mindimnya67</td>\n",
       "      <td>12.74</td>\n",
       "      <td>4</td>\n",
       "      <td>3.185000</td>\n",
       "    </tr>\n",
       "    <tr>\n",
       "      <th>3</th>\n",
       "      <td>Haellysu29</td>\n",
       "      <td>12.73</td>\n",
       "      <td>3</td>\n",
       "      <td>4.243333</td>\n",
       "    </tr>\n",
       "    <tr>\n",
       "      <th>4</th>\n",
       "      <td>Eoda93</td>\n",
       "      <td>11.58</td>\n",
       "      <td>3</td>\n",
       "      <td>3.860000</td>\n",
       "    </tr>\n",
       "  </tbody>\n",
       "</table>\n",
       "</div>"
      ],
      "text/plain": [
       "            SN  Price_x  Price_y     Price\n",
       "0  Undirrala66    17.06        5  3.412000\n",
       "1     Saedue76    13.56        4  3.390000\n",
       "2  Mindimnya67    12.74        4  3.185000\n",
       "3   Haellysu29    12.73        3  4.243333\n",
       "4       Eoda93    11.58        3  3.860000"
      ]
     },
     "execution_count": 99,
     "metadata": {},
     "output_type": "execute_result"
    }
   ],
   "source": [
    "# Merge Avg Price with newly merged table\n",
    "Top_5_Merge_Updated = pd.merge(Top_5_Merge, Top_5_Avg, on = 'SN')\n",
    "Top_5_Merge_Updated.head()"
   ]
  },
  {
   "cell_type": "code",
   "execution_count": 100,
   "metadata": {
    "collapsed": true
   },
   "outputs": [],
   "source": [
    "# Fix Column names -----------------------\n",
    "\n",
    "Top_5_Final = Top_5_Merge_Updated.rename(columns={'SN':'SN',\n",
    "                                  'Price_x':'Total_Purchase_Value',\n",
    "                                   'Price_y': 'Purhcase_Count',\n",
    "                                   'Price': 'Avg_Purchase_Price'})\n",
    "Top_5_Final = Top_5_Final[['SN',\n",
    "                          'Purhcase_Count',\n",
    "                          'Avg_Purchase_Price',\n",
    "                          'Total_Purchase_Value']]\n",
    "Top_5_Final = Top_5_Final.round(2)"
   ]
  },
  {
   "cell_type": "markdown",
   "metadata": {},
   "source": [
    "** Top Spenders Data Frame**"
   ]
  },
  {
   "cell_type": "code",
   "execution_count": 101,
   "metadata": {},
   "outputs": [
    {
     "data": {
      "text/html": [
       "<div>\n",
       "<style>\n",
       "    .dataframe thead tr:only-child th {\n",
       "        text-align: right;\n",
       "    }\n",
       "\n",
       "    .dataframe thead th {\n",
       "        text-align: left;\n",
       "    }\n",
       "\n",
       "    .dataframe tbody tr th {\n",
       "        vertical-align: top;\n",
       "    }\n",
       "</style>\n",
       "<table border=\"1\" class=\"dataframe\">\n",
       "  <thead>\n",
       "    <tr style=\"text-align: right;\">\n",
       "      <th></th>\n",
       "      <th>Purhcase_Count</th>\n",
       "      <th>Avg_Purchase_Price</th>\n",
       "      <th>Total_Purchase_Value</th>\n",
       "    </tr>\n",
       "    <tr>\n",
       "      <th>SN</th>\n",
       "      <th></th>\n",
       "      <th></th>\n",
       "      <th></th>\n",
       "    </tr>\n",
       "  </thead>\n",
       "  <tbody>\n",
       "    <tr>\n",
       "      <th>Undirrala66</th>\n",
       "      <td>5</td>\n",
       "      <td>3.41</td>\n",
       "      <td>17.06</td>\n",
       "    </tr>\n",
       "    <tr>\n",
       "      <th>Saedue76</th>\n",
       "      <td>4</td>\n",
       "      <td>3.39</td>\n",
       "      <td>13.56</td>\n",
       "    </tr>\n",
       "    <tr>\n",
       "      <th>Mindimnya67</th>\n",
       "      <td>4</td>\n",
       "      <td>3.18</td>\n",
       "      <td>12.74</td>\n",
       "    </tr>\n",
       "    <tr>\n",
       "      <th>Haellysu29</th>\n",
       "      <td>3</td>\n",
       "      <td>4.24</td>\n",
       "      <td>12.73</td>\n",
       "    </tr>\n",
       "    <tr>\n",
       "      <th>Eoda93</th>\n",
       "      <td>3</td>\n",
       "      <td>3.86</td>\n",
       "      <td>11.58</td>\n",
       "    </tr>\n",
       "  </tbody>\n",
       "</table>\n",
       "</div>"
      ],
      "text/plain": [
       "             Purhcase_Count  Avg_Purchase_Price  Total_Purchase_Value\n",
       "SN                                                                   \n",
       "Undirrala66               5                3.41                 17.06\n",
       "Saedue76                  4                3.39                 13.56\n",
       "Mindimnya67               4                3.18                 12.74\n",
       "Haellysu29                3                4.24                 12.73\n",
       "Eoda93                    3                3.86                 11.58"
      ]
     },
     "execution_count": 101,
     "metadata": {},
     "output_type": "execute_result"
    }
   ],
   "source": [
    "Top_5_Final.set_index('SN').head()"
   ]
  },
  {
   "cell_type": "markdown",
   "metadata": {},
   "source": [
    "** Most Popular Items **\n",
    "\n",
    "* Identify the 5 most popular items by purchase count, then list (in a table):\n",
    "    * Item ID\n",
    "    * Item Name\n",
    "    * Purchase Count\n",
    "    * Item Price\n",
    "    * Total Purchase Value"
   ]
  },
  {
   "cell_type": "markdown",
   "metadata": {},
   "source": [
    "** Popular Items **"
   ]
  },
  {
   "cell_type": "code",
   "execution_count": 102,
   "metadata": {},
   "outputs": [
    {
     "data": {
      "text/html": [
       "<div>\n",
       "<style>\n",
       "    .dataframe thead tr:only-child th {\n",
       "        text-align: right;\n",
       "    }\n",
       "\n",
       "    .dataframe thead th {\n",
       "        text-align: left;\n",
       "    }\n",
       "\n",
       "    .dataframe tbody tr th {\n",
       "        vertical-align: top;\n",
       "    }\n",
       "</style>\n",
       "<table border=\"1\" class=\"dataframe\">\n",
       "  <thead>\n",
       "    <tr style=\"text-align: right;\">\n",
       "      <th></th>\n",
       "      <th>Item Name</th>\n",
       "      <th>Purchase_Count</th>\n",
       "    </tr>\n",
       "  </thead>\n",
       "  <tbody>\n",
       "    <tr>\n",
       "      <th>0</th>\n",
       "      <td>Final Critic</td>\n",
       "      <td>13</td>\n",
       "    </tr>\n",
       "    <tr>\n",
       "      <th>1</th>\n",
       "      <td>Betrayal, Whisper of Grieving Widows</td>\n",
       "      <td>11</td>\n",
       "    </tr>\n",
       "    <tr>\n",
       "      <th>2</th>\n",
       "      <td>Stormcaller</td>\n",
       "      <td>10</td>\n",
       "    </tr>\n",
       "    <tr>\n",
       "      <th>3</th>\n",
       "      <td>Arcane Gem</td>\n",
       "      <td>10</td>\n",
       "    </tr>\n",
       "    <tr>\n",
       "      <th>4</th>\n",
       "      <td>Serenity</td>\n",
       "      <td>9</td>\n",
       "    </tr>\n",
       "  </tbody>\n",
       "</table>\n",
       "</div>"
      ],
      "text/plain": [
       "                              Item Name  Purchase_Count\n",
       "0                          Final Critic              13\n",
       "1  Betrayal, Whisper of Grieving Widows              11\n",
       "2                           Stormcaller              10\n",
       "3                            Arcane Gem              10\n",
       "4                              Serenity               9"
      ]
     },
     "execution_count": 102,
     "metadata": {},
     "output_type": "execute_result"
    }
   ],
   "source": [
    "# Create Data Frame for \"Item Name\" to get purchase count\n",
    "Item_count = pd.DataFrame(CLEAN_PURCHASE_DATA['Item Name'].value_counts())\n",
    "Item_count.reset_index(inplace=True)\n",
    "Item_count.columns = ['Item Name', 'Purchase_Count']\n",
    "Item_count = Item_count.sort_values(['Purchase_Count'],ascending=False)\n",
    "Item_count.head()"
   ]
  },
  {
   "cell_type": "code",
   "execution_count": 103,
   "metadata": {},
   "outputs": [
    {
     "data": {
      "text/html": [
       "<div>\n",
       "<style>\n",
       "    .dataframe thead tr:only-child th {\n",
       "        text-align: right;\n",
       "    }\n",
       "\n",
       "    .dataframe thead th {\n",
       "        text-align: left;\n",
       "    }\n",
       "\n",
       "    .dataframe tbody tr th {\n",
       "        vertical-align: top;\n",
       "    }\n",
       "</style>\n",
       "<table border=\"1\" class=\"dataframe\">\n",
       "  <thead>\n",
       "    <tr style=\"text-align: right;\">\n",
       "      <th></th>\n",
       "      <th>Item Name</th>\n",
       "      <th>Price</th>\n",
       "    </tr>\n",
       "  </thead>\n",
       "  <tbody>\n",
       "    <tr>\n",
       "      <th>112</th>\n",
       "      <td>Retribution Axe</td>\n",
       "      <td>37.26</td>\n",
       "    </tr>\n",
       "    <tr>\n",
       "      <th>56</th>\n",
       "      <td>Final Critic</td>\n",
       "      <td>37.24</td>\n",
       "    </tr>\n",
       "    <tr>\n",
       "      <th>137</th>\n",
       "      <td>Stormcaller</td>\n",
       "      <td>34.65</td>\n",
       "    </tr>\n",
       "    <tr>\n",
       "      <th>132</th>\n",
       "      <td>Spectral Diamond Doomblade</td>\n",
       "      <td>29.75</td>\n",
       "    </tr>\n",
       "    <tr>\n",
       "      <th>96</th>\n",
       "      <td>Orenmir</td>\n",
       "      <td>29.70</td>\n",
       "    </tr>\n",
       "  </tbody>\n",
       "</table>\n",
       "</div>"
      ],
      "text/plain": [
       "                      Item Name  Price\n",
       "112             Retribution Axe  37.26\n",
       "56                 Final Critic  37.24\n",
       "137                 Stormcaller  34.65\n",
       "132  Spectral Diamond Doomblade  29.75\n",
       "96                      Orenmir  29.70"
      ]
     },
     "execution_count": 103,
     "metadata": {},
     "output_type": "execute_result"
    }
   ],
   "source": [
    "# Item Name and Price Sum\n",
    "Most_Popular_Name_sum = pd.DataFrame(CLEAN_PURCHASE_DATA.groupby('Item Name')['Price'].sum())\n",
    "Most_Popular_Name_sum.reset_index(inplace=True)\n",
    "Most_Popular_Name_sum = Most_Popular_Name_sum.sort_values(['Price'], ascending=False)\n",
    "Most_Popular_Name_sum.head()"
   ]
  },
  {
   "cell_type": "code",
   "execution_count": 104,
   "metadata": {},
   "outputs": [
    {
     "data": {
      "text/html": [
       "<div>\n",
       "<style>\n",
       "    .dataframe thead tr:only-child th {\n",
       "        text-align: right;\n",
       "    }\n",
       "\n",
       "    .dataframe thead th {\n",
       "        text-align: left;\n",
       "    }\n",
       "\n",
       "    .dataframe tbody tr th {\n",
       "        vertical-align: top;\n",
       "    }\n",
       "</style>\n",
       "<table border=\"1\" class=\"dataframe\">\n",
       "  <thead>\n",
       "    <tr style=\"text-align: right;\">\n",
       "      <th></th>\n",
       "      <th>Item Name</th>\n",
       "      <th>Price</th>\n",
       "    </tr>\n",
       "  </thead>\n",
       "  <tbody>\n",
       "    <tr>\n",
       "      <th>56</th>\n",
       "      <td>Final Critic</td>\n",
       "      <td>13</td>\n",
       "    </tr>\n",
       "    <tr>\n",
       "      <th>11</th>\n",
       "      <td>Betrayal, Whisper of Grieving Widows</td>\n",
       "      <td>11</td>\n",
       "    </tr>\n",
       "    <tr>\n",
       "      <th>8</th>\n",
       "      <td>Arcane Gem</td>\n",
       "      <td>10</td>\n",
       "    </tr>\n",
       "    <tr>\n",
       "      <th>137</th>\n",
       "      <td>Stormcaller</td>\n",
       "      <td>10</td>\n",
       "    </tr>\n",
       "    <tr>\n",
       "      <th>173</th>\n",
       "      <td>Woeful Adamantite Claymore</td>\n",
       "      <td>9</td>\n",
       "    </tr>\n",
       "  </tbody>\n",
       "</table>\n",
       "</div>"
      ],
      "text/plain": [
       "                                Item Name  Price\n",
       "56                           Final Critic     13\n",
       "11   Betrayal, Whisper of Grieving Widows     11\n",
       "8                              Arcane Gem     10\n",
       "137                           Stormcaller     10\n",
       "173            Woeful Adamantite Claymore      9"
      ]
     },
     "execution_count": 104,
     "metadata": {},
     "output_type": "execute_result"
    }
   ],
   "source": [
    "# Item Name and Price Count\n",
    "Most_Popular_Name_count = pd.DataFrame(CLEAN_PURCHASE_DATA.groupby('Item Name')['Price'].count())\n",
    "Most_Popular_Name_count.reset_index(inplace=True)\n",
    "Most_Popular_Name_count = Most_Popular_Name_count.sort_values(['Price'], ascending=False)\n",
    "Most_Popular_Name_count.head()"
   ]
  },
  {
   "cell_type": "code",
   "execution_count": 105,
   "metadata": {
    "collapsed": true
   },
   "outputs": [],
   "source": [
    "# Merge Item Name Price Sum and Count\n",
    "Most_Popular_Name_Merge = pd.merge(Most_Popular_Name_sum, Most_Popular_Name_count, on = 'Item Name')"
   ]
  },
  {
   "cell_type": "code",
   "execution_count": 106,
   "metadata": {},
   "outputs": [
    {
     "data": {
      "text/html": [
       "<div>\n",
       "<style>\n",
       "    .dataframe thead tr:only-child th {\n",
       "        text-align: right;\n",
       "    }\n",
       "\n",
       "    .dataframe thead th {\n",
       "        text-align: left;\n",
       "    }\n",
       "\n",
       "    .dataframe tbody tr th {\n",
       "        vertical-align: top;\n",
       "    }\n",
       "</style>\n",
       "<table border=\"1\" class=\"dataframe\">\n",
       "  <thead>\n",
       "    <tr style=\"text-align: right;\">\n",
       "      <th></th>\n",
       "      <th>Item Name</th>\n",
       "      <th>Purchase_Count</th>\n",
       "      <th>Total_Purchase_Value</th>\n",
       "    </tr>\n",
       "  </thead>\n",
       "  <tbody>\n",
       "    <tr>\n",
       "      <th>0</th>\n",
       "      <td>Retribution Axe</td>\n",
       "      <td>9</td>\n",
       "      <td>37.26</td>\n",
       "    </tr>\n",
       "    <tr>\n",
       "      <th>1</th>\n",
       "      <td>Final Critic</td>\n",
       "      <td>13</td>\n",
       "      <td>37.24</td>\n",
       "    </tr>\n",
       "    <tr>\n",
       "      <th>2</th>\n",
       "      <td>Stormcaller</td>\n",
       "      <td>10</td>\n",
       "      <td>34.65</td>\n",
       "    </tr>\n",
       "    <tr>\n",
       "      <th>3</th>\n",
       "      <td>Spectral Diamond Doomblade</td>\n",
       "      <td>7</td>\n",
       "      <td>29.75</td>\n",
       "    </tr>\n",
       "    <tr>\n",
       "      <th>4</th>\n",
       "      <td>Orenmir</td>\n",
       "      <td>6</td>\n",
       "      <td>29.70</td>\n",
       "    </tr>\n",
       "  </tbody>\n",
       "</table>\n",
       "</div>"
      ],
      "text/plain": [
       "                    Item Name  Purchase_Count  Total_Purchase_Value\n",
       "0             Retribution Axe               9                 37.26\n",
       "1                Final Critic              13                 37.24\n",
       "2                 Stormcaller              10                 34.65\n",
       "3  Spectral Diamond Doomblade               7                 29.75\n",
       "4                     Orenmir               6                 29.70"
      ]
     },
     "execution_count": 106,
     "metadata": {},
     "output_type": "execute_result"
    }
   ],
   "source": [
    "# Fix Column names -----------------------\n",
    "\n",
    "Most_Popular_Name_Merge = Most_Popular_Name_Merge.rename(columns={'Item Name':'Item Name',\n",
    "                                  'Price_x':'Total_Purchase_Value',\n",
    "                                   'Price_y': 'Purchase_Count'})\n",
    "Most_Popular_Name_Merge = Most_Popular_Name_Merge[['Item Name',\n",
    "                          'Purchase_Count',\n",
    "                          'Total_Purchase_Value']]\n",
    "Most_Popular_Name_Merge = Most_Popular_Name_Merge.round(2)\n",
    "Most_Popular_Name_Merge.head()"
   ]
  },
  {
   "cell_type": "markdown",
   "metadata": {},
   "source": [
    "** Most popular items listed by Item ID, Total Purchase Value & Purchase Count **"
   ]
  },
  {
   "cell_type": "code",
   "execution_count": 107,
   "metadata": {},
   "outputs": [
    {
     "data": {
      "text/html": [
       "<div>\n",
       "<style>\n",
       "    .dataframe thead tr:only-child th {\n",
       "        text-align: right;\n",
       "    }\n",
       "\n",
       "    .dataframe thead th {\n",
       "        text-align: left;\n",
       "    }\n",
       "\n",
       "    .dataframe tbody tr th {\n",
       "        vertical-align: top;\n",
       "    }\n",
       "</style>\n",
       "<table border=\"1\" class=\"dataframe\">\n",
       "  <thead>\n",
       "    <tr style=\"text-align: right;\">\n",
       "      <th></th>\n",
       "      <th>Item ID</th>\n",
       "      <th>Price</th>\n",
       "    </tr>\n",
       "  </thead>\n",
       "  <tbody>\n",
       "    <tr>\n",
       "      <th>34</th>\n",
       "      <td>34</td>\n",
       "      <td>37.26</td>\n",
       "    </tr>\n",
       "    <tr>\n",
       "      <th>115</th>\n",
       "      <td>115</td>\n",
       "      <td>29.75</td>\n",
       "    </tr>\n",
       "    <tr>\n",
       "      <th>32</th>\n",
       "      <td>32</td>\n",
       "      <td>29.70</td>\n",
       "    </tr>\n",
       "    <tr>\n",
       "      <th>103</th>\n",
       "      <td>103</td>\n",
       "      <td>29.22</td>\n",
       "    </tr>\n",
       "    <tr>\n",
       "      <th>107</th>\n",
       "      <td>107</td>\n",
       "      <td>28.88</td>\n",
       "    </tr>\n",
       "  </tbody>\n",
       "</table>\n",
       "</div>"
      ],
      "text/plain": [
       "     Item ID  Price\n",
       "34        34  37.26\n",
       "115      115  29.75\n",
       "32        32  29.70\n",
       "103      103  29.22\n",
       "107      107  28.88"
      ]
     },
     "execution_count": 107,
     "metadata": {},
     "output_type": "execute_result"
    }
   ],
   "source": [
    "# Item ID and Price Sum\n",
    "Most_Popular_ID_sum = pd.DataFrame(CLEAN_PURCHASE_DATA.groupby('Item ID')['Price'].sum())\n",
    "Most_Popular_ID_sum.reset_index(inplace=True)\n",
    "Most_Popular_ID_sum = Most_Popular_ID_sum.sort_values(['Price'], ascending=False)\n",
    "Most_Popular_ID_sum.head()"
   ]
  },
  {
   "cell_type": "code",
   "execution_count": 108,
   "metadata": {},
   "outputs": [
    {
     "data": {
      "text/html": [
       "<div>\n",
       "<style>\n",
       "    .dataframe thead tr:only-child th {\n",
       "        text-align: right;\n",
       "    }\n",
       "\n",
       "    .dataframe thead th {\n",
       "        text-align: left;\n",
       "    }\n",
       "\n",
       "    .dataframe tbody tr th {\n",
       "        vertical-align: top;\n",
       "    }\n",
       "</style>\n",
       "<table border=\"1\" class=\"dataframe\">\n",
       "  <thead>\n",
       "    <tr style=\"text-align: right;\">\n",
       "      <th></th>\n",
       "      <th>Item ID</th>\n",
       "      <th>Price</th>\n",
       "    </tr>\n",
       "  </thead>\n",
       "  <tbody>\n",
       "    <tr>\n",
       "      <th>39</th>\n",
       "      <td>39</td>\n",
       "      <td>11</td>\n",
       "    </tr>\n",
       "    <tr>\n",
       "      <th>84</th>\n",
       "      <td>84</td>\n",
       "      <td>10</td>\n",
       "    </tr>\n",
       "    <tr>\n",
       "      <th>31</th>\n",
       "      <td>31</td>\n",
       "      <td>9</td>\n",
       "    </tr>\n",
       "    <tr>\n",
       "      <th>174</th>\n",
       "      <td>175</td>\n",
       "      <td>9</td>\n",
       "    </tr>\n",
       "    <tr>\n",
       "      <th>13</th>\n",
       "      <td>13</td>\n",
       "      <td>9</td>\n",
       "    </tr>\n",
       "  </tbody>\n",
       "</table>\n",
       "</div>"
      ],
      "text/plain": [
       "     Item ID  Price\n",
       "39        39     11\n",
       "84        84     10\n",
       "31        31      9\n",
       "174      175      9\n",
       "13        13      9"
      ]
     },
     "execution_count": 108,
     "metadata": {},
     "output_type": "execute_result"
    }
   ],
   "source": [
    "# Item ID and Price Count \n",
    "Most_Popular_ID_count = pd.DataFrame(CLEAN_PURCHASE_DATA.groupby('Item ID')['Price'].count())\n",
    "Most_Popular_ID_count.reset_index(inplace=True)\n",
    "Most_Popular_ID_count = Most_Popular_ID_count.sort_values(['Price'], ascending=False)\n",
    "Most_Popular_ID_count.head()"
   ]
  },
  {
   "cell_type": "code",
   "execution_count": 109,
   "metadata": {
    "collapsed": true
   },
   "outputs": [],
   "source": [
    "# Merge Item ID Price Sum and Count\n",
    "Most_Popular_ID_Merge = pd.merge(Most_Popular_ID_sum, Most_Popular_ID_count, on = 'Item ID')"
   ]
  },
  {
   "cell_type": "code",
   "execution_count": 110,
   "metadata": {},
   "outputs": [
    {
     "data": {
      "text/html": [
       "<div>\n",
       "<style>\n",
       "    .dataframe thead tr:only-child th {\n",
       "        text-align: right;\n",
       "    }\n",
       "\n",
       "    .dataframe thead th {\n",
       "        text-align: left;\n",
       "    }\n",
       "\n",
       "    .dataframe tbody tr th {\n",
       "        vertical-align: top;\n",
       "    }\n",
       "</style>\n",
       "<table border=\"1\" class=\"dataframe\">\n",
       "  <thead>\n",
       "    <tr style=\"text-align: right;\">\n",
       "      <th></th>\n",
       "      <th>Item ID</th>\n",
       "      <th>Purchase_Count</th>\n",
       "      <th>Total_Purchase_Value</th>\n",
       "    </tr>\n",
       "  </thead>\n",
       "  <tbody>\n",
       "    <tr>\n",
       "      <th>0</th>\n",
       "      <td>34</td>\n",
       "      <td>9</td>\n",
       "      <td>37.26</td>\n",
       "    </tr>\n",
       "    <tr>\n",
       "      <th>1</th>\n",
       "      <td>115</td>\n",
       "      <td>7</td>\n",
       "      <td>29.75</td>\n",
       "    </tr>\n",
       "    <tr>\n",
       "      <th>2</th>\n",
       "      <td>32</td>\n",
       "      <td>6</td>\n",
       "      <td>29.70</td>\n",
       "    </tr>\n",
       "    <tr>\n",
       "      <th>3</th>\n",
       "      <td>103</td>\n",
       "      <td>6</td>\n",
       "      <td>29.22</td>\n",
       "    </tr>\n",
       "    <tr>\n",
       "      <th>4</th>\n",
       "      <td>107</td>\n",
       "      <td>8</td>\n",
       "      <td>28.88</td>\n",
       "    </tr>\n",
       "  </tbody>\n",
       "</table>\n",
       "</div>"
      ],
      "text/plain": [
       "   Item ID  Purchase_Count  Total_Purchase_Value\n",
       "0       34               9                 37.26\n",
       "1      115               7                 29.75\n",
       "2       32               6                 29.70\n",
       "3      103               6                 29.22\n",
       "4      107               8                 28.88"
      ]
     },
     "execution_count": 110,
     "metadata": {},
     "output_type": "execute_result"
    }
   ],
   "source": [
    "# Fix Column names -----------------------\n",
    "\n",
    "Most_Popular_ID_Merge = Most_Popular_ID_Merge.rename(columns={'Item ID':'Item ID',\n",
    "                                  'Price_x':'Total_Purchase_Value',\n",
    "                                   'Price_y': 'Purchase_Count'})\n",
    "Most_Popular_ID_Merge = Most_Popular_ID_Merge[['Item ID',\n",
    "                          'Purchase_Count',\n",
    "                          'Total_Purchase_Value']]\n",
    "Most_Popular_ID_Merge = Most_Popular_ID_Merge.round(2)\n",
    "Most_Popular_ID_Merge.head()"
   ]
  },
  {
   "cell_type": "code",
   "execution_count": 111,
   "metadata": {
    "collapsed": true
   },
   "outputs": [],
   "source": [
    "# Create new DF with Item ID, Item Name and Price\n",
    "\n",
    "Item_ID_Name_Price = pd.DataFrame(CLEAN_PURCHASE_DATA[['Item ID',\n",
    "                                                      'Item Name',\n",
    "                                                      'Price']])"
   ]
  },
  {
   "cell_type": "code",
   "execution_count": 112,
   "metadata": {},
   "outputs": [
    {
     "data": {
      "text/html": [
       "<div>\n",
       "<style>\n",
       "    .dataframe thead tr:only-child th {\n",
       "        text-align: right;\n",
       "    }\n",
       "\n",
       "    .dataframe thead th {\n",
       "        text-align: left;\n",
       "    }\n",
       "\n",
       "    .dataframe tbody tr th {\n",
       "        vertical-align: top;\n",
       "    }\n",
       "</style>\n",
       "<table border=\"1\" class=\"dataframe\">\n",
       "  <thead>\n",
       "    <tr style=\"text-align: right;\">\n",
       "      <th></th>\n",
       "      <th>Item ID</th>\n",
       "      <th>Item Name</th>\n",
       "      <th>Price</th>\n",
       "      <th>Purchase_Count</th>\n",
       "      <th>Total_Purchase_Value</th>\n",
       "    </tr>\n",
       "  </thead>\n",
       "  <tbody>\n",
       "    <tr>\n",
       "      <th>262</th>\n",
       "      <td>39</td>\n",
       "      <td>Betrayal, Whisper of Grieving Widows</td>\n",
       "      <td>2.35</td>\n",
       "      <td>11</td>\n",
       "      <td>25.85</td>\n",
       "    </tr>\n",
       "    <tr>\n",
       "      <th>261</th>\n",
       "      <td>39</td>\n",
       "      <td>Betrayal, Whisper of Grieving Widows</td>\n",
       "      <td>2.35</td>\n",
       "      <td>11</td>\n",
       "      <td>25.85</td>\n",
       "    </tr>\n",
       "    <tr>\n",
       "      <th>260</th>\n",
       "      <td>39</td>\n",
       "      <td>Betrayal, Whisper of Grieving Widows</td>\n",
       "      <td>2.35</td>\n",
       "      <td>11</td>\n",
       "      <td>25.85</td>\n",
       "    </tr>\n",
       "    <tr>\n",
       "      <th>259</th>\n",
       "      <td>39</td>\n",
       "      <td>Betrayal, Whisper of Grieving Widows</td>\n",
       "      <td>2.35</td>\n",
       "      <td>11</td>\n",
       "      <td>25.85</td>\n",
       "    </tr>\n",
       "    <tr>\n",
       "      <th>264</th>\n",
       "      <td>39</td>\n",
       "      <td>Betrayal, Whisper of Grieving Widows</td>\n",
       "      <td>2.35</td>\n",
       "      <td>11</td>\n",
       "      <td>25.85</td>\n",
       "    </tr>\n",
       "  </tbody>\n",
       "</table>\n",
       "</div>"
      ],
      "text/plain": [
       "     Item ID                             Item Name  Price  Purchase_Count  \\\n",
       "262       39  Betrayal, Whisper of Grieving Widows   2.35              11   \n",
       "261       39  Betrayal, Whisper of Grieving Widows   2.35              11   \n",
       "260       39  Betrayal, Whisper of Grieving Widows   2.35              11   \n",
       "259       39  Betrayal, Whisper of Grieving Widows   2.35              11   \n",
       "264       39  Betrayal, Whisper of Grieving Widows   2.35              11   \n",
       "\n",
       "     Total_Purchase_Value  \n",
       "262                 25.85  \n",
       "261                 25.85  \n",
       "260                 25.85  \n",
       "259                 25.85  \n",
       "264                 25.85  "
      ]
     },
     "execution_count": 112,
     "metadata": {},
     "output_type": "execute_result"
    }
   ],
   "source": [
    "# Merge with Most Popular ID Merge\n",
    "\n",
    "Item_ID_Name_Price_Merge = pd.merge(Item_ID_Name_Price,\n",
    "                                    Most_Popular_ID_Merge, on = \"Item ID\")\n",
    "Item_ID_Name_Price_Merge = Item_ID_Name_Price_Merge.sort_values(['Purchase_Count'], ascending=False)\n",
    "Item_ID_Name_Price_Merge.head()"
   ]
  },
  {
   "cell_type": "code",
   "execution_count": 113,
   "metadata": {},
   "outputs": [
    {
     "data": {
      "text/html": [
       "<div>\n",
       "<style>\n",
       "    .dataframe thead tr:only-child th {\n",
       "        text-align: right;\n",
       "    }\n",
       "\n",
       "    .dataframe thead th {\n",
       "        text-align: left;\n",
       "    }\n",
       "\n",
       "    .dataframe tbody tr th {\n",
       "        vertical-align: top;\n",
       "    }\n",
       "</style>\n",
       "<table border=\"1\" class=\"dataframe\">\n",
       "  <thead>\n",
       "    <tr style=\"text-align: right;\">\n",
       "      <th></th>\n",
       "      <th>Item ID</th>\n",
       "      <th>Item Name</th>\n",
       "      <th>Price</th>\n",
       "      <th>Purchase_Count</th>\n",
       "      <th>Total_Purchase_Value</th>\n",
       "    </tr>\n",
       "  </thead>\n",
       "  <tbody>\n",
       "    <tr>\n",
       "      <th>262</th>\n",
       "      <td>39</td>\n",
       "      <td>Betrayal, Whisper of Grieving Widows</td>\n",
       "      <td>2.35</td>\n",
       "      <td>11</td>\n",
       "      <td>25.85</td>\n",
       "    </tr>\n",
       "    <tr>\n",
       "      <th>434</th>\n",
       "      <td>84</td>\n",
       "      <td>Arcane Gem</td>\n",
       "      <td>2.23</td>\n",
       "      <td>10</td>\n",
       "      <td>22.30</td>\n",
       "    </tr>\n",
       "    <tr>\n",
       "      <th>337</th>\n",
       "      <td>175</td>\n",
       "      <td>Woeful Adamantite Claymore</td>\n",
       "      <td>1.24</td>\n",
       "      <td>9</td>\n",
       "      <td>11.16</td>\n",
       "    </tr>\n",
       "    <tr>\n",
       "      <th>159</th>\n",
       "      <td>13</td>\n",
       "      <td>Serenity</td>\n",
       "      <td>1.49</td>\n",
       "      <td>9</td>\n",
       "      <td>13.41</td>\n",
       "    </tr>\n",
       "    <tr>\n",
       "      <th>236</th>\n",
       "      <td>31</td>\n",
       "      <td>Trickster</td>\n",
       "      <td>2.07</td>\n",
       "      <td>9</td>\n",
       "      <td>18.63</td>\n",
       "    </tr>\n",
       "  </tbody>\n",
       "</table>\n",
       "</div>"
      ],
      "text/plain": [
       "     Item ID                             Item Name  Price  Purchase_Count  \\\n",
       "262       39  Betrayal, Whisper of Grieving Widows   2.35              11   \n",
       "434       84                            Arcane Gem   2.23              10   \n",
       "337      175            Woeful Adamantite Claymore   1.24               9   \n",
       "159       13                              Serenity   1.49               9   \n",
       "236       31                             Trickster   2.07               9   \n",
       "\n",
       "     Total_Purchase_Value  \n",
       "262                 25.85  \n",
       "434                 22.30  \n",
       "337                 11.16  \n",
       "159                 13.41  \n",
       "236                 18.63  "
      ]
     },
     "execution_count": 113,
     "metadata": {},
     "output_type": "execute_result"
    }
   ],
   "source": [
    "# Drop Duplicates in Item_ID_Name_Price_Merge\n",
    "ItemID_NamePrice_CLEAN = Item_ID_Name_Price_Merge.drop_duplicates()\n",
    "ItemID_NamePrice_CLEAN.head()"
   ]
  },
  {
   "cell_type": "markdown",
   "metadata": {},
   "source": [
    "** Most Profitable Items **\n",
    "\n",
    "* Identify the 5 most profitable items by total purchase value, then list (in a table):\n",
    "    * Item ID\n",
    "    * Item Name\n",
    "    * Purchase Count\n",
    "    * Item Price\n",
    "    * Total Purchase Value\n",
    "    \n",
    "** Most Profitable Items Data Frame**"
   ]
  },
  {
   "cell_type": "code",
   "execution_count": 114,
   "metadata": {},
   "outputs": [
    {
     "data": {
      "text/html": [
       "<div>\n",
       "<style>\n",
       "    .dataframe thead tr:only-child th {\n",
       "        text-align: right;\n",
       "    }\n",
       "\n",
       "    .dataframe thead th {\n",
       "        text-align: left;\n",
       "    }\n",
       "\n",
       "    .dataframe tbody tr th {\n",
       "        vertical-align: top;\n",
       "    }\n",
       "</style>\n",
       "<table border=\"1\" class=\"dataframe\">\n",
       "  <thead>\n",
       "    <tr style=\"text-align: right;\">\n",
       "      <th></th>\n",
       "      <th>Item ID</th>\n",
       "      <th>Item Name</th>\n",
       "      <th>Price</th>\n",
       "      <th>Purchase_Count</th>\n",
       "      <th>Total_Purchase_Value</th>\n",
       "    </tr>\n",
       "  </thead>\n",
       "  <tbody>\n",
       "    <tr>\n",
       "      <th>253</th>\n",
       "      <td>34</td>\n",
       "      <td>Retribution Axe</td>\n",
       "      <td>4.14</td>\n",
       "      <td>9</td>\n",
       "      <td>37.26</td>\n",
       "    </tr>\n",
       "    <tr>\n",
       "      <th>416</th>\n",
       "      <td>115</td>\n",
       "      <td>Spectral Diamond Doomblade</td>\n",
       "      <td>4.25</td>\n",
       "      <td>7</td>\n",
       "      <td>29.75</td>\n",
       "    </tr>\n",
       "    <tr>\n",
       "      <th>217</th>\n",
       "      <td>32</td>\n",
       "      <td>Orenmir</td>\n",
       "      <td>4.95</td>\n",
       "      <td>6</td>\n",
       "      <td>29.70</td>\n",
       "    </tr>\n",
       "    <tr>\n",
       "      <th>389</th>\n",
       "      <td>103</td>\n",
       "      <td>Singed Scalpel</td>\n",
       "      <td>4.87</td>\n",
       "      <td>6</td>\n",
       "      <td>29.22</td>\n",
       "    </tr>\n",
       "    <tr>\n",
       "      <th>529</th>\n",
       "      <td>107</td>\n",
       "      <td>Splitter, Foe Of Subtlety</td>\n",
       "      <td>3.61</td>\n",
       "      <td>8</td>\n",
       "      <td>28.88</td>\n",
       "    </tr>\n",
       "  </tbody>\n",
       "</table>\n",
       "</div>"
      ],
      "text/plain": [
       "     Item ID                   Item Name  Price  Purchase_Count  \\\n",
       "253       34             Retribution Axe   4.14               9   \n",
       "416      115  Spectral Diamond Doomblade   4.25               7   \n",
       "217       32                     Orenmir   4.95               6   \n",
       "389      103              Singed Scalpel   4.87               6   \n",
       "529      107   Splitter, Foe Of Subtlety   3.61               8   \n",
       "\n",
       "     Total_Purchase_Value  \n",
       "253                 37.26  \n",
       "416                 29.75  \n",
       "217                 29.70  \n",
       "389                 29.22  \n",
       "529                 28.88  "
      ]
     },
     "execution_count": 114,
     "metadata": {},
     "output_type": "execute_result"
    }
   ],
   "source": [
    "ItemID_NamePrice_CLEAN = ItemID_NamePrice_CLEAN.sort_values(['Total_Purchase_Value'], ascending=False)\n",
    "ItemID_NamePrice_CLEAN.head()"
   ]
  },
  {
   "cell_type": "code",
   "execution_count": null,
   "metadata": {
    "collapsed": true
   },
   "outputs": [],
   "source": []
  }
 ],
 "metadata": {
  "kernelspec": {
   "display_name": "Python 3",
   "language": "python",
   "name": "python3"
  },
  "language_info": {
   "codemirror_mode": {
    "name": "ipython",
    "version": 3
   },
   "file_extension": ".py",
   "mimetype": "text/x-python",
   "name": "python",
   "nbconvert_exporter": "python",
   "pygments_lexer": "ipython3",
   "version": "3.6.4"
  }
 },
 "nbformat": 4,
 "nbformat_minor": 2
}
